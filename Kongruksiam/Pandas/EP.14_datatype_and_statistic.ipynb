{
 "cells": [
  {
   "cell_type": "code",
   "execution_count": 2,
   "metadata": {},
   "outputs": [],
   "source": [
    "import pandas as pd\n",
    "import numpy as np\n",
    "# pd.dtypes(df)\n",
    "    # Object    = ชุดข้อความ\n",
    "    # int64     = integer\n",
    "    # float64   = float\n",
    "    # bool      = boolean\n",
    "    # date64    = datetime\n",
    "    # timedelta[ns] = ความต่างของช่วงเวลา\n",
    "    # category  = list ข้อความ \n",
    "\n",
    "# การหาค่าทางสถิติ\n",
    "    # max()\n",
    "    # min()\n",
    "    # mean()\n",
    "    # count()   = นับจำนวนข้อมูลทั้งหมด\n",
    "    # std()     = ส่วนเบี่ยงเบนมาตรฐาน \n",
    "    # sum()\n"
   ]
  },
  {
   "cell_type": "code",
   "execution_count": 4,
   "metadata": {},
   "outputs": [
    {
     "data": {
      "text/html": [
       "<div>\n",
       "<style scoped>\n",
       "    .dataframe tbody tr th:only-of-type {\n",
       "        vertical-align: middle;\n",
       "    }\n",
       "\n",
       "    .dataframe tbody tr th {\n",
       "        vertical-align: top;\n",
       "    }\n",
       "\n",
       "    .dataframe thead th {\n",
       "        text-align: right;\n",
       "    }\n",
       "</style>\n",
       "<table border=\"1\" class=\"dataframe\">\n",
       "  <thead>\n",
       "    <tr style=\"text-align: right;\">\n",
       "      <th></th>\n",
       "      <th>date</th>\n",
       "      <th>open</th>\n",
       "      <th>high</th>\n",
       "      <th>low</th>\n",
       "      <th>close</th>\n",
       "      <th>change</th>\n",
       "      <th>change_percent</th>\n",
       "      <th>weight_price</th>\n",
       "      <th>turnover_volume</th>\n",
       "      <th>turnover_value</th>\n",
       "      <th>open_interest</th>\n",
       "      <th>delivery_side</th>\n",
       "      <th>delivery_volume</th>\n",
       "    </tr>\n",
       "    <tr>\n",
       "      <th>commodity</th>\n",
       "      <th></th>\n",
       "      <th></th>\n",
       "      <th></th>\n",
       "      <th></th>\n",
       "      <th></th>\n",
       "      <th></th>\n",
       "      <th></th>\n",
       "      <th></th>\n",
       "      <th></th>\n",
       "      <th></th>\n",
       "      <th></th>\n",
       "      <th></th>\n",
       "      <th></th>\n",
       "    </tr>\n",
       "  </thead>\n",
       "  <tbody>\n",
       "    <tr>\n",
       "      <th>AG9999</th>\n",
       "      <td>2017-12-28</td>\n",
       "      <td>3806.0</td>\n",
       "      <td>3806.0</td>\n",
       "      <td>3806.0</td>\n",
       "      <td>3806.0</td>\n",
       "      <td>40.0</td>\n",
       "      <td>0.0106</td>\n",
       "      <td>3806.0</td>\n",
       "      <td>600</td>\n",
       "      <td>2283600</td>\n",
       "      <td>40.0</td>\n",
       "      <td>NaN</td>\n",
       "      <td>NaN</td>\n",
       "    </tr>\n",
       "    <tr>\n",
       "      <th>AG9999</th>\n",
       "      <td>2017-12-27</td>\n",
       "      <td>3766.0</td>\n",
       "      <td>3766.0</td>\n",
       "      <td>3766.0</td>\n",
       "      <td>3766.0</td>\n",
       "      <td>6.0</td>\n",
       "      <td>0.0016</td>\n",
       "      <td>3766.0</td>\n",
       "      <td>270</td>\n",
       "      <td>1016820</td>\n",
       "      <td>18.0</td>\n",
       "      <td>NaN</td>\n",
       "      <td>NaN</td>\n",
       "    </tr>\n",
       "    <tr>\n",
       "      <th>AG9999</th>\n",
       "      <td>2017-12-26</td>\n",
       "      <td>3760.0</td>\n",
       "      <td>3760.0</td>\n",
       "      <td>3760.0</td>\n",
       "      <td>3760.0</td>\n",
       "      <td>54.0</td>\n",
       "      <td>0.0146</td>\n",
       "      <td>3760.0</td>\n",
       "      <td>6030</td>\n",
       "      <td>22672800</td>\n",
       "      <td>402.0</td>\n",
       "      <td>NaN</td>\n",
       "      <td>NaN</td>\n",
       "    </tr>\n",
       "    <tr>\n",
       "      <th>AG9999</th>\n",
       "      <td>2017-12-22</td>\n",
       "      <td>3706.0</td>\n",
       "      <td>3706.0</td>\n",
       "      <td>3706.0</td>\n",
       "      <td>3706.0</td>\n",
       "      <td>-4.0</td>\n",
       "      <td>-0.0011</td>\n",
       "      <td>3706.0</td>\n",
       "      <td>450</td>\n",
       "      <td>1667700</td>\n",
       "      <td>30.0</td>\n",
       "      <td>NaN</td>\n",
       "      <td>NaN</td>\n",
       "    </tr>\n",
       "    <tr>\n",
       "      <th>AG9999</th>\n",
       "      <td>2017-12-21</td>\n",
       "      <td>3710.0</td>\n",
       "      <td>3710.0</td>\n",
       "      <td>3710.0</td>\n",
       "      <td>3710.0</td>\n",
       "      <td>0.0</td>\n",
       "      <td>0.0000</td>\n",
       "      <td>3710.0</td>\n",
       "      <td>210</td>\n",
       "      <td>779100</td>\n",
       "      <td>14.0</td>\n",
       "      <td>NaN</td>\n",
       "      <td>NaN</td>\n",
       "    </tr>\n",
       "    <tr>\n",
       "      <th>...</th>\n",
       "      <td>...</td>\n",
       "      <td>...</td>\n",
       "      <td>...</td>\n",
       "      <td>...</td>\n",
       "      <td>...</td>\n",
       "      <td>...</td>\n",
       "      <td>...</td>\n",
       "      <td>...</td>\n",
       "      <td>...</td>\n",
       "      <td>...</td>\n",
       "      <td>...</td>\n",
       "      <td>...</td>\n",
       "      <td>...</td>\n",
       "    </tr>\n",
       "    <tr>\n",
       "      <th>IAU100G</th>\n",
       "      <td>2015-01-08</td>\n",
       "      <td>241.0</td>\n",
       "      <td>241.0</td>\n",
       "      <td>241.0</td>\n",
       "      <td>241.0</td>\n",
       "      <td>2.0</td>\n",
       "      <td>0.0084</td>\n",
       "      <td>241.0</td>\n",
       "      <td>1</td>\n",
       "      <td>144600</td>\n",
       "      <td>NaN</td>\n",
       "      <td>NaN</td>\n",
       "      <td>NaN</td>\n",
       "    </tr>\n",
       "    <tr>\n",
       "      <th>AG9999</th>\n",
       "      <td>2015-01-08</td>\n",
       "      <td>3530.0</td>\n",
       "      <td>3570.0</td>\n",
       "      <td>3530.0</td>\n",
       "      <td>3570.0</td>\n",
       "      <td>9.0</td>\n",
       "      <td>0.0025</td>\n",
       "      <td>3560.0</td>\n",
       "      <td>13890</td>\n",
       "      <td>49461300</td>\n",
       "      <td>926.0</td>\n",
       "      <td>NaN</td>\n",
       "      <td>NaN</td>\n",
       "    </tr>\n",
       "    <tr>\n",
       "      <th>AG9999</th>\n",
       "      <td>2015-01-07</td>\n",
       "      <td>3530.0</td>\n",
       "      <td>3575.0</td>\n",
       "      <td>3530.0</td>\n",
       "      <td>3563.0</td>\n",
       "      <td>56.0</td>\n",
       "      <td>0.0160</td>\n",
       "      <td>3561.0</td>\n",
       "      <td>11100</td>\n",
       "      <td>39529500</td>\n",
       "      <td>740.0</td>\n",
       "      <td>NaN</td>\n",
       "      <td>NaN</td>\n",
       "    </tr>\n",
       "    <tr>\n",
       "      <th>AG9999</th>\n",
       "      <td>2015-01-06</td>\n",
       "      <td>3474.0</td>\n",
       "      <td>3520.0</td>\n",
       "      <td>3473.0</td>\n",
       "      <td>3495.0</td>\n",
       "      <td>19.0</td>\n",
       "      <td>0.0055</td>\n",
       "      <td>3507.0</td>\n",
       "      <td>10770</td>\n",
       "      <td>37778100</td>\n",
       "      <td>718.0</td>\n",
       "      <td>NaN</td>\n",
       "      <td>NaN</td>\n",
       "    </tr>\n",
       "    <tr>\n",
       "      <th>AG9999</th>\n",
       "      <td>2015-01-05</td>\n",
       "      <td>3475.0</td>\n",
       "      <td>3490.0</td>\n",
       "      <td>3454.0</td>\n",
       "      <td>3485.0</td>\n",
       "      <td>2.0</td>\n",
       "      <td>0.0006</td>\n",
       "      <td>3476.0</td>\n",
       "      <td>12480</td>\n",
       "      <td>43387470</td>\n",
       "      <td>832.0</td>\n",
       "      <td>NaN</td>\n",
       "      <td>NaN</td>\n",
       "    </tr>\n",
       "  </tbody>\n",
       "</table>\n",
       "<p>535 rows × 13 columns</p>\n",
       "</div>"
      ],
      "text/plain": [
       "                date    open    high     low   close  change  change_percent  \\\n",
       "commodity                                                                      \n",
       "AG9999    2017-12-28  3806.0  3806.0  3806.0  3806.0    40.0          0.0106   \n",
       "AG9999    2017-12-27  3766.0  3766.0  3766.0  3766.0     6.0          0.0016   \n",
       "AG9999    2017-12-26  3760.0  3760.0  3760.0  3760.0    54.0          0.0146   \n",
       "AG9999    2017-12-22  3706.0  3706.0  3706.0  3706.0    -4.0         -0.0011   \n",
       "AG9999    2017-12-21  3710.0  3710.0  3710.0  3710.0     0.0          0.0000   \n",
       "...              ...     ...     ...     ...     ...     ...             ...   \n",
       "IAU100G   2015-01-08   241.0   241.0   241.0   241.0     2.0          0.0084   \n",
       "AG9999    2015-01-08  3530.0  3570.0  3530.0  3570.0     9.0          0.0025   \n",
       "AG9999    2015-01-07  3530.0  3575.0  3530.0  3563.0    56.0          0.0160   \n",
       "AG9999    2015-01-06  3474.0  3520.0  3473.0  3495.0    19.0          0.0055   \n",
       "AG9999    2015-01-05  3475.0  3490.0  3454.0  3485.0     2.0          0.0006   \n",
       "\n",
       "           weight_price  turnover_volume  turnover_value  open_interest  \\\n",
       "commodity                                                                 \n",
       "AG9999           3806.0              600         2283600           40.0   \n",
       "AG9999           3766.0              270         1016820           18.0   \n",
       "AG9999           3760.0             6030        22672800          402.0   \n",
       "AG9999           3706.0              450         1667700           30.0   \n",
       "AG9999           3710.0              210          779100           14.0   \n",
       "...                 ...              ...             ...            ...   \n",
       "IAU100G           241.0                1          144600            NaN   \n",
       "AG9999           3560.0            13890        49461300          926.0   \n",
       "AG9999           3561.0            11100        39529500          740.0   \n",
       "AG9999           3507.0            10770        37778100          718.0   \n",
       "AG9999           3476.0            12480        43387470          832.0   \n",
       "\n",
       "           delivery_side  delivery_volume  \n",
       "commodity                                  \n",
       "AG9999               NaN              NaN  \n",
       "AG9999               NaN              NaN  \n",
       "AG9999               NaN              NaN  \n",
       "AG9999               NaN              NaN  \n",
       "AG9999               NaN              NaN  \n",
       "...                  ...              ...  \n",
       "IAU100G              NaN              NaN  \n",
       "AG9999               NaN              NaN  \n",
       "AG9999               NaN              NaN  \n",
       "AG9999               NaN              NaN  \n",
       "AG9999               NaN              NaN  \n",
       "\n",
       "[535 rows x 13 columns]"
      ]
     },
     "execution_count": 4,
     "metadata": {},
     "output_type": "execute_result"
    }
   ],
   "source": [
    "df = pd.read_excel(\"C:/Programming/Dataset/DY-SMA.xlsx\",index_col='commodity');df"
   ]
  },
  {
   "cell_type": "code",
   "execution_count": 5,
   "metadata": {},
   "outputs": [
    {
     "data": {
      "text/html": [
       "<div>\n",
       "<style scoped>\n",
       "    .dataframe tbody tr th:only-of-type {\n",
       "        vertical-align: middle;\n",
       "    }\n",
       "\n",
       "    .dataframe tbody tr th {\n",
       "        vertical-align: top;\n",
       "    }\n",
       "\n",
       "    .dataframe thead th {\n",
       "        text-align: right;\n",
       "    }\n",
       "</style>\n",
       "<table border=\"1\" class=\"dataframe\">\n",
       "  <thead>\n",
       "    <tr style=\"text-align: right;\">\n",
       "      <th></th>\n",
       "      <th>date</th>\n",
       "      <th>open</th>\n",
       "      <th>high</th>\n",
       "      <th>low</th>\n",
       "      <th>close</th>\n",
       "      <th>change</th>\n",
       "      <th>change_percent</th>\n",
       "      <th>weight_price</th>\n",
       "      <th>turnover_volume</th>\n",
       "      <th>turnover_value</th>\n",
       "      <th>open_interest</th>\n",
       "      <th>delivery_side</th>\n",
       "      <th>delivery_volume</th>\n",
       "    </tr>\n",
       "  </thead>\n",
       "  <tbody>\n",
       "    <tr>\n",
       "      <th>count</th>\n",
       "      <td>535</td>\n",
       "      <td>533.000000</td>\n",
       "      <td>533.000000</td>\n",
       "      <td>533.000000</td>\n",
       "      <td>533.000000</td>\n",
       "      <td>533.000000</td>\n",
       "      <td>530.000000</td>\n",
       "      <td>533.000000</td>\n",
       "      <td>5.350000e+02</td>\n",
       "      <td>5.350000e+02</td>\n",
       "      <td>417.000000</td>\n",
       "      <td>0.0</td>\n",
       "      <td>0.0</td>\n",
       "    </tr>\n",
       "    <tr>\n",
       "      <th>mean</th>\n",
       "      <td>2016-05-13 23:08:51.588785152</td>\n",
       "      <td>2949.530994</td>\n",
       "      <td>2954.419606</td>\n",
       "      <td>2942.332195</td>\n",
       "      <td>2948.266829</td>\n",
       "      <td>-0.446529</td>\n",
       "      <td>0.000475</td>\n",
       "      <td>2945.423621</td>\n",
       "      <td>1.842576e+04</td>\n",
       "      <td>1.535128e+07</td>\n",
       "      <td>361.664269</td>\n",
       "      <td>NaN</td>\n",
       "      <td>NaN</td>\n",
       "    </tr>\n",
       "    <tr>\n",
       "      <th>min</th>\n",
       "      <td>2015-01-05 00:00:00</td>\n",
       "      <td>208.010000</td>\n",
       "      <td>208.010000</td>\n",
       "      <td>200.000000</td>\n",
       "      <td>208.000000</td>\n",
       "      <td>-394.000000</td>\n",
       "      <td>-0.130800</td>\n",
       "      <td>208.000000</td>\n",
       "      <td>0.000000e+00</td>\n",
       "      <td>0.000000e+00</td>\n",
       "      <td>0.000000</td>\n",
       "      <td>NaN</td>\n",
       "      <td>NaN</td>\n",
       "    </tr>\n",
       "    <tr>\n",
       "      <th>25%</th>\n",
       "      <td>2015-08-13 00:00:00</td>\n",
       "      <td>3200.000000</td>\n",
       "      <td>3208.000000</td>\n",
       "      <td>3195.000000</td>\n",
       "      <td>3195.000000</td>\n",
       "      <td>-24.000000</td>\n",
       "      <td>-0.008650</td>\n",
       "      <td>3198.000000</td>\n",
       "      <td>3.000000e+01</td>\n",
       "      <td>2.216900e+05</td>\n",
       "      <td>20.000000</td>\n",
       "      <td>NaN</td>\n",
       "      <td>NaN</td>\n",
       "    </tr>\n",
       "    <tr>\n",
       "      <th>50%</th>\n",
       "      <td>2016-04-14 00:00:00</td>\n",
       "      <td>3505.000000</td>\n",
       "      <td>3523.000000</td>\n",
       "      <td>3500.000000</td>\n",
       "      <td>3516.000000</td>\n",
       "      <td>-0.390000</td>\n",
       "      <td>-0.000100</td>\n",
       "      <td>3510.000000</td>\n",
       "      <td>6.900000e+02</td>\n",
       "      <td>2.380800e+06</td>\n",
       "      <td>122.000000</td>\n",
       "      <td>NaN</td>\n",
       "      <td>NaN</td>\n",
       "    </tr>\n",
       "    <tr>\n",
       "      <th>75%</th>\n",
       "      <td>2017-01-11 12:00:00</td>\n",
       "      <td>3906.000000</td>\n",
       "      <td>3910.000000</td>\n",
       "      <td>3890.000000</td>\n",
       "      <td>3895.000000</td>\n",
       "      <td>18.000000</td>\n",
       "      <td>0.008250</td>\n",
       "      <td>3886.000000</td>\n",
       "      <td>4.665000e+03</td>\n",
       "      <td>1.679571e+07</td>\n",
       "      <td>408.000000</td>\n",
       "      <td>NaN</td>\n",
       "      <td>NaN</td>\n",
       "    </tr>\n",
       "    <tr>\n",
       "      <th>max</th>\n",
       "      <td>2017-12-28 00:00:00</td>\n",
       "      <td>4500.000000</td>\n",
       "      <td>4500.000000</td>\n",
       "      <td>4500.000000</td>\n",
       "      <td>4500.000000</td>\n",
       "      <td>380.000000</td>\n",
       "      <td>0.153500</td>\n",
       "      <td>4500.000000</td>\n",
       "      <td>7.595520e+06</td>\n",
       "      <td>2.487395e+08</td>\n",
       "      <td>4048.000000</td>\n",
       "      <td>NaN</td>\n",
       "      <td>NaN</td>\n",
       "    </tr>\n",
       "    <tr>\n",
       "      <th>std</th>\n",
       "      <td>NaN</td>\n",
       "      <td>1455.524489</td>\n",
       "      <td>1457.136161</td>\n",
       "      <td>1453.018707</td>\n",
       "      <td>1454.832328</td>\n",
       "      <td>56.436647</td>\n",
       "      <td>0.024792</td>\n",
       "      <td>1455.139732</td>\n",
       "      <td>3.283051e+05</td>\n",
       "      <td>3.044878e+07</td>\n",
       "      <td>604.668920</td>\n",
       "      <td>NaN</td>\n",
       "      <td>NaN</td>\n",
       "    </tr>\n",
       "  </tbody>\n",
       "</table>\n",
       "</div>"
      ],
      "text/plain": [
       "                                date         open         high          low  \\\n",
       "count                            535   533.000000   533.000000   533.000000   \n",
       "mean   2016-05-13 23:08:51.588785152  2949.530994  2954.419606  2942.332195   \n",
       "min              2015-01-05 00:00:00   208.010000   208.010000   200.000000   \n",
       "25%              2015-08-13 00:00:00  3200.000000  3208.000000  3195.000000   \n",
       "50%              2016-04-14 00:00:00  3505.000000  3523.000000  3500.000000   \n",
       "75%              2017-01-11 12:00:00  3906.000000  3910.000000  3890.000000   \n",
       "max              2017-12-28 00:00:00  4500.000000  4500.000000  4500.000000   \n",
       "std                              NaN  1455.524489  1457.136161  1453.018707   \n",
       "\n",
       "             close      change  change_percent  weight_price  turnover_volume  \\\n",
       "count   533.000000  533.000000      530.000000    533.000000     5.350000e+02   \n",
       "mean   2948.266829   -0.446529        0.000475   2945.423621     1.842576e+04   \n",
       "min     208.000000 -394.000000       -0.130800    208.000000     0.000000e+00   \n",
       "25%    3195.000000  -24.000000       -0.008650   3198.000000     3.000000e+01   \n",
       "50%    3516.000000   -0.390000       -0.000100   3510.000000     6.900000e+02   \n",
       "75%    3895.000000   18.000000        0.008250   3886.000000     4.665000e+03   \n",
       "max    4500.000000  380.000000        0.153500   4500.000000     7.595520e+06   \n",
       "std    1454.832328   56.436647        0.024792   1455.139732     3.283051e+05   \n",
       "\n",
       "       turnover_value  open_interest  delivery_side  delivery_volume  \n",
       "count    5.350000e+02     417.000000            0.0              0.0  \n",
       "mean     1.535128e+07     361.664269            NaN              NaN  \n",
       "min      0.000000e+00       0.000000            NaN              NaN  \n",
       "25%      2.216900e+05      20.000000            NaN              NaN  \n",
       "50%      2.380800e+06     122.000000            NaN              NaN  \n",
       "75%      1.679571e+07     408.000000            NaN              NaN  \n",
       "max      2.487395e+08    4048.000000            NaN              NaN  \n",
       "std      3.044878e+07     604.668920            NaN              NaN  "
      ]
     },
     "execution_count": 5,
     "metadata": {},
     "output_type": "execute_result"
    }
   ],
   "source": [
    "df.describe()"
   ]
  },
  {
   "cell_type": "code",
   "execution_count": 10,
   "metadata": {},
   "outputs": [
    {
     "data": {
      "text/plain": [
       "380.0"
      ]
     },
     "execution_count": 10,
     "metadata": {},
     "output_type": "execute_result"
    }
   ],
   "source": [
    "# เรียกดูค่า max ของ column ชื่อ change\n",
    "df.change.max() "
   ]
  },
  {
   "cell_type": "code",
   "execution_count": 11,
   "metadata": {},
   "outputs": [
    {
     "data": {
      "text/plain": [
       "-394.0"
      ]
     },
     "execution_count": 11,
     "metadata": {},
     "output_type": "execute_result"
    }
   ],
   "source": [
    "df.change.min()"
   ]
  },
  {
   "cell_type": "code",
   "execution_count": 16,
   "metadata": {},
   "outputs": [
    {
     "data": {
      "text/plain": [
       "True"
      ]
     },
     "execution_count": 16,
     "metadata": {},
     "output_type": "execute_result"
    }
   ],
   "source": [
    "df.change.mean() == df.change.sum() / df.change.count()"
   ]
  },
  {
   "cell_type": "code",
   "execution_count": 13,
   "metadata": {},
   "outputs": [
    {
     "data": {
      "text/plain": [
       "533"
      ]
     },
     "execution_count": 13,
     "metadata": {},
     "output_type": "execute_result"
    }
   ],
   "source": [
    "df.change.count()"
   ]
  },
  {
   "cell_type": "code",
   "execution_count": 14,
   "metadata": {},
   "outputs": [
    {
     "data": {
      "text/plain": [
       "-237.99999999999997"
      ]
     },
     "execution_count": 14,
     "metadata": {},
     "output_type": "execute_result"
    }
   ],
   "source": [
    "df.change.sum()"
   ]
  },
  {
   "cell_type": "code",
   "execution_count": 17,
   "metadata": {},
   "outputs": [
    {
     "data": {
      "text/plain": [
       "56.43664742948902"
      ]
     },
     "execution_count": 17,
     "metadata": {},
     "output_type": "execute_result"
    }
   ],
   "source": [
    "df.change.std()"
   ]
  },
  {
   "cell_type": "code",
   "execution_count": 19,
   "metadata": {},
   "outputs": [
    {
     "data": {
      "text/plain": [
       "dtype('float64')"
      ]
     },
     "execution_count": 19,
     "metadata": {},
     "output_type": "execute_result"
    }
   ],
   "source": [
    "# แปลงชนิดข้อมูลเป็น category\n",
    "\n",
    "df.change.dtypes"
   ]
  },
  {
   "cell_type": "code",
   "execution_count": 20,
   "metadata": {},
   "outputs": [
    {
     "data": {
      "text/plain": [
       "date               datetime64[ns]\n",
       "open                      float64\n",
       "high                      float64\n",
       "low                       float64\n",
       "close                     float64\n",
       "change                    float64\n",
       "change_percent            float64\n",
       "weight_price              float64\n",
       "turnover_volume             int64\n",
       "turnover_value              int64\n",
       "open_interest             float64\n",
       "delivery_side             float64\n",
       "delivery_volume           float64\n",
       "dtype: object"
      ]
     },
     "execution_count": 20,
     "metadata": {},
     "output_type": "execute_result"
    }
   ],
   "source": [
    "df.dtypes"
   ]
  },
  {
   "cell_type": "code",
   "execution_count": 25,
   "metadata": {},
   "outputs": [
    {
     "data": {
      "text/plain": [
       "commodity\n",
       "AG9999       600\n",
       "AG9999       270\n",
       "AG9999      6030\n",
       "AG9999       450\n",
       "AG9999       210\n",
       "           ...  \n",
       "IAU100G        1\n",
       "AG9999     13890\n",
       "AG9999     11100\n",
       "AG9999     10770\n",
       "AG9999     12480\n",
       "Name: turnover_volume, Length: 535, dtype: category\n",
       "Categories (206, int64): [0, 1, 2, 3, ..., 49110, 51600, 60720, 7595520]"
      ]
     },
     "execution_count": 25,
     "metadata": {},
     "output_type": "execute_result"
    }
   ],
   "source": [
    "df.turnover_volume = df.turnover_volume.astype(\"category\");df.turnover_volume"
   ]
  },
  {
   "cell_type": "code",
   "execution_count": null,
   "metadata": {},
   "outputs": [],
   "source": []
  }
 ],
 "metadata": {
  "kernelspec": {
   "display_name": "Python 3",
   "language": "python",
   "name": "python3"
  },
  "language_info": {
   "codemirror_mode": {
    "name": "ipython",
    "version": 3
   },
   "file_extension": ".py",
   "mimetype": "text/x-python",
   "name": "python",
   "nbconvert_exporter": "python",
   "pygments_lexer": "ipython3",
   "version": "3.12.2"
  }
 },
 "nbformat": 4,
 "nbformat_minor": 2
}
