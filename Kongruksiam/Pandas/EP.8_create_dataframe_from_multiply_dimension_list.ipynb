{
 "cells": [
  {
   "cell_type": "code",
   "execution_count": 2,
   "metadata": {},
   "outputs": [
    {
     "data": {
      "text/html": [
       "<div>\n",
       "<style scoped>\n",
       "    .dataframe tbody tr th:only-of-type {\n",
       "        vertical-align: middle;\n",
       "    }\n",
       "\n",
       "    .dataframe tbody tr th {\n",
       "        vertical-align: top;\n",
       "    }\n",
       "\n",
       "    .dataframe thead th {\n",
       "        text-align: right;\n",
       "    }\n",
       "</style>\n",
       "<table border=\"1\" class=\"dataframe\">\n",
       "  <thead>\n",
       "    <tr style=\"text-align: right;\">\n",
       "      <th></th>\n",
       "      <th>Item Name</th>\n",
       "      <th>Catagories</th>\n",
       "      <th>Pricre</th>\n",
       "    </tr>\n",
       "  </thead>\n",
       "  <tbody>\n",
       "    <tr>\n",
       "      <th>0</th>\n",
       "      <td>Keyboard</td>\n",
       "      <td>IT Computing</td>\n",
       "      <td>35000</td>\n",
       "    </tr>\n",
       "    <tr>\n",
       "      <th>1</th>\n",
       "      <td>Doll</td>\n",
       "      <td>Toy</td>\n",
       "      <td>500</td>\n",
       "    </tr>\n",
       "    <tr>\n",
       "      <th>2</th>\n",
       "      <td>Iphone 28 Pro Max</td>\n",
       "      <td>Mobile</td>\n",
       "      <td>800000</td>\n",
       "    </tr>\n",
       "  </tbody>\n",
       "</table>\n",
       "</div>"
      ],
      "text/plain": [
       "           Item Name    Catagories  Pricre\n",
       "0           Keyboard  IT Computing   35000\n",
       "1               Doll           Toy     500\n",
       "2  Iphone 28 Pro Max        Mobile  800000"
      ]
     },
     "execution_count": 2,
     "metadata": {},
     "output_type": "execute_result"
    }
   ],
   "source": [
    "# Multiple dimention list without zip\n",
    "    # column 1 = item name\n",
    "    # column 2 = catagories\n",
    "    # column 3 = price\n",
    "import pandas as pd\n",
    "list_a = [\"Keyboard\",\"IT Computing\",35000]\n",
    "list_b = [\"Doll\",\"Toy\",500]\n",
    "list_c = [\"Iphone 28 Pro Max\",\"Mobile\",800000]\n",
    "cols = ['Item Name','Catagories',\"Pricre\"]\n",
    "data = [list_a,list_b,list_c]\n",
    "df_a = pd.DataFrame(data,columns=cols);df_a"
   ]
  },
  {
   "cell_type": "code",
   "execution_count": 14,
   "metadata": {},
   "outputs": [
    {
     "data": {
      "text/html": [
       "<div>\n",
       "<style scoped>\n",
       "    .dataframe tbody tr th:only-of-type {\n",
       "        vertical-align: middle;\n",
       "    }\n",
       "\n",
       "    .dataframe tbody tr th {\n",
       "        vertical-align: top;\n",
       "    }\n",
       "\n",
       "    .dataframe thead th {\n",
       "        text-align: right;\n",
       "    }\n",
       "</style>\n",
       "<table border=\"1\" class=\"dataframe\">\n",
       "  <thead>\n",
       "    <tr style=\"text-align: right;\">\n",
       "      <th></th>\n",
       "      <th>Item Name</th>\n",
       "      <th>Categories</th>\n",
       "      <th>Pricre</th>\n",
       "    </tr>\n",
       "  </thead>\n",
       "  <tbody>\n",
       "    <tr>\n",
       "      <th>0</th>\n",
       "      <td>Keyboard</td>\n",
       "      <td>Doll</td>\n",
       "      <td>Iphone 28 Pro Max</td>\n",
       "    </tr>\n",
       "    <tr>\n",
       "      <th>1</th>\n",
       "      <td>IT Computing</td>\n",
       "      <td>Toy</td>\n",
       "      <td>Mobile</td>\n",
       "    </tr>\n",
       "    <tr>\n",
       "      <th>2</th>\n",
       "      <td>35000</td>\n",
       "      <td>500</td>\n",
       "      <td>800000</td>\n",
       "    </tr>\n",
       "  </tbody>\n",
       "</table>\n",
       "</div>"
      ],
      "text/plain": [
       "      Item Name Categories             Pricre\n",
       "0      Keyboard       Doll  Iphone 28 Pro Max\n",
       "1  IT Computing        Toy             Mobile\n",
       "2         35000        500             800000"
      ]
     },
     "execution_count": 14,
     "metadata": {},
     "output_type": "execute_result"
    }
   ],
   "source": [
    "# Multiple dimention list with zip\n",
    "    # column 1 = item name\n",
    "    # column 2 = catagories\n",
    "    # column 3 = price\n",
    "import pandas as pd\n",
    "list_a = [\"Keyboard\",\"IT Computing\",35000]\n",
    "list_b = [\"Doll\",\"Toy\",500]\n",
    "list_c = [\"Iphone 28 Pro Max\",\"Mobile\",800000]\n",
    "cols = ['Item Name','Categories',\"Pricre\"]\n",
    "data = list(zip(list_a,list_b,list_c))\n",
    "df_a = pd.DataFrame(data,columns=cols);df_a\n",
    "# เห็นจาก Output ว่า จะได้ output ?ี่ไม่สมเหตุสมผล เพราะใช้ zip\n",
    "# การใช้ zip ๗ะทำให้เป็นการแยกว่่า column นั้น list นั้น ไปเลย\n",
    "# เช่น list_a ก็จะได้ column แรก เพราะใส่เป็นค่าแรก"
   ]
  },
  {
   "cell_type": "code",
   "execution_count": 16,
   "metadata": {},
   "outputs": [
    {
     "data": {
      "text/html": [
       "<div>\n",
       "<style scoped>\n",
       "    .dataframe tbody tr th:only-of-type {\n",
       "        vertical-align: middle;\n",
       "    }\n",
       "\n",
       "    .dataframe tbody tr th {\n",
       "        vertical-align: top;\n",
       "    }\n",
       "\n",
       "    .dataframe thead th {\n",
       "        text-align: right;\n",
       "    }\n",
       "</style>\n",
       "<table border=\"1\" class=\"dataframe\">\n",
       "  <thead>\n",
       "    <tr style=\"text-align: right;\">\n",
       "      <th></th>\n",
       "      <th>Item Name</th>\n",
       "      <th>Categories</th>\n",
       "      <th>Pricre</th>\n",
       "    </tr>\n",
       "  </thead>\n",
       "  <tbody>\n",
       "    <tr>\n",
       "      <th>0</th>\n",
       "      <td>Keyboard</td>\n",
       "      <td>IT Computing</td>\n",
       "      <td>500</td>\n",
       "    </tr>\n",
       "    <tr>\n",
       "      <th>1</th>\n",
       "      <td>Doll</td>\n",
       "      <td>Toy</td>\n",
       "      <td>35000</td>\n",
       "    </tr>\n",
       "    <tr>\n",
       "      <th>2</th>\n",
       "      <td>Iphone 28 Pro Max</td>\n",
       "      <td>Mobile</td>\n",
       "      <td>800000</td>\n",
       "    </tr>\n",
       "  </tbody>\n",
       "</table>\n",
       "</div>"
      ],
      "text/plain": [
       "           Item Name    Categories  Pricre\n",
       "0           Keyboard  IT Computing     500\n",
       "1               Doll           Toy   35000\n",
       "2  Iphone 28 Pro Max        Mobile  800000"
      ]
     },
     "execution_count": 16,
     "metadata": {},
     "output_type": "execute_result"
    }
   ],
   "source": [
    "import pandas as pd\n",
    "item_name = [\"Keyboard\",\"Doll\",\"Iphone 28 Pro Max\"]\n",
    "category = [\"IT Computing\",\"Toy\",\"Mobile\"]\n",
    "price = [500,35000,800000]\n",
    "cols = ['Item Name','Categories',\"Pricre\"]\n",
    "data = list(zip(item_name,category,price))\n",
    "df_a = pd.DataFrame(data,columns=cols);df_a"
   ]
  },
  {
   "cell_type": "code",
   "execution_count": null,
   "metadata": {},
   "outputs": [],
   "source": []
  }
 ],
 "metadata": {
  "kernelspec": {
   "display_name": "Python 3",
   "language": "python",
   "name": "python3"
  },
  "language_info": {
   "codemirror_mode": {
    "name": "ipython",
    "version": 3
   },
   "file_extension": ".py",
   "mimetype": "text/x-python",
   "name": "python",
   "nbconvert_exporter": "python",
   "pygments_lexer": "ipython3",
   "version": "3.12.2"
  }
 },
 "nbformat": 4,
 "nbformat_minor": 2
}
