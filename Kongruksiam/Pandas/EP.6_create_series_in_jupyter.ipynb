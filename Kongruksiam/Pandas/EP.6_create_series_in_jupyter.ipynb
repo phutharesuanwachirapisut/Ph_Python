{
 "cells": [
  {
   "cell_type": "code",
   "execution_count": 5,
   "metadata": {},
   "outputs": [
    {
     "name": "stdout",
     "output_type": "stream",
     "text": [
      "data_a = 0    201.55\n",
      "1         2\n",
      "2      lion\n",
      "3     False\n",
      "dtype: object\n",
      "data_a[2] = lion\n"
     ]
    }
   ],
   "source": [
    "# jupyter แสดงข้อมูลได้สวยกว่า และชัดเจนกว่า\n",
    "import pandas as pd\n",
    "data_a = [201.55,2,\"lion\",False]\n",
    "print(\"data_a = {}\".format(pd.Series(data_a)))\n",
    "print(\"data_a[2] = {}\".format(data_a[2]))"
   ]
  }
 ],
 "metadata": {
  "kernelspec": {
   "display_name": "Python 3",
   "language": "python",
   "name": "python3"
  },
  "language_info": {
   "codemirror_mode": {
    "name": "ipython",
    "version": 3
   },
   "file_extension": ".py",
   "mimetype": "text/x-python",
   "name": "python",
   "nbconvert_exporter": "python",
   "pygments_lexer": "ipython3",
   "version": "3.12.2"
  }
 },
 "nbformat": 4,
 "nbformat_minor": 2
}
