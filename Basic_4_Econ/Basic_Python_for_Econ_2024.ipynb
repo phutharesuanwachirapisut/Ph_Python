{
  "cells": [
    {
      "cell_type": "markdown",
      "metadata": {
        "id": "uropM0oi7dqy"
      },
      "source": [
        "# **Basic Coding for Econ Students: Python**"
      ]
    },
    {
      "cell_type": "markdown",
      "metadata": {
        "id": "RpzrHoO-bftI"
      },
      "source": [
        "# **Activity 1**\n",
        "\n",
        "สมมติ ธนาคารแห่งหนึ่ง มีลูกค้าฝากทองคำแท่ง จำนวน 10 แท่งไว้ในห้องเซฟของธนาคาร ห้องเซฟสามารถเข้า ออก ได้ครั้งละ 1 คน และนำทองแท่งเข้าหรือออกได้ครั้งละ 1 แท่ง\n",
        "\n",
        "วันหนึ่งลูกค้ามาขอนำทองคำออกเซฟทั้งหมด\n",
        "\n",
        "1. หากนักศึกษาเป็นผู้จัดการธนาคาร ให้ผู้จัดการสั่งพนักงานใหม่ ดำเนินการตามที่ลูกค้าต้องการ นักศึกษาจะบอกพนักงานใหม่อย่างไร\n",
        "\n",
        "\n",
        "2. ให้นักศึกษาแสดงจำนวนทองแท่งที่ลูกค้าได้รับจากพนักงานในแต่ละรอบจนครบ\n"
      ]
    },
    {
      "cell_type": "markdown",
      "metadata": {
        "id": "EJ1kdCBO8x3C"
      },
      "source": [
        "# This tutorial will cover:\n",
        "1. Basic syntax\n",
        "2. Control structures\n",
        "3. Functions\n",
        "4. Data Structures\n",
        "5. File I/O\n",
        "6. Exercise\n",
        "\n",
        "A Brief Note on Python Versions, the command line by running:\n"
      ]
    },
    {
      "cell_type": "markdown",
      "metadata": {
        "id": "IvhN43vobRIw"
      },
      "source": [
        "# **1. Basic syntax**\n",
        "Python syntax can be executed by writing directly in the Command Line."
      ]
    },
    {
      "cell_type": "code",
      "execution_count": 62,
      "metadata": {
        "id": "N31eDjPP_uff"
      },
      "outputs": [
        {
          "name": "stdout",
          "output_type": "stream",
          "text": [
            "Python 3.12.4\n"
          ]
        }
      ],
      "source": [
        "!python3 --version"
      ]
    },
    {
      "cell_type": "markdown",
      "metadata": {
        "id": "Sp2qvIKS9TOT"
      },
      "source": [
        "## Python Indentation\n",
        "Indentation refers to the spaces at the beginning of a code line.\n",
        "\n",
        "Where in other programming languages the indentation in code is for readability only, the indentation in Python is very important.\n",
        "\n",
        "Python uses indentation to indicate **a block of code**."
      ]
    },
    {
      "cell_type": "markdown",
      "metadata": {
        "id": "CeVBB3CA_exc"
      },
      "source": [
        "The number of spaces is up to you as a programmer, the most common use is four, but it has to be at least one."
      ]
    },
    {
      "cell_type": "code",
      "execution_count": 63,
      "metadata": {
        "id": "6ZRBtLNg7Zhu"
      },
      "outputs": [
        {
          "name": "stdout",
          "output_type": "stream",
          "text": [
            "Five is greater than two!\n",
            "Test multitabs line 2\n"
          ]
        }
      ],
      "source": [
        "if 5 > 2:\n",
        "  print(\"Five is greater than two!\")\n",
        "  print(\"Test multitabs line 2\")"
      ]
    },
    {
      "cell_type": "markdown",
      "metadata": {
        "id": "PVar9Kd6_VgO"
      },
      "source": [
        "Python will give you an error if you skip the indentation:"
      ]
    },
    {
      "cell_type": "code",
      "execution_count": 64,
      "metadata": {
        "id": "RRDw9dCK_Ut2"
      },
      "outputs": [
        {
          "name": "stdout",
          "output_type": "stream",
          "text": [
            "Five is greater than two!\n"
          ]
        }
      ],
      "source": [
        "if 5 > 2:\n",
        "\tprint(\"Five is greater than two!\")"
      ]
    },
    {
      "cell_type": "markdown",
      "metadata": {
        "id": "lN3nXqkn_jN3"
      },
      "source": [
        "You have to use the same number of spaces in the same block of code, otherwise Python will give you an error:"
      ]
    },
    {
      "cell_type": "code",
      "execution_count": 65,
      "metadata": {
        "id": "KkruLipu_APY"
      },
      "outputs": [
        {
          "name": "stdout",
          "output_type": "stream",
          "text": [
            "Five is greater than two!\n",
            "Five is greater than two!\n"
          ]
        }
      ],
      "source": [
        "if 5 > 2:\n",
        "\tprint(\"Five is greater than two!\")\n",
        "\tprint(\"Five is greater than two!\")"
      ]
    },
    {
      "cell_type": "markdown",
      "metadata": {
        "id": "A_eUsIvbY8bq"
      },
      "source": [
        "## Python comment\n",
        "\n",
        "**Creating a Comment**\n",
        "\n",
        "Comments starts with a #, and Python will ignore them:"
      ]
    },
    {
      "cell_type": "code",
      "execution_count": 66,
      "metadata": {
        "id": "WCd2MhtfZBl7"
      },
      "outputs": [
        {
          "name": "stdout",
          "output_type": "stream",
          "text": [
            "Hello, World!\n",
            "Hello, World!\n"
          ]
        }
      ],
      "source": [
        "#This is a comment\n",
        "print(\"Hello, World!\")\n",
        "\n",
        "print(\"Hello, World!\") #This is a comment"
      ]
    },
    {
      "cell_type": "markdown",
      "metadata": {
        "id": "mfD4gWG5ZuHU"
      },
      "source": [
        "**Multiline Comments**\n",
        "\n",
        "Python does not really have a syntax for multiline comments.\n",
        "\n",
        "To add a multiline comment you could insert a # for each line:"
      ]
    },
    {
      "cell_type": "code",
      "execution_count": 67,
      "metadata": {
        "id": "kugTcGuoZ5_q"
      },
      "outputs": [
        {
          "name": "stdout",
          "output_type": "stream",
          "text": [
            "Hello, World!\n"
          ]
        }
      ],
      "source": [
        "\"\"\"\n",
        "This is a comment\n",
        "written in\n",
        "more than just one line\n",
        "\"\"\"\n",
        "\n",
        "'''\n",
        "Test single code comment\n",
        "Multilines\n",
        "'''\n",
        "print(\"Hello, World!\")"
      ]
    },
    {
      "cell_type": "markdown",
      "metadata": {
        "id": "UspPq7U5Ayus"
      },
      "source": [
        "# **2. Variable, Data Type, and Data Structures**"
      ]
    },
    {
      "cell_type": "markdown",
      "metadata": {
        "id": "bvsiZbIHb8_x"
      },
      "source": [
        "## **2.1 Variables**\n",
        "\n",
        "Python has no command for declaring a variable.\n",
        "\n",
        "A variable is created the moment you first assign a value to it.\n",
        "\n",
        "**Built-in Data Types**\n",
        "\n",
        "In programming, data type is an important concept.\n",
        "\n",
        "Variables can store data of different types, and different types can do different things.\n",
        "\n",
        "ในภาษา Python มีข้อมูลชนิดพื้นฐานที่สำคัญดังนี้:\n",
        "\n",
        "1. จำนวนเต็ม (int): ใช้เก็บค่าตัวเลขจำนวนเต็ม เช่น 10, -200, 512\n",
        "\n",
        "2. จำนวนจริง (float): ใช้เก็บค่าตัวเลขทศนิยม เช่น 3.14, 15.234, -100.0\n",
        "\n",
        "3. ข้อความ (str): ใช้เก็บข้อความตัวอักษรหรือสตริง เช่น \"สวัสดี\", Python Programming\", \"Hello World\"\n",
        "\n",
        "4. ตรรกะ (bool): ใช้เก็บค่าความจริง True หรือ False เช่น\n",
        "ผู้ใช้งานอายุครบ = True\n",
        "ไฟล์เปิดอยู่ = False\n",
        "\n",
        "5. รายการ (list): ใช้เก็บข้อมูลหลายรายการเรียงตามลำดับ โดยแต่ละรายการสามารถเป็นข้อมูลชนิดใดก็ได้ เช่น\n",
        "ตัวเลข = [1, 2, 3, 4, 5]\n",
        "ชื่อนักเรียน = [\"ก้อย\", \"ต๋อย\", \"เบนซ์\", \"บีม\"]\n",
        "อาหารกลางวัน = [\"ข้าวผัด\", \"ก๋วยเตี๋ยว\", \"ส้มตำ\"]\n",
        "\n",
        "6. พจนานุกรม (dict): ใช้เก็บข้อมูลแบบคีย์-ค่า โดยแต่ละคีย์จะเชื่อมโยงกับค่าที่สอดคล้องกัน เช่น\n",
        "ข้อมูลนักเรียน = {\n",
        "    \"ชื่อ\": \"นุช\",\n",
        "    \"นามสกุล\": \"ศรีทอง\",\n",
        "    \"อายุ\": 22,\n",
        "    \"ชั้นเรียน\": \"ม.5\"\n",
        "}\n",
        "\n",
        "สินค้า = {\n",
        "    \"รหัสสินค้า\": \"S001\",\n",
        "    \"ชื่อสินค้า\": \"เสื้อยืด\",\n",
        "    \"ราคา\": 150,\n",
        "    \"จำนวนคงเหลือ\": 20\n",
        "}\n",
        "\n",
        "7. ตัวแปร None: ใช้แทนค่าว่าง หรือค่าที่ไม่มีข้อมูล เช่น x = None\n"
      ]
    },
    {
      "cell_type": "markdown",
      "metadata": {
        "id": "kEtH_4yBtKwR"
      },
      "source": [
        "## **1. ตัวเลข**"
      ]
    },
    {
      "cell_type": "code",
      "execution_count": 68,
      "metadata": {
        "id": "yD1x053v7Vm8"
      },
      "outputs": [
        {
          "name": "stdout",
          "output_type": "stream",
          "text": [
            "20\n",
            "display the data type of x:  <class 'int'>\n",
            "\n"
          ]
        }
      ],
      "source": [
        "#int\n",
        "x = 20\n",
        "#display x:\n",
        "print(x)\n",
        "#display the data type of x:\n",
        "print('display the data type of x: ', type(x), end='\\n\\n')"
      ]
    },
    {
      "cell_type": "markdown",
      "metadata": {
        "id": "OgB2ntTLtTpw"
      },
      "source": [
        "## **2. ตัวเลขทศนิยม**"
      ]
    },
    {
      "cell_type": "code",
      "execution_count": 69,
      "metadata": {
        "id": "KaMWR9yDrLvw"
      },
      "outputs": [
        {
          "name": "stdout",
          "output_type": "stream",
          "text": [
            "x = 20.567891\n",
            "x = 20.57\n",
            "display the data type of x:  <class 'float'>\n",
            "\n"
          ]
        }
      ],
      "source": [
        "# float\n",
        "x = 20.5678910\n",
        "#display x:\n",
        "print('x =',x)\n",
        "# set 2 digit float\n",
        "print(f\"x = {x:.2f}\")\n",
        "#display the data type of x:\n",
        "print('display the data type of x: ',type(x), end='\\n\\n')\n"
      ]
    },
    {
      "cell_type": "markdown",
      "metadata": {
        "id": "ytFxX-7P9fu-"
      },
      "source": [
        "## **3. ข้อความ**"
      ]
    },
    {
      "cell_type": "code",
      "execution_count": 70,
      "metadata": {
        "id": "pkWaavgC7BeO"
      },
      "outputs": [
        {
          "name": "stdout",
          "output_type": "stream",
          "text": [
            "Hello World\n",
            "<class 'str'>\n",
            "\n",
            "Lorem ipsum dolor sit amet,\n",
            "consectetur adipiscing elit,\n",
            "sed do eiusmod tempor incididunt\n",
            "ut labore et dolore magna aliqua.\n"
          ]
        }
      ],
      "source": [
        "# str\n",
        "x = \"Hello World\"\n",
        "#display x:\n",
        "print(x)\n",
        "\n",
        "#display the data type of x:\n",
        "print(type(x), end='\\n\\n')\n",
        "\n",
        "x = '''Lorem ipsum dolor sit amet,\n",
        "consectetur adipiscing elit,\n",
        "sed do eiusmod tempor incididunt\n",
        "ut labore et dolore magna aliqua.'''\n",
        "print(x)"
      ]
    },
    {
      "cell_type": "markdown",
      "metadata": {
        "id": "aF4wnGN19dCt"
      },
      "source": [
        "## **4. Boolean**"
      ]
    },
    {
      "cell_type": "code",
      "execution_count": 71,
      "metadata": {
        "id": "Di0buaa2rS0J"
      },
      "outputs": [
        {
          "name": "stdout",
          "output_type": "stream",
          "text": [
            "True\n",
            "<class 'bool'>\n",
            "\n"
          ]
        }
      ],
      "source": [
        "# Boolean\n",
        "x = True\n",
        "#display x:\n",
        "print(x)\n",
        "#display the data type of x:\n",
        "print(type(x), end='\\n\\n')"
      ]
    },
    {
      "cell_type": "markdown",
      "metadata": {
        "id": "FQ8wwWGv84JS"
      },
      "source": [
        "**Boolean Example 1**"
      ]
    },
    {
      "cell_type": "code",
      "execution_count": 72,
      "metadata": {
        "id": "gPoTpnGb8vBu"
      },
      "outputs": [
        {
          "name": "stdout",
          "output_type": "stream",
          "text": [
            "False\n",
            "Is it Thursday: False\n",
            "Is it wednesday: True\n"
          ]
        }
      ],
      "source": [
        "#these both are 'booleans' or true/false values\n",
        "is_it_wednesday = True\n",
        "is_it_thursday = False\n",
        "\n",
        "print(is_it_thursday)\n",
        "print(\"Is it Thursday: \" + str(is_it_thursday))\n",
        "print(\"Is it wednesday: \" + str(is_it_wednesday))"
      ]
    },
    {
      "cell_type": "markdown",
      "metadata": {
        "id": "L1FlSVNB9CW1"
      },
      "source": [
        "**Boolean Example 2**"
      ]
    },
    {
      "cell_type": "code",
      "execution_count": 73,
      "metadata": {
        "id": "no1QLBpZ8p4H"
      },
      "outputs": [
        {
          "name": "stdout",
          "output_type": "stream",
          "text": [
            "No, today is not Wednesday.\n"
          ]
        }
      ],
      "source": [
        "from datetime import datetime\n",
        "\n",
        "today = datetime.today()\n",
        "\n",
        "if today.weekday() == \"Wednesday\":\n",
        "  print(\"Yes, today is Wednesday!\")\n",
        "else:\n",
        "  print(\"No, today is not Wednesday.\")"
      ]
    },
    {
      "cell_type": "markdown",
      "metadata": {
        "id": "cBObPKeU-BcG"
      },
      "source": [
        "## **5. รายการ (list)**"
      ]
    },
    {
      "cell_type": "code",
      "execution_count": 74,
      "metadata": {
        "id": "ZOQGxUOqrPAo"
      },
      "outputs": [
        {
          "name": "stdout",
          "output_type": "stream",
          "text": [
            "cherry\n",
            "display the data type of x: <class 'list'>\n",
            "\n",
            "apple\n",
            "banana\n",
            "cherry\n"
          ]
        }
      ],
      "source": [
        "# list\n",
        "x = [\"apple\", \"banana\", \"cherry\"]\n",
        "#display x:\n",
        "print(x[2])\n",
        "#display the data type of x:\n",
        "print(\"display the data type of x:\", type(x), end='\\n\\n')\n",
        "\n",
        "#display x:\n",
        "for i in range(len(x)):\n",
        "  print(x[i])"
      ]
    },
    {
      "cell_type": "markdown",
      "metadata": {
        "id": "wkjLvSu1Q1Z8"
      },
      "source": [
        "**Edit data in List**"
      ]
    },
    {
      "cell_type": "code",
      "execution_count": 75,
      "metadata": {
        "id": "PPT4iBDIQXpF"
      },
      "outputs": [
        {
          "name": "stdout",
          "output_type": "stream",
          "text": [
            "['apple', 'banana', 'Mango']\n"
          ]
        }
      ],
      "source": [
        "x[2] = \"Mango\"\n",
        "print(x)"
      ]
    },
    {
      "cell_type": "markdown",
      "metadata": {
        "id": "UDfHFKmcQ71h"
      },
      "source": [
        "**Add new data into the list**"
      ]
    },
    {
      "cell_type": "code",
      "execution_count": 76,
      "metadata": {
        "id": "RTKVv8sZQkwT"
      },
      "outputs": [
        {
          "name": "stdout",
          "output_type": "stream",
          "text": [
            "['apple', 'banana', 'Mango', 'kiwi']\n"
          ]
        }
      ],
      "source": [
        "x.append(\"kiwi\")\n",
        "print(x)"
      ]
    },
    {
      "cell_type": "markdown",
      "metadata": {
        "id": "xm7_4u6n_PhE"
      },
      "source": [
        "### ***List Exercise***\n",
        "1. Create an empty list called 'grocery_list'\n",
        "2. Manualy add items to the list i.e. Apples, Carrots, Milk, Rice\n",
        "3. Change Carrots to Bananas\n",
        "4. Print the final grocery list."
      ]
    },
    {
      "cell_type": "code",
      "execution_count": 163,
      "metadata": {},
      "outputs": [
        {
          "name": "stdout",
          "output_type": "stream",
          "text": [
            "Before Change: ['Apples', 'Carrots', 'Milk', 'Rice']\n",
            "After Change:['Apples', 'Bananas', 'Milk', 'Rice']\n"
          ]
        }
      ],
      "source": [
        "grocery_list = []\n",
        "grocery_list.append(\"Apples\")\n",
        "grocery_list.append(\"Carrots\")\n",
        "grocery_list.append(\"Milk\")\n",
        "grocery_list.append(\"Rice\")\n",
        "print(f\"Before Change: {grocery_list}\")\n",
        "\n",
        "grocery_list[grocery_list.index(\"Carrots\")] = \"Bananas\"\n",
        "print(f\"After Change:{grocery_list}\")\n"
      ]
    },
    {
      "cell_type": "markdown",
      "metadata": {
        "id": "DcXi4eb7-JYy"
      },
      "source": [
        "## **6. พจนานุกรม (dict)**"
      ]
    },
    {
      "cell_type": "markdown",
      "metadata": {
        "id": "s5y9Mcm9zGbp"
      },
      "source": [
        "**Dictionary**\n",
        "\n",
        "Dictionaries are used to store data values in key:value pairs.\n",
        "\n",
        "A dictionary is a collection which is ordered*, changeable and do not allow duplicates.\n",
        "\n",
        "Dictionaries are written with **curly brackets**, and have **keys** and **values**:"
      ]
    },
    {
      "cell_type": "code",
      "execution_count": 77,
      "metadata": {
        "id": "6cGgxYNB-XLW"
      },
      "outputs": [],
      "source": [
        "# Create a dictionary to store information about a book\n",
        "book = {\n",
        "  \"title\": \"The Hitchhiker's Guide to the Galaxy\",\n",
        "  \"author\": \"Douglas Adams\",\n",
        "  \"year_published\": 1979,\n",
        "  \"genres\": [\"Science Fiction\", \"Comedy\"],\n",
        "  \"in_stock\": True\n",
        "}\n"
      ]
    },
    {
      "cell_type": "code",
      "execution_count": 78,
      "metadata": {
        "id": "Ww8JOeP7r0o-"
      },
      "outputs": [
        {
          "name": "stdout",
          "output_type": "stream",
          "text": [
            "Book Title: The Hitchhiker's Guide to the Galaxy\n"
          ]
        }
      ],
      "source": [
        "# Access elements using key\n",
        "print(\"Book Title:\", book[\"title\"])  # Access title using key \"title\"\n"
      ]
    },
    {
      "cell_type": "code",
      "execution_count": 79,
      "metadata": {
        "id": "0651OTZgtLw-"
      },
      "outputs": [
        {
          "name": "stdout",
          "output_type": "stream",
          "text": [
            "{'title': \"The Hitchhiker's Guide to the Galaxy\", 'author': 'Douglas Adams', 'year_published': 1979, 'genres': ['Science Fiction', 'Comedy'], 'in_stock': True}\n"
          ]
        }
      ],
      "source": [
        "print(book)"
      ]
    },
    {
      "cell_type": "code",
      "execution_count": 80,
      "metadata": {
        "id": "Mi8A4mRVr6pO"
      },
      "outputs": [
        {
          "name": "stdout",
          "output_type": "stream",
          "text": [
            "title: The Hitchhiker's Guide to the Galaxy\n",
            "author: Douglas Adams\n",
            "year_published: 1979\n",
            "genres: ['Science Fiction', 'Comedy']\n",
            "in_stock: True\n"
          ]
        }
      ],
      "source": [
        "# Loop through key-value pairs\n",
        "for key, value in book.items():\n",
        "  print(f\"{key}: {value}\")"
      ]
    },
    {
      "cell_type": "code",
      "execution_count": 81,
      "metadata": {
        "id": "CuMLvBGAr85W"
      },
      "outputs": [
        {
          "name": "stdout",
          "output_type": "stream",
          "text": [
            "Keys: dict_keys(['title', 'author', 'year_published', 'genres', 'in_stock'])\n",
            "Values: dict_values([\"The Hitchhiker's Guide to the Galaxy\", 'Douglas Adams', 1979, ['Science Fiction', 'Comedy'], True])\n"
          ]
        }
      ],
      "source": [
        "# Get all keys or values\n",
        "print(\"Keys:\", book.keys())\n",
        "print(\"Values:\", book.values())"
      ]
    },
    {
      "cell_type": "code",
      "execution_count": 82,
      "metadata": {
        "id": "0xev93GLr2nW"
      },
      "outputs": [
        {
          "name": "stdout",
          "output_type": "stream",
          "text": [
            "Number of pages information not available.\n"
          ]
        }
      ],
      "source": [
        "# Update an element\n",
        "book[\"year_published\"] = 2024  # Update year_published\n",
        "\n",
        "# Add a new element\n",
        "book[\"isbn\"] = \"1234567890\"  # Add isbn key with value\n",
        "\n",
        "# Check if a key exists\n",
        "if \"pages\" in book:\n",
        "  print(\"Number of pages:\", book[\"pages\"])  # This will not print anything as \"pages\" key doesn't exist\n",
        "else:\n",
        "  print(\"Number of pages information not available.\")\n"
      ]
    },
    {
      "cell_type": "markdown",
      "metadata": {
        "id": "ZBp86Uy-sZ2P"
      },
      "source": [
        "### **Dictionary Exercise:**\n",
        "\n",
        "1. Add 'pages' key and its value at 555 into the book dict.\n",
        "2. Display all data of the book dict."
      ]
    },
    {
      "cell_type": "code",
      "execution_count": 172,
      "metadata": {},
      "outputs": [
        {
          "name": "stdout",
          "output_type": "stream",
          "text": [
            "title: The Hitchhiker's Guide to the Galaxy\n",
            "author: Douglas Adams\n",
            "year_published: 2024\n",
            "genres: ['Science Fiction', 'Comedy']\n",
            "in_stock: True\n",
            "isbn: 1234567890\n",
            "pages: 555\n"
          ]
        }
      ],
      "source": [
        "book[\"pages\"] = 555\n",
        "\n",
        "for key, value in book.items():\n",
        "    print(f\"{key}: {value}\",sep='')"
      ]
    },
    {
      "cell_type": "markdown",
      "metadata": {
        "id": "iDNf9B-2z7s3"
      },
      "source": [
        "**Duplicates Not Allowed**\n",
        "Dictionaries cannot have two items with the same key:"
      ]
    },
    {
      "cell_type": "code",
      "execution_count": 169,
      "metadata": {
        "id": "ZJkrSYIlz8rj"
      },
      "outputs": [
        {
          "name": "stdout",
          "output_type": "stream",
          "text": [
            "{'brand': 'Ford', 'model': 'Mustang', 'year': 2020}\n"
          ]
        }
      ],
      "source": [
        "# Duplicate values will overwrite existing values:\n",
        "thisdict = {\n",
        "  \"brand\": \"Ford\",\n",
        "  \"model\": \"Mustang\",\n",
        "  \"year\": 1964,\n",
        "  \"year\": 2020\n",
        "}\n",
        "\n",
        "print(thisdict)\n"
      ]
    },
    {
      "cell_type": "markdown",
      "metadata": {
        "id": "aKpOwNne2501"
      },
      "source": [
        "### **Variable Names**\n",
        "- A variable can have a short name (like x and y) or a more descriptive name\n",
        "(age, carname, total_volume). Rules for Python variables:\n",
        "- A variable name must start with a letter or the underscore character\n",
        "- A variable name can only contain alpha-numeric characters and underscores (A-z, 0-9, and _ )\n",
        "- Variable names are case-sensitive (age, Age and AGE are three different variables)\n",
        "\n",
        "\n",
        "**Legal variable names:**     \n",
        "*Examples*\n",
        "\n",
        "myvar = \"John\"               \n",
        "\n",
        "my_var = \"John\"                  \n",
        "\n",
        "_my_var = \"John\"                 \n",
        "\n",
        "myVar = \"John\"\n",
        "\n",
        "MYVAR = \"John\"\n",
        "\n",
        "myvar2 = \"John\"\n",
        "\n",
        "**Illegal variable names:**\n",
        "- A variable name **cannot** start with a number\n",
        "- A variable name **cannot** be any of the Python keywords.\n",
        "\n",
        "*Examples*\n",
        "\n",
        "2myvar = \"John\"\n",
        "\n",
        "my-var = \"John\"\n",
        "\n",
        "my var = \"John\""
      ]
    },
    {
      "cell_type": "code",
      "execution_count": 84,
      "metadata": {
        "id": "fWQ_SsXqy2na"
      },
      "outputs": [
        {
          "name": "stdout",
          "output_type": "stream",
          "text": [
            "5\n",
            "John\n"
          ]
        }
      ],
      "source": [
        "x = 5\n",
        "y = \"John\"\n",
        "print(x)\n",
        "print(y)"
      ]
    },
    {
      "cell_type": "markdown",
      "metadata": {
        "id": "Z3q2a2dR3LYo"
      },
      "source": [
        "### **Many Values to Multiple Variables**\n",
        "\n",
        "Python allows you to assign values to multiple variables in one line:"
      ]
    },
    {
      "cell_type": "code",
      "execution_count": 85,
      "metadata": {
        "id": "1Kbi_uth3U9D"
      },
      "outputs": [
        {
          "name": "stdout",
          "output_type": "stream",
          "text": [
            "Orange\n",
            "Banana\n",
            "Cherry\n"
          ]
        }
      ],
      "source": [
        "x, y, z = \"Orange\", \"Banana\", \"Cherry\"\n",
        "print(x)\n",
        "print(y)\n",
        "print(z)"
      ]
    },
    {
      "cell_type": "markdown",
      "metadata": {
        "id": "RcrX5TNb3YnE"
      },
      "source": [
        "### **One Value to Multiple Variables**\n",
        "And you can assign the same value to multiple variables in one line:"
      ]
    },
    {
      "cell_type": "code",
      "execution_count": 86,
      "metadata": {
        "id": "yLZblW_Q3XqJ"
      },
      "outputs": [
        {
          "name": "stdout",
          "output_type": "stream",
          "text": [
            "Orange\n",
            "Orange\n",
            "Orange\n"
          ]
        }
      ],
      "source": [
        "x = y = z = \"Orange\"\n",
        "print(x)\n",
        "print(y)\n",
        "print(z)"
      ]
    },
    {
      "cell_type": "markdown",
      "metadata": {
        "id": "iitjZ6Lf3hju"
      },
      "source": [
        "### **Unpack a Collection**\n",
        "If you have a collection of values in a list, tuple etc. Python allows you to extract the values into variables. This is called unpacking."
      ]
    },
    {
      "cell_type": "code",
      "execution_count": 87,
      "metadata": {
        "id": "DjMaIuHB3jbI"
      },
      "outputs": [
        {
          "name": "stdout",
          "output_type": "stream",
          "text": [
            "apple\n",
            "banana\n",
            "cherry\n"
          ]
        }
      ],
      "source": [
        "fruits = [\"apple\", \"banana\", \"cherry\"]\n",
        "x, y, z = fruits\n",
        "print(x)\n",
        "print(y)\n",
        "print(z)"
      ]
    },
    {
      "cell_type": "markdown",
      "metadata": {
        "id": "EWdTipOo4u99"
      },
      "source": [
        "### **Exercise Variables**\n",
        "https://www.w3schools.com/python/exercise.asp?filename=exercise_variables1"
      ]
    },
    {
      "cell_type": "markdown",
      "metadata": {
        "id": "V4PuO6Ugs2ox"
      },
      "source": [
        "## **2.3 Operations**\n",
        "\n",
        "Operators are used to perform operations on variables and values."
      ]
    },
    {
      "cell_type": "markdown",
      "metadata": {
        "id": "2Ll1EMFJtIwu"
      },
      "source": [
        "### **Python Arithmetic Operators**\n",
        "\n",
        "Arithmetic operators are used with numeric values to perform common mathematical operations:\n"
      ]
    },
    {
      "cell_type": "code",
      "execution_count": 88,
      "metadata": {
        "id": "MnHdqwMzuPtp"
      },
      "outputs": [
        {
          "name": "stdout",
          "output_type": "stream",
          "text": [
            "7\n",
            "3\n",
            "10\n",
            "2.5\n",
            "1\n",
            "25\n",
            "2\n"
          ]
        }
      ],
      "source": [
        "'''\n",
        "\n",
        "Operator................Name...................\tExample\n",
        "+\t....................Addition.................\tx + y\n",
        "-\t....................Subtraction..............\tx - y\n",
        "*\t....................Multiplication........... x * y\n",
        "/\t....................Division................. x / y\n",
        "%\t....................Modulus.................\tx % y\n",
        "**\t................. Exponentiation..........\tx ** y\n",
        "//\t..................Floor division..........\tx // y\n",
        "'''\n",
        "\n",
        "a = 5 + 2\n",
        "print(a)\n",
        "\n",
        "a = 5 - 2\n",
        "print(a)\n",
        "\n",
        "a = 5 * 2\n",
        "print(a)\n",
        "\n",
        "a = 5 / 2\n",
        "print(a)\n",
        "\n",
        "a = 5 % 2\n",
        "print(a)\n",
        "\n",
        "a = 5 ** 2\n",
        "print(a)\n",
        "\n",
        "a = 5 // 2\n",
        "print(a)\n",
        "\n"
      ]
    },
    {
      "cell_type": "markdown",
      "metadata": {
        "id": "hoGjLJ3swoRx"
      },
      "source": [
        "### **Python Comparison Operators**\n",
        "\n",
        "Comparison operators are used to compare two values:"
      ]
    },
    {
      "cell_type": "code",
      "execution_count": 89,
      "metadata": {
        "id": "a8B76espximc"
      },
      "outputs": [
        {
          "data": {
            "text/plain": [
              "'\\nOperator....................\\tName\\t.......................... Example\\n==\\t........................  Equal\\t.......................... x == y\\n!=\\t........................  Not   .......................... equal\\tx != y\\n>\\t .......................... Greater than\\t.................. x > y\\n<\\t .......................... Less than\\t....................... x < y\\n>= .................... Greater than or equal to\\t............. x >= y\\n<= ...................... Less than or equal to\\t .............. x <= y\\n'"
            ]
          },
          "execution_count": 89,
          "metadata": {},
          "output_type": "execute_result"
        }
      ],
      "source": [
        "'''\n",
        "Operator....................\tName\t.......................... Example\n",
        "==\t........................  Equal\t.......................... x == y\n",
        "!=\t........................  Not   .......................... equal\tx != y\n",
        ">\t .......................... Greater than\t.................. x > y\n",
        "<\t .......................... Less than\t....................... x < y\n",
        ">= .................... Greater than or equal to\t............. x >= y\n",
        "<= ...................... Less than or equal to\t .............. x <= y\n",
        "'''"
      ]
    },
    {
      "cell_type": "markdown",
      "metadata": {
        "id": "li5XdqxSvnvI"
      },
      "source": [
        "### **Python Logical Operators**\n",
        "\n",
        "Logical operators are used to combine conditional statements:"
      ]
    },
    {
      "cell_type": "code",
      "execution_count": 90,
      "metadata": {
        "id": "urCWbQqwxyUx"
      },
      "outputs": [
        {
          "data": {
            "text/plain": [
              "'\\nOperator..................... Description\\t............... Example\\t.............\\n\\nand......Returns True if both statements are true\\t........ x < 5 and  x < 10\\nor.......Returns True if one of the statements is true.... x < 5 or x < 4\\nnot......Reverse the result, returns False if the result is true.... not(x < 5 and x < 10)\\n'"
            ]
          },
          "execution_count": 90,
          "metadata": {},
          "output_type": "execute_result"
        }
      ],
      "source": [
        "'''\n",
        "Operator..................... Description\t............... Example\t.............\n",
        "\n",
        "and......Returns True if both statements are true\t........ x < 5 and  x < 10\n",
        "or.......Returns True if one of the statements is true.... x < 5 or x < 4\n",
        "not......Reverse the result, returns False if the result is true.... not(x < 5 and x < 10)\n",
        "'''"
      ]
    },
    {
      "cell_type": "markdown",
      "metadata": {
        "id": "BalFMZ2lWPDj"
      },
      "source": [
        "Exercise Operations:\n",
        "\n",
        "https://www.w3schools.com/python/exercise.asp?filename=exercise_operators1"
      ]
    },
    {
      "cell_type": "markdown",
      "metadata": {
        "id": "VE-rKWCPAYNx"
      },
      "source": [
        "# **3. Control Structures**"
      ]
    },
    {
      "cell_type": "markdown",
      "metadata": {
        "id": "5YgVHgEOD0wo"
      },
      "source": [
        "## **Conditions**\n",
        "\n",
        "As their name indicates, conditionals are a way to execute code depending on whether a condition is True or False. As in other languages, Python supports `if` and `else` but `else if` is contracted into `elif`, as the example below demonstrates."
      ]
    },
    {
      "cell_type": "markdown",
      "metadata": {
        "id": "Zajr9gfynh9c"
      },
      "source": [
        "### if...else"
      ]
    },
    {
      "cell_type": "code",
      "execution_count": 91,
      "metadata": {
        "id": "vC2rxhiiEAeK"
      },
      "outputs": [
        {
          "name": "stdout",
          "output_type": "stream",
          "text": [
            "positive\n"
          ]
        }
      ],
      "source": [
        "my_variable = 5\n",
        "if my_variable < 0:\n",
        "  print(\"negative\")\n",
        "elif my_variable == 0:\n",
        "  print(\"null\")\n",
        "else: # my_variable > 0\n",
        "  print(\"positive\")"
      ]
    },
    {
      "cell_type": "markdown",
      "metadata": {
        "id": "tbpAlo3xna5g"
      },
      "source": [
        "### Short Hand if ... else\n",
        "One line if else statement\n",
        "\n",
        "This technique is known as Ternary Operators, or Conditional Expressions."
      ]
    },
    {
      "cell_type": "code",
      "execution_count": 92,
      "metadata": {
        "id": "HyCJKG9XnwS4"
      },
      "outputs": [
        {
          "name": "stdout",
          "output_type": "stream",
          "text": [
            "B\n"
          ]
        }
      ],
      "source": [
        "a = 2\n",
        "b = 330\n",
        "print(\"A\") if a > b else print(\"B\")"
      ]
    },
    {
      "cell_type": "code",
      "execution_count": 93,
      "metadata": {
        "id": "bpFIw3eYoEF9"
      },
      "outputs": [
        {
          "name": "stdout",
          "output_type": "stream",
          "text": [
            "=\n"
          ]
        }
      ],
      "source": [
        "# One line if else statement, with 3 conditions:\n",
        "a = 330\n",
        "b = 330\n",
        "print(\"A\") if a > b else print(\"=\") if a == b else print(\"B\")"
      ]
    },
    {
      "cell_type": "markdown",
      "metadata": {
        "id": "BXHb-6n8oKLa"
      },
      "source": [
        "### And\n",
        "The and keyword is a logical operator, and is used to combine conditional statements:"
      ]
    },
    {
      "cell_type": "code",
      "execution_count": 94,
      "metadata": {
        "id": "3mmwZEDCoefn"
      },
      "outputs": [
        {
          "name": "stdout",
          "output_type": "stream",
          "text": [
            "Both conditions are True\n"
          ]
        }
      ],
      "source": [
        "a = 200\n",
        "b = 33\n",
        "c = 500\n",
        "if a > b and c > a:\n",
        "  print(\"Both conditions are True\")"
      ]
    },
    {
      "cell_type": "markdown",
      "metadata": {
        "id": "lKKL43IBopiO"
      },
      "source": [
        "### Or\n",
        "\n",
        "The or keyword is a logical operator, and is used to combine conditional statements:"
      ]
    },
    {
      "cell_type": "code",
      "execution_count": 95,
      "metadata": {
        "id": "2ET9R6oPoyxa"
      },
      "outputs": [
        {
          "name": "stdout",
          "output_type": "stream",
          "text": [
            "At least one of the conditions is True\n"
          ]
        }
      ],
      "source": [
        "a = 200\n",
        "b = 33\n",
        "c = 500\n",
        "if a > b or a > c:\n",
        "  print(\"At least one of the conditions is True\")"
      ]
    },
    {
      "cell_type": "markdown",
      "metadata": {
        "id": "oL0oV_Ufo1ZW"
      },
      "source": [
        "### Not\n",
        "The not keyword is a logical operator, and is used to reverse the result of the conditional statement:"
      ]
    },
    {
      "cell_type": "code",
      "execution_count": 96,
      "metadata": {
        "id": "aehv0zero4yi"
      },
      "outputs": [
        {
          "name": "stdout",
          "output_type": "stream",
          "text": [
            "a is NOT greater than b\n"
          ]
        }
      ],
      "source": [
        "a = 33\n",
        "b = 200\n",
        "if not a > b:\n",
        "  print(\"a is NOT greater than b\")"
      ]
    },
    {
      "cell_type": "markdown",
      "metadata": {
        "id": "-jfxvsflpojf"
      },
      "source": [
        "## **Conditional Exercise**\n",
        "\n",
        "กำหนดให้ a มีค่า 5 และ b มีค่า 2\n",
        "\n",
        "1. แสดงข้อความ \"Hello World\" ถ้า a ไม่เท่ากับ b\n",
        "   \n",
        "2. แสดงข้อความ \"Yes\" ถ้า a เท่ากับ b นอกนั้นแสดงข้อความ print \"No\".\n",
        "\n",
        "https://www.w3schools.com/python/exercise.asp?filename=exercise_ifelse1\n"
      ]
    },
    {
      "cell_type": "code",
      "execution_count": 218,
      "metadata": {},
      "outputs": [
        {
          "name": "stdout",
          "output_type": "stream",
          "text": [
            "Hello World\n"
          ]
        }
      ],
      "source": [
        "# 1\n",
        "if a != b:\n",
        "    print(\"Hello World\")"
      ]
    },
    {
      "cell_type": "code",
      "execution_count": 217,
      "metadata": {},
      "outputs": [
        {
          "name": "stdout",
          "output_type": "stream",
          "text": [
            "No\n"
          ]
        }
      ],
      "source": [
        "# 2\n",
        "if a == b:\n",
        "    print(\"Yes\")\n",
        "else:\n",
        "    print(\"No\")"
      ]
    },
    {
      "cell_type": "markdown",
      "metadata": {
        "id": "jII5KMgLD7U2"
      },
      "source": [
        "## **Loops**\n",
        "\n",
        "Loops are a way to execute a block of code multiple times. There are two main types of loops: while loops and for loops."
      ]
    },
    {
      "cell_type": "markdown",
      "metadata": {
        "id": "DIlFgm2JEsV1"
      },
      "source": [
        "### **For loop**\n",
        "\n",
        "A for loop is used for iterating over a sequence (that is either a list, a tuple, a dictionary, a set, or a string).\n",
        "\n",
        "This is less like the for keyword in other programming languages, and works more like an iterator method as found in other object-orientated programming languages.\n",
        "\n",
        "With the for loop we can execute a set of statements, once for each item in a list, tuple, set etc."
      ]
    },
    {
      "cell_type": "code",
      "execution_count": 97,
      "metadata": {
        "id": "nAKIsJ-pE9lb"
      },
      "outputs": [
        {
          "name": "stdout",
          "output_type": "stream",
          "text": [
            "red\n",
            "blue\n",
            "yellow\n"
          ]
        }
      ],
      "source": [
        "# Print each color in a colors list:\n",
        "colors = [\"red\", \"blue\", \"yellow\"]\n",
        "for element in colors:\n",
        "\tprint(element)"
      ]
    },
    {
      "cell_type": "code",
      "execution_count": 98,
      "metadata": {
        "id": "X_RyYb1_ievW"
      },
      "outputs": [
        {
          "data": {
            "text/plain": [
              "3"
            ]
          },
          "execution_count": 98,
          "metadata": {},
          "output_type": "execute_result"
        }
      ],
      "source": [
        "len(colors)"
      ]
    },
    {
      "cell_type": "code",
      "execution_count": 99,
      "metadata": {
        "id": "Mzz-gf91E3FR"
      },
      "outputs": [
        {
          "name": "stdout",
          "output_type": "stream",
          "text": [
            "red\n",
            "blue\n",
            "yellow\n"
          ]
        }
      ],
      "source": [
        "for i in range(len(colors)):\n",
        "  print(colors[i])"
      ]
    },
    {
      "cell_type": "code",
      "execution_count": 100,
      "metadata": {
        "id": "FBGqT7HC0xeA"
      },
      "outputs": [
        {
          "name": "stdout",
          "output_type": "stream",
          "text": [
            "b\n",
            "a\n",
            "n\n",
            "a\n",
            "n\n",
            "a\n"
          ]
        }
      ],
      "source": [
        "# Loop through the letters in the word \"banana\":\n",
        "for x in \"banana\":\n",
        "  print(x)"
      ]
    },
    {
      "cell_type": "code",
      "execution_count": 101,
      "metadata": {
        "id": "4TsKU2Bn06-1"
      },
      "outputs": [
        {
          "name": "stdout",
          "output_type": "stream",
          "text": [
            "apple\n",
            "banana\n"
          ]
        }
      ],
      "source": [
        "# The break Statement\n",
        "# With the break statement we can stop the loop before it has looped through all the items:\n",
        "\n",
        "#Exit the loop when x is \"banana\":\n",
        "fruits = [\"apple\", \"banana\", \"cherry\"]\n",
        "for x in fruits:\n",
        "  print(x)\n",
        "  if x == \"banana\":\n",
        "    break\n"
      ]
    },
    {
      "cell_type": "code",
      "execution_count": 102,
      "metadata": {
        "id": "yh8GSJKO1mGQ"
      },
      "outputs": [
        {
          "name": "stdout",
          "output_type": "stream",
          "text": [
            "apple\n"
          ]
        }
      ],
      "source": [
        "#  ชุดคำสั่งนี้ให้ผลลัพธ์ เหมือน หรือ ต่างจากข้างบน อย่างไร\n",
        "fruits = [\"apple\", \"banana\", \"cherry\"]\n",
        "for x in fruits:\n",
        "  if x == \"banana\":\n",
        "    break\n",
        "  print(x)"
      ]
    },
    {
      "cell_type": "markdown",
      "metadata": {
        "id": "WK3eyEvuWe-N"
      },
      "source": [
        "**For Loop Exercise :**\n",
        "\n",
        "https://www.w3schools.com/python/exercise.asp?filename=exercise_for_loops1"
      ]
    },
    {
      "cell_type": "markdown",
      "metadata": {
        "id": "yk8uvPb6ETNb"
      },
      "source": [
        "### **While loop**\n",
        "\n",
        "The while Loop\n",
        "\n",
        "With the while loop we can execute a set of statements as long as **a condition is true**."
      ]
    },
    {
      "cell_type": "code",
      "execution_count": 103,
      "metadata": {
        "id": "EAAxu6qiESTf"
      },
      "outputs": [
        {
          "name": "stdout",
          "output_type": "stream",
          "text": [
            "รอบที่ 1: red\n",
            "รอบที่ 2: blue\n",
            "รอบที่ 3: yellow\n"
          ]
        }
      ],
      "source": [
        "i = 0\n",
        "while i < len(colors):\n",
        "  print(\"รอบที่ \"+str(i+1) +\": \" + str(colors[i]))\n",
        "  i += 1 # equivalent to i = i + 1"
      ]
    },
    {
      "cell_type": "markdown",
      "metadata": {
        "id": "k0devLrT2QKT"
      },
      "source": [
        "### **While loop Example 2**\n",
        "\n",
        "Print i as long as i is less than 6."
      ]
    },
    {
      "cell_type": "code",
      "execution_count": 104,
      "metadata": {
        "id": "W-oLdjVk4hrU"
      },
      "outputs": [
        {
          "name": "stdout",
          "output_type": "stream",
          "text": [
            "0\n",
            "1\n",
            "2\n",
            "3\n",
            "4\n",
            "5\n"
          ]
        }
      ],
      "source": [
        "i = 0\n",
        "while i < 6:\n",
        "  print(i)\n",
        "  i += 1"
      ]
    },
    {
      "cell_type": "markdown",
      "metadata": {
        "id": "D-s9hRfWWwkr"
      },
      "source": [
        "**While Loop Exercise**:\n",
        "\n",
        "https://www.w3schools.com/python/exercise.asp?filename=exercise_while_loops1"
      ]
    },
    {
      "cell_type": "markdown",
      "metadata": {
        "id": "CE2SUOwkAgeV"
      },
      "source": [
        "#**4. Functions**\n",
        "To improve code readability, it is common to separate the code into different blocks, responsible for performing precise actions: functions. A function takes some inputs and process them to return some outputs.\n",
        "\n",
        "Python functions are defined using the `def` keyword. For example:"
      ]
    },
    {
      "cell_type": "code",
      "execution_count": 105,
      "metadata": {
        "id": "ML8Wx_QP6010"
      },
      "outputs": [],
      "source": [
        "def sayHi():\n",
        "  print(\"Hello Python, I'm OK!\")\n"
      ]
    },
    {
      "cell_type": "code",
      "execution_count": 106,
      "metadata": {
        "id": "3yYpskYP7ZN_"
      },
      "outputs": [
        {
          "name": "stdout",
          "output_type": "stream",
          "text": [
            "Hello Python, I'm OK!\n"
          ]
        }
      ],
      "source": [
        "sayHi()"
      ]
    },
    {
      "cell_type": "code",
      "execution_count": 107,
      "metadata": {
        "id": "W1r1sThtFQr9"
      },
      "outputs": [
        {
          "data": {
            "text/plain": [
              "36"
            ]
          },
          "execution_count": 107,
          "metadata": {},
          "output_type": "execute_result"
        }
      ],
      "source": [
        "# Function: square\n",
        "\n",
        "def square(x):\n",
        "  return x ** 2\n",
        "\n",
        "def multiply(a, b):\n",
        "  return a * b\n",
        "\n",
        "# Functions can be composed.\n",
        "x = square(multiply(3, 2))\n",
        "x"
      ]
    },
    {
      "cell_type": "code",
      "execution_count": 108,
      "metadata": {
        "id": "1Bs-bnkeHUsk"
      },
      "outputs": [
        {
          "name": "stdout",
          "output_type": "stream",
          "text": [
            "negative\n",
            "zero\n",
            "positive\n"
          ]
        }
      ],
      "source": [
        "# Function: sign\n",
        "def sign(x):\n",
        "    if x > 0:\n",
        "        return 'positive'\n",
        "    elif x < 0:\n",
        "        return 'negative'\n",
        "    else:\n",
        "        return 'zero'\n",
        "\n",
        "for x in [-1, 0, 1]:\n",
        "    print(sign(x))"
      ]
    },
    {
      "cell_type": "code",
      "execution_count": 109,
      "metadata": {
        "id": "UQjwmihdHh_j"
      },
      "outputs": [
        {
          "name": "stdout",
          "output_type": "stream",
          "text": [
            "Hello, Bob!\n",
            "HELLO, FRED\n"
          ]
        }
      ],
      "source": [
        "# Function: hello\n",
        "\n",
        "def hello(name, loud=False):\n",
        "    if loud:\n",
        "        print('HELLO, {}'.format(name.upper()))\n",
        "    else:\n",
        "        print('Hello, {}!'.format(name))\n",
        "\n",
        "hello('Bob')\n",
        "hello('Fred', loud=True)"
      ]
    },
    {
      "cell_type": "markdown",
      "metadata": {
        "id": "g_wU8xhdFxza"
      },
      "source": [
        "## **Exercise 1.**\n",
        "Using a conditional, write the [relu](https://en.wikipedia.org/wiki/Rectifier_(neural_networks)) function defined as follows\n",
        "\n",
        "$\\text{relu}(x) = \\left\\{\n",
        "   \\begin{array}{rl}\n",
        "     x, & \\text{if }  x \\ge 0 \\\\\n",
        "     0, & \\text{otherwise }.\n",
        "   \\end{array}\\right.$"
      ]
    },
    {
      "cell_type": "code",
      "execution_count": 119,
      "metadata": {},
      "outputs": [
        {
          "name": "stdout",
          "output_type": "stream",
          "text": [
            "1\n"
          ]
        }
      ],
      "source": [
        "def func(x):\n",
        "    if x >= 0:\n",
        "        print(x)\n",
        "    else:\n",
        "        print(0)"
      ]
    },
    {
      "cell_type": "markdown",
      "metadata": {
        "id": "eiLkms25GRa5"
      },
      "source": [
        "## **Exercise 2.**\n",
        "Using a for loop and a conditional, write a function that returns the maximum value in a vector."
      ]
    },
    {
      "cell_type": "code",
      "execution_count": 135,
      "metadata": {},
      "outputs": [
        {
          "name": "stdout",
          "output_type": "stream",
          "text": [
            "49\n"
          ]
        }
      ],
      "source": [
        "list_a = list(np.random.randint(1,50,100))\n",
        "\n",
        "def func2(list_a):\n",
        "\tfor i in list_a:\n",
        "\t\tif i == max(list_a):\n",
        "\t\t\tprint(i)\n",
        "\t\t\tbreak\n",
        "\t\telse:\n",
        "\t\t\tcontinue\n",
        "\t\t"
      ]
    },
    {
      "cell_type": "markdown",
      "metadata": {
        "id": "YJglMKGoA3hY"
      },
      "source": [
        "# **5. File I/O**"
      ]
    },
    {
      "cell_type": "markdown",
      "metadata": {
        "id": "YxUBLMg-Mcdg"
      },
      "source": [
        "Loading a csv file to a Pandas Dataframe."
      ]
    },
    {
      "cell_type": "code",
      "execution_count": 110,
      "metadata": {
        "id": "MLnGuqHoMdFo"
      },
      "outputs": [
        {
          "name": "stdout",
          "output_type": "stream",
          "text": [
            "   Course  Course_Fee Course_Duration  Course_Discount\n",
            "0   Spark       25000         50 Days             2000\n",
            "1  Pandas       20000         35 Days             1000\n",
            "2    Java       15000             NaN              800\n",
            "3  Python       15000         30 Days              500\n",
            "4     PHP       18000         30 Days              800\n"
          ]
        }
      ],
      "source": [
        "import pandas as pd\n",
        "import numpy as np\n",
        "\n",
        "technologies = ['Spark', 'Pandas', 'Java', 'Python', 'PHP']\n",
        "course_fee = [25000, 20000, 15000, 15000, 18000]\n",
        "course_duration = ['50 Days','35 Days',np.nan,'30 Days', '30 Days']\n",
        "course_discount = [2000, 1000, 800, 500, 800]\n",
        "\n",
        "df = pd.DataFrame({\n",
        "    'Course': technologies,\n",
        "    'Course_Fee': course_fee,\n",
        "    'Course_Duration': course_duration,\n",
        "    'Course_Discount': course_discount\n",
        "})\n",
        "\n",
        "print(df)\n"
      ]
    },
    {
      "cell_type": "code",
      "execution_count": 111,
      "metadata": {
        "id": "u9L5sW1HLpWV"
      },
      "outputs": [
        {
          "name": "stdout",
          "output_type": "stream",
          "text": [
            "Course              Pandas\n",
            "Course_Fee           20000\n",
            "Course_Duration    35 Days\n",
            "Course_Discount       1000\n",
            "Name: 1, dtype: object\n"
          ]
        }
      ],
      "source": [
        "# Access the second row (index 1)\n",
        "second_row = df.iloc[1]\n",
        "print(second_row)"
      ]
    },
    {
      "cell_type": "code",
      "execution_count": 112,
      "metadata": {
        "id": "OfnwpxCf4qdr"
      },
      "outputs": [
        {
          "name": "stdout",
          "output_type": "stream",
          "text": [
            "Save file complete ^^\n"
          ]
        }
      ],
      "source": [
        "# Write DataFrame to Excel file\n",
        "df.to_excel('Courses.xlsx')\n",
        "print(\"Save file complete ^^\")"
      ]
    },
    {
      "cell_type": "code",
      "execution_count": 113,
      "metadata": {
        "id": "Dbhl0c-MJFPC"
      },
      "outputs": [
        {
          "data": {
            "text/plain": [
              "0    50 Days\n",
              "1    35 Days\n",
              "2        NaN\n",
              "3    30 Days\n",
              "4    30 Days\n",
              "Name: Course_Duration, dtype: object"
            ]
          },
          "execution_count": 113,
          "metadata": {},
          "output_type": "execute_result"
        }
      ],
      "source": [
        "df[\"Course_Duration\"]"
      ]
    },
    {
      "cell_type": "code",
      "execution_count": 114,
      "metadata": {
        "id": "bTXD58KRJQbp"
      },
      "outputs": [
        {
          "data": {
            "text/plain": [
              "nan"
            ]
          },
          "execution_count": 114,
          "metadata": {},
          "output_type": "execute_result"
        }
      ],
      "source": [
        "df[\"Course_Duration\"][2]"
      ]
    },
    {
      "cell_type": "code",
      "execution_count": 115,
      "metadata": {
        "id": "3eNAvEGJJWnP"
      },
      "outputs": [
        {
          "name": "stdout",
          "output_type": "stream",
          "text": [
            "   Course  Course_Fee Course_Duration  Course_Discount\n",
            "0   Spark       25000         50 Days             2000\n",
            "1  Pandas       20000         35 Days             1000\n",
            "2    Java       15000         10 days              800\n",
            "3  Python       15000         30 Days              500\n",
            "4     PHP       18000         30 Days              800\n",
            "Save file complete ^^\n"
          ]
        },
        {
          "name": "stderr",
          "output_type": "stream",
          "text": [
            "/var/folders/7t/3b3ftw4173nfsbh_5d5nj6mh0000gn/T/ipykernel_30357/2608450636.py:1: SettingWithCopyWarning: \n",
            "A value is trying to be set on a copy of a slice from a DataFrame\n",
            "\n",
            "See the caveats in the documentation: https://pandas.pydata.org/pandas-docs/stable/user_guide/indexing.html#returning-a-view-versus-a-copy\n",
            "  df[\"Course_Duration\"][2]=\"10 days\"\n"
          ]
        }
      ],
      "source": [
        "df[\"Course_Duration\"][2]=\"10 days\"\n",
        "print(df)\n",
        "\n",
        "df.to_excel('Courses.xlsx')\n",
        "print(\"Save file complete ^^\")"
      ]
    },
    {
      "cell_type": "code",
      "execution_count": 116,
      "metadata": {
        "id": "NkRqNe2n42oj"
      },
      "outputs": [
        {
          "name": "stdout",
          "output_type": "stream",
          "text": [
            "Save file complete ^^\n"
          ]
        }
      ],
      "source": [
        "# Write to Multiple Sheets\n",
        "with pd.ExcelWriter('Courses.xlsx') as writer:\n",
        "    df.to_excel(writer, sheet_name='Technologies')\n",
        "\n",
        "print(\"Save file complete ^^\")"
      ]
    },
    {
      "cell_type": "code",
      "execution_count": 117,
      "metadata": {
        "id": "Dl2_pd935yfU"
      },
      "outputs": [
        {
          "name": "stdout",
          "output_type": "stream",
          "text": [
            "Save file complete ^^\n"
          ]
        }
      ],
      "source": [
        "# Create a new 'Fee' sheet\n",
        "# Save Selected Columns to Excel File\n",
        "with pd.ExcelWriter('Courses.xlsx',mode='a') as writer:\n",
        "    df.to_excel(writer, sheet_name='Fee', columns = ['Course_Fee','Course_Duration'])\n",
        "\n",
        "print(\"Save file complete ^^\")"
      ]
    },
    {
      "cell_type": "markdown",
      "metadata": {
        "id": "_Qpj_Su76nSy"
      },
      "source": [
        "### **Read data from Excel**\n",
        "file = 'Example.xlsx'\n",
        "sheet1 = pd.read_excel(file,\n",
        "                        sheet_name = 0,\n",
        "                        index_col = 0)"
      ]
    },
    {
      "cell_type": "code",
      "execution_count": 233,
      "metadata": {
        "id": "cK9p_ORY6mle"
      },
      "outputs": [
        {
          "data": {
            "text/html": [
              "<div>\n",
              "<style scoped>\n",
              "    .dataframe tbody tr th:only-of-type {\n",
              "        vertical-align: middle;\n",
              "    }\n",
              "\n",
              "    .dataframe tbody tr th {\n",
              "        vertical-align: top;\n",
              "    }\n",
              "\n",
              "    .dataframe thead th {\n",
              "        text-align: right;\n",
              "    }\n",
              "</style>\n",
              "<table border=\"1\" class=\"dataframe\">\n",
              "  <thead>\n",
              "    <tr style=\"text-align: right;\">\n",
              "      <th></th>\n",
              "      <th>Course</th>\n",
              "      <th>Course_Fee</th>\n",
              "      <th>Course_Duration</th>\n",
              "      <th>Course_Discount</th>\n",
              "    </tr>\n",
              "  </thead>\n",
              "  <tbody>\n",
              "    <tr>\n",
              "      <th>0</th>\n",
              "      <td>Spark</td>\n",
              "      <td>25000</td>\n",
              "      <td>50 Days</td>\n",
              "      <td>2000</td>\n",
              "    </tr>\n",
              "    <tr>\n",
              "      <th>1</th>\n",
              "      <td>Pandas</td>\n",
              "      <td>20000</td>\n",
              "      <td>35 Days</td>\n",
              "      <td>1000</td>\n",
              "    </tr>\n",
              "    <tr>\n",
              "      <th>2</th>\n",
              "      <td>Java</td>\n",
              "      <td>15000</td>\n",
              "      <td>10 days</td>\n",
              "      <td>800</td>\n",
              "    </tr>\n",
              "    <tr>\n",
              "      <th>3</th>\n",
              "      <td>Python</td>\n",
              "      <td>15000</td>\n",
              "      <td>30 Days</td>\n",
              "      <td>500</td>\n",
              "    </tr>\n",
              "    <tr>\n",
              "      <th>4</th>\n",
              "      <td>PHP</td>\n",
              "      <td>18000</td>\n",
              "      <td>30 Days</td>\n",
              "      <td>800</td>\n",
              "    </tr>\n",
              "  </tbody>\n",
              "</table>\n",
              "</div>"
            ],
            "text/plain": [
              "   Course  Course_Fee Course_Duration  Course_Discount\n",
              "0   Spark       25000         50 Days             2000\n",
              "1  Pandas       20000         35 Days             1000\n",
              "2    Java       15000         10 days              800\n",
              "3  Python       15000         30 Days              500\n",
              "4     PHP       18000         30 Days              800"
            ]
          },
          "execution_count": 233,
          "metadata": {},
          "output_type": "execute_result"
        }
      ],
      "source": [
        "file = 'Courses.xlsx'\n",
        "sheet1 = pd.read_excel(file, sheet_name = 'Technologies', index_col = 0)\n",
        "sheet1.head()"
      ]
    },
    {
      "cell_type": "code",
      "execution_count": 248,
      "metadata": {},
      "outputs": [
        {
          "data": {
            "image/png": "[encoded data removed]",
            "text/plain": [
              "<Figure size 640x480 with 1 Axes>"
            ]
          },
          "metadata": {},
          "output_type": "display_data"
        }
      ],
      "source": [
        "import matplotlib.pyplot as plt\n",
        "tech = list(sheet1.Course)\n",
        "course_fee = list(sheet1.Course_Fee)\n",
        "\n",
        "plt.bar(tech,course_fee)\n",
        "plt.xlabel(\"Tech\")\n",
        "plt.ylabel(\"Fee\")\n",
        "plt.title(\"Test Plot\")\n",
        "plt.show()"
      ]
    },
    {
      "cell_type": "markdown",
      "metadata": {
        "id": "WvprurYvQGCd"
      },
      "source": [
        "# **7. Exercise**"
      ]
    },
    {
      "cell_type": "markdown",
      "metadata": {
        "id": "zci-Y6zhRRzc"
      },
      "source": [
        "**1. เขียนโปรแกรม Python เพื่อค้นหาจำนวนสูงสุดจากตัวเลขจำนวนเต็ม 10 ตัว**\n",
        "\n",
        "numbers = [15, 3, 7, 22, 9, 4, 18, 2, 11, 6]"
      ]
    },
    {
      "cell_type": "code",
      "execution_count": 165,
      "metadata": {},
      "outputs": [
        {
          "name": "stdout",
          "output_type": "stream",
          "text": [
            "22\n"
          ]
        }
      ],
      "source": [
        "numbers = [15, 3, 7, 22, 9, 4, 18, 2, 11, 6]\n",
        "def maxi(num):\n",
        "    return max(num)\n",
        "print(maxi(numbers))"
      ]
    },
    {
      "cell_type": "markdown",
      "metadata": {
        "id": "2Q2nAEfYQG96"
      },
      "source": [
        "**2. เขียนโปรแกรม Python ที่แปลงอุณหภูมิระหว่างเซลเซียสและฟาเรนไฮต์**\n",
        "\n",
        "**Formula:**\n",
        "\n",
        "Celsius to Fahrenheit: F = (C * 9/5) + 32\n",
        "\n",
        "Fahrenheit to Celsius: C = (F - 32) * 5/9"
      ]
    },
    {
      "cell_type": "code",
      "execution_count": 177,
      "metadata": {},
      "outputs": [
        {
          "name": "stdout",
          "output_type": "stream",
          "text": [
            "73.94\n",
            "-4.833333333333333\n"
          ]
        }
      ],
      "source": [
        "def C2F(temp):\n",
        "    return temp * (9/5) + 32\n",
        "def F2C(temp):\n",
        "    return (temp - 32) * (5/9)\n",
        "temp = float(input(\"Input Temp:\"))\n",
        "print(C2F(temp))\n",
        "print(F2C(temp))"
      ]
    },
    {
      "cell_type": "markdown",
      "metadata": {
        "id": "qvaAwS06A82N"
      },
      "source": [
        "**3. เขียนโปรแกรม Python สำหรับวิเคราะห์ข้อความภาษาอังกฤษ**\n",
        "\n",
        "สร้างโปรแกรม Python ที่วิเคราะห์ข้อความที่กำหนดและให้ข้อมูลต่อไปนี้:\n",
        "\n",
        "- Number of words:\n",
        "\n",
        "- Number of sentences:  \n",
        "\n",
        "- Average word length:\n",
        "\n",
        "- Most frequent word:  \n",
        "\n",
        "- Unique words:\n",
        "\n",
        "**ตัวอย่างผลลัพธ์:**\n",
        "\n",
        "text = \"This is a sample text. It has multiple sentences and words. Let's analyze it.\"\n",
        "\n",
        "Number of words: 14\n",
        "\n",
        "Number of sentences: 3\n",
        "\n",
        "Average word length: 4.29\n",
        "\n",
        "Most frequent word: it\n",
        "\n",
        "Unique words: {'and', 'text', 'this', 'analyze', 'it', 'is', 'words', 'multiple', 'lets', 'sentences', 'has', 'a', 'sample'}\n",
        "\n",
        "\n",
        "\n",
        "คำแนะนำ:\n",
        "ใช้เมธอด split() เพื่อแยกข้อความเป็นคำและประโยค\n",
        "ใช้พจนานุกรมเพื่อนับความถี่ของคำ"
      ]
    },
    {
      "cell_type": "code",
      "execution_count": 249,
      "metadata": {},
      "outputs": [
        {
          "name": "stdout",
          "output_type": "stream",
          "text": [
            "Number of words: 14\n",
            "Number of sentences: 4\n",
            "Average word length: 4.29\n",
            "Most frequent word: it\n",
            "Unique words: {'sentences', 'and', 'analyze', 'sample', 'text', 'has', 'a', 'words', 'multiple', 'it', 'is', 'lets', 'this'}\n"
          ]
        }
      ],
      "source": [
        "import statistics\n",
        "\n",
        "def analyseText(text):\n",
        "    words_list = text.split(\" \")\n",
        "    for i in range(len(words_list)):\n",
        "        words_list[i] = words_list[i].strip(\".\").lower()\n",
        "        words_list[i] = words_list[i].replace(\"'\",\"\")\n",
        "    nW = len(words_list)\n",
        "    print(f\"Number of words: {nW}\") \n",
        "\n",
        "    sentences_list = text.split(\".\")\n",
        "    nS = len(sentences_list)\n",
        "    print(f\"Number of sentences: {nS}\")\n",
        "\n",
        "    word_len = list(map(lambda x: len(x), words_list))\n",
        "    avg_word_len = round(statistics.mean(word_len),2)\n",
        "    print(f\"Average word length: {avg_word_len}\")\n",
        "    \n",
        "    freq = {}\n",
        "    while len(words_list) > 0:\n",
        "        \n",
        "        if words_list.count(words_list[0]) > 1:\n",
        "            freq[words_list[0]] = words_list.count(words_list[0])\n",
        "            words_list = list(filter(lambda x: x != words_list[0],words_list))   \n",
        "        else:\n",
        "            freq[words_list[0]] = 1 \n",
        "            words_list.remove(words_list[0])\n",
        "    for key, value in freq.items():\n",
        "        if value == max(freq.values()):\n",
        "            print(f\"Most frequent word: {key}\")\n",
        "    \n",
        "    uq_set = set(freq)\n",
        "    # uq_set = sorted(uq_set)\n",
        "    print(f\"Unique words: {uq_set}\")\n",
        "\n",
        "analyseText(\"This is a sample text. It has multiple sentences and words. Let's analyze it.\")"
      ]
    },
    {
      "cell_type": "markdown",
      "metadata": {
        "id": "oqu0U7JuHBLO"
      },
      "source": [
        "# **References**\n",
        "https://www.w3schools.com/python/default.asp"
      ]
    }
  ],
  "metadata": {
    "colab": {
      "provenance": []
    },
    "kernelspec": {
      "display_name": "Python 3",
      "name": "python3"
    },
    "language_info": {
      "codemirror_mode": {
        "name": "ipython",
        "version": 3
      },
      "file_extension": ".py",
      "mimetype": "text/x-python",
      "name": "python",
      "nbconvert_exporter": "python",
      "pygments_lexer": "ipython3",
      "version": "3.12.4"
    }
  },
  "nbformat": 4,
  "nbformat_minor": 0
}
