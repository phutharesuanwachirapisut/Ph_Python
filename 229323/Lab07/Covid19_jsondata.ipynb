{
  "cells": [
    {
      "cell_type": "code",
      "execution_count": 5,
      "metadata": {
        "id": "GuMoD88ZPBT4"
      },
      "outputs": [],
      "source": [
        "import json\n",
        "import pandas as pd\n",
        "import numpy as np"
      ]
    },
    {
      "cell_type": "code",
      "execution_count": 10,
      "metadata": {
        "colab": {
          "base_uri": "https://localhost:8080/"
        },
        "id": "-AcVPpHMCwM0",
        "outputId": "a450445e-b636-4783-8658-08c71e40af28"
      },
      "outputs": [
        {
          "name": "stdout",
          "output_type": "stream",
          "text": [
            "    year  weeknum  new_case  total_case  new_case_excludeabroad  \\\n",
            "0   2020        3         0           2                       0   \n",
            "1   2020        3         2           2                       0   \n",
            "2   2020        4         4           6                       0   \n",
            "3   2020        4         0           4                       0   \n",
            "4   2020        5         0          19                       0   \n",
            "..   ...      ...       ...         ...                     ...   \n",
            "81  2021        9       424       26305                     353   \n",
            "82  2021       10       452       26757                     372   \n",
            "83  2021       11       956       27713                     899   \n",
            "84  2021       12       944       28657                     884   \n",
            "85  2021       13       206       28863                     137   \n",
            "\n",
            "    total_case_excludeabroad  new_recovered  total_recovered  new_death  \\\n",
            "0                          0              0                0          0   \n",
            "1                          0              0                0          0   \n",
            "2                          0              0                0          0   \n",
            "3                          0              0                0          0   \n",
            "4                          4              0                0          0   \n",
            "..                       ...            ...              ...        ...   \n",
            "81                     23474            664            25686          2   \n",
            "82                     23846            400            26086          2   \n",
            "83                     24745            426            26512          3   \n",
            "84                     25629            624            27136          4   \n",
            "85                     25766            290            27426          0   \n",
            "\n",
            "    total_death  case_foreign  case_prison  case_walkin  case_new_prev  \\\n",
            "0             0             0            0            0              2   \n",
            "1             0             2            0            0              0   \n",
            "2             0             4            0            0              1   \n",
            "3             0             0            0            0              2   \n",
            "4             0             0            0            0             13   \n",
            "..          ...           ...          ...          ...            ...   \n",
            "81           85            71            0          211            432   \n",
            "82           87            80            0          184            438   \n",
            "83           90            57            0          331            913   \n",
            "84           94            60            0          599            985   \n",
            "85           94            69            0           89            244   \n",
            "\n",
            "    case_new_diff  death_new_prev  death_new_diff          update_date  \n",
            "0              -2               0               0  2023-05-21 11:53:27  \n",
            "1               1               0               0  2024-08-04 14:43:25  \n",
            "2               3               0               0  2024-08-04 14:43:25  \n",
            "3              -2               0               0  2023-05-21 11:53:27  \n",
            "4             -13               0               0  2023-05-21 11:53:27  \n",
            "..            ...             ...             ...                  ...  \n",
            "81             -8               2               0  2024-08-04 14:43:25  \n",
            "82             14               1               1  2024-08-04 14:43:25  \n",
            "83             43               4              -1  2024-08-04 14:43:25  \n",
            "84            -41               3               1  2024-08-04 14:43:25  \n",
            "85            -38               1              -1  2024-08-04 14:43:25  \n",
            "\n",
            "[86 rows x 18 columns]\n"
          ]
        }
      ],
      "source": [
        " import urllib.request\n",
        "from pandas import json_normalize\n",
        "\n",
        "url = 'https://covid19.ddc.moph.go.th/api/Cases/round-1to2-all'\n",
        "fileobj = urllib.request.urlopen(url)\n",
        "s = fileobj.read()\n",
        "fileobj.close()\n",
        "data = json.loads(s)\n",
        "print(json_normalize(data)) # json_normalize คือการทำให้อ่านง่าย"
      ]
    },
    {
      "cell_type": "code",
      "execution_count": 11,
      "metadata": {
        "colab": {
          "base_uri": "https://localhost:8080/"
        },
        "id": "BJAPZ_xaGidr",
        "outputId": "34f3e0b4-9dd6-4a41-bb2c-4fe5f497ebf2"
      },
      "outputs": [
        {
          "data": {
            "text/plain": [
              "bytes"
            ]
          },
          "execution_count": 11,
          "metadata": {},
          "output_type": "execute_result"
        }
      ],
      "source": [
        "type(s)"
      ]
    },
    {
      "cell_type": "code",
      "execution_count": 8,
      "metadata": {
        "colab": {
          "base_uri": "https://localhost:8080/"
        },
        "id": "KgPjoxpHEv3S",
        "outputId": "809c95d9-8bd9-41b7-bdc9-c3e0bde7ecea"
      },
      "outputs": [
        {
          "name": "stdout",
          "output_type": "stream",
          "text": [
            "    year  weeknum   province  new_case  total_case  new_case_excludeabroad  \\\n",
            "0   2024       30      พังงา         0          15                       0   \n",
            "1   2024       30  สิงห์บุรี         1         154                       1   \n",
            "2   2024       30        เลย         6         467                       6   \n",
            "3   2024       30   พิษณุโลก        11         446                      11   \n",
            "4   2024       30  กาญจนบุรี         2          61                       2   \n",
            "..   ...      ...        ...       ...         ...                     ...   \n",
            "74  2024       30   ร้อยเอ็ด         7         472                       7   \n",
            "75  2024       30     ภูเก็ต         2         767                       2   \n",
            "76  2024       30   เชียงราย         3         176                       3   \n",
            "77  2024       30     กระบี่         2         189                       2   \n",
            "78  2024       30      ลำพูน         3         119                       3   \n",
            "\n",
            "    total_case_excludeabroad  new_death  total_death          update_date  \n",
            "0                         15          0            0  2024-08-04 14:43:25  \n",
            "1                        154          0            1  2024-08-04 14:43:25  \n",
            "2                        467          0            0  2024-08-04 14:43:25  \n",
            "3                        446          0            1  2024-08-04 14:43:25  \n",
            "4                         61          0           12  2024-08-04 14:43:25  \n",
            "..                       ...        ...          ...                  ...  \n",
            "74                       472          0            0  2024-08-04 14:43:25  \n",
            "75                       767          0            0  2024-08-04 14:43:25  \n",
            "76                       176          0            0  2024-08-04 14:43:25  \n",
            "77                       189          0            1  2024-08-04 14:43:25  \n",
            "78                       119          0            1  2024-08-04 14:43:25  \n",
            "\n",
            "[79 rows x 10 columns]\n"
          ]
        }
      ],
      "source": [
        "url = 'https://covid19.ddc.moph.go.th/api/Cases/today-cases-by-provinces'\n",
        "fileobj = urllib.request.urlopen(url)\n",
        "s = fileobj.read()\n",
        "fileobj.close()\n",
        "data = json.loads(s)\n",
        "print(json_normalize(data))"
      ]
    },
    {
      "cell_type": "code",
      "execution_count": 3,
      "metadata": {
        "colab": {
          "base_uri": "https://localhost:8080/",
          "height": 73
        },
        "id": "DeDW9dhRjcWA",
        "outputId": "68a1112a-d97f-4331-becd-2f21ec251a79"
      },
      "outputs": [],
      "source": [
        "# from google.colab import files\n",
        "\n",
        "# uploaded = files.upload()"
      ]
    },
    {
      "cell_type": "code",
      "execution_count": 9,
      "metadata": {
        "colab": {
          "base_uri": "https://localhost:8080/"
        },
        "id": "CEXDxGVxnIXC",
        "outputId": "5cac1ee4-36ed-4228-c15a-d98fbb4d217c"
      },
      "outputs": [
        {
          "name": "stdout",
          "output_type": "stream",
          "text": [
            "         txn_date       province  new_case  total_case  \\\n",
            "0      2020-01-12         กระบี่         0           0   \n",
            "1      2020-01-12  กรุงเทพมหานคร         1           1   \n",
            "2      2020-01-12      กาญจนบุรี         0           0   \n",
            "3      2020-01-12      กาฬสินธุ์         0           0   \n",
            "4      2020-01-12      กำแพงเพชร         0           0   \n",
            "...           ...            ...       ...         ...   \n",
            "34705  2021-03-31      เพชรบูรณ์         0           4   \n",
            "34706  2021-03-31            เลย         0          12   \n",
            "34707  2021-03-31           แพร่         0           1   \n",
            "34708  2021-03-31     แม่ฮ่องสอน         0           5   \n",
            "34709  2021-03-31        ไม่ระบุ         0          12   \n",
            "\n",
            "       new_case_excludeabroad  total_case_excludeabroad  new_death  \\\n",
            "0                           0                         0          0   \n",
            "1                           0                         0          0   \n",
            "2                           0                         0          0   \n",
            "3                           0                         0          0   \n",
            "4                           0                         0          0   \n",
            "...                       ...                       ...        ...   \n",
            "34705                       0                         3          0   \n",
            "34706                       0                        12          0   \n",
            "34707                       0                         1          0   \n",
            "34708                       0                         3          0   \n",
            "34709                       0                         0          0   \n",
            "\n",
            "       total_death  \n",
            "0                0  \n",
            "1                0  \n",
            "2                0  \n",
            "3                0  \n",
            "4                0  \n",
            "...            ...  \n",
            "34705            0  \n",
            "34706            0  \n",
            "34707            0  \n",
            "34708            0  \n",
            "34709            0  \n",
            "\n",
            "[34710 rows x 8 columns]\n"
          ]
        }
      ],
      "source": [
        "import sys\n",
        "\n",
        "from pandas import json_normalize\n",
        "\n",
        "with open('Covid_Th.json') as f:\n",
        "    edata = json.load(f)\n",
        "\n",
        "print(json_normalize(edata))\n"
      ]
    },
    {
      "cell_type": "code",
      "execution_count": 13,
      "metadata": {},
      "outputs": [
        {
          "data": {
            "text/html": [
              "<div>\n",
              "<style scoped>\n",
              "    .dataframe tbody tr th:only-of-type {\n",
              "        vertical-align: middle;\n",
              "    }\n",
              "\n",
              "    .dataframe tbody tr th {\n",
              "        vertical-align: top;\n",
              "    }\n",
              "\n",
              "    .dataframe thead th {\n",
              "        text-align: right;\n",
              "    }\n",
              "</style>\n",
              "<table border=\"1\" class=\"dataframe\">\n",
              "  <thead>\n",
              "    <tr style=\"text-align: right;\">\n",
              "      <th></th>\n",
              "      <th>txn_date</th>\n",
              "      <th>province</th>\n",
              "      <th>new_case</th>\n",
              "      <th>total_case</th>\n",
              "      <th>new_case_excludeabroad</th>\n",
              "      <th>total_case_excludeabroad</th>\n",
              "      <th>new_death</th>\n",
              "      <th>total_death</th>\n",
              "    </tr>\n",
              "  </thead>\n",
              "  <tbody>\n",
              "    <tr>\n",
              "      <th>0</th>\n",
              "      <td>2020-01-12</td>\n",
              "      <td>กระบี่</td>\n",
              "      <td>0</td>\n",
              "      <td>0</td>\n",
              "      <td>0</td>\n",
              "      <td>0</td>\n",
              "      <td>0</td>\n",
              "      <td>0</td>\n",
              "    </tr>\n",
              "    <tr>\n",
              "      <th>1</th>\n",
              "      <td>2020-01-12</td>\n",
              "      <td>กรุงเทพมหานคร</td>\n",
              "      <td>1</td>\n",
              "      <td>1</td>\n",
              "      <td>0</td>\n",
              "      <td>0</td>\n",
              "      <td>0</td>\n",
              "      <td>0</td>\n",
              "    </tr>\n",
              "    <tr>\n",
              "      <th>2</th>\n",
              "      <td>2020-01-12</td>\n",
              "      <td>กาญจนบุรี</td>\n",
              "      <td>0</td>\n",
              "      <td>0</td>\n",
              "      <td>0</td>\n",
              "      <td>0</td>\n",
              "      <td>0</td>\n",
              "      <td>0</td>\n",
              "    </tr>\n",
              "    <tr>\n",
              "      <th>3</th>\n",
              "      <td>2020-01-12</td>\n",
              "      <td>กาฬสินธุ์</td>\n",
              "      <td>0</td>\n",
              "      <td>0</td>\n",
              "      <td>0</td>\n",
              "      <td>0</td>\n",
              "      <td>0</td>\n",
              "      <td>0</td>\n",
              "    </tr>\n",
              "    <tr>\n",
              "      <th>4</th>\n",
              "      <td>2020-01-12</td>\n",
              "      <td>กำแพงเพชร</td>\n",
              "      <td>0</td>\n",
              "      <td>0</td>\n",
              "      <td>0</td>\n",
              "      <td>0</td>\n",
              "      <td>0</td>\n",
              "      <td>0</td>\n",
              "    </tr>\n",
              "    <tr>\n",
              "      <th>...</th>\n",
              "      <td>...</td>\n",
              "      <td>...</td>\n",
              "      <td>...</td>\n",
              "      <td>...</td>\n",
              "      <td>...</td>\n",
              "      <td>...</td>\n",
              "      <td>...</td>\n",
              "      <td>...</td>\n",
              "    </tr>\n",
              "    <tr>\n",
              "      <th>34705</th>\n",
              "      <td>2021-03-31</td>\n",
              "      <td>เพชรบูรณ์</td>\n",
              "      <td>0</td>\n",
              "      <td>4</td>\n",
              "      <td>0</td>\n",
              "      <td>3</td>\n",
              "      <td>0</td>\n",
              "      <td>0</td>\n",
              "    </tr>\n",
              "    <tr>\n",
              "      <th>34706</th>\n",
              "      <td>2021-03-31</td>\n",
              "      <td>เลย</td>\n",
              "      <td>0</td>\n",
              "      <td>12</td>\n",
              "      <td>0</td>\n",
              "      <td>12</td>\n",
              "      <td>0</td>\n",
              "      <td>0</td>\n",
              "    </tr>\n",
              "    <tr>\n",
              "      <th>34707</th>\n",
              "      <td>2021-03-31</td>\n",
              "      <td>แพร่</td>\n",
              "      <td>0</td>\n",
              "      <td>1</td>\n",
              "      <td>0</td>\n",
              "      <td>1</td>\n",
              "      <td>0</td>\n",
              "      <td>0</td>\n",
              "    </tr>\n",
              "    <tr>\n",
              "      <th>34708</th>\n",
              "      <td>2021-03-31</td>\n",
              "      <td>แม่ฮ่องสอน</td>\n",
              "      <td>0</td>\n",
              "      <td>5</td>\n",
              "      <td>0</td>\n",
              "      <td>3</td>\n",
              "      <td>0</td>\n",
              "      <td>0</td>\n",
              "    </tr>\n",
              "    <tr>\n",
              "      <th>34709</th>\n",
              "      <td>2021-03-31</td>\n",
              "      <td>ไม่ระบุ</td>\n",
              "      <td>0</td>\n",
              "      <td>12</td>\n",
              "      <td>0</td>\n",
              "      <td>0</td>\n",
              "      <td>0</td>\n",
              "      <td>0</td>\n",
              "    </tr>\n",
              "  </tbody>\n",
              "</table>\n",
              "<p>34710 rows × 8 columns</p>\n",
              "</div>"
            ],
            "text/plain": [
              "         txn_date       province  new_case  total_case  \\\n",
              "0      2020-01-12         กระบี่         0           0   \n",
              "1      2020-01-12  กรุงเทพมหานคร         1           1   \n",
              "2      2020-01-12      กาญจนบุรี         0           0   \n",
              "3      2020-01-12      กาฬสินธุ์         0           0   \n",
              "4      2020-01-12      กำแพงเพชร         0           0   \n",
              "...           ...            ...       ...         ...   \n",
              "34705  2021-03-31      เพชรบูรณ์         0           4   \n",
              "34706  2021-03-31            เลย         0          12   \n",
              "34707  2021-03-31           แพร่         0           1   \n",
              "34708  2021-03-31     แม่ฮ่องสอน         0           5   \n",
              "34709  2021-03-31        ไม่ระบุ         0          12   \n",
              "\n",
              "       new_case_excludeabroad  total_case_excludeabroad  new_death  \\\n",
              "0                           0                         0          0   \n",
              "1                           0                         0          0   \n",
              "2                           0                         0          0   \n",
              "3                           0                         0          0   \n",
              "4                           0                         0          0   \n",
              "...                       ...                       ...        ...   \n",
              "34705                       0                         3          0   \n",
              "34706                       0                        12          0   \n",
              "34707                       0                         1          0   \n",
              "34708                       0                         3          0   \n",
              "34709                       0                         0          0   \n",
              "\n",
              "       total_death  \n",
              "0                0  \n",
              "1                0  \n",
              "2                0  \n",
              "3                0  \n",
              "4                0  \n",
              "...            ...  \n",
              "34705            0  \n",
              "34706            0  \n",
              "34707            0  \n",
              "34708            0  \n",
              "34709            0  \n",
              "\n",
              "[34710 rows x 8 columns]"
            ]
          },
          "execution_count": 13,
          "metadata": {},
          "output_type": "execute_result"
        }
      ],
      "source": [
        "df = pd.DataFrame(edata);df"
      ]
    },
    {
      "cell_type": "code",
      "execution_count": null,
      "metadata": {},
      "outputs": [],
      "source": []
    }
  ],
  "metadata": {
    "colab": {
      "provenance": []
    },
    "kernelspec": {
      "display_name": "Python 3",
      "name": "python3"
    },
    "language_info": {
      "codemirror_mode": {
        "name": "ipython",
        "version": 3
      },
      "file_extension": ".py",
      "mimetype": "text/x-python",
      "name": "python",
      "nbconvert_exporter": "python",
      "pygments_lexer": "ipython3",
      "version": "3.12.4"
    }
  },
  "nbformat": 4,
  "nbformat_minor": 0
}
