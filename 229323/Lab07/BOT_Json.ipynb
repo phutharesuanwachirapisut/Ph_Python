{
  "cells": [
    {
      "cell_type": "markdown",
      "metadata": {
        "colab_type": "text",
        "id": "ixY-txSNMFe5"
      },
      "source": [
        "# **BOT API apply**\n",
        "\n",
        "ให้ทำการสมัครสมาชิกของธนาคารแห่งประเทศไทย\n",
        "จากนั้นใส่ client-id ที่ได้รับ\n",
        "และทำการเชื่อมต่อข้อมูล Statistics exchange rate โดยกำหนดวันเริ่มต้นคือ 2020-08-01 วันสิ้นสุดคือ 2020-08-27 สกุลเงิน USD"
      ]
    },
    {
      "cell_type": "code",
      "execution_count": 74,
      "metadata": {
        "colab": {},
        "colab_type": "code",
        "id": "2noy3C36pmCM"
      },
      "outputs": [
        {
          "name": "stdout",
          "output_type": "stream",
          "text": [
            "{\"result\":{\"timestamp\":\"2024-08-06 17:05:56\",\"api\":\"Daily Weighted-average Interbank Exchange Rate - THB / USD\",\"data\":{\"data_header\":{\"report_name_eng\":\"Rates of Exchange of Commercial Banks in Bangkok Metropolis (2002-present)\",\"report_name_th\":\"อัตราแลกเปลี่ยนเฉลี่ยของธนาคารพาณิชย์ในกรุงเทพมหานคร (2545-ปัจจุบัน)\",\"report_uoq_name_eng\":\"(Unit: Baht / 1 Unit of Foreign Currency)\",\"report_uoq_name_th\":\"(หน่วย: บาท ต่อ 1 หน่วยเงินตราต่างประเทศ)\",\"report_source_of_data\":[{\"source_of_data_eng\":\"Bank of Thailand\",\"source_of_data_th\":\"ธนาคารแห่งประเทศไทย\"}],\"report_remark\":[{\"report_remark_eng\":\"Since Nov 16, 2015 the data regarding Buying Transfer Rate of PKR has been changed to Buying Rate using Foreign Exchange Rates (THOMSON REUTERS) with Bangkok Market Crossing.\",\"report_remark_th\":\"ตั้งแต่วันที่ 16 พ.ย. 2558 ข้อมูลในอัตราซื้อเงินโอนของสกุล PKR ได้เปลี่ยนเป็นอัตราซื้อที่ใช้อัตราในตลาดต่างประเทศ (ทอมสันรอยเตอร์) คำนวณผ่านอัตราซื้อขายเงินดอลลาร์ สรอ. ในตลาดกรุงเทพฯ\"}],\"last_updated\":\"2024-08-05\"},\"data_detail\":[{\"period\":\"2020-02-27\",\"currency_id\":\"USD\",\"currency_name_th\":\"สหรัฐอเมริกา : ดอลลาร์ (USD)\",\"currency_name_eng\":\"USA : DOLLAR (USD) \",\"buying_sight\":\"31.5450000\",\"buying_transfer\":\"31.6390000\",\"selling\":\"31.9890000\",\"mid_rate\":\"31.8140000\"},{\"period\":\"2020-02-26\",\"currency_id\":\"USD\",\"currency_name_th\":\"สหรัฐอเมริกา : ดอลลาร์ (USD)\",\"currency_name_eng\":\"USA : DOLLAR (USD) \",\"buying_sight\":\"31.5922000\",\"buying_transfer\":\"31.6797000\",\"selling\":\"32.0174000\",\"mid_rate\":\"31.8486000\"},{\"period\":\"2020-02-25\",\"currency_id\":\"USD\",\"currency_name_th\":\"สหรัฐอเมริกา : ดอลลาร์ (USD)\",\"currency_name_eng\":\"USA : DOLLAR (USD) \",\"buying_sight\":\"31.3818000\",\"buying_transfer\":\"31.4750000\",\"selling\":\"31.8135000\",\"mid_rate\":\"31.6443000\"},{\"period\":\"2020-02-24\",\"currency_id\":\"USD\",\"currency_name_th\":\"สหรัฐอเมริกา : ดอลลาร์ (USD)\",\"currency_name_eng\":\"USA : DOLLAR (USD) \",\"buying_sight\":\"31.4617000\",\"buying_transfer\":\"31.5555000\",\"selling\":\"31.8995000\",\"mid_rate\":\"31.7275000\"},{\"period\":\"2020-02-21\",\"currency_id\":\"USD\",\"currency_name_th\":\"สหรัฐอเมริกา : ดอลลาร์ (USD)\",\"currency_name_eng\":\"USA : DOLLAR (USD) \",\"buying_sight\":\"31.3281000\",\"buying_transfer\":\"31.4222000\",\"selling\":\"31.7577000\",\"mid_rate\":\"31.5900000\"},{\"period\":\"2020-02-20\",\"currency_id\":\"USD\",\"currency_name_th\":\"สหรัฐอเมริกา : ดอลลาร์ (USD)\",\"currency_name_eng\":\"USA : DOLLAR (USD) \",\"buying_sight\":\"31.0463000\",\"buying_transfer\":\"31.1413000\",\"selling\":\"31.4741000\",\"mid_rate\":\"31.3077000\"},{\"period\":\"2020-02-19\",\"currency_id\":\"USD\",\"currency_name_th\":\"สหรัฐอเมริกา : ดอลลาร์ (USD)\",\"currency_name_eng\":\"USA : DOLLAR (USD) \",\"buying_sight\":\"30.9284000\",\"buying_transfer\":\"31.0169000\",\"selling\":\"31.3618000\",\"mid_rate\":\"31.1894000\"},{\"period\":\"2020-02-18\",\"currency_id\":\"USD\",\"currency_name_th\":\"สหรัฐอเมริกา : ดอลลาร์ (USD)\",\"currency_name_eng\":\"USA : DOLLAR (USD) \",\"buying_sight\":\"30.9637000\",\"buying_transfer\":\"31.0511000\",\"selling\":\"31.3899000\",\"mid_rate\":\"31.2205000\"},{\"period\":\"2020-02-17\",\"currency_id\":\"USD\",\"currency_name_th\":\"สหรัฐอเมริกา : ดอลลาร์ (USD)\",\"currency_name_eng\":\"USA : DOLLAR (USD) \",\"buying_sight\":\"30.9093000\",\"buying_transfer\":\"31.0017000\",\"selling\":\"31.3481000\",\"mid_rate\":\"31.1749000\"},{\"period\":\"2020-02-14\",\"currency_id\":\"USD\",\"currency_name_th\":\"สหรัฐอเมริกา : ดอลลาร์ (USD)\",\"currency_name_eng\":\"USA : DOLLAR (USD) \",\"buying_sight\":\"30.8870000\",\"buying_transfer\":\"30.9801000\",\"selling\":\"31.3263000\",\"mid_rate\":\"31.1532000\"},{\"period\":\"2020-02-13\",\"currency_id\":\"USD\",\"currency_name_th\":\"สหรัฐอเมริกา : ดอลลาร์ (USD)\",\"currency_name_eng\":\"USA : DOLLAR (USD) \",\"buying_sight\":\"30.8944000\",\"buying_transfer\":\"30.9817000\",\"selling\":\"31.3194000\",\"mid_rate\":\"31.1506000\"},{\"period\":\"2020-02-12\",\"currency_id\":\"USD\",\"currency_name_th\":\"สหรัฐอเมริกา : ดอลลาร์ (USD)\",\"currency_name_eng\":\"USA : DOLLAR (USD) \",\"buying_sight\":\"30.9152000\",\"buying_transfer\":\"31.0033000\",\"selling\":\"31.3299000\",\"mid_rate\":\"31.1666000\"},{\"period\":\"2020-02-11\",\"currency_id\":\"USD\",\"currency_name_th\":\"สหรัฐอเมริกา : ดอลลาร์ (USD)\",\"currency_name_eng\":\"USA : DOLLAR (USD) \",\"buying_sight\":\"30.9378000\",\"buying_transfer\":\"31.0317000\",\"selling\":\"31.3821000\",\"mid_rate\":\"31.2069000\"},{\"period\":\"2020-02-07\",\"currency_id\":\"USD\",\"currency_name_th\":\"สหรัฐอเมริกา : ดอลลาร์ (USD)\",\"currency_name_eng\":\"USA : DOLLAR (USD) \",\"buying_sight\":\"30.9250000\",\"buying_transfer\":\"31.0120000\",\"selling\":\"31.3462000\",\"mid_rate\":\"31.1791000\"},{\"period\":\"2020-02-06\",\"currency_id\":\"USD\",\"currency_name_th\":\"สหรัฐอเมริกา : ดอลลาร์ (USD)\",\"currency_name_eng\":\"USA : DOLLAR (USD) \",\"buying_sight\":\"30.8352000\",\"buying_transfer\":\"30.9183000\",\"selling\":\"31.2457000\",\"mid_rate\":\"31.0820000\"},{\"period\":\"2020-02-05\",\"currency_id\":\"USD\",\"currency_name_th\":\"สหรัฐอเมริกา : ดอลลาร์ (USD)\",\"currency_name_eng\":\"USA : DOLLAR (USD) \",\"buying_sight\":\"30.8310000\",\"buying_transfer\":\"30.9240000\",\"selling\":\"31.2612000\",\"mid_rate\":\"31.0926000\"},{\"period\":\"2020-02-04\",\"currency_id\":\"USD\",\"currency_name_th\":\"สหรัฐอเมริกา : ดอลลาร์ (USD)\",\"currency_name_eng\":\"USA : DOLLAR (USD) \",\"buying_sight\":\"30.7538000\",\"buying_transfer\":\"30.8482000\",\"selling\":\"31.1895000\",\"mid_rate\":\"31.0189000\"},{\"period\":\"2020-02-03\",\"currency_id\":\"USD\",\"currency_name_th\":\"สหรัฐอเมริกา : ดอลลาร์ (USD)\",\"currency_name_eng\":\"USA : DOLLAR (USD) \",\"buying_sight\":\"30.9168000\",\"buying_transfer\":\"31.0122000\",\"selling\":\"31.3541000\",\"mid_rate\":\"31.1832000\"}]}}}\n"
          ]
        }
      ],
      "source": [
        "# Client Secret -> uH1lG6jC2gT8xL8mM8kG1vU5mO7xW2wB1jS6sF4tV8rA6hN2qT\n",
        "# Client ID -> 22d3fe85-7202-48db-a033-af389aa8c2d3\n",
        "import http.client\n",
        "\n",
        "conn = http.client.HTTPSConnection(\"apigw1.bot.or.th\")\n",
        "\n",
        "headers = { 'X-IBM-Client-Id': \"22d3fe85-7202-48db-a033-af389aa8c2d3\" }\n",
        "\n",
        "conn.request(\"GET\", \"/bot/public/Stat-ExchangeRate/v2/DAILY_AVG_EXG_RATE/?start_period=2020-02-01&end_period=2020-02-27&currency=USD\", headers=headers)\n",
        "\n",
        "res = conn.getresponse()\n",
        "data = res.read()\n",
        "\n",
        "print(data.decode(\"utf-8\"))"
      ]
    },
    {
      "cell_type": "markdown",
      "metadata": {
        "colab_type": "text",
        "id": "D0J5N_zANmFD"
      },
      "source": [
        "#**Read json data**\n",
        "ทำการอ่านข้อมูล json ที่อ่านเข้ามาและเก็บไว้ในตัวแปร obj"
      ]
    },
    {
      "cell_type": "code",
      "execution_count": 75,
      "metadata": {
        "colab": {},
        "colab_type": "code",
        "id": "fifO6mAmZsIZ"
      },
      "outputs": [],
      "source": [
        "import json\n",
        "obj = json.loads(data)"
      ]
    },
    {
      "cell_type": "markdown",
      "metadata": {
        "colab_type": "text",
        "id": "vn9mEojbOBJb"
      },
      "source": [
        "# **แสดงข้อมูล obj**"
      ]
    },
    {
      "cell_type": "code",
      "execution_count": 76,
      "metadata": {
        "colab": {
          "base_uri": "https://localhost:8080/",
          "height": 1000
        },
        "colab_type": "code",
        "id": "ZSympSydETlo",
        "outputId": "6ec378f4-46a0-4303-f0ee-447f4d870185"
      },
      "outputs": [
        {
          "data": {
            "text/plain": [
              "{'result': {'timestamp': '2024-08-06 17:05:56',\n",
              "  'api': 'Daily Weighted-average Interbank Exchange Rate - THB / USD',\n",
              "  'data': {'data_header': {'report_name_eng': 'Rates of Exchange of Commercial Banks in Bangkok Metropolis (2002-present)',\n",
              "    'report_name_th': 'อัตราแลกเปลี่ยนเฉลี่ยของธนาคารพาณิชย์ในกรุงเทพมหานคร (2545-ปัจจุบัน)',\n",
              "    'report_uoq_name_eng': '(Unit: Baht / 1 Unit of Foreign Currency)',\n",
              "    'report_uoq_name_th': '(หน่วย: บาท ต่อ 1 หน่วยเงินตราต่างประเทศ)',\n",
              "    'report_source_of_data': [{'source_of_data_eng': 'Bank of Thailand',\n",
              "      'source_of_data_th': 'ธนาคารแห่งประเทศไทย'}],\n",
              "    'report_remark': [{'report_remark_eng': 'Since Nov 16, 2015 the data regarding Buying Transfer Rate of PKR has been changed to Buying Rate using Foreign Exchange Rates (THOMSON REUTERS) with Bangkok Market Crossing.',\n",
              "      'report_remark_th': 'ตั้งแต่วันที่ 16 พ.ย. 2558 ข้อมูลในอัตราซื้อเงินโอนของสกุล PKR ได้เปลี่ยนเป็นอัตราซื้อที่ใช้อัตราในตลาดต่างประเทศ (ทอมสันรอยเตอร์) คำนวณผ่านอัตราซื้อขายเงินดอลลาร์ สรอ. ในตลาดกรุงเทพฯ'}],\n",
              "    'last_updated': '2024-08-05'},\n",
              "   'data_detail': [{'period': '2020-02-27',\n",
              "     'currency_id': 'USD',\n",
              "     'currency_name_th': 'สหรัฐอเมริกา : ดอลลาร์ (USD)',\n",
              "     'currency_name_eng': 'USA : DOLLAR (USD) ',\n",
              "     'buying_sight': '31.5450000',\n",
              "     'buying_transfer': '31.6390000',\n",
              "     'selling': '31.9890000',\n",
              "     'mid_rate': '31.8140000'},\n",
              "    {'period': '2020-02-26',\n",
              "     'currency_id': 'USD',\n",
              "     'currency_name_th': 'สหรัฐอเมริกา : ดอลลาร์ (USD)',\n",
              "     'currency_name_eng': 'USA : DOLLAR (USD) ',\n",
              "     'buying_sight': '31.5922000',\n",
              "     'buying_transfer': '31.6797000',\n",
              "     'selling': '32.0174000',\n",
              "     'mid_rate': '31.8486000'},\n",
              "    {'period': '2020-02-25',\n",
              "     'currency_id': 'USD',\n",
              "     'currency_name_th': 'สหรัฐอเมริกา : ดอลลาร์ (USD)',\n",
              "     'currency_name_eng': 'USA : DOLLAR (USD) ',\n",
              "     'buying_sight': '31.3818000',\n",
              "     'buying_transfer': '31.4750000',\n",
              "     'selling': '31.8135000',\n",
              "     'mid_rate': '31.6443000'},\n",
              "    {'period': '2020-02-24',\n",
              "     'currency_id': 'USD',\n",
              "     'currency_name_th': 'สหรัฐอเมริกา : ดอลลาร์ (USD)',\n",
              "     'currency_name_eng': 'USA : DOLLAR (USD) ',\n",
              "     'buying_sight': '31.4617000',\n",
              "     'buying_transfer': '31.5555000',\n",
              "     'selling': '31.8995000',\n",
              "     'mid_rate': '31.7275000'},\n",
              "    {'period': '2020-02-21',\n",
              "     'currency_id': 'USD',\n",
              "     'currency_name_th': 'สหรัฐอเมริกา : ดอลลาร์ (USD)',\n",
              "     'currency_name_eng': 'USA : DOLLAR (USD) ',\n",
              "     'buying_sight': '31.3281000',\n",
              "     'buying_transfer': '31.4222000',\n",
              "     'selling': '31.7577000',\n",
              "     'mid_rate': '31.5900000'},\n",
              "    {'period': '2020-02-20',\n",
              "     'currency_id': 'USD',\n",
              "     'currency_name_th': 'สหรัฐอเมริกา : ดอลลาร์ (USD)',\n",
              "     'currency_name_eng': 'USA : DOLLAR (USD) ',\n",
              "     'buying_sight': '31.0463000',\n",
              "     'buying_transfer': '31.1413000',\n",
              "     'selling': '31.4741000',\n",
              "     'mid_rate': '31.3077000'},\n",
              "    {'period': '2020-02-19',\n",
              "     'currency_id': 'USD',\n",
              "     'currency_name_th': 'สหรัฐอเมริกา : ดอลลาร์ (USD)',\n",
              "     'currency_name_eng': 'USA : DOLLAR (USD) ',\n",
              "     'buying_sight': '30.9284000',\n",
              "     'buying_transfer': '31.0169000',\n",
              "     'selling': '31.3618000',\n",
              "     'mid_rate': '31.1894000'},\n",
              "    {'period': '2020-02-18',\n",
              "     'currency_id': 'USD',\n",
              "     'currency_name_th': 'สหรัฐอเมริกา : ดอลลาร์ (USD)',\n",
              "     'currency_name_eng': 'USA : DOLLAR (USD) ',\n",
              "     'buying_sight': '30.9637000',\n",
              "     'buying_transfer': '31.0511000',\n",
              "     'selling': '31.3899000',\n",
              "     'mid_rate': '31.2205000'},\n",
              "    {'period': '2020-02-17',\n",
              "     'currency_id': 'USD',\n",
              "     'currency_name_th': 'สหรัฐอเมริกา : ดอลลาร์ (USD)',\n",
              "     'currency_name_eng': 'USA : DOLLAR (USD) ',\n",
              "     'buying_sight': '30.9093000',\n",
              "     'buying_transfer': '31.0017000',\n",
              "     'selling': '31.3481000',\n",
              "     'mid_rate': '31.1749000'},\n",
              "    {'period': '2020-02-14',\n",
              "     'currency_id': 'USD',\n",
              "     'currency_name_th': 'สหรัฐอเมริกา : ดอลลาร์ (USD)',\n",
              "     'currency_name_eng': 'USA : DOLLAR (USD) ',\n",
              "     'buying_sight': '30.8870000',\n",
              "     'buying_transfer': '30.9801000',\n",
              "     'selling': '31.3263000',\n",
              "     'mid_rate': '31.1532000'},\n",
              "    {'period': '2020-02-13',\n",
              "     'currency_id': 'USD',\n",
              "     'currency_name_th': 'สหรัฐอเมริกา : ดอลลาร์ (USD)',\n",
              "     'currency_name_eng': 'USA : DOLLAR (USD) ',\n",
              "     'buying_sight': '30.8944000',\n",
              "     'buying_transfer': '30.9817000',\n",
              "     'selling': '31.3194000',\n",
              "     'mid_rate': '31.1506000'},\n",
              "    {'period': '2020-02-12',\n",
              "     'currency_id': 'USD',\n",
              "     'currency_name_th': 'สหรัฐอเมริกา : ดอลลาร์ (USD)',\n",
              "     'currency_name_eng': 'USA : DOLLAR (USD) ',\n",
              "     'buying_sight': '30.9152000',\n",
              "     'buying_transfer': '31.0033000',\n",
              "     'selling': '31.3299000',\n",
              "     'mid_rate': '31.1666000'},\n",
              "    {'period': '2020-02-11',\n",
              "     'currency_id': 'USD',\n",
              "     'currency_name_th': 'สหรัฐอเมริกา : ดอลลาร์ (USD)',\n",
              "     'currency_name_eng': 'USA : DOLLAR (USD) ',\n",
              "     'buying_sight': '30.9378000',\n",
              "     'buying_transfer': '31.0317000',\n",
              "     'selling': '31.3821000',\n",
              "     'mid_rate': '31.2069000'},\n",
              "    {'period': '2020-02-07',\n",
              "     'currency_id': 'USD',\n",
              "     'currency_name_th': 'สหรัฐอเมริกา : ดอลลาร์ (USD)',\n",
              "     'currency_name_eng': 'USA : DOLLAR (USD) ',\n",
              "     'buying_sight': '30.9250000',\n",
              "     'buying_transfer': '31.0120000',\n",
              "     'selling': '31.3462000',\n",
              "     'mid_rate': '31.1791000'},\n",
              "    {'period': '2020-02-06',\n",
              "     'currency_id': 'USD',\n",
              "     'currency_name_th': 'สหรัฐอเมริกา : ดอลลาร์ (USD)',\n",
              "     'currency_name_eng': 'USA : DOLLAR (USD) ',\n",
              "     'buying_sight': '30.8352000',\n",
              "     'buying_transfer': '30.9183000',\n",
              "     'selling': '31.2457000',\n",
              "     'mid_rate': '31.0820000'},\n",
              "    {'period': '2020-02-05',\n",
              "     'currency_id': 'USD',\n",
              "     'currency_name_th': 'สหรัฐอเมริกา : ดอลลาร์ (USD)',\n",
              "     'currency_name_eng': 'USA : DOLLAR (USD) ',\n",
              "     'buying_sight': '30.8310000',\n",
              "     'buying_transfer': '30.9240000',\n",
              "     'selling': '31.2612000',\n",
              "     'mid_rate': '31.0926000'},\n",
              "    {'period': '2020-02-04',\n",
              "     'currency_id': 'USD',\n",
              "     'currency_name_th': 'สหรัฐอเมริกา : ดอลลาร์ (USD)',\n",
              "     'currency_name_eng': 'USA : DOLLAR (USD) ',\n",
              "     'buying_sight': '30.7538000',\n",
              "     'buying_transfer': '30.8482000',\n",
              "     'selling': '31.1895000',\n",
              "     'mid_rate': '31.0189000'},\n",
              "    {'period': '2020-02-03',\n",
              "     'currency_id': 'USD',\n",
              "     'currency_name_th': 'สหรัฐอเมริกา : ดอลลาร์ (USD)',\n",
              "     'currency_name_eng': 'USA : DOLLAR (USD) ',\n",
              "     'buying_sight': '30.9168000',\n",
              "     'buying_transfer': '31.0122000',\n",
              "     'selling': '31.3541000',\n",
              "     'mid_rate': '31.1832000'}]}}}"
            ]
          },
          "execution_count": 76,
          "metadata": {},
          "output_type": "execute_result"
        }
      ],
      "source": [
        "obj"
      ]
    },
    {
      "cell_type": "markdown",
      "metadata": {
        "colab_type": "text",
        "id": "I8zWcLy1kWVC"
      },
      "source": [
        "แสดงชนิดข้อมูลของ obj"
      ]
    },
    {
      "cell_type": "code",
      "execution_count": 77,
      "metadata": {
        "colab": {
          "base_uri": "https://localhost:8080/",
          "height": 33
        },
        "colab_type": "code",
        "id": "WHUwZhHIOtTX",
        "outputId": "68e8a66b-33bd-4aee-c50f-10bdb46b64dc"
      },
      "outputs": [
        {
          "data": {
            "text/plain": [
              "dict"
            ]
          },
          "execution_count": 77,
          "metadata": {},
          "output_type": "execute_result"
        }
      ],
      "source": [
        "type(obj)"
      ]
    },
    {
      "cell_type": "markdown",
      "metadata": {
        "colab_type": "text",
        "id": "bP5SkJ9WljuI"
      },
      "source": [
        "แสดงข้อมูลอธิบายรายละเอียดบรรทัดแรกของ obj"
      ]
    },
    {
      "cell_type": "code",
      "execution_count": 78,
      "metadata": {
        "colab": {
          "base_uri": "https://localhost:8080/",
          "height": 53
        },
        "colab_type": "code",
        "id": "hiwgdcOuOzMY",
        "outputId": "d7edad98-9978-4b9d-b4df-b112084059c6"
      },
      "outputs": [
        {
          "name": "stdout",
          "output_type": "stream",
          "text": [
            "{'timestamp': '2024-08-06 17:05:56', 'api': 'Daily Weighted-average Interbank Exchange Rate - THB / USD', 'data': {'data_header': {'report_name_eng': 'Rates of Exchange of Commercial Banks in Bangkok Metropolis (2002-present)', 'report_name_th': 'อัตราแลกเปลี่ยนเฉลี่ยของธนาคารพาณิชย์ในกรุงเทพมหานคร (2545-ปัจจุบัน)', 'report_uoq_name_eng': '(Unit: Baht / 1 Unit of Foreign Currency)', 'report_uoq_name_th': '(หน่วย: บาท ต่อ 1 หน่วยเงินตราต่างประเทศ)', 'report_source_of_data': [{'source_of_data_eng': 'Bank of Thailand', 'source_of_data_th': 'ธนาคารแห่งประเทศไทย'}], 'report_remark': [{'report_remark_eng': 'Since Nov 16, 2015 the data regarding Buying Transfer Rate of PKR has been changed to Buying Rate using Foreign Exchange Rates (THOMSON REUTERS) with Bangkok Market Crossing.', 'report_remark_th': 'ตั้งแต่วันที่ 16 พ.ย. 2558 ข้อมูลในอัตราซื้อเงินโอนของสกุล PKR ได้เปลี่ยนเป็นอัตราซื้อที่ใช้อัตราในตลาดต่างประเทศ (ทอมสันรอยเตอร์) คำนวณผ่านอัตราซื้อขายเงินดอลลาร์ สรอ. ในตลาดกรุงเทพฯ'}], 'last_updated': '2024-08-05'}, 'data_detail': [{'period': '2020-02-27', 'currency_id': 'USD', 'currency_name_th': 'สหรัฐอเมริกา : ดอลลาร์ (USD)', 'currency_name_eng': 'USA : DOLLAR (USD) ', 'buying_sight': '31.5450000', 'buying_transfer': '31.6390000', 'selling': '31.9890000', 'mid_rate': '31.8140000'}, {'period': '2020-02-26', 'currency_id': 'USD', 'currency_name_th': 'สหรัฐอเมริกา : ดอลลาร์ (USD)', 'currency_name_eng': 'USA : DOLLAR (USD) ', 'buying_sight': '31.5922000', 'buying_transfer': '31.6797000', 'selling': '32.0174000', 'mid_rate': '31.8486000'}, {'period': '2020-02-25', 'currency_id': 'USD', 'currency_name_th': 'สหรัฐอเมริกา : ดอลลาร์ (USD)', 'currency_name_eng': 'USA : DOLLAR (USD) ', 'buying_sight': '31.3818000', 'buying_transfer': '31.4750000', 'selling': '31.8135000', 'mid_rate': '31.6443000'}, {'period': '2020-02-24', 'currency_id': 'USD', 'currency_name_th': 'สหรัฐอเมริกา : ดอลลาร์ (USD)', 'currency_name_eng': 'USA : DOLLAR (USD) ', 'buying_sight': '31.4617000', 'buying_transfer': '31.5555000', 'selling': '31.8995000', 'mid_rate': '31.7275000'}, {'period': '2020-02-21', 'currency_id': 'USD', 'currency_name_th': 'สหรัฐอเมริกา : ดอลลาร์ (USD)', 'currency_name_eng': 'USA : DOLLAR (USD) ', 'buying_sight': '31.3281000', 'buying_transfer': '31.4222000', 'selling': '31.7577000', 'mid_rate': '31.5900000'}, {'period': '2020-02-20', 'currency_id': 'USD', 'currency_name_th': 'สหรัฐอเมริกา : ดอลลาร์ (USD)', 'currency_name_eng': 'USA : DOLLAR (USD) ', 'buying_sight': '31.0463000', 'buying_transfer': '31.1413000', 'selling': '31.4741000', 'mid_rate': '31.3077000'}, {'period': '2020-02-19', 'currency_id': 'USD', 'currency_name_th': 'สหรัฐอเมริกา : ดอลลาร์ (USD)', 'currency_name_eng': 'USA : DOLLAR (USD) ', 'buying_sight': '30.9284000', 'buying_transfer': '31.0169000', 'selling': '31.3618000', 'mid_rate': '31.1894000'}, {'period': '2020-02-18', 'currency_id': 'USD', 'currency_name_th': 'สหรัฐอเมริกา : ดอลลาร์ (USD)', 'currency_name_eng': 'USA : DOLLAR (USD) ', 'buying_sight': '30.9637000', 'buying_transfer': '31.0511000', 'selling': '31.3899000', 'mid_rate': '31.2205000'}, {'period': '2020-02-17', 'currency_id': 'USD', 'currency_name_th': 'สหรัฐอเมริกา : ดอลลาร์ (USD)', 'currency_name_eng': 'USA : DOLLAR (USD) ', 'buying_sight': '30.9093000', 'buying_transfer': '31.0017000', 'selling': '31.3481000', 'mid_rate': '31.1749000'}, {'period': '2020-02-14', 'currency_id': 'USD', 'currency_name_th': 'สหรัฐอเมริกา : ดอลลาร์ (USD)', 'currency_name_eng': 'USA : DOLLAR (USD) ', 'buying_sight': '30.8870000', 'buying_transfer': '30.9801000', 'selling': '31.3263000', 'mid_rate': '31.1532000'}, {'period': '2020-02-13', 'currency_id': 'USD', 'currency_name_th': 'สหรัฐอเมริกา : ดอลลาร์ (USD)', 'currency_name_eng': 'USA : DOLLAR (USD) ', 'buying_sight': '30.8944000', 'buying_transfer': '30.9817000', 'selling': '31.3194000', 'mid_rate': '31.1506000'}, {'period': '2020-02-12', 'currency_id': 'USD', 'currency_name_th': 'สหรัฐอเมริกา : ดอลลาร์ (USD)', 'currency_name_eng': 'USA : DOLLAR (USD) ', 'buying_sight': '30.9152000', 'buying_transfer': '31.0033000', 'selling': '31.3299000', 'mid_rate': '31.1666000'}, {'period': '2020-02-11', 'currency_id': 'USD', 'currency_name_th': 'สหรัฐอเมริกา : ดอลลาร์ (USD)', 'currency_name_eng': 'USA : DOLLAR (USD) ', 'buying_sight': '30.9378000', 'buying_transfer': '31.0317000', 'selling': '31.3821000', 'mid_rate': '31.2069000'}, {'period': '2020-02-07', 'currency_id': 'USD', 'currency_name_th': 'สหรัฐอเมริกา : ดอลลาร์ (USD)', 'currency_name_eng': 'USA : DOLLAR (USD) ', 'buying_sight': '30.9250000', 'buying_transfer': '31.0120000', 'selling': '31.3462000', 'mid_rate': '31.1791000'}, {'period': '2020-02-06', 'currency_id': 'USD', 'currency_name_th': 'สหรัฐอเมริกา : ดอลลาร์ (USD)', 'currency_name_eng': 'USA : DOLLAR (USD) ', 'buying_sight': '30.8352000', 'buying_transfer': '30.9183000', 'selling': '31.2457000', 'mid_rate': '31.0820000'}, {'period': '2020-02-05', 'currency_id': 'USD', 'currency_name_th': 'สหรัฐอเมริกา : ดอลลาร์ (USD)', 'currency_name_eng': 'USA : DOLLAR (USD) ', 'buying_sight': '30.8310000', 'buying_transfer': '30.9240000', 'selling': '31.2612000', 'mid_rate': '31.0926000'}, {'period': '2020-02-04', 'currency_id': 'USD', 'currency_name_th': 'สหรัฐอเมริกา : ดอลลาร์ (USD)', 'currency_name_eng': 'USA : DOLLAR (USD) ', 'buying_sight': '30.7538000', 'buying_transfer': '30.8482000', 'selling': '31.1895000', 'mid_rate': '31.0189000'}, {'period': '2020-02-03', 'currency_id': 'USD', 'currency_name_th': 'สหรัฐอเมริกา : ดอลลาร์ (USD)', 'currency_name_eng': 'USA : DOLLAR (USD) ', 'buying_sight': '30.9168000', 'buying_transfer': '31.0122000', 'selling': '31.3541000', 'mid_rate': '31.1832000'}]}}\n"
          ]
        }
      ],
      "source": [
        "print(obj[\"result\"])"
      ]
    },
    {
      "cell_type": "markdown",
      "metadata": {
        "colab_type": "text",
        "id": "1VphKaUhltUX"
      },
      "source": [
        "แสดงข้อมูล data_header ของ obj"
      ]
    },
    {
      "cell_type": "code",
      "execution_count": 79,
      "metadata": {
        "colab": {
          "base_uri": "https://localhost:8080/",
          "height": 53
        },
        "colab_type": "code",
        "id": "RONEdQiAPGMe",
        "outputId": "28f19084-2273-439c-a651-e61f21f37e42"
      },
      "outputs": [
        {
          "name": "stdout",
          "output_type": "stream",
          "text": [
            "{'report_name_eng': 'Rates of Exchange of Commercial Banks in Bangkok Metropolis (2002-present)', 'report_name_th': 'อัตราแลกเปลี่ยนเฉลี่ยของธนาคารพาณิชย์ในกรุงเทพมหานคร (2545-ปัจจุบัน)', 'report_uoq_name_eng': '(Unit: Baht / 1 Unit of Foreign Currency)', 'report_uoq_name_th': '(หน่วย: บาท ต่อ 1 หน่วยเงินตราต่างประเทศ)', 'report_source_of_data': [{'source_of_data_eng': 'Bank of Thailand', 'source_of_data_th': 'ธนาคารแห่งประเทศไทย'}], 'report_remark': [{'report_remark_eng': 'Since Nov 16, 2015 the data regarding Buying Transfer Rate of PKR has been changed to Buying Rate using Foreign Exchange Rates (THOMSON REUTERS) with Bangkok Market Crossing.', 'report_remark_th': 'ตั้งแต่วันที่ 16 พ.ย. 2558 ข้อมูลในอัตราซื้อเงินโอนของสกุล PKR ได้เปลี่ยนเป็นอัตราซื้อที่ใช้อัตราในตลาดต่างประเทศ (ทอมสันรอยเตอร์) คำนวณผ่านอัตราซื้อขายเงินดอลลาร์ สรอ. ในตลาดกรุงเทพฯ'}], 'last_updated': '2024-08-05'}\n"
          ]
        }
      ],
      "source": [
        "print(obj[\"result\"][\"data\"][\"data_header\"])\n",
        "# data อยู่ใน result\n",
        "# data_header อยู่ใน data"
      ]
    },
    {
      "cell_type": "markdown",
      "metadata": {
        "colab_type": "text",
        "id": "iZfv2UUel2EB"
      },
      "source": [
        "แสดงข้อมูล data_detail ของ obj"
      ]
    },
    {
      "cell_type": "code",
      "execution_count": 80,
      "metadata": {
        "colab": {
          "base_uri": "https://localhost:8080/",
          "height": 53
        },
        "colab_type": "code",
        "id": "0IluP2tjPB8x",
        "outputId": "42147e4e-3f1b-4ab0-b0c6-8d73f8e37cad"
      },
      "outputs": [
        {
          "name": "stdout",
          "output_type": "stream",
          "text": [
            "[{'period': '2020-02-27', 'currency_id': 'USD', 'currency_name_th': 'สหรัฐอเมริกา : ดอลลาร์ (USD)', 'currency_name_eng': 'USA : DOLLAR (USD) ', 'buying_sight': '31.5450000', 'buying_transfer': '31.6390000', 'selling': '31.9890000', 'mid_rate': '31.8140000'}, {'period': '2020-02-26', 'currency_id': 'USD', 'currency_name_th': 'สหรัฐอเมริกา : ดอลลาร์ (USD)', 'currency_name_eng': 'USA : DOLLAR (USD) ', 'buying_sight': '31.5922000', 'buying_transfer': '31.6797000', 'selling': '32.0174000', 'mid_rate': '31.8486000'}, {'period': '2020-02-25', 'currency_id': 'USD', 'currency_name_th': 'สหรัฐอเมริกา : ดอลลาร์ (USD)', 'currency_name_eng': 'USA : DOLLAR (USD) ', 'buying_sight': '31.3818000', 'buying_transfer': '31.4750000', 'selling': '31.8135000', 'mid_rate': '31.6443000'}, {'period': '2020-02-24', 'currency_id': 'USD', 'currency_name_th': 'สหรัฐอเมริกา : ดอลลาร์ (USD)', 'currency_name_eng': 'USA : DOLLAR (USD) ', 'buying_sight': '31.4617000', 'buying_transfer': '31.5555000', 'selling': '31.8995000', 'mid_rate': '31.7275000'}, {'period': '2020-02-21', 'currency_id': 'USD', 'currency_name_th': 'สหรัฐอเมริกา : ดอลลาร์ (USD)', 'currency_name_eng': 'USA : DOLLAR (USD) ', 'buying_sight': '31.3281000', 'buying_transfer': '31.4222000', 'selling': '31.7577000', 'mid_rate': '31.5900000'}, {'period': '2020-02-20', 'currency_id': 'USD', 'currency_name_th': 'สหรัฐอเมริกา : ดอลลาร์ (USD)', 'currency_name_eng': 'USA : DOLLAR (USD) ', 'buying_sight': '31.0463000', 'buying_transfer': '31.1413000', 'selling': '31.4741000', 'mid_rate': '31.3077000'}, {'period': '2020-02-19', 'currency_id': 'USD', 'currency_name_th': 'สหรัฐอเมริกา : ดอลลาร์ (USD)', 'currency_name_eng': 'USA : DOLLAR (USD) ', 'buying_sight': '30.9284000', 'buying_transfer': '31.0169000', 'selling': '31.3618000', 'mid_rate': '31.1894000'}, {'period': '2020-02-18', 'currency_id': 'USD', 'currency_name_th': 'สหรัฐอเมริกา : ดอลลาร์ (USD)', 'currency_name_eng': 'USA : DOLLAR (USD) ', 'buying_sight': '30.9637000', 'buying_transfer': '31.0511000', 'selling': '31.3899000', 'mid_rate': '31.2205000'}, {'period': '2020-02-17', 'currency_id': 'USD', 'currency_name_th': 'สหรัฐอเมริกา : ดอลลาร์ (USD)', 'currency_name_eng': 'USA : DOLLAR (USD) ', 'buying_sight': '30.9093000', 'buying_transfer': '31.0017000', 'selling': '31.3481000', 'mid_rate': '31.1749000'}, {'period': '2020-02-14', 'currency_id': 'USD', 'currency_name_th': 'สหรัฐอเมริกา : ดอลลาร์ (USD)', 'currency_name_eng': 'USA : DOLLAR (USD) ', 'buying_sight': '30.8870000', 'buying_transfer': '30.9801000', 'selling': '31.3263000', 'mid_rate': '31.1532000'}, {'period': '2020-02-13', 'currency_id': 'USD', 'currency_name_th': 'สหรัฐอเมริกา : ดอลลาร์ (USD)', 'currency_name_eng': 'USA : DOLLAR (USD) ', 'buying_sight': '30.8944000', 'buying_transfer': '30.9817000', 'selling': '31.3194000', 'mid_rate': '31.1506000'}, {'period': '2020-02-12', 'currency_id': 'USD', 'currency_name_th': 'สหรัฐอเมริกา : ดอลลาร์ (USD)', 'currency_name_eng': 'USA : DOLLAR (USD) ', 'buying_sight': '30.9152000', 'buying_transfer': '31.0033000', 'selling': '31.3299000', 'mid_rate': '31.1666000'}, {'period': '2020-02-11', 'currency_id': 'USD', 'currency_name_th': 'สหรัฐอเมริกา : ดอลลาร์ (USD)', 'currency_name_eng': 'USA : DOLLAR (USD) ', 'buying_sight': '30.9378000', 'buying_transfer': '31.0317000', 'selling': '31.3821000', 'mid_rate': '31.2069000'}, {'period': '2020-02-07', 'currency_id': 'USD', 'currency_name_th': 'สหรัฐอเมริกา : ดอลลาร์ (USD)', 'currency_name_eng': 'USA : DOLLAR (USD) ', 'buying_sight': '30.9250000', 'buying_transfer': '31.0120000', 'selling': '31.3462000', 'mid_rate': '31.1791000'}, {'period': '2020-02-06', 'currency_id': 'USD', 'currency_name_th': 'สหรัฐอเมริกา : ดอลลาร์ (USD)', 'currency_name_eng': 'USA : DOLLAR (USD) ', 'buying_sight': '30.8352000', 'buying_transfer': '30.9183000', 'selling': '31.2457000', 'mid_rate': '31.0820000'}, {'period': '2020-02-05', 'currency_id': 'USD', 'currency_name_th': 'สหรัฐอเมริกา : ดอลลาร์ (USD)', 'currency_name_eng': 'USA : DOLLAR (USD) ', 'buying_sight': '30.8310000', 'buying_transfer': '30.9240000', 'selling': '31.2612000', 'mid_rate': '31.0926000'}, {'period': '2020-02-04', 'currency_id': 'USD', 'currency_name_th': 'สหรัฐอเมริกา : ดอลลาร์ (USD)', 'currency_name_eng': 'USA : DOLLAR (USD) ', 'buying_sight': '30.7538000', 'buying_transfer': '30.8482000', 'selling': '31.1895000', 'mid_rate': '31.0189000'}, {'period': '2020-02-03', 'currency_id': 'USD', 'currency_name_th': 'สหรัฐอเมริกา : ดอลลาร์ (USD)', 'currency_name_eng': 'USA : DOLLAR (USD) ', 'buying_sight': '30.9168000', 'buying_transfer': '31.0122000', 'selling': '31.3541000', 'mid_rate': '31.1832000'}]\n"
          ]
        }
      ],
      "source": [
        "print(obj[\"result\"][\"data\"][\"data_detail\"])\n",
        "# data อยู่ใน result\n",
        "# data_detail อยู่ใน data"
      ]
    },
    {
      "cell_type": "code",
      "execution_count": 81,
      "metadata": {
        "colab": {},
        "colab_type": "code",
        "id": "upLUuqobXt6g"
      },
      "outputs": [],
      "source": [
        "import pandas as pd\n",
        "import numpy as np"
      ]
    },
    {
      "cell_type": "markdown",
      "metadata": {
        "colab_type": "text",
        "id": "qq1FbjTdl6mV"
      },
      "source": [
        "สร้างตัวแปร info เป็นข้อมูล DataFrame เก็บข้อมูล obj"
      ]
    },
    {
      "cell_type": "code",
      "execution_count": 82,
      "metadata": {
        "colab": {
          "base_uri": "https://localhost:8080/",
          "height": 334
        },
        "colab_type": "code",
        "id": "uruP-Th-fLWP",
        "outputId": "c9df02dd-62b1-4d68-db45-3f69910f0838"
      },
      "outputs": [
        {
          "data": {
            "text/html": [
              "<div>\n",
              "<style scoped>\n",
              "    .dataframe tbody tr th:only-of-type {\n",
              "        vertical-align: middle;\n",
              "    }\n",
              "\n",
              "    .dataframe tbody tr th {\n",
              "        vertical-align: top;\n",
              "    }\n",
              "\n",
              "    .dataframe thead th {\n",
              "        text-align: right;\n",
              "    }\n",
              "</style>\n",
              "<table border=\"1\" class=\"dataframe\">\n",
              "  <thead>\n",
              "    <tr style=\"text-align: right;\">\n",
              "      <th></th>\n",
              "      <th>period</th>\n",
              "      <th>currency_id</th>\n",
              "      <th>currency_name_th</th>\n",
              "      <th>currency_name_eng</th>\n",
              "      <th>buying_sight</th>\n",
              "      <th>buying_transfer</th>\n",
              "      <th>selling</th>\n",
              "      <th>mid_rate</th>\n",
              "    </tr>\n",
              "  </thead>\n",
              "  <tbody>\n",
              "    <tr>\n",
              "      <th>0</th>\n",
              "      <td>2020-02-27</td>\n",
              "      <td>USD</td>\n",
              "      <td>สหรัฐอเมริกา : ดอลลาร์ (USD)</td>\n",
              "      <td>USA : DOLLAR (USD)</td>\n",
              "      <td>31.5450000</td>\n",
              "      <td>31.6390000</td>\n",
              "      <td>31.9890000</td>\n",
              "      <td>31.8140000</td>\n",
              "    </tr>\n",
              "    <tr>\n",
              "      <th>1</th>\n",
              "      <td>2020-02-26</td>\n",
              "      <td>USD</td>\n",
              "      <td>สหรัฐอเมริกา : ดอลลาร์ (USD)</td>\n",
              "      <td>USA : DOLLAR (USD)</td>\n",
              "      <td>31.5922000</td>\n",
              "      <td>31.6797000</td>\n",
              "      <td>32.0174000</td>\n",
              "      <td>31.8486000</td>\n",
              "    </tr>\n",
              "    <tr>\n",
              "      <th>2</th>\n",
              "      <td>2020-02-25</td>\n",
              "      <td>USD</td>\n",
              "      <td>สหรัฐอเมริกา : ดอลลาร์ (USD)</td>\n",
              "      <td>USA : DOLLAR (USD)</td>\n",
              "      <td>31.3818000</td>\n",
              "      <td>31.4750000</td>\n",
              "      <td>31.8135000</td>\n",
              "      <td>31.6443000</td>\n",
              "    </tr>\n",
              "    <tr>\n",
              "      <th>3</th>\n",
              "      <td>2020-02-24</td>\n",
              "      <td>USD</td>\n",
              "      <td>สหรัฐอเมริกา : ดอลลาร์ (USD)</td>\n",
              "      <td>USA : DOLLAR (USD)</td>\n",
              "      <td>31.4617000</td>\n",
              "      <td>31.5555000</td>\n",
              "      <td>31.8995000</td>\n",
              "      <td>31.7275000</td>\n",
              "    </tr>\n",
              "    <tr>\n",
              "      <th>4</th>\n",
              "      <td>2020-02-21</td>\n",
              "      <td>USD</td>\n",
              "      <td>สหรัฐอเมริกา : ดอลลาร์ (USD)</td>\n",
              "      <td>USA : DOLLAR (USD)</td>\n",
              "      <td>31.3281000</td>\n",
              "      <td>31.4222000</td>\n",
              "      <td>31.7577000</td>\n",
              "      <td>31.5900000</td>\n",
              "    </tr>\n",
              "    <tr>\n",
              "      <th>5</th>\n",
              "      <td>2020-02-20</td>\n",
              "      <td>USD</td>\n",
              "      <td>สหรัฐอเมริกา : ดอลลาร์ (USD)</td>\n",
              "      <td>USA : DOLLAR (USD)</td>\n",
              "      <td>31.0463000</td>\n",
              "      <td>31.1413000</td>\n",
              "      <td>31.4741000</td>\n",
              "      <td>31.3077000</td>\n",
              "    </tr>\n",
              "    <tr>\n",
              "      <th>6</th>\n",
              "      <td>2020-02-19</td>\n",
              "      <td>USD</td>\n",
              "      <td>สหรัฐอเมริกา : ดอลลาร์ (USD)</td>\n",
              "      <td>USA : DOLLAR (USD)</td>\n",
              "      <td>30.9284000</td>\n",
              "      <td>31.0169000</td>\n",
              "      <td>31.3618000</td>\n",
              "      <td>31.1894000</td>\n",
              "    </tr>\n",
              "    <tr>\n",
              "      <th>7</th>\n",
              "      <td>2020-02-18</td>\n",
              "      <td>USD</td>\n",
              "      <td>สหรัฐอเมริกา : ดอลลาร์ (USD)</td>\n",
              "      <td>USA : DOLLAR (USD)</td>\n",
              "      <td>30.9637000</td>\n",
              "      <td>31.0511000</td>\n",
              "      <td>31.3899000</td>\n",
              "      <td>31.2205000</td>\n",
              "    </tr>\n",
              "    <tr>\n",
              "      <th>8</th>\n",
              "      <td>2020-02-17</td>\n",
              "      <td>USD</td>\n",
              "      <td>สหรัฐอเมริกา : ดอลลาร์ (USD)</td>\n",
              "      <td>USA : DOLLAR (USD)</td>\n",
              "      <td>30.9093000</td>\n",
              "      <td>31.0017000</td>\n",
              "      <td>31.3481000</td>\n",
              "      <td>31.1749000</td>\n",
              "    </tr>\n",
              "    <tr>\n",
              "      <th>9</th>\n",
              "      <td>2020-02-14</td>\n",
              "      <td>USD</td>\n",
              "      <td>สหรัฐอเมริกา : ดอลลาร์ (USD)</td>\n",
              "      <td>USA : DOLLAR (USD)</td>\n",
              "      <td>30.8870000</td>\n",
              "      <td>30.9801000</td>\n",
              "      <td>31.3263000</td>\n",
              "      <td>31.1532000</td>\n",
              "    </tr>\n",
              "    <tr>\n",
              "      <th>10</th>\n",
              "      <td>2020-02-13</td>\n",
              "      <td>USD</td>\n",
              "      <td>สหรัฐอเมริกา : ดอลลาร์ (USD)</td>\n",
              "      <td>USA : DOLLAR (USD)</td>\n",
              "      <td>30.8944000</td>\n",
              "      <td>30.9817000</td>\n",
              "      <td>31.3194000</td>\n",
              "      <td>31.1506000</td>\n",
              "    </tr>\n",
              "    <tr>\n",
              "      <th>11</th>\n",
              "      <td>2020-02-12</td>\n",
              "      <td>USD</td>\n",
              "      <td>สหรัฐอเมริกา : ดอลลาร์ (USD)</td>\n",
              "      <td>USA : DOLLAR (USD)</td>\n",
              "      <td>30.9152000</td>\n",
              "      <td>31.0033000</td>\n",
              "      <td>31.3299000</td>\n",
              "      <td>31.1666000</td>\n",
              "    </tr>\n",
              "    <tr>\n",
              "      <th>12</th>\n",
              "      <td>2020-02-11</td>\n",
              "      <td>USD</td>\n",
              "      <td>สหรัฐอเมริกา : ดอลลาร์ (USD)</td>\n",
              "      <td>USA : DOLLAR (USD)</td>\n",
              "      <td>30.9378000</td>\n",
              "      <td>31.0317000</td>\n",
              "      <td>31.3821000</td>\n",
              "      <td>31.2069000</td>\n",
              "    </tr>\n",
              "    <tr>\n",
              "      <th>13</th>\n",
              "      <td>2020-02-07</td>\n",
              "      <td>USD</td>\n",
              "      <td>สหรัฐอเมริกา : ดอลลาร์ (USD)</td>\n",
              "      <td>USA : DOLLAR (USD)</td>\n",
              "      <td>30.9250000</td>\n",
              "      <td>31.0120000</td>\n",
              "      <td>31.3462000</td>\n",
              "      <td>31.1791000</td>\n",
              "    </tr>\n",
              "    <tr>\n",
              "      <th>14</th>\n",
              "      <td>2020-02-06</td>\n",
              "      <td>USD</td>\n",
              "      <td>สหรัฐอเมริกา : ดอลลาร์ (USD)</td>\n",
              "      <td>USA : DOLLAR (USD)</td>\n",
              "      <td>30.8352000</td>\n",
              "      <td>30.9183000</td>\n",
              "      <td>31.2457000</td>\n",
              "      <td>31.0820000</td>\n",
              "    </tr>\n",
              "    <tr>\n",
              "      <th>15</th>\n",
              "      <td>2020-02-05</td>\n",
              "      <td>USD</td>\n",
              "      <td>สหรัฐอเมริกา : ดอลลาร์ (USD)</td>\n",
              "      <td>USA : DOLLAR (USD)</td>\n",
              "      <td>30.8310000</td>\n",
              "      <td>30.9240000</td>\n",
              "      <td>31.2612000</td>\n",
              "      <td>31.0926000</td>\n",
              "    </tr>\n",
              "    <tr>\n",
              "      <th>16</th>\n",
              "      <td>2020-02-04</td>\n",
              "      <td>USD</td>\n",
              "      <td>สหรัฐอเมริกา : ดอลลาร์ (USD)</td>\n",
              "      <td>USA : DOLLAR (USD)</td>\n",
              "      <td>30.7538000</td>\n",
              "      <td>30.8482000</td>\n",
              "      <td>31.1895000</td>\n",
              "      <td>31.0189000</td>\n",
              "    </tr>\n",
              "    <tr>\n",
              "      <th>17</th>\n",
              "      <td>2020-02-03</td>\n",
              "      <td>USD</td>\n",
              "      <td>สหรัฐอเมริกา : ดอลลาร์ (USD)</td>\n",
              "      <td>USA : DOLLAR (USD)</td>\n",
              "      <td>30.9168000</td>\n",
              "      <td>31.0122000</td>\n",
              "      <td>31.3541000</td>\n",
              "      <td>31.1832000</td>\n",
              "    </tr>\n",
              "  </tbody>\n",
              "</table>\n",
              "</div>"
            ],
            "text/plain": [
              "        period currency_id              currency_name_th    currency_name_eng  \\\n",
              "0   2020-02-27         USD  สหรัฐอเมริกา : ดอลลาร์ (USD)  USA : DOLLAR (USD)    \n",
              "1   2020-02-26         USD  สหรัฐอเมริกา : ดอลลาร์ (USD)  USA : DOLLAR (USD)    \n",
              "2   2020-02-25         USD  สหรัฐอเมริกา : ดอลลาร์ (USD)  USA : DOLLAR (USD)    \n",
              "3   2020-02-24         USD  สหรัฐอเมริกา : ดอลลาร์ (USD)  USA : DOLLAR (USD)    \n",
              "4   2020-02-21         USD  สหรัฐอเมริกา : ดอลลาร์ (USD)  USA : DOLLAR (USD)    \n",
              "5   2020-02-20         USD  สหรัฐอเมริกา : ดอลลาร์ (USD)  USA : DOLLAR (USD)    \n",
              "6   2020-02-19         USD  สหรัฐอเมริกา : ดอลลาร์ (USD)  USA : DOLLAR (USD)    \n",
              "7   2020-02-18         USD  สหรัฐอเมริกา : ดอลลาร์ (USD)  USA : DOLLAR (USD)    \n",
              "8   2020-02-17         USD  สหรัฐอเมริกา : ดอลลาร์ (USD)  USA : DOLLAR (USD)    \n",
              "9   2020-02-14         USD  สหรัฐอเมริกา : ดอลลาร์ (USD)  USA : DOLLAR (USD)    \n",
              "10  2020-02-13         USD  สหรัฐอเมริกา : ดอลลาร์ (USD)  USA : DOLLAR (USD)    \n",
              "11  2020-02-12         USD  สหรัฐอเมริกา : ดอลลาร์ (USD)  USA : DOLLAR (USD)    \n",
              "12  2020-02-11         USD  สหรัฐอเมริกา : ดอลลาร์ (USD)  USA : DOLLAR (USD)    \n",
              "13  2020-02-07         USD  สหรัฐอเมริกา : ดอลลาร์ (USD)  USA : DOLLAR (USD)    \n",
              "14  2020-02-06         USD  สหรัฐอเมริกา : ดอลลาร์ (USD)  USA : DOLLAR (USD)    \n",
              "15  2020-02-05         USD  สหรัฐอเมริกา : ดอลลาร์ (USD)  USA : DOLLAR (USD)    \n",
              "16  2020-02-04         USD  สหรัฐอเมริกา : ดอลลาร์ (USD)  USA : DOLLAR (USD)    \n",
              "17  2020-02-03         USD  สหรัฐอเมริกา : ดอลลาร์ (USD)  USA : DOLLAR (USD)    \n",
              "\n",
              "   buying_sight buying_transfer     selling    mid_rate  \n",
              "0    31.5450000      31.6390000  31.9890000  31.8140000  \n",
              "1    31.5922000      31.6797000  32.0174000  31.8486000  \n",
              "2    31.3818000      31.4750000  31.8135000  31.6443000  \n",
              "3    31.4617000      31.5555000  31.8995000  31.7275000  \n",
              "4    31.3281000      31.4222000  31.7577000  31.5900000  \n",
              "5    31.0463000      31.1413000  31.4741000  31.3077000  \n",
              "6    30.9284000      31.0169000  31.3618000  31.1894000  \n",
              "7    30.9637000      31.0511000  31.3899000  31.2205000  \n",
              "8    30.9093000      31.0017000  31.3481000  31.1749000  \n",
              "9    30.8870000      30.9801000  31.3263000  31.1532000  \n",
              "10   30.8944000      30.9817000  31.3194000  31.1506000  \n",
              "11   30.9152000      31.0033000  31.3299000  31.1666000  \n",
              "12   30.9378000      31.0317000  31.3821000  31.2069000  \n",
              "13   30.9250000      31.0120000  31.3462000  31.1791000  \n",
              "14   30.8352000      30.9183000  31.2457000  31.0820000  \n",
              "15   30.8310000      30.9240000  31.2612000  31.0926000  \n",
              "16   30.7538000      30.8482000  31.1895000  31.0189000  \n",
              "17   30.9168000      31.0122000  31.3541000  31.1832000  "
            ]
          },
          "execution_count": 82,
          "metadata": {},
          "output_type": "execute_result"
        }
      ],
      "source": [
        "info = pd.DataFrame(obj[\"result\"][\"data\"][\"data_detail\"]);info"
      ]
    },
    {
      "cell_type": "markdown",
      "metadata": {
        "colab_type": "text",
        "id": "86ql0cTmSOsE"
      },
      "source": [
        "จากข้อมูลข้างต้น info ให้ทำการสร้างตัวแปร info_detail ที่ประกอบด้วยคอลัมน์ period, currency_id, buying_sight, selling, buying_transfer และ mid_rate"
      ]
    },
    {
      "cell_type": "code",
      "execution_count": 83,
      "metadata": {
        "colab": {
          "base_uri": "https://localhost:8080/",
          "height": 301
        },
        "colab_type": "code",
        "id": "4dbAhCbpPbrC",
        "outputId": "607befba-f76e-4b36-f2c3-4d1c8522372c"
      },
      "outputs": [
        {
          "data": {
            "text/html": [
              "<div>\n",
              "<style scoped>\n",
              "    .dataframe tbody tr th:only-of-type {\n",
              "        vertical-align: middle;\n",
              "    }\n",
              "\n",
              "    .dataframe tbody tr th {\n",
              "        vertical-align: top;\n",
              "    }\n",
              "\n",
              "    .dataframe thead th {\n",
              "        text-align: right;\n",
              "    }\n",
              "</style>\n",
              "<table border=\"1\" class=\"dataframe\">\n",
              "  <thead>\n",
              "    <tr style=\"text-align: right;\">\n",
              "      <th></th>\n",
              "      <th>period</th>\n",
              "      <th>currency_id</th>\n",
              "      <th>buying_sight</th>\n",
              "      <th>selling</th>\n",
              "      <th>buying_transfer</th>\n",
              "      <th>mid_rate</th>\n",
              "    </tr>\n",
              "  </thead>\n",
              "  <tbody>\n",
              "    <tr>\n",
              "      <th>0</th>\n",
              "      <td>2020-02-27</td>\n",
              "      <td>USD</td>\n",
              "      <td>31.5450000</td>\n",
              "      <td>31.9890000</td>\n",
              "      <td>31.6390000</td>\n",
              "      <td>31.8140000</td>\n",
              "    </tr>\n",
              "    <tr>\n",
              "      <th>1</th>\n",
              "      <td>2020-02-26</td>\n",
              "      <td>USD</td>\n",
              "      <td>31.5922000</td>\n",
              "      <td>32.0174000</td>\n",
              "      <td>31.6797000</td>\n",
              "      <td>31.8486000</td>\n",
              "    </tr>\n",
              "    <tr>\n",
              "      <th>2</th>\n",
              "      <td>2020-02-25</td>\n",
              "      <td>USD</td>\n",
              "      <td>31.3818000</td>\n",
              "      <td>31.8135000</td>\n",
              "      <td>31.4750000</td>\n",
              "      <td>31.6443000</td>\n",
              "    </tr>\n",
              "    <tr>\n",
              "      <th>3</th>\n",
              "      <td>2020-02-24</td>\n",
              "      <td>USD</td>\n",
              "      <td>31.4617000</td>\n",
              "      <td>31.8995000</td>\n",
              "      <td>31.5555000</td>\n",
              "      <td>31.7275000</td>\n",
              "    </tr>\n",
              "    <tr>\n",
              "      <th>4</th>\n",
              "      <td>2020-02-21</td>\n",
              "      <td>USD</td>\n",
              "      <td>31.3281000</td>\n",
              "      <td>31.7577000</td>\n",
              "      <td>31.4222000</td>\n",
              "      <td>31.5900000</td>\n",
              "    </tr>\n",
              "    <tr>\n",
              "      <th>5</th>\n",
              "      <td>2020-02-20</td>\n",
              "      <td>USD</td>\n",
              "      <td>31.0463000</td>\n",
              "      <td>31.4741000</td>\n",
              "      <td>31.1413000</td>\n",
              "      <td>31.3077000</td>\n",
              "    </tr>\n",
              "    <tr>\n",
              "      <th>6</th>\n",
              "      <td>2020-02-19</td>\n",
              "      <td>USD</td>\n",
              "      <td>30.9284000</td>\n",
              "      <td>31.3618000</td>\n",
              "      <td>31.0169000</td>\n",
              "      <td>31.1894000</td>\n",
              "    </tr>\n",
              "    <tr>\n",
              "      <th>7</th>\n",
              "      <td>2020-02-18</td>\n",
              "      <td>USD</td>\n",
              "      <td>30.9637000</td>\n",
              "      <td>31.3899000</td>\n",
              "      <td>31.0511000</td>\n",
              "      <td>31.2205000</td>\n",
              "    </tr>\n",
              "    <tr>\n",
              "      <th>8</th>\n",
              "      <td>2020-02-17</td>\n",
              "      <td>USD</td>\n",
              "      <td>30.9093000</td>\n",
              "      <td>31.3481000</td>\n",
              "      <td>31.0017000</td>\n",
              "      <td>31.1749000</td>\n",
              "    </tr>\n",
              "    <tr>\n",
              "      <th>9</th>\n",
              "      <td>2020-02-14</td>\n",
              "      <td>USD</td>\n",
              "      <td>30.8870000</td>\n",
              "      <td>31.3263000</td>\n",
              "      <td>30.9801000</td>\n",
              "      <td>31.1532000</td>\n",
              "    </tr>\n",
              "    <tr>\n",
              "      <th>10</th>\n",
              "      <td>2020-02-13</td>\n",
              "      <td>USD</td>\n",
              "      <td>30.8944000</td>\n",
              "      <td>31.3194000</td>\n",
              "      <td>30.9817000</td>\n",
              "      <td>31.1506000</td>\n",
              "    </tr>\n",
              "    <tr>\n",
              "      <th>11</th>\n",
              "      <td>2020-02-12</td>\n",
              "      <td>USD</td>\n",
              "      <td>30.9152000</td>\n",
              "      <td>31.3299000</td>\n",
              "      <td>31.0033000</td>\n",
              "      <td>31.1666000</td>\n",
              "    </tr>\n",
              "    <tr>\n",
              "      <th>12</th>\n",
              "      <td>2020-02-11</td>\n",
              "      <td>USD</td>\n",
              "      <td>30.9378000</td>\n",
              "      <td>31.3821000</td>\n",
              "      <td>31.0317000</td>\n",
              "      <td>31.2069000</td>\n",
              "    </tr>\n",
              "    <tr>\n",
              "      <th>13</th>\n",
              "      <td>2020-02-07</td>\n",
              "      <td>USD</td>\n",
              "      <td>30.9250000</td>\n",
              "      <td>31.3462000</td>\n",
              "      <td>31.0120000</td>\n",
              "      <td>31.1791000</td>\n",
              "    </tr>\n",
              "    <tr>\n",
              "      <th>14</th>\n",
              "      <td>2020-02-06</td>\n",
              "      <td>USD</td>\n",
              "      <td>30.8352000</td>\n",
              "      <td>31.2457000</td>\n",
              "      <td>30.9183000</td>\n",
              "      <td>31.0820000</td>\n",
              "    </tr>\n",
              "    <tr>\n",
              "      <th>15</th>\n",
              "      <td>2020-02-05</td>\n",
              "      <td>USD</td>\n",
              "      <td>30.8310000</td>\n",
              "      <td>31.2612000</td>\n",
              "      <td>30.9240000</td>\n",
              "      <td>31.0926000</td>\n",
              "    </tr>\n",
              "    <tr>\n",
              "      <th>16</th>\n",
              "      <td>2020-02-04</td>\n",
              "      <td>USD</td>\n",
              "      <td>30.7538000</td>\n",
              "      <td>31.1895000</td>\n",
              "      <td>30.8482000</td>\n",
              "      <td>31.0189000</td>\n",
              "    </tr>\n",
              "    <tr>\n",
              "      <th>17</th>\n",
              "      <td>2020-02-03</td>\n",
              "      <td>USD</td>\n",
              "      <td>30.9168000</td>\n",
              "      <td>31.3541000</td>\n",
              "      <td>31.0122000</td>\n",
              "      <td>31.1832000</td>\n",
              "    </tr>\n",
              "  </tbody>\n",
              "</table>\n",
              "</div>"
            ],
            "text/plain": [
              "        period currency_id buying_sight     selling buying_transfer  \\\n",
              "0   2020-02-27         USD   31.5450000  31.9890000      31.6390000   \n",
              "1   2020-02-26         USD   31.5922000  32.0174000      31.6797000   \n",
              "2   2020-02-25         USD   31.3818000  31.8135000      31.4750000   \n",
              "3   2020-02-24         USD   31.4617000  31.8995000      31.5555000   \n",
              "4   2020-02-21         USD   31.3281000  31.7577000      31.4222000   \n",
              "5   2020-02-20         USD   31.0463000  31.4741000      31.1413000   \n",
              "6   2020-02-19         USD   30.9284000  31.3618000      31.0169000   \n",
              "7   2020-02-18         USD   30.9637000  31.3899000      31.0511000   \n",
              "8   2020-02-17         USD   30.9093000  31.3481000      31.0017000   \n",
              "9   2020-02-14         USD   30.8870000  31.3263000      30.9801000   \n",
              "10  2020-02-13         USD   30.8944000  31.3194000      30.9817000   \n",
              "11  2020-02-12         USD   30.9152000  31.3299000      31.0033000   \n",
              "12  2020-02-11         USD   30.9378000  31.3821000      31.0317000   \n",
              "13  2020-02-07         USD   30.9250000  31.3462000      31.0120000   \n",
              "14  2020-02-06         USD   30.8352000  31.2457000      30.9183000   \n",
              "15  2020-02-05         USD   30.8310000  31.2612000      30.9240000   \n",
              "16  2020-02-04         USD   30.7538000  31.1895000      30.8482000   \n",
              "17  2020-02-03         USD   30.9168000  31.3541000      31.0122000   \n",
              "\n",
              "      mid_rate  \n",
              "0   31.8140000  \n",
              "1   31.8486000  \n",
              "2   31.6443000  \n",
              "3   31.7275000  \n",
              "4   31.5900000  \n",
              "5   31.3077000  \n",
              "6   31.1894000  \n",
              "7   31.2205000  \n",
              "8   31.1749000  \n",
              "9   31.1532000  \n",
              "10  31.1506000  \n",
              "11  31.1666000  \n",
              "12  31.2069000  \n",
              "13  31.1791000  \n",
              "14  31.0820000  \n",
              "15  31.0926000  \n",
              "16  31.0189000  \n",
              "17  31.1832000  "
            ]
          },
          "execution_count": 83,
          "metadata": {},
          "output_type": "execute_result"
        }
      ],
      "source": [
        "info_detail = pd.DataFrame(info, columns=[\"period\",\"currency_id\", \"buying_sight\",\"selling\",\"buying_transfer\", \"mid_rate\"]);info_detail"
      ]
    },
    {
      "cell_type": "markdown",
      "metadata": {
        "colab_type": "text",
        "id": "UgFFcyCxSvjV"
      },
      "source": [
        "จากข้อมูล info ให้ทำการ drop ข้อมูลต่อไปนี้  buying_sight, currency_id, currency_name_th,mid_rate และเก็บไว้ในตัวแปรชื่อ info2"
      ]
    },
    {
      "cell_type": "code",
      "execution_count": 84,
      "metadata": {
        "colab": {
          "base_uri": "https://localhost:8080/",
          "height": 301
        },
        "colab_type": "code",
        "id": "BNxqpKn7eGDl",
        "outputId": "7fdec75a-0dd6-451c-859e-2ac05c6013f3"
      },
      "outputs": [
        {
          "data": {
            "text/html": [
              "<div>\n",
              "<style scoped>\n",
              "    .dataframe tbody tr th:only-of-type {\n",
              "        vertical-align: middle;\n",
              "    }\n",
              "\n",
              "    .dataframe tbody tr th {\n",
              "        vertical-align: top;\n",
              "    }\n",
              "\n",
              "    .dataframe thead th {\n",
              "        text-align: right;\n",
              "    }\n",
              "</style>\n",
              "<table border=\"1\" class=\"dataframe\">\n",
              "  <thead>\n",
              "    <tr style=\"text-align: right;\">\n",
              "      <th></th>\n",
              "      <th>period</th>\n",
              "      <th>currency_name_eng</th>\n",
              "      <th>buying_transfer</th>\n",
              "      <th>selling</th>\n",
              "    </tr>\n",
              "  </thead>\n",
              "  <tbody>\n",
              "    <tr>\n",
              "      <th>0</th>\n",
              "      <td>2020-02-27</td>\n",
              "      <td>USA : DOLLAR (USD)</td>\n",
              "      <td>31.6390000</td>\n",
              "      <td>31.9890000</td>\n",
              "    </tr>\n",
              "    <tr>\n",
              "      <th>1</th>\n",
              "      <td>2020-02-26</td>\n",
              "      <td>USA : DOLLAR (USD)</td>\n",
              "      <td>31.6797000</td>\n",
              "      <td>32.0174000</td>\n",
              "    </tr>\n",
              "    <tr>\n",
              "      <th>2</th>\n",
              "      <td>2020-02-25</td>\n",
              "      <td>USA : DOLLAR (USD)</td>\n",
              "      <td>31.4750000</td>\n",
              "      <td>31.8135000</td>\n",
              "    </tr>\n",
              "    <tr>\n",
              "      <th>3</th>\n",
              "      <td>2020-02-24</td>\n",
              "      <td>USA : DOLLAR (USD)</td>\n",
              "      <td>31.5555000</td>\n",
              "      <td>31.8995000</td>\n",
              "    </tr>\n",
              "    <tr>\n",
              "      <th>4</th>\n",
              "      <td>2020-02-21</td>\n",
              "      <td>USA : DOLLAR (USD)</td>\n",
              "      <td>31.4222000</td>\n",
              "      <td>31.7577000</td>\n",
              "    </tr>\n",
              "    <tr>\n",
              "      <th>5</th>\n",
              "      <td>2020-02-20</td>\n",
              "      <td>USA : DOLLAR (USD)</td>\n",
              "      <td>31.1413000</td>\n",
              "      <td>31.4741000</td>\n",
              "    </tr>\n",
              "    <tr>\n",
              "      <th>6</th>\n",
              "      <td>2020-02-19</td>\n",
              "      <td>USA : DOLLAR (USD)</td>\n",
              "      <td>31.0169000</td>\n",
              "      <td>31.3618000</td>\n",
              "    </tr>\n",
              "    <tr>\n",
              "      <th>7</th>\n",
              "      <td>2020-02-18</td>\n",
              "      <td>USA : DOLLAR (USD)</td>\n",
              "      <td>31.0511000</td>\n",
              "      <td>31.3899000</td>\n",
              "    </tr>\n",
              "    <tr>\n",
              "      <th>8</th>\n",
              "      <td>2020-02-17</td>\n",
              "      <td>USA : DOLLAR (USD)</td>\n",
              "      <td>31.0017000</td>\n",
              "      <td>31.3481000</td>\n",
              "    </tr>\n",
              "    <tr>\n",
              "      <th>9</th>\n",
              "      <td>2020-02-14</td>\n",
              "      <td>USA : DOLLAR (USD)</td>\n",
              "      <td>30.9801000</td>\n",
              "      <td>31.3263000</td>\n",
              "    </tr>\n",
              "    <tr>\n",
              "      <th>10</th>\n",
              "      <td>2020-02-13</td>\n",
              "      <td>USA : DOLLAR (USD)</td>\n",
              "      <td>30.9817000</td>\n",
              "      <td>31.3194000</td>\n",
              "    </tr>\n",
              "    <tr>\n",
              "      <th>11</th>\n",
              "      <td>2020-02-12</td>\n",
              "      <td>USA : DOLLAR (USD)</td>\n",
              "      <td>31.0033000</td>\n",
              "      <td>31.3299000</td>\n",
              "    </tr>\n",
              "    <tr>\n",
              "      <th>12</th>\n",
              "      <td>2020-02-11</td>\n",
              "      <td>USA : DOLLAR (USD)</td>\n",
              "      <td>31.0317000</td>\n",
              "      <td>31.3821000</td>\n",
              "    </tr>\n",
              "    <tr>\n",
              "      <th>13</th>\n",
              "      <td>2020-02-07</td>\n",
              "      <td>USA : DOLLAR (USD)</td>\n",
              "      <td>31.0120000</td>\n",
              "      <td>31.3462000</td>\n",
              "    </tr>\n",
              "    <tr>\n",
              "      <th>14</th>\n",
              "      <td>2020-02-06</td>\n",
              "      <td>USA : DOLLAR (USD)</td>\n",
              "      <td>30.9183000</td>\n",
              "      <td>31.2457000</td>\n",
              "    </tr>\n",
              "    <tr>\n",
              "      <th>15</th>\n",
              "      <td>2020-02-05</td>\n",
              "      <td>USA : DOLLAR (USD)</td>\n",
              "      <td>30.9240000</td>\n",
              "      <td>31.2612000</td>\n",
              "    </tr>\n",
              "    <tr>\n",
              "      <th>16</th>\n",
              "      <td>2020-02-04</td>\n",
              "      <td>USA : DOLLAR (USD)</td>\n",
              "      <td>30.8482000</td>\n",
              "      <td>31.1895000</td>\n",
              "    </tr>\n",
              "    <tr>\n",
              "      <th>17</th>\n",
              "      <td>2020-02-03</td>\n",
              "      <td>USA : DOLLAR (USD)</td>\n",
              "      <td>31.0122000</td>\n",
              "      <td>31.3541000</td>\n",
              "    </tr>\n",
              "  </tbody>\n",
              "</table>\n",
              "</div>"
            ],
            "text/plain": [
              "        period    currency_name_eng buying_transfer     selling\n",
              "0   2020-02-27  USA : DOLLAR (USD)       31.6390000  31.9890000\n",
              "1   2020-02-26  USA : DOLLAR (USD)       31.6797000  32.0174000\n",
              "2   2020-02-25  USA : DOLLAR (USD)       31.4750000  31.8135000\n",
              "3   2020-02-24  USA : DOLLAR (USD)       31.5555000  31.8995000\n",
              "4   2020-02-21  USA : DOLLAR (USD)       31.4222000  31.7577000\n",
              "5   2020-02-20  USA : DOLLAR (USD)       31.1413000  31.4741000\n",
              "6   2020-02-19  USA : DOLLAR (USD)       31.0169000  31.3618000\n",
              "7   2020-02-18  USA : DOLLAR (USD)       31.0511000  31.3899000\n",
              "8   2020-02-17  USA : DOLLAR (USD)       31.0017000  31.3481000\n",
              "9   2020-02-14  USA : DOLLAR (USD)       30.9801000  31.3263000\n",
              "10  2020-02-13  USA : DOLLAR (USD)       30.9817000  31.3194000\n",
              "11  2020-02-12  USA : DOLLAR (USD)       31.0033000  31.3299000\n",
              "12  2020-02-11  USA : DOLLAR (USD)       31.0317000  31.3821000\n",
              "13  2020-02-07  USA : DOLLAR (USD)       31.0120000  31.3462000\n",
              "14  2020-02-06  USA : DOLLAR (USD)       30.9183000  31.2457000\n",
              "15  2020-02-05  USA : DOLLAR (USD)       30.9240000  31.2612000\n",
              "16  2020-02-04  USA : DOLLAR (USD)       30.8482000  31.1895000\n",
              "17  2020-02-03  USA : DOLLAR (USD)       31.0122000  31.3541000"
            ]
          },
          "execution_count": 84,
          "metadata": {},
          "output_type": "execute_result"
        }
      ],
      "source": [
        "\n",
        "columns = [\"buying_sight\", \"currency_id\", \"currency_name_th\", \"mid_rate\"]\n",
        "info2 = info.drop(columns, axis=1);info2"
      ]
    },
    {
      "cell_type": "markdown",
      "metadata": {
        "colab_type": "text",
        "id": "8bYSbyW3mM-1"
      },
      "source": [
        "แสดงรายการข้อมูล info_detail 5 รายการแรก"
      ]
    },
    {
      "cell_type": "code",
      "execution_count": 85,
      "metadata": {
        "colab": {
          "base_uri": "https://localhost:8080/",
          "height": 196
        },
        "colab_type": "code",
        "id": "Ua84AzDe2tpd",
        "outputId": "308b4878-eff2-4597-8320-e3610adc942a"
      },
      "outputs": [
        {
          "data": {
            "text/html": [
              "<div>\n",
              "<style scoped>\n",
              "    .dataframe tbody tr th:only-of-type {\n",
              "        vertical-align: middle;\n",
              "    }\n",
              "\n",
              "    .dataframe tbody tr th {\n",
              "        vertical-align: top;\n",
              "    }\n",
              "\n",
              "    .dataframe thead th {\n",
              "        text-align: right;\n",
              "    }\n",
              "</style>\n",
              "<table border=\"1\" class=\"dataframe\">\n",
              "  <thead>\n",
              "    <tr style=\"text-align: right;\">\n",
              "      <th></th>\n",
              "      <th>period</th>\n",
              "      <th>currency_id</th>\n",
              "      <th>buying_sight</th>\n",
              "      <th>selling</th>\n",
              "      <th>buying_transfer</th>\n",
              "      <th>mid_rate</th>\n",
              "    </tr>\n",
              "  </thead>\n",
              "  <tbody>\n",
              "    <tr>\n",
              "      <th>0</th>\n",
              "      <td>2020-02-27</td>\n",
              "      <td>USD</td>\n",
              "      <td>31.5450000</td>\n",
              "      <td>31.9890000</td>\n",
              "      <td>31.6390000</td>\n",
              "      <td>31.8140000</td>\n",
              "    </tr>\n",
              "    <tr>\n",
              "      <th>1</th>\n",
              "      <td>2020-02-26</td>\n",
              "      <td>USD</td>\n",
              "      <td>31.5922000</td>\n",
              "      <td>32.0174000</td>\n",
              "      <td>31.6797000</td>\n",
              "      <td>31.8486000</td>\n",
              "    </tr>\n",
              "    <tr>\n",
              "      <th>2</th>\n",
              "      <td>2020-02-25</td>\n",
              "      <td>USD</td>\n",
              "      <td>31.3818000</td>\n",
              "      <td>31.8135000</td>\n",
              "      <td>31.4750000</td>\n",
              "      <td>31.6443000</td>\n",
              "    </tr>\n",
              "    <tr>\n",
              "      <th>3</th>\n",
              "      <td>2020-02-24</td>\n",
              "      <td>USD</td>\n",
              "      <td>31.4617000</td>\n",
              "      <td>31.8995000</td>\n",
              "      <td>31.5555000</td>\n",
              "      <td>31.7275000</td>\n",
              "    </tr>\n",
              "    <tr>\n",
              "      <th>4</th>\n",
              "      <td>2020-02-21</td>\n",
              "      <td>USD</td>\n",
              "      <td>31.3281000</td>\n",
              "      <td>31.7577000</td>\n",
              "      <td>31.4222000</td>\n",
              "      <td>31.5900000</td>\n",
              "    </tr>\n",
              "  </tbody>\n",
              "</table>\n",
              "</div>"
            ],
            "text/plain": [
              "       period currency_id buying_sight     selling buying_transfer    mid_rate\n",
              "0  2020-02-27         USD   31.5450000  31.9890000      31.6390000  31.8140000\n",
              "1  2020-02-26         USD   31.5922000  32.0174000      31.6797000  31.8486000\n",
              "2  2020-02-25         USD   31.3818000  31.8135000      31.4750000  31.6443000\n",
              "3  2020-02-24         USD   31.4617000  31.8995000      31.5555000  31.7275000\n",
              "4  2020-02-21         USD   31.3281000  31.7577000      31.4222000  31.5900000"
            ]
          },
          "execution_count": 85,
          "metadata": {},
          "output_type": "execute_result"
        }
      ],
      "source": [
        "info_detail.head(n=5)\n"
      ]
    },
    {
      "cell_type": "markdown",
      "metadata": {
        "colab_type": "text",
        "id": "WjpRd6TumSqn"
      },
      "source": [
        "แสดงรายการข้อมูล info_detail 5 รายการท้ายสุด"
      ]
    },
    {
      "cell_type": "code",
      "execution_count": 86,
      "metadata": {
        "colab": {
          "base_uri": "https://localhost:8080/",
          "height": 196
        },
        "colab_type": "code",
        "id": "eVChoY_UmZOH",
        "outputId": "711dc48a-399a-4e61-b57c-cadd72853c34"
      },
      "outputs": [
        {
          "data": {
            "text/html": [
              "<div>\n",
              "<style scoped>\n",
              "    .dataframe tbody tr th:only-of-type {\n",
              "        vertical-align: middle;\n",
              "    }\n",
              "\n",
              "    .dataframe tbody tr th {\n",
              "        vertical-align: top;\n",
              "    }\n",
              "\n",
              "    .dataframe thead th {\n",
              "        text-align: right;\n",
              "    }\n",
              "</style>\n",
              "<table border=\"1\" class=\"dataframe\">\n",
              "  <thead>\n",
              "    <tr style=\"text-align: right;\">\n",
              "      <th></th>\n",
              "      <th>period</th>\n",
              "      <th>currency_id</th>\n",
              "      <th>buying_sight</th>\n",
              "      <th>selling</th>\n",
              "      <th>buying_transfer</th>\n",
              "      <th>mid_rate</th>\n",
              "    </tr>\n",
              "  </thead>\n",
              "  <tbody>\n",
              "    <tr>\n",
              "      <th>13</th>\n",
              "      <td>2020-02-07</td>\n",
              "      <td>USD</td>\n",
              "      <td>30.9250000</td>\n",
              "      <td>31.3462000</td>\n",
              "      <td>31.0120000</td>\n",
              "      <td>31.1791000</td>\n",
              "    </tr>\n",
              "    <tr>\n",
              "      <th>14</th>\n",
              "      <td>2020-02-06</td>\n",
              "      <td>USD</td>\n",
              "      <td>30.8352000</td>\n",
              "      <td>31.2457000</td>\n",
              "      <td>30.9183000</td>\n",
              "      <td>31.0820000</td>\n",
              "    </tr>\n",
              "    <tr>\n",
              "      <th>15</th>\n",
              "      <td>2020-02-05</td>\n",
              "      <td>USD</td>\n",
              "      <td>30.8310000</td>\n",
              "      <td>31.2612000</td>\n",
              "      <td>30.9240000</td>\n",
              "      <td>31.0926000</td>\n",
              "    </tr>\n",
              "    <tr>\n",
              "      <th>16</th>\n",
              "      <td>2020-02-04</td>\n",
              "      <td>USD</td>\n",
              "      <td>30.7538000</td>\n",
              "      <td>31.1895000</td>\n",
              "      <td>30.8482000</td>\n",
              "      <td>31.0189000</td>\n",
              "    </tr>\n",
              "    <tr>\n",
              "      <th>17</th>\n",
              "      <td>2020-02-03</td>\n",
              "      <td>USD</td>\n",
              "      <td>30.9168000</td>\n",
              "      <td>31.3541000</td>\n",
              "      <td>31.0122000</td>\n",
              "      <td>31.1832000</td>\n",
              "    </tr>\n",
              "  </tbody>\n",
              "</table>\n",
              "</div>"
            ],
            "text/plain": [
              "        period currency_id buying_sight     selling buying_transfer  \\\n",
              "13  2020-02-07         USD   30.9250000  31.3462000      31.0120000   \n",
              "14  2020-02-06         USD   30.8352000  31.2457000      30.9183000   \n",
              "15  2020-02-05         USD   30.8310000  31.2612000      30.9240000   \n",
              "16  2020-02-04         USD   30.7538000  31.1895000      30.8482000   \n",
              "17  2020-02-03         USD   30.9168000  31.3541000      31.0122000   \n",
              "\n",
              "      mid_rate  \n",
              "13  31.1791000  \n",
              "14  31.0820000  \n",
              "15  31.0926000  \n",
              "16  31.0189000  \n",
              "17  31.1832000  "
            ]
          },
          "execution_count": 86,
          "metadata": {},
          "output_type": "execute_result"
        }
      ],
      "source": [
        "info_detail.tail(n=5)"
      ]
    },
    {
      "cell_type": "markdown",
      "metadata": {
        "colab_type": "text",
        "id": "cw7EQAUXT_SN"
      },
      "source": [
        "# **Write json file** \n",
        "ให้นำข้อมูล obj write ลงไฟล์ชื่อ ex_rate.json"
      ]
    },
    {
      "cell_type": "code",
      "execution_count": 87,
      "metadata": {
        "colab": {},
        "colab_type": "code",
        "id": "ksBFWkp4au3c"
      },
      "outputs": [],
      "source": [
        "with open(\"ex_rate.json\",\"w\") as f:\n",
        "  json.dump(obj,f)"
      ]
    },
    {
      "cell_type": "markdown",
      "metadata": {
        "colab_type": "text",
        "id": "tQibxVWGUS_K"
      },
      "source": [
        "#**Read json file**\n",
        "\n",
        "ทำการอ่านข้อมูลจากไฟล์ ex_rate.json มาใส่ไว้ใน DataFrame ชื่อ df และแสดงค่า df ที่ได้"
      ]
    },
    {
      "cell_type": "code",
      "execution_count": 88,
      "metadata": {
        "colab": {
          "base_uri": "https://localhost:8080/",
          "height": 84
        },
        "colab_type": "code",
        "id": "vYYL7ttVqG3R",
        "outputId": "d316dd81-22b3-4289-ab14-77cd9533c4a3"
      },
      "outputs": [
        {
          "name": "stdout",
          "output_type": "stream",
          "text": [
            "                                                      result\n",
            "timestamp                                2024-08-06 17:05:56\n",
            "api        Daily Weighted-average Interbank Exchange Rate...\n",
            "data       {'data_header': {'report_name_eng': 'Rates of ...\n"
          ]
        }
      ],
      "source": [
        "df = pd.read_json(\"ex_rate.json\");print(df)"
      ]
    },
    {
      "cell_type": "markdown",
      "metadata": {
        "colab_type": "text",
        "id": "1ISWKilInD1C"
      },
      "source": [
        "แสดงรายละเอียดของข้อมูล df"
      ]
    },
    {
      "cell_type": "code",
      "execution_count": 89,
      "metadata": {
        "colab": {
          "base_uri": "https://localhost:8080/",
          "height": 150
        },
        "colab_type": "code",
        "id": "qZGObj4wV6fN",
        "outputId": "4dab0838-c2c2-49fd-c75a-b36a7ad496cd"
      },
      "outputs": [
        {
          "data": {
            "text/plain": [
              "<bound method DataFrame.info of                                                       result\n",
              "timestamp                                2024-08-06 17:05:56\n",
              "api        Daily Weighted-average Interbank Exchange Rate...\n",
              "data       {'data_header': {'report_name_eng': 'Rates of ...>"
            ]
          },
          "execution_count": 89,
          "metadata": {},
          "output_type": "execute_result"
        }
      ],
      "source": [
        "df.info"
      ]
    },
    {
      "cell_type": "markdown",
      "metadata": {
        "colab_type": "text",
        "id": "lttivp58nJU3"
      },
      "source": [
        "แสดง index ของ df"
      ]
    },
    {
      "cell_type": "code",
      "execution_count": 90,
      "metadata": {
        "colab": {
          "base_uri": "https://localhost:8080/",
          "height": 33
        },
        "colab_type": "code",
        "id": "UCXkGB_0WLsd",
        "outputId": "28e98aa8-a9de-4e0c-8f8c-fbcf6615673b"
      },
      "outputs": [
        {
          "data": {
            "text/plain": [
              "Index(['timestamp', 'api', 'data'], dtype='object')"
            ]
          },
          "execution_count": 90,
          "metadata": {},
          "output_type": "execute_result"
        }
      ],
      "source": [
        "df.index"
      ]
    },
    {
      "cell_type": "markdown",
      "metadata": {
        "colab_type": "text",
        "id": "O3zwGRopnMtk"
      },
      "source": [
        "แสดง values ของ df"
      ]
    },
    {
      "cell_type": "code",
      "execution_count": 91,
      "metadata": {
        "colab": {
          "base_uri": "https://localhost:8080/",
          "height": 87
        },
        "colab_type": "code",
        "id": "suMTZE6XWeBZ",
        "outputId": "e9ec8356-9e15-4b6a-9002-7abadda4c872"
      },
      "outputs": [
        {
          "data": {
            "text/plain": [
              "array([['2024-08-06 17:05:56'],\n",
              "       ['Daily Weighted-average Interbank Exchange Rate - THB / USD'],\n",
              "       [{'data_header': {'report_name_eng': 'Rates of Exchange of Commercial Banks in Bangkok Metropolis (2002-present)', 'report_name_th': 'อัตราแลกเปลี่ยนเฉลี่ยของธนาคารพาณิชย์ในกรุงเทพมหานคร (2545-ปัจจุบัน)', 'report_uoq_name_eng': '(Unit: Baht / 1 Unit of Foreign Currency)', 'report_uoq_name_th': '(หน่วย: บาท ต่อ 1 หน่วยเงินตราต่างประเทศ)', 'report_source_of_data': [{'source_of_data_eng': 'Bank of Thailand', 'source_of_data_th': 'ธนาคารแห่งประเทศไทย'}], 'report_remark': [{'report_remark_eng': 'Since Nov 16, 2015 the data regarding Buying Transfer Rate of PKR has been changed to Buying Rate using Foreign Exchange Rates (THOMSON REUTERS) with Bangkok Market Crossing.', 'report_remark_th': 'ตั้งแต่วันที่ 16 พ.ย. 2558 ข้อมูลในอัตราซื้อเงินโอนของสกุล PKR ได้เปลี่ยนเป็นอัตราซื้อที่ใช้อัตราในตลาดต่างประเทศ (ทอมสันรอยเตอร์) คำนวณผ่านอัตราซื้อขายเงินดอลลาร์ สรอ. ในตลาดกรุงเทพฯ'}], 'last_updated': '2024-08-05'}, 'data_detail': [{'period': '2020-02-27', 'currency_id': 'USD', 'currency_name_th': 'สหรัฐอเมริกา : ดอลลาร์ (USD)', 'currency_name_eng': 'USA : DOLLAR (USD) ', 'buying_sight': '31.5450000', 'buying_transfer': '31.6390000', 'selling': '31.9890000', 'mid_rate': '31.8140000'}, {'period': '2020-02-26', 'currency_id': 'USD', 'currency_name_th': 'สหรัฐอเมริกา : ดอลลาร์ (USD)', 'currency_name_eng': 'USA : DOLLAR (USD) ', 'buying_sight': '31.5922000', 'buying_transfer': '31.6797000', 'selling': '32.0174000', 'mid_rate': '31.8486000'}, {'period': '2020-02-25', 'currency_id': 'USD', 'currency_name_th': 'สหรัฐอเมริกา : ดอลลาร์ (USD)', 'currency_name_eng': 'USA : DOLLAR (USD) ', 'buying_sight': '31.3818000', 'buying_transfer': '31.4750000', 'selling': '31.8135000', 'mid_rate': '31.6443000'}, {'period': '2020-02-24', 'currency_id': 'USD', 'currency_name_th': 'สหรัฐอเมริกา : ดอลลาร์ (USD)', 'currency_name_eng': 'USA : DOLLAR (USD) ', 'buying_sight': '31.4617000', 'buying_transfer': '31.5555000', 'selling': '31.8995000', 'mid_rate': '31.7275000'}, {'period': '2020-02-21', 'currency_id': 'USD', 'currency_name_th': 'สหรัฐอเมริกา : ดอลลาร์ (USD)', 'currency_name_eng': 'USA : DOLLAR (USD) ', 'buying_sight': '31.3281000', 'buying_transfer': '31.4222000', 'selling': '31.7577000', 'mid_rate': '31.5900000'}, {'period': '2020-02-20', 'currency_id': 'USD', 'currency_name_th': 'สหรัฐอเมริกา : ดอลลาร์ (USD)', 'currency_name_eng': 'USA : DOLLAR (USD) ', 'buying_sight': '31.0463000', 'buying_transfer': '31.1413000', 'selling': '31.4741000', 'mid_rate': '31.3077000'}, {'period': '2020-02-19', 'currency_id': 'USD', 'currency_name_th': 'สหรัฐอเมริกา : ดอลลาร์ (USD)', 'currency_name_eng': 'USA : DOLLAR (USD) ', 'buying_sight': '30.9284000', 'buying_transfer': '31.0169000', 'selling': '31.3618000', 'mid_rate': '31.1894000'}, {'period': '2020-02-18', 'currency_id': 'USD', 'currency_name_th': 'สหรัฐอเมริกา : ดอลลาร์ (USD)', 'currency_name_eng': 'USA : DOLLAR (USD) ', 'buying_sight': '30.9637000', 'buying_transfer': '31.0511000', 'selling': '31.3899000', 'mid_rate': '31.2205000'}, {'period': '2020-02-17', 'currency_id': 'USD', 'currency_name_th': 'สหรัฐอเมริกา : ดอลลาร์ (USD)', 'currency_name_eng': 'USA : DOLLAR (USD) ', 'buying_sight': '30.9093000', 'buying_transfer': '31.0017000', 'selling': '31.3481000', 'mid_rate': '31.1749000'}, {'period': '2020-02-14', 'currency_id': 'USD', 'currency_name_th': 'สหรัฐอเมริกา : ดอลลาร์ (USD)', 'currency_name_eng': 'USA : DOLLAR (USD) ', 'buying_sight': '30.8870000', 'buying_transfer': '30.9801000', 'selling': '31.3263000', 'mid_rate': '31.1532000'}, {'period': '2020-02-13', 'currency_id': 'USD', 'currency_name_th': 'สหรัฐอเมริกา : ดอลลาร์ (USD)', 'currency_name_eng': 'USA : DOLLAR (USD) ', 'buying_sight': '30.8944000', 'buying_transfer': '30.9817000', 'selling': '31.3194000', 'mid_rate': '31.1506000'}, {'period': '2020-02-12', 'currency_id': 'USD', 'currency_name_th': 'สหรัฐอเมริกา : ดอลลาร์ (USD)', 'currency_name_eng': 'USA : DOLLAR (USD) ', 'buying_sight': '30.9152000', 'buying_transfer': '31.0033000', 'selling': '31.3299000', 'mid_rate': '31.1666000'}, {'period': '2020-02-11', 'currency_id': 'USD', 'currency_name_th': 'สหรัฐอเมริกา : ดอลลาร์ (USD)', 'currency_name_eng': 'USA : DOLLAR (USD) ', 'buying_sight': '30.9378000', 'buying_transfer': '31.0317000', 'selling': '31.3821000', 'mid_rate': '31.2069000'}, {'period': '2020-02-07', 'currency_id': 'USD', 'currency_name_th': 'สหรัฐอเมริกา : ดอลลาร์ (USD)', 'currency_name_eng': 'USA : DOLLAR (USD) ', 'buying_sight': '30.9250000', 'buying_transfer': '31.0120000', 'selling': '31.3462000', 'mid_rate': '31.1791000'}, {'period': '2020-02-06', 'currency_id': 'USD', 'currency_name_th': 'สหรัฐอเมริกา : ดอลลาร์ (USD)', 'currency_name_eng': 'USA : DOLLAR (USD) ', 'buying_sight': '30.8352000', 'buying_transfer': '30.9183000', 'selling': '31.2457000', 'mid_rate': '31.0820000'}, {'period': '2020-02-05', 'currency_id': 'USD', 'currency_name_th': 'สหรัฐอเมริกา : ดอลลาร์ (USD)', 'currency_name_eng': 'USA : DOLLAR (USD) ', 'buying_sight': '30.8310000', 'buying_transfer': '30.9240000', 'selling': '31.2612000', 'mid_rate': '31.0926000'}, {'period': '2020-02-04', 'currency_id': 'USD', 'currency_name_th': 'สหรัฐอเมริกา : ดอลลาร์ (USD)', 'currency_name_eng': 'USA : DOLLAR (USD) ', 'buying_sight': '30.7538000', 'buying_transfer': '30.8482000', 'selling': '31.1895000', 'mid_rate': '31.0189000'}, {'period': '2020-02-03', 'currency_id': 'USD', 'currency_name_th': 'สหรัฐอเมริกา : ดอลลาร์ (USD)', 'currency_name_eng': 'USA : DOLLAR (USD) ', 'buying_sight': '30.9168000', 'buying_transfer': '31.0122000', 'selling': '31.3541000', 'mid_rate': '31.1832000'}]}]],\n",
              "      dtype=object)"
            ]
          },
          "execution_count": 91,
          "metadata": {},
          "output_type": "execute_result"
        }
      ],
      "source": [
        "df.values"
      ]
    },
    {
      "cell_type": "markdown",
      "metadata": {
        "colab_type": "text",
        "id": "vmOOiDp7nRgO"
      },
      "source": [
        "แสดงประเภทของ df"
      ]
    },
    {
      "cell_type": "code",
      "execution_count": 92,
      "metadata": {
        "colab": {
          "base_uri": "https://localhost:8080/",
          "height": 33
        },
        "colab_type": "code",
        "id": "qLK_TTt8aADN",
        "outputId": "e8554373-b77c-415e-aa01-4cd538bb6731"
      },
      "outputs": [
        {
          "data": {
            "text/plain": [
              "result    object\n",
              "dtype: object"
            ]
          },
          "execution_count": 92,
          "metadata": {},
          "output_type": "execute_result"
        }
      ],
      "source": [
        "df.dtypes"
      ]
    },
    {
      "cell_type": "markdown",
      "metadata": {
        "colab_type": "text",
        "id": "kuTTC597nXhP"
      },
      "source": [
        "แปลงข้อมูล df เป็น json และ load กลับมาเป็นข้อมูล object ในตัวแปรชื่อ parsed"
      ]
    },
    {
      "cell_type": "code",
      "execution_count": 93,
      "metadata": {
        "colab": {
          "base_uri": "https://localhost:8080/",
          "height": 53
        },
        "colab_type": "code",
        "id": "_s-2hNxPfPXo",
        "outputId": "e392c733-fad9-4154-d99e-92de0703cc54"
      },
      "outputs": [
        {
          "name": "stdout",
          "output_type": "stream",
          "text": [
            "{'result': {'timestamp': '2024-08-06 17:05:56', 'api': 'Daily Weighted-average Interbank Exchange Rate - THB / USD', 'data': {'data_header': {'report_name_eng': 'Rates of Exchange of Commercial Banks in Bangkok Metropolis (2002-present)', 'report_name_th': 'อัตราแลกเปลี่ยนเฉลี่ยของธนาคารพาณิชย์ในกรุงเทพมหานคร (2545-ปัจจุบัน)', 'report_uoq_name_eng': '(Unit: Baht / 1 Unit of Foreign Currency)', 'report_uoq_name_th': '(หน่วย: บาท ต่อ 1 หน่วยเงินตราต่างประเทศ)', 'report_source_of_data': [{'source_of_data_eng': 'Bank of Thailand', 'source_of_data_th': 'ธนาคารแห่งประเทศไทย'}], 'report_remark': [{'report_remark_eng': 'Since Nov 16, 2015 the data regarding Buying Transfer Rate of PKR has been changed to Buying Rate using Foreign Exchange Rates (THOMSON REUTERS) with Bangkok Market Crossing.', 'report_remark_th': 'ตั้งแต่วันที่ 16 พ.ย. 2558 ข้อมูลในอัตราซื้อเงินโอนของสกุล PKR ได้เปลี่ยนเป็นอัตราซื้อที่ใช้อัตราในตลาดต่างประเทศ (ทอมสันรอยเตอร์) คำนวณผ่านอัตราซื้อขายเงินดอลลาร์ สรอ. ในตลาดกรุงเทพฯ'}], 'last_updated': '2024-08-05'}, 'data_detail': [{'period': '2020-02-27', 'currency_id': 'USD', 'currency_name_th': 'สหรัฐอเมริกา : ดอลลาร์ (USD)', 'currency_name_eng': 'USA : DOLLAR (USD) ', 'buying_sight': '31.5450000', 'buying_transfer': '31.6390000', 'selling': '31.9890000', 'mid_rate': '31.8140000'}, {'period': '2020-02-26', 'currency_id': 'USD', 'currency_name_th': 'สหรัฐอเมริกา : ดอลลาร์ (USD)', 'currency_name_eng': 'USA : DOLLAR (USD) ', 'buying_sight': '31.5922000', 'buying_transfer': '31.6797000', 'selling': '32.0174000', 'mid_rate': '31.8486000'}, {'period': '2020-02-25', 'currency_id': 'USD', 'currency_name_th': 'สหรัฐอเมริกา : ดอลลาร์ (USD)', 'currency_name_eng': 'USA : DOLLAR (USD) ', 'buying_sight': '31.3818000', 'buying_transfer': '31.4750000', 'selling': '31.8135000', 'mid_rate': '31.6443000'}, {'period': '2020-02-24', 'currency_id': 'USD', 'currency_name_th': 'สหรัฐอเมริกา : ดอลลาร์ (USD)', 'currency_name_eng': 'USA : DOLLAR (USD) ', 'buying_sight': '31.4617000', 'buying_transfer': '31.5555000', 'selling': '31.8995000', 'mid_rate': '31.7275000'}, {'period': '2020-02-21', 'currency_id': 'USD', 'currency_name_th': 'สหรัฐอเมริกา : ดอลลาร์ (USD)', 'currency_name_eng': 'USA : DOLLAR (USD) ', 'buying_sight': '31.3281000', 'buying_transfer': '31.4222000', 'selling': '31.7577000', 'mid_rate': '31.5900000'}, {'period': '2020-02-20', 'currency_id': 'USD', 'currency_name_th': 'สหรัฐอเมริกา : ดอลลาร์ (USD)', 'currency_name_eng': 'USA : DOLLAR (USD) ', 'buying_sight': '31.0463000', 'buying_transfer': '31.1413000', 'selling': '31.4741000', 'mid_rate': '31.3077000'}, {'period': '2020-02-19', 'currency_id': 'USD', 'currency_name_th': 'สหรัฐอเมริกา : ดอลลาร์ (USD)', 'currency_name_eng': 'USA : DOLLAR (USD) ', 'buying_sight': '30.9284000', 'buying_transfer': '31.0169000', 'selling': '31.3618000', 'mid_rate': '31.1894000'}, {'period': '2020-02-18', 'currency_id': 'USD', 'currency_name_th': 'สหรัฐอเมริกา : ดอลลาร์ (USD)', 'currency_name_eng': 'USA : DOLLAR (USD) ', 'buying_sight': '30.9637000', 'buying_transfer': '31.0511000', 'selling': '31.3899000', 'mid_rate': '31.2205000'}, {'period': '2020-02-17', 'currency_id': 'USD', 'currency_name_th': 'สหรัฐอเมริกา : ดอลลาร์ (USD)', 'currency_name_eng': 'USA : DOLLAR (USD) ', 'buying_sight': '30.9093000', 'buying_transfer': '31.0017000', 'selling': '31.3481000', 'mid_rate': '31.1749000'}, {'period': '2020-02-14', 'currency_id': 'USD', 'currency_name_th': 'สหรัฐอเมริกา : ดอลลาร์ (USD)', 'currency_name_eng': 'USA : DOLLAR (USD) ', 'buying_sight': '30.8870000', 'buying_transfer': '30.9801000', 'selling': '31.3263000', 'mid_rate': '31.1532000'}, {'period': '2020-02-13', 'currency_id': 'USD', 'currency_name_th': 'สหรัฐอเมริกา : ดอลลาร์ (USD)', 'currency_name_eng': 'USA : DOLLAR (USD) ', 'buying_sight': '30.8944000', 'buying_transfer': '30.9817000', 'selling': '31.3194000', 'mid_rate': '31.1506000'}, {'period': '2020-02-12', 'currency_id': 'USD', 'currency_name_th': 'สหรัฐอเมริกา : ดอลลาร์ (USD)', 'currency_name_eng': 'USA : DOLLAR (USD) ', 'buying_sight': '30.9152000', 'buying_transfer': '31.0033000', 'selling': '31.3299000', 'mid_rate': '31.1666000'}, {'period': '2020-02-11', 'currency_id': 'USD', 'currency_name_th': 'สหรัฐอเมริกา : ดอลลาร์ (USD)', 'currency_name_eng': 'USA : DOLLAR (USD) ', 'buying_sight': '30.9378000', 'buying_transfer': '31.0317000', 'selling': '31.3821000', 'mid_rate': '31.2069000'}, {'period': '2020-02-07', 'currency_id': 'USD', 'currency_name_th': 'สหรัฐอเมริกา : ดอลลาร์ (USD)', 'currency_name_eng': 'USA : DOLLAR (USD) ', 'buying_sight': '30.9250000', 'buying_transfer': '31.0120000', 'selling': '31.3462000', 'mid_rate': '31.1791000'}, {'period': '2020-02-06', 'currency_id': 'USD', 'currency_name_th': 'สหรัฐอเมริกา : ดอลลาร์ (USD)', 'currency_name_eng': 'USA : DOLLAR (USD) ', 'buying_sight': '30.8352000', 'buying_transfer': '30.9183000', 'selling': '31.2457000', 'mid_rate': '31.0820000'}, {'period': '2020-02-05', 'currency_id': 'USD', 'currency_name_th': 'สหรัฐอเมริกา : ดอลลาร์ (USD)', 'currency_name_eng': 'USA : DOLLAR (USD) ', 'buying_sight': '30.8310000', 'buying_transfer': '30.9240000', 'selling': '31.2612000', 'mid_rate': '31.0926000'}, {'period': '2020-02-04', 'currency_id': 'USD', 'currency_name_th': 'สหรัฐอเมริกา : ดอลลาร์ (USD)', 'currency_name_eng': 'USA : DOLLAR (USD) ', 'buying_sight': '30.7538000', 'buying_transfer': '30.8482000', 'selling': '31.1895000', 'mid_rate': '31.0189000'}, {'period': '2020-02-03', 'currency_id': 'USD', 'currency_name_th': 'สหรัฐอเมริกา : ดอลลาร์ (USD)', 'currency_name_eng': 'USA : DOLLAR (USD) ', 'buying_sight': '30.9168000', 'buying_transfer': '31.0122000', 'selling': '31.3541000', 'mid_rate': '31.1832000'}]}}}\n"
          ]
        }
      ],
      "source": [
        "result = df.to_json()\n",
        "parsed = json.loads(result)\n",
        "print(parsed) "
      ]
    }
  ],
  "metadata": {
    "colab": {
      "collapsed_sections": [],
      "name": "W08_2_BOT_Json.ipynb",
      "provenance": []
    },
    "kernelspec": {
      "display_name": "Python 3",
      "name": "python3"
    },
    "language_info": {
      "codemirror_mode": {
        "name": "ipython",
        "version": 3
      },
      "file_extension": ".py",
      "mimetype": "text/x-python",
      "name": "python",
      "nbconvert_exporter": "python",
      "pygments_lexer": "ipython3",
      "version": "3.12.4"
    }
  },
  "nbformat": 4,
  "nbformat_minor": 0
}
