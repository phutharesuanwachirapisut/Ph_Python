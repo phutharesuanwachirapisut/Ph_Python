{
  "cells": [
    {
      "cell_type": "markdown",
      "metadata": {
        "id": "zagJORfeBgNy"
      },
      "source": [
        "# **link คำสั่งเพิ่มเติมเกี่ยวกับ sqlite3**\n",
        "\n",
        "https://docs.python.org/3/library/sqlite3.html"
      ]
    },
    {
      "cell_type": "markdown",
      "metadata": {
        "id": "DhIYfY_X0Rsv"
      },
      "source": [
        "#**เชื่อมต่อฐานข้อมูล test.db(Connect Database)**"
      ]
    },
    {
      "cell_type": "code",
      "execution_count": 12,
      "metadata": {
        "id": "2yDBRMutwIUU"
      },
      "outputs": [
        {
          "name": "stdout",
          "output_type": "stream",
          "text": [
            "Opened database successfully\n"
          ]
        }
      ],
      "source": [
        "import sqlite3\n",
        "\n",
        "conn = sqlite3.connect('test.db')   # คำสั่งสร้าง Database \n",
        "\t\t\t\t\t\t\t\t\t# test.db is database name\n",
        "print(\"Opened database successfully\")\n",
        "conn.close()                        # attribute .close() ปิดการใช้งาน Database "
      ]
    },
    {
      "cell_type": "markdown",
      "metadata": {
        "id": "AWax1b2-0k1Z"
      },
      "source": [
        "# **สร้างตารางข้อมูล (Create Table)**"
      ]
    },
    {
      "cell_type": "code",
      "execution_count": 13,
      "metadata": {
        "id": "LRRmM2tswXSr"
      },
      "outputs": [
        {
          "name": "stdout",
          "output_type": "stream",
          "text": [
            "Table created successfully\n"
          ]
        }
      ],
      "source": [
        "conn = sqlite3.connect('test.db')             # พึ่งปิดไปเมื่อกี้ ก็เลยต้องใช้ attribute .connect(\"database name\")\n",
        "\n",
        "# เชื่อมกับ SQL เพ่ือสร้าง table\n",
        "with conn:\n",
        "\n",
        "\t# attribute ไว้เชื่อมกับ SQL\n",
        "\t# Table name = COMPANY\n",
        "\tconn.execute('''CREATE TABLE table_name\n",
        "\t\t\t\t (ID            INT     PRIMARY KEY     NOT NULL,\n",
        "\t\t\t\t NAME           TEXT    NOT NULL,\n",
        "\t\t\t\t AGE            INT     NOT NULL,\n",
        "\t\t\t\t ADDRESS        CHAR(50),\n",
        "\t\t\t\t SALARY         REAL)''')\n",
        "\n",
        "conn.close() # Do not forget close()\n",
        "print(\"Table created successfully\")"
      ]
    },
    {
      "cell_type": "markdown",
      "metadata": {
        "id": "D6M_9qnY1VfT"
      },
      "source": [
        "# **แทรกข้อมูลในตาราง (Insert Data)**"
      ]
    },
    {
      "cell_type": "code",
      "execution_count": 14,
      "metadata": {
        "id": "dKnWw1B2yEbN"
      },
      "outputs": [
        {
          "name": "stdout",
          "output_type": "stream",
          "text": [
            "Records created successfully\n"
          ]
        }
      ],
      "source": [
        "conn = sqlite3.connect('test.db')\n",
        "\n",
        "with conn:\n",
        "  conn.execute(\"INSERT INTO table_name (ID,NAME,AGE,ADDRESS,SALARY) \\\n",
        "\t  VALUES (1, 'Paul', 32, 'California', 20000.00 )\")                 # การ insert ค่า เข้าไปใน database ใน field -> ID NAME AGE ADDRESS SALARY\n",
        "\n",
        "  conn.execute(\"INSERT INTO table_name (ID,NAME,AGE,ADDRESS,SALARY) \\\n",
        "\t  VALUES (2, 'Allen', 25, 'Texas', 15000.00 )\")\n",
        "conn.close()\n",
        "print(\"Records created successfully\")"
      ]
    },
    {
      "cell_type": "markdown",
      "metadata": {
        "id": "auJCTyA51iFS"
      },
      "source": [
        "# **แทรกข้อมูลในตาราง แบบสั้น**"
      ]
    },
    {
      "cell_type": "code",
      "execution_count": 15,
      "metadata": {
        "id": "fIBT92NZyPoD"
      },
      "outputs": [
        {
          "name": "stdout",
          "output_type": "stream",
          "text": [
            "Records created successfully\n"
          ]
        }
      ],
      "source": [
        "conn = sqlite3.connect('test.db') # connect ทุกครั้งที่ close\n",
        "\n",
        "with conn:\n",
        "\tconn.execute(\"INSERT INTO table_name VALUES (3, 'Teddy', 23, 'Norway', 20000.00)\")      # การ insert ค่า เข้าไปใน database ใน field แบบไม่กำหนด field จะเป็นการ insert แบบเรียงลำดับ\n",
        "\tconn.execute(\"INSERT INTO table_name VALUES (4, 'Mark', 25, 'Rich-Mond ', 65000.00)\")\n",
        "\tconn.execute(\"INSERT INTO table_name VALUES (5, 'David', 27, 'Texas', 85000.00)\")\n",
        "\tconn.execute(\"INSERT INTO table_name VALUES (6, 'Kim', 22, 'South-Hall', 45000.00)\")\n",
        "\tconn.execute(\"INSERT INTO table_name VALUES (7, 'James', 24, 'Houston', 10000.00)\")\n",
        "\tconn.execute(\"INSERT INTO table_name VALUES (8, 'Paul', 24, 'Houston', 20000.00)\")\n",
        "\tconn.execute(\"INSERT INTO table_name VALUES (9, 'James', 44, 'Norway', 5000.00)\")\n",
        "\t#conn.commit()\n",
        "\n",
        "conn.close()\n",
        "print(\"Records created successfully\")"
      ]
    },
    {
      "cell_type": "markdown",
      "metadata": {
        "id": "66iCdV_T1tdY"
      },
      "source": [
        "# **สร้าง Utility สำหรับดูข้อมูล**"
      ]
    },
    {
      "cell_type": "code",
      "execution_count": 16,
      "metadata": {
        "id": "fcGwhBwGzyWS"
      },
      "outputs": [],
      "source": [
        "import numpy as np\n",
        "import pandas as pd\n",
        "\n",
        "def get_data(cursor):\n",
        "\tall_rows = cursor.fetchall()\n",
        "\t#[all_rows.append(np.array(row)) for row in cursor]\n",
        "\tcolumn_names = [description[0] for description in cursor.description]\n",
        "\tdf = pd.DataFrame(data=all_rows, columns = column_names)\n",
        "\t# ซ่อน index\n",
        "\tblankIndex=[''] * len(df)\n",
        "\tdf.index=blankIndex\n",
        "\treturn df"
      ]
    },
    {
      "cell_type": "markdown",
      "metadata": {
        "id": "WwKNxiBU1-wH"
      },
      "source": [
        "# **คิวรี่ข้อมูลจากตาราง(Select From Table)**"
      ]
    },
    {
      "cell_type": "code",
      "execution_count": 17,
      "metadata": {
        "id": "z91vPoYty8hQ"
      },
      "outputs": [
        {
          "name": "stdout",
          "output_type": "stream",
          "text": [
            "Operation done successfully\n"
          ]
        },
        {
          "data": {
            "text/html": [
              "<div>\n",
              "<style scoped>\n",
              "    .dataframe tbody tr th:only-of-type {\n",
              "        vertical-align: middle;\n",
              "    }\n",
              "\n",
              "    .dataframe tbody tr th {\n",
              "        vertical-align: top;\n",
              "    }\n",
              "\n",
              "    .dataframe thead th {\n",
              "        text-align: right;\n",
              "    }\n",
              "</style>\n",
              "<table border=\"1\" class=\"dataframe\">\n",
              "  <thead>\n",
              "    <tr style=\"text-align: right;\">\n",
              "      <th></th>\n",
              "      <th>ID</th>\n",
              "      <th>NAME</th>\n",
              "      <th>AGE</th>\n",
              "      <th>ADDRESS</th>\n",
              "      <th>SALARY</th>\n",
              "    </tr>\n",
              "  </thead>\n",
              "  <tbody>\n",
              "    <tr>\n",
              "      <th></th>\n",
              "      <td>1</td>\n",
              "      <td>Paul</td>\n",
              "      <td>32</td>\n",
              "      <td>California</td>\n",
              "      <td>20000.0</td>\n",
              "    </tr>\n",
              "    <tr>\n",
              "      <th></th>\n",
              "      <td>2</td>\n",
              "      <td>Allen</td>\n",
              "      <td>25</td>\n",
              "      <td>Texas</td>\n",
              "      <td>15000.0</td>\n",
              "    </tr>\n",
              "    <tr>\n",
              "      <th></th>\n",
              "      <td>3</td>\n",
              "      <td>Teddy</td>\n",
              "      <td>23</td>\n",
              "      <td>Norway</td>\n",
              "      <td>20000.0</td>\n",
              "    </tr>\n",
              "    <tr>\n",
              "      <th></th>\n",
              "      <td>4</td>\n",
              "      <td>Mark</td>\n",
              "      <td>25</td>\n",
              "      <td>Rich-Mond</td>\n",
              "      <td>65000.0</td>\n",
              "    </tr>\n",
              "    <tr>\n",
              "      <th></th>\n",
              "      <td>5</td>\n",
              "      <td>David</td>\n",
              "      <td>27</td>\n",
              "      <td>Texas</td>\n",
              "      <td>85000.0</td>\n",
              "    </tr>\n",
              "    <tr>\n",
              "      <th></th>\n",
              "      <td>6</td>\n",
              "      <td>Kim</td>\n",
              "      <td>22</td>\n",
              "      <td>South-Hall</td>\n",
              "      <td>45000.0</td>\n",
              "    </tr>\n",
              "    <tr>\n",
              "      <th></th>\n",
              "      <td>7</td>\n",
              "      <td>James</td>\n",
              "      <td>24</td>\n",
              "      <td>Houston</td>\n",
              "      <td>10000.0</td>\n",
              "    </tr>\n",
              "    <tr>\n",
              "      <th></th>\n",
              "      <td>8</td>\n",
              "      <td>Paul</td>\n",
              "      <td>24</td>\n",
              "      <td>Houston</td>\n",
              "      <td>20000.0</td>\n",
              "    </tr>\n",
              "    <tr>\n",
              "      <th></th>\n",
              "      <td>9</td>\n",
              "      <td>James</td>\n",
              "      <td>44</td>\n",
              "      <td>Norway</td>\n",
              "      <td>5000.0</td>\n",
              "    </tr>\n",
              "  </tbody>\n",
              "</table>\n",
              "</div>"
            ],
            "text/plain": [
              "  ID   NAME  AGE     ADDRESS   SALARY\n",
              "   1   Paul   32  California  20000.0\n",
              "   2  Allen   25       Texas  15000.0\n",
              "   3  Teddy   23      Norway  20000.0\n",
              "   4   Mark   25  Rich-Mond   65000.0\n",
              "   5  David   27       Texas  85000.0\n",
              "   6    Kim   22  South-Hall  45000.0\n",
              "   7  James   24     Houston  10000.0\n",
              "   8   Paul   24     Houston  20000.0\n",
              "   9  James   44      Norway   5000.0"
            ]
          },
          "execution_count": 17,
          "metadata": {},
          "output_type": "execute_result"
        }
      ],
      "source": [
        "conn = sqlite3.connect('test.db')\n",
        "\n",
        "with conn:\n",
        "\tcursor = conn.execute(\"SELECT * FROM table_name\") # ใส่คำสั่ง SQL ลงไป เพื่อเป็นสะพานเชื่อมกับ SQL\n",
        "\n",
        "df = get_data(cursor) # ช่วยโชว์ DATA\n",
        "conn.close()\n",
        "print(\"Operation done successfully\")\n",
        "df"
      ]
    },
    {
      "cell_type": "markdown",
      "metadata": {
        "id": "DsLijAp-23zZ"
      },
      "source": [
        "# **แก้ไขตาราง**"
      ]
    },
    {
      "cell_type": "markdown",
      "metadata": {
        "id": "OElGyXuC3DC9"
      },
      "source": [
        "**เปลี่ยนชื่อ Table**"
      ]
    },
    {
      "cell_type": "code",
      "execution_count": 18,
      "metadata": {
        "id": "lJKJrVXIbbGQ"
      },
      "outputs": [
        {
          "name": "stdout",
          "output_type": "stream",
          "text": [
            "Operation done successfully\n"
          ]
        }
      ],
      "source": [
        "conn = sqlite3.connect('test.db')\n",
        "\n",
        "with conn:\n",
        "\tcursor = conn.execute(\"ALTER TABLE table_name RENAME TO OLD_COMPANY\")\n",
        "\n",
        "conn.close()\n",
        "print(\"Operation done successfully\")"
      ]
    },
    {
      "cell_type": "markdown",
      "metadata": {
        "id": "Mw3TruQv3jzS"
      },
      "source": [
        "**เพิ่มคอลัมน์**"
      ]
    },
    {
      "cell_type": "code",
      "execution_count": 19,
      "metadata": {
        "id": "7olx3Vfn3gEr"
      },
      "outputs": [
        {
          "name": "stdout",
          "output_type": "stream",
          "text": [
            "Operation done successfully\n"
          ]
        }
      ],
      "source": [
        "conn = sqlite3.connect('test.db')\n",
        "\n",
        "with conn:\n",
        "\tcursor = conn.execute(\"ALTER TABLE OLD_COMPANY ADD COLUMN SEX char(1)\")\n",
        "\n",
        "conn.close()\n",
        "print(\"Operation done successfully\")"
      ]
    },
    {
      "cell_type": "markdown",
      "metadata": {
        "id": "63LjwrPK35hg"
      },
      "source": [
        "**คิวรี่หลังการเปลี่ยนแปลง**"
      ]
    },
    {
      "cell_type": "code",
      "execution_count": 20,
      "metadata": {
        "id": "23H6k2Zm335s"
      },
      "outputs": [
        {
          "name": "stdout",
          "output_type": "stream",
          "text": [
            "Operation done successfully\n"
          ]
        },
        {
          "data": {
            "text/html": [
              "<div>\n",
              "<style scoped>\n",
              "    .dataframe tbody tr th:only-of-type {\n",
              "        vertical-align: middle;\n",
              "    }\n",
              "\n",
              "    .dataframe tbody tr th {\n",
              "        vertical-align: top;\n",
              "    }\n",
              "\n",
              "    .dataframe thead th {\n",
              "        text-align: right;\n",
              "    }\n",
              "</style>\n",
              "<table border=\"1\" class=\"dataframe\">\n",
              "  <thead>\n",
              "    <tr style=\"text-align: right;\">\n",
              "      <th></th>\n",
              "      <th>ID</th>\n",
              "      <th>NAME</th>\n",
              "      <th>AGE</th>\n",
              "      <th>ADDRESS</th>\n",
              "      <th>SALARY</th>\n",
              "      <th>SEX</th>\n",
              "    </tr>\n",
              "  </thead>\n",
              "  <tbody>\n",
              "    <tr>\n",
              "      <th></th>\n",
              "      <td>1</td>\n",
              "      <td>Paul</td>\n",
              "      <td>32</td>\n",
              "      <td>California</td>\n",
              "      <td>20000.0</td>\n",
              "      <td>None</td>\n",
              "    </tr>\n",
              "    <tr>\n",
              "      <th></th>\n",
              "      <td>2</td>\n",
              "      <td>Allen</td>\n",
              "      <td>25</td>\n",
              "      <td>Texas</td>\n",
              "      <td>15000.0</td>\n",
              "      <td>None</td>\n",
              "    </tr>\n",
              "    <tr>\n",
              "      <th></th>\n",
              "      <td>3</td>\n",
              "      <td>Teddy</td>\n",
              "      <td>23</td>\n",
              "      <td>Norway</td>\n",
              "      <td>20000.0</td>\n",
              "      <td>None</td>\n",
              "    </tr>\n",
              "    <tr>\n",
              "      <th></th>\n",
              "      <td>4</td>\n",
              "      <td>Mark</td>\n",
              "      <td>25</td>\n",
              "      <td>Rich-Mond</td>\n",
              "      <td>65000.0</td>\n",
              "      <td>None</td>\n",
              "    </tr>\n",
              "    <tr>\n",
              "      <th></th>\n",
              "      <td>5</td>\n",
              "      <td>David</td>\n",
              "      <td>27</td>\n",
              "      <td>Texas</td>\n",
              "      <td>85000.0</td>\n",
              "      <td>None</td>\n",
              "    </tr>\n",
              "    <tr>\n",
              "      <th></th>\n",
              "      <td>6</td>\n",
              "      <td>Kim</td>\n",
              "      <td>22</td>\n",
              "      <td>South-Hall</td>\n",
              "      <td>45000.0</td>\n",
              "      <td>None</td>\n",
              "    </tr>\n",
              "    <tr>\n",
              "      <th></th>\n",
              "      <td>7</td>\n",
              "      <td>James</td>\n",
              "      <td>24</td>\n",
              "      <td>Houston</td>\n",
              "      <td>10000.0</td>\n",
              "      <td>None</td>\n",
              "    </tr>\n",
              "    <tr>\n",
              "      <th></th>\n",
              "      <td>8</td>\n",
              "      <td>Paul</td>\n",
              "      <td>24</td>\n",
              "      <td>Houston</td>\n",
              "      <td>20000.0</td>\n",
              "      <td>None</td>\n",
              "    </tr>\n",
              "    <tr>\n",
              "      <th></th>\n",
              "      <td>9</td>\n",
              "      <td>James</td>\n",
              "      <td>44</td>\n",
              "      <td>Norway</td>\n",
              "      <td>5000.0</td>\n",
              "      <td>None</td>\n",
              "    </tr>\n",
              "  </tbody>\n",
              "</table>\n",
              "</div>"
            ],
            "text/plain": [
              "  ID   NAME  AGE     ADDRESS   SALARY   SEX\n",
              "   1   Paul   32  California  20000.0  None\n",
              "   2  Allen   25       Texas  15000.0  None\n",
              "   3  Teddy   23      Norway  20000.0  None\n",
              "   4   Mark   25  Rich-Mond   65000.0  None\n",
              "   5  David   27       Texas  85000.0  None\n",
              "   6    Kim   22  South-Hall  45000.0  None\n",
              "   7  James   24     Houston  10000.0  None\n",
              "   8   Paul   24     Houston  20000.0  None\n",
              "   9  James   44      Norway   5000.0  None"
            ]
          },
          "execution_count": 20,
          "metadata": {},
          "output_type": "execute_result"
        }
      ],
      "source": [
        "conn = sqlite3.connect('test.db')\n",
        "\n",
        "with conn:\n",
        "  cursor = conn.execute(\"SELECT * FROM OLD_COMPANY\")\n",
        "\n",
        "df=get_data(cursor)\n",
        "conn.close()\n",
        "print(\"Operation done successfully\")\n",
        "df"
      ]
    },
    {
      "cell_type": "markdown",
      "metadata": {
        "id": "e1qckAXAVKOU"
      },
      "source": [
        "# **ลบตาราง(Drop Table)**"
      ]
    },
    {
      "cell_type": "code",
      "execution_count": 2,
      "metadata": {},
      "outputs": [],
      "source": [
        "conn = sqlite3.connect('data_base_name.db')\n",
        "with conn: \n",
        "\tconn.execute(\"SQL Command\")\n",
        "conn.close()"
      ]
    },
    {
      "cell_type": "code",
      "execution_count": 21,
      "metadata": {
        "id": "COjjW4syVSjg"
      },
      "outputs": [
        {
          "name": "stdout",
          "output_type": "stream",
          "text": [
            "Table dropped successfully\n"
          ]
        }
      ],
      "source": [
        "conn = sqlite3.connect('test.db')\n",
        "\n",
        "with conn:\n",
        "  conn.execute(\"DROP table IF EXISTS OLD_COMPANY\") \n",
        "  # IF EXISTS เป็นการยืนยันว่า table นี้มีอยู่จริง\n",
        "  # DROP เป็นการลบ table ทิ้ง\n",
        "\n",
        "conn.close()\n",
        "print(\"Table dropped successfully\")"
      ]
    },
    {
      "cell_type": "markdown",
      "metadata": {
        "id": "qXoJWkQ1WVna"
      },
      "source": [
        "**จากข้างต้น Table จะถูกลบแล้ว จะต้องทำการสร้างตารางขึ้นใหม่**\n",
        "# **AutoIncrement**\n",
        "ตัวอย่างการสร้าง table โดยให้ primary key เป็น autoincrement"
      ]
    },
    {
      "cell_type": "code",
      "execution_count": 22,
      "metadata": {
        "id": "USaodm41VmVj"
      },
      "outputs": [
        {
          "name": "stdout",
          "output_type": "stream",
          "text": [
            "Table created successfully\n"
          ]
        }
      ],
      "source": [
        "conn = sqlite3.connect('test.db')\n",
        "\n",
        "with conn:\n",
        "  conn.execute('''CREATE TABLE COMPANY\n",
        "\t  (ID INTEGER PRIMARY KEY AUTOINCREMENT,\n",
        "\t   NAME           TEXT    NOT NULL,\n",
        "\t   AGE            INT     NOT NULL,\n",
        "\t   ADDRESS        CHAR(50),\n",
        "\t   SALARY         REAL)\n",
        "\t\t   ''')\n",
        "\n",
        "conn.close()\n",
        "print(\"Table created successfully\")"
      ]
    },
    {
      "cell_type": "markdown",
      "metadata": {
        "id": "-B1HVo81W1Mo"
      },
      "source": [
        "**การเพิ่มข้อมูล โดยไม่ระบุ primary key**"
      ]
    },
    {
      "cell_type": "code",
      "execution_count": 23,
      "metadata": {
        "id": "ISBUZnG_WxgN"
      },
      "outputs": [
        {
          "name": "stdout",
          "output_type": "stream",
          "text": [
            "Records created successfully\n"
          ]
        }
      ],
      "source": [
        "conn = sqlite3.connect('test.db')\n",
        "\n",
        "with conn:\n",
        "\tconn.execute(\"INSERT INTO COMPANY (NAME,AGE,ADDRESS,SALARY)\\\n",
        "\t\t\t\t\t\t VALUES ('Paul', 32, 'California', 20000.00 )\")\n",
        "\n",
        "\tconn.execute(\"INSERT INTO COMPANY (NAME,AGE,ADDRESS,SALARY)\\\n",
        "\t\t\t\t\t\tVALUES ('Allen', 25, 'Texas', 15000.00 )\")\n",
        "\n",
        "\tconn.execute(\"INSERT INTO COMPANY (NAME,AGE,ADDRESS,SALARY)\\\n",
        "\t\t\t\t\t\tVALUES ('Teddy', 23, 'Norway', 20000.00 )\")\n",
        "\n",
        "\tconn.execute(\"INSERT INTO COMPANY (NAME,AGE,ADDRESS,SALARY)\\\n",
        "\t\t\t\t\t\tVALUES ('Mark', 25, 'Rich-Mond ', 65000.00 )\")\n",
        "\n",
        "\tconn.execute(\"INSERT INTO COMPANY (NAME,AGE,ADDRESS,SALARY)\\\n",
        "\t\t\t\t\t\tVALUES ('David', 27, 'Texas', 85000.00 )\")\n",
        "\n",
        "\tconn.execute(\"INSERT INTO COMPANY (NAME,AGE,ADDRESS,SALARY)\\\n",
        "\t\t\t\t\t\tVALUES ('Kim', 22, 'South-Hall', 45000.00 )\")\n",
        "\n",
        "\tconn.execute(\"INSERT INTO COMPANY (NAME,AGE,ADDRESS,SALARY)\\\n",
        "\t\t\t\t\t\tVALUES ('James', 24, 'Houston', 10000.00)\")\n",
        "\n",
        "\tconn.execute(\"INSERT INTO COMPANY (NAME,AGE,ADDRESS,SALARY)\\\n",
        "\t\t\t\t\t\tVALUES ('Paul', 24, 'Houston', 20000.00)\")\n",
        "\n",
        "\tconn.execute(\"INSERT INTO COMPANY (NAME,AGE,ADDRESS,SALARY)\\\n",
        "\t\t\t\t\t\tVALUES ('James', 44, 'Norway', 5000.00)\")\n",
        "\t#conn.commit()\n",
        "\n",
        "print(\"Records created successfully\")"
      ]
    },
    {
      "cell_type": "markdown",
      "metadata": {
        "id": "Til56unAXPjG"
      },
      "source": [
        "# **SELECT Query (การค้นหาข้อมูล)**\n",
        "\n",
        "เริ่มจากการใช้ฟังก์ชันเพื่อแสดงข้อมูลจากการคิวรี่"
      ]
    },
    {
      "cell_type": "code",
      "execution_count": 24,
      "metadata": {
        "id": "x5gl4iQyXZpg"
      },
      "outputs": [
        {
          "name": "stdout",
          "output_type": "stream",
          "text": [
            "Operation done successfully\n"
          ]
        },
        {
          "data": {
            "text/html": [
              "<div>\n",
              "<style scoped>\n",
              "    .dataframe tbody tr th:only-of-type {\n",
              "        vertical-align: middle;\n",
              "    }\n",
              "\n",
              "    .dataframe tbody tr th {\n",
              "        vertical-align: top;\n",
              "    }\n",
              "\n",
              "    .dataframe thead th {\n",
              "        text-align: right;\n",
              "    }\n",
              "</style>\n",
              "<table border=\"1\" class=\"dataframe\">\n",
              "  <thead>\n",
              "    <tr style=\"text-align: right;\">\n",
              "      <th></th>\n",
              "      <th>ID</th>\n",
              "      <th>NAME</th>\n",
              "      <th>AGE</th>\n",
              "      <th>ADDRESS</th>\n",
              "      <th>SALARY</th>\n",
              "    </tr>\n",
              "  </thead>\n",
              "  <tbody>\n",
              "    <tr>\n",
              "      <th></th>\n",
              "      <td>1</td>\n",
              "      <td>Paul</td>\n",
              "      <td>32</td>\n",
              "      <td>California</td>\n",
              "      <td>20000.0</td>\n",
              "    </tr>\n",
              "    <tr>\n",
              "      <th></th>\n",
              "      <td>2</td>\n",
              "      <td>Allen</td>\n",
              "      <td>25</td>\n",
              "      <td>Texas</td>\n",
              "      <td>15000.0</td>\n",
              "    </tr>\n",
              "    <tr>\n",
              "      <th></th>\n",
              "      <td>3</td>\n",
              "      <td>Teddy</td>\n",
              "      <td>23</td>\n",
              "      <td>Norway</td>\n",
              "      <td>20000.0</td>\n",
              "    </tr>\n",
              "    <tr>\n",
              "      <th></th>\n",
              "      <td>4</td>\n",
              "      <td>Mark</td>\n",
              "      <td>25</td>\n",
              "      <td>Rich-Mond</td>\n",
              "      <td>65000.0</td>\n",
              "    </tr>\n",
              "    <tr>\n",
              "      <th></th>\n",
              "      <td>5</td>\n",
              "      <td>David</td>\n",
              "      <td>27</td>\n",
              "      <td>Texas</td>\n",
              "      <td>85000.0</td>\n",
              "    </tr>\n",
              "    <tr>\n",
              "      <th></th>\n",
              "      <td>6</td>\n",
              "      <td>Kim</td>\n",
              "      <td>22</td>\n",
              "      <td>South-Hall</td>\n",
              "      <td>45000.0</td>\n",
              "    </tr>\n",
              "    <tr>\n",
              "      <th></th>\n",
              "      <td>7</td>\n",
              "      <td>James</td>\n",
              "      <td>24</td>\n",
              "      <td>Houston</td>\n",
              "      <td>10000.0</td>\n",
              "    </tr>\n",
              "    <tr>\n",
              "      <th></th>\n",
              "      <td>8</td>\n",
              "      <td>Paul</td>\n",
              "      <td>24</td>\n",
              "      <td>Houston</td>\n",
              "      <td>20000.0</td>\n",
              "    </tr>\n",
              "    <tr>\n",
              "      <th></th>\n",
              "      <td>9</td>\n",
              "      <td>James</td>\n",
              "      <td>44</td>\n",
              "      <td>Norway</td>\n",
              "      <td>5000.0</td>\n",
              "    </tr>\n",
              "  </tbody>\n",
              "</table>\n",
              "</div>"
            ],
            "text/plain": [
              "  ID   NAME  AGE     ADDRESS   SALARY\n",
              "   1   Paul   32  California  20000.0\n",
              "   2  Allen   25       Texas  15000.0\n",
              "   3  Teddy   23      Norway  20000.0\n",
              "   4   Mark   25  Rich-Mond   65000.0\n",
              "   5  David   27       Texas  85000.0\n",
              "   6    Kim   22  South-Hall  45000.0\n",
              "   7  James   24     Houston  10000.0\n",
              "   8   Paul   24     Houston  20000.0\n",
              "   9  James   44      Norway   5000.0"
            ]
          },
          "execution_count": 24,
          "metadata": {},
          "output_type": "execute_result"
        }
      ],
      "source": [
        "conn = sqlite3.connect('test.db')\n",
        "\n",
        "#cursor = conn.execute(\"SELECT id, name, age, salary from COMPANY\")\n",
        "cursor = conn.execute(\"SELECT * from COMPANY\")\n",
        "#Select query field of table\n",
        "df = get_data(cursor)\n",
        "\n",
        "conn.close()\n",
        "print(\"Operation done successfully\")\n",
        "df"
      ]
    },
    {
      "cell_type": "code",
      "execution_count": 25,
      "metadata": {},
      "outputs": [
        {
          "name": "stdout",
          "output_type": "stream",
          "text": [
            "Operation done successfully\n"
          ]
        },
        {
          "data": {
            "text/html": [
              "<div>\n",
              "<style scoped>\n",
              "    .dataframe tbody tr th:only-of-type {\n",
              "        vertical-align: middle;\n",
              "    }\n",
              "\n",
              "    .dataframe tbody tr th {\n",
              "        vertical-align: top;\n",
              "    }\n",
              "\n",
              "    .dataframe thead th {\n",
              "        text-align: right;\n",
              "    }\n",
              "</style>\n",
              "<table border=\"1\" class=\"dataframe\">\n",
              "  <thead>\n",
              "    <tr style=\"text-align: right;\">\n",
              "      <th></th>\n",
              "      <th>ID</th>\n",
              "      <th>NAME</th>\n",
              "      <th>AGE</th>\n",
              "      <th>SALARY</th>\n",
              "    </tr>\n",
              "  </thead>\n",
              "  <tbody>\n",
              "    <tr>\n",
              "      <th></th>\n",
              "      <td>1</td>\n",
              "      <td>Paul</td>\n",
              "      <td>32</td>\n",
              "      <td>20000.0</td>\n",
              "    </tr>\n",
              "    <tr>\n",
              "      <th></th>\n",
              "      <td>2</td>\n",
              "      <td>Allen</td>\n",
              "      <td>25</td>\n",
              "      <td>15000.0</td>\n",
              "    </tr>\n",
              "    <tr>\n",
              "      <th></th>\n",
              "      <td>3</td>\n",
              "      <td>Teddy</td>\n",
              "      <td>23</td>\n",
              "      <td>20000.0</td>\n",
              "    </tr>\n",
              "    <tr>\n",
              "      <th></th>\n",
              "      <td>4</td>\n",
              "      <td>Mark</td>\n",
              "      <td>25</td>\n",
              "      <td>65000.0</td>\n",
              "    </tr>\n",
              "    <tr>\n",
              "      <th></th>\n",
              "      <td>5</td>\n",
              "      <td>David</td>\n",
              "      <td>27</td>\n",
              "      <td>85000.0</td>\n",
              "    </tr>\n",
              "    <tr>\n",
              "      <th></th>\n",
              "      <td>6</td>\n",
              "      <td>Kim</td>\n",
              "      <td>22</td>\n",
              "      <td>45000.0</td>\n",
              "    </tr>\n",
              "    <tr>\n",
              "      <th></th>\n",
              "      <td>7</td>\n",
              "      <td>James</td>\n",
              "      <td>24</td>\n",
              "      <td>10000.0</td>\n",
              "    </tr>\n",
              "    <tr>\n",
              "      <th></th>\n",
              "      <td>8</td>\n",
              "      <td>Paul</td>\n",
              "      <td>24</td>\n",
              "      <td>20000.0</td>\n",
              "    </tr>\n",
              "    <tr>\n",
              "      <th></th>\n",
              "      <td>9</td>\n",
              "      <td>James</td>\n",
              "      <td>44</td>\n",
              "      <td>5000.0</td>\n",
              "    </tr>\n",
              "  </tbody>\n",
              "</table>\n",
              "</div>"
            ],
            "text/plain": [
              "  ID   NAME  AGE   SALARY\n",
              "   1   Paul   32  20000.0\n",
              "   2  Allen   25  15000.0\n",
              "   3  Teddy   23  20000.0\n",
              "   4   Mark   25  65000.0\n",
              "   5  David   27  85000.0\n",
              "   6    Kim   22  45000.0\n",
              "   7  James   24  10000.0\n",
              "   8   Paul   24  20000.0\n",
              "   9  James   44   5000.0"
            ]
          },
          "execution_count": 25,
          "metadata": {},
          "output_type": "execute_result"
        }
      ],
      "source": [
        "conn = sqlite3.connect('test.db')\n",
        "\n",
        "cursor = conn.execute(\"SELECT id, name, age, salary from COMPANY\")\n",
        "# cursor = conn.execute(\"SELECT * from COMPANY\")\n",
        "#Select query field of table\n",
        "df = get_data(cursor)\n",
        "\n",
        "conn.close()\n",
        "print(\"Operation done successfully\")\n",
        "df"
      ]
    },
    {
      "cell_type": "code",
      "execution_count": 26,
      "metadata": {},
      "outputs": [
        {
          "name": "stdout",
          "output_type": "stream",
          "text": [
            "Operation done successfully\n"
          ]
        },
        {
          "data": {
            "text/html": [
              "<div>\n",
              "<style scoped>\n",
              "    .dataframe tbody tr th:only-of-type {\n",
              "        vertical-align: middle;\n",
              "    }\n",
              "\n",
              "    .dataframe tbody tr th {\n",
              "        vertical-align: top;\n",
              "    }\n",
              "\n",
              "    .dataframe thead th {\n",
              "        text-align: right;\n",
              "    }\n",
              "</style>\n",
              "<table border=\"1\" class=\"dataframe\">\n",
              "  <thead>\n",
              "    <tr style=\"text-align: right;\">\n",
              "      <th></th>\n",
              "      <th>ID</th>\n",
              "      <th>NAME</th>\n",
              "      <th>AGE</th>\n",
              "      <th>SALARY</th>\n",
              "    </tr>\n",
              "  </thead>\n",
              "  <tbody>\n",
              "    <tr>\n",
              "      <th></th>\n",
              "      <td>1</td>\n",
              "      <td>Paul</td>\n",
              "      <td>32</td>\n",
              "      <td>20000.0</td>\n",
              "    </tr>\n",
              "    <tr>\n",
              "      <th></th>\n",
              "      <td>2</td>\n",
              "      <td>Allen</td>\n",
              "      <td>25</td>\n",
              "      <td>15000.0</td>\n",
              "    </tr>\n",
              "    <tr>\n",
              "      <th></th>\n",
              "      <td>4</td>\n",
              "      <td>Mark</td>\n",
              "      <td>25</td>\n",
              "      <td>65000.0</td>\n",
              "    </tr>\n",
              "    <tr>\n",
              "      <th></th>\n",
              "      <td>5</td>\n",
              "      <td>David</td>\n",
              "      <td>27</td>\n",
              "      <td>85000.0</td>\n",
              "    </tr>\n",
              "    <tr>\n",
              "      <th></th>\n",
              "      <td>9</td>\n",
              "      <td>James</td>\n",
              "      <td>44</td>\n",
              "      <td>5000.0</td>\n",
              "    </tr>\n",
              "  </tbody>\n",
              "</table>\n",
              "</div>"
            ],
            "text/plain": [
              "  ID   NAME  AGE   SALARY\n",
              "   1   Paul   32  20000.0\n",
              "   2  Allen   25  15000.0\n",
              "   4   Mark   25  65000.0\n",
              "   5  David   27  85000.0\n",
              "   9  James   44   5000.0"
            ]
          },
          "execution_count": 26,
          "metadata": {},
          "output_type": "execute_result"
        }
      ],
      "source": [
        "conn = sqlite3.connect('test.db')\n",
        "\n",
        "cursor = conn.execute(\"SELECT id, name, age, salary from COMPANY WHERE AGE >=25\")\n",
        "# cursor = conn.execute(\"SELECT * from COMPANY\")\n",
        "\n",
        "#Select query field of table\n",
        "df = get_data(cursor)\n",
        "\n",
        "conn.close()\n",
        "print(\"Operation done successfully\")\n",
        "df"
      ]
    },
    {
      "cell_type": "markdown",
      "metadata": {
        "id": "9ROiZvCqX06k"
      },
      "source": [
        "**Where Clause**\n",
        "\n",
        "การใช้ operator AND"
      ]
    },
    {
      "cell_type": "code",
      "execution_count": 27,
      "metadata": {
        "id": "eDkQ0Dk_XoRA"
      },
      "outputs": [
        {
          "name": "stdout",
          "output_type": "stream",
          "text": [
            "Operation done successfully\n"
          ]
        },
        {
          "data": {
            "text/html": [
              "<div>\n",
              "<style scoped>\n",
              "    .dataframe tbody tr th:only-of-type {\n",
              "        vertical-align: middle;\n",
              "    }\n",
              "\n",
              "    .dataframe tbody tr th {\n",
              "        vertical-align: top;\n",
              "    }\n",
              "\n",
              "    .dataframe thead th {\n",
              "        text-align: right;\n",
              "    }\n",
              "</style>\n",
              "<table border=\"1\" class=\"dataframe\">\n",
              "  <thead>\n",
              "    <tr style=\"text-align: right;\">\n",
              "      <th></th>\n",
              "      <th>ID</th>\n",
              "      <th>NAME</th>\n",
              "      <th>AGE</th>\n",
              "      <th>ADDRESS</th>\n",
              "      <th>SALARY</th>\n",
              "    </tr>\n",
              "  </thead>\n",
              "  <tbody>\n",
              "    <tr>\n",
              "      <th></th>\n",
              "      <td>4</td>\n",
              "      <td>Mark</td>\n",
              "      <td>25</td>\n",
              "      <td>Rich-Mond</td>\n",
              "      <td>65000.0</td>\n",
              "    </tr>\n",
              "    <tr>\n",
              "      <th></th>\n",
              "      <td>5</td>\n",
              "      <td>David</td>\n",
              "      <td>27</td>\n",
              "      <td>Texas</td>\n",
              "      <td>85000.0</td>\n",
              "    </tr>\n",
              "  </tbody>\n",
              "</table>\n",
              "</div>"
            ],
            "text/plain": [
              "  ID   NAME  AGE     ADDRESS   SALARY\n",
              "   4   Mark   25  Rich-Mond   65000.0\n",
              "   5  David   27       Texas  85000.0"
            ]
          },
          "execution_count": 27,
          "metadata": {},
          "output_type": "execute_result"
        }
      ],
      "source": [
        "conn = sqlite3.connect('test.db')\n",
        "\n",
        "cursor = conn.execute(\"SELECT * FROM COMPANY WHERE AGE >= 25 AND SALARY >= 65000\")\n",
        "df = get_data(cursor)\n",
        "\n",
        "conn.close()\n",
        "print(\"Operation done successfully\")\n",
        "df"
      ]
    },
    {
      "cell_type": "markdown",
      "metadata": {
        "id": "AvBAvOQXYDzQ"
      },
      "source": [
        "การใช้ operator OR"
      ]
    },
    {
      "cell_type": "code",
      "execution_count": 28,
      "metadata": {
        "id": "WAK2gpfQYHL4"
      },
      "outputs": [
        {
          "name": "stdout",
          "output_type": "stream",
          "text": [
            "Operation done successfully\n"
          ]
        },
        {
          "data": {
            "text/html": [
              "<div>\n",
              "<style scoped>\n",
              "    .dataframe tbody tr th:only-of-type {\n",
              "        vertical-align: middle;\n",
              "    }\n",
              "\n",
              "    .dataframe tbody tr th {\n",
              "        vertical-align: top;\n",
              "    }\n",
              "\n",
              "    .dataframe thead th {\n",
              "        text-align: right;\n",
              "    }\n",
              "</style>\n",
              "<table border=\"1\" class=\"dataframe\">\n",
              "  <thead>\n",
              "    <tr style=\"text-align: right;\">\n",
              "      <th></th>\n",
              "      <th>ID</th>\n",
              "      <th>NAME</th>\n",
              "      <th>AGE</th>\n",
              "      <th>ADDRESS</th>\n",
              "      <th>SALARY</th>\n",
              "    </tr>\n",
              "  </thead>\n",
              "  <tbody>\n",
              "    <tr>\n",
              "      <th></th>\n",
              "      <td>1</td>\n",
              "      <td>Paul</td>\n",
              "      <td>32</td>\n",
              "      <td>California</td>\n",
              "      <td>20000.0</td>\n",
              "    </tr>\n",
              "    <tr>\n",
              "      <th></th>\n",
              "      <td>2</td>\n",
              "      <td>Allen</td>\n",
              "      <td>25</td>\n",
              "      <td>Texas</td>\n",
              "      <td>15000.0</td>\n",
              "    </tr>\n",
              "    <tr>\n",
              "      <th></th>\n",
              "      <td>4</td>\n",
              "      <td>Mark</td>\n",
              "      <td>25</td>\n",
              "      <td>Rich-Mond</td>\n",
              "      <td>65000.0</td>\n",
              "    </tr>\n",
              "    <tr>\n",
              "      <th></th>\n",
              "      <td>5</td>\n",
              "      <td>David</td>\n",
              "      <td>27</td>\n",
              "      <td>Texas</td>\n",
              "      <td>85000.0</td>\n",
              "    </tr>\n",
              "    <tr>\n",
              "      <th></th>\n",
              "      <td>9</td>\n",
              "      <td>James</td>\n",
              "      <td>44</td>\n",
              "      <td>Norway</td>\n",
              "      <td>5000.0</td>\n",
              "    </tr>\n",
              "  </tbody>\n",
              "</table>\n",
              "</div>"
            ],
            "text/plain": [
              "  ID   NAME  AGE     ADDRESS   SALARY\n",
              "   1   Paul   32  California  20000.0\n",
              "   2  Allen   25       Texas  15000.0\n",
              "   4   Mark   25  Rich-Mond   65000.0\n",
              "   5  David   27       Texas  85000.0\n",
              "   9  James   44      Norway   5000.0"
            ]
          },
          "execution_count": 28,
          "metadata": {},
          "output_type": "execute_result"
        }
      ],
      "source": [
        "conn = sqlite3.connect('test.db')\n",
        "\n",
        "cursor = conn.execute(\"SELECT * FROM COMPANY WHERE AGE >= 25 OR SALARY >= 65000\")\n",
        "df = get_data(cursor)\n",
        "\n",
        "conn.close()\n",
        "print(\"Operation done successfully\")\n",
        "df"
      ]
    },
    {
      "cell_type": "markdown",
      "metadata": {
        "id": "dIqNzdo_Yc2o"
      },
      "source": [
        "การใช้ IS NULL กับ IS NOT NULL"
      ]
    },
    {
      "cell_type": "code",
      "execution_count": 29,
      "metadata": {
        "id": "JgrFMRvuYbnw"
      },
      "outputs": [
        {
          "name": "stdout",
          "output_type": "stream",
          "text": [
            "Operation done successfully\n"
          ]
        },
        {
          "data": {
            "text/html": [
              "<div>\n",
              "<style scoped>\n",
              "    .dataframe tbody tr th:only-of-type {\n",
              "        vertical-align: middle;\n",
              "    }\n",
              "\n",
              "    .dataframe tbody tr th {\n",
              "        vertical-align: top;\n",
              "    }\n",
              "\n",
              "    .dataframe thead th {\n",
              "        text-align: right;\n",
              "    }\n",
              "</style>\n",
              "<table border=\"1\" class=\"dataframe\">\n",
              "  <thead>\n",
              "    <tr style=\"text-align: right;\">\n",
              "      <th></th>\n",
              "      <th>ID</th>\n",
              "      <th>NAME</th>\n",
              "      <th>AGE</th>\n",
              "      <th>ADDRESS</th>\n",
              "      <th>SALARY</th>\n",
              "    </tr>\n",
              "  </thead>\n",
              "  <tbody>\n",
              "  </tbody>\n",
              "</table>\n",
              "</div>"
            ],
            "text/plain": [
              "Empty DataFrame\n",
              "Columns: [ID, NAME, AGE, ADDRESS, SALARY]\n",
              "Index: []"
            ]
          },
          "execution_count": 29,
          "metadata": {},
          "output_type": "execute_result"
        }
      ],
      "source": [
        "conn = sqlite3.connect('test.db')\n",
        "\n",
        "cursor = conn.execute(\"SELECT * FROM COMPANY WHERE SALARY IS NULL\")\n",
        "df = get_data(cursor)\n",
        "\n",
        "conn.close()\n",
        "print(\"Operation done successfully\")\n",
        "df"
      ]
    },
    {
      "cell_type": "code",
      "execution_count": 30,
      "metadata": {
        "id": "Ey0I48PdYxF_"
      },
      "outputs": [
        {
          "name": "stdout",
          "output_type": "stream",
          "text": [
            "Operation done successfully\n"
          ]
        },
        {
          "data": {
            "text/html": [
              "<div>\n",
              "<style scoped>\n",
              "    .dataframe tbody tr th:only-of-type {\n",
              "        vertical-align: middle;\n",
              "    }\n",
              "\n",
              "    .dataframe tbody tr th {\n",
              "        vertical-align: top;\n",
              "    }\n",
              "\n",
              "    .dataframe thead th {\n",
              "        text-align: right;\n",
              "    }\n",
              "</style>\n",
              "<table border=\"1\" class=\"dataframe\">\n",
              "  <thead>\n",
              "    <tr style=\"text-align: right;\">\n",
              "      <th></th>\n",
              "      <th>ID</th>\n",
              "      <th>NAME</th>\n",
              "      <th>AGE</th>\n",
              "      <th>ADDRESS</th>\n",
              "      <th>SALARY</th>\n",
              "    </tr>\n",
              "  </thead>\n",
              "  <tbody>\n",
              "    <tr>\n",
              "      <th></th>\n",
              "      <td>1</td>\n",
              "      <td>Paul</td>\n",
              "      <td>32</td>\n",
              "      <td>California</td>\n",
              "      <td>20000.0</td>\n",
              "    </tr>\n",
              "    <tr>\n",
              "      <th></th>\n",
              "      <td>2</td>\n",
              "      <td>Allen</td>\n",
              "      <td>25</td>\n",
              "      <td>Texas</td>\n",
              "      <td>15000.0</td>\n",
              "    </tr>\n",
              "    <tr>\n",
              "      <th></th>\n",
              "      <td>3</td>\n",
              "      <td>Teddy</td>\n",
              "      <td>23</td>\n",
              "      <td>Norway</td>\n",
              "      <td>20000.0</td>\n",
              "    </tr>\n",
              "    <tr>\n",
              "      <th></th>\n",
              "      <td>4</td>\n",
              "      <td>Mark</td>\n",
              "      <td>25</td>\n",
              "      <td>Rich-Mond</td>\n",
              "      <td>65000.0</td>\n",
              "    </tr>\n",
              "    <tr>\n",
              "      <th></th>\n",
              "      <td>5</td>\n",
              "      <td>David</td>\n",
              "      <td>27</td>\n",
              "      <td>Texas</td>\n",
              "      <td>85000.0</td>\n",
              "    </tr>\n",
              "    <tr>\n",
              "      <th></th>\n",
              "      <td>6</td>\n",
              "      <td>Kim</td>\n",
              "      <td>22</td>\n",
              "      <td>South-Hall</td>\n",
              "      <td>45000.0</td>\n",
              "    </tr>\n",
              "    <tr>\n",
              "      <th></th>\n",
              "      <td>7</td>\n",
              "      <td>James</td>\n",
              "      <td>24</td>\n",
              "      <td>Houston</td>\n",
              "      <td>10000.0</td>\n",
              "    </tr>\n",
              "    <tr>\n",
              "      <th></th>\n",
              "      <td>8</td>\n",
              "      <td>Paul</td>\n",
              "      <td>24</td>\n",
              "      <td>Houston</td>\n",
              "      <td>20000.0</td>\n",
              "    </tr>\n",
              "    <tr>\n",
              "      <th></th>\n",
              "      <td>9</td>\n",
              "      <td>James</td>\n",
              "      <td>44</td>\n",
              "      <td>Norway</td>\n",
              "      <td>5000.0</td>\n",
              "    </tr>\n",
              "  </tbody>\n",
              "</table>\n",
              "</div>"
            ],
            "text/plain": [
              "  ID   NAME  AGE     ADDRESS   SALARY\n",
              "   1   Paul   32  California  20000.0\n",
              "   2  Allen   25       Texas  15000.0\n",
              "   3  Teddy   23      Norway  20000.0\n",
              "   4   Mark   25  Rich-Mond   65000.0\n",
              "   5  David   27       Texas  85000.0\n",
              "   6    Kim   22  South-Hall  45000.0\n",
              "   7  James   24     Houston  10000.0\n",
              "   8   Paul   24     Houston  20000.0\n",
              "   9  James   44      Norway   5000.0"
            ]
          },
          "execution_count": 30,
          "metadata": {},
          "output_type": "execute_result"
        }
      ],
      "source": [
        "conn = sqlite3.connect('test.db')\n",
        "\n",
        "cursor = conn.execute(\"SELECT * FROM COMPANY WHERE AGE IS NOT NULL\")\n",
        "df = get_data(cursor)\n",
        "\n",
        "conn.close()\n",
        "print(\"Operation done successfully\")\n",
        "df"
      ]
    },
    {
      "cell_type": "markdown",
      "metadata": {
        "id": "RmQJiTQFY4CI"
      },
      "source": [
        "การใช้ LIKE"
      ]
    },
    {
      "cell_type": "code",
      "execution_count": 31,
      "metadata": {
        "id": "cwYKoJ4NY60_"
      },
      "outputs": [
        {
          "name": "stdout",
          "output_type": "stream",
          "text": [
            "Operation done successfully\n"
          ]
        },
        {
          "data": {
            "text/html": [
              "<div>\n",
              "<style scoped>\n",
              "    .dataframe tbody tr th:only-of-type {\n",
              "        vertical-align: middle;\n",
              "    }\n",
              "\n",
              "    .dataframe tbody tr th {\n",
              "        vertical-align: top;\n",
              "    }\n",
              "\n",
              "    .dataframe thead th {\n",
              "        text-align: right;\n",
              "    }\n",
              "</style>\n",
              "<table border=\"1\" class=\"dataframe\">\n",
              "  <thead>\n",
              "    <tr style=\"text-align: right;\">\n",
              "      <th></th>\n",
              "      <th>ID</th>\n",
              "      <th>NAME</th>\n",
              "      <th>AGE</th>\n",
              "      <th>ADDRESS</th>\n",
              "      <th>SALARY</th>\n",
              "    </tr>\n",
              "  </thead>\n",
              "  <tbody>\n",
              "    <tr>\n",
              "      <th></th>\n",
              "      <td>2</td>\n",
              "      <td>Allen</td>\n",
              "      <td>25</td>\n",
              "      <td>Texas</td>\n",
              "      <td>15000.0</td>\n",
              "    </tr>\n",
              "    <tr>\n",
              "      <th></th>\n",
              "      <td>3</td>\n",
              "      <td>Teddy</td>\n",
              "      <td>23</td>\n",
              "      <td>Norway</td>\n",
              "      <td>20000.0</td>\n",
              "    </tr>\n",
              "    <tr>\n",
              "      <th></th>\n",
              "      <td>4</td>\n",
              "      <td>Mark</td>\n",
              "      <td>25</td>\n",
              "      <td>Rich-Mond</td>\n",
              "      <td>65000.0</td>\n",
              "    </tr>\n",
              "    <tr>\n",
              "      <th></th>\n",
              "      <td>5</td>\n",
              "      <td>David</td>\n",
              "      <td>27</td>\n",
              "      <td>Texas</td>\n",
              "      <td>85000.0</td>\n",
              "    </tr>\n",
              "    <tr>\n",
              "      <th></th>\n",
              "      <td>6</td>\n",
              "      <td>Kim</td>\n",
              "      <td>22</td>\n",
              "      <td>South-Hall</td>\n",
              "      <td>45000.0</td>\n",
              "    </tr>\n",
              "    <tr>\n",
              "      <th></th>\n",
              "      <td>7</td>\n",
              "      <td>James</td>\n",
              "      <td>24</td>\n",
              "      <td>Houston</td>\n",
              "      <td>10000.0</td>\n",
              "    </tr>\n",
              "    <tr>\n",
              "      <th></th>\n",
              "      <td>8</td>\n",
              "      <td>Paul</td>\n",
              "      <td>24</td>\n",
              "      <td>Houston</td>\n",
              "      <td>20000.0</td>\n",
              "    </tr>\n",
              "  </tbody>\n",
              "</table>\n",
              "</div>"
            ],
            "text/plain": [
              "  ID   NAME  AGE     ADDRESS   SALARY\n",
              "   2  Allen   25       Texas  15000.0\n",
              "   3  Teddy   23      Norway  20000.0\n",
              "   4   Mark   25  Rich-Mond   65000.0\n",
              "   5  David   27       Texas  85000.0\n",
              "   6    Kim   22  South-Hall  45000.0\n",
              "   7  James   24     Houston  10000.0\n",
              "   8   Paul   24     Houston  20000.0"
            ]
          },
          "execution_count": 31,
          "metadata": {},
          "output_type": "execute_result"
        }
      ],
      "source": [
        "conn = sqlite3.connect('test.db')\n",
        "\n",
        "cursor = conn.execute(\"SELECT * FROM COMPANY WHERE age LIKE '2%'\")\n",
        "df = get_data(cursor)\n",
        "\n",
        "conn.close()\n",
        "print(\"Operation done successfully\")\n",
        "df"
      ]
    },
    {
      "cell_type": "code",
      "execution_count": 32,
      "metadata": {
        "id": "xrHdeVs9ZAvv"
      },
      "outputs": [
        {
          "name": "stdout",
          "output_type": "stream",
          "text": [
            "Operation done successfully\n"
          ]
        },
        {
          "data": {
            "text/html": [
              "<div>\n",
              "<style scoped>\n",
              "    .dataframe tbody tr th:only-of-type {\n",
              "        vertical-align: middle;\n",
              "    }\n",
              "\n",
              "    .dataframe tbody tr th {\n",
              "        vertical-align: top;\n",
              "    }\n",
              "\n",
              "    .dataframe thead th {\n",
              "        text-align: right;\n",
              "    }\n",
              "</style>\n",
              "<table border=\"1\" class=\"dataframe\">\n",
              "  <thead>\n",
              "    <tr style=\"text-align: right;\">\n",
              "      <th></th>\n",
              "      <th>ID</th>\n",
              "      <th>NAME</th>\n",
              "      <th>AGE</th>\n",
              "      <th>ADDRESS</th>\n",
              "      <th>SALARY</th>\n",
              "    </tr>\n",
              "  </thead>\n",
              "  <tbody>\n",
              "    <tr>\n",
              "      <th></th>\n",
              "      <td>4</td>\n",
              "      <td>Mark</td>\n",
              "      <td>25</td>\n",
              "      <td>Rich-Mond</td>\n",
              "      <td>65000.0</td>\n",
              "    </tr>\n",
              "    <tr>\n",
              "      <th></th>\n",
              "      <td>6</td>\n",
              "      <td>Kim</td>\n",
              "      <td>22</td>\n",
              "      <td>South-Hall</td>\n",
              "      <td>45000.0</td>\n",
              "    </tr>\n",
              "  </tbody>\n",
              "</table>\n",
              "</div>"
            ],
            "text/plain": [
              "  ID  NAME  AGE     ADDRESS   SALARY\n",
              "   4  Mark   25  Rich-Mond   65000.0\n",
              "   6   Kim   22  South-Hall  45000.0"
            ]
          },
          "execution_count": 32,
          "metadata": {},
          "output_type": "execute_result"
        }
      ],
      "source": [
        "conn = sqlite3.connect('test.db')\n",
        "\n",
        "cursor = conn.execute(\"SELECT * FROM COMPANY WHERE ADDRESS  LIKE '%-%'\") # มี - อยู่ตรงกลาง\n",
        "df = get_data(cursor)\n",
        "\n",
        "conn.close()\n",
        "print(\"Operation done successfully\")\n",
        "df"
      ]
    },
    {
      "cell_type": "markdown",
      "metadata": {
        "id": "Uc_YX-yYZDvH"
      },
      "source": [
        "การใช้ GLOB"
      ]
    },
    {
      "cell_type": "code",
      "execution_count": 33,
      "metadata": {},
      "outputs": [
        {
          "name": "stdout",
          "output_type": "stream",
          "text": [
            "Operation done successfully\n"
          ]
        },
        {
          "data": {
            "text/html": [
              "<div>\n",
              "<style scoped>\n",
              "    .dataframe tbody tr th:only-of-type {\n",
              "        vertical-align: middle;\n",
              "    }\n",
              "\n",
              "    .dataframe tbody tr th {\n",
              "        vertical-align: top;\n",
              "    }\n",
              "\n",
              "    .dataframe thead th {\n",
              "        text-align: right;\n",
              "    }\n",
              "</style>\n",
              "<table border=\"1\" class=\"dataframe\">\n",
              "  <thead>\n",
              "    <tr style=\"text-align: right;\">\n",
              "      <th></th>\n",
              "      <th>ID</th>\n",
              "      <th>NAME</th>\n",
              "      <th>AGE</th>\n",
              "      <th>ADDRESS</th>\n",
              "      <th>SALARY</th>\n",
              "    </tr>\n",
              "  </thead>\n",
              "  <tbody>\n",
              "    <tr>\n",
              "      <th></th>\n",
              "      <td>7</td>\n",
              "      <td>James</td>\n",
              "      <td>24</td>\n",
              "      <td>Houston</td>\n",
              "      <td>10000.0</td>\n",
              "    </tr>\n",
              "    <tr>\n",
              "      <th></th>\n",
              "      <td>9</td>\n",
              "      <td>James</td>\n",
              "      <td>44</td>\n",
              "      <td>Norway</td>\n",
              "      <td>5000.0</td>\n",
              "    </tr>\n",
              "  </tbody>\n",
              "</table>\n",
              "</div>"
            ],
            "text/plain": [
              "  ID   NAME  AGE  ADDRESS   SALARY\n",
              "   7  James   24  Houston  10000.0\n",
              "   9  James   44   Norway   5000.0"
            ]
          },
          "execution_count": 33,
          "metadata": {},
          "output_type": "execute_result"
        }
      ],
      "source": [
        "conn = sqlite3.connect('test.db')\n",
        "\n",
        "\t\n",
        "cursor = conn.execute(\"SELECT * FROM COMPANY WHERE NAME  LIKE '%s'\") # มี - อยู่ตรงกลาง\n",
        "df = get_data(cursor)\n",
        "\n",
        "conn.close()\n",
        "print(\"Operation done successfully\")\n",
        "df"
      ]
    },
    {
      "cell_type": "code",
      "execution_count": 34,
      "metadata": {
        "id": "C2-AnbU3ZL24"
      },
      "outputs": [
        {
          "name": "stdout",
          "output_type": "stream",
          "text": [
            "Operation done successfully\n"
          ]
        },
        {
          "data": {
            "text/html": [
              "<div>\n",
              "<style scoped>\n",
              "    .dataframe tbody tr th:only-of-type {\n",
              "        vertical-align: middle;\n",
              "    }\n",
              "\n",
              "    .dataframe tbody tr th {\n",
              "        vertical-align: top;\n",
              "    }\n",
              "\n",
              "    .dataframe thead th {\n",
              "        text-align: right;\n",
              "    }\n",
              "</style>\n",
              "<table border=\"1\" class=\"dataframe\">\n",
              "  <thead>\n",
              "    <tr style=\"text-align: right;\">\n",
              "      <th></th>\n",
              "      <th>ID</th>\n",
              "      <th>NAME</th>\n",
              "      <th>AGE</th>\n",
              "      <th>ADDRESS</th>\n",
              "      <th>SALARY</th>\n",
              "    </tr>\n",
              "  </thead>\n",
              "  <tbody>\n",
              "    <tr>\n",
              "      <th></th>\n",
              "      <td>6</td>\n",
              "      <td>Kim</td>\n",
              "      <td>22</td>\n",
              "      <td>South-Hall</td>\n",
              "      <td>45000.0</td>\n",
              "    </tr>\n",
              "    <tr>\n",
              "      <th></th>\n",
              "      <td>7</td>\n",
              "      <td>James</td>\n",
              "      <td>24</td>\n",
              "      <td>Houston</td>\n",
              "      <td>10000.0</td>\n",
              "    </tr>\n",
              "    <tr>\n",
              "      <th></th>\n",
              "      <td>8</td>\n",
              "      <td>Paul</td>\n",
              "      <td>24</td>\n",
              "      <td>Houston</td>\n",
              "      <td>20000.0</td>\n",
              "    </tr>\n",
              "  </tbody>\n",
              "</table>\n",
              "</div>"
            ],
            "text/plain": [
              "  ID   NAME  AGE     ADDRESS   SALARY\n",
              "   6    Kim   22  South-Hall  45000.0\n",
              "   7  James   24     Houston  10000.0\n",
              "   8   Paul   24     Houston  20000.0"
            ]
          },
          "execution_count": 34,
          "metadata": {},
          "output_type": "execute_result"
        }
      ],
      "source": [
        "conn = sqlite3.connect('test.db')\n",
        "\n",
        "cursor = conn.execute(\"SELECT * FROM COMPANY WHERE ADDRESS GLOB '*ou*'\") # มี ou อยู่งตรงไหนก็ได้ใน field ADDRESS แต่ต้องเป็น ou ไม่แยกกัน\n",
        "df = get_data(cursor)\n",
        "\n",
        "conn.close()\n",
        "print(\"Operation done successfully\")\n",
        "df"
      ]
    },
    {
      "cell_type": "markdown",
      "metadata": {
        "id": "AcYHg2twZZdv"
      },
      "source": [
        "การใช้ operator IN กับ NOT IN"
      ]
    },
    {
      "cell_type": "code",
      "execution_count": 35,
      "metadata": {
        "id": "WF5dM-YhZfdv"
      },
      "outputs": [
        {
          "name": "stdout",
          "output_type": "stream",
          "text": [
            "Operation done successfully\n"
          ]
        },
        {
          "data": {
            "text/html": [
              "<div>\n",
              "<style scoped>\n",
              "    .dataframe tbody tr th:only-of-type {\n",
              "        vertical-align: middle;\n",
              "    }\n",
              "\n",
              "    .dataframe tbody tr th {\n",
              "        vertical-align: top;\n",
              "    }\n",
              "\n",
              "    .dataframe thead th {\n",
              "        text-align: right;\n",
              "    }\n",
              "</style>\n",
              "<table border=\"1\" class=\"dataframe\">\n",
              "  <thead>\n",
              "    <tr style=\"text-align: right;\">\n",
              "      <th></th>\n",
              "      <th>ID</th>\n",
              "      <th>NAME</th>\n",
              "      <th>AGE</th>\n",
              "      <th>ADDRESS</th>\n",
              "      <th>SALARY</th>\n",
              "    </tr>\n",
              "  </thead>\n",
              "  <tbody>\n",
              "    <tr>\n",
              "      <th></th>\n",
              "      <td>2</td>\n",
              "      <td>Allen</td>\n",
              "      <td>25</td>\n",
              "      <td>Texas</td>\n",
              "      <td>15000.0</td>\n",
              "    </tr>\n",
              "    <tr>\n",
              "      <th></th>\n",
              "      <td>4</td>\n",
              "      <td>Mark</td>\n",
              "      <td>25</td>\n",
              "      <td>Rich-Mond</td>\n",
              "      <td>65000.0</td>\n",
              "    </tr>\n",
              "    <tr>\n",
              "      <th></th>\n",
              "      <td>5</td>\n",
              "      <td>David</td>\n",
              "      <td>27</td>\n",
              "      <td>Texas</td>\n",
              "      <td>85000.0</td>\n",
              "    </tr>\n",
              "  </tbody>\n",
              "</table>\n",
              "</div>"
            ],
            "text/plain": [
              "  ID   NAME  AGE     ADDRESS   SALARY\n",
              "   2  Allen   25       Texas  15000.0\n",
              "   4   Mark   25  Rich-Mond   65000.0\n",
              "   5  David   27       Texas  85000.0"
            ]
          },
          "execution_count": 35,
          "metadata": {},
          "output_type": "execute_result"
        }
      ],
      "source": [
        "conn = sqlite3.connect('test.db')\n",
        "\n",
        "cursor = conn.execute(\"SELECT * FROM COMPANY WHERE AGE IN ( 25, 27 )\")\n",
        "df = get_data(cursor)\n",
        "\n",
        "conn.close()\n",
        "print(\"Operation done successfully\")\n",
        "df"
      ]
    },
    {
      "cell_type": "code",
      "execution_count": 36,
      "metadata": {
        "id": "MpAJgMNyZj8n"
      },
      "outputs": [
        {
          "name": "stdout",
          "output_type": "stream",
          "text": [
            "Operation done successfully\n"
          ]
        },
        {
          "data": {
            "text/html": [
              "<div>\n",
              "<style scoped>\n",
              "    .dataframe tbody tr th:only-of-type {\n",
              "        vertical-align: middle;\n",
              "    }\n",
              "\n",
              "    .dataframe tbody tr th {\n",
              "        vertical-align: top;\n",
              "    }\n",
              "\n",
              "    .dataframe thead th {\n",
              "        text-align: right;\n",
              "    }\n",
              "</style>\n",
              "<table border=\"1\" class=\"dataframe\">\n",
              "  <thead>\n",
              "    <tr style=\"text-align: right;\">\n",
              "      <th></th>\n",
              "      <th>ID</th>\n",
              "      <th>NAME</th>\n",
              "      <th>AGE</th>\n",
              "      <th>ADDRESS</th>\n",
              "      <th>SALARY</th>\n",
              "    </tr>\n",
              "  </thead>\n",
              "  <tbody>\n",
              "    <tr>\n",
              "      <th></th>\n",
              "      <td>1</td>\n",
              "      <td>Paul</td>\n",
              "      <td>32</td>\n",
              "      <td>California</td>\n",
              "      <td>20000.0</td>\n",
              "    </tr>\n",
              "    <tr>\n",
              "      <th></th>\n",
              "      <td>3</td>\n",
              "      <td>Teddy</td>\n",
              "      <td>23</td>\n",
              "      <td>Norway</td>\n",
              "      <td>20000.0</td>\n",
              "    </tr>\n",
              "    <tr>\n",
              "      <th></th>\n",
              "      <td>6</td>\n",
              "      <td>Kim</td>\n",
              "      <td>22</td>\n",
              "      <td>South-Hall</td>\n",
              "      <td>45000.0</td>\n",
              "    </tr>\n",
              "    <tr>\n",
              "      <th></th>\n",
              "      <td>7</td>\n",
              "      <td>James</td>\n",
              "      <td>24</td>\n",
              "      <td>Houston</td>\n",
              "      <td>10000.0</td>\n",
              "    </tr>\n",
              "    <tr>\n",
              "      <th></th>\n",
              "      <td>8</td>\n",
              "      <td>Paul</td>\n",
              "      <td>24</td>\n",
              "      <td>Houston</td>\n",
              "      <td>20000.0</td>\n",
              "    </tr>\n",
              "    <tr>\n",
              "      <th></th>\n",
              "      <td>9</td>\n",
              "      <td>James</td>\n",
              "      <td>44</td>\n",
              "      <td>Norway</td>\n",
              "      <td>5000.0</td>\n",
              "    </tr>\n",
              "  </tbody>\n",
              "</table>\n",
              "</div>"
            ],
            "text/plain": [
              "  ID   NAME  AGE     ADDRESS   SALARY\n",
              "   1   Paul   32  California  20000.0\n",
              "   3  Teddy   23      Norway  20000.0\n",
              "   6    Kim   22  South-Hall  45000.0\n",
              "   7  James   24     Houston  10000.0\n",
              "   8   Paul   24     Houston  20000.0\n",
              "   9  James   44      Norway   5000.0"
            ]
          },
          "execution_count": 36,
          "metadata": {},
          "output_type": "execute_result"
        }
      ],
      "source": [
        "conn = sqlite3.connect('test.db')\n",
        "\n",
        "cursor = conn.execute(\"SELECT * FROM COMPANY WHERE AGE NOT IN ( 25, 27 )\")\n",
        "df = get_data(cursor)\n",
        "\n",
        "conn.close()\n",
        "print(\"Operation done successfully\")\n",
        "df"
      ]
    },
    {
      "cell_type": "markdown",
      "metadata": {
        "id": "dhHWqA1iZmpn"
      },
      "source": [
        "การใช้ operator BETWEEN"
      ]
    },
    {
      "cell_type": "code",
      "execution_count": 37,
      "metadata": {
        "id": "ykSMUu1eZrj5"
      },
      "outputs": [
        {
          "name": "stdout",
          "output_type": "stream",
          "text": [
            "Operation done successfully\n"
          ]
        },
        {
          "data": {
            "text/html": [
              "<div>\n",
              "<style scoped>\n",
              "    .dataframe tbody tr th:only-of-type {\n",
              "        vertical-align: middle;\n",
              "    }\n",
              "\n",
              "    .dataframe tbody tr th {\n",
              "        vertical-align: top;\n",
              "    }\n",
              "\n",
              "    .dataframe thead th {\n",
              "        text-align: right;\n",
              "    }\n",
              "</style>\n",
              "<table border=\"1\" class=\"dataframe\">\n",
              "  <thead>\n",
              "    <tr style=\"text-align: right;\">\n",
              "      <th></th>\n",
              "      <th>ID</th>\n",
              "      <th>NAME</th>\n",
              "      <th>AGE</th>\n",
              "      <th>ADDRESS</th>\n",
              "      <th>SALARY</th>\n",
              "    </tr>\n",
              "  </thead>\n",
              "  <tbody>\n",
              "    <tr>\n",
              "      <th></th>\n",
              "      <td>2</td>\n",
              "      <td>Allen</td>\n",
              "      <td>25</td>\n",
              "      <td>Texas</td>\n",
              "      <td>15000.0</td>\n",
              "    </tr>\n",
              "    <tr>\n",
              "      <th></th>\n",
              "      <td>4</td>\n",
              "      <td>Mark</td>\n",
              "      <td>25</td>\n",
              "      <td>Rich-Mond</td>\n",
              "      <td>65000.0</td>\n",
              "    </tr>\n",
              "    <tr>\n",
              "      <th></th>\n",
              "      <td>5</td>\n",
              "      <td>David</td>\n",
              "      <td>27</td>\n",
              "      <td>Texas</td>\n",
              "      <td>85000.0</td>\n",
              "    </tr>\n",
              "  </tbody>\n",
              "</table>\n",
              "</div>"
            ],
            "text/plain": [
              "  ID   NAME  AGE     ADDRESS   SALARY\n",
              "   2  Allen   25       Texas  15000.0\n",
              "   4   Mark   25  Rich-Mond   65000.0\n",
              "   5  David   27       Texas  85000.0"
            ]
          },
          "execution_count": 37,
          "metadata": {},
          "output_type": "execute_result"
        }
      ],
      "source": [
        "conn = sqlite3.connect('test.db')\n",
        "\n",
        "cursor = conn.execute(\"SELECT * FROM COMPANY WHERE AGE BETWEEN 25 AND 27\") # ตั้งแต่ 25 - 27\n",
        "df = get_data(cursor)\n",
        "\n",
        "conn.close()\n",
        "print(\"Operation done successfully\")\n",
        "df"
      ]
    },
    {
      "cell_type": "markdown",
      "metadata": {
        "id": "nGnQIk1PZvnX"
      },
      "source": [
        "การใช้ประโยค sub-query"
      ]
    },
    {
      "cell_type": "code",
      "execution_count": 38,
      "metadata": {},
      "outputs": [
        {
          "name": "stdout",
          "output_type": "stream",
          "text": [
            "Operation done successfully\n"
          ]
        },
        {
          "data": {
            "text/html": [
              "<div>\n",
              "<style scoped>\n",
              "    .dataframe tbody tr th:only-of-type {\n",
              "        vertical-align: middle;\n",
              "    }\n",
              "\n",
              "    .dataframe tbody tr th {\n",
              "        vertical-align: top;\n",
              "    }\n",
              "\n",
              "    .dataframe thead th {\n",
              "        text-align: right;\n",
              "    }\n",
              "</style>\n",
              "<table border=\"1\" class=\"dataframe\">\n",
              "  <thead>\n",
              "    <tr style=\"text-align: right;\">\n",
              "      <th></th>\n",
              "      <th>AGE</th>\n",
              "    </tr>\n",
              "  </thead>\n",
              "  <tbody>\n",
              "    <tr>\n",
              "      <th></th>\n",
              "      <td>27</td>\n",
              "    </tr>\n",
              "  </tbody>\n",
              "</table>\n",
              "</div>"
            ],
            "text/plain": [
              "  AGE\n",
              "   27"
            ]
          },
          "execution_count": 38,
          "metadata": {},
          "output_type": "execute_result"
        }
      ],
      "source": [
        "conn = sqlite3.connect('test.db')\n",
        "\n",
        "cursor = conn.execute(\"SELECT AGE FROM COMPANY WHERE SALARY > 65000\")\n",
        "df = get_data(cursor)\n",
        "\n",
        "conn.close()\n",
        "print(\"Operation done successfully\")\n",
        "df"
      ]
    },
    {
      "cell_type": "code",
      "execution_count": 39,
      "metadata": {
        "id": "el7uwZbJZyTi"
      },
      "outputs": [
        {
          "name": "stdout",
          "output_type": "stream",
          "text": [
            "Operation done successfully\n"
          ]
        },
        {
          "data": {
            "text/html": [
              "<div>\n",
              "<style scoped>\n",
              "    .dataframe tbody tr th:only-of-type {\n",
              "        vertical-align: middle;\n",
              "    }\n",
              "\n",
              "    .dataframe tbody tr th {\n",
              "        vertical-align: top;\n",
              "    }\n",
              "\n",
              "    .dataframe thead th {\n",
              "        text-align: right;\n",
              "    }\n",
              "</style>\n",
              "<table border=\"1\" class=\"dataframe\">\n",
              "  <thead>\n",
              "    <tr style=\"text-align: right;\">\n",
              "      <th></th>\n",
              "      <th>ID</th>\n",
              "      <th>NAME</th>\n",
              "      <th>AGE</th>\n",
              "      <th>ADDRESS</th>\n",
              "      <th>SALARY</th>\n",
              "    </tr>\n",
              "  </thead>\n",
              "  <tbody>\n",
              "    <tr>\n",
              "      <th></th>\n",
              "      <td>1</td>\n",
              "      <td>Paul</td>\n",
              "      <td>32</td>\n",
              "      <td>California</td>\n",
              "      <td>20000.0</td>\n",
              "    </tr>\n",
              "    <tr>\n",
              "      <th></th>\n",
              "      <td>9</td>\n",
              "      <td>James</td>\n",
              "      <td>44</td>\n",
              "      <td>Norway</td>\n",
              "      <td>5000.0</td>\n",
              "    </tr>\n",
              "  </tbody>\n",
              "</table>\n",
              "</div>"
            ],
            "text/plain": [
              "  ID   NAME  AGE     ADDRESS   SALARY\n",
              "   1   Paul   32  California  20000.0\n",
              "   9  James   44      Norway   5000.0"
            ]
          },
          "execution_count": 39,
          "metadata": {},
          "output_type": "execute_result"
        }
      ],
      "source": [
        "conn = sqlite3.connect('test.db')\n",
        "\n",
        "cursor = conn.execute(\"SELECT * FROM COMPANY \\\n",
        "\tWHERE AGE > (SELECT AGE FROM COMPANY WHERE SALARY > 65000)\")\n",
        "df = get_data(cursor)\n",
        "\n",
        "conn.close()\n",
        "print(\"Operation done successfully\")\n",
        "df"
      ]
    },
    {
      "cell_type": "markdown",
      "metadata": {
        "id": "5pO9e8HIcEvG"
      },
      "source": [
        "# **คำสั่ง DISTINCT**\n",
        "\n",
        "ก่อนใช้ distinct"
      ]
    },
    {
      "cell_type": "code",
      "execution_count": 40,
      "metadata": {
        "id": "StZm7b7mcVsS"
      },
      "outputs": [
        {
          "name": "stdout",
          "output_type": "stream",
          "text": [
            "Operation done successfully\n"
          ]
        },
        {
          "data": {
            "text/html": [
              "<div>\n",
              "<style scoped>\n",
              "    .dataframe tbody tr th:only-of-type {\n",
              "        vertical-align: middle;\n",
              "    }\n",
              "\n",
              "    .dataframe tbody tr th {\n",
              "        vertical-align: top;\n",
              "    }\n",
              "\n",
              "    .dataframe thead th {\n",
              "        text-align: right;\n",
              "    }\n",
              "</style>\n",
              "<table border=\"1\" class=\"dataframe\">\n",
              "  <thead>\n",
              "    <tr style=\"text-align: right;\">\n",
              "      <th></th>\n",
              "      <th>ID</th>\n",
              "      <th>NAME</th>\n",
              "      <th>AGE</th>\n",
              "      <th>ADDRESS</th>\n",
              "      <th>SALARY</th>\n",
              "    </tr>\n",
              "  </thead>\n",
              "  <tbody>\n",
              "    <tr>\n",
              "      <th></th>\n",
              "      <td>1</td>\n",
              "      <td>Paul</td>\n",
              "      <td>32</td>\n",
              "      <td>California</td>\n",
              "      <td>20000.0</td>\n",
              "    </tr>\n",
              "    <tr>\n",
              "      <th></th>\n",
              "      <td>2</td>\n",
              "      <td>Allen</td>\n",
              "      <td>25</td>\n",
              "      <td>Texas</td>\n",
              "      <td>15000.0</td>\n",
              "    </tr>\n",
              "    <tr>\n",
              "      <th></th>\n",
              "      <td>3</td>\n",
              "      <td>Teddy</td>\n",
              "      <td>23</td>\n",
              "      <td>Norway</td>\n",
              "      <td>20000.0</td>\n",
              "    </tr>\n",
              "    <tr>\n",
              "      <th></th>\n",
              "      <td>4</td>\n",
              "      <td>Mark</td>\n",
              "      <td>25</td>\n",
              "      <td>Rich-Mond</td>\n",
              "      <td>65000.0</td>\n",
              "    </tr>\n",
              "    <tr>\n",
              "      <th></th>\n",
              "      <td>5</td>\n",
              "      <td>David</td>\n",
              "      <td>27</td>\n",
              "      <td>Texas</td>\n",
              "      <td>85000.0</td>\n",
              "    </tr>\n",
              "    <tr>\n",
              "      <th></th>\n",
              "      <td>6</td>\n",
              "      <td>Kim</td>\n",
              "      <td>22</td>\n",
              "      <td>South-Hall</td>\n",
              "      <td>45000.0</td>\n",
              "    </tr>\n",
              "    <tr>\n",
              "      <th></th>\n",
              "      <td>7</td>\n",
              "      <td>James</td>\n",
              "      <td>24</td>\n",
              "      <td>Houston</td>\n",
              "      <td>10000.0</td>\n",
              "    </tr>\n",
              "    <tr>\n",
              "      <th></th>\n",
              "      <td>8</td>\n",
              "      <td>Paul</td>\n",
              "      <td>24</td>\n",
              "      <td>Houston</td>\n",
              "      <td>20000.0</td>\n",
              "    </tr>\n",
              "    <tr>\n",
              "      <th></th>\n",
              "      <td>9</td>\n",
              "      <td>James</td>\n",
              "      <td>44</td>\n",
              "      <td>Norway</td>\n",
              "      <td>5000.0</td>\n",
              "    </tr>\n",
              "  </tbody>\n",
              "</table>\n",
              "</div>"
            ],
            "text/plain": [
              "  ID   NAME  AGE     ADDRESS   SALARY\n",
              "   1   Paul   32  California  20000.0\n",
              "   2  Allen   25       Texas  15000.0\n",
              "   3  Teddy   23      Norway  20000.0\n",
              "   4   Mark   25  Rich-Mond   65000.0\n",
              "   5  David   27       Texas  85000.0\n",
              "   6    Kim   22  South-Hall  45000.0\n",
              "   7  James   24     Houston  10000.0\n",
              "   8   Paul   24     Houston  20000.0\n",
              "   9  James   44      Norway   5000.0"
            ]
          },
          "execution_count": 40,
          "metadata": {},
          "output_type": "execute_result"
        }
      ],
      "source": [
        "conn = sqlite3.connect('test.db')\n",
        "\n",
        "cursor = conn.execute(\"SELECT id, name, age, address, salary from COMPANY\")\n",
        "#Select query field of table\n",
        "df = get_data(cursor)\n",
        "\n",
        "conn.close()\n",
        "print(\"Operation done successfully\")\n",
        "df"
      ]
    },
    {
      "cell_type": "markdown",
      "metadata": {
        "id": "PqRVeViscejd"
      },
      "source": [
        "หลังใช้ DISTINCT"
      ]
    },
    {
      "cell_type": "code",
      "execution_count": 41,
      "metadata": {
        "id": "4FYPdXqZchdd"
      },
      "outputs": [
        {
          "name": "stdout",
          "output_type": "stream",
          "text": [
            "Operation done successfully\n"
          ]
        },
        {
          "data": {
            "text/html": [
              "<div>\n",
              "<style scoped>\n",
              "    .dataframe tbody tr th:only-of-type {\n",
              "        vertical-align: middle;\n",
              "    }\n",
              "\n",
              "    .dataframe tbody tr th {\n",
              "        vertical-align: top;\n",
              "    }\n",
              "\n",
              "    .dataframe thead th {\n",
              "        text-align: right;\n",
              "    }\n",
              "</style>\n",
              "<table border=\"1\" class=\"dataframe\">\n",
              "  <thead>\n",
              "    <tr style=\"text-align: right;\">\n",
              "      <th></th>\n",
              "      <th>NAME</th>\n",
              "      <th>ID</th>\n",
              "      <th>AGE</th>\n",
              "    </tr>\n",
              "  </thead>\n",
              "  <tbody>\n",
              "    <tr>\n",
              "      <th></th>\n",
              "      <td>Paul</td>\n",
              "      <td>1</td>\n",
              "      <td>32</td>\n",
              "    </tr>\n",
              "    <tr>\n",
              "      <th></th>\n",
              "      <td>Allen</td>\n",
              "      <td>2</td>\n",
              "      <td>25</td>\n",
              "    </tr>\n",
              "    <tr>\n",
              "      <th></th>\n",
              "      <td>Teddy</td>\n",
              "      <td>3</td>\n",
              "      <td>23</td>\n",
              "    </tr>\n",
              "    <tr>\n",
              "      <th></th>\n",
              "      <td>Mark</td>\n",
              "      <td>4</td>\n",
              "      <td>25</td>\n",
              "    </tr>\n",
              "    <tr>\n",
              "      <th></th>\n",
              "      <td>David</td>\n",
              "      <td>5</td>\n",
              "      <td>27</td>\n",
              "    </tr>\n",
              "    <tr>\n",
              "      <th></th>\n",
              "      <td>Kim</td>\n",
              "      <td>6</td>\n",
              "      <td>22</td>\n",
              "    </tr>\n",
              "    <tr>\n",
              "      <th></th>\n",
              "      <td>James</td>\n",
              "      <td>7</td>\n",
              "      <td>24</td>\n",
              "    </tr>\n",
              "    <tr>\n",
              "      <th></th>\n",
              "      <td>Paul</td>\n",
              "      <td>8</td>\n",
              "      <td>24</td>\n",
              "    </tr>\n",
              "    <tr>\n",
              "      <th></th>\n",
              "      <td>James</td>\n",
              "      <td>9</td>\n",
              "      <td>44</td>\n",
              "    </tr>\n",
              "  </tbody>\n",
              "</table>\n",
              "</div>"
            ],
            "text/plain": [
              "   NAME  ID  AGE\n",
              "   Paul   1   32\n",
              "  Allen   2   25\n",
              "  Teddy   3   23\n",
              "   Mark   4   25\n",
              "  David   5   27\n",
              "    Kim   6   22\n",
              "  James   7   24\n",
              "   Paul   8   24\n",
              "  James   9   44"
            ]
          },
          "execution_count": 41,
          "metadata": {},
          "output_type": "execute_result"
        }
      ],
      "source": [
        "conn = sqlite3.connect('test.db') \n",
        "\n",
        "cursor = conn.execute(\"SELECT DISTINCT name,id, age FROM COMPANY\") # name id age ที่ไม่ซ้ำกันทั้งหมด ตามการเรียง\n",
        "df = get_data(cursor)\n",
        "\n",
        "conn.close()\n",
        "print(\"Operation done successfully\")\n",
        "df"
      ]
    },
    {
      "cell_type": "markdown",
      "metadata": {
        "id": "iuhw4kRzcqV-"
      },
      "source": [
        "# **การใช้ LIMIT**"
      ]
    },
    {
      "cell_type": "code",
      "execution_count": 97,
      "metadata": {
        "id": "J9GkCQgWcyFX"
      },
      "outputs": [
        {
          "name": "stdout",
          "output_type": "stream",
          "text": [
            "Operation done successfully\n"
          ]
        },
        {
          "data": {
            "text/html": [
              "<div>\n",
              "<style scoped>\n",
              "    .dataframe tbody tr th:only-of-type {\n",
              "        vertical-align: middle;\n",
              "    }\n",
              "\n",
              "    .dataframe tbody tr th {\n",
              "        vertical-align: top;\n",
              "    }\n",
              "\n",
              "    .dataframe thead th {\n",
              "        text-align: right;\n",
              "    }\n",
              "</style>\n",
              "<table border=\"1\" class=\"dataframe\">\n",
              "  <thead>\n",
              "    <tr style=\"text-align: right;\">\n",
              "      <th></th>\n",
              "      <th>ID</th>\n",
              "      <th>NAME</th>\n",
              "      <th>AGE</th>\n",
              "      <th>ADDRESS</th>\n",
              "      <th>SALARY</th>\n",
              "    </tr>\n",
              "  </thead>\n",
              "  <tbody>\n",
              "    <tr>\n",
              "      <th></th>\n",
              "      <td>3</td>\n",
              "      <td>Teddy</td>\n",
              "      <td>23</td>\n",
              "      <td>Norway</td>\n",
              "      <td>20000.0</td>\n",
              "    </tr>\n",
              "    <tr>\n",
              "      <th></th>\n",
              "      <td>4</td>\n",
              "      <td>Mark</td>\n",
              "      <td>25</td>\n",
              "      <td>Rich-Mond</td>\n",
              "      <td>65000.0</td>\n",
              "    </tr>\n",
              "    <tr>\n",
              "      <th></th>\n",
              "      <td>5</td>\n",
              "      <td>David</td>\n",
              "      <td>27</td>\n",
              "      <td>Texas</td>\n",
              "      <td>42500.0</td>\n",
              "    </tr>\n",
              "    <tr>\n",
              "      <th></th>\n",
              "      <td>6</td>\n",
              "      <td>Kim</td>\n",
              "      <td>22</td>\n",
              "      <td>South-Hall</td>\n",
              "      <td>45000.0</td>\n",
              "    </tr>\n",
              "    <tr>\n",
              "      <th></th>\n",
              "      <td>7</td>\n",
              "      <td>James</td>\n",
              "      <td>24</td>\n",
              "      <td>Houston</td>\n",
              "      <td>10000.0</td>\n",
              "    </tr>\n",
              "    <tr>\n",
              "      <th></th>\n",
              "      <td>8</td>\n",
              "      <td>Paul</td>\n",
              "      <td>24</td>\n",
              "      <td>Houston</td>\n",
              "      <td>20000.0</td>\n",
              "    </tr>\n",
              "  </tbody>\n",
              "</table>\n",
              "</div>"
            ],
            "text/plain": [
              "  ID   NAME  AGE     ADDRESS   SALARY\n",
              "   3  Teddy   23      Norway  20000.0\n",
              "   4   Mark   25  Rich-Mond   65000.0\n",
              "   5  David   27       Texas  42500.0\n",
              "   6    Kim   22  South-Hall  45000.0\n",
              "   7  James   24     Houston  10000.0\n",
              "   8   Paul   24     Houston  20000.0"
            ]
          },
          "execution_count": 97,
          "metadata": {},
          "output_type": "execute_result"
        }
      ],
      "source": [
        "conn = sqlite3.connect('test.db')\n",
        "\n",
        "cursor = conn.execute(\"SELECT * FROM COMPANY LIMIT 6\") # จำกัด output สามารถนำมาประยุกต์ใช้กับ order by ได้ดี\n",
        "df = get_data(cursor)\n",
        "\n",
        "conn.close()\n",
        "print(\"Operation done successfully\")\n",
        "df"
      ]
    },
    {
      "cell_type": "markdown",
      "metadata": {
        "id": "1TcDxFFcc2P-"
      },
      "source": [
        "# **การใช้ OFFSET ร่วมกับ LIMIT**"
      ]
    },
    {
      "cell_type": "code",
      "execution_count": 98,
      "metadata": {
        "id": "DNJHiH09c6rN"
      },
      "outputs": [
        {
          "name": "stdout",
          "output_type": "stream",
          "text": [
            "Operation done successfully\n"
          ]
        },
        {
          "data": {
            "text/html": [
              "<div>\n",
              "<style scoped>\n",
              "    .dataframe tbody tr th:only-of-type {\n",
              "        vertical-align: middle;\n",
              "    }\n",
              "\n",
              "    .dataframe tbody tr th {\n",
              "        vertical-align: top;\n",
              "    }\n",
              "\n",
              "    .dataframe thead th {\n",
              "        text-align: right;\n",
              "    }\n",
              "</style>\n",
              "<table border=\"1\" class=\"dataframe\">\n",
              "  <thead>\n",
              "    <tr style=\"text-align: right;\">\n",
              "      <th></th>\n",
              "      <th>ID</th>\n",
              "      <th>NAME</th>\n",
              "      <th>AGE</th>\n",
              "      <th>ADDRESS</th>\n",
              "      <th>SALARY</th>\n",
              "    </tr>\n",
              "  </thead>\n",
              "  <tbody>\n",
              "    <tr>\n",
              "      <th></th>\n",
              "      <td>5</td>\n",
              "      <td>David</td>\n",
              "      <td>27</td>\n",
              "      <td>Texas</td>\n",
              "      <td>42500.0</td>\n",
              "    </tr>\n",
              "    <tr>\n",
              "      <th></th>\n",
              "      <td>6</td>\n",
              "      <td>Kim</td>\n",
              "      <td>22</td>\n",
              "      <td>South-Hall</td>\n",
              "      <td>45000.0</td>\n",
              "    </tr>\n",
              "    <tr>\n",
              "      <th></th>\n",
              "      <td>7</td>\n",
              "      <td>James</td>\n",
              "      <td>24</td>\n",
              "      <td>Houston</td>\n",
              "      <td>10000.0</td>\n",
              "    </tr>\n",
              "  </tbody>\n",
              "</table>\n",
              "</div>"
            ],
            "text/plain": [
              "  ID   NAME  AGE     ADDRESS   SALARY\n",
              "   5  David   27       Texas  42500.0\n",
              "   6    Kim   22  South-Hall  45000.0\n",
              "   7  James   24     Houston  10000.0"
            ]
          },
          "execution_count": 98,
          "metadata": {},
          "output_type": "execute_result"
        }
      ],
      "source": [
        "conn = sqlite3.connect('test.db')\n",
        "\n",
        "cursor = conn.execute(\"SELECT * FROM COMPANY LIMIT 3 OFFSET 2\") # OFFSET คือการข้ามข้อมูล เช่น OFFSET=2 คือการข้าม 2 row แล้วเริ่มที่แถวที่ 3\n",
        "df = get_data(cursor)\n",
        "\n",
        "conn.close()\n",
        "print(\"Operation done successfully\")\n",
        "df"
      ]
    },
    {
      "cell_type": "markdown",
      "metadata": {
        "id": "yfWbJJZodFPd"
      },
      "source": [
        "# **UPDATE QUERY**"
      ]
    },
    {
      "cell_type": "code",
      "execution_count": 44,
      "metadata": {
        "id": "Zm9gqpL9dEwt"
      },
      "outputs": [
        {
          "name": "stdout",
          "output_type": "stream",
          "text": [
            "Total number of rows updated : 1\n",
            "Operation done successfully\n"
          ]
        }
      ],
      "source": [
        "conn = sqlite3.connect('test.db')\n",
        "\n",
        "with conn:\n",
        "\tconn.execute(\"UPDATE COMPANY set SALARY = 25000.00 where ID = 1\") # แก้ไขข้อมูล \n",
        "\tprint(\"Total number of rows updated :\", conn.total_changes)\n",
        "\n",
        "conn.close()\n",
        "print(\"Operation done successfully\")"
      ]
    },
    {
      "cell_type": "code",
      "execution_count": 45,
      "metadata": {
        "id": "ylfjCJgrdTkV"
      },
      "outputs": [
        {
          "name": "stdout",
          "output_type": "stream",
          "text": [
            "Operation done successfully\n"
          ]
        },
        {
          "data": {
            "text/html": [
              "<div>\n",
              "<style scoped>\n",
              "    .dataframe tbody tr th:only-of-type {\n",
              "        vertical-align: middle;\n",
              "    }\n",
              "\n",
              "    .dataframe tbody tr th {\n",
              "        vertical-align: top;\n",
              "    }\n",
              "\n",
              "    .dataframe thead th {\n",
              "        text-align: right;\n",
              "    }\n",
              "</style>\n",
              "<table border=\"1\" class=\"dataframe\">\n",
              "  <thead>\n",
              "    <tr style=\"text-align: right;\">\n",
              "      <th></th>\n",
              "      <th>ID</th>\n",
              "      <th>NAME</th>\n",
              "      <th>ADDRESS</th>\n",
              "      <th>SALARY</th>\n",
              "    </tr>\n",
              "  </thead>\n",
              "  <tbody>\n",
              "    <tr>\n",
              "      <th></th>\n",
              "      <td>1</td>\n",
              "      <td>Paul</td>\n",
              "      <td>California</td>\n",
              "      <td>25000.0</td>\n",
              "    </tr>\n",
              "    <tr>\n",
              "      <th></th>\n",
              "      <td>2</td>\n",
              "      <td>Allen</td>\n",
              "      <td>Texas</td>\n",
              "      <td>15000.0</td>\n",
              "    </tr>\n",
              "    <tr>\n",
              "      <th></th>\n",
              "      <td>3</td>\n",
              "      <td>Teddy</td>\n",
              "      <td>Norway</td>\n",
              "      <td>20000.0</td>\n",
              "    </tr>\n",
              "    <tr>\n",
              "      <th></th>\n",
              "      <td>4</td>\n",
              "      <td>Mark</td>\n",
              "      <td>Rich-Mond</td>\n",
              "      <td>65000.0</td>\n",
              "    </tr>\n",
              "    <tr>\n",
              "      <th></th>\n",
              "      <td>5</td>\n",
              "      <td>David</td>\n",
              "      <td>Texas</td>\n",
              "      <td>85000.0</td>\n",
              "    </tr>\n",
              "    <tr>\n",
              "      <th></th>\n",
              "      <td>6</td>\n",
              "      <td>Kim</td>\n",
              "      <td>South-Hall</td>\n",
              "      <td>45000.0</td>\n",
              "    </tr>\n",
              "    <tr>\n",
              "      <th></th>\n",
              "      <td>7</td>\n",
              "      <td>James</td>\n",
              "      <td>Houston</td>\n",
              "      <td>10000.0</td>\n",
              "    </tr>\n",
              "    <tr>\n",
              "      <th></th>\n",
              "      <td>8</td>\n",
              "      <td>Paul</td>\n",
              "      <td>Houston</td>\n",
              "      <td>20000.0</td>\n",
              "    </tr>\n",
              "    <tr>\n",
              "      <th></th>\n",
              "      <td>9</td>\n",
              "      <td>James</td>\n",
              "      <td>Norway</td>\n",
              "      <td>5000.0</td>\n",
              "    </tr>\n",
              "  </tbody>\n",
              "</table>\n",
              "</div>"
            ],
            "text/plain": [
              "  ID   NAME     ADDRESS   SALARY\n",
              "   1   Paul  California  25000.0\n",
              "   2  Allen       Texas  15000.0\n",
              "   3  Teddy      Norway  20000.0\n",
              "   4   Mark  Rich-Mond   65000.0\n",
              "   5  David       Texas  85000.0\n",
              "   6    Kim  South-Hall  45000.0\n",
              "   7  James     Houston  10000.0\n",
              "   8   Paul     Houston  20000.0\n",
              "   9  James      Norway   5000.0"
            ]
          },
          "execution_count": 45,
          "metadata": {},
          "output_type": "execute_result"
        }
      ],
      "source": [
        "conn = sqlite3.connect('test.db')\n",
        "\n",
        "cursor = conn.execute(\"SELECT id, name, address, salary from COMPANY\")\n",
        "#Select query field of table\n",
        "df = get_data(cursor)\n",
        "\n",
        "conn.close()\n",
        "print(\"Operation done successfully\")\n",
        "df"
      ]
    },
    {
      "cell_type": "markdown",
      "metadata": {
        "id": "nh-aOiSFdcWm"
      },
      "source": [
        "# **Delete Query**"
      ]
    },
    {
      "cell_type": "code",
      "execution_count": 99,
      "metadata": {
        "id": "fxhwsAV4dgI4"
      },
      "outputs": [
        {
          "name": "stdout",
          "output_type": "stream",
          "text": [
            "Total number of rows deleted : 1\n",
            "Operation done successfully\n"
          ]
        },
        {
          "data": {
            "text/html": [
              "<div>\n",
              "<style scoped>\n",
              "    .dataframe tbody tr th:only-of-type {\n",
              "        vertical-align: middle;\n",
              "    }\n",
              "\n",
              "    .dataframe tbody tr th {\n",
              "        vertical-align: top;\n",
              "    }\n",
              "\n",
              "    .dataframe thead th {\n",
              "        text-align: right;\n",
              "    }\n",
              "</style>\n",
              "<table border=\"1\" class=\"dataframe\">\n",
              "  <thead>\n",
              "    <tr style=\"text-align: right;\">\n",
              "      <th></th>\n",
              "      <th>ID</th>\n",
              "      <th>NAME</th>\n",
              "      <th>ADDRESS</th>\n",
              "      <th>SALARY</th>\n",
              "    </tr>\n",
              "  </thead>\n",
              "  <tbody>\n",
              "    <tr>\n",
              "      <th></th>\n",
              "      <td>4</td>\n",
              "      <td>Mark</td>\n",
              "      <td>Rich-Mond</td>\n",
              "      <td>65000.0</td>\n",
              "    </tr>\n",
              "    <tr>\n",
              "      <th></th>\n",
              "      <td>5</td>\n",
              "      <td>David</td>\n",
              "      <td>Texas</td>\n",
              "      <td>42500.0</td>\n",
              "    </tr>\n",
              "    <tr>\n",
              "      <th></th>\n",
              "      <td>6</td>\n",
              "      <td>Kim</td>\n",
              "      <td>South-Hall</td>\n",
              "      <td>45000.0</td>\n",
              "    </tr>\n",
              "    <tr>\n",
              "      <th></th>\n",
              "      <td>7</td>\n",
              "      <td>James</td>\n",
              "      <td>Houston</td>\n",
              "      <td>10000.0</td>\n",
              "    </tr>\n",
              "    <tr>\n",
              "      <th></th>\n",
              "      <td>8</td>\n",
              "      <td>Paul</td>\n",
              "      <td>Houston</td>\n",
              "      <td>20000.0</td>\n",
              "    </tr>\n",
              "  </tbody>\n",
              "</table>\n",
              "</div>"
            ],
            "text/plain": [
              "  ID   NAME     ADDRESS   SALARY\n",
              "   4   Mark  Rich-Mond   65000.0\n",
              "   5  David       Texas  42500.0\n",
              "   6    Kim  South-Hall  45000.0\n",
              "   7  James     Houston  10000.0\n",
              "   8   Paul     Houston  20000.0"
            ]
          },
          "execution_count": 99,
          "metadata": {},
          "output_type": "execute_result"
        }
      ],
      "source": [
        "conn = sqlite3.connect('test.db')\n",
        "\n",
        "with conn:\n",
        "\tconn.execute(\"DELETE from COMPANY where ID = 3\") # Delete Row\n",
        "\t#ลบ record ที่มี id = 2\n",
        "\tprint(\"Total number of rows deleted :\", conn.total_changes)\n",
        "\n",
        "cursor = conn.execute(\"SELECT id, name, address, salary from COMPANY\")\n",
        "df = get_data(cursor)\n",
        "\n",
        "conn.close()\n",
        "print(\"Operation done successfully\");df"
      ]
    },
    {
      "cell_type": "markdown",
      "metadata": {
        "id": "1XnKQn9qd4wt"
      },
      "source": [
        "# **Commit กับ Rollback**\n",
        "\n",
        "**ตัวอย่าง commit()**"
      ]
    },
    {
      "cell_type": "code",
      "execution_count": 119,
      "metadata": {
        "id": "y4IOSLsFd8bF"
      },
      "outputs": [
        {
          "name": "stdout",
          "output_type": "stream",
          "text": [
            "Operation done successfully\n"
          ]
        },
        {
          "data": {
            "text/html": [
              "<div>\n",
              "<style scoped>\n",
              "    .dataframe tbody tr th:only-of-type {\n",
              "        vertical-align: middle;\n",
              "    }\n",
              "\n",
              "    .dataframe tbody tr th {\n",
              "        vertical-align: top;\n",
              "    }\n",
              "\n",
              "    .dataframe thead th {\n",
              "        text-align: right;\n",
              "    }\n",
              "</style>\n",
              "<table border=\"1\" class=\"dataframe\">\n",
              "  <thead>\n",
              "    <tr style=\"text-align: right;\">\n",
              "      <th></th>\n",
              "      <th>ID</th>\n",
              "      <th>NAME</th>\n",
              "      <th>AGE</th>\n",
              "      <th>ADDRESS</th>\n",
              "      <th>SALARY</th>\n",
              "    </tr>\n",
              "  </thead>\n",
              "  <tbody>\n",
              "    <tr>\n",
              "      <th></th>\n",
              "      <td>4</td>\n",
              "      <td>Mark</td>\n",
              "      <td>25</td>\n",
              "      <td>Rich-Mond</td>\n",
              "      <td>65000.0</td>\n",
              "    </tr>\n",
              "    <tr>\n",
              "      <th></th>\n",
              "      <td>5</td>\n",
              "      <td>David</td>\n",
              "      <td>27</td>\n",
              "      <td>Texas</td>\n",
              "      <td>42500.0</td>\n",
              "    </tr>\n",
              "    <tr>\n",
              "      <th></th>\n",
              "      <td>6</td>\n",
              "      <td>Kim</td>\n",
              "      <td>22</td>\n",
              "      <td>South-Hall</td>\n",
              "      <td>45000.0</td>\n",
              "    </tr>\n",
              "    <tr>\n",
              "      <th></th>\n",
              "      <td>7</td>\n",
              "      <td>James</td>\n",
              "      <td>24</td>\n",
              "      <td>Houston</td>\n",
              "      <td>10000.0</td>\n",
              "    </tr>\n",
              "    <tr>\n",
              "      <th></th>\n",
              "      <td>8</td>\n",
              "      <td>Paul</td>\n",
              "      <td>24</td>\n",
              "      <td>Houston</td>\n",
              "      <td>20000.0</td>\n",
              "    </tr>\n",
              "    <tr>\n",
              "      <th></th>\n",
              "      <td>11</td>\n",
              "      <td>Manee</td>\n",
              "      <td>35</td>\n",
              "      <td>Thailand</td>\n",
              "      <td>45000.0</td>\n",
              "    </tr>\n",
              "  </tbody>\n",
              "</table>\n",
              "</div>"
            ],
            "text/plain": [
              "  ID   NAME  AGE     ADDRESS   SALARY\n",
              "   4   Mark   25  Rich-Mond   65000.0\n",
              "   5  David   27       Texas  42500.0\n",
              "   6    Kim   22  South-Hall  45000.0\n",
              "   7  James   24     Houston  10000.0\n",
              "   8   Paul   24     Houston  20000.0\n",
              "  11  Manee   35    Thailand  45000.0"
            ]
          },
          "execution_count": 119,
          "metadata": {},
          "output_type": "execute_result"
        }
      ],
      "source": [
        "conn = sqlite3.connect('test.db')\n",
        "\n",
        "conn.execute(\"INSERT INTO COMPANY (NAME,AGE,ADDRESS,SALARY)\\\n",
        "\t\t\tVALUES ('Manee', 35, 'Thailand', 45000.00)\")\n",
        "conn.commit() # \n",
        "\n",
        "cursor = conn.execute(\"SELECT id, name, age, address, salary from COMPANY\")\n",
        "df = get_data(cursor)\n",
        "\n",
        "conn.close()\n",
        "print(\"Operation done successfully\");df"
      ]
    },
    {
      "cell_type": "markdown",
      "metadata": {
        "id": "hAwd_sX1eKs8"
      },
      "source": [
        "**ตัวอย่าง rollback()**"
      ]
    },
    {
      "cell_type": "code",
      "execution_count": 118,
      "metadata": {
        "id": "mbui0wcTeQo1"
      },
      "outputs": [
        {
          "name": "stdout",
          "output_type": "stream",
          "text": [
            "Operation done successfully\n"
          ]
        },
        {
          "data": {
            "text/html": [
              "<div>\n",
              "<style scoped>\n",
              "    .dataframe tbody tr th:only-of-type {\n",
              "        vertical-align: middle;\n",
              "    }\n",
              "\n",
              "    .dataframe tbody tr th {\n",
              "        vertical-align: top;\n",
              "    }\n",
              "\n",
              "    .dataframe thead th {\n",
              "        text-align: right;\n",
              "    }\n",
              "</style>\n",
              "<table border=\"1\" class=\"dataframe\">\n",
              "  <thead>\n",
              "    <tr style=\"text-align: right;\">\n",
              "      <th></th>\n",
              "      <th>ID</th>\n",
              "      <th>NAME</th>\n",
              "      <th>AGE</th>\n",
              "      <th>ADDRESS</th>\n",
              "      <th>SALARY</th>\n",
              "    </tr>\n",
              "  </thead>\n",
              "  <tbody>\n",
              "    <tr>\n",
              "      <th></th>\n",
              "      <td>4</td>\n",
              "      <td>Mark</td>\n",
              "      <td>25</td>\n",
              "      <td>Rich-Mond</td>\n",
              "      <td>65000.0</td>\n",
              "    </tr>\n",
              "    <tr>\n",
              "      <th></th>\n",
              "      <td>5</td>\n",
              "      <td>David</td>\n",
              "      <td>27</td>\n",
              "      <td>Texas</td>\n",
              "      <td>42500.0</td>\n",
              "    </tr>\n",
              "    <tr>\n",
              "      <th></th>\n",
              "      <td>6</td>\n",
              "      <td>Kim</td>\n",
              "      <td>22</td>\n",
              "      <td>South-Hall</td>\n",
              "      <td>45000.0</td>\n",
              "    </tr>\n",
              "    <tr>\n",
              "      <th></th>\n",
              "      <td>7</td>\n",
              "      <td>James</td>\n",
              "      <td>24</td>\n",
              "      <td>Houston</td>\n",
              "      <td>10000.0</td>\n",
              "    </tr>\n",
              "    <tr>\n",
              "      <th></th>\n",
              "      <td>8</td>\n",
              "      <td>Paul</td>\n",
              "      <td>24</td>\n",
              "      <td>Houston</td>\n",
              "      <td>20000.0</td>\n",
              "    </tr>\n",
              "  </tbody>\n",
              "</table>\n",
              "</div>"
            ],
            "text/plain": [
              "  ID   NAME  AGE     ADDRESS   SALARY\n",
              "   4   Mark   25  Rich-Mond   65000.0\n",
              "   5  David   27       Texas  42500.0\n",
              "   6    Kim   22  South-Hall  45000.0\n",
              "   7  James   24     Houston  10000.0\n",
              "   8   Paul   24     Houston  20000.0"
            ]
          },
          "execution_count": 118,
          "metadata": {},
          "output_type": "execute_result"
        }
      ],
      "source": [
        "conn = sqlite3.connect('test.db')\n",
        "\n",
        "conn.execute(\"INSERT INTO COMPANY (NAME,AGE,ADDRESS,SALARY)\\\n",
        "\t\t\tVALUES ('Mana', 15, 'Thailand', 15000.00)\")\n",
        "conn.rollback()\n",
        "\n",
        "cursor = conn.execute(\"SELECT id, name, age, address, salary from COMPANY\")\n",
        "df = get_data(cursor)\n",
        "\n",
        "conn.close()\n",
        "print(\"Operation done successfully\");\n",
        "df"
      ]
    },
    {
      "cell_type": "markdown",
      "metadata": {
        "id": "DFhnY2SzkbSP"
      },
      "source": [
        "# **เมื่อใช้ประโยค with**\n",
        "* เมธอด commit()จะถูกเรียกอัตโนมัติหลังจากบล็อกทำงานเสร็จ\n",
        "* เมธอด rollback() จะถูกเรียกอัตโนมัติเมื่อเกิด exception\n",
        "\n"
      ]
    },
    {
      "cell_type": "code",
      "execution_count": 49,
      "metadata": {
        "id": "3g5AjU5jgeLe"
      },
      "outputs": [
        {
          "name": "stdout",
          "output_type": "stream",
          "text": [
            "Total number of rows deleted : 1\n"
          ]
        }
      ],
      "source": [
        "conn = sqlite3.connect('test.db')\n",
        "\n",
        "# Successful, con.commit() is called automatically afterwards\n",
        "with conn:\n",
        "\tconn.execute(\"DELETE FROM COMPANY WHERE AGE = 35\")\n",
        "\tprint(\"Total number of rows deleted :\", conn.total_changes)\n",
        "\n",
        "# con.rollback() is called after the with block finishes with an exception, the\n",
        "# exception is still raised and must be caught\n",
        "try:\n",
        "\twith conn:\n",
        "\t\tconn.execute(\"DELETE FROM COMPANY WHERE AGE = 35\")\n",
        "except sqlite3.IntegrityError:\n",
        "\tprint (\"couldn't delete twice\")\n",
        "\n",
        "conn.close()"
      ]
    },
    {
      "cell_type": "code",
      "execution_count": 50,
      "metadata": {
        "id": "2L1aCxFEg7ts"
      },
      "outputs": [
        {
          "name": "stdout",
          "output_type": "stream",
          "text": [
            "Operation done successfully\n"
          ]
        },
        {
          "data": {
            "text/html": [
              "<div>\n",
              "<style scoped>\n",
              "    .dataframe tbody tr th:only-of-type {\n",
              "        vertical-align: middle;\n",
              "    }\n",
              "\n",
              "    .dataframe tbody tr th {\n",
              "        vertical-align: top;\n",
              "    }\n",
              "\n",
              "    .dataframe thead th {\n",
              "        text-align: right;\n",
              "    }\n",
              "</style>\n",
              "<table border=\"1\" class=\"dataframe\">\n",
              "  <thead>\n",
              "    <tr style=\"text-align: right;\">\n",
              "      <th></th>\n",
              "      <th>ID</th>\n",
              "      <th>NAME</th>\n",
              "      <th>AGE</th>\n",
              "      <th>ADDRESS</th>\n",
              "      <th>SALARY</th>\n",
              "    </tr>\n",
              "  </thead>\n",
              "  <tbody>\n",
              "    <tr>\n",
              "      <th></th>\n",
              "      <td>1</td>\n",
              "      <td>Paul</td>\n",
              "      <td>32</td>\n",
              "      <td>California</td>\n",
              "      <td>25000.0</td>\n",
              "    </tr>\n",
              "    <tr>\n",
              "      <th></th>\n",
              "      <td>3</td>\n",
              "      <td>Teddy</td>\n",
              "      <td>23</td>\n",
              "      <td>Norway</td>\n",
              "      <td>20000.0</td>\n",
              "    </tr>\n",
              "    <tr>\n",
              "      <th></th>\n",
              "      <td>4</td>\n",
              "      <td>Mark</td>\n",
              "      <td>25</td>\n",
              "      <td>Rich-Mond</td>\n",
              "      <td>65000.0</td>\n",
              "    </tr>\n",
              "    <tr>\n",
              "      <th></th>\n",
              "      <td>5</td>\n",
              "      <td>David</td>\n",
              "      <td>27</td>\n",
              "      <td>Texas</td>\n",
              "      <td>85000.0</td>\n",
              "    </tr>\n",
              "    <tr>\n",
              "      <th></th>\n",
              "      <td>6</td>\n",
              "      <td>Kim</td>\n",
              "      <td>22</td>\n",
              "      <td>South-Hall</td>\n",
              "      <td>45000.0</td>\n",
              "    </tr>\n",
              "    <tr>\n",
              "      <th></th>\n",
              "      <td>7</td>\n",
              "      <td>James</td>\n",
              "      <td>24</td>\n",
              "      <td>Houston</td>\n",
              "      <td>10000.0</td>\n",
              "    </tr>\n",
              "    <tr>\n",
              "      <th></th>\n",
              "      <td>8</td>\n",
              "      <td>Paul</td>\n",
              "      <td>24</td>\n",
              "      <td>Houston</td>\n",
              "      <td>20000.0</td>\n",
              "    </tr>\n",
              "    <tr>\n",
              "      <th></th>\n",
              "      <td>9</td>\n",
              "      <td>James</td>\n",
              "      <td>44</td>\n",
              "      <td>Norway</td>\n",
              "      <td>5000.0</td>\n",
              "    </tr>\n",
              "  </tbody>\n",
              "</table>\n",
              "</div>"
            ],
            "text/plain": [
              "  ID   NAME  AGE     ADDRESS   SALARY\n",
              "   1   Paul   32  California  25000.0\n",
              "   3  Teddy   23      Norway  20000.0\n",
              "   4   Mark   25  Rich-Mond   65000.0\n",
              "   5  David   27       Texas  85000.0\n",
              "   6    Kim   22  South-Hall  45000.0\n",
              "   7  James   24     Houston  10000.0\n",
              "   8   Paul   24     Houston  20000.0\n",
              "   9  James   44      Norway   5000.0"
            ]
          },
          "execution_count": 50,
          "metadata": {},
          "output_type": "execute_result"
        }
      ],
      "source": [
        "conn = sqlite3.connect('test.db')\n",
        "cursor = conn.execute(\"SELECT id, name, age, address, salary from COMPANY\")\n",
        "df = get_data(cursor)\n",
        "\n",
        "conn.close()\n",
        "print(\"Operation done successfully\");\n",
        "df"
      ]
    },
    {
      "cell_type": "markdown",
      "metadata": {
        "id": "BdZ8h667kyVb"
      },
      "source": [
        "# **ประโยค ORDER BY**\n",
        "ใช้ ASC : Ascending น้อยไปมาก"
      ]
    },
    {
      "cell_type": "code",
      "execution_count": 51,
      "metadata": {
        "id": "sWhhJZoxk_4v"
      },
      "outputs": [
        {
          "name": "stdout",
          "output_type": "stream",
          "text": [
            "Operation done successfully\n"
          ]
        },
        {
          "data": {
            "text/html": [
              "<div>\n",
              "<style scoped>\n",
              "    .dataframe tbody tr th:only-of-type {\n",
              "        vertical-align: middle;\n",
              "    }\n",
              "\n",
              "    .dataframe tbody tr th {\n",
              "        vertical-align: top;\n",
              "    }\n",
              "\n",
              "    .dataframe thead th {\n",
              "        text-align: right;\n",
              "    }\n",
              "</style>\n",
              "<table border=\"1\" class=\"dataframe\">\n",
              "  <thead>\n",
              "    <tr style=\"text-align: right;\">\n",
              "      <th></th>\n",
              "      <th>ID</th>\n",
              "      <th>NAME</th>\n",
              "      <th>AGE</th>\n",
              "      <th>ADDRESS</th>\n",
              "      <th>SALARY</th>\n",
              "    </tr>\n",
              "  </thead>\n",
              "  <tbody>\n",
              "    <tr>\n",
              "      <th></th>\n",
              "      <td>9</td>\n",
              "      <td>James</td>\n",
              "      <td>44</td>\n",
              "      <td>Norway</td>\n",
              "      <td>5000.0</td>\n",
              "    </tr>\n",
              "    <tr>\n",
              "      <th></th>\n",
              "      <td>7</td>\n",
              "      <td>James</td>\n",
              "      <td>24</td>\n",
              "      <td>Houston</td>\n",
              "      <td>10000.0</td>\n",
              "    </tr>\n",
              "    <tr>\n",
              "      <th></th>\n",
              "      <td>3</td>\n",
              "      <td>Teddy</td>\n",
              "      <td>23</td>\n",
              "      <td>Norway</td>\n",
              "      <td>20000.0</td>\n",
              "    </tr>\n",
              "    <tr>\n",
              "      <th></th>\n",
              "      <td>8</td>\n",
              "      <td>Paul</td>\n",
              "      <td>24</td>\n",
              "      <td>Houston</td>\n",
              "      <td>20000.0</td>\n",
              "    </tr>\n",
              "    <tr>\n",
              "      <th></th>\n",
              "      <td>1</td>\n",
              "      <td>Paul</td>\n",
              "      <td>32</td>\n",
              "      <td>California</td>\n",
              "      <td>25000.0</td>\n",
              "    </tr>\n",
              "    <tr>\n",
              "      <th></th>\n",
              "      <td>6</td>\n",
              "      <td>Kim</td>\n",
              "      <td>22</td>\n",
              "      <td>South-Hall</td>\n",
              "      <td>45000.0</td>\n",
              "    </tr>\n",
              "    <tr>\n",
              "      <th></th>\n",
              "      <td>4</td>\n",
              "      <td>Mark</td>\n",
              "      <td>25</td>\n",
              "      <td>Rich-Mond</td>\n",
              "      <td>65000.0</td>\n",
              "    </tr>\n",
              "    <tr>\n",
              "      <th></th>\n",
              "      <td>5</td>\n",
              "      <td>David</td>\n",
              "      <td>27</td>\n",
              "      <td>Texas</td>\n",
              "      <td>85000.0</td>\n",
              "    </tr>\n",
              "  </tbody>\n",
              "</table>\n",
              "</div>"
            ],
            "text/plain": [
              "  ID   NAME  AGE     ADDRESS   SALARY\n",
              "   9  James   44      Norway   5000.0\n",
              "   7  James   24     Houston  10000.0\n",
              "   3  Teddy   23      Norway  20000.0\n",
              "   8   Paul   24     Houston  20000.0\n",
              "   1   Paul   32  California  25000.0\n",
              "   6    Kim   22  South-Hall  45000.0\n",
              "   4   Mark   25  Rich-Mond   65000.0\n",
              "   5  David   27       Texas  85000.0"
            ]
          },
          "execution_count": 51,
          "metadata": {},
          "output_type": "execute_result"
        }
      ],
      "source": [
        "conn = sqlite3.connect('test.db')\n",
        "\n",
        "cursor = conn.execute(\"SELECT * FROM COMPANY ORDER BY SALARY ASC\")\n",
        "df = get_data(cursor)\n",
        "\n",
        "conn.close()\n",
        "print(\"Operation done successfully\")\n",
        "df"
      ]
    },
    {
      "cell_type": "code",
      "execution_count": 52,
      "metadata": {
        "id": "Emf85p45lLNV"
      },
      "outputs": [
        {
          "name": "stdout",
          "output_type": "stream",
          "text": [
            "Operation done successfully\n"
          ]
        },
        {
          "data": {
            "text/html": [
              "<div>\n",
              "<style scoped>\n",
              "    .dataframe tbody tr th:only-of-type {\n",
              "        vertical-align: middle;\n",
              "    }\n",
              "\n",
              "    .dataframe tbody tr th {\n",
              "        vertical-align: top;\n",
              "    }\n",
              "\n",
              "    .dataframe thead th {\n",
              "        text-align: right;\n",
              "    }\n",
              "</style>\n",
              "<table border=\"1\" class=\"dataframe\">\n",
              "  <thead>\n",
              "    <tr style=\"text-align: right;\">\n",
              "      <th></th>\n",
              "      <th>ID</th>\n",
              "      <th>NAME</th>\n",
              "      <th>AGE</th>\n",
              "      <th>ADDRESS</th>\n",
              "      <th>SALARY</th>\n",
              "    </tr>\n",
              "  </thead>\n",
              "  <tbody>\n",
              "    <tr>\n",
              "      <th></th>\n",
              "      <td>5</td>\n",
              "      <td>David</td>\n",
              "      <td>27</td>\n",
              "      <td>Texas</td>\n",
              "      <td>85000.0</td>\n",
              "    </tr>\n",
              "    <tr>\n",
              "      <th></th>\n",
              "      <td>9</td>\n",
              "      <td>James</td>\n",
              "      <td>44</td>\n",
              "      <td>Norway</td>\n",
              "      <td>5000.0</td>\n",
              "    </tr>\n",
              "    <tr>\n",
              "      <th></th>\n",
              "      <td>7</td>\n",
              "      <td>James</td>\n",
              "      <td>24</td>\n",
              "      <td>Houston</td>\n",
              "      <td>10000.0</td>\n",
              "    </tr>\n",
              "    <tr>\n",
              "      <th></th>\n",
              "      <td>6</td>\n",
              "      <td>Kim</td>\n",
              "      <td>22</td>\n",
              "      <td>South-Hall</td>\n",
              "      <td>45000.0</td>\n",
              "    </tr>\n",
              "    <tr>\n",
              "      <th></th>\n",
              "      <td>4</td>\n",
              "      <td>Mark</td>\n",
              "      <td>25</td>\n",
              "      <td>Rich-Mond</td>\n",
              "      <td>65000.0</td>\n",
              "    </tr>\n",
              "    <tr>\n",
              "      <th></th>\n",
              "      <td>8</td>\n",
              "      <td>Paul</td>\n",
              "      <td>24</td>\n",
              "      <td>Houston</td>\n",
              "      <td>20000.0</td>\n",
              "    </tr>\n",
              "    <tr>\n",
              "      <th></th>\n",
              "      <td>1</td>\n",
              "      <td>Paul</td>\n",
              "      <td>32</td>\n",
              "      <td>California</td>\n",
              "      <td>25000.0</td>\n",
              "    </tr>\n",
              "    <tr>\n",
              "      <th></th>\n",
              "      <td>3</td>\n",
              "      <td>Teddy</td>\n",
              "      <td>23</td>\n",
              "      <td>Norway</td>\n",
              "      <td>20000.0</td>\n",
              "    </tr>\n",
              "  </tbody>\n",
              "</table>\n",
              "</div>"
            ],
            "text/plain": [
              "  ID   NAME  AGE     ADDRESS   SALARY\n",
              "   5  David   27       Texas  85000.0\n",
              "   9  James   44      Norway   5000.0\n",
              "   7  James   24     Houston  10000.0\n",
              "   6    Kim   22  South-Hall  45000.0\n",
              "   4   Mark   25  Rich-Mond   65000.0\n",
              "   8   Paul   24     Houston  20000.0\n",
              "   1   Paul   32  California  25000.0\n",
              "   3  Teddy   23      Norway  20000.0"
            ]
          },
          "execution_count": 52,
          "metadata": {},
          "output_type": "execute_result"
        }
      ],
      "source": [
        "conn = sqlite3.connect('test.db')\n",
        "\n",
        "cursor = conn.execute(\"SELECT * FROM COMPANY ORDER BY NAME, SALARY ASC\")\n",
        "df = get_data(cursor)\n",
        "\n",
        "conn.close()\n",
        "print(\"Operation done successfully\")\n",
        "df"
      ]
    },
    {
      "cell_type": "markdown",
      "metadata": {
        "id": "aI0dJzZglNkC"
      },
      "source": [
        "ใช้ DESC : Descanding มากไปน้อย"
      ]
    },
    {
      "cell_type": "code",
      "execution_count": 53,
      "metadata": {
        "id": "lLFApGTClU9i"
      },
      "outputs": [
        {
          "name": "stdout",
          "output_type": "stream",
          "text": [
            "Operation done successfully\n"
          ]
        },
        {
          "data": {
            "text/html": [
              "<div>\n",
              "<style scoped>\n",
              "    .dataframe tbody tr th:only-of-type {\n",
              "        vertical-align: middle;\n",
              "    }\n",
              "\n",
              "    .dataframe tbody tr th {\n",
              "        vertical-align: top;\n",
              "    }\n",
              "\n",
              "    .dataframe thead th {\n",
              "        text-align: right;\n",
              "    }\n",
              "</style>\n",
              "<table border=\"1\" class=\"dataframe\">\n",
              "  <thead>\n",
              "    <tr style=\"text-align: right;\">\n",
              "      <th></th>\n",
              "      <th>ID</th>\n",
              "      <th>NAME</th>\n",
              "      <th>AGE</th>\n",
              "      <th>ADDRESS</th>\n",
              "      <th>SALARY</th>\n",
              "    </tr>\n",
              "  </thead>\n",
              "  <tbody>\n",
              "    <tr>\n",
              "      <th></th>\n",
              "      <td>3</td>\n",
              "      <td>Teddy</td>\n",
              "      <td>23</td>\n",
              "      <td>Norway</td>\n",
              "      <td>20000.0</td>\n",
              "    </tr>\n",
              "    <tr>\n",
              "      <th></th>\n",
              "      <td>1</td>\n",
              "      <td>Paul</td>\n",
              "      <td>32</td>\n",
              "      <td>California</td>\n",
              "      <td>25000.0</td>\n",
              "    </tr>\n",
              "    <tr>\n",
              "      <th></th>\n",
              "      <td>8</td>\n",
              "      <td>Paul</td>\n",
              "      <td>24</td>\n",
              "      <td>Houston</td>\n",
              "      <td>20000.0</td>\n",
              "    </tr>\n",
              "    <tr>\n",
              "      <th></th>\n",
              "      <td>4</td>\n",
              "      <td>Mark</td>\n",
              "      <td>25</td>\n",
              "      <td>Rich-Mond</td>\n",
              "      <td>65000.0</td>\n",
              "    </tr>\n",
              "    <tr>\n",
              "      <th></th>\n",
              "      <td>6</td>\n",
              "      <td>Kim</td>\n",
              "      <td>22</td>\n",
              "      <td>South-Hall</td>\n",
              "      <td>45000.0</td>\n",
              "    </tr>\n",
              "    <tr>\n",
              "      <th></th>\n",
              "      <td>7</td>\n",
              "      <td>James</td>\n",
              "      <td>24</td>\n",
              "      <td>Houston</td>\n",
              "      <td>10000.0</td>\n",
              "    </tr>\n",
              "    <tr>\n",
              "      <th></th>\n",
              "      <td>9</td>\n",
              "      <td>James</td>\n",
              "      <td>44</td>\n",
              "      <td>Norway</td>\n",
              "      <td>5000.0</td>\n",
              "    </tr>\n",
              "    <tr>\n",
              "      <th></th>\n",
              "      <td>5</td>\n",
              "      <td>David</td>\n",
              "      <td>27</td>\n",
              "      <td>Texas</td>\n",
              "      <td>85000.0</td>\n",
              "    </tr>\n",
              "  </tbody>\n",
              "</table>\n",
              "</div>"
            ],
            "text/plain": [
              "  ID   NAME  AGE     ADDRESS   SALARY\n",
              "   3  Teddy   23      Norway  20000.0\n",
              "   1   Paul   32  California  25000.0\n",
              "   8   Paul   24     Houston  20000.0\n",
              "   4   Mark   25  Rich-Mond   65000.0\n",
              "   6    Kim   22  South-Hall  45000.0\n",
              "   7  James   24     Houston  10000.0\n",
              "   9  James   44      Norway   5000.0\n",
              "   5  David   27       Texas  85000.0"
            ]
          },
          "execution_count": 53,
          "metadata": {},
          "output_type": "execute_result"
        }
      ],
      "source": [
        "conn = sqlite3.connect('test.db')\n",
        "\n",
        "cursor = conn.execute(\"SELECT * FROM COMPANY ORDER BY NAME DESC\")\n",
        "df = get_data(cursor)\n",
        "\n",
        "conn.close()\n",
        "print(\"Operation done successfully\")\n",
        "df"
      ]
    },
    {
      "cell_type": "markdown",
      "metadata": {
        "id": "HWJv_8pWlZAy"
      },
      "source": [
        "# **Group by**"
      ]
    },
    {
      "cell_type": "code",
      "execution_count": 105,
      "metadata": {
        "id": "HuWPPam0liiy"
      },
      "outputs": [
        {
          "name": "stdout",
          "output_type": "stream",
          "text": [
            "Operation done successfully\n"
          ]
        },
        {
          "data": {
            "text/html": [
              "<div>\n",
              "<style scoped>\n",
              "    .dataframe tbody tr th:only-of-type {\n",
              "        vertical-align: middle;\n",
              "    }\n",
              "\n",
              "    .dataframe tbody tr th {\n",
              "        vertical-align: top;\n",
              "    }\n",
              "\n",
              "    .dataframe thead th {\n",
              "        text-align: right;\n",
              "    }\n",
              "</style>\n",
              "<table border=\"1\" class=\"dataframe\">\n",
              "  <thead>\n",
              "    <tr style=\"text-align: right;\">\n",
              "      <th></th>\n",
              "      <th>ADDRESS</th>\n",
              "      <th>Average_Salary</th>\n",
              "    </tr>\n",
              "  </thead>\n",
              "  <tbody>\n",
              "    <tr>\n",
              "      <th></th>\n",
              "      <td>Houston</td>\n",
              "      <td>15000.0</td>\n",
              "    </tr>\n",
              "    <tr>\n",
              "      <th></th>\n",
              "      <td>Rich-Mond</td>\n",
              "      <td>65000.0</td>\n",
              "    </tr>\n",
              "    <tr>\n",
              "      <th></th>\n",
              "      <td>South-Hall</td>\n",
              "      <td>45000.0</td>\n",
              "    </tr>\n",
              "    <tr>\n",
              "      <th></th>\n",
              "      <td>Texas</td>\n",
              "      <td>42500.0</td>\n",
              "    </tr>\n",
              "  </tbody>\n",
              "</table>\n",
              "</div>"
            ],
            "text/plain": [
              "     ADDRESS  Average_Salary\n",
              "     Houston         15000.0\n",
              "  Rich-Mond          65000.0\n",
              "  South-Hall         45000.0\n",
              "       Texas         42500.0"
            ]
          },
          "execution_count": 105,
          "metadata": {},
          "output_type": "execute_result"
        }
      ],
      "source": [
        "conn = sqlite3.connect('test.db')\n",
        "\n",
        "cursor = conn.execute(\"SELECT address, avg(SALARY) AS Average_Salary FROM COMPANY GROUP BY address\") # จัดกลุ่มสิ่งที่เหมือนกัน นิยมใช้กับการรวมกลุ่มที่เป็นแบบ count\n",
        "df = get_data(cursor)\n",
        "\n",
        "conn.close()\n",
        "print(\"Operation done successfully\")\n",
        "df"
      ]
    },
    {
      "cell_type": "markdown",
      "metadata": {
        "id": "sIUR8ADTlnCq"
      },
      "source": [
        "**group by ร่วมกับ order by**"
      ]
    },
    {
      "cell_type": "code",
      "execution_count": 55,
      "metadata": {
        "id": "k5DWI-d-lmIK"
      },
      "outputs": [
        {
          "name": "stdout",
          "output_type": "stream",
          "text": [
            "Operation done successfully\n"
          ]
        },
        {
          "data": {
            "text/html": [
              "<div>\n",
              "<style scoped>\n",
              "    .dataframe tbody tr th:only-of-type {\n",
              "        vertical-align: middle;\n",
              "    }\n",
              "\n",
              "    .dataframe tbody tr th {\n",
              "        vertical-align: top;\n",
              "    }\n",
              "\n",
              "    .dataframe thead th {\n",
              "        text-align: right;\n",
              "    }\n",
              "</style>\n",
              "<table border=\"1\" class=\"dataframe\">\n",
              "  <thead>\n",
              "    <tr style=\"text-align: right;\">\n",
              "      <th></th>\n",
              "      <th>NAME</th>\n",
              "      <th>SUM(SALARY)</th>\n",
              "    </tr>\n",
              "  </thead>\n",
              "  <tbody>\n",
              "    <tr>\n",
              "      <th></th>\n",
              "      <td>David</td>\n",
              "      <td>85000.0</td>\n",
              "    </tr>\n",
              "    <tr>\n",
              "      <th></th>\n",
              "      <td>James</td>\n",
              "      <td>15000.0</td>\n",
              "    </tr>\n",
              "    <tr>\n",
              "      <th></th>\n",
              "      <td>Kim</td>\n",
              "      <td>45000.0</td>\n",
              "    </tr>\n",
              "    <tr>\n",
              "      <th></th>\n",
              "      <td>Mark</td>\n",
              "      <td>65000.0</td>\n",
              "    </tr>\n",
              "    <tr>\n",
              "      <th></th>\n",
              "      <td>Paul</td>\n",
              "      <td>45000.0</td>\n",
              "    </tr>\n",
              "    <tr>\n",
              "      <th></th>\n",
              "      <td>Teddy</td>\n",
              "      <td>20000.0</td>\n",
              "    </tr>\n",
              "  </tbody>\n",
              "</table>\n",
              "</div>"
            ],
            "text/plain": [
              "   NAME  SUM(SALARY)\n",
              "  David      85000.0\n",
              "  James      15000.0\n",
              "    Kim      45000.0\n",
              "   Mark      65000.0\n",
              "   Paul      45000.0\n",
              "  Teddy      20000.0"
            ]
          },
          "execution_count": 55,
          "metadata": {},
          "output_type": "execute_result"
        }
      ],
      "source": [
        "conn = sqlite3.connect('test.db')\n",
        "\n",
        "cursor = conn.execute(\"SELECT NAME, SUM(SALARY) FROM COMPANY GROUP BY NAME ORDER BY NAME\")\n",
        "df = get_data(cursor)\n",
        "\n",
        "conn.close()\n",
        "print(\"Operation done successfully\")\n",
        "df"
      ]
    },
    {
      "cell_type": "markdown",
      "metadata": {
        "id": "gGmj4SSg1-pD"
      },
      "source": [
        "# **การใช้ having กับ count**"
      ]
    },
    {
      "cell_type": "code",
      "execution_count": 56,
      "metadata": {
        "id": "RxDpjBJZ2KJz"
      },
      "outputs": [
        {
          "name": "stdout",
          "output_type": "stream",
          "text": [
            "Operation done successfully\n"
          ]
        },
        {
          "data": {
            "text/html": [
              "<div>\n",
              "<style scoped>\n",
              "    .dataframe tbody tr th:only-of-type {\n",
              "        vertical-align: middle;\n",
              "    }\n",
              "\n",
              "    .dataframe tbody tr th {\n",
              "        vertical-align: top;\n",
              "    }\n",
              "\n",
              "    .dataframe thead th {\n",
              "        text-align: right;\n",
              "    }\n",
              "</style>\n",
              "<table border=\"1\" class=\"dataframe\">\n",
              "  <thead>\n",
              "    <tr style=\"text-align: right;\">\n",
              "      <th></th>\n",
              "      <th>ID</th>\n",
              "      <th>NAME</th>\n",
              "      <th>AGE</th>\n",
              "      <th>ADDRESS</th>\n",
              "      <th>SALARY</th>\n",
              "    </tr>\n",
              "  </thead>\n",
              "  <tbody>\n",
              "    <tr>\n",
              "      <th></th>\n",
              "      <td>5</td>\n",
              "      <td>David</td>\n",
              "      <td>27</td>\n",
              "      <td>Texas</td>\n",
              "      <td>85000.0</td>\n",
              "    </tr>\n",
              "    <tr>\n",
              "      <th></th>\n",
              "      <td>6</td>\n",
              "      <td>Kim</td>\n",
              "      <td>22</td>\n",
              "      <td>South-Hall</td>\n",
              "      <td>45000.0</td>\n",
              "    </tr>\n",
              "    <tr>\n",
              "      <th></th>\n",
              "      <td>4</td>\n",
              "      <td>Mark</td>\n",
              "      <td>25</td>\n",
              "      <td>Rich-Mond</td>\n",
              "      <td>65000.0</td>\n",
              "    </tr>\n",
              "    <tr>\n",
              "      <th></th>\n",
              "      <td>3</td>\n",
              "      <td>Teddy</td>\n",
              "      <td>23</td>\n",
              "      <td>Norway</td>\n",
              "      <td>20000.0</td>\n",
              "    </tr>\n",
              "  </tbody>\n",
              "</table>\n",
              "</div>"
            ],
            "text/plain": [
              "  ID   NAME  AGE     ADDRESS   SALARY\n",
              "   5  David   27       Texas  85000.0\n",
              "   6    Kim   22  South-Hall  45000.0\n",
              "   4   Mark   25  Rich-Mond   65000.0\n",
              "   3  Teddy   23      Norway  20000.0"
            ]
          },
          "execution_count": 56,
          "metadata": {},
          "output_type": "execute_result"
        }
      ],
      "source": [
        "conn = sqlite3.connect('test.db')\n",
        "\n",
        "cursor = conn.execute(\"SELECT * FROM COMPANY GROUP BY name HAVING count(name) < 2\") # ขื่อที่มีจำนวน 1 เท่านั้น\n",
        "df = get_data(cursor)\n",
        "\n",
        "conn.close()\n",
        "print(\"Operation done successfully\")\n",
        "df"
      ]
    },
    {
      "cell_type": "code",
      "execution_count": 57,
      "metadata": {
        "id": "bQlBl_fG2P67"
      },
      "outputs": [
        {
          "name": "stdout",
          "output_type": "stream",
          "text": [
            "Operation done successfully\n"
          ]
        },
        {
          "data": {
            "text/html": [
              "<div>\n",
              "<style scoped>\n",
              "    .dataframe tbody tr th:only-of-type {\n",
              "        vertical-align: middle;\n",
              "    }\n",
              "\n",
              "    .dataframe tbody tr th {\n",
              "        vertical-align: top;\n",
              "    }\n",
              "\n",
              "    .dataframe thead th {\n",
              "        text-align: right;\n",
              "    }\n",
              "</style>\n",
              "<table border=\"1\" class=\"dataframe\">\n",
              "  <thead>\n",
              "    <tr style=\"text-align: right;\">\n",
              "      <th></th>\n",
              "      <th>ID</th>\n",
              "      <th>NAME</th>\n",
              "      <th>AGE</th>\n",
              "      <th>ADDRESS</th>\n",
              "      <th>SALARY</th>\n",
              "    </tr>\n",
              "  </thead>\n",
              "  <tbody>\n",
              "    <tr>\n",
              "      <th></th>\n",
              "      <td>7</td>\n",
              "      <td>James</td>\n",
              "      <td>24</td>\n",
              "      <td>Houston</td>\n",
              "      <td>10000.0</td>\n",
              "    </tr>\n",
              "    <tr>\n",
              "      <th></th>\n",
              "      <td>1</td>\n",
              "      <td>Paul</td>\n",
              "      <td>32</td>\n",
              "      <td>California</td>\n",
              "      <td>25000.0</td>\n",
              "    </tr>\n",
              "  </tbody>\n",
              "</table>\n",
              "</div>"
            ],
            "text/plain": [
              "  ID   NAME  AGE     ADDRESS   SALARY\n",
              "   7  James   24     Houston  10000.0\n",
              "   1   Paul   32  California  25000.0"
            ]
          },
          "execution_count": 57,
          "metadata": {},
          "output_type": "execute_result"
        }
      ],
      "source": [
        "conn = sqlite3.connect('test.db')\n",
        "\n",
        "cursor = conn.execute(\"SELECT * FROM COMPANY GROUP BY name HAVING count(name) >= 2\")\n",
        "df = get_data(cursor)\n",
        "\n",
        "conn.close()\n",
        "print(\"Operation done successfully\")\n",
        "df"
      ]
    },
    {
      "cell_type": "markdown",
      "metadata": {
        "id": "OIXdWDHj2VS6"
      },
      "source": [
        "# **JOIN**\n",
        "\n",
        "ใช้กับ 2 ตารางขึ้นไป"
      ]
    },
    {
      "cell_type": "markdown",
      "metadata": {
        "id": "ym5uor712yrq"
      },
      "source": [
        "สร้าง Table ใหม่ ชื่่อ department"
      ]
    },
    {
      "cell_type": "code",
      "execution_count": 58,
      "metadata": {
        "id": "NJvOuFeA2bGj"
      },
      "outputs": [
        {
          "name": "stdout",
          "output_type": "stream",
          "text": [
            "Table created successfully\n"
          ]
        }
      ],
      "source": [
        "conn = sqlite3.connect('test.db')\n",
        "\n",
        "with conn:\n",
        "\tconn.execute('''CREATE TABLE DEPARTMENT(\n",
        "\t ID INT PRIMARY KEY      NOT NULL,\n",
        "\t DEPT           CHAR(50) NOT NULL,\n",
        "\t EMP_ID         INT      NOT NULL\n",
        "\t);''')\n",
        "\n",
        "conn.close()\n",
        "print(\"Table created successfully\")"
      ]
    },
    {
      "cell_type": "code",
      "execution_count": 59,
      "metadata": {
        "id": "RuiTLw8X27Df"
      },
      "outputs": [
        {
          "name": "stdout",
          "output_type": "stream",
          "text": [
            "Records created successfully\n"
          ]
        }
      ],
      "source": [
        "conn = sqlite3.connect('test.db')\n",
        "\n",
        "with conn:\n",
        "\tconn.execute(\"INSERT INTO DEPARTMENT (ID, DEPT, EMP_ID) \\\n",
        "\tVALUES (1, 'IT Billing', 1 )\")\n",
        "\n",
        "\tconn.execute(\"INSERT INTO DEPARTMENT (ID, DEPT, EMP_ID) \\\n",
        "\tVALUES (2, 'Engineering', 2 )\")\n",
        "\n",
        "\tconn.execute(\"INSERT INTO DEPARTMENT (ID, DEPT, EMP_ID) \\\n",
        "\tVALUES (3, 'Finance', 7 )\")\n",
        "\n",
        "conn.close()\n",
        "print(\"Records created successfully\")"
      ]
    },
    {
      "cell_type": "code",
      "execution_count": 60,
      "metadata": {
        "id": "I5JUg0Km2_mS"
      },
      "outputs": [
        {
          "name": "stdout",
          "output_type": "stream",
          "text": [
            "Operation done successfully\n"
          ]
        },
        {
          "data": {
            "text/html": [
              "<div>\n",
              "<style scoped>\n",
              "    .dataframe tbody tr th:only-of-type {\n",
              "        vertical-align: middle;\n",
              "    }\n",
              "\n",
              "    .dataframe tbody tr th {\n",
              "        vertical-align: top;\n",
              "    }\n",
              "\n",
              "    .dataframe thead th {\n",
              "        text-align: right;\n",
              "    }\n",
              "</style>\n",
              "<table border=\"1\" class=\"dataframe\">\n",
              "  <thead>\n",
              "    <tr style=\"text-align: right;\">\n",
              "      <th></th>\n",
              "      <th>ID</th>\n",
              "      <th>DEPT</th>\n",
              "      <th>EMP_ID</th>\n",
              "    </tr>\n",
              "  </thead>\n",
              "  <tbody>\n",
              "    <tr>\n",
              "      <th></th>\n",
              "      <td>1</td>\n",
              "      <td>IT Billing</td>\n",
              "      <td>1</td>\n",
              "    </tr>\n",
              "    <tr>\n",
              "      <th></th>\n",
              "      <td>2</td>\n",
              "      <td>Engineering</td>\n",
              "      <td>2</td>\n",
              "    </tr>\n",
              "    <tr>\n",
              "      <th></th>\n",
              "      <td>3</td>\n",
              "      <td>Finance</td>\n",
              "      <td>7</td>\n",
              "    </tr>\n",
              "  </tbody>\n",
              "</table>\n",
              "</div>"
            ],
            "text/plain": [
              "  ID         DEPT  EMP_ID\n",
              "   1   IT Billing       1\n",
              "   2  Engineering       2\n",
              "   3      Finance       7"
            ]
          },
          "execution_count": 60,
          "metadata": {},
          "output_type": "execute_result"
        }
      ],
      "source": [
        "conn = sqlite3.connect('test.db')\n",
        "\n",
        "cursor = conn.execute(\"SELECT id, DEPT, EMP_ID from DEPARTMENT\")\n",
        "df = get_data(cursor)\n",
        "\n",
        "conn.close()\n",
        "print(\"Operation done successfully\")\n",
        "df"
      ]
    },
    {
      "cell_type": "markdown",
      "metadata": {
        "id": "rpVHqmzB3CzC"
      },
      "source": [
        "# **Cross Join**"
      ]
    },
    {
      "cell_type": "code",
      "execution_count": 61,
      "metadata": {
        "id": "zRFuodnb3HLJ"
      },
      "outputs": [
        {
          "name": "stdout",
          "output_type": "stream",
          "text": [
            "Operation done successfully\n"
          ]
        },
        {
          "data": {
            "text/html": [
              "<div>\n",
              "<style scoped>\n",
              "    .dataframe tbody tr th:only-of-type {\n",
              "        vertical-align: middle;\n",
              "    }\n",
              "\n",
              "    .dataframe tbody tr th {\n",
              "        vertical-align: top;\n",
              "    }\n",
              "\n",
              "    .dataframe thead th {\n",
              "        text-align: right;\n",
              "    }\n",
              "</style>\n",
              "<table border=\"1\" class=\"dataframe\">\n",
              "  <thead>\n",
              "    <tr style=\"text-align: right;\">\n",
              "      <th></th>\n",
              "      <th>EMP_ID</th>\n",
              "      <th>NAME</th>\n",
              "      <th>DEPT</th>\n",
              "    </tr>\n",
              "  </thead>\n",
              "  <tbody>\n",
              "    <tr>\n",
              "      <th></th>\n",
              "      <td>1</td>\n",
              "      <td>Paul</td>\n",
              "      <td>IT Billing</td>\n",
              "    </tr>\n",
              "    <tr>\n",
              "      <th></th>\n",
              "      <td>2</td>\n",
              "      <td>Paul</td>\n",
              "      <td>Engineering</td>\n",
              "    </tr>\n",
              "    <tr>\n",
              "      <th></th>\n",
              "      <td>7</td>\n",
              "      <td>Paul</td>\n",
              "      <td>Finance</td>\n",
              "    </tr>\n",
              "    <tr>\n",
              "      <th></th>\n",
              "      <td>1</td>\n",
              "      <td>Teddy</td>\n",
              "      <td>IT Billing</td>\n",
              "    </tr>\n",
              "    <tr>\n",
              "      <th></th>\n",
              "      <td>2</td>\n",
              "      <td>Teddy</td>\n",
              "      <td>Engineering</td>\n",
              "    </tr>\n",
              "    <tr>\n",
              "      <th></th>\n",
              "      <td>7</td>\n",
              "      <td>Teddy</td>\n",
              "      <td>Finance</td>\n",
              "    </tr>\n",
              "    <tr>\n",
              "      <th></th>\n",
              "      <td>1</td>\n",
              "      <td>Mark</td>\n",
              "      <td>IT Billing</td>\n",
              "    </tr>\n",
              "    <tr>\n",
              "      <th></th>\n",
              "      <td>2</td>\n",
              "      <td>Mark</td>\n",
              "      <td>Engineering</td>\n",
              "    </tr>\n",
              "    <tr>\n",
              "      <th></th>\n",
              "      <td>7</td>\n",
              "      <td>Mark</td>\n",
              "      <td>Finance</td>\n",
              "    </tr>\n",
              "    <tr>\n",
              "      <th></th>\n",
              "      <td>1</td>\n",
              "      <td>David</td>\n",
              "      <td>IT Billing</td>\n",
              "    </tr>\n",
              "    <tr>\n",
              "      <th></th>\n",
              "      <td>2</td>\n",
              "      <td>David</td>\n",
              "      <td>Engineering</td>\n",
              "    </tr>\n",
              "    <tr>\n",
              "      <th></th>\n",
              "      <td>7</td>\n",
              "      <td>David</td>\n",
              "      <td>Finance</td>\n",
              "    </tr>\n",
              "    <tr>\n",
              "      <th></th>\n",
              "      <td>1</td>\n",
              "      <td>Kim</td>\n",
              "      <td>IT Billing</td>\n",
              "    </tr>\n",
              "    <tr>\n",
              "      <th></th>\n",
              "      <td>2</td>\n",
              "      <td>Kim</td>\n",
              "      <td>Engineering</td>\n",
              "    </tr>\n",
              "    <tr>\n",
              "      <th></th>\n",
              "      <td>7</td>\n",
              "      <td>Kim</td>\n",
              "      <td>Finance</td>\n",
              "    </tr>\n",
              "    <tr>\n",
              "      <th></th>\n",
              "      <td>1</td>\n",
              "      <td>James</td>\n",
              "      <td>IT Billing</td>\n",
              "    </tr>\n",
              "    <tr>\n",
              "      <th></th>\n",
              "      <td>2</td>\n",
              "      <td>James</td>\n",
              "      <td>Engineering</td>\n",
              "    </tr>\n",
              "    <tr>\n",
              "      <th></th>\n",
              "      <td>7</td>\n",
              "      <td>James</td>\n",
              "      <td>Finance</td>\n",
              "    </tr>\n",
              "    <tr>\n",
              "      <th></th>\n",
              "      <td>1</td>\n",
              "      <td>Paul</td>\n",
              "      <td>IT Billing</td>\n",
              "    </tr>\n",
              "    <tr>\n",
              "      <th></th>\n",
              "      <td>2</td>\n",
              "      <td>Paul</td>\n",
              "      <td>Engineering</td>\n",
              "    </tr>\n",
              "    <tr>\n",
              "      <th></th>\n",
              "      <td>7</td>\n",
              "      <td>Paul</td>\n",
              "      <td>Finance</td>\n",
              "    </tr>\n",
              "    <tr>\n",
              "      <th></th>\n",
              "      <td>1</td>\n",
              "      <td>James</td>\n",
              "      <td>IT Billing</td>\n",
              "    </tr>\n",
              "    <tr>\n",
              "      <th></th>\n",
              "      <td>2</td>\n",
              "      <td>James</td>\n",
              "      <td>Engineering</td>\n",
              "    </tr>\n",
              "    <tr>\n",
              "      <th></th>\n",
              "      <td>7</td>\n",
              "      <td>James</td>\n",
              "      <td>Finance</td>\n",
              "    </tr>\n",
              "  </tbody>\n",
              "</table>\n",
              "</div>"
            ],
            "text/plain": [
              "  EMP_ID   NAME         DEPT\n",
              "       1   Paul   IT Billing\n",
              "       2   Paul  Engineering\n",
              "       7   Paul      Finance\n",
              "       1  Teddy   IT Billing\n",
              "       2  Teddy  Engineering\n",
              "       7  Teddy      Finance\n",
              "       1   Mark   IT Billing\n",
              "       2   Mark  Engineering\n",
              "       7   Mark      Finance\n",
              "       1  David   IT Billing\n",
              "       2  David  Engineering\n",
              "       7  David      Finance\n",
              "       1    Kim   IT Billing\n",
              "       2    Kim  Engineering\n",
              "       7    Kim      Finance\n",
              "       1  James   IT Billing\n",
              "       2  James  Engineering\n",
              "       7  James      Finance\n",
              "       1   Paul   IT Billing\n",
              "       2   Paul  Engineering\n",
              "       7   Paul      Finance\n",
              "       1  James   IT Billing\n",
              "       2  James  Engineering\n",
              "       7  James      Finance"
            ]
          },
          "execution_count": 61,
          "metadata": {},
          "output_type": "execute_result"
        }
      ],
      "source": [
        "conn = sqlite3.connect('test.db')\n",
        "\n",
        "cursor = conn.execute(\"SELECT EMP_ID, NAME, DEPT FROM COMPANY CROSS JOIN DEPARTMENT\")\n",
        "df = get_data(cursor)\n",
        "\n",
        "print(\"Operation done successfully\")\n",
        "conn.close()\n",
        "df"
      ]
    },
    {
      "cell_type": "markdown",
      "metadata": {
        "id": "oUPBM34n3QzU"
      },
      "source": [
        "# **Inner Join**"
      ]
    },
    {
      "cell_type": "code",
      "execution_count": 62,
      "metadata": {
        "id": "mCQ_kBy83Osh"
      },
      "outputs": [
        {
          "name": "stdout",
          "output_type": "stream",
          "text": [
            "Operation done successfully\n"
          ]
        },
        {
          "data": {
            "text/html": [
              "<div>\n",
              "<style scoped>\n",
              "    .dataframe tbody tr th:only-of-type {\n",
              "        vertical-align: middle;\n",
              "    }\n",
              "\n",
              "    .dataframe tbody tr th {\n",
              "        vertical-align: top;\n",
              "    }\n",
              "\n",
              "    .dataframe thead th {\n",
              "        text-align: right;\n",
              "    }\n",
              "</style>\n",
              "<table border=\"1\" class=\"dataframe\">\n",
              "  <thead>\n",
              "    <tr style=\"text-align: right;\">\n",
              "      <th></th>\n",
              "      <th>EMP_ID</th>\n",
              "      <th>NAME</th>\n",
              "      <th>DEPT</th>\n",
              "    </tr>\n",
              "  </thead>\n",
              "  <tbody>\n",
              "    <tr>\n",
              "      <th></th>\n",
              "      <td>1</td>\n",
              "      <td>Paul</td>\n",
              "      <td>IT Billing</td>\n",
              "    </tr>\n",
              "    <tr>\n",
              "      <th></th>\n",
              "      <td>7</td>\n",
              "      <td>James</td>\n",
              "      <td>Finance</td>\n",
              "    </tr>\n",
              "  </tbody>\n",
              "</table>\n",
              "</div>"
            ],
            "text/plain": [
              "  EMP_ID   NAME        DEPT\n",
              "       1   Paul  IT Billing\n",
              "       7  James     Finance"
            ]
          },
          "execution_count": 62,
          "metadata": {},
          "output_type": "execute_result"
        }
      ],
      "source": [
        "conn = sqlite3.connect('test.db')\n",
        "\n",
        "cursor = conn.execute(\"SELECT EMP_ID, NAME, DEPT \\\n",
        "\t\t\t\t\t FROM COMPANY\\\n",
        "\t\t\t\t\t INNER JOIN DEPARTMENT \\\n",
        "\t\t\t\t\t ON COMPANY.ID = DEPARTMENT.EMP_ID\")\n",
        "df = get_data(cursor)\n",
        "\n",
        "conn.close()\n",
        "print(\"Operation done successfully\")\n",
        "df"
      ]
    },
    {
      "cell_type": "markdown",
      "metadata": {
        "id": "Vg0K3NKB3a9i"
      },
      "source": [
        "# **Outer Join**"
      ]
    },
    {
      "cell_type": "code",
      "execution_count": 108,
      "metadata": {
        "id": "475zQauB3c6j"
      },
      "outputs": [
        {
          "name": "stdout",
          "output_type": "stream",
          "text": [
            "Operation done successfully\n"
          ]
        },
        {
          "data": {
            "text/html": [
              "<div>\n",
              "<style scoped>\n",
              "    .dataframe tbody tr th:only-of-type {\n",
              "        vertical-align: middle;\n",
              "    }\n",
              "\n",
              "    .dataframe tbody tr th {\n",
              "        vertical-align: top;\n",
              "    }\n",
              "\n",
              "    .dataframe thead th {\n",
              "        text-align: right;\n",
              "    }\n",
              "</style>\n",
              "<table border=\"1\" class=\"dataframe\">\n",
              "  <thead>\n",
              "    <tr style=\"text-align: right;\">\n",
              "      <th></th>\n",
              "      <th>EMP_ID</th>\n",
              "      <th>NAME</th>\n",
              "      <th>DEPT</th>\n",
              "    </tr>\n",
              "  </thead>\n",
              "  <tbody>\n",
              "    <tr>\n",
              "      <th></th>\n",
              "      <td>NaN</td>\n",
              "      <td>Mark</td>\n",
              "      <td>None</td>\n",
              "    </tr>\n",
              "    <tr>\n",
              "      <th></th>\n",
              "      <td>NaN</td>\n",
              "      <td>David</td>\n",
              "      <td>None</td>\n",
              "    </tr>\n",
              "    <tr>\n",
              "      <th></th>\n",
              "      <td>NaN</td>\n",
              "      <td>Kim</td>\n",
              "      <td>None</td>\n",
              "    </tr>\n",
              "    <tr>\n",
              "      <th></th>\n",
              "      <td>7.0</td>\n",
              "      <td>James</td>\n",
              "      <td>Finance</td>\n",
              "    </tr>\n",
              "    <tr>\n",
              "      <th></th>\n",
              "      <td>NaN</td>\n",
              "      <td>Paul</td>\n",
              "      <td>None</td>\n",
              "    </tr>\n",
              "  </tbody>\n",
              "</table>\n",
              "</div>"
            ],
            "text/plain": [
              "  EMP_ID   NAME     DEPT\n",
              "     NaN   Mark     None\n",
              "     NaN  David     None\n",
              "     NaN    Kim     None\n",
              "     7.0  James  Finance\n",
              "     NaN   Paul     None"
            ]
          },
          "execution_count": 108,
          "metadata": {},
          "output_type": "execute_result"
        }
      ],
      "source": [
        "conn = sqlite3.connect('test.db')\n",
        "\n",
        "cursor = conn.execute(\"SELECT EMP_ID, NAME, DEPT \\\n",
        "\t\t\t\t\t\t\t FROM COMPANY  \\\n",
        "\t\t\t\t\t\t\t LEFT OUTER JOIN DEPARTMENT \\\n",
        "\tON COMPANY.ID = DEPARTMENT.EMP_ID\")\n",
        "df = get_data(cursor)\n",
        "\n",
        "conn.close()\n",
        "print(\"Operation done successfully\")\n",
        "df"
      ]
    },
    {
      "cell_type": "code",
      "execution_count": 113,
      "metadata": {},
      "outputs": [
        {
          "name": "stdout",
          "output_type": "stream",
          "text": [
            "Operation done successfully\n"
          ]
        },
        {
          "data": {
            "text/html": [
              "<div>\n",
              "<style scoped>\n",
              "    .dataframe tbody tr th:only-of-type {\n",
              "        vertical-align: middle;\n",
              "    }\n",
              "\n",
              "    .dataframe tbody tr th {\n",
              "        vertical-align: top;\n",
              "    }\n",
              "\n",
              "    .dataframe thead th {\n",
              "        text-align: right;\n",
              "    }\n",
              "</style>\n",
              "<table border=\"1\" class=\"dataframe\">\n",
              "  <thead>\n",
              "    <tr style=\"text-align: right;\">\n",
              "      <th></th>\n",
              "      <th>EMP_ID</th>\n",
              "      <th>NAME</th>\n",
              "      <th>DEPT</th>\n",
              "    </tr>\n",
              "  </thead>\n",
              "  <tbody>\n",
              "    <tr>\n",
              "      <th></th>\n",
              "      <td>7</td>\n",
              "      <td>James</td>\n",
              "      <td>Finance</td>\n",
              "    </tr>\n",
              "    <tr>\n",
              "      <th></th>\n",
              "      <td>1</td>\n",
              "      <td>None</td>\n",
              "      <td>IT Billing</td>\n",
              "    </tr>\n",
              "    <tr>\n",
              "      <th></th>\n",
              "      <td>2</td>\n",
              "      <td>None</td>\n",
              "      <td>Engineering</td>\n",
              "    </tr>\n",
              "  </tbody>\n",
              "</table>\n",
              "</div>"
            ],
            "text/plain": [
              "  EMP_ID   NAME         DEPT\n",
              "       7  James      Finance\n",
              "       1   None   IT Billing\n",
              "       2   None  Engineering"
            ]
          },
          "execution_count": 113,
          "metadata": {},
          "output_type": "execute_result"
        }
      ],
      "source": [
        "conn = sqlite3.connect('test.db')\n",
        "\n",
        "cursor = conn.execute(\"SELECT EMP_ID, NAME, DEPT \\\n",
        "\t\t\t\t\t  FROM COMPANY \\\n",
        "\t\t\t\t\t  RIGHT JOIN DEPARTMENT \\\n",
        "\t\t\t\t\t  ON COMPANY.ID = DEPARTMENT.EMP_ID\")\n",
        "df = get_data(cursor)\n",
        "\n",
        "conn.close()\n",
        "print(\"Operation done successfully\")\n",
        "df"
      ]
    },
    {
      "cell_type": "markdown",
      "metadata": {
        "id": "f9c7gVzA3iKT"
      },
      "source": [
        "# **UNION**"
      ]
    },
    {
      "cell_type": "markdown",
      "metadata": {
        "id": "xByU1msn3oPp"
      },
      "source": [
        "ข้อมูลจาก table **company**"
      ]
    },
    {
      "cell_type": "code",
      "execution_count": 64,
      "metadata": {
        "id": "fVPEOOYQ3mf7"
      },
      "outputs": [
        {
          "name": "stdout",
          "output_type": "stream",
          "text": [
            "Operation done successfully\n"
          ]
        },
        {
          "data": {
            "text/html": [
              "<div>\n",
              "<style scoped>\n",
              "    .dataframe tbody tr th:only-of-type {\n",
              "        vertical-align: middle;\n",
              "    }\n",
              "\n",
              "    .dataframe tbody tr th {\n",
              "        vertical-align: top;\n",
              "    }\n",
              "\n",
              "    .dataframe thead th {\n",
              "        text-align: right;\n",
              "    }\n",
              "</style>\n",
              "<table border=\"1\" class=\"dataframe\">\n",
              "  <thead>\n",
              "    <tr style=\"text-align: right;\">\n",
              "      <th></th>\n",
              "      <th>ID</th>\n",
              "      <th>NAME</th>\n",
              "      <th>AGE</th>\n",
              "      <th>ADDRESS</th>\n",
              "      <th>SALARY</th>\n",
              "    </tr>\n",
              "  </thead>\n",
              "  <tbody>\n",
              "    <tr>\n",
              "      <th></th>\n",
              "      <td>1</td>\n",
              "      <td>Paul</td>\n",
              "      <td>32</td>\n",
              "      <td>California</td>\n",
              "      <td>25000.0</td>\n",
              "    </tr>\n",
              "    <tr>\n",
              "      <th></th>\n",
              "      <td>3</td>\n",
              "      <td>Teddy</td>\n",
              "      <td>23</td>\n",
              "      <td>Norway</td>\n",
              "      <td>20000.0</td>\n",
              "    </tr>\n",
              "    <tr>\n",
              "      <th></th>\n",
              "      <td>4</td>\n",
              "      <td>Mark</td>\n",
              "      <td>25</td>\n",
              "      <td>Rich-Mond</td>\n",
              "      <td>65000.0</td>\n",
              "    </tr>\n",
              "    <tr>\n",
              "      <th></th>\n",
              "      <td>5</td>\n",
              "      <td>David</td>\n",
              "      <td>27</td>\n",
              "      <td>Texas</td>\n",
              "      <td>85000.0</td>\n",
              "    </tr>\n",
              "    <tr>\n",
              "      <th></th>\n",
              "      <td>6</td>\n",
              "      <td>Kim</td>\n",
              "      <td>22</td>\n",
              "      <td>South-Hall</td>\n",
              "      <td>45000.0</td>\n",
              "    </tr>\n",
              "    <tr>\n",
              "      <th></th>\n",
              "      <td>7</td>\n",
              "      <td>James</td>\n",
              "      <td>24</td>\n",
              "      <td>Houston</td>\n",
              "      <td>10000.0</td>\n",
              "    </tr>\n",
              "    <tr>\n",
              "      <th></th>\n",
              "      <td>8</td>\n",
              "      <td>Paul</td>\n",
              "      <td>24</td>\n",
              "      <td>Houston</td>\n",
              "      <td>20000.0</td>\n",
              "    </tr>\n",
              "    <tr>\n",
              "      <th></th>\n",
              "      <td>9</td>\n",
              "      <td>James</td>\n",
              "      <td>44</td>\n",
              "      <td>Norway</td>\n",
              "      <td>5000.0</td>\n",
              "    </tr>\n",
              "  </tbody>\n",
              "</table>\n",
              "</div>"
            ],
            "text/plain": [
              "  ID   NAME  AGE     ADDRESS   SALARY\n",
              "   1   Paul   32  California  25000.0\n",
              "   3  Teddy   23      Norway  20000.0\n",
              "   4   Mark   25  Rich-Mond   65000.0\n",
              "   5  David   27       Texas  85000.0\n",
              "   6    Kim   22  South-Hall  45000.0\n",
              "   7  James   24     Houston  10000.0\n",
              "   8   Paul   24     Houston  20000.0\n",
              "   9  James   44      Norway   5000.0"
            ]
          },
          "execution_count": 64,
          "metadata": {},
          "output_type": "execute_result"
        }
      ],
      "source": [
        "conn = sqlite3.connect('test.db')\n",
        "\n",
        "cursor = conn.execute(\"select * from COMPANY\")\n",
        "df = get_data(cursor)\n",
        "\n",
        "conn.close()\n",
        "print(\"Operation done successfully\")\n",
        "df"
      ]
    },
    {
      "cell_type": "markdown",
      "metadata": {
        "id": "qFFOd43-3vrd"
      },
      "source": [
        "ข้อมูลจาก table **department**"
      ]
    },
    {
      "cell_type": "code",
      "execution_count": 65,
      "metadata": {
        "id": "j-hYfK5q30Me"
      },
      "outputs": [
        {
          "name": "stdout",
          "output_type": "stream",
          "text": [
            "Operation done successfully\n"
          ]
        },
        {
          "data": {
            "text/html": [
              "<div>\n",
              "<style scoped>\n",
              "    .dataframe tbody tr th:only-of-type {\n",
              "        vertical-align: middle;\n",
              "    }\n",
              "\n",
              "    .dataframe tbody tr th {\n",
              "        vertical-align: top;\n",
              "    }\n",
              "\n",
              "    .dataframe thead th {\n",
              "        text-align: right;\n",
              "    }\n",
              "</style>\n",
              "<table border=\"1\" class=\"dataframe\">\n",
              "  <thead>\n",
              "    <tr style=\"text-align: right;\">\n",
              "      <th></th>\n",
              "      <th>ID</th>\n",
              "      <th>DEPT</th>\n",
              "      <th>EMP_ID</th>\n",
              "    </tr>\n",
              "  </thead>\n",
              "  <tbody>\n",
              "    <tr>\n",
              "      <th></th>\n",
              "      <td>1</td>\n",
              "      <td>IT Billing</td>\n",
              "      <td>1</td>\n",
              "    </tr>\n",
              "    <tr>\n",
              "      <th></th>\n",
              "      <td>2</td>\n",
              "      <td>Engineering</td>\n",
              "      <td>2</td>\n",
              "    </tr>\n",
              "    <tr>\n",
              "      <th></th>\n",
              "      <td>3</td>\n",
              "      <td>Finance</td>\n",
              "      <td>7</td>\n",
              "    </tr>\n",
              "  </tbody>\n",
              "</table>\n",
              "</div>"
            ],
            "text/plain": [
              "  ID         DEPT  EMP_ID\n",
              "   1   IT Billing       1\n",
              "   2  Engineering       2\n",
              "   3      Finance       7"
            ]
          },
          "execution_count": 65,
          "metadata": {},
          "output_type": "execute_result"
        }
      ],
      "source": [
        "conn = sqlite3.connect('test.db')\n",
        "\n",
        "cursor = conn.execute(\"select * from DEPARTMENT\")\n",
        "df = get_data(cursor)\n",
        "\n",
        "conn.close()\n",
        "print(\"Operation done successfully\")\n",
        "df"
      ]
    },
    {
      "cell_type": "markdown",
      "metadata": {
        "id": "86UjsSfn33NC"
      },
      "source": [
        "# **ใช้ UNION**"
      ]
    },
    {
      "cell_type": "code",
      "execution_count": 66,
      "metadata": {
        "id": "122uHVtG3-MC"
      },
      "outputs": [
        {
          "name": "stdout",
          "output_type": "stream",
          "text": [
            "Operation done successfully\n"
          ]
        },
        {
          "data": {
            "text/html": [
              "<div>\n",
              "<style scoped>\n",
              "    .dataframe tbody tr th:only-of-type {\n",
              "        vertical-align: middle;\n",
              "    }\n",
              "\n",
              "    .dataframe tbody tr th {\n",
              "        vertical-align: top;\n",
              "    }\n",
              "\n",
              "    .dataframe thead th {\n",
              "        text-align: right;\n",
              "    }\n",
              "</style>\n",
              "<table border=\"1\" class=\"dataframe\">\n",
              "  <thead>\n",
              "    <tr style=\"text-align: right;\">\n",
              "      <th></th>\n",
              "      <th>EMP_ID</th>\n",
              "      <th>NAME</th>\n",
              "      <th>DEPT</th>\n",
              "    </tr>\n",
              "  </thead>\n",
              "  <tbody>\n",
              "    <tr>\n",
              "      <th></th>\n",
              "      <td>NaN</td>\n",
              "      <td>David</td>\n",
              "      <td>None</td>\n",
              "    </tr>\n",
              "    <tr>\n",
              "      <th></th>\n",
              "      <td>NaN</td>\n",
              "      <td>James</td>\n",
              "      <td>None</td>\n",
              "    </tr>\n",
              "    <tr>\n",
              "      <th></th>\n",
              "      <td>NaN</td>\n",
              "      <td>Kim</td>\n",
              "      <td>None</td>\n",
              "    </tr>\n",
              "    <tr>\n",
              "      <th></th>\n",
              "      <td>NaN</td>\n",
              "      <td>Mark</td>\n",
              "      <td>None</td>\n",
              "    </tr>\n",
              "    <tr>\n",
              "      <th></th>\n",
              "      <td>NaN</td>\n",
              "      <td>Paul</td>\n",
              "      <td>None</td>\n",
              "    </tr>\n",
              "    <tr>\n",
              "      <th></th>\n",
              "      <td>NaN</td>\n",
              "      <td>Teddy</td>\n",
              "      <td>None</td>\n",
              "    </tr>\n",
              "    <tr>\n",
              "      <th></th>\n",
              "      <td>1.0</td>\n",
              "      <td>Paul</td>\n",
              "      <td>IT Billing</td>\n",
              "    </tr>\n",
              "    <tr>\n",
              "      <th></th>\n",
              "      <td>7.0</td>\n",
              "      <td>James</td>\n",
              "      <td>Finance</td>\n",
              "    </tr>\n",
              "  </tbody>\n",
              "</table>\n",
              "</div>"
            ],
            "text/plain": [
              "  EMP_ID   NAME        DEPT\n",
              "     NaN  David        None\n",
              "     NaN  James        None\n",
              "     NaN    Kim        None\n",
              "     NaN   Mark        None\n",
              "     NaN   Paul        None\n",
              "     NaN  Teddy        None\n",
              "     1.0   Paul  IT Billing\n",
              "     7.0  James     Finance"
            ]
          },
          "execution_count": 66,
          "metadata": {},
          "output_type": "execute_result"
        }
      ],
      "source": [
        "conn = sqlite3.connect('test.db')\n",
        "\n",
        "cursor = conn.execute('''SELECT EMP_ID, NAME, DEPT FROM COMPANY INNER JOIN DEPARTMENT\n",
        "\t\t ON COMPANY.ID = DEPARTMENT.EMP_ID\n",
        "\n",
        "\t\t UNION\n",
        "\n",
        "\t\t SELECT EMP_ID, NAME, DEPT FROM COMPANY LEFT OUTER JOIN DEPARTMENT\n",
        "\t\t ON COMPANY.ID = DEPARTMENT.EMP_ID''')\n",
        "\n",
        "df = get_data(cursor)\n",
        "\n",
        "conn.close()\n",
        "print(\"Operation done successfully\")\n",
        "df"
      ]
    },
    {
      "cell_type": "markdown",
      "metadata": {
        "id": "jtp6kH4y4CJ8"
      },
      "source": [
        "# **ใช้ UNION ALL**"
      ]
    },
    {
      "cell_type": "code",
      "execution_count": 67,
      "metadata": {
        "id": "2PlIUL5D4FT8"
      },
      "outputs": [
        {
          "name": "stdout",
          "output_type": "stream",
          "text": [
            "Operation done successfully\n"
          ]
        },
        {
          "data": {
            "text/html": [
              "<div>\n",
              "<style scoped>\n",
              "    .dataframe tbody tr th:only-of-type {\n",
              "        vertical-align: middle;\n",
              "    }\n",
              "\n",
              "    .dataframe tbody tr th {\n",
              "        vertical-align: top;\n",
              "    }\n",
              "\n",
              "    .dataframe thead th {\n",
              "        text-align: right;\n",
              "    }\n",
              "</style>\n",
              "<table border=\"1\" class=\"dataframe\">\n",
              "  <thead>\n",
              "    <tr style=\"text-align: right;\">\n",
              "      <th></th>\n",
              "      <th>EMP_ID</th>\n",
              "      <th>NAME</th>\n",
              "      <th>DEPT</th>\n",
              "    </tr>\n",
              "  </thead>\n",
              "  <tbody>\n",
              "    <tr>\n",
              "      <th></th>\n",
              "      <td>1.0</td>\n",
              "      <td>Paul</td>\n",
              "      <td>IT Billing</td>\n",
              "    </tr>\n",
              "    <tr>\n",
              "      <th></th>\n",
              "      <td>7.0</td>\n",
              "      <td>James</td>\n",
              "      <td>Finance</td>\n",
              "    </tr>\n",
              "    <tr>\n",
              "      <th></th>\n",
              "      <td>1.0</td>\n",
              "      <td>Paul</td>\n",
              "      <td>IT Billing</td>\n",
              "    </tr>\n",
              "    <tr>\n",
              "      <th></th>\n",
              "      <td>NaN</td>\n",
              "      <td>Teddy</td>\n",
              "      <td>None</td>\n",
              "    </tr>\n",
              "    <tr>\n",
              "      <th></th>\n",
              "      <td>NaN</td>\n",
              "      <td>Mark</td>\n",
              "      <td>None</td>\n",
              "    </tr>\n",
              "    <tr>\n",
              "      <th></th>\n",
              "      <td>NaN</td>\n",
              "      <td>David</td>\n",
              "      <td>None</td>\n",
              "    </tr>\n",
              "    <tr>\n",
              "      <th></th>\n",
              "      <td>NaN</td>\n",
              "      <td>Kim</td>\n",
              "      <td>None</td>\n",
              "    </tr>\n",
              "    <tr>\n",
              "      <th></th>\n",
              "      <td>7.0</td>\n",
              "      <td>James</td>\n",
              "      <td>Finance</td>\n",
              "    </tr>\n",
              "    <tr>\n",
              "      <th></th>\n",
              "      <td>NaN</td>\n",
              "      <td>Paul</td>\n",
              "      <td>None</td>\n",
              "    </tr>\n",
              "    <tr>\n",
              "      <th></th>\n",
              "      <td>NaN</td>\n",
              "      <td>James</td>\n",
              "      <td>None</td>\n",
              "    </tr>\n",
              "  </tbody>\n",
              "</table>\n",
              "</div>"
            ],
            "text/plain": [
              "  EMP_ID   NAME        DEPT\n",
              "     1.0   Paul  IT Billing\n",
              "     7.0  James     Finance\n",
              "     1.0   Paul  IT Billing\n",
              "     NaN  Teddy        None\n",
              "     NaN   Mark        None\n",
              "     NaN  David        None\n",
              "     NaN    Kim        None\n",
              "     7.0  James     Finance\n",
              "     NaN   Paul        None\n",
              "     NaN  James        None"
            ]
          },
          "execution_count": 67,
          "metadata": {},
          "output_type": "execute_result"
        }
      ],
      "source": [
        "conn = sqlite3.connect('test.db')\n",
        "\n",
        "cursor = conn.execute('''SELECT EMP_ID, NAME, DEPT FROM COMPANY INNER JOIN DEPARTMENT\n",
        "\t\t ON COMPANY.ID = DEPARTMENT.EMP_ID\n",
        "\n",
        "\t\t UNION ALL\n",
        "\n",
        "\t\t SELECT EMP_ID, NAME, DEPT FROM COMPANY LEFT OUTER JOIN DEPARTMENT\n",
        "\t\t ON COMPANY.ID = DEPARTMENT.EMP_ID;''')\n",
        "\n",
        "df = get_data(cursor)\n",
        "\n",
        "conn.close()\n",
        "print(\"Operation done successfully\")\n",
        "df"
      ]
    },
    {
      "cell_type": "markdown",
      "metadata": {
        "id": "mEVzaNkS4NK6"
      },
      "source": [
        "# ใช้ ALIAS ตั้งชื่ออ้างอิง Table หรือคอลัมน์ใหม่"
      ]
    },
    {
      "cell_type": "markdown",
      "metadata": {
        "id": "1rTZU4K-4chZ"
      },
      "source": [
        "**อ้างอิง table**"
      ]
    },
    {
      "cell_type": "code",
      "execution_count": 68,
      "metadata": {
        "id": "Podl67dD4XQa"
      },
      "outputs": [
        {
          "name": "stdout",
          "output_type": "stream",
          "text": [
            "Operation done successfully\n"
          ]
        },
        {
          "data": {
            "text/html": [
              "<div>\n",
              "<style scoped>\n",
              "    .dataframe tbody tr th:only-of-type {\n",
              "        vertical-align: middle;\n",
              "    }\n",
              "\n",
              "    .dataframe tbody tr th {\n",
              "        vertical-align: top;\n",
              "    }\n",
              "\n",
              "    .dataframe thead th {\n",
              "        text-align: right;\n",
              "    }\n",
              "</style>\n",
              "<table border=\"1\" class=\"dataframe\">\n",
              "  <thead>\n",
              "    <tr style=\"text-align: right;\">\n",
              "      <th></th>\n",
              "      <th>ID</th>\n",
              "      <th>NAME</th>\n",
              "      <th>AGE</th>\n",
              "      <th>DEPT</th>\n",
              "    </tr>\n",
              "  </thead>\n",
              "  <tbody>\n",
              "    <tr>\n",
              "      <th></th>\n",
              "      <td>1</td>\n",
              "      <td>Paul</td>\n",
              "      <td>32</td>\n",
              "      <td>IT Billing</td>\n",
              "    </tr>\n",
              "    <tr>\n",
              "      <th></th>\n",
              "      <td>7</td>\n",
              "      <td>James</td>\n",
              "      <td>24</td>\n",
              "      <td>Finance</td>\n",
              "    </tr>\n",
              "  </tbody>\n",
              "</table>\n",
              "</div>"
            ],
            "text/plain": [
              "  ID   NAME  AGE        DEPT\n",
              "   1   Paul   32  IT Billing\n",
              "   7  James   24     Finance"
            ]
          },
          "execution_count": 68,
          "metadata": {},
          "output_type": "execute_result"
        }
      ],
      "source": [
        "conn = sqlite3.connect('test.db')\n",
        "\n",
        "cursor = conn.execute('''SELECT C.ID, C.NAME, C.AGE, D.DEPT\n",
        "\t\t\t\tFROM COMPANY AS C, DEPARTMENT AS D\n",
        "\t\t\t\tWHERE  C.ID = D.EMP_ID''')\n",
        "df = get_data(cursor)\n",
        "\n",
        "conn.close()\n",
        "print(\"Operation done successfully\")\n",
        "df"
      ]
    },
    {
      "cell_type": "markdown",
      "metadata": {
        "id": "hqCvMdof4frp"
      },
      "source": [
        "**อ้างอิงคอลัมน์**"
      ]
    },
    {
      "cell_type": "code",
      "execution_count": 69,
      "metadata": {
        "id": "wk_V6cgl4iiL"
      },
      "outputs": [
        {
          "name": "stdout",
          "output_type": "stream",
          "text": [
            "Operation done successfully\n"
          ]
        },
        {
          "data": {
            "text/html": [
              "<div>\n",
              "<style scoped>\n",
              "    .dataframe tbody tr th:only-of-type {\n",
              "        vertical-align: middle;\n",
              "    }\n",
              "\n",
              "    .dataframe tbody tr th {\n",
              "        vertical-align: top;\n",
              "    }\n",
              "\n",
              "    .dataframe thead th {\n",
              "        text-align: right;\n",
              "    }\n",
              "</style>\n",
              "<table border=\"1\" class=\"dataframe\">\n",
              "  <thead>\n",
              "    <tr style=\"text-align: right;\">\n",
              "      <th></th>\n",
              "      <th>COMPANY_ID</th>\n",
              "      <th>COMPANY_NAME</th>\n",
              "      <th>AGE</th>\n",
              "      <th>DEPT</th>\n",
              "    </tr>\n",
              "  </thead>\n",
              "  <tbody>\n",
              "    <tr>\n",
              "      <th></th>\n",
              "      <td>1</td>\n",
              "      <td>Paul</td>\n",
              "      <td>32</td>\n",
              "      <td>IT Billing</td>\n",
              "    </tr>\n",
              "    <tr>\n",
              "      <th></th>\n",
              "      <td>7</td>\n",
              "      <td>James</td>\n",
              "      <td>24</td>\n",
              "      <td>Finance</td>\n",
              "    </tr>\n",
              "  </tbody>\n",
              "</table>\n",
              "</div>"
            ],
            "text/plain": [
              "  COMPANY_ID COMPANY_NAME  AGE        DEPT\n",
              "           1         Paul   32  IT Billing\n",
              "           7        James   24     Finance"
            ]
          },
          "execution_count": 69,
          "metadata": {},
          "output_type": "execute_result"
        }
      ],
      "source": [
        "conn = sqlite3.connect('test.db')\n",
        "\n",
        "cursor = conn.execute('''SELECT C.ID AS COMPANY_ID, C.NAME AS COMPANY_NAME, C.AGE, D.DEPT\n",
        "\t\t\t\t\t\t  FROM COMPANY AS C, DEPARTMENT AS D\n",
        "\t\t\t\t\t\t  WHERE  C.ID = D.EMP_ID''')\n",
        "df = get_data(cursor)\n",
        "\n",
        "conn.close()\n",
        "print(\"Operation done successfully\")\n",
        "df"
      ]
    },
    {
      "cell_type": "markdown",
      "metadata": {
        "id": "18rZHijm4ov5"
      },
      "source": [
        "# **การจัดดำเนินการกับคิวรี่ย่อย**"
      ]
    },
    {
      "cell_type": "markdown",
      "metadata": {
        "id": "3Er_TGeV4vjx"
      },
      "source": [
        "## **SELECT**"
      ]
    },
    {
      "cell_type": "code",
      "execution_count": 70,
      "metadata": {
        "id": "iR3hyRMN4t6x"
      },
      "outputs": [
        {
          "name": "stdout",
          "output_type": "stream",
          "text": [
            "Operation done successfully\n"
          ]
        },
        {
          "data": {
            "text/html": [
              "<div>\n",
              "<style scoped>\n",
              "    .dataframe tbody tr th:only-of-type {\n",
              "        vertical-align: middle;\n",
              "    }\n",
              "\n",
              "    .dataframe tbody tr th {\n",
              "        vertical-align: top;\n",
              "    }\n",
              "\n",
              "    .dataframe thead th {\n",
              "        text-align: right;\n",
              "    }\n",
              "</style>\n",
              "<table border=\"1\" class=\"dataframe\">\n",
              "  <thead>\n",
              "    <tr style=\"text-align: right;\">\n",
              "      <th></th>\n",
              "      <th>ID</th>\n",
              "      <th>NAME</th>\n",
              "      <th>AGE</th>\n",
              "      <th>ADDRESS</th>\n",
              "      <th>SALARY</th>\n",
              "    </tr>\n",
              "  </thead>\n",
              "  <tbody>\n",
              "    <tr>\n",
              "      <th></th>\n",
              "      <td>4</td>\n",
              "      <td>Mark</td>\n",
              "      <td>25</td>\n",
              "      <td>Rich-Mond</td>\n",
              "      <td>65000.0</td>\n",
              "    </tr>\n",
              "    <tr>\n",
              "      <th></th>\n",
              "      <td>5</td>\n",
              "      <td>David</td>\n",
              "      <td>27</td>\n",
              "      <td>Texas</td>\n",
              "      <td>85000.0</td>\n",
              "    </tr>\n",
              "  </tbody>\n",
              "</table>\n",
              "</div>"
            ],
            "text/plain": [
              "  ID   NAME  AGE     ADDRESS   SALARY\n",
              "   4   Mark   25  Rich-Mond   65000.0\n",
              "   5  David   27       Texas  85000.0"
            ]
          },
          "execution_count": 70,
          "metadata": {},
          "output_type": "execute_result"
        }
      ],
      "source": [
        "conn = sqlite3.connect('test.db')\n",
        "\n",
        "cursor = conn.execute('''SELECT *\n",
        "\tFROM COMPANY\n",
        "\tWHERE ID IN (SELECT ID\n",
        "\t\tFROM COMPANY\n",
        "\t\tWHERE SALARY > 45000)''')\n",
        "df = get_data(cursor)\n",
        "\n",
        "conn.close()\n",
        "print(\"Operation done successfully\")\n",
        "df"
      ]
    },
    {
      "cell_type": "markdown",
      "metadata": {
        "id": "Vthj-aie4-p6"
      },
      "source": [
        "## **INSERT**"
      ]
    },
    {
      "cell_type": "markdown",
      "metadata": {
        "id": "x1KErqT_5Gsh"
      },
      "source": [
        "สร้าง table ชื่อ COMPANY_BKP"
      ]
    },
    {
      "cell_type": "code",
      "execution_count": 71,
      "metadata": {
        "id": "yUHGDc2d5CFR"
      },
      "outputs": [
        {
          "name": "stdout",
          "output_type": "stream",
          "text": [
            "Table created successfully\n"
          ]
        }
      ],
      "source": [
        "conn = sqlite3.connect('test.db')\n",
        "\n",
        "with conn:\n",
        "\tconn.execute('''CREATE TABLE COMPANY_BKP\n",
        "\t\t\t\t (ID INT PRIMARY KEY     NOT NULL,\n",
        "\t\t\t\t NAME           TEXT    NOT NULL,\n",
        "\t\t\t\t AGE            INT     NOT NULL,\n",
        "\t\t\t\t ADDRESS        CHAR(50),\n",
        "\t\t\t\t SALARY         REAL)''')\n",
        "\n",
        "conn.close()\n",
        "print(\"Table created successfully\")"
      ]
    },
    {
      "cell_type": "code",
      "execution_count": 72,
      "metadata": {
        "id": "h4WQ7j825L3p"
      },
      "outputs": [
        {
          "name": "stdout",
          "output_type": "stream",
          "text": [
            "Records created successfully\n"
          ]
        }
      ],
      "source": [
        "conn = sqlite3.connect('test.db')\n",
        "\n",
        "with conn:\n",
        "\tcursor = conn.execute('''INSERT INTO COMPANY_BKP\n",
        "\t SELECT * FROM COMPANY\n",
        "\t WHERE ID IN (SELECT ID\n",
        "\t\t\tFROM COMPANY)''') # เป็นการ Duplicate\n",
        "\n",
        "conn.close()\n",
        "print(\"Records created successfully\")"
      ]
    },
    {
      "cell_type": "code",
      "execution_count": 73,
      "metadata": {
        "id": "KaoJ01w65Oth"
      },
      "outputs": [
        {
          "name": "stdout",
          "output_type": "stream",
          "text": [
            "Operation done successfully\n"
          ]
        },
        {
          "data": {
            "text/html": [
              "<div>\n",
              "<style scoped>\n",
              "    .dataframe tbody tr th:only-of-type {\n",
              "        vertical-align: middle;\n",
              "    }\n",
              "\n",
              "    .dataframe tbody tr th {\n",
              "        vertical-align: top;\n",
              "    }\n",
              "\n",
              "    .dataframe thead th {\n",
              "        text-align: right;\n",
              "    }\n",
              "</style>\n",
              "<table border=\"1\" class=\"dataframe\">\n",
              "  <thead>\n",
              "    <tr style=\"text-align: right;\">\n",
              "      <th></th>\n",
              "      <th>ID</th>\n",
              "      <th>NAME</th>\n",
              "      <th>AGE</th>\n",
              "      <th>ADDRESS</th>\n",
              "      <th>SALARY</th>\n",
              "    </tr>\n",
              "  </thead>\n",
              "  <tbody>\n",
              "    <tr>\n",
              "      <th></th>\n",
              "      <td>1</td>\n",
              "      <td>Paul</td>\n",
              "      <td>32</td>\n",
              "      <td>California</td>\n",
              "      <td>25000.0</td>\n",
              "    </tr>\n",
              "    <tr>\n",
              "      <th></th>\n",
              "      <td>3</td>\n",
              "      <td>Teddy</td>\n",
              "      <td>23</td>\n",
              "      <td>Norway</td>\n",
              "      <td>20000.0</td>\n",
              "    </tr>\n",
              "    <tr>\n",
              "      <th></th>\n",
              "      <td>4</td>\n",
              "      <td>Mark</td>\n",
              "      <td>25</td>\n",
              "      <td>Rich-Mond</td>\n",
              "      <td>65000.0</td>\n",
              "    </tr>\n",
              "    <tr>\n",
              "      <th></th>\n",
              "      <td>5</td>\n",
              "      <td>David</td>\n",
              "      <td>27</td>\n",
              "      <td>Texas</td>\n",
              "      <td>85000.0</td>\n",
              "    </tr>\n",
              "    <tr>\n",
              "      <th></th>\n",
              "      <td>6</td>\n",
              "      <td>Kim</td>\n",
              "      <td>22</td>\n",
              "      <td>South-Hall</td>\n",
              "      <td>45000.0</td>\n",
              "    </tr>\n",
              "    <tr>\n",
              "      <th></th>\n",
              "      <td>7</td>\n",
              "      <td>James</td>\n",
              "      <td>24</td>\n",
              "      <td>Houston</td>\n",
              "      <td>10000.0</td>\n",
              "    </tr>\n",
              "    <tr>\n",
              "      <th></th>\n",
              "      <td>8</td>\n",
              "      <td>Paul</td>\n",
              "      <td>24</td>\n",
              "      <td>Houston</td>\n",
              "      <td>20000.0</td>\n",
              "    </tr>\n",
              "    <tr>\n",
              "      <th></th>\n",
              "      <td>9</td>\n",
              "      <td>James</td>\n",
              "      <td>44</td>\n",
              "      <td>Norway</td>\n",
              "      <td>5000.0</td>\n",
              "    </tr>\n",
              "  </tbody>\n",
              "</table>\n",
              "</div>"
            ],
            "text/plain": [
              "  ID   NAME  AGE     ADDRESS   SALARY\n",
              "   1   Paul   32  California  25000.0\n",
              "   3  Teddy   23      Norway  20000.0\n",
              "   4   Mark   25  Rich-Mond   65000.0\n",
              "   5  David   27       Texas  85000.0\n",
              "   6    Kim   22  South-Hall  45000.0\n",
              "   7  James   24     Houston  10000.0\n",
              "   8   Paul   24     Houston  20000.0\n",
              "   9  James   44      Norway   5000.0"
            ]
          },
          "execution_count": 73,
          "metadata": {},
          "output_type": "execute_result"
        }
      ],
      "source": [
        "conn = sqlite3.connect('test.db')\n",
        "\n",
        "cursor = conn.execute(\"SELECT * FROM COMPANY_BKP\")\n",
        "df = get_data(cursor)\n",
        "\n",
        "conn.close()\n",
        "print(\"Operation done successfully\")\n",
        "df"
      ]
    },
    {
      "cell_type": "markdown",
      "metadata": {
        "id": "UuH6ab0t5SNi"
      },
      "source": [
        "## **UPDATE**"
      ]
    },
    {
      "cell_type": "code",
      "execution_count": 74,
      "metadata": {
        "id": "AtgTgvLx5Xex"
      },
      "outputs": [
        {
          "name": "stdout",
          "output_type": "stream",
          "text": [
            "Records created successfully\n"
          ]
        }
      ],
      "source": [
        "conn = sqlite3.connect('test.db')\n",
        "\n",
        "with conn:\n",
        "\tcursor = conn.execute('''UPDATE COMPANY\n",
        "\t SET SALARY = SALARY * 0.50\n",
        "\t WHERE AGE IN (SELECT AGE FROM COMPANY_BKP\n",
        "\t\t\tWHERE AGE >= 27 )''')\n",
        "\n",
        "conn.close()\n",
        "print(\"Records created successfully\")"
      ]
    },
    {
      "cell_type": "code",
      "execution_count": 75,
      "metadata": {
        "id": "Cn8rIYEV5b8B"
      },
      "outputs": [
        {
          "name": "stdout",
          "output_type": "stream",
          "text": [
            "Operation done successfully\n"
          ]
        },
        {
          "data": {
            "text/html": [
              "<div>\n",
              "<style scoped>\n",
              "    .dataframe tbody tr th:only-of-type {\n",
              "        vertical-align: middle;\n",
              "    }\n",
              "\n",
              "    .dataframe tbody tr th {\n",
              "        vertical-align: top;\n",
              "    }\n",
              "\n",
              "    .dataframe thead th {\n",
              "        text-align: right;\n",
              "    }\n",
              "</style>\n",
              "<table border=\"1\" class=\"dataframe\">\n",
              "  <thead>\n",
              "    <tr style=\"text-align: right;\">\n",
              "      <th></th>\n",
              "      <th>ID</th>\n",
              "      <th>NAME</th>\n",
              "      <th>AGE</th>\n",
              "      <th>ADDRESS</th>\n",
              "      <th>SALARY</th>\n",
              "    </tr>\n",
              "  </thead>\n",
              "  <tbody>\n",
              "    <tr>\n",
              "      <th></th>\n",
              "      <td>1</td>\n",
              "      <td>Paul</td>\n",
              "      <td>32</td>\n",
              "      <td>California</td>\n",
              "      <td>25000.0</td>\n",
              "    </tr>\n",
              "    <tr>\n",
              "      <th></th>\n",
              "      <td>3</td>\n",
              "      <td>Teddy</td>\n",
              "      <td>23</td>\n",
              "      <td>Norway</td>\n",
              "      <td>20000.0</td>\n",
              "    </tr>\n",
              "    <tr>\n",
              "      <th></th>\n",
              "      <td>4</td>\n",
              "      <td>Mark</td>\n",
              "      <td>25</td>\n",
              "      <td>Rich-Mond</td>\n",
              "      <td>65000.0</td>\n",
              "    </tr>\n",
              "    <tr>\n",
              "      <th></th>\n",
              "      <td>5</td>\n",
              "      <td>David</td>\n",
              "      <td>27</td>\n",
              "      <td>Texas</td>\n",
              "      <td>85000.0</td>\n",
              "    </tr>\n",
              "    <tr>\n",
              "      <th></th>\n",
              "      <td>6</td>\n",
              "      <td>Kim</td>\n",
              "      <td>22</td>\n",
              "      <td>South-Hall</td>\n",
              "      <td>45000.0</td>\n",
              "    </tr>\n",
              "    <tr>\n",
              "      <th></th>\n",
              "      <td>7</td>\n",
              "      <td>James</td>\n",
              "      <td>24</td>\n",
              "      <td>Houston</td>\n",
              "      <td>10000.0</td>\n",
              "    </tr>\n",
              "    <tr>\n",
              "      <th></th>\n",
              "      <td>8</td>\n",
              "      <td>Paul</td>\n",
              "      <td>24</td>\n",
              "      <td>Houston</td>\n",
              "      <td>20000.0</td>\n",
              "    </tr>\n",
              "    <tr>\n",
              "      <th></th>\n",
              "      <td>9</td>\n",
              "      <td>James</td>\n",
              "      <td>44</td>\n",
              "      <td>Norway</td>\n",
              "      <td>5000.0</td>\n",
              "    </tr>\n",
              "  </tbody>\n",
              "</table>\n",
              "</div>"
            ],
            "text/plain": [
              "  ID   NAME  AGE     ADDRESS   SALARY\n",
              "   1   Paul   32  California  25000.0\n",
              "   3  Teddy   23      Norway  20000.0\n",
              "   4   Mark   25  Rich-Mond   65000.0\n",
              "   5  David   27       Texas  85000.0\n",
              "   6    Kim   22  South-Hall  45000.0\n",
              "   7  James   24     Houston  10000.0\n",
              "   8   Paul   24     Houston  20000.0\n",
              "   9  James   44      Norway   5000.0"
            ]
          },
          "execution_count": 75,
          "metadata": {},
          "output_type": "execute_result"
        }
      ],
      "source": [
        "conn = sqlite3.connect('test.db')\n",
        "\n",
        "cursor = conn.execute(\"SELECT * FROM COMPANY_BKP\")\n",
        "df = get_data(cursor)\n",
        "\n",
        "conn.close()\n",
        "print(\"Operation done successfully\")\n",
        "df"
      ]
    },
    {
      "cell_type": "code",
      "execution_count": 76,
      "metadata": {
        "id": "J4wE22G9GXyR"
      },
      "outputs": [
        {
          "name": "stdout",
          "output_type": "stream",
          "text": [
            "Operation done successfully\n"
          ]
        },
        {
          "data": {
            "text/html": [
              "<div>\n",
              "<style scoped>\n",
              "    .dataframe tbody tr th:only-of-type {\n",
              "        vertical-align: middle;\n",
              "    }\n",
              "\n",
              "    .dataframe tbody tr th {\n",
              "        vertical-align: top;\n",
              "    }\n",
              "\n",
              "    .dataframe thead th {\n",
              "        text-align: right;\n",
              "    }\n",
              "</style>\n",
              "<table border=\"1\" class=\"dataframe\">\n",
              "  <thead>\n",
              "    <tr style=\"text-align: right;\">\n",
              "      <th></th>\n",
              "      <th>ID</th>\n",
              "      <th>NAME</th>\n",
              "      <th>AGE</th>\n",
              "      <th>ADDRESS</th>\n",
              "      <th>SALARY</th>\n",
              "    </tr>\n",
              "  </thead>\n",
              "  <tbody>\n",
              "    <tr>\n",
              "      <th></th>\n",
              "      <td>1</td>\n",
              "      <td>Paul</td>\n",
              "      <td>32</td>\n",
              "      <td>California</td>\n",
              "      <td>12500.0</td>\n",
              "    </tr>\n",
              "    <tr>\n",
              "      <th></th>\n",
              "      <td>3</td>\n",
              "      <td>Teddy</td>\n",
              "      <td>23</td>\n",
              "      <td>Norway</td>\n",
              "      <td>20000.0</td>\n",
              "    </tr>\n",
              "    <tr>\n",
              "      <th></th>\n",
              "      <td>4</td>\n",
              "      <td>Mark</td>\n",
              "      <td>25</td>\n",
              "      <td>Rich-Mond</td>\n",
              "      <td>65000.0</td>\n",
              "    </tr>\n",
              "    <tr>\n",
              "      <th></th>\n",
              "      <td>5</td>\n",
              "      <td>David</td>\n",
              "      <td>27</td>\n",
              "      <td>Texas</td>\n",
              "      <td>42500.0</td>\n",
              "    </tr>\n",
              "    <tr>\n",
              "      <th></th>\n",
              "      <td>6</td>\n",
              "      <td>Kim</td>\n",
              "      <td>22</td>\n",
              "      <td>South-Hall</td>\n",
              "      <td>45000.0</td>\n",
              "    </tr>\n",
              "    <tr>\n",
              "      <th></th>\n",
              "      <td>7</td>\n",
              "      <td>James</td>\n",
              "      <td>24</td>\n",
              "      <td>Houston</td>\n",
              "      <td>10000.0</td>\n",
              "    </tr>\n",
              "    <tr>\n",
              "      <th></th>\n",
              "      <td>8</td>\n",
              "      <td>Paul</td>\n",
              "      <td>24</td>\n",
              "      <td>Houston</td>\n",
              "      <td>20000.0</td>\n",
              "    </tr>\n",
              "    <tr>\n",
              "      <th></th>\n",
              "      <td>9</td>\n",
              "      <td>James</td>\n",
              "      <td>44</td>\n",
              "      <td>Norway</td>\n",
              "      <td>2500.0</td>\n",
              "    </tr>\n",
              "  </tbody>\n",
              "</table>\n",
              "</div>"
            ],
            "text/plain": [
              "  ID   NAME  AGE     ADDRESS   SALARY\n",
              "   1   Paul   32  California  12500.0\n",
              "   3  Teddy   23      Norway  20000.0\n",
              "   4   Mark   25  Rich-Mond   65000.0\n",
              "   5  David   27       Texas  42500.0\n",
              "   6    Kim   22  South-Hall  45000.0\n",
              "   7  James   24     Houston  10000.0\n",
              "   8   Paul   24     Houston  20000.0\n",
              "   9  James   44      Norway   2500.0"
            ]
          },
          "execution_count": 76,
          "metadata": {},
          "output_type": "execute_result"
        }
      ],
      "source": [
        "conn = sqlite3.connect('test.db')\n",
        "\n",
        "cursor = conn.execute(\"SELECT * FROM COMPANY\")\n",
        "df = get_data(cursor)\n",
        "\n",
        "conn.close()\n",
        "print(\"Operation done successfully\")\n",
        "df"
      ]
    },
    {
      "cell_type": "markdown",
      "metadata": {
        "id": "vCsV7HpY5fbg"
      },
      "source": [
        "## **DELETE**"
      ]
    },
    {
      "cell_type": "code",
      "execution_count": 77,
      "metadata": {
        "id": "vxbVtiO55h5x"
      },
      "outputs": [
        {
          "name": "stdout",
          "output_type": "stream",
          "text": [
            "Records created successfully\n"
          ]
        },
        {
          "data": {
            "text/html": [
              "<div>\n",
              "<style scoped>\n",
              "    .dataframe tbody tr th:only-of-type {\n",
              "        vertical-align: middle;\n",
              "    }\n",
              "\n",
              "    .dataframe tbody tr th {\n",
              "        vertical-align: top;\n",
              "    }\n",
              "\n",
              "    .dataframe thead th {\n",
              "        text-align: right;\n",
              "    }\n",
              "</style>\n",
              "<table border=\"1\" class=\"dataframe\">\n",
              "  <thead>\n",
              "    <tr style=\"text-align: right;\">\n",
              "      <th></th>\n",
              "      <th>ID</th>\n",
              "      <th>NAME</th>\n",
              "      <th>AGE</th>\n",
              "      <th>ADDRESS</th>\n",
              "      <th>SALARY</th>\n",
              "    </tr>\n",
              "  </thead>\n",
              "  <tbody>\n",
              "    <tr>\n",
              "      <th></th>\n",
              "      <td>3</td>\n",
              "      <td>Teddy</td>\n",
              "      <td>23</td>\n",
              "      <td>Norway</td>\n",
              "      <td>20000.0</td>\n",
              "    </tr>\n",
              "    <tr>\n",
              "      <th></th>\n",
              "      <td>4</td>\n",
              "      <td>Mark</td>\n",
              "      <td>25</td>\n",
              "      <td>Rich-Mond</td>\n",
              "      <td>65000.0</td>\n",
              "    </tr>\n",
              "    <tr>\n",
              "      <th></th>\n",
              "      <td>5</td>\n",
              "      <td>David</td>\n",
              "      <td>27</td>\n",
              "      <td>Texas</td>\n",
              "      <td>42500.0</td>\n",
              "    </tr>\n",
              "    <tr>\n",
              "      <th></th>\n",
              "      <td>6</td>\n",
              "      <td>Kim</td>\n",
              "      <td>22</td>\n",
              "      <td>South-Hall</td>\n",
              "      <td>45000.0</td>\n",
              "    </tr>\n",
              "    <tr>\n",
              "      <th></th>\n",
              "      <td>7</td>\n",
              "      <td>James</td>\n",
              "      <td>24</td>\n",
              "      <td>Houston</td>\n",
              "      <td>10000.0</td>\n",
              "    </tr>\n",
              "    <tr>\n",
              "      <th></th>\n",
              "      <td>8</td>\n",
              "      <td>Paul</td>\n",
              "      <td>24</td>\n",
              "      <td>Houston</td>\n",
              "      <td>20000.0</td>\n",
              "    </tr>\n",
              "  </tbody>\n",
              "</table>\n",
              "</div>"
            ],
            "text/plain": [
              "  ID   NAME  AGE     ADDRESS   SALARY\n",
              "   3  Teddy   23      Norway  20000.0\n",
              "   4   Mark   25  Rich-Mond   65000.0\n",
              "   5  David   27       Texas  42500.0\n",
              "   6    Kim   22  South-Hall  45000.0\n",
              "   7  James   24     Houston  10000.0\n",
              "   8   Paul   24     Houston  20000.0"
            ]
          },
          "execution_count": 77,
          "metadata": {},
          "output_type": "execute_result"
        }
      ],
      "source": [
        "conn = sqlite3.connect('test.db')\n",
        "\n",
        "with conn:\n",
        "\tcursor = conn.execute('''DELETE FROM COMPANY\n",
        "\t WHERE AGE IN (SELECT AGE FROM COMPANY_BKP\n",
        "\t WHERE AGE > 27 )''')\n",
        "\n",
        "cursor = conn.execute(\"SELECT * FROM COMPANY\")\n",
        "df = get_data(cursor)\n",
        "conn.close()\n",
        "print(\"Records created successfully\")\n",
        "df"
      ]
    },
    {
      "cell_type": "code",
      "execution_count": 78,
      "metadata": {
        "id": "u8pEIHHLGtH7"
      },
      "outputs": [
        {
          "name": "stdout",
          "output_type": "stream",
          "text": [
            "Operation done successfully\n"
          ]
        },
        {
          "data": {
            "text/html": [
              "<div>\n",
              "<style scoped>\n",
              "    .dataframe tbody tr th:only-of-type {\n",
              "        vertical-align: middle;\n",
              "    }\n",
              "\n",
              "    .dataframe tbody tr th {\n",
              "        vertical-align: top;\n",
              "    }\n",
              "\n",
              "    .dataframe thead th {\n",
              "        text-align: right;\n",
              "    }\n",
              "</style>\n",
              "<table border=\"1\" class=\"dataframe\">\n",
              "  <thead>\n",
              "    <tr style=\"text-align: right;\">\n",
              "      <th></th>\n",
              "      <th>ID</th>\n",
              "      <th>NAME</th>\n",
              "      <th>AGE</th>\n",
              "      <th>ADDRESS</th>\n",
              "      <th>SALARY</th>\n",
              "    </tr>\n",
              "  </thead>\n",
              "  <tbody>\n",
              "    <tr>\n",
              "      <th></th>\n",
              "      <td>3</td>\n",
              "      <td>Teddy</td>\n",
              "      <td>23</td>\n",
              "      <td>Norway</td>\n",
              "      <td>20000.0</td>\n",
              "    </tr>\n",
              "    <tr>\n",
              "      <th></th>\n",
              "      <td>4</td>\n",
              "      <td>Mark</td>\n",
              "      <td>25</td>\n",
              "      <td>Rich-Mond</td>\n",
              "      <td>65000.0</td>\n",
              "    </tr>\n",
              "    <tr>\n",
              "      <th></th>\n",
              "      <td>5</td>\n",
              "      <td>David</td>\n",
              "      <td>27</td>\n",
              "      <td>Texas</td>\n",
              "      <td>42500.0</td>\n",
              "    </tr>\n",
              "    <tr>\n",
              "      <th></th>\n",
              "      <td>6</td>\n",
              "      <td>Kim</td>\n",
              "      <td>22</td>\n",
              "      <td>South-Hall</td>\n",
              "      <td>45000.0</td>\n",
              "    </tr>\n",
              "    <tr>\n",
              "      <th></th>\n",
              "      <td>7</td>\n",
              "      <td>James</td>\n",
              "      <td>24</td>\n",
              "      <td>Houston</td>\n",
              "      <td>10000.0</td>\n",
              "    </tr>\n",
              "    <tr>\n",
              "      <th></th>\n",
              "      <td>8</td>\n",
              "      <td>Paul</td>\n",
              "      <td>24</td>\n",
              "      <td>Houston</td>\n",
              "      <td>20000.0</td>\n",
              "    </tr>\n",
              "  </tbody>\n",
              "</table>\n",
              "</div>"
            ],
            "text/plain": [
              "  ID   NAME  AGE     ADDRESS   SALARY\n",
              "   3  Teddy   23      Norway  20000.0\n",
              "   4   Mark   25  Rich-Mond   65000.0\n",
              "   5  David   27       Texas  42500.0\n",
              "   6    Kim   22  South-Hall  45000.0\n",
              "   7  James   24     Houston  10000.0\n",
              "   8   Paul   24     Houston  20000.0"
            ]
          },
          "execution_count": 78,
          "metadata": {},
          "output_type": "execute_result"
        }
      ],
      "source": [
        "conn = sqlite3.connect('test.db')\n",
        "\n",
        "cursor = conn.execute(\"SELECT * FROM COMPANY\")\n",
        "df = get_data(cursor)\n",
        "\n",
        "conn.close()\n",
        "print(\"Operation done successfully\")\n",
        "df"
      ]
    },
    {
      "cell_type": "markdown",
      "metadata": {
        "id": "DrlYes-_5sw6"
      },
      "source": [
        "# **การสร้าง INDEX**"
      ]
    },
    {
      "cell_type": "code",
      "execution_count": 79,
      "metadata": {
        "id": "xNgfDyjt5wMB"
      },
      "outputs": [
        {
          "name": "stdout",
          "output_type": "stream",
          "text": [
            "Operation done successfully\n"
          ]
        }
      ],
      "source": [
        "conn = sqlite3.connect('test.db')\n",
        "\n",
        "with conn:\n",
        "\tcursor = conn.execute(\"CREATE INDEX salary_index ON COMPANY (salary)\")\n",
        "\n",
        "conn.close()\n",
        "print(\"Operation done successfully\")"
      ]
    },
    {
      "cell_type": "markdown",
      "metadata": {
        "id": "SdZnkXbn5ziR"
      },
      "source": [
        "**Seach by index**"
      ]
    },
    {
      "cell_type": "code",
      "execution_count": 80,
      "metadata": {
        "id": "OXC0AVxT53Kx"
      },
      "outputs": [
        {
          "name": "stdout",
          "output_type": "stream",
          "text": [
            "Operation done successfully\n"
          ]
        },
        {
          "data": {
            "text/html": [
              "<div>\n",
              "<style scoped>\n",
              "    .dataframe tbody tr th:only-of-type {\n",
              "        vertical-align: middle;\n",
              "    }\n",
              "\n",
              "    .dataframe tbody tr th {\n",
              "        vertical-align: top;\n",
              "    }\n",
              "\n",
              "    .dataframe thead th {\n",
              "        text-align: right;\n",
              "    }\n",
              "</style>\n",
              "<table border=\"1\" class=\"dataframe\">\n",
              "  <thead>\n",
              "    <tr style=\"text-align: right;\">\n",
              "      <th></th>\n",
              "      <th>type</th>\n",
              "      <th>name</th>\n",
              "      <th>tbl_name</th>\n",
              "      <th>rootpage</th>\n",
              "      <th>sql</th>\n",
              "    </tr>\n",
              "  </thead>\n",
              "  <tbody>\n",
              "    <tr>\n",
              "      <th></th>\n",
              "      <td>index</td>\n",
              "      <td>sqlite_autoindex_DEPARTMENT_1</td>\n",
              "      <td>DEPARTMENT</td>\n",
              "      <td>5</td>\n",
              "      <td>None</td>\n",
              "    </tr>\n",
              "    <tr>\n",
              "      <th></th>\n",
              "      <td>index</td>\n",
              "      <td>sqlite_autoindex_COMPANY_BKP_1</td>\n",
              "      <td>COMPANY_BKP</td>\n",
              "      <td>7</td>\n",
              "      <td>None</td>\n",
              "    </tr>\n",
              "    <tr>\n",
              "      <th></th>\n",
              "      <td>index</td>\n",
              "      <td>salary_index</td>\n",
              "      <td>COMPANY</td>\n",
              "      <td>8</td>\n",
              "      <td>CREATE INDEX salary_index ON COMPANY (salary)</td>\n",
              "    </tr>\n",
              "  </tbody>\n",
              "</table>\n",
              "</div>"
            ],
            "text/plain": [
              "   type                            name     tbl_name  rootpage  \\\n",
              "  index   sqlite_autoindex_DEPARTMENT_1   DEPARTMENT         5   \n",
              "  index  sqlite_autoindex_COMPANY_BKP_1  COMPANY_BKP         7   \n",
              "  index                    salary_index      COMPANY         8   \n",
              "\n",
              "                                            sql  \n",
              "                                           None  \n",
              "                                           None  \n",
              "  CREATE INDEX salary_index ON COMPANY (salary)  "
            ]
          },
          "execution_count": 80,
          "metadata": {},
          "output_type": "execute_result"
        }
      ],
      "source": [
        "conn = sqlite3.connect('test.db')\n",
        "\n",
        "cursor = conn.execute(\"SELECT * FROM sqlite_master WHERE type = 'index'\")\n",
        "df = get_data(cursor)\n",
        "\n",
        "conn.close()\n",
        "print(\"Operation done successfully\")\n",
        "df"
      ]
    },
    {
      "cell_type": "markdown",
      "metadata": {
        "id": "y0bI87zk56nc"
      },
      "source": [
        "**Select ร่วมกับ index**"
      ]
    },
    {
      "cell_type": "code",
      "execution_count": 81,
      "metadata": {
        "id": "Nx4OOL686AOx"
      },
      "outputs": [
        {
          "name": "stdout",
          "output_type": "stream",
          "text": [
            "Operation done successfully\n"
          ]
        },
        {
          "data": {
            "text/html": [
              "<div>\n",
              "<style scoped>\n",
              "    .dataframe tbody tr th:only-of-type {\n",
              "        vertical-align: middle;\n",
              "    }\n",
              "\n",
              "    .dataframe tbody tr th {\n",
              "        vertical-align: top;\n",
              "    }\n",
              "\n",
              "    .dataframe thead th {\n",
              "        text-align: right;\n",
              "    }\n",
              "</style>\n",
              "<table border=\"1\" class=\"dataframe\">\n",
              "  <thead>\n",
              "    <tr style=\"text-align: right;\">\n",
              "      <th></th>\n",
              "      <th>ID</th>\n",
              "      <th>NAME</th>\n",
              "      <th>AGE</th>\n",
              "      <th>ADDRESS</th>\n",
              "      <th>SALARY</th>\n",
              "    </tr>\n",
              "  </thead>\n",
              "  <tbody>\n",
              "    <tr>\n",
              "      <th></th>\n",
              "      <td>7</td>\n",
              "      <td>James</td>\n",
              "      <td>24</td>\n",
              "      <td>Houston</td>\n",
              "      <td>10000.0</td>\n",
              "    </tr>\n",
              "    <tr>\n",
              "      <th></th>\n",
              "      <td>3</td>\n",
              "      <td>Teddy</td>\n",
              "      <td>23</td>\n",
              "      <td>Norway</td>\n",
              "      <td>20000.0</td>\n",
              "    </tr>\n",
              "    <tr>\n",
              "      <th></th>\n",
              "      <td>8</td>\n",
              "      <td>Paul</td>\n",
              "      <td>24</td>\n",
              "      <td>Houston</td>\n",
              "      <td>20000.0</td>\n",
              "    </tr>\n",
              "    <tr>\n",
              "      <th></th>\n",
              "      <td>5</td>\n",
              "      <td>David</td>\n",
              "      <td>27</td>\n",
              "      <td>Texas</td>\n",
              "      <td>42500.0</td>\n",
              "    </tr>\n",
              "    <tr>\n",
              "      <th></th>\n",
              "      <td>6</td>\n",
              "      <td>Kim</td>\n",
              "      <td>22</td>\n",
              "      <td>South-Hall</td>\n",
              "      <td>45000.0</td>\n",
              "    </tr>\n",
              "    <tr>\n",
              "      <th></th>\n",
              "      <td>4</td>\n",
              "      <td>Mark</td>\n",
              "      <td>25</td>\n",
              "      <td>Rich-Mond</td>\n",
              "      <td>65000.0</td>\n",
              "    </tr>\n",
              "  </tbody>\n",
              "</table>\n",
              "</div>"
            ],
            "text/plain": [
              "  ID   NAME  AGE     ADDRESS   SALARY\n",
              "   7  James   24     Houston  10000.0\n",
              "   3  Teddy   23      Norway  20000.0\n",
              "   8   Paul   24     Houston  20000.0\n",
              "   5  David   27       Texas  42500.0\n",
              "   6    Kim   22  South-Hall  45000.0\n",
              "   4   Mark   25  Rich-Mond   65000.0"
            ]
          },
          "execution_count": 81,
          "metadata": {},
          "output_type": "execute_result"
        }
      ],
      "source": [
        "conn = sqlite3.connect('test.db')\n",
        "\n",
        "cursor = conn.execute(\"SELECT * FROM COMPANY INDEXED BY salary_index \\\n",
        "\t\t\t\t\t   WHERE salary > 5000\")\n",
        "df = get_data(cursor)\n",
        "\n",
        "conn.close()\n",
        "print(\"Operation done successfully\")\n",
        "df"
      ]
    },
    {
      "cell_type": "markdown",
      "metadata": {
        "id": "tpNfAAiS6Dr5"
      },
      "source": [
        "**ลบ index**"
      ]
    },
    {
      "cell_type": "code",
      "execution_count": 82,
      "metadata": {
        "id": "xKv4yD1a6GKR"
      },
      "outputs": [
        {
          "name": "stdout",
          "output_type": "stream",
          "text": [
            "Operation done successfully\n"
          ]
        }
      ],
      "source": [
        "conn = sqlite3.connect('test.db')\n",
        "\n",
        "with conn:\n",
        "\tcursor = conn.execute(\"DROP INDEX salary_index\")\n",
        "\n",
        "conn.close()\n",
        "print(\"Operation done successfully\")"
      ]
    },
    {
      "cell_type": "markdown",
      "metadata": {
        "id": "9_gNI6Nw6I1J"
      },
      "source": [
        "# **Views**"
      ]
    },
    {
      "cell_type": "markdown",
      "metadata": {
        "id": "r7TsspT36MCR"
      },
      "source": [
        "## การสร้าง View"
      ]
    },
    {
      "cell_type": "code",
      "execution_count": 83,
      "metadata": {
        "id": "06scUl1d6Kic"
      },
      "outputs": [
        {
          "name": "stdout",
          "output_type": "stream",
          "text": [
            "View created successfully\n"
          ]
        }
      ],
      "source": [
        "conn = sqlite3.connect('test.db')\n",
        "\n",
        "with conn:\n",
        "\tconn.execute('''CREATE VIEW COMPANY_VIEW AS\n",
        "\t\t\t\t\t\t\t\tSELECT ID, NAME, AGE\n",
        "\t\t\t\t\t\t\t\tFROM  COMPANY;''')\n",
        "\n",
        "conn.close()\n",
        "print(\"View created successfully\")"
      ]
    },
    {
      "cell_type": "markdown",
      "metadata": {
        "id": "AtQrWX0U6WPJ"
      },
      "source": [
        "# การแสดง View"
      ]
    },
    {
      "cell_type": "code",
      "execution_count": 84,
      "metadata": {
        "id": "IGkamhIO6bn5"
      },
      "outputs": [
        {
          "name": "stdout",
          "output_type": "stream",
          "text": [
            "Operation done successfully\n"
          ]
        },
        {
          "data": {
            "text/html": [
              "<div>\n",
              "<style scoped>\n",
              "    .dataframe tbody tr th:only-of-type {\n",
              "        vertical-align: middle;\n",
              "    }\n",
              "\n",
              "    .dataframe tbody tr th {\n",
              "        vertical-align: top;\n",
              "    }\n",
              "\n",
              "    .dataframe thead th {\n",
              "        text-align: right;\n",
              "    }\n",
              "</style>\n",
              "<table border=\"1\" class=\"dataframe\">\n",
              "  <thead>\n",
              "    <tr style=\"text-align: right;\">\n",
              "      <th></th>\n",
              "      <th>ID</th>\n",
              "      <th>NAME</th>\n",
              "      <th>AGE</th>\n",
              "    </tr>\n",
              "  </thead>\n",
              "  <tbody>\n",
              "    <tr>\n",
              "      <th></th>\n",
              "      <td>3</td>\n",
              "      <td>Teddy</td>\n",
              "      <td>23</td>\n",
              "    </tr>\n",
              "    <tr>\n",
              "      <th></th>\n",
              "      <td>4</td>\n",
              "      <td>Mark</td>\n",
              "      <td>25</td>\n",
              "    </tr>\n",
              "    <tr>\n",
              "      <th></th>\n",
              "      <td>5</td>\n",
              "      <td>David</td>\n",
              "      <td>27</td>\n",
              "    </tr>\n",
              "    <tr>\n",
              "      <th></th>\n",
              "      <td>6</td>\n",
              "      <td>Kim</td>\n",
              "      <td>22</td>\n",
              "    </tr>\n",
              "    <tr>\n",
              "      <th></th>\n",
              "      <td>7</td>\n",
              "      <td>James</td>\n",
              "      <td>24</td>\n",
              "    </tr>\n",
              "    <tr>\n",
              "      <th></th>\n",
              "      <td>8</td>\n",
              "      <td>Paul</td>\n",
              "      <td>24</td>\n",
              "    </tr>\n",
              "  </tbody>\n",
              "</table>\n",
              "</div>"
            ],
            "text/plain": [
              "  ID   NAME  AGE\n",
              "   3  Teddy   23\n",
              "   4   Mark   25\n",
              "   5  David   27\n",
              "   6    Kim   22\n",
              "   7  James   24\n",
              "   8   Paul   24"
            ]
          },
          "execution_count": 84,
          "metadata": {},
          "output_type": "execute_result"
        }
      ],
      "source": [
        "conn = sqlite3.connect('test.db')\n",
        "\n",
        "cursor = conn.execute(\"SELECT * FROM COMPANY_VIEW\")\n",
        "df = get_data(cursor)\n",
        "\n",
        "conn.close()\n",
        "print(\"Operation done successfully\")\n",
        "df"
      ]
    },
    {
      "cell_type": "markdown",
      "metadata": {
        "id": "RiYt7PHU6e_0"
      },
      "source": [
        "# การลบ View"
      ]
    },
    {
      "cell_type": "code",
      "execution_count": 85,
      "metadata": {
        "id": "QYmoGELX6ibp"
      },
      "outputs": [
        {
          "name": "stdout",
          "output_type": "stream",
          "text": [
            "Operation done successfully\n"
          ]
        }
      ],
      "source": [
        "conn = sqlite3.connect('test.db')\n",
        "\n",
        "with conn:\n",
        "\tcursor = conn.execute(\"DROP VIEW COMPANY_VIEW\")\n",
        "\n",
        "conn.close()\n",
        "print(\"Operation done successfully\")"
      ]
    },
    {
      "cell_type": "markdown",
      "metadata": {
        "id": "ur2iaP7t6pYz"
      },
      "source": [
        "# **ฟังก์ชัน (รองรับ SQLite)**\n",
        "\n",
        "ฟังก์ชัน count นับจำนวนแถวของ Table"
      ]
    },
    {
      "cell_type": "code",
      "execution_count": 86,
      "metadata": {
        "id": "IfKOnEF564zy"
      },
      "outputs": [
        {
          "name": "stdout",
          "output_type": "stream",
          "text": [
            "Operation done successfully\n"
          ]
        },
        {
          "data": {
            "text/html": [
              "<div>\n",
              "<style scoped>\n",
              "    .dataframe tbody tr th:only-of-type {\n",
              "        vertical-align: middle;\n",
              "    }\n",
              "\n",
              "    .dataframe tbody tr th {\n",
              "        vertical-align: top;\n",
              "    }\n",
              "\n",
              "    .dataframe thead th {\n",
              "        text-align: right;\n",
              "    }\n",
              "</style>\n",
              "<table border=\"1\" class=\"dataframe\">\n",
              "  <thead>\n",
              "    <tr style=\"text-align: right;\">\n",
              "      <th></th>\n",
              "      <th>count(*)</th>\n",
              "    </tr>\n",
              "  </thead>\n",
              "  <tbody>\n",
              "    <tr>\n",
              "      <th></th>\n",
              "      <td>6</td>\n",
              "    </tr>\n",
              "  </tbody>\n",
              "</table>\n",
              "</div>"
            ],
            "text/plain": [
              "  count(*)\n",
              "         6"
            ]
          },
          "execution_count": 86,
          "metadata": {},
          "output_type": "execute_result"
        }
      ],
      "source": [
        "conn = sqlite3.connect('test.db')\n",
        "\n",
        "cursor = conn.execute(\"SELECT count(*) FROM COMPANY\")\n",
        "df = get_data(cursor)\n",
        "\n",
        "conn.close()\n",
        "print(\"Operation done successfully\")\n",
        "df"
      ]
    },
    {
      "cell_type": "markdown",
      "metadata": {
        "id": "x97m-kfQ67kB"
      },
      "source": [
        "ฟังก์ชัน max ให้ค่ามากสุดของคอลัมน์นั้น"
      ]
    },
    {
      "cell_type": "code",
      "execution_count": 87,
      "metadata": {
        "id": "c8nGu0Ru7ACL"
      },
      "outputs": [
        {
          "name": "stdout",
          "output_type": "stream",
          "text": [
            "Operation done successfully\n"
          ]
        },
        {
          "data": {
            "text/html": [
              "<div>\n",
              "<style scoped>\n",
              "    .dataframe tbody tr th:only-of-type {\n",
              "        vertical-align: middle;\n",
              "    }\n",
              "\n",
              "    .dataframe tbody tr th {\n",
              "        vertical-align: top;\n",
              "    }\n",
              "\n",
              "    .dataframe thead th {\n",
              "        text-align: right;\n",
              "    }\n",
              "</style>\n",
              "<table border=\"1\" class=\"dataframe\">\n",
              "  <thead>\n",
              "    <tr style=\"text-align: right;\">\n",
              "      <th></th>\n",
              "      <th>max(salary)</th>\n",
              "    </tr>\n",
              "  </thead>\n",
              "  <tbody>\n",
              "    <tr>\n",
              "      <th></th>\n",
              "      <td>65000.0</td>\n",
              "    </tr>\n",
              "  </tbody>\n",
              "</table>\n",
              "</div>"
            ],
            "text/plain": [
              "  max(salary)\n",
              "      65000.0"
            ]
          },
          "execution_count": 87,
          "metadata": {},
          "output_type": "execute_result"
        }
      ],
      "source": [
        "conn = sqlite3.connect('test.db')\n",
        "\n",
        "cursor = conn.execute(\"SELECT max(salary) FROM COMPANY\")\n",
        "df = get_data(cursor)\n",
        "\n",
        "conn.close()\n",
        "print(\"Operation done successfully\")\n",
        "df"
      ]
    },
    {
      "cell_type": "markdown",
      "metadata": {
        "id": "08Y8Hl7D7DRB"
      },
      "source": [
        "ฟังก์ชัน min ให้ค่าต่ำสุดของคอลัมน์นั้น"
      ]
    },
    {
      "cell_type": "code",
      "execution_count": 88,
      "metadata": {
        "id": "1ugRmeMB7HCi"
      },
      "outputs": [
        {
          "name": "stdout",
          "output_type": "stream",
          "text": [
            "Operation done successfully\n"
          ]
        },
        {
          "data": {
            "text/html": [
              "<div>\n",
              "<style scoped>\n",
              "    .dataframe tbody tr th:only-of-type {\n",
              "        vertical-align: middle;\n",
              "    }\n",
              "\n",
              "    .dataframe tbody tr th {\n",
              "        vertical-align: top;\n",
              "    }\n",
              "\n",
              "    .dataframe thead th {\n",
              "        text-align: right;\n",
              "    }\n",
              "</style>\n",
              "<table border=\"1\" class=\"dataframe\">\n",
              "  <thead>\n",
              "    <tr style=\"text-align: right;\">\n",
              "      <th></th>\n",
              "      <th>min(salary)</th>\n",
              "    </tr>\n",
              "  </thead>\n",
              "  <tbody>\n",
              "    <tr>\n",
              "      <th></th>\n",
              "      <td>10000.0</td>\n",
              "    </tr>\n",
              "  </tbody>\n",
              "</table>\n",
              "</div>"
            ],
            "text/plain": [
              "  min(salary)\n",
              "      10000.0"
            ]
          },
          "execution_count": 88,
          "metadata": {},
          "output_type": "execute_result"
        }
      ],
      "source": [
        "conn = sqlite3.connect('test.db')\n",
        "\n",
        "cursor = conn.execute(\"SELECT min(salary) FROM COMPANY\")\n",
        "df = get_data(cursor)\n",
        "\n",
        "conn.close()\n",
        "print(\"Operation done successfully\")\n",
        "df"
      ]
    },
    {
      "cell_type": "markdown",
      "metadata": {
        "id": "It8ZEcxM7JbZ"
      },
      "source": [
        "ฟังก์ชัน avg ให้ค่าเฉลี่ยของคอลัมน์นั้น"
      ]
    },
    {
      "cell_type": "code",
      "execution_count": 89,
      "metadata": {
        "id": "9FIV0tsl7NRQ"
      },
      "outputs": [
        {
          "name": "stdout",
          "output_type": "stream",
          "text": [
            "Operation done successfully\n"
          ]
        },
        {
          "data": {
            "text/html": [
              "<div>\n",
              "<style scoped>\n",
              "    .dataframe tbody tr th:only-of-type {\n",
              "        vertical-align: middle;\n",
              "    }\n",
              "\n",
              "    .dataframe tbody tr th {\n",
              "        vertical-align: top;\n",
              "    }\n",
              "\n",
              "    .dataframe thead th {\n",
              "        text-align: right;\n",
              "    }\n",
              "</style>\n",
              "<table border=\"1\" class=\"dataframe\">\n",
              "  <thead>\n",
              "    <tr style=\"text-align: right;\">\n",
              "      <th></th>\n",
              "      <th>avg(salary)</th>\n",
              "    </tr>\n",
              "  </thead>\n",
              "  <tbody>\n",
              "    <tr>\n",
              "      <th></th>\n",
              "      <td>33750.0</td>\n",
              "    </tr>\n",
              "  </tbody>\n",
              "</table>\n",
              "</div>"
            ],
            "text/plain": [
              "  avg(salary)\n",
              "      33750.0"
            ]
          },
          "execution_count": 89,
          "metadata": {},
          "output_type": "execute_result"
        }
      ],
      "source": [
        "conn = sqlite3.connect('test.db')\n",
        "\n",
        "cursor = conn.execute(\"SELECT avg(salary) FROM COMPANY\")\n",
        "df = get_data(cursor)\n",
        "\n",
        "conn.close()\n",
        "print(\"Operation done successfully\")\n",
        "df"
      ]
    },
    {
      "cell_type": "markdown",
      "metadata": {
        "id": "D5P0Ny-67PvJ"
      },
      "source": [
        "ฟังก์ชัน sum ให้ค่าผลรวมของคอลัมน์นั้น"
      ]
    },
    {
      "cell_type": "code",
      "execution_count": 90,
      "metadata": {
        "id": "EELTVfET7TI4"
      },
      "outputs": [
        {
          "name": "stdout",
          "output_type": "stream",
          "text": [
            "Operation done successfully\n"
          ]
        },
        {
          "data": {
            "text/html": [
              "<div>\n",
              "<style scoped>\n",
              "    .dataframe tbody tr th:only-of-type {\n",
              "        vertical-align: middle;\n",
              "    }\n",
              "\n",
              "    .dataframe tbody tr th {\n",
              "        vertical-align: top;\n",
              "    }\n",
              "\n",
              "    .dataframe thead th {\n",
              "        text-align: right;\n",
              "    }\n",
              "</style>\n",
              "<table border=\"1\" class=\"dataframe\">\n",
              "  <thead>\n",
              "    <tr style=\"text-align: right;\">\n",
              "      <th></th>\n",
              "      <th>sum(salary)</th>\n",
              "    </tr>\n",
              "  </thead>\n",
              "  <tbody>\n",
              "    <tr>\n",
              "      <th></th>\n",
              "      <td>202500.0</td>\n",
              "    </tr>\n",
              "  </tbody>\n",
              "</table>\n",
              "</div>"
            ],
            "text/plain": [
              "  sum(salary)\n",
              "     202500.0"
            ]
          },
          "execution_count": 90,
          "metadata": {},
          "output_type": "execute_result"
        }
      ],
      "source": [
        "conn = sqlite3.connect('test.db')\n",
        "\n",
        "cursor = conn.execute(\"SELECT sum(salary) FROM COMPANY\")\n",
        "df = get_data(cursor)\n",
        "\n",
        "conn.close()\n",
        "print(\"Operation done successfully\")\n",
        "df"
      ]
    },
    {
      "cell_type": "markdown",
      "metadata": {
        "id": "vrJD-e_Z9Jd8"
      },
      "source": [
        "ฟังก์ชัน random จะให้ค่าจำนวเต็มระหว่าง -9223372036854775808 กับ +9223372036854775807"
      ]
    },
    {
      "cell_type": "code",
      "execution_count": 117,
      "metadata": {
        "id": "_gMMSpe59NLA"
      },
      "outputs": [
        {
          "name": "stdout",
          "output_type": "stream",
          "text": [
            "Operation done successfully\n"
          ]
        },
        {
          "data": {
            "text/html": [
              "<div>\n",
              "<style scoped>\n",
              "    .dataframe tbody tr th:only-of-type {\n",
              "        vertical-align: middle;\n",
              "    }\n",
              "\n",
              "    .dataframe tbody tr th {\n",
              "        vertical-align: top;\n",
              "    }\n",
              "\n",
              "    .dataframe thead th {\n",
              "        text-align: right;\n",
              "    }\n",
              "</style>\n",
              "<table border=\"1\" class=\"dataframe\">\n",
              "  <thead>\n",
              "    <tr style=\"text-align: right;\">\n",
              "      <th></th>\n",
              "      <th>Random</th>\n",
              "    </tr>\n",
              "  </thead>\n",
              "  <tbody>\n",
              "    <tr>\n",
              "      <th></th>\n",
              "      <td>-8551607294400882937</td>\n",
              "    </tr>\n",
              "  </tbody>\n",
              "</table>\n",
              "</div>"
            ],
            "text/plain": [
              "               Random\n",
              " -8551607294400882937"
            ]
          },
          "execution_count": 117,
          "metadata": {},
          "output_type": "execute_result"
        }
      ],
      "source": [
        "conn = sqlite3.connect('test.db')\n",
        "\n",
        "cursor = conn.execute(\"SELECT random() AS Random\")\n",
        "df = get_data(cursor)\n",
        "\n",
        "conn.close()\n",
        "print(\"Operation done successfully\")\n",
        "df"
      ]
    },
    {
      "cell_type": "markdown",
      "metadata": {
        "id": "SXjOsPpR9Q8h"
      },
      "source": [
        "ฟังก์ชัน abs, upper, lower, length"
      ]
    },
    {
      "cell_type": "code",
      "execution_count": 92,
      "metadata": {
        "id": "9AHIpeCE9ZD2"
      },
      "outputs": [
        {
          "name": "stdout",
          "output_type": "stream",
          "text": [
            "Operation done successfully\n"
          ]
        },
        {
          "data": {
            "text/html": [
              "<div>\n",
              "<style scoped>\n",
              "    .dataframe tbody tr th:only-of-type {\n",
              "        vertical-align: middle;\n",
              "    }\n",
              "\n",
              "    .dataframe tbody tr th {\n",
              "        vertical-align: top;\n",
              "    }\n",
              "\n",
              "    .dataframe thead th {\n",
              "        text-align: right;\n",
              "    }\n",
              "</style>\n",
              "<table border=\"1\" class=\"dataframe\">\n",
              "  <thead>\n",
              "    <tr style=\"text-align: right;\">\n",
              "      <th></th>\n",
              "      <th>abs(5)</th>\n",
              "      <th>abs(-15)</th>\n",
              "      <th>abs(NULL)</th>\n",
              "      <th>abs(0)</th>\n",
              "      <th>abs('ABC')</th>\n",
              "    </tr>\n",
              "  </thead>\n",
              "  <tbody>\n",
              "    <tr>\n",
              "      <th></th>\n",
              "      <td>5</td>\n",
              "      <td>15</td>\n",
              "      <td>None</td>\n",
              "      <td>0</td>\n",
              "      <td>0.0</td>\n",
              "    </tr>\n",
              "  </tbody>\n",
              "</table>\n",
              "</div>"
            ],
            "text/plain": [
              "  abs(5)  abs(-15) abs(NULL)  abs(0)  abs('ABC')\n",
              "       5        15      None       0         0.0"
            ]
          },
          "execution_count": 92,
          "metadata": {},
          "output_type": "execute_result"
        }
      ],
      "source": [
        "conn = sqlite3.connect('test.db')\n",
        "\n",
        "cursor = conn.execute(\"SELECT abs(5), abs(-15), abs(NULL), abs(0), abs('ABC')\")\n",
        "df = get_data(cursor)\n",
        "\n",
        "conn.close()\n",
        "print(\"Operation done successfully\")\n",
        "df"
      ]
    },
    {
      "cell_type": "code",
      "execution_count": 93,
      "metadata": {
        "id": "M68s3ILC9fO_"
      },
      "outputs": [
        {
          "name": "stdout",
          "output_type": "stream",
          "text": [
            "Operation done successfully\n"
          ]
        },
        {
          "data": {
            "text/html": [
              "<div>\n",
              "<style scoped>\n",
              "    .dataframe tbody tr th:only-of-type {\n",
              "        vertical-align: middle;\n",
              "    }\n",
              "\n",
              "    .dataframe tbody tr th {\n",
              "        vertical-align: top;\n",
              "    }\n",
              "\n",
              "    .dataframe thead th {\n",
              "        text-align: right;\n",
              "    }\n",
              "</style>\n",
              "<table border=\"1\" class=\"dataframe\">\n",
              "  <thead>\n",
              "    <tr style=\"text-align: right;\">\n",
              "      <th></th>\n",
              "      <th>upper(name)</th>\n",
              "    </tr>\n",
              "  </thead>\n",
              "  <tbody>\n",
              "    <tr>\n",
              "      <th></th>\n",
              "      <td>TEDDY</td>\n",
              "    </tr>\n",
              "    <tr>\n",
              "      <th></th>\n",
              "      <td>MARK</td>\n",
              "    </tr>\n",
              "    <tr>\n",
              "      <th></th>\n",
              "      <td>DAVID</td>\n",
              "    </tr>\n",
              "    <tr>\n",
              "      <th></th>\n",
              "      <td>KIM</td>\n",
              "    </tr>\n",
              "    <tr>\n",
              "      <th></th>\n",
              "      <td>JAMES</td>\n",
              "    </tr>\n",
              "    <tr>\n",
              "      <th></th>\n",
              "      <td>PAUL</td>\n",
              "    </tr>\n",
              "  </tbody>\n",
              "</table>\n",
              "</div>"
            ],
            "text/plain": [
              " upper(name)\n",
              "       TEDDY\n",
              "        MARK\n",
              "       DAVID\n",
              "         KIM\n",
              "       JAMES\n",
              "        PAUL"
            ]
          },
          "execution_count": 93,
          "metadata": {},
          "output_type": "execute_result"
        }
      ],
      "source": [
        "conn = sqlite3.connect('test.db')\n",
        "\n",
        "cursor = conn.execute(\"SELECT upper(name) FROM COMPANY\") # Upper case\n",
        "df = get_data(cursor)\n",
        "\n",
        "conn.close()\n",
        "print(\"Operation done successfully\")\n",
        "df"
      ]
    },
    {
      "cell_type": "code",
      "execution_count": 94,
      "metadata": {
        "id": "N1GDseCF9iJP"
      },
      "outputs": [
        {
          "name": "stdout",
          "output_type": "stream",
          "text": [
            "Operation done successfully\n"
          ]
        },
        {
          "data": {
            "text/html": [
              "<div>\n",
              "<style scoped>\n",
              "    .dataframe tbody tr th:only-of-type {\n",
              "        vertical-align: middle;\n",
              "    }\n",
              "\n",
              "    .dataframe tbody tr th {\n",
              "        vertical-align: top;\n",
              "    }\n",
              "\n",
              "    .dataframe thead th {\n",
              "        text-align: right;\n",
              "    }\n",
              "</style>\n",
              "<table border=\"1\" class=\"dataframe\">\n",
              "  <thead>\n",
              "    <tr style=\"text-align: right;\">\n",
              "      <th></th>\n",
              "      <th>lower(name)</th>\n",
              "    </tr>\n",
              "  </thead>\n",
              "  <tbody>\n",
              "    <tr>\n",
              "      <th></th>\n",
              "      <td>teddy</td>\n",
              "    </tr>\n",
              "    <tr>\n",
              "      <th></th>\n",
              "      <td>mark</td>\n",
              "    </tr>\n",
              "    <tr>\n",
              "      <th></th>\n",
              "      <td>david</td>\n",
              "    </tr>\n",
              "    <tr>\n",
              "      <th></th>\n",
              "      <td>kim</td>\n",
              "    </tr>\n",
              "    <tr>\n",
              "      <th></th>\n",
              "      <td>james</td>\n",
              "    </tr>\n",
              "    <tr>\n",
              "      <th></th>\n",
              "      <td>paul</td>\n",
              "    </tr>\n",
              "  </tbody>\n",
              "</table>\n",
              "</div>"
            ],
            "text/plain": [
              " lower(name)\n",
              "       teddy\n",
              "        mark\n",
              "       david\n",
              "         kim\n",
              "       james\n",
              "        paul"
            ]
          },
          "execution_count": 94,
          "metadata": {},
          "output_type": "execute_result"
        }
      ],
      "source": [
        "conn = sqlite3.connect('test.db')\n",
        "\n",
        "cursor = conn.execute(\"SELECT lower(name) FROM COMPANY\") # Lower Case\n",
        "df = get_data(cursor)\n",
        "\n",
        "conn.close()\n",
        "print(\"Operation done successfully\")\n",
        "df"
      ]
    },
    {
      "cell_type": "code",
      "execution_count": 95,
      "metadata": {
        "id": "KF0lXf4m9mBX"
      },
      "outputs": [
        {
          "name": "stdout",
          "output_type": "stream",
          "text": [
            "Operation done successfully\n"
          ]
        },
        {
          "data": {
            "text/html": [
              "<div>\n",
              "<style scoped>\n",
              "    .dataframe tbody tr th:only-of-type {\n",
              "        vertical-align: middle;\n",
              "    }\n",
              "\n",
              "    .dataframe tbody tr th {\n",
              "        vertical-align: top;\n",
              "    }\n",
              "\n",
              "    .dataframe thead th {\n",
              "        text-align: right;\n",
              "    }\n",
              "</style>\n",
              "<table border=\"1\" class=\"dataframe\">\n",
              "  <thead>\n",
              "    <tr style=\"text-align: right;\">\n",
              "      <th></th>\n",
              "      <th>NAME</th>\n",
              "      <th>length(name)</th>\n",
              "    </tr>\n",
              "  </thead>\n",
              "  <tbody>\n",
              "    <tr>\n",
              "      <th></th>\n",
              "      <td>Teddy</td>\n",
              "      <td>5</td>\n",
              "    </tr>\n",
              "    <tr>\n",
              "      <th></th>\n",
              "      <td>Mark</td>\n",
              "      <td>4</td>\n",
              "    </tr>\n",
              "    <tr>\n",
              "      <th></th>\n",
              "      <td>David</td>\n",
              "      <td>5</td>\n",
              "    </tr>\n",
              "    <tr>\n",
              "      <th></th>\n",
              "      <td>Kim</td>\n",
              "      <td>3</td>\n",
              "    </tr>\n",
              "    <tr>\n",
              "      <th></th>\n",
              "      <td>James</td>\n",
              "      <td>5</td>\n",
              "    </tr>\n",
              "    <tr>\n",
              "      <th></th>\n",
              "      <td>Paul</td>\n",
              "      <td>4</td>\n",
              "    </tr>\n",
              "  </tbody>\n",
              "</table>\n",
              "</div>"
            ],
            "text/plain": [
              "   NAME  length(name)\n",
              "  Teddy             5\n",
              "   Mark             4\n",
              "  David             5\n",
              "    Kim             3\n",
              "  James             5\n",
              "   Paul             4"
            ]
          },
          "execution_count": 95,
          "metadata": {},
          "output_type": "execute_result"
        }
      ],
      "source": [
        "conn = sqlite3.connect('test.db')\n",
        "\n",
        "cursor = conn.execute(\"SELECT name, length(name) FROM COMPANY\")\n",
        "df = get_data(cursor)\n",
        "\n",
        "conn.close()\n",
        "print(\"Operation done successfully\")\n",
        "df"
      ]
    }
  ],
  "metadata": {
    "colab": {
      "provenance": []
    },
    "kernelspec": {
      "display_name": "Python 3",
      "name": "python3"
    },
    "language_info": {
      "codemirror_mode": {
        "name": "ipython",
        "version": 3
      },
      "file_extension": ".py",
      "mimetype": "text/x-python",
      "name": "python",
      "nbconvert_exporter": "python",
      "pygments_lexer": "ipython3",
      "version": "3.12.4"
    }
  },
  "nbformat": 4,
  "nbformat_minor": 0
}
