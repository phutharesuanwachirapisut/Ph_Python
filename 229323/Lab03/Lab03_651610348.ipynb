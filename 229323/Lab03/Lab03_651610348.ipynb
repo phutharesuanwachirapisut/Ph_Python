{
  "cells": [
    {
      "cell_type": "markdown",
      "metadata": {
        "id": "q6WUbMzDDBWt"
      },
      "source": [
        "# **โจทย์ Assignment03 การสร้างฐานข้อมูลและตาราง**\n",
        "ให้ทำการสร้างฐานข้อมูลชื่อ pokemon.db โดยประกอบด้วย 2 ตาราง ได้แก่\n",
        "\n",
        "\n",
        "\n",
        "1.   ตาราง CATCH_POKEMON ที่ 1 record ประกอบด้วย field ดังนี้\n",
        "     \n",
        "     **คีย์หลัก** ID ชนิดข้อมูลเป็น เลขจำนวนเต็ม แบบกำหนดค่าให้อัตโนมัติ\n",
        "\n",
        "     KIND   ชนิดข้อมูลเป็น ข้อความ ที่ไม่รับค่าว่าง\n",
        "\n",
        "     FOUND_NO  และ CAUGHT_NO ชนิดข้อมูลเป็น เลขจำนวนเต็ม ที่ไม่รับค่าว่าง\n",
        "             \n",
        "             \n",
        "2.   ตาราง FIND_POKEMON ที่ 1 record ประกอบด้วย field ดังนี้\n",
        "\n",
        "     **คีย์หลัก** ID ชนิดข้อมูลเป็น เลขจำนวนเต็ม แบบกำหนดค่าให้อัตโนมัติ\n",
        "\n",
        "     KIND   ชนิดข้อมูลเป็น ข้อความ ที่ไม่รับค่าว่าง\n",
        "\n",
        "     SCHOOL, PLAYGROUND และ SHOPPING_MALL ชนิดข้อมูลเป็น เลขจำนวนเต็ม ที่ไม่รับค่าว่าง"
      ]
    },
    {
      "cell_type": "markdown",
      "metadata": {
        "id": "vTDdKQRM36sv"
      },
      "source": [
        "## **เชื่อมต่อฐานข้อมูล pokemon.db(Connect Database)**"
      ]
    },
    {
      "cell_type": "code",
      "execution_count": 3,
      "metadata": {},
      "outputs": [],
      "source": [
        "# Phutharesuan Wachirapisut\n",
        "# 651610348\n",
        "# Lab03\n",
        "# 229323 sec 002\n"
      ]
    },
    {
      "cell_type": "code",
      "execution_count": 1,
      "metadata": {
        "id": "RdOd4OlRHxgW"
      },
      "outputs": [],
      "source": [
        "import sqlite3\n",
        "\n",
        "conn = sqlite3.connect(\"pokemon.db\")\n",
        "\n",
        "conn.close()"
      ]
    },
    {
      "cell_type": "code",
      "execution_count": 2,
      "metadata": {},
      "outputs": [],
      "source": [
        "import sqlite3\n",
        "conn = sqlite3.connect(\"Note.db\")\n",
        "conn.close()"
      ]
    },
    {
      "cell_type": "markdown",
      "metadata": {
        "id": "BS5JZMoA4GQO"
      },
      "source": [
        "## **Step1. สร้างตารางฐานข้อมูล (Create Table) และตาราง Pokemon**\n"
      ]
    },
    {
      "cell_type": "code",
      "execution_count": 3,
      "metadata": {
        "id": "MVd1EDTTHrpX"
      },
      "outputs": [],
      "source": [
        "conn = sqlite3.connect(\"pokemon.db\")\n",
        "\n",
        "with conn:\n",
        "    conn.execute(\"\"\"CREATE TABLE CATCH_POKEMON\n",
        "                 (ID INT PRIMARY KEY NOT NULL,\n",
        "                KIND TEXT NOT NULL,\n",
        "                FOUND_NO INT NOT NULL,\n",
        "                CAUGHT_NO INT NOT NULL\n",
        "                 )\"\"\")\n",
        "    \n",
        "conn.close()"
      ]
    },
    {
      "cell_type": "markdown",
      "metadata": {
        "id": "2n5AExYm43TG"
      },
      "source": [
        "### นำข้อมูลเข้าตาราง catch_pokemon"
      ]
    },
    {
      "cell_type": "code",
      "execution_count": 2,
      "metadata": {
        "id": "IPCkkbczHmu4"
      },
      "outputs": [
        {
          "ename": "NameError",
          "evalue": "name 'sqlite3' is not defined",
          "output_type": "error",
          "traceback": [
            "\u001b[0;31m---------------------------------------------------------------------------\u001b[0m",
            "\u001b[0;31mNameError\u001b[0m                                 Traceback (most recent call last)",
            "Cell \u001b[0;32mIn[2], line 1\u001b[0m\n\u001b[0;32m----> 1\u001b[0m conn \u001b[38;5;241m=\u001b[39m \u001b[43msqlite3\u001b[49m\u001b[38;5;241m.\u001b[39mconnect(\u001b[38;5;124m\"\u001b[39m\u001b[38;5;124mpokemon.db\u001b[39m\u001b[38;5;124m\"\u001b[39m)\n\u001b[1;32m      3\u001b[0m \u001b[38;5;28;01mwith\u001b[39;00m conn:\n\u001b[1;32m      5\u001b[0m     conn\u001b[38;5;241m.\u001b[39mexecute(\u001b[38;5;124m\"\u001b[39m\u001b[38;5;124mINSERT INTO CATCH_POKEMON VALUES (1, \u001b[39m\u001b[38;5;124m'\u001b[39m\u001b[38;5;124mPikasu\u001b[39m\u001b[38;5;124m'\u001b[39m\u001b[38;5;124m,    10,7)\u001b[39m\u001b[38;5;124m\"\u001b[39m)\n",
            "\u001b[0;31mNameError\u001b[0m: name 'sqlite3' is not defined"
          ]
        }
      ],
      "source": [
        "conn = sqlite3.connect(\"pokemon.db\")\n",
        "\n",
        "with conn:\n",
        "\n",
        "    conn.execute(\"INSERT INTO CATCH_POKEMON VALUES (1, 'Pikasu',    10,7)\")\n",
        "    conn.execute(\"INSERT INTO CATCH_POKEMON VALUES (2, 'Carpeter',  15,8)\")\n",
        "    conn.execute(\"INSERT INTO CATCH_POKEMON VALUES (3, 'Beedle',    32,24)\")\n",
        "    conn.execute(\"INSERT INTO CATCH_POKEMON VALUES (4, 'Poppo',     17,9)\")\n",
        "    conn.execute(\"INSERT INTO CATCH_POKEMON VALUES (5, 'Koratta',   16,12)\")\n",
        "    conn.execute(\"INSERT INTO CATCH_POKEMON VALUES (6, 'Onitsumi',  20,14)\")\n",
        "    conn.execute(\"INSERT INTO CATCH_POKEMON VALUES (7, 'Arbo',      28,17)\")\n",
        "    conn.execute(\"INSERT INTO CATCH_POKEMON VALUES (8, 'Konpang',   12,5)\")\n",
        "    conn.execute(\"INSERT INTO CATCH_POKEMON VALUES (9, 'Neauroma',  5,4)\")\n",
        "    conn.execute(\"INSERT INTO CATCH_POKEMON VALUES (10,'Tamatama',  18,8)\")\n",
        "    conn.execute(\"INSERT INTO CATCH_POKEMON VALUES (11,'Kokoon',    8,5)\")\n",
        "    conn.execute(\"INSERT INTO CATCH_POKEMON VALUES (12,'Pigeon',    26,17)\")\n",
        "    conn.execute(\"INSERT INTO CATCH_POKEMON VALUES (13,'Camel', 17,12)\")\n",
        "conn.close()"
      ]
    },
    {
      "cell_type": "markdown",
      "metadata": {
        "id": "jA287gVA6-MN"
      },
      "source": [
        "##**Step2. สร้างตาราง find_pokemon**"
      ]
    },
    {
      "cell_type": "code",
      "execution_count": 18,
      "metadata": {
        "id": "137ZdZBPIVyU"
      },
      "outputs": [],
      "source": [
        "conn = sqlite3.connect(\"pokemon.db\")\n",
        "\n",
        "with conn:\n",
        "    conn.execute(\"\"\"CREATE TABLE FIND_POKEMON\n",
        "                 (ID INT PRIMARY KEY NOT NULL,\n",
        "                KIND TEXT NOT NULL,\n",
        "                SCHOOL INT NOT NULL,\n",
        "                PLAYGROUND INT NOT NULL,\n",
        "                 SHOPPING_MALL INT NOT NULL\n",
        "                 )\"\"\")\n",
        "    \n",
        "conn.close()"
      ]
    },
    {
      "cell_type": "markdown",
      "metadata": {
        "id": "UnJ0Qig46-rk"
      },
      "source": [
        "### นำข้อมูลเข้าตาราง find_pokemon"
      ]
    },
    {
      "cell_type": "code",
      "execution_count": 4,
      "metadata": {
        "id": "Q_mHEgfNHhHr"
      },
      "outputs": [
        {
          "ename": "IntegrityError",
          "evalue": "UNIQUE constraint failed: FIND_POKEMON.ID",
          "output_type": "error",
          "traceback": [
            "\u001b[0;31m---------------------------------------------------------------------------\u001b[0m",
            "\u001b[0;31mIntegrityError\u001b[0m                            Traceback (most recent call last)",
            "Cell \u001b[0;32mIn[4], line 5\u001b[0m\n\u001b[1;32m      1\u001b[0m conn \u001b[38;5;241m=\u001b[39m sqlite3\u001b[38;5;241m.\u001b[39mconnect(\u001b[38;5;124m\"\u001b[39m\u001b[38;5;124mpokemon.db\u001b[39m\u001b[38;5;124m\"\u001b[39m)\n\u001b[1;32m      3\u001b[0m \u001b[38;5;28;01mwith\u001b[39;00m conn:\n\u001b[0;32m----> 5\u001b[0m     \u001b[43mconn\u001b[49m\u001b[38;5;241;43m.\u001b[39;49m\u001b[43mexecute\u001b[49m\u001b[43m(\u001b[49m\u001b[38;5;124;43m\"\u001b[39;49m\u001b[38;5;124;43mINSERT INTO FIND_POKEMON VALUES (1, \u001b[39;49m\u001b[38;5;124;43m'\u001b[39;49m\u001b[38;5;124;43mPikasu\u001b[39;49m\u001b[38;5;124;43m'\u001b[39;49m\u001b[38;5;124;43m,    5,7,5)\u001b[39;49m\u001b[38;5;124;43m\"\u001b[39;49m\u001b[43m)\u001b[49m\n\u001b[1;32m      6\u001b[0m     conn\u001b[38;5;241m.\u001b[39mexecute(\u001b[38;5;124m\"\u001b[39m\u001b[38;5;124mINSERT INTO FIND_POKEMON VALUES (2, \u001b[39m\u001b[38;5;124m'\u001b[39m\u001b[38;5;124mCarpeter\u001b[39m\u001b[38;5;124m'\u001b[39m\u001b[38;5;124m,  8,5,10)\u001b[39m\u001b[38;5;124m\"\u001b[39m)\n\u001b[1;32m      7\u001b[0m     conn\u001b[38;5;241m.\u001b[39mexecute(\u001b[38;5;124m\"\u001b[39m\u001b[38;5;124mINSERT INTO FIND_POKEMON VALUES (3, \u001b[39m\u001b[38;5;124m'\u001b[39m\u001b[38;5;124mBeedle\u001b[39m\u001b[38;5;124m'\u001b[39m\u001b[38;5;124m,    18,13,25)\u001b[39m\u001b[38;5;124m\"\u001b[39m)\n",
            "\u001b[0;31mIntegrityError\u001b[0m: UNIQUE constraint failed: FIND_POKEMON.ID"
          ]
        }
      ],
      "source": [
        "conn = sqlite3.connect(\"pokemon.db\")\n",
        "\n",
        "with conn:\n",
        "\n",
        "    conn.execute(\"INSERT INTO FIND_POKEMON VALUES (1, 'Pikasu',    5,7,5)\")\n",
        "    conn.execute(\"INSERT INTO FIND_POKEMON VALUES (2, 'Carpeter',  8,5,10)\")\n",
        "    conn.execute(\"INSERT INTO FIND_POKEMON VALUES (3, 'Beedle',    18,13,25)\")\n",
        "    conn.execute(\"INSERT INTO FIND_POKEMON VALUES (4, 'Poppo',     10,7,9)\")\n",
        "    conn.execute(\"INSERT INTO FIND_POKEMON VALUES (5, 'Koratta',   12,8,10)\")\n",
        "    conn.execute(\"INSERT INTO FIND_POKEMON VALUES (6, 'Onitsumi',  11,9,14)\")\n",
        "    conn.execute(\"INSERT INTO FIND_POKEMON VALUES (7, 'Arbo',      15,22,8)\")\n",
        "    conn.execute(\"INSERT INTO FIND_POKEMON VALUES (8, 'Konpang',   7,6,6)\")\n",
        "    conn.execute(\"INSERT INTO FIND_POKEMON VALUES (9, 'Neauroma',  3,2,4)\")\n",
        "    conn.execute(\"INSERT INTO FIND_POKEMON VALUES (10,'Tamatama',  6,10,10)\")\n",
        "    conn.execute(\"INSERT INTO FIND_POKEMON VALUES (11,'Kokoon',    4,9,3)\")\n",
        "    conn.execute(\"INSERT INTO FIND_POKEMON VALUES (12,'Pigeon',    16,15,12)\")\n",
        "    conn.execute(\"INSERT INTO FIND_POKEMON VALUES (13,'Camel',     8,11,10)\")\n",
        "conn.close()"
      ]
    },
    {
      "cell_type": "markdown",
      "metadata": {
        "id": "dmomw5tm572F"
      },
      "source": [
        "## **Utility สำหรับใช้ในการดูข้อมูล**\n",
        "\n",
        "นักศึกษาสามารถใช้คำสั่ง get_data ในการเรียกดูข้อมูลในตาราง"
      ]
    },
    {
      "cell_type": "code",
      "execution_count": 5,
      "metadata": {
        "id": "CSjSc-Ex56zP"
      },
      "outputs": [],
      "source": [
        "import numpy as np\n",
        "import pandas as pd\n",
        "\n",
        "def get_data(cursor):\n",
        "  all_rows = cursor.fetchall()\n",
        "  #[all_rows.append(np.array(row)) for row in cursor]\n",
        "  column_names = [description[0] for description in cursor.description]\n",
        "  df = pd.DataFrame(data=all_rows, columns = column_names)\n",
        "  # ซ่อน index\n",
        "  blankIndex=[''] * len(df)\n",
        "  df.index=blankIndex\n",
        "  return df"
      ]
    },
    {
      "cell_type": "markdown",
      "metadata": {
        "id": "zL3scaDw598d"
      },
      "source": [
        "## **คิวรี่ข้อมูลจากตาราง(Select From Table)**\n",
        "\n",
        "เมื่อสร้างตารางทั้งสองสำเร็จข้อมูลจะต้องมีรูปแบบดังต่อไปนี้"
      ]
    },
    {
      "cell_type": "code",
      "execution_count": 6,
      "metadata": {
        "colab": {
          "base_uri": "https://localhost:8080/",
          "height": 474
        },
        "id": "7-CuzUHe5SgF",
        "outputId": "03210e17-6c4f-4181-d0b6-e808a4eae239"
      },
      "outputs": [
        {
          "name": "stdout",
          "output_type": "stream",
          "text": [
            "Operation done successfully\n"
          ]
        },
        {
          "data": {
            "text/html": [
              "<div>\n",
              "<style scoped>\n",
              "    .dataframe tbody tr th:only-of-type {\n",
              "        vertical-align: middle;\n",
              "    }\n",
              "\n",
              "    .dataframe tbody tr th {\n",
              "        vertical-align: top;\n",
              "    }\n",
              "\n",
              "    .dataframe thead th {\n",
              "        text-align: right;\n",
              "    }\n",
              "</style>\n",
              "<table border=\"1\" class=\"dataframe\">\n",
              "  <thead>\n",
              "    <tr style=\"text-align: right;\">\n",
              "      <th></th>\n",
              "      <th>KIND</th>\n",
              "      <th>FOUND_NO</th>\n",
              "      <th>CAUGHT_NO</th>\n",
              "    </tr>\n",
              "  </thead>\n",
              "  <tbody>\n",
              "    <tr>\n",
              "      <th></th>\n",
              "      <td>Pikasu</td>\n",
              "      <td>10</td>\n",
              "      <td>7</td>\n",
              "    </tr>\n",
              "    <tr>\n",
              "      <th></th>\n",
              "      <td>Carpeter</td>\n",
              "      <td>15</td>\n",
              "      <td>8</td>\n",
              "    </tr>\n",
              "    <tr>\n",
              "      <th></th>\n",
              "      <td>Beedle</td>\n",
              "      <td>32</td>\n",
              "      <td>24</td>\n",
              "    </tr>\n",
              "    <tr>\n",
              "      <th></th>\n",
              "      <td>Poppo</td>\n",
              "      <td>17</td>\n",
              "      <td>9</td>\n",
              "    </tr>\n",
              "    <tr>\n",
              "      <th></th>\n",
              "      <td>Koratta</td>\n",
              "      <td>16</td>\n",
              "      <td>12</td>\n",
              "    </tr>\n",
              "    <tr>\n",
              "      <th></th>\n",
              "      <td>Onitsumi</td>\n",
              "      <td>20</td>\n",
              "      <td>14</td>\n",
              "    </tr>\n",
              "    <tr>\n",
              "      <th></th>\n",
              "      <td>Arbo</td>\n",
              "      <td>28</td>\n",
              "      <td>17</td>\n",
              "    </tr>\n",
              "    <tr>\n",
              "      <th></th>\n",
              "      <td>Konpang</td>\n",
              "      <td>12</td>\n",
              "      <td>5</td>\n",
              "    </tr>\n",
              "    <tr>\n",
              "      <th></th>\n",
              "      <td>Neauroma</td>\n",
              "      <td>5</td>\n",
              "      <td>4</td>\n",
              "    </tr>\n",
              "    <tr>\n",
              "      <th></th>\n",
              "      <td>Tamatama</td>\n",
              "      <td>18</td>\n",
              "      <td>8</td>\n",
              "    </tr>\n",
              "    <tr>\n",
              "      <th></th>\n",
              "      <td>Kokoon</td>\n",
              "      <td>8</td>\n",
              "      <td>5</td>\n",
              "    </tr>\n",
              "    <tr>\n",
              "      <th></th>\n",
              "      <td>Pigeon</td>\n",
              "      <td>26</td>\n",
              "      <td>17</td>\n",
              "    </tr>\n",
              "    <tr>\n",
              "      <th></th>\n",
              "      <td>Camel</td>\n",
              "      <td>17</td>\n",
              "      <td>12</td>\n",
              "    </tr>\n",
              "  </tbody>\n",
              "</table>\n",
              "</div>"
            ],
            "text/plain": [
              "      KIND  FOUND_NO  CAUGHT_NO\n",
              "    Pikasu        10          7\n",
              "  Carpeter        15          8\n",
              "    Beedle        32         24\n",
              "     Poppo        17          9\n",
              "   Koratta        16         12\n",
              "  Onitsumi        20         14\n",
              "      Arbo        28         17\n",
              "   Konpang        12          5\n",
              "  Neauroma         5          4\n",
              "  Tamatama        18          8\n",
              "    Kokoon         8          5\n",
              "    Pigeon        26         17\n",
              "     Camel        17         12"
            ]
          },
          "execution_count": 6,
          "metadata": {},
          "output_type": "execute_result"
        }
      ],
      "source": [
        "conn = sqlite3.connect('pokemon.db')\n",
        "\n",
        "with conn:\n",
        "  cursor = conn.execute(\"SELECT KIND, FOUND_NO, CAUGHT_NO FROM CATCH_POKEMON\")\n",
        "#ไม่แสดง ID\n",
        "df=get_data(cursor)\n",
        "conn.close()\n",
        "print(\"Operation done successfully\")\n",
        "df"
      ]
    },
    {
      "cell_type": "code",
      "execution_count": 7,
      "metadata": {
        "colab": {
          "base_uri": "https://localhost:8080/",
          "height": 474
        },
        "id": "LlJELSpp6FQE",
        "outputId": "6c53fe85-2f54-4570-8855-30ad5979e01a"
      },
      "outputs": [
        {
          "name": "stdout",
          "output_type": "stream",
          "text": [
            "Operation done successfully\n"
          ]
        },
        {
          "data": {
            "text/html": [
              "<div>\n",
              "<style scoped>\n",
              "    .dataframe tbody tr th:only-of-type {\n",
              "        vertical-align: middle;\n",
              "    }\n",
              "\n",
              "    .dataframe tbody tr th {\n",
              "        vertical-align: top;\n",
              "    }\n",
              "\n",
              "    .dataframe thead th {\n",
              "        text-align: right;\n",
              "    }\n",
              "</style>\n",
              "<table border=\"1\" class=\"dataframe\">\n",
              "  <thead>\n",
              "    <tr style=\"text-align: right;\">\n",
              "      <th></th>\n",
              "      <th>ID</th>\n",
              "      <th>KIND</th>\n",
              "      <th>SCHOOL</th>\n",
              "      <th>PLAYGROUND</th>\n",
              "      <th>SHOPPING_MALL</th>\n",
              "    </tr>\n",
              "  </thead>\n",
              "  <tbody>\n",
              "    <tr>\n",
              "      <th></th>\n",
              "      <td>1</td>\n",
              "      <td>Pikasu</td>\n",
              "      <td>5</td>\n",
              "      <td>7</td>\n",
              "      <td>5</td>\n",
              "    </tr>\n",
              "    <tr>\n",
              "      <th></th>\n",
              "      <td>2</td>\n",
              "      <td>Carpeter</td>\n",
              "      <td>8</td>\n",
              "      <td>5</td>\n",
              "      <td>10</td>\n",
              "    </tr>\n",
              "    <tr>\n",
              "      <th></th>\n",
              "      <td>3</td>\n",
              "      <td>Beedle</td>\n",
              "      <td>18</td>\n",
              "      <td>13</td>\n",
              "      <td>25</td>\n",
              "    </tr>\n",
              "    <tr>\n",
              "      <th></th>\n",
              "      <td>4</td>\n",
              "      <td>Poppo</td>\n",
              "      <td>10</td>\n",
              "      <td>7</td>\n",
              "      <td>9</td>\n",
              "    </tr>\n",
              "    <tr>\n",
              "      <th></th>\n",
              "      <td>5</td>\n",
              "      <td>Koratta</td>\n",
              "      <td>12</td>\n",
              "      <td>8</td>\n",
              "      <td>10</td>\n",
              "    </tr>\n",
              "    <tr>\n",
              "      <th></th>\n",
              "      <td>6</td>\n",
              "      <td>Onitsumi</td>\n",
              "      <td>11</td>\n",
              "      <td>9</td>\n",
              "      <td>14</td>\n",
              "    </tr>\n",
              "    <tr>\n",
              "      <th></th>\n",
              "      <td>7</td>\n",
              "      <td>Arbo</td>\n",
              "      <td>15</td>\n",
              "      <td>22</td>\n",
              "      <td>8</td>\n",
              "    </tr>\n",
              "    <tr>\n",
              "      <th></th>\n",
              "      <td>8</td>\n",
              "      <td>Konpang</td>\n",
              "      <td>7</td>\n",
              "      <td>6</td>\n",
              "      <td>6</td>\n",
              "    </tr>\n",
              "    <tr>\n",
              "      <th></th>\n",
              "      <td>9</td>\n",
              "      <td>Neauroma</td>\n",
              "      <td>3</td>\n",
              "      <td>2</td>\n",
              "      <td>4</td>\n",
              "    </tr>\n",
              "    <tr>\n",
              "      <th></th>\n",
              "      <td>10</td>\n",
              "      <td>Tamatama</td>\n",
              "      <td>6</td>\n",
              "      <td>10</td>\n",
              "      <td>10</td>\n",
              "    </tr>\n",
              "    <tr>\n",
              "      <th></th>\n",
              "      <td>11</td>\n",
              "      <td>Kokoon</td>\n",
              "      <td>4</td>\n",
              "      <td>9</td>\n",
              "      <td>3</td>\n",
              "    </tr>\n",
              "    <tr>\n",
              "      <th></th>\n",
              "      <td>12</td>\n",
              "      <td>Pigeon</td>\n",
              "      <td>16</td>\n",
              "      <td>15</td>\n",
              "      <td>12</td>\n",
              "    </tr>\n",
              "    <tr>\n",
              "      <th></th>\n",
              "      <td>13</td>\n",
              "      <td>Camel</td>\n",
              "      <td>8</td>\n",
              "      <td>11</td>\n",
              "      <td>10</td>\n",
              "    </tr>\n",
              "  </tbody>\n",
              "</table>\n",
              "</div>"
            ],
            "text/plain": [
              "  ID      KIND  SCHOOL  PLAYGROUND  SHOPPING_MALL\n",
              "   1    Pikasu       5           7              5\n",
              "   2  Carpeter       8           5             10\n",
              "   3    Beedle      18          13             25\n",
              "   4     Poppo      10           7              9\n",
              "   5   Koratta      12           8             10\n",
              "   6  Onitsumi      11           9             14\n",
              "   7      Arbo      15          22              8\n",
              "   8   Konpang       7           6              6\n",
              "   9  Neauroma       3           2              4\n",
              "  10  Tamatama       6          10             10\n",
              "  11    Kokoon       4           9              3\n",
              "  12    Pigeon      16          15             12\n",
              "  13     Camel       8          11             10"
            ]
          },
          "execution_count": 7,
          "metadata": {},
          "output_type": "execute_result"
        }
      ],
      "source": [
        "conn = sqlite3.connect('pokemon.db')\n",
        "\n",
        "with conn:\n",
        "  cursor = conn.execute(\"SELECT * FROM FIND_POKEMON\")\n",
        "\n",
        "df=get_data(cursor)\n",
        "conn.close()\n",
        "print(\"Operation done successfully\")\n",
        "df"
      ]
    }
  ],
  "metadata": {
    "colab": {
      "provenance": []
    },
    "kernelspec": {
      "display_name": "Python 3",
      "name": "python3"
    },
    "language_info": {
      "codemirror_mode": {
        "name": "ipython",
        "version": 3
      },
      "file_extension": ".py",
      "mimetype": "text/x-python",
      "name": "python",
      "nbconvert_exporter": "python",
      "pygments_lexer": "ipython3",
      "version": "3.12.4"
    }
  },
  "nbformat": 4,
  "nbformat_minor": 0
}
