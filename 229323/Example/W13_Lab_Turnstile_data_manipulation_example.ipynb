{
  "cells": [
    {
      "cell_type": "markdown",
      "metadata": {
        "id": "VMWMJyDikD5Q"
      },
      "source": [
        "**Turnstile Data**\n",
        "\n",
        "Turnstile data consists of\n",
        "\n",
        "\n",
        "*   C/A = Control Area (e.g., A002)\n",
        "*   unit = Remote Unit for a station (e.g., R051)\n",
        "*   SCP = Subunit Channel Position represents an specific address for a device (e.g., 02-00-00)\n",
        "*   station_code = C/A + unit, locating a station\n",
        "*   turnstile = C/A + unit + SCP, locating a turnstile\n",
        "*   Station = Represents the station name the device is located at\n",
        "*   date = Represents the date (MM-DD-YY)\n",
        "*   time = Represents the time (hh:mm:ss) for a scheduled audit event\n",
        "*   datetime = date + time (MM-DD-YY hh:mm:ss)\n",
        "*   desc = Represent the \"REGULAR\" scheduled audit event (Normally occurs every 4 hours)\n",
        "*   entries = The comulative entry register value for a device\n",
        "*   exits = The cumulative exit register value for a device\n",
        "\n",
        "\n",
        "\n",
        "\n",
        "\n",
        "\n",
        "\n",
        "\n",
        "\n",
        "\n",
        "\n",
        "\n",
        "\n",
        "\n",
        "\n",
        "\n"
      ]
    },
    {
      "cell_type": "code",
      "execution_count": null,
      "metadata": {
        "id": "5Qk-hRhSkC1D"
      },
      "outputs": [],
      "source": [
        "import time\n",
        "%matplotlib inline\n",
        "import matplotlib\n",
        "import matplotlib.pyplot as plt\n",
        "from matplotlib import mlab\n",
        "from matplotlib.ticker import FuncFormatter\n",
        "matplotlib.style.use('ggplot')\n",
        "import warnings\n",
        "warnings.filterwarnings('ignore')"
      ]
    },
    {
      "cell_type": "markdown",
      "metadata": {
        "id": "SWxjGM1JmQ6H"
      },
      "source": [
        "ดึงข้อมูล web scraping\n",
        "\n",
        "กรณีนี้ดึงมาทีละสัปดาห์"
      ]
    },
    {
      "cell_type": "code",
      "source": [
        "#! wget http://web.mta.info/developers/data/nyct/turnstile/turnstile_231223.txt\n",
        "#! wget http://web.mta.info/developers/data/nyct/turnstile/turnstile_231216.txt\n",
        "#! wget http://web.mta.info/developers/data/nyct/turnstile/turnstile_231209.txt\n",
        "#! wget http://web.mta.info/developers/data/nyct/turnstile/turnstile_231202.txt\n",
        "#! wget http://web.mta.info/developers/data/nyct/turnstile/turnstile_231125.txt\n",
        "#! wget http://web.mta.info/developers/data/nyct/turnstile/turnstile_231118.txt\n",
        "#! wget http://web.mta.info/developers/data/nyct/turnstile/turnstile_231111.txt\n",
        "#! wget http://web.mta.info/developers/data/nyct/turnstile/turnstile_231104.txt\n",
        "#! wget http://web.mta.info/developers/data/nyct/turnstile/turnstile_231028.txt\n",
        "#! wget http://web.mta.info/developers/data/nyct/turnstile/turnstile_231021.txt\n",
        "#! wget http://web.mta.info/developers/data/nyct/turnstile/turnstile_231014.txt\n",
        "#! wget http://web.mta.info/developers/data/nyct/turnstile/turnstile_231007.txt\n",
        "! wget http://web.mta.info/developers/data/nyct/turnstile/turnstile_230930.txt\n",
        "! wget http://web.mta.info/developers/data/nyct/turnstile/turnstile_230923.txt\n",
        "! wget http://web.mta.info/developers/data/nyct/turnstile/turnstile_230916.txt\n",
        "! wget http://web.mta.info/developers/data/nyct/turnstile/turnstile_230909.txt\n",
        "! wget http://web.mta.info/developers/data/nyct/turnstile/turnstile_230902.txt\n",
        "! wget http://web.mta.info/developers/data/nyct/turnstile/turnstile_230826.txt\n",
        "! wget http://web.mta.info/developers/data/nyct/turnstile/turnstile_230819.txt\n",
        "! wget http://web.mta.info/developers/data/nyct/turnstile/turnstile_230812.txt\n",
        "! wget http://web.mta.info/developers/data/nyct/turnstile/turnstile_230805.txt\n",
        "! wget http://web.mta.info/developers/data/nyct/turnstile/turnstile_230729.txt\n",
        "! wget http://web.mta.info/developers/data/nyct/turnstile/turnstile_230722.txt\n",
        "! wget http://web.mta.info/developers/data/nyct/turnstile/turnstile_230715.txt\n",
        "! wget http://web.mta.info/developers/data/nyct/turnstile/turnstile_230708.txt\n",
        "! wget http://web.mta.info/developers/data/nyct/turnstile/turnstile_230701.txt"
      ],
      "metadata": {
        "id": "JeKl_gTfaWnz"
      },
      "execution_count": null,
      "outputs": []
    },
    {
      "cell_type": "markdown",
      "metadata": {
        "id": "A2PewGWl-02y"
      },
      "source": [
        "ในที่นี้เราใช้ไฟล์ที่ได้ download มาแล้ว\n",
        "โดยนำไปเก็บไว้ที่ Gdrive แล้วเชื่อมต่อเพื่อนำข้อมูลเข้ามา"
      ]
    },
    {
      "cell_type": "code",
      "execution_count": null,
      "metadata": {
        "id": "N7T6bYpvmO2w"
      },
      "outputs": [],
      "source": [
        "from google.colab import drive\n",
        "drive.mount('/drive')"
      ]
    },
    {
      "cell_type": "code",
      "source": [
        "#upload data เข้ามาใน cloud colab\n",
        "from google.colab import files\n",
        "\n",
        "uploaded = files.upload()"
      ],
      "metadata": {
        "id": "rNZwS65KXVjT"
      },
      "execution_count": null,
      "outputs": []
    },
    {
      "cell_type": "code",
      "source": [
        "import pandas as pd\n",
        "import numpy as np\n",
        "\n",
        "mta = pd.read_csv('turnstile_230701.txt', sep = ',')\n",
        "mta2 = pd.read_csv('turnstile_230708.txt', sep = ',')\n",
        "mta3 = pd.read_csv('turnstile_230715.txt', sep = ',')\n",
        "mta4 = pd.read_csv('turnstile_230722.txt', sep = ',')\n",
        "mta5 = pd.read_csv('turnstile_230729.txt', sep = ',')\n",
        "mta6 = pd.read_csv('turnstile_230805.txt', sep = ',')\n",
        "mta7 = pd.read_csv('turnstile_230812.txt', sep = ',')\n",
        "mta8 = pd.read_csv('turnstile_230819.txt', sep = ',')\n",
        "mta9 = pd.read_csv('turnstile_230826.txt', sep = ',')\n",
        "mta10 = pd.read_csv('turnstile_230902.txt', sep = ',')\n",
        "mta11 = pd.read_csv('turnstile_230909.txt', sep = ',')\n",
        "mta12 = pd.read_csv('turnstile_230916.txt', sep = ',')\n",
        "mta13 = pd.read_csv('turnstile_230923.txt', sep = ',')\n",
        "mta14 = pd.read_csv('turnstile_230930.txt', sep = ',')"
      ],
      "metadata": {
        "id": "ubgdj5r3swOE"
      },
      "execution_count": null,
      "outputs": []
    },
    {
      "cell_type": "code",
      "source": [
        "#รวมข้อมูลจากทุกไฟล์เข้าด้วยกัน\n",
        "mta1 = pd.merge(mta, mta2, how='outer')\n",
        "mta01 = pd.merge(mta1, mta3, how='outer')\n",
        "mta1 = pd.merge(mta01, mta4, how='outer')\n",
        "mta01 = pd.merge(mta1, mta5, how='outer')\n",
        "mta1 = pd.merge(mta01, mta6, how='outer')\n",
        "mta01 = pd.merge(mta1, mta7, how='outer')\n",
        "mta1 = pd.merge(mta01, mta8, how='outer')\n",
        "mta01 = pd.merge(mta1, mta9, how='outer')\n",
        "mta1 = pd.merge(mta01, mta10, how='outer')\n",
        "mta01 = pd.merge(mta1, mta11, how='outer')\n",
        "mta1 = pd.merge(mta01, mta12, how='outer')\n",
        "mta01 = pd.merge(mta1, mta13, how='outer')\n",
        "mta1 = pd.merge(mta01, mta14, how='outer')"
      ],
      "metadata": {
        "id": "oSs7XILIWhQ_"
      },
      "execution_count": null,
      "outputs": []
    },
    {
      "cell_type": "code",
      "source": [
        "mta1.head()"
      ],
      "metadata": {
        "id": "SgTWOlDcXnh9"
      },
      "execution_count": null,
      "outputs": []
    },
    {
      "cell_type": "code",
      "source": [
        "mta1.tail()"
      ],
      "metadata": {
        "id": "XjbPZAOgXsoi"
      },
      "execution_count": null,
      "outputs": []
    },
    {
      "cell_type": "code",
      "source": [
        "mta1.columns"
      ],
      "metadata": {
        "id": "-aRtm9sLcAVK"
      },
      "execution_count": null,
      "outputs": []
    },
    {
      "cell_type": "code",
      "source": [
        "mta1['datetime'] = pd.to_datetime(mta1.DATE + ' ' + mta1.TIME, format='%m/%d/%Y  %H:%M:%S')"
      ],
      "metadata": {
        "id": "rlwLpVjgcHjf"
      },
      "execution_count": null,
      "outputs": []
    },
    {
      "cell_type": "code",
      "execution_count": null,
      "metadata": {
        "id": "4ep1niJkpwcq"
      },
      "outputs": [],
      "source": [
        "mta1['turnstile'] = mta1['C/A'] + '-' + mta1['UNIT'] + '-' + mta1['SCP']\n",
        "\n",
        "new_mta = mta1[(mta1.datetime >= '2023-06-24 00:00:00') &\n",
        "          (mta1.datetime <'2023-09-29 00:00:00')]"
      ]
    },
    {
      "cell_type": "code",
      "execution_count": null,
      "metadata": {
        "id": "DTL0F5BCpHSr"
      },
      "outputs": [],
      "source": [
        "new_mta.head()"
      ]
    },
    {
      "cell_type": "code",
      "execution_count": null,
      "metadata": {
        "id": "SdhsQTWQesaL"
      },
      "outputs": [],
      "source": [
        "new_mta.tail()"
      ]
    },
    {
      "cell_type": "markdown",
      "metadata": {
        "id": "4ef7Q1jKqQmj"
      },
      "source": [
        "Check Data"
      ]
    },
    {
      "cell_type": "code",
      "execution_count": null,
      "metadata": {
        "id": "ILUL-f_fqx-q"
      },
      "outputs": [],
      "source": [
        "new_mta.info()"
      ]
    },
    {
      "cell_type": "code",
      "execution_count": null,
      "metadata": {
        "id": "tpOSZa4zqTcy"
      },
      "outputs": [],
      "source": [
        "print('Descriptions of entries:')\n",
        "print(new_mta['ENTRIES'].describe())"
      ]
    },
    {
      "cell_type": "code",
      "execution_count": null,
      "metadata": {
        "id": "g88sacPPqjpU"
      },
      "outputs": [],
      "source": [
        "new_mta.rename(columns= {'EXITS                                                               ' : 'EXITS'}, inplace=True)"
      ]
    },
    {
      "cell_type": "code",
      "execution_count": null,
      "metadata": {
        "id": "EwHqHxyHq1Ij"
      },
      "outputs": [],
      "source": [
        "print('Descriptions of exits:')\n",
        "print(new_mta['EXITS'].describe())"
      ]
    },
    {
      "cell_type": "markdown",
      "source": [
        "# Use differenced data instead\n",
        "Then we calculate the differences between every two collection timestamps and look for abnormal entries/exits per time interval. NaN values are generated for the very first data record for each unique turnstile during differencing.\n",
        "\n",
        "คำนวณความแตกต่างระหว่างค่าประทับเวลาของคอลเลกชันทั้งสองชุด และค้นหารายการเข้า/ออกที่ผิดปกติในแต่ละช่วงเวลา\n",
        "\n",
        "ค่า NaN จะถูกสร้างขึ้นสำหรับระเบียนข้อมูลชุดแรกสำหรับแต่ละประตูหมุนที่ไม่ซ้ำกันในระหว่างการหาค่าความแตกต่าง"
      ],
      "metadata": {
        "id": "WF5UnSzupD1C"
      }
    },
    {
      "cell_type": "code",
      "execution_count": null,
      "metadata": {
        "id": "wx-mElZjI9Bq"
      },
      "outputs": [],
      "source": [
        "# group data by turnstile, sort each turnstile by datetime\n",
        "# Create new columns en_diff and ex_diff for each unique turnstile\n",
        "# turn cumulative counts into counts per interval\n",
        "\n",
        "mta_sorted = new_mta.sort_values(['turnstile', 'datetime'])\n",
        "mta_sorted = mta_sorted.reset_index(drop = True)\n",
        "\n",
        "turnstile_grouped = mta_sorted.groupby(['turnstile'])\n",
        "\n",
        "mta_sorted['entries_diff'] = turnstile_grouped['ENTRIES'].transform(pd.Series.diff)\n",
        "mta_sorted['exits_diff'] = turnstile_grouped['EXITS'].transform(pd.Series.diff)\n",
        "mta_sorted.head()"
      ]
    },
    {
      "cell_type": "markdown",
      "source": [
        "# การตรวจสอบความสมบูรณ์ของ entry_diff และ exits_diff\n",
        "สังเกตจากจำนวน NaN ควรเท่ากับจำนวนของประตูหมุนที่ไม่ซ้ำกัน entry_diff และ exits_diff ควรเป็นค่าบวกเสมอ เนื่องจากค่าสะสมควรจะเพิ่มขึ้นหรืออย่างน้อยก็ยังคงเท่าเดิม"
      ],
      "metadata": {
        "id": "5ypcTpqdpJZQ"
      }
    },
    {
      "cell_type": "code",
      "execution_count": null,
      "metadata": {
        "id": "rAJh1zAgJyVZ"
      },
      "outputs": [],
      "source": [
        "# check distribution of entries_diff and exits_diff\n",
        "print('Descriptions of entries_diff:')\n",
        "print(mta_sorted['entries_diff'].describe())\n",
        "print('')\n",
        "print('Descriptions of exits_diff:')\n",
        "print(mta_sorted['exits_diff'].describe())"
      ]
    },
    {
      "cell_type": "markdown",
      "source": [
        "ค่าสูงสุดของ entries_diff และ exits_diff มีค่ามากกว่าเปอร์เซ็นไทล์ที่ 75 มากกว่าหนึ่งล้านเท่า ซึ่งถือว่าผิดปกติ\n",
        "\n",
        "ค่าต่ำสุดเป็นค่าลบ ซึ่งถือว่าผิดปกติเช่นกัน เราจะกำหนดค่าผิดปกติเหล่านี้เป็น 0\n",
        "\n",
        "หลังจากสังเกตดู **entries_diffs ที่มีเป็นค่าลบ**แล้ว\n",
        "\n",
        "พบว่าค่าเหล่านี้มี **DESC == 'RECOVR AUD'** ดูเหมือนว่าจำนวนการเข้าและออกอาจถูกรีเซ็ตเมื่อพบว่าประตูปิด\n",
        "\n",
        "การอนุมานค่าที่ถูกต้องสำหรับการสังเกตเหล่านี้ถือเป็นสิ่งที่ไม่เหมาะสม ดังนั้นจึงทำการตั้งค่าเป็น 0\n",
        "\n",
        "นอกจากนี้ ยังมีการตั้งค่า NA เป็น 0 เนื่องจาก NA เป็นระเบียนข้อมูลแรกสำหรับประตูหมุนแต่ละบาน"
      ],
      "metadata": {
        "id": "AfOB75pypU60"
      }
    },
    {
      "cell_type": "code",
      "execution_count": null,
      "metadata": {
        "id": "N97xAw9PJ4PI"
      },
      "outputs": [],
      "source": [
        "print('Number of negative entries_diff: %d' %len(mta_sorted['entries_diff'][mta_sorted['entries_diff'] < 0]))\n",
        "print('Number of negative exits_diff: %d' %len(mta_sorted['exits_diff'][mta_sorted['exits_diff'] < 0]))\n",
        "print('Number of unqiue turnstiles: %d' %len(mta_sorted['turnstile'].unique()))\n",
        "print('Number of NaN rows: %d' %len(mta_sorted[mta_sorted['entries_diff'].isnull()]))"
      ]
    },
    {
      "cell_type": "code",
      "execution_count": null,
      "metadata": {
        "id": "aSSUFKugJ-sF"
      },
      "outputs": [],
      "source": [
        "mta_sorted['entries_diff'] = mta_sorted['entries_diff'].fillna(0)\n",
        "mta_sorted['exits_diff'] = mta_sorted['exits_diff'].fillna(0)\n",
        "\n",
        "mta_sorted['entries_diff'][mta_sorted['entries_diff'] < 0] = 0\n",
        "mta_sorted['exits_diff'][mta_sorted['exits_diff'] < 0] = 0\n",
        "\n",
        "mta_sorted['entries_diff'][mta_sorted['entries_diff'] >= 6000] = 0\n",
        "mta_sorted['exits_diff'][mta_sorted['exits_diff'] >= 6000] = 0"
      ]
    },
    {
      "cell_type": "code",
      "execution_count": null,
      "metadata": {
        "id": "hkk2SRu5KGpW"
      },
      "outputs": [],
      "source": [
        "mta_sorted.columns"
      ]
    },
    {
      "cell_type": "code",
      "execution_count": null,
      "metadata": {
        "id": "i1IKu3L4KCAR"
      },
      "outputs": [],
      "source": [
        "mta_h1 = mta_sorted[['turnstile','STATION', 'datetime','DATE','TIME', 'entries_diff','exits_diff']]\n",
        "mta_h1['busy'] = mta_h1['entries_diff'].values + mta_h1['exits_diff'].values\n",
        "\n",
        "del [mta_sorted]\n",
        "mta_h1.shape"
      ]
    },
    {
      "cell_type": "code",
      "execution_count": null,
      "metadata": {
        "id": "kGa7VVkPKWnD"
      },
      "outputs": [],
      "source": [
        "mta_h1.head(10)"
      ]
    },
    {
      "cell_type": "markdown",
      "source": [
        "# **What are the busiest stations and turnstiles?**"
      ],
      "metadata": {
        "id": "oKN4EbfUpZ-A"
      }
    },
    {
      "cell_type": "markdown",
      "metadata": {
        "id": "LXsPIl8ZKf6N"
      },
      "source": [
        "**The busiest 10 stations**"
      ]
    },
    {
      "cell_type": "code",
      "execution_count": null,
      "metadata": {
        "id": "MNGn9RvvKh8L"
      },
      "outputs": [],
      "source": [
        "top_10 =mta_h1.groupby(['STATION']).agg({'busy': sum}).sort_values(by = 'busy', ascending = False).head(10)\n",
        "\n",
        "fig, ax = plt.subplots(figsize=(25, 8))\n",
        "top_10.sort_values(by = 'busy',ascending=True).plot(kind='barh', color ='orange',ax=ax)\n",
        "ax.set(title='Top 10 Stations by Total Entries and Exits (2023)', xlabel='total traffic', ylabel='')\n",
        "ax.legend().set_visible(False)"
      ]
    },
    {
      "cell_type": "markdown",
      "metadata": {
        "id": "aXVBqxBCKy_i"
      },
      "source": [
        "**Turnstiles at the busiest station**\n",
        "\n",
        "การคำนวณปริมาณการจราจรต่อประตูหมุนของแต่ละสถานีอาจช่วยให้ MTA\n",
        "\n",
        "ออกแบบทางเข้ารถไฟใต้ดิน วางแผนการก่อสร้าง และระบุตำแหน่งของประตูหมุนที่มีปัญหาได้ดีขึ้น\n",
        "\n",
        "หากเรามีข้อมูลเกี่ยวกับตำแหน่งที่แน่นอนของทางออกที่ประตูหมุนแต่ละแห่งไปถึง เราอาจสามารถค้นพบการไหลของการจราจรได้เพิ่มเติม\n",
        "\n",
        "ที่สถานี Penn Station จำนวน 34 แห่งมีประตูหมุนทั้งหมด 98 ประตู\n",
        "\n",
        "ปริมาณการจราจรที่ประตูหมุนแต่ละแห่งมีความแตกต่างกันอย่างมาก\n",
        "ตั้งแต่น้อยกว่า 100 ประตูไปจนถึงมากกว่า 13 ล้านประตู"
      ]
    },
    {
      "cell_type": "code",
      "execution_count": null,
      "metadata": {
        "id": "ndaXYAAwKyeQ"
      },
      "outputs": [],
      "source": [
        "mta_penn = mta_h1[mta_h1['STATION'] == '34 ST-PENN STA']\n",
        "print('Number of turnstiles at 34-PENN STATION: %d' % len(mta_penn.turnstile.unique()))"
      ]
    },
    {
      "cell_type": "code",
      "execution_count": null,
      "metadata": {
        "id": "351y5saoLCaQ"
      },
      "outputs": [],
      "source": [
        "penn_turnstile =mta_penn.groupby(['turnstile']).agg({'busy': sum}).sort_values(by = 'busy', ascending = False)\n",
        "\n",
        "fig, ax = plt.subplots(figsize=(25, 8))\n",
        "penn_turnstile.sort_values(by = 'busy',ascending=True).plot(kind='barh', color ='steelblue',ax=ax)\n",
        "ax.set(title='Total Traffic by Turnstile (34 ST-PENN STA)', xlabel='total traffic', ylabel='')\n",
        "ax.legend().set_visible(False)"
      ]
    },
    {
      "cell_type": "code",
      "execution_count": null,
      "metadata": {
        "id": "fKZO0DubLI1p"
      },
      "outputs": [],
      "source": [
        "top_5 =mta_penn.groupby(['turnstile']).agg({'busy': sum}).sort_values(by = 'busy', ascending = False).head()\n",
        "\n",
        "fig, ax = plt.subplots(figsize=(25, 8))\n",
        "top_5.sort_values(by = 'busy',ascending=True).plot(kind='barh', color ='steelblue',ax=ax)\n",
        "ax.set(title='Top 5 Turnstiles by Total Traffic (34 ST-PENN STA)', xlabel='total traffic', ylabel='')\n",
        "ax.legend().set_visible(False)"
      ]
    },
    {
      "cell_type": "code",
      "execution_count": null,
      "metadata": {
        "id": "u0G_3ZcTLPtX"
      },
      "outputs": [],
      "source": [
        "bottom_5 =mta_penn.groupby(['turnstile']).agg({'busy': sum}).sort_values(by = 'busy', ascending = True).head()\n",
        "\n",
        "fig, ax = plt.subplots(figsize=(25, 8))\n",
        "bottom_5.sort_values(by = 'busy',ascending=True).plot(kind='barh', color ='steelblue',ax=ax)\n",
        "ax.set(title='Bottom 5 Turnstiles by Total Traffic (34 ST-PENN STA)', xlabel='total traffic', ylabel='')\n",
        "ax.legend().set_visible(False)"
      ]
    },
    {
      "cell_type": "markdown",
      "metadata": {
        "id": "L5bUIDMJLZxH"
      },
      "source": [
        "**What hour is the busiest for the busiest station - resampling time series data**\n",
        "\n",
        "โดยทั่วไปแล้วข้อมูลต้นฉบับจะถูกสร้างทุกๆ 4 ชั่วโมง\n",
        "\n",
        "ข้อมูลส่วนใหญ่จะถูกรวบรวมในวันที่ 0/4/8/12/16/20 ในขณะที่ข้อมูลอื่นๆ จะถูกรวบรวมในวันที่ 3/7/11/15/19\n",
        "\n",
        "เราจึงทำการสุ่มตัวอย่างข้อมูลใหม่โดยใช้ 1 ชั่วโมงเป็นช่วงเวลาใหม่\n",
        "\n",
        "ชั่วโมงที่มีผู้ใช้บริการมากที่สุดสำหรับ 34 ST-PENN STATION คือ 20.00 น."
      ]
    },
    {
      "cell_type": "code",
      "execution_count": null,
      "metadata": {
        "id": "4EUoMpFFLb_x"
      },
      "outputs": [],
      "source": [
        "mta_penn = mta_h1[(mta_h1['STATION'] == '34 ST-PENN STA')]\n",
        "mta_penn['TIME'] = pd.to_datetime(mta_penn['TIME'], format = '%H:%M:%S') # have to be datetime format so that we could resample\n",
        "mta_penn_grouped = mta_penn.groupby(['TIME']).agg({'busy': sum}).sort_values(by = 'busy', ascending = False)\n",
        "mta_penn_grouped.resample('60T',convention='end').sum().sort_values(by = 'busy', ascending = False).head()"
      ]
    },
    {
      "cell_type": "markdown",
      "metadata": {
        "id": "UN0NzM69L4vl"
      },
      "source": [
        "**Traffic by week of day - periodicity confirmed**\n",
        "\n",
        "Entries and exits are recorded at turnstiles only and cannot be collected when emergency exits are used, therefore total entries has to be larger than total exits, and we suspect that this gap will be larger on weekdays and smaller on weekends.\n",
        "\n",
        "\n",
        "ในสถานีรถไฟใต้ดินในนิวยอร์ก ผู้โดยสารมักจะออกจากสถานีผ่านประตูหมุน ซึ่งผู้โดยสารขาเข้าก็จะเข้าทางนั้นเช่นกัน\n",
        "\n",
        "จากการสังเกตพบว่าหลายคนใช้ทางออกฉุกเฉินในช่วงชั่วโมงเร่งด่วนเพื่อความสะดวก แม้ว่าจะไม่มีเหตุฉุกเฉินก็ตาม สัญญาณเตือนจะไม่ดังเลย ทางเข้าและทางออกจะถูกบันทึกที่ประตูหมุนเท่านั้น และไม่สามารถรวบรวมได้เมื่อใช้ทางออกฉุกเฉิน\n",
        "\n",
        "\n",
        "ดังนั้น จำนวนทางเข้าทั้งหมดจะต้องมากกว่าจำนวนทางออกทั้งหมด และเราคาดว่าช่องว่างนี้จะมากขึ้นในวันธรรมดา และน้อยลงในวันหยุดสุดสัปดาห์\n",
        "\n",
        "The difference between total entries and total exits is not the exact number of emergency exits, but it can be used as a proxy. We represent this gap as the emergency exit rate:\n",
        "\n",
        "*EE rate = (entries - exits)/(busy)*"
      ]
    },
    {
      "cell_type": "code",
      "execution_count": null,
      "metadata": {
        "id": "duoNqa9pL6Py"
      },
      "outputs": [],
      "source": [
        "mta_h1['weekday'] = (mta_h1['datetime']).dt.day_name()\n",
        "#print(mta_h1['datetime'])\n",
        "weekdays = ['Monday', 'Tuesday', 'Wednesday', 'Thursday', 'Friday', 'Saturday', 'Sunday']\n",
        "mta_h1['weekday'] = pd.Categorical(mta_h1['weekday'], categories=weekdays, ordered = True)\n",
        "#print(mta_h1['weekday'])"
      ]
    },
    {
      "cell_type": "code",
      "execution_count": null,
      "metadata": {
        "id": "JN_b0R3TMkdu"
      },
      "outputs": [],
      "source": [
        "weekday_ave = mta_h1[['entries_diff', 'exits_diff', 'busy', 'weekday']].groupby('weekday').sum().reset_index().sort_values(by = 'weekday')\n",
        "weekday_ave['emgergency'] = (weekday_ave['entries_diff'] - weekday_ave['exits_diff'])/weekday_ave['busy']"
      ]
    },
    {
      "cell_type": "code",
      "execution_count": null,
      "metadata": {
        "id": "KOoUNwh_MpDn"
      },
      "outputs": [],
      "source": [
        "fig, ax1 = plt.subplots()\n",
        "ax2 = ax1.twinx()\n",
        "\n",
        "p1 = weekday_ave['busy'].plot(kind='bar', color='steelblue', ax=ax1, label = 'entries')\n",
        "p1.legend(loc = 1)\n",
        "p2 = weekday_ave['exits_diff'].plot(kind='bar', color='orange', ax=ax1, label = 'exits')\n",
        "p2.legend(loc = 1)\n",
        "p3 = weekday_ave['emgergency'].plot(kind='line', dashes = [5, 2], color='maroon', ax=ax2, label = 'EE rate')\n",
        "p3.legend(loc = (0.775, 0.75))\n",
        "\n",
        "plt.xticks((0,1,2,3,4,5,6),('Mon', 'Tue', 'Wed', 'Thu', 'Fri', 'Sat', 'Sun'))\n",
        "ax1.set_xlabel('week of day')\n",
        "ax1.set_ylabel('total traffic', color='steelblue')\n",
        "\n",
        "ax2.set_ylabel('emgergency exit rate', color='maroon')\n",
        "ax2.grid(False)\n",
        "ax2.yaxis.set_major_formatter(FuncFormatter(lambda y, _: '{:.1%}'.format(y)))\n",
        "plt.title('Traffic & Emgergency Exits by Week of Day', size = 12)\n",
        "plt.show()"
      ]
    }
  ],
  "metadata": {
    "colab": {
      "gpuType": "T4",
      "provenance": []
    },
    "kernelspec": {
      "display_name": "Python 3",
      "name": "python3"
    },
    "language_info": {
      "name": "python"
    }
  },
  "nbformat": 4,
  "nbformat_minor": 0
}