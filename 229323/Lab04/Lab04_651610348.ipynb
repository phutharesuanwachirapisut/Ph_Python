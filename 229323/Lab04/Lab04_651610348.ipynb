{
  "cells": [
    {
      "cell_type": "markdown",
      "metadata": {
        "id": "vTDdKQRM36sv"
      },
      "source": [
        "## **เชื่อมต่อฐานข้อมูล pokemon.db(Connect Database)**"
      ]
    },
    {
      "cell_type": "code",
      "execution_count": 121,
      "metadata": {},
      "outputs": [],
      "source": [
        "# Phutharesuan Wachirapisut\n",
        "# 651610348\n",
        "# Lab04\n",
        "# 229323 sec 002"
      ]
    },
    {
      "cell_type": "code",
      "execution_count": 122,
      "metadata": {
        "id": "8t_9BWv23e-7"
      },
      "outputs": [
        {
          "name": "stdout",
          "output_type": "stream",
          "text": [
            "Opened database successfully\n"
          ]
        }
      ],
      "source": [
        "import sqlite3\n",
        "\n",
        "conn = sqlite3.connect('pokemon.db')\n",
        "print(\"Opened database successfully\")\n",
        "conn.close()"
      ]
    },
    {
      "cell_type": "markdown",
      "metadata": {
        "id": "BS5JZMoA4GQO"
      },
      "source": [
        "## **สร้างตารางฐานข้อมูล (Create Table)**\n"
      ]
    },
    {
      "cell_type": "markdown",
      "metadata": {
        "id": "FVlSA15k4xTW"
      },
      "source": [
        "### สร้างตาราง Pokemon"
      ]
    },
    {
      "cell_type": "code",
      "execution_count": 123,
      "metadata": {
        "id": "bUOWrpw-3vDY"
      },
      "outputs": [
        {
          "ename": "OperationalError",
          "evalue": "table CATCH_POKEMON already exists",
          "output_type": "error",
          "traceback": [
            "\u001b[0;31m---------------------------------------------------------------------------\u001b[0m",
            "\u001b[0;31mOperationalError\u001b[0m                          Traceback (most recent call last)",
            "Cell \u001b[0;32mIn[123], line 4\u001b[0m\n\u001b[1;32m      1\u001b[0m conn \u001b[38;5;241m=\u001b[39m sqlite3\u001b[38;5;241m.\u001b[39mconnect(\u001b[38;5;124m'\u001b[39m\u001b[38;5;124mpokemon.db\u001b[39m\u001b[38;5;124m'\u001b[39m)\n\u001b[1;32m      3\u001b[0m \u001b[38;5;28;01mwith\u001b[39;00m conn:\n\u001b[0;32m----> 4\u001b[0m   \u001b[43mconn\u001b[49m\u001b[38;5;241;43m.\u001b[39;49m\u001b[43mexecute\u001b[49m\u001b[43m(\u001b[49m\u001b[38;5;124;43m'''\u001b[39;49m\n\u001b[1;32m      5\u001b[0m \u001b[38;5;124;43m  CREATE TABLE CATCH_POKEMON\u001b[39;49m\n\u001b[1;32m      6\u001b[0m \u001b[38;5;124;43m         (ID INTEGER PRIMARY KEY AUTOINCREMENT,\u001b[39;49m\n\u001b[1;32m      7\u001b[0m \u001b[38;5;124;43m         KIND           TEXT    NOT NULL,\u001b[39;49m\n\u001b[1;32m      8\u001b[0m \u001b[38;5;124;43m         FOUND_NO       INT     NOT NULL,\u001b[39;49m\n\u001b[1;32m      9\u001b[0m \u001b[38;5;124;43m         CAUGHT_NO      INT     NOT NULL)\u001b[39;49m\n\u001b[1;32m     10\u001b[0m \u001b[38;5;124;43m         \u001b[39;49m\u001b[38;5;124;43m'''\u001b[39;49m\u001b[43m)\u001b[49m\n\u001b[1;32m     12\u001b[0m conn\u001b[38;5;241m.\u001b[39mclose()\n\u001b[1;32m     13\u001b[0m \u001b[38;5;28mprint\u001b[39m(\u001b[38;5;124m\"\u001b[39m\u001b[38;5;124mTable created successfully\u001b[39m\u001b[38;5;124m\"\u001b[39m)\n",
            "\u001b[0;31mOperationalError\u001b[0m: table CATCH_POKEMON already exists"
          ]
        }
      ],
      "source": [
        "conn = sqlite3.connect('pokemon.db')\n",
        "\n",
        "with conn:\n",
        "  conn.execute('''\n",
        "  CREATE TABLE CATCH_POKEMON\n",
        "         (ID INTEGER PRIMARY KEY AUTOINCREMENT,\n",
        "         KIND           TEXT    NOT NULL,\n",
        "         FOUND_NO       INT     NOT NULL,\n",
        "         CAUGHT_NO      INT     NOT NULL)\n",
        "         ''')\n",
        "\n",
        "conn.close()\n",
        "print(\"Table created successfully\")"
      ]
    },
    {
      "cell_type": "markdown",
      "metadata": {
        "id": "2n5AExYm43TG"
      },
      "source": [
        "### นำข้อมูลเข้าตาราง Pokemon"
      ]
    },
    {
      "cell_type": "code",
      "execution_count": null,
      "metadata": {
        "id": "Xqgak_Ji4ool"
      },
      "outputs": [
        {
          "name": "stdout",
          "output_type": "stream",
          "text": [
            "Records created successfully\n"
          ]
        }
      ],
      "source": [
        "conn = sqlite3.connect('pokemon.db')\n",
        "\n",
        "with conn:\n",
        "  conn.execute(\"INSERT INTO CATCH_POKEMON (KIND, FOUND_NO, CAUGHT_NO) VALUES ('Pikasu', 10, 7)\")\n",
        "  conn.execute(\"INSERT INTO CATCH_POKEMON (KIND, FOUND_NO, CAUGHT_NO) VALUES ('Carpeter', 15, 8)\")\n",
        "  conn.execute(\"INSERT INTO CATCH_POKEMON (KIND, FOUND_NO, CAUGHT_NO) VALUES ('Beedle', 32, 24)\")\n",
        "  conn.execute(\"INSERT INTO CATCH_POKEMON (KIND, FOUND_NO, CAUGHT_NO) VALUES ('Poppo', 17, 9)\")\n",
        "  conn.execute(\"INSERT INTO CATCH_POKEMON (KIND, FOUND_NO, CAUGHT_NO) VALUES ('Koratta', 16, 12)\")\n",
        "  conn.execute(\"INSERT INTO CATCH_POKEMON (KIND, FOUND_NO, CAUGHT_NO) VALUES ('Onitsumi', 20, 14)\")\n",
        "  conn.execute(\"INSERT INTO CATCH_POKEMON (KIND, FOUND_NO, CAUGHT_NO) VALUES ('Arbo', 28, 17)\")\n",
        "  conn.execute(\"INSERT INTO CATCH_POKEMON (KIND, FOUND_NO, CAUGHT_NO) VALUES ('Konpang', 12, 5)\")\n",
        "  conn.execute(\"INSERT INTO CATCH_POKEMON (KIND, FOUND_NO, CAUGHT_NO) VALUES ('Neauroma', 5, 4)\")\n",
        "  conn.execute(\"INSERT INTO CATCH_POKEMON (KIND, FOUND_NO, CAUGHT_NO) VALUES ('Tamatama', 18, 8)\")\n",
        "  conn.execute(\"INSERT INTO CATCH_POKEMON (KIND, FOUND_NO, CAUGHT_NO) VALUES ('Kokoon', 8, 5)\")\n",
        "  conn.execute(\"INSERT INTO CATCH_POKEMON (KIND, FOUND_NO, CAUGHT_NO) VALUES ('Pigeon', 26, 17)\")\n",
        "  conn.execute(\"INSERT INTO CATCH_POKEMON (KIND, FOUND_NO, CAUGHT_NO) VALUES ('Camel', 17, 12)\")\n",
        "  # conn.commit()\n",
        "\n",
        "conn.close()\n",
        "print(\"Records created successfully\")"
      ]
    },
    {
      "cell_type": "markdown",
      "metadata": {
        "id": "jA287gVA6-MN"
      },
      "source": [
        "### สร้างตาราง find_pokemon"
      ]
    },
    {
      "cell_type": "code",
      "execution_count": null,
      "metadata": {
        "id": "rjsWR3Nm69nP"
      },
      "outputs": [
        {
          "name": "stdout",
          "output_type": "stream",
          "text": [
            "Table created successfully\n"
          ]
        }
      ],
      "source": [
        "conn = sqlite3.connect('pokemon.db')\n",
        "\n",
        "with conn:\n",
        "  conn.execute('''CREATE TABLE FIND_POKEMON\n",
        "         (ID INTEGER PRIMARY KEY    AUTOINCREMENT,\n",
        "         KIND            TEXT    NOT NULL,\n",
        "         SCHOOL          INT     NOT NULL,\n",
        "         PLAYGROUND      INT     NOT NULL,\n",
        "         SHOPPING_MALL   INT     NOT NULL)\n",
        "         ''')\n",
        "\n",
        "conn.close()\n",
        "print(\"Table created successfully\")"
      ]
    },
    {
      "cell_type": "markdown",
      "metadata": {
        "id": "UnJ0Qig46-rk"
      },
      "source": [
        "### Import Data into find_pokemon "
      ]
    },
    {
      "cell_type": "code",
      "execution_count": null,
      "metadata": {
        "id": "T_t5TSiK69x0"
      },
      "outputs": [
        {
          "name": "stdout",
          "output_type": "stream",
          "text": [
            "Records created successfully\n"
          ]
        }
      ],
      "source": [
        "conn = sqlite3.connect('pokemon.db')\n",
        "\n",
        "with conn:\n",
        "  conn.execute(\"INSERT INTO FIND_POKEMON (KIND, SCHOOL, PLAYGROUND, SHOPPING_MALL) VALUES ('Pikasu', 5, 7,5)\")\n",
        "  conn.execute(\"INSERT INTO FIND_POKEMON (KIND, SCHOOL, PLAYGROUND, SHOPPING_MALL) VALUES ('Carpeter', 8, 5, 10)\")\n",
        "  conn.execute(\"INSERT INTO FIND_POKEMON (KIND, SCHOOL, PLAYGROUND, SHOPPING_MALL) VALUES ('Beedle', 18, 13, 25)\")\n",
        "  conn.execute(\"INSERT INTO FIND_POKEMON (KIND, SCHOOL, PLAYGROUND, SHOPPING_MALL) VALUES ('Poppo', 10, 7, 9)\")\n",
        "  conn.execute(\"INSERT INTO FIND_POKEMON (KIND, SCHOOL, PLAYGROUND, SHOPPING_MALL) VALUES ('Koratta', 12, 8, 10)\")\n",
        "  conn.execute(\"INSERT INTO FIND_POKEMON (KIND, SCHOOL, PLAYGROUND, SHOPPING_MALL) VALUES ('Onitsumi', 11, 9, 14)\")\n",
        "  conn.execute(\"INSERT INTO FIND_POKEMON (KIND, SCHOOL, PLAYGROUND, SHOPPING_MALL) VALUES ('Arbo', 15, 22, 8)\")\n",
        "  conn.execute(\"INSERT INTO FIND_POKEMON (KIND, SCHOOL, PLAYGROUND, SHOPPING_MALL) VALUES ('Konpang', 7, 6, 6)\")\n",
        "  conn.execute(\"INSERT INTO FIND_POKEMON (KIND, SCHOOL, PLAYGROUND, SHOPPING_MALL) VALUES ('Neauroma', 3, 2, 4)\")\n",
        "  conn.execute(\"INSERT INTO FIND_POKEMON (KIND, SCHOOL, PLAYGROUND, SHOPPING_MALL) VALUES ('Tamatama', 6, 10, 10)\")\n",
        "  conn.execute(\"INSERT INTO FIND_POKEMON (KIND, SCHOOL, PLAYGROUND, SHOPPING_MALL) VALUES ('Kokoon', 4, 9, 3)\")\n",
        "  conn.execute(\"INSERT INTO FIND_POKEMON (KIND, SCHOOL, PLAYGROUND, SHOPPING_MALL) VALUES ('Pigeon', 16, 15, 12)\")\n",
        "  conn.execute(\"INSERT INTO FIND_POKEMON (KIND, SCHOOL, PLAYGROUND, SHOPPING_MALL) VALUES ('Camel', 8, 11, 10)\")\n",
        "  conn.commit()\n",
        "\n",
        "conn.close()\n",
        "print(\"Records created successfully\")"
      ]
    },
    {
      "cell_type": "markdown",
      "metadata": {
        "id": "dmomw5tm572F"
      },
      "source": [
        "## **สร้าง Utility สำหรับดูข้อมูล**"
      ]
    },
    {
      "cell_type": "code",
      "execution_count": null,
      "metadata": {
        "id": "CSjSc-Ex56zP"
      },
      "outputs": [],
      "source": [
        "import numpy as np\n",
        "import pandas as pd\n",
        "\n",
        "def get_data(cursor):\n",
        "  all_rows = cursor.fetchall()\n",
        "  #[all_rows.append(np.array(row)) for row in cursor]\n",
        "  column_names = [description[0] for description in cursor.description]\n",
        "  df = pd.DataFrame(data=all_rows, columns = column_names)\n",
        "  # ซ่อน index\n",
        "  blankIndex=[''] * len(df)\n",
        "  df.index=blankIndex\n",
        "  return df"
      ]
    },
    {
      "cell_type": "markdown",
      "metadata": {
        "id": "zL3scaDw598d"
      },
      "source": [
        "## **คิวรี่ข้อมูลจากตาราง(Select From Table)**"
      ]
    },
    {
      "cell_type": "code",
      "execution_count": null,
      "metadata": {
        "id": "7-CuzUHe5SgF"
      },
      "outputs": [
        {
          "name": "stdout",
          "output_type": "stream",
          "text": [
            "Operation done successfully\n"
          ]
        },
        {
          "data": {
            "text/html": [
              "<div>\n",
              "<style scoped>\n",
              "    .dataframe tbody tr th:only-of-type {\n",
              "        vertical-align: middle;\n",
              "    }\n",
              "\n",
              "    .dataframe tbody tr th {\n",
              "        vertical-align: top;\n",
              "    }\n",
              "\n",
              "    .dataframe thead th {\n",
              "        text-align: right;\n",
              "    }\n",
              "</style>\n",
              "<table border=\"1\" class=\"dataframe\">\n",
              "  <thead>\n",
              "    <tr style=\"text-align: right;\">\n",
              "      <th></th>\n",
              "      <th>KIND</th>\n",
              "      <th>FOUND_NO</th>\n",
              "      <th>CAUGHT_NO</th>\n",
              "    </tr>\n",
              "  </thead>\n",
              "  <tbody>\n",
              "    <tr>\n",
              "      <th></th>\n",
              "      <td>Pikasu</td>\n",
              "      <td>10</td>\n",
              "      <td>7</td>\n",
              "    </tr>\n",
              "    <tr>\n",
              "      <th></th>\n",
              "      <td>Carpeter</td>\n",
              "      <td>15</td>\n",
              "      <td>8</td>\n",
              "    </tr>\n",
              "    <tr>\n",
              "      <th></th>\n",
              "      <td>Beedle</td>\n",
              "      <td>32</td>\n",
              "      <td>24</td>\n",
              "    </tr>\n",
              "    <tr>\n",
              "      <th></th>\n",
              "      <td>Poppo</td>\n",
              "      <td>17</td>\n",
              "      <td>9</td>\n",
              "    </tr>\n",
              "    <tr>\n",
              "      <th></th>\n",
              "      <td>Koratta</td>\n",
              "      <td>16</td>\n",
              "      <td>12</td>\n",
              "    </tr>\n",
              "    <tr>\n",
              "      <th></th>\n",
              "      <td>Onitsumi</td>\n",
              "      <td>20</td>\n",
              "      <td>14</td>\n",
              "    </tr>\n",
              "    <tr>\n",
              "      <th></th>\n",
              "      <td>Arbo</td>\n",
              "      <td>28</td>\n",
              "      <td>17</td>\n",
              "    </tr>\n",
              "    <tr>\n",
              "      <th></th>\n",
              "      <td>Konpang</td>\n",
              "      <td>12</td>\n",
              "      <td>5</td>\n",
              "    </tr>\n",
              "    <tr>\n",
              "      <th></th>\n",
              "      <td>Neauroma</td>\n",
              "      <td>5</td>\n",
              "      <td>4</td>\n",
              "    </tr>\n",
              "    <tr>\n",
              "      <th></th>\n",
              "      <td>Tamatama</td>\n",
              "      <td>18</td>\n",
              "      <td>8</td>\n",
              "    </tr>\n",
              "    <tr>\n",
              "      <th></th>\n",
              "      <td>Kokoon</td>\n",
              "      <td>8</td>\n",
              "      <td>5</td>\n",
              "    </tr>\n",
              "    <tr>\n",
              "      <th></th>\n",
              "      <td>Pigeon</td>\n",
              "      <td>26</td>\n",
              "      <td>17</td>\n",
              "    </tr>\n",
              "    <tr>\n",
              "      <th></th>\n",
              "      <td>Camel</td>\n",
              "      <td>17</td>\n",
              "      <td>12</td>\n",
              "    </tr>\n",
              "  </tbody>\n",
              "</table>\n",
              "</div>"
            ],
            "text/plain": [
              "      KIND  FOUND_NO  CAUGHT_NO\n",
              "    Pikasu        10          7\n",
              "  Carpeter        15          8\n",
              "    Beedle        32         24\n",
              "     Poppo        17          9\n",
              "   Koratta        16         12\n",
              "  Onitsumi        20         14\n",
              "      Arbo        28         17\n",
              "   Konpang        12          5\n",
              "  Neauroma         5          4\n",
              "  Tamatama        18          8\n",
              "    Kokoon         8          5\n",
              "    Pigeon        26         17\n",
              "     Camel        17         12"
            ]
          },
          "execution_count": 8,
          "metadata": {},
          "output_type": "execute_result"
        }
      ],
      "source": [
        "conn = sqlite3.connect('pokemon.db')\n",
        "\n",
        "with conn:\n",
        "  cursor = conn.execute(\"SELECT KIND, FOUND_NO, CAUGHT_NO FROM CATCH_POKEMON\")\n",
        "\n",
        "df=get_data(cursor)\n",
        "conn.close()\n",
        "print(\"Operation done successfully\")\n",
        "df"
      ]
    },
    {
      "cell_type": "code",
      "execution_count": null,
      "metadata": {
        "id": "LlJELSpp6FQE"
      },
      "outputs": [
        {
          "name": "stdout",
          "output_type": "stream",
          "text": [
            "Operation done successfully\n"
          ]
        },
        {
          "data": {
            "text/html": [
              "<div>\n",
              "<style scoped>\n",
              "    .dataframe tbody tr th:only-of-type {\n",
              "        vertical-align: middle;\n",
              "    }\n",
              "\n",
              "    .dataframe tbody tr th {\n",
              "        vertical-align: top;\n",
              "    }\n",
              "\n",
              "    .dataframe thead th {\n",
              "        text-align: right;\n",
              "    }\n",
              "</style>\n",
              "<table border=\"1\" class=\"dataframe\">\n",
              "  <thead>\n",
              "    <tr style=\"text-align: right;\">\n",
              "      <th></th>\n",
              "      <th>ID</th>\n",
              "      <th>KIND</th>\n",
              "      <th>SCHOOL</th>\n",
              "      <th>PLAYGROUND</th>\n",
              "      <th>SHOPPING_MALL</th>\n",
              "    </tr>\n",
              "  </thead>\n",
              "  <tbody>\n",
              "    <tr>\n",
              "      <th></th>\n",
              "      <td>1</td>\n",
              "      <td>Pikasu</td>\n",
              "      <td>5</td>\n",
              "      <td>7</td>\n",
              "      <td>5</td>\n",
              "    </tr>\n",
              "    <tr>\n",
              "      <th></th>\n",
              "      <td>2</td>\n",
              "      <td>Carpeter</td>\n",
              "      <td>8</td>\n",
              "      <td>5</td>\n",
              "      <td>10</td>\n",
              "    </tr>\n",
              "    <tr>\n",
              "      <th></th>\n",
              "      <td>3</td>\n",
              "      <td>Beedle</td>\n",
              "      <td>18</td>\n",
              "      <td>13</td>\n",
              "      <td>25</td>\n",
              "    </tr>\n",
              "    <tr>\n",
              "      <th></th>\n",
              "      <td>4</td>\n",
              "      <td>Poppo</td>\n",
              "      <td>10</td>\n",
              "      <td>7</td>\n",
              "      <td>9</td>\n",
              "    </tr>\n",
              "    <tr>\n",
              "      <th></th>\n",
              "      <td>5</td>\n",
              "      <td>Koratta</td>\n",
              "      <td>12</td>\n",
              "      <td>8</td>\n",
              "      <td>10</td>\n",
              "    </tr>\n",
              "    <tr>\n",
              "      <th></th>\n",
              "      <td>6</td>\n",
              "      <td>Onitsumi</td>\n",
              "      <td>11</td>\n",
              "      <td>9</td>\n",
              "      <td>14</td>\n",
              "    </tr>\n",
              "    <tr>\n",
              "      <th></th>\n",
              "      <td>7</td>\n",
              "      <td>Arbo</td>\n",
              "      <td>15</td>\n",
              "      <td>22</td>\n",
              "      <td>8</td>\n",
              "    </tr>\n",
              "    <tr>\n",
              "      <th></th>\n",
              "      <td>8</td>\n",
              "      <td>Konpang</td>\n",
              "      <td>7</td>\n",
              "      <td>6</td>\n",
              "      <td>6</td>\n",
              "    </tr>\n",
              "    <tr>\n",
              "      <th></th>\n",
              "      <td>9</td>\n",
              "      <td>Neauroma</td>\n",
              "      <td>3</td>\n",
              "      <td>2</td>\n",
              "      <td>4</td>\n",
              "    </tr>\n",
              "    <tr>\n",
              "      <th></th>\n",
              "      <td>10</td>\n",
              "      <td>Tamatama</td>\n",
              "      <td>6</td>\n",
              "      <td>10</td>\n",
              "      <td>10</td>\n",
              "    </tr>\n",
              "    <tr>\n",
              "      <th></th>\n",
              "      <td>11</td>\n",
              "      <td>Kokoon</td>\n",
              "      <td>4</td>\n",
              "      <td>9</td>\n",
              "      <td>3</td>\n",
              "    </tr>\n",
              "    <tr>\n",
              "      <th></th>\n",
              "      <td>12</td>\n",
              "      <td>Pigeon</td>\n",
              "      <td>16</td>\n",
              "      <td>15</td>\n",
              "      <td>12</td>\n",
              "    </tr>\n",
              "    <tr>\n",
              "      <th></th>\n",
              "      <td>13</td>\n",
              "      <td>Camel</td>\n",
              "      <td>8</td>\n",
              "      <td>11</td>\n",
              "      <td>10</td>\n",
              "    </tr>\n",
              "  </tbody>\n",
              "</table>\n",
              "</div>"
            ],
            "text/plain": [
              "  ID      KIND  SCHOOL  PLAYGROUND  SHOPPING_MALL\n",
              "   1    Pikasu       5           7              5\n",
              "   2  Carpeter       8           5             10\n",
              "   3    Beedle      18          13             25\n",
              "   4     Poppo      10           7              9\n",
              "   5   Koratta      12           8             10\n",
              "   6  Onitsumi      11           9             14\n",
              "   7      Arbo      15          22              8\n",
              "   8   Konpang       7           6              6\n",
              "   9  Neauroma       3           2              4\n",
              "  10  Tamatama       6          10             10\n",
              "  11    Kokoon       4           9              3\n",
              "  12    Pigeon      16          15             12\n",
              "  13     Camel       8          11             10"
            ]
          },
          "execution_count": 9,
          "metadata": {},
          "output_type": "execute_result"
        }
      ],
      "source": [
        "conn = sqlite3.connect('pokemon.db')\n",
        "\n",
        "with conn:\n",
        "  cursor = conn.execute(\"SELECT * FROM FIND_POKEMON\")\n",
        "\n",
        "df=get_data(cursor)\n",
        "conn.close()\n",
        "print(\"Operation done successfully\")\n",
        "df"
      ]
    },
    {
      "cell_type": "markdown",
      "metadata": {
        "id": "vwqBcDWL79Qt"
      },
      "source": [
        "## จากตารางข้อมูลที่กำหนดให้ จงทำการคำนวณและแสดงผลของข้อมูลต่อไปนี้\n"
      ]
    },
    {
      "cell_type": "markdown",
      "metadata": {
        "id": "d29CQhcW8EhU"
      },
      "source": [
        "### a. คำนวณผลรวมของชนิด pokemon ที่มีอยู่ว่าแต่ละชนิดถูกพบและจับได้จำนวนอย่างละเท่าใด -> READ\n"
      ]
    },
    {
      "cell_type": "code",
      "execution_count": null,
      "metadata": {
        "colab": {
          "base_uri": "https://localhost:8080/",
          "height": 474
        },
        "id": "Xslb8LRn_BYD",
        "outputId": "007c86cf-0532-4db9-fbf7-34a5fc3cb28b"
      },
      "outputs": [
        {
          "name": "stdout",
          "output_type": "stream",
          "text": [
            "Operation done successfully\n"
          ]
        },
        {
          "data": {
            "text/html": [
              "<div>\n",
              "<style scoped>\n",
              "    .dataframe tbody tr th:only-of-type {\n",
              "        vertical-align: middle;\n",
              "    }\n",
              "\n",
              "    .dataframe tbody tr th {\n",
              "        vertical-align: top;\n",
              "    }\n",
              "\n",
              "    .dataframe thead th {\n",
              "        text-align: right;\n",
              "    }\n",
              "</style>\n",
              "<table border=\"1\" class=\"dataframe\">\n",
              "  <thead>\n",
              "    <tr style=\"text-align: right;\">\n",
              "      <th></th>\n",
              "      <th>KIND</th>\n",
              "      <th>SUM_FOUND_CAUGHT</th>\n",
              "    </tr>\n",
              "  </thead>\n",
              "  <tbody>\n",
              "    <tr>\n",
              "      <th></th>\n",
              "      <td>Pikasu</td>\n",
              "      <td>17</td>\n",
              "    </tr>\n",
              "    <tr>\n",
              "      <th></th>\n",
              "      <td>Carpeter</td>\n",
              "      <td>23</td>\n",
              "    </tr>\n",
              "    <tr>\n",
              "      <th></th>\n",
              "      <td>Beedle</td>\n",
              "      <td>56</td>\n",
              "    </tr>\n",
              "    <tr>\n",
              "      <th></th>\n",
              "      <td>Poppo</td>\n",
              "      <td>26</td>\n",
              "    </tr>\n",
              "    <tr>\n",
              "      <th></th>\n",
              "      <td>Koratta</td>\n",
              "      <td>28</td>\n",
              "    </tr>\n",
              "    <tr>\n",
              "      <th></th>\n",
              "      <td>Onitsumi</td>\n",
              "      <td>34</td>\n",
              "    </tr>\n",
              "    <tr>\n",
              "      <th></th>\n",
              "      <td>Arbo</td>\n",
              "      <td>45</td>\n",
              "    </tr>\n",
              "    <tr>\n",
              "      <th></th>\n",
              "      <td>Konpang</td>\n",
              "      <td>17</td>\n",
              "    </tr>\n",
              "    <tr>\n",
              "      <th></th>\n",
              "      <td>Neauroma</td>\n",
              "      <td>9</td>\n",
              "    </tr>\n",
              "    <tr>\n",
              "      <th></th>\n",
              "      <td>Tamatama</td>\n",
              "      <td>26</td>\n",
              "    </tr>\n",
              "    <tr>\n",
              "      <th></th>\n",
              "      <td>Kokoon</td>\n",
              "      <td>13</td>\n",
              "    </tr>\n",
              "    <tr>\n",
              "      <th></th>\n",
              "      <td>Pigeon</td>\n",
              "      <td>43</td>\n",
              "    </tr>\n",
              "    <tr>\n",
              "      <th></th>\n",
              "      <td>Camel</td>\n",
              "      <td>29</td>\n",
              "    </tr>\n",
              "  </tbody>\n",
              "</table>\n",
              "</div>"
            ],
            "text/plain": [
              "      KIND  SUM_FOUND_CAUGHT\n",
              "    Pikasu                17\n",
              "  Carpeter                23\n",
              "    Beedle                56\n",
              "     Poppo                26\n",
              "   Koratta                28\n",
              "  Onitsumi                34\n",
              "      Arbo                45\n",
              "   Konpang                17\n",
              "  Neauroma                 9\n",
              "  Tamatama                26\n",
              "    Kokoon                13\n",
              "    Pigeon                43\n",
              "     Camel                29"
            ]
          },
          "execution_count": 19,
          "metadata": {},
          "output_type": "execute_result"
        }
      ],
      "source": [
        "conn = sqlite3.connect(\"pokemon.db\")\n",
        "\n",
        "with conn:\n",
        "    result = conn.execute(\"SELECT KIND, (FOUND_NO + CAUGHT_NO) as SUM_FOUND_CAUGHT  FROM CATCH_POKEMON;\")\n",
        "    \n",
        "df = get_data(result)\n",
        "conn.close()\n",
        "print(\"Operation done successfully\")\n",
        "df"
      ]
    },
    {
      "cell_type": "markdown",
      "metadata": {
        "id": "uA2wdEdi8Q6E"
      },
      "source": [
        "### b. คำนวณค่าสัดส่วนร้อยละของจำนวนที่จับได้ต่อจำนวนที่พบ โดยแสดงเป็น column ใหม่ชื่อ performance -> CREATE + UPDATE + READ\n",
        "\n"
      ]
    },
    {
      "cell_type": "code",
      "execution_count": null,
      "metadata": {
        "id": "nIQ8jazn789l"
      },
      "outputs": [
        {
          "name": "stdout",
          "output_type": "stream",
          "text": [
            "Operation done successfully\n"
          ]
        },
        {
          "data": {
            "text/html": [
              "<div>\n",
              "<style scoped>\n",
              "    .dataframe tbody tr th:only-of-type {\n",
              "        vertical-align: middle;\n",
              "    }\n",
              "\n",
              "    .dataframe tbody tr th {\n",
              "        vertical-align: top;\n",
              "    }\n",
              "\n",
              "    .dataframe thead th {\n",
              "        text-align: right;\n",
              "    }\n",
              "</style>\n",
              "<table border=\"1\" class=\"dataframe\">\n",
              "  <thead>\n",
              "    <tr style=\"text-align: right;\">\n",
              "      <th></th>\n",
              "      <th>ID</th>\n",
              "      <th>KIND</th>\n",
              "      <th>FOUND_NO</th>\n",
              "      <th>CAUGHT_NO</th>\n",
              "      <th>PERFORMANCE</th>\n",
              "    </tr>\n",
              "  </thead>\n",
              "  <tbody>\n",
              "    <tr>\n",
              "      <th></th>\n",
              "      <td>1</td>\n",
              "      <td>Pikasu</td>\n",
              "      <td>10</td>\n",
              "      <td>7</td>\n",
              "      <td>70.000000</td>\n",
              "    </tr>\n",
              "    <tr>\n",
              "      <th></th>\n",
              "      <td>2</td>\n",
              "      <td>Carpeter</td>\n",
              "      <td>15</td>\n",
              "      <td>8</td>\n",
              "      <td>53.333333</td>\n",
              "    </tr>\n",
              "    <tr>\n",
              "      <th></th>\n",
              "      <td>3</td>\n",
              "      <td>Beedle</td>\n",
              "      <td>32</td>\n",
              "      <td>24</td>\n",
              "      <td>75.000000</td>\n",
              "    </tr>\n",
              "    <tr>\n",
              "      <th></th>\n",
              "      <td>4</td>\n",
              "      <td>Poppo</td>\n",
              "      <td>17</td>\n",
              "      <td>9</td>\n",
              "      <td>52.941176</td>\n",
              "    </tr>\n",
              "    <tr>\n",
              "      <th></th>\n",
              "      <td>5</td>\n",
              "      <td>Koratta</td>\n",
              "      <td>16</td>\n",
              "      <td>12</td>\n",
              "      <td>75.000000</td>\n",
              "    </tr>\n",
              "    <tr>\n",
              "      <th></th>\n",
              "      <td>6</td>\n",
              "      <td>Onitsumi</td>\n",
              "      <td>20</td>\n",
              "      <td>14</td>\n",
              "      <td>70.000000</td>\n",
              "    </tr>\n",
              "    <tr>\n",
              "      <th></th>\n",
              "      <td>7</td>\n",
              "      <td>Arbo</td>\n",
              "      <td>28</td>\n",
              "      <td>17</td>\n",
              "      <td>60.714286</td>\n",
              "    </tr>\n",
              "    <tr>\n",
              "      <th></th>\n",
              "      <td>8</td>\n",
              "      <td>Konpang</td>\n",
              "      <td>12</td>\n",
              "      <td>5</td>\n",
              "      <td>41.666667</td>\n",
              "    </tr>\n",
              "    <tr>\n",
              "      <th></th>\n",
              "      <td>9</td>\n",
              "      <td>Neauroma</td>\n",
              "      <td>5</td>\n",
              "      <td>4</td>\n",
              "      <td>80.000000</td>\n",
              "    </tr>\n",
              "    <tr>\n",
              "      <th></th>\n",
              "      <td>10</td>\n",
              "      <td>Tamatama</td>\n",
              "      <td>18</td>\n",
              "      <td>8</td>\n",
              "      <td>44.444444</td>\n",
              "    </tr>\n",
              "    <tr>\n",
              "      <th></th>\n",
              "      <td>11</td>\n",
              "      <td>Kokoon</td>\n",
              "      <td>8</td>\n",
              "      <td>5</td>\n",
              "      <td>62.500000</td>\n",
              "    </tr>\n",
              "    <tr>\n",
              "      <th></th>\n",
              "      <td>12</td>\n",
              "      <td>Pigeon</td>\n",
              "      <td>26</td>\n",
              "      <td>17</td>\n",
              "      <td>65.384615</td>\n",
              "    </tr>\n",
              "    <tr>\n",
              "      <th></th>\n",
              "      <td>13</td>\n",
              "      <td>Camel</td>\n",
              "      <td>17</td>\n",
              "      <td>12</td>\n",
              "      <td>70.588235</td>\n",
              "    </tr>\n",
              "  </tbody>\n",
              "</table>\n",
              "</div>"
            ],
            "text/plain": [
              "  ID      KIND  FOUND_NO  CAUGHT_NO  PERFORMANCE\n",
              "   1    Pikasu        10          7    70.000000\n",
              "   2  Carpeter        15          8    53.333333\n",
              "   3    Beedle        32         24    75.000000\n",
              "   4     Poppo        17          9    52.941176\n",
              "   5   Koratta        16         12    75.000000\n",
              "   6  Onitsumi        20         14    70.000000\n",
              "   7      Arbo        28         17    60.714286\n",
              "   8   Konpang        12          5    41.666667\n",
              "   9  Neauroma         5          4    80.000000\n",
              "  10  Tamatama        18          8    44.444444\n",
              "  11    Kokoon         8          5    62.500000\n",
              "  12    Pigeon        26         17    65.384615\n",
              "  13     Camel        17         12    70.588235"
            ]
          },
          "execution_count": 117,
          "metadata": {},
          "output_type": "execute_result"
        }
      ],
      "source": [
        "conn = sqlite3.connect(\"pokemon.db\")\n",
        "\n",
        "with conn:\n",
        "    result = conn.execute(\"SELECT *, CAUGHT_NO*100.0/FOUND_NO AS PERFORMANCE FROM CATCH_POKEMON CP;\")\n",
        "df = get_data(result)\n",
        "conn.commit()\n",
        "conn.close()\n",
        "print(\"Operation done successfully\")\n",
        "df"
      ]
    },
    {
      "cell_type": "markdown",
      "metadata": {
        "id": "o1PjxiW48nYL"
      },
      "source": [
        "### c. แสดงผลโดยจัดเรียงตามชื่อชนิดของ pokemon -> READ\n",
        "\n"
      ]
    },
    {
      "cell_type": "code",
      "execution_count": null,
      "metadata": {},
      "outputs": [
        {
          "name": "stdout",
          "output_type": "stream",
          "text": [
            "Operation done successfully\n"
          ]
        },
        {
          "data": {
            "text/html": [
              "<div>\n",
              "<style scoped>\n",
              "    .dataframe tbody tr th:only-of-type {\n",
              "        vertical-align: middle;\n",
              "    }\n",
              "\n",
              "    .dataframe tbody tr th {\n",
              "        vertical-align: top;\n",
              "    }\n",
              "\n",
              "    .dataframe thead th {\n",
              "        text-align: right;\n",
              "    }\n",
              "</style>\n",
              "<table border=\"1\" class=\"dataframe\">\n",
              "  <thead>\n",
              "    <tr style=\"text-align: right;\">\n",
              "      <th></th>\n",
              "      <th>ID</th>\n",
              "      <th>KIND</th>\n",
              "      <th>FOUND_NO</th>\n",
              "      <th>CAUGHT_NO</th>\n",
              "      <th>PERFORMANCE</th>\n",
              "    </tr>\n",
              "  </thead>\n",
              "  <tbody>\n",
              "    <tr>\n",
              "      <th></th>\n",
              "      <td>7</td>\n",
              "      <td>Arbo</td>\n",
              "      <td>28</td>\n",
              "      <td>17</td>\n",
              "      <td>60.714286</td>\n",
              "    </tr>\n",
              "    <tr>\n",
              "      <th></th>\n",
              "      <td>3</td>\n",
              "      <td>Beedle</td>\n",
              "      <td>32</td>\n",
              "      <td>24</td>\n",
              "      <td>75.000000</td>\n",
              "    </tr>\n",
              "    <tr>\n",
              "      <th></th>\n",
              "      <td>13</td>\n",
              "      <td>Camel</td>\n",
              "      <td>17</td>\n",
              "      <td>12</td>\n",
              "      <td>70.588235</td>\n",
              "    </tr>\n",
              "    <tr>\n",
              "      <th></th>\n",
              "      <td>2</td>\n",
              "      <td>Carpeter</td>\n",
              "      <td>15</td>\n",
              "      <td>8</td>\n",
              "      <td>53.333333</td>\n",
              "    </tr>\n",
              "    <tr>\n",
              "      <th></th>\n",
              "      <td>11</td>\n",
              "      <td>Kokoon</td>\n",
              "      <td>8</td>\n",
              "      <td>5</td>\n",
              "      <td>62.500000</td>\n",
              "    </tr>\n",
              "    <tr>\n",
              "      <th></th>\n",
              "      <td>8</td>\n",
              "      <td>Konpang</td>\n",
              "      <td>12</td>\n",
              "      <td>5</td>\n",
              "      <td>41.666667</td>\n",
              "    </tr>\n",
              "    <tr>\n",
              "      <th></th>\n",
              "      <td>5</td>\n",
              "      <td>Koratta</td>\n",
              "      <td>16</td>\n",
              "      <td>12</td>\n",
              "      <td>75.000000</td>\n",
              "    </tr>\n",
              "    <tr>\n",
              "      <th></th>\n",
              "      <td>9</td>\n",
              "      <td>Neauroma</td>\n",
              "      <td>5</td>\n",
              "      <td>4</td>\n",
              "      <td>80.000000</td>\n",
              "    </tr>\n",
              "    <tr>\n",
              "      <th></th>\n",
              "      <td>6</td>\n",
              "      <td>Onitsumi</td>\n",
              "      <td>20</td>\n",
              "      <td>14</td>\n",
              "      <td>70.000000</td>\n",
              "    </tr>\n",
              "    <tr>\n",
              "      <th></th>\n",
              "      <td>12</td>\n",
              "      <td>Pigeon</td>\n",
              "      <td>26</td>\n",
              "      <td>17</td>\n",
              "      <td>65.384615</td>\n",
              "    </tr>\n",
              "    <tr>\n",
              "      <th></th>\n",
              "      <td>1</td>\n",
              "      <td>Pikasu</td>\n",
              "      <td>10</td>\n",
              "      <td>7</td>\n",
              "      <td>70.000000</td>\n",
              "    </tr>\n",
              "    <tr>\n",
              "      <th></th>\n",
              "      <td>4</td>\n",
              "      <td>Poppo</td>\n",
              "      <td>17</td>\n",
              "      <td>9</td>\n",
              "      <td>52.941176</td>\n",
              "    </tr>\n",
              "    <tr>\n",
              "      <th></th>\n",
              "      <td>10</td>\n",
              "      <td>Tamatama</td>\n",
              "      <td>18</td>\n",
              "      <td>8</td>\n",
              "      <td>44.444444</td>\n",
              "    </tr>\n",
              "  </tbody>\n",
              "</table>\n",
              "</div>"
            ],
            "text/plain": [
              "  ID      KIND  FOUND_NO  CAUGHT_NO  PERFORMANCE\n",
              "   7      Arbo        28         17    60.714286\n",
              "   3    Beedle        32         24    75.000000\n",
              "  13     Camel        17         12    70.588235\n",
              "   2  Carpeter        15          8    53.333333\n",
              "  11    Kokoon         8          5    62.500000\n",
              "   8   Konpang        12          5    41.666667\n",
              "   5   Koratta        16         12    75.000000\n",
              "   9  Neauroma         5          4    80.000000\n",
              "   6  Onitsumi        20         14    70.000000\n",
              "  12    Pigeon        26         17    65.384615\n",
              "   1    Pikasu        10          7    70.000000\n",
              "   4     Poppo        17          9    52.941176\n",
              "  10  Tamatama        18          8    44.444444"
            ]
          },
          "execution_count": 118,
          "metadata": {},
          "output_type": "execute_result"
        }
      ],
      "source": [
        "conn = sqlite3.connect(\"pokemon.db\")\n",
        "\n",
        "with conn:\n",
        "    result = conn.execute(\"SELECT *, (CP.CAUGHT_NO*100.0/CP.FOUND_NO) AS PERFORMANCE FROM CATCH_POKEMON CP ORDER BY KIND ASC;\")\n",
        "\n",
        "df = get_data(result)\n",
        "conn.commit()\n",
        "conn.close()\n",
        "\n",
        "print(\"Operation done successfully\")\n",
        "df"
      ]
    },
    {
      "cell_type": "markdown",
      "metadata": {
        "id": "Plu-OaZW8oKy"
      },
      "source": [
        "### d. จากตารางที่ 1 แสดงผลตามเรียงตามลำดับของจำนวนที่พบแต่จับไม่ได้เป็นลำดับแรก และจำนวนที่พบและจับได้เป็นลำดับสอง(โดยเรียงจากมากไปน้อย) -> READ\n"
      ]
    },
    {
      "cell_type": "code",
      "execution_count": 120,
      "metadata": {},
      "outputs": [
        {
          "name": "stdout",
          "output_type": "stream",
          "text": [
            "Operation done successfully\n"
          ]
        },
        {
          "data": {
            "text/html": [
              "<div>\n",
              "<style scoped>\n",
              "    .dataframe tbody tr th:only-of-type {\n",
              "        vertical-align: middle;\n",
              "    }\n",
              "\n",
              "    .dataframe tbody tr th {\n",
              "        vertical-align: top;\n",
              "    }\n",
              "\n",
              "    .dataframe thead th {\n",
              "        text-align: right;\n",
              "    }\n",
              "</style>\n",
              "<table border=\"1\" class=\"dataframe\">\n",
              "  <thead>\n",
              "    <tr style=\"text-align: right;\">\n",
              "      <th></th>\n",
              "      <th>ID</th>\n",
              "      <th>KIND</th>\n",
              "      <th>FOUND_NO</th>\n",
              "      <th>CAUGHT_NO</th>\n",
              "      <th>PERFORMANCE</th>\n",
              "    </tr>\n",
              "  </thead>\n",
              "  <tbody>\n",
              "    <tr>\n",
              "      <th></th>\n",
              "      <td>3</td>\n",
              "      <td>Beedle</td>\n",
              "      <td>32</td>\n",
              "      <td>24</td>\n",
              "      <td>75.000000</td>\n",
              "    </tr>\n",
              "    <tr>\n",
              "      <th></th>\n",
              "      <td>7</td>\n",
              "      <td>Arbo</td>\n",
              "      <td>28</td>\n",
              "      <td>17</td>\n",
              "      <td>60.714286</td>\n",
              "    </tr>\n",
              "    <tr>\n",
              "      <th></th>\n",
              "      <td>12</td>\n",
              "      <td>Pigeon</td>\n",
              "      <td>26</td>\n",
              "      <td>17</td>\n",
              "      <td>65.384615</td>\n",
              "    </tr>\n",
              "    <tr>\n",
              "      <th></th>\n",
              "      <td>6</td>\n",
              "      <td>Onitsumi</td>\n",
              "      <td>20</td>\n",
              "      <td>14</td>\n",
              "      <td>70.000000</td>\n",
              "    </tr>\n",
              "    <tr>\n",
              "      <th></th>\n",
              "      <td>10</td>\n",
              "      <td>Tamatama</td>\n",
              "      <td>18</td>\n",
              "      <td>8</td>\n",
              "      <td>44.444444</td>\n",
              "    </tr>\n",
              "    <tr>\n",
              "      <th></th>\n",
              "      <td>13</td>\n",
              "      <td>Camel</td>\n",
              "      <td>17</td>\n",
              "      <td>12</td>\n",
              "      <td>70.588235</td>\n",
              "    </tr>\n",
              "    <tr>\n",
              "      <th></th>\n",
              "      <td>4</td>\n",
              "      <td>Poppo</td>\n",
              "      <td>17</td>\n",
              "      <td>9</td>\n",
              "      <td>52.941176</td>\n",
              "    </tr>\n",
              "    <tr>\n",
              "      <th></th>\n",
              "      <td>5</td>\n",
              "      <td>Koratta</td>\n",
              "      <td>16</td>\n",
              "      <td>12</td>\n",
              "      <td>75.000000</td>\n",
              "    </tr>\n",
              "    <tr>\n",
              "      <th></th>\n",
              "      <td>2</td>\n",
              "      <td>Carpeter</td>\n",
              "      <td>15</td>\n",
              "      <td>8</td>\n",
              "      <td>53.333333</td>\n",
              "    </tr>\n",
              "    <tr>\n",
              "      <th></th>\n",
              "      <td>8</td>\n",
              "      <td>Konpang</td>\n",
              "      <td>12</td>\n",
              "      <td>5</td>\n",
              "      <td>41.666667</td>\n",
              "    </tr>\n",
              "    <tr>\n",
              "      <th></th>\n",
              "      <td>1</td>\n",
              "      <td>Pikasu</td>\n",
              "      <td>10</td>\n",
              "      <td>7</td>\n",
              "      <td>70.000000</td>\n",
              "    </tr>\n",
              "    <tr>\n",
              "      <th></th>\n",
              "      <td>11</td>\n",
              "      <td>Kokoon</td>\n",
              "      <td>8</td>\n",
              "      <td>5</td>\n",
              "      <td>62.500000</td>\n",
              "    </tr>\n",
              "    <tr>\n",
              "      <th></th>\n",
              "      <td>9</td>\n",
              "      <td>Neauroma</td>\n",
              "      <td>5</td>\n",
              "      <td>4</td>\n",
              "      <td>80.000000</td>\n",
              "    </tr>\n",
              "  </tbody>\n",
              "</table>\n",
              "</div>"
            ],
            "text/plain": [
              "  ID      KIND  FOUND_NO  CAUGHT_NO  PERFORMANCE\n",
              "   3    Beedle        32         24    75.000000\n",
              "   7      Arbo        28         17    60.714286\n",
              "  12    Pigeon        26         17    65.384615\n",
              "   6  Onitsumi        20         14    70.000000\n",
              "  10  Tamatama        18          8    44.444444\n",
              "  13     Camel        17         12    70.588235\n",
              "   4     Poppo        17          9    52.941176\n",
              "   5   Koratta        16         12    75.000000\n",
              "   2  Carpeter        15          8    53.333333\n",
              "   8   Konpang        12          5    41.666667\n",
              "   1    Pikasu        10          7    70.000000\n",
              "  11    Kokoon         8          5    62.500000\n",
              "   9  Neauroma         5          4    80.000000"
            ]
          },
          "execution_count": 120,
          "metadata": {},
          "output_type": "execute_result"
        }
      ],
      "source": [
        "conn = sqlite3.connect(\"pokemon.db\")\n",
        "\n",
        "with conn:\n",
        "    result = conn.execute(\"SELECT *, (CAUGHT_NO*100.0/FOUND_NO) AS PERFORMANCE FROM CATCH_POKEMON ORDER BY FOUND_NO DESC, CAUGHT_NO DESC\")\n",
        "\n",
        "df=get_data(result)\n",
        "conn.close()\n",
        "\n",
        "print(\"Operation done successfully\")\n",
        "df"
      ]
    },
    {
      "cell_type": "markdown",
      "metadata": {
        "id": "U_OjHrYD8oeK"
      },
      "source": [
        "### e. แสดงชื่อชนิดของ pokemon ที่มีค่า performance >= 65% -> READ\n"
      ]
    },
    {
      "cell_type": "code",
      "execution_count": 134,
      "metadata": {},
      "outputs": [
        {
          "name": "stdout",
          "output_type": "stream",
          "text": [
            "Operation done successfully\n"
          ]
        },
        {
          "data": {
            "text/html": [
              "<div>\n",
              "<style scoped>\n",
              "    .dataframe tbody tr th:only-of-type {\n",
              "        vertical-align: middle;\n",
              "    }\n",
              "\n",
              "    .dataframe tbody tr th {\n",
              "        vertical-align: top;\n",
              "    }\n",
              "\n",
              "    .dataframe thead th {\n",
              "        text-align: right;\n",
              "    }\n",
              "</style>\n",
              "<table border=\"1\" class=\"dataframe\">\n",
              "  <thead>\n",
              "    <tr style=\"text-align: right;\">\n",
              "      <th></th>\n",
              "      <th>ID</th>\n",
              "      <th>KIND</th>\n",
              "      <th>FOUND_NO</th>\n",
              "      <th>CAUGHT_NO</th>\n",
              "      <th>PERFORMANCE</th>\n",
              "    </tr>\n",
              "  </thead>\n",
              "  <tbody>\n",
              "    <tr>\n",
              "      <th></th>\n",
              "      <td>1</td>\n",
              "      <td>Pikasu</td>\n",
              "      <td>10</td>\n",
              "      <td>7</td>\n",
              "      <td>70.000000</td>\n",
              "    </tr>\n",
              "    <tr>\n",
              "      <th></th>\n",
              "      <td>3</td>\n",
              "      <td>Beedle</td>\n",
              "      <td>32</td>\n",
              "      <td>24</td>\n",
              "      <td>75.000000</td>\n",
              "    </tr>\n",
              "    <tr>\n",
              "      <th></th>\n",
              "      <td>5</td>\n",
              "      <td>Koratta</td>\n",
              "      <td>16</td>\n",
              "      <td>12</td>\n",
              "      <td>75.000000</td>\n",
              "    </tr>\n",
              "    <tr>\n",
              "      <th></th>\n",
              "      <td>6</td>\n",
              "      <td>Onitsumi</td>\n",
              "      <td>20</td>\n",
              "      <td>14</td>\n",
              "      <td>70.000000</td>\n",
              "    </tr>\n",
              "    <tr>\n",
              "      <th></th>\n",
              "      <td>9</td>\n",
              "      <td>Neauroma</td>\n",
              "      <td>5</td>\n",
              "      <td>4</td>\n",
              "      <td>80.000000</td>\n",
              "    </tr>\n",
              "    <tr>\n",
              "      <th></th>\n",
              "      <td>12</td>\n",
              "      <td>Pigeon</td>\n",
              "      <td>26</td>\n",
              "      <td>17</td>\n",
              "      <td>65.384615</td>\n",
              "    </tr>\n",
              "    <tr>\n",
              "      <th></th>\n",
              "      <td>13</td>\n",
              "      <td>Camel</td>\n",
              "      <td>17</td>\n",
              "      <td>12</td>\n",
              "      <td>70.588235</td>\n",
              "    </tr>\n",
              "  </tbody>\n",
              "</table>\n",
              "</div>"
            ],
            "text/plain": [
              "  ID      KIND  FOUND_NO  CAUGHT_NO  PERFORMANCE\n",
              "   1    Pikasu        10          7    70.000000\n",
              "   3    Beedle        32         24    75.000000\n",
              "   5   Koratta        16         12    75.000000\n",
              "   6  Onitsumi        20         14    70.000000\n",
              "   9  Neauroma         5          4    80.000000\n",
              "  12    Pigeon        26         17    65.384615\n",
              "  13     Camel        17         12    70.588235"
            ]
          },
          "execution_count": 134,
          "metadata": {},
          "output_type": "execute_result"
        }
      ],
      "source": [
        "conn = sqlite3.connect(\"pokemon.db\")\n",
        "\n",
        "with conn:\n",
        "    result = conn.execute(\"SELECT *, (CAUGHT_NO*100.0/FOUND_NO) AS PERFORMANCE FROM CATCH_POKEMON CP WHERE PERFORMANCE>=65;\")\n",
        "\n",
        "df=get_data(result)\n",
        "conn.commit()\n",
        "print(\"Operation done successfully\")\n",
        "df"
      ]
    },
    {
      "cell_type": "markdown",
      "metadata": {
        "id": "1S2iS_6y8orT"
      },
      "source": [
        "### f. แสดงชนิดของ pokemon เพียง 2 ขนิดที่มีค่า performance สูงสุด และต่ำสุด -> READ\n"
      ]
    },
    {
      "cell_type": "markdown",
      "metadata": {
        "id": "VtApHuPrBAgj"
      },
      "source": [
        "pokemon ที่มีค่า performance สูงสุด"
      ]
    },
    {
      "cell_type": "code",
      "execution_count": 136,
      "metadata": {
        "colab": {
          "base_uri": "https://localhost:8080/",
          "height": 98
        },
        "id": "ZuCLZ58G8owD",
        "outputId": "1d8e85a0-608c-41df-b4f6-3950b245ac7b"
      },
      "outputs": [
        {
          "data": {
            "text/html": [
              "<div>\n",
              "<style scoped>\n",
              "    .dataframe tbody tr th:only-of-type {\n",
              "        vertical-align: middle;\n",
              "    }\n",
              "\n",
              "    .dataframe tbody tr th {\n",
              "        vertical-align: top;\n",
              "    }\n",
              "\n",
              "    .dataframe thead th {\n",
              "        text-align: right;\n",
              "    }\n",
              "</style>\n",
              "<table border=\"1\" class=\"dataframe\">\n",
              "  <thead>\n",
              "    <tr style=\"text-align: right;\">\n",
              "      <th></th>\n",
              "      <th>ID</th>\n",
              "      <th>KIND</th>\n",
              "      <th>FOUND_NO</th>\n",
              "      <th>CAUGHT_NO</th>\n",
              "      <th>PERFORMANCE</th>\n",
              "    </tr>\n",
              "  </thead>\n",
              "  <tbody>\n",
              "    <tr>\n",
              "      <th></th>\n",
              "      <td>9</td>\n",
              "      <td>Neauroma</td>\n",
              "      <td>5</td>\n",
              "      <td>4</td>\n",
              "      <td>80.0</td>\n",
              "    </tr>\n",
              "  </tbody>\n",
              "</table>\n",
              "</div>"
            ],
            "text/plain": [
              "  ID      KIND  FOUND_NO  CAUGHT_NO  PERFORMANCE\n",
              "   9  Neauroma         5          4         80.0"
            ]
          },
          "execution_count": 136,
          "metadata": {},
          "output_type": "execute_result"
        }
      ],
      "source": [
        "with conn:\n",
        "    result = conn.execute(\"SELECT *,MAX((CAUGHT_NO*100.0/FOUND_NO)) AS PERFORMANCE FROM CATCH_POKEMON\")\n",
        "\n",
        "df = get_data(result)\n",
        "df"
      ]
    },
    {
      "cell_type": "markdown",
      "metadata": {
        "id": "ZOVXgukMBC7b"
      },
      "source": [
        "pokemon ที่มีค่า performance ต่ำสุด"
      ]
    },
    {
      "cell_type": "code",
      "execution_count": 155,
      "metadata": {
        "colab": {
          "base_uri": "https://localhost:8080/",
          "height": 98
        },
        "id": "f88cQH1CAefm",
        "outputId": "96a8221b-5f61-4553-a28a-5299d8c39579"
      },
      "outputs": [
        {
          "name": "stdout",
          "output_type": "stream",
          "text": [
            "Operation done successfully\n"
          ]
        },
        {
          "data": {
            "text/html": [
              "<div>\n",
              "<style scoped>\n",
              "    .dataframe tbody tr th:only-of-type {\n",
              "        vertical-align: middle;\n",
              "    }\n",
              "\n",
              "    .dataframe tbody tr th {\n",
              "        vertical-align: top;\n",
              "    }\n",
              "\n",
              "    .dataframe thead th {\n",
              "        text-align: right;\n",
              "    }\n",
              "</style>\n",
              "<table border=\"1\" class=\"dataframe\">\n",
              "  <thead>\n",
              "    <tr style=\"text-align: right;\">\n",
              "      <th></th>\n",
              "      <th>ID</th>\n",
              "      <th>KIND</th>\n",
              "      <th>FOUND_NO</th>\n",
              "      <th>CAUGHT_NO</th>\n",
              "      <th>PERFORMANCE</th>\n",
              "    </tr>\n",
              "  </thead>\n",
              "  <tbody>\n",
              "    <tr>\n",
              "      <th></th>\n",
              "      <td>8</td>\n",
              "      <td>Konpang</td>\n",
              "      <td>12</td>\n",
              "      <td>5</td>\n",
              "      <td>41.666667</td>\n",
              "    </tr>\n",
              "  </tbody>\n",
              "</table>\n",
              "</div>"
            ],
            "text/plain": [
              "  ID     KIND  FOUND_NO  CAUGHT_NO  PERFORMANCE\n",
              "   8  Konpang        12          5    41.666667"
            ]
          },
          "execution_count": 155,
          "metadata": {},
          "output_type": "execute_result"
        }
      ],
      "source": [
        "with conn:\n",
        "    result = conn.execute(\"SELECT *,MIN((CAUGHT_NO*100.0/FOUND_NO)) AS PERFORMANCE FROM CATCH_POKEMON\")\n",
        "\n",
        "df = get_data(result)\n",
        "print(\"Operation done successfully\")\n",
        "df"
      ]
    },
    {
      "cell_type": "markdown",
      "metadata": {
        "id": "-cl1pTyX6Vz0"
      },
      "source": [
        "pokemon ที่มีค่าสูงสุดและต่ำสุด"
      ]
    },
    {
      "cell_type": "code",
      "execution_count": 156,
      "metadata": {},
      "outputs": [
        {
          "name": "stdout",
          "output_type": "stream",
          "text": [
            "Operation done successfully\n"
          ]
        },
        {
          "data": {
            "text/html": [
              "<div>\n",
              "<style scoped>\n",
              "    .dataframe tbody tr th:only-of-type {\n",
              "        vertical-align: middle;\n",
              "    }\n",
              "\n",
              "    .dataframe tbody tr th {\n",
              "        vertical-align: top;\n",
              "    }\n",
              "\n",
              "    .dataframe thead th {\n",
              "        text-align: right;\n",
              "    }\n",
              "</style>\n",
              "<table border=\"1\" class=\"dataframe\">\n",
              "  <thead>\n",
              "    <tr style=\"text-align: right;\">\n",
              "      <th></th>\n",
              "      <th>ID</th>\n",
              "      <th>KIND</th>\n",
              "      <th>FOUND_NO</th>\n",
              "      <th>CAUGHT_NO</th>\n",
              "      <th>PERFORMANCE</th>\n",
              "    </tr>\n",
              "  </thead>\n",
              "  <tbody>\n",
              "    <tr>\n",
              "      <th></th>\n",
              "      <td>8</td>\n",
              "      <td>Konpang</td>\n",
              "      <td>12</td>\n",
              "      <td>5</td>\n",
              "      <td>41.666667</td>\n",
              "    </tr>\n",
              "    <tr>\n",
              "      <th></th>\n",
              "      <td>9</td>\n",
              "      <td>Neauroma</td>\n",
              "      <td>5</td>\n",
              "      <td>4</td>\n",
              "      <td>80.000000</td>\n",
              "    </tr>\n",
              "  </tbody>\n",
              "</table>\n",
              "</div>"
            ],
            "text/plain": [
              "  ID      KIND  FOUND_NO  CAUGHT_NO  PERFORMANCE\n",
              "   8   Konpang        12          5    41.666667\n",
              "   9  Neauroma         5          4    80.000000"
            ]
          },
          "execution_count": 156,
          "metadata": {},
          "output_type": "execute_result"
        }
      ],
      "source": [
        "with conn:\n",
        "    result = conn.execute(\"SELECT *,MAX((CAUGHT_NO*100.0/FOUND_NO)) AS PERFORMANCE  FROM CATCH_POKEMON\\\n",
        "        UNION\\\n",
        "            SELECT *, MIN((CAUGHT_NO*100.0/FOUND_NO)) AS PERFORMANCE  FROM CATCH_POKEMON;\")\n",
        "df = get_data(result)\n",
        "print(\"Operation done successfully\")\n",
        "\n",
        "df"
      ]
    },
    {
      "cell_type": "markdown",
      "metadata": {
        "id": "_bkFoGb88o0C"
      },
      "source": [
        "### g. แสดงผลรวมของชนิด pokemon ที่จับได้ จากตารางที่ 2\n"
      ]
    },
    {
      "cell_type": "code",
      "execution_count": 157,
      "metadata": {},
      "outputs": [
        {
          "name": "stdout",
          "output_type": "stream",
          "text": [
            "Operation done successfully\n"
          ]
        },
        {
          "data": {
            "text/html": [
              "<div>\n",
              "<style scoped>\n",
              "    .dataframe tbody tr th:only-of-type {\n",
              "        vertical-align: middle;\n",
              "    }\n",
              "\n",
              "    .dataframe tbody tr th {\n",
              "        vertical-align: top;\n",
              "    }\n",
              "\n",
              "    .dataframe thead th {\n",
              "        text-align: right;\n",
              "    }\n",
              "</style>\n",
              "<table border=\"1\" class=\"dataframe\">\n",
              "  <thead>\n",
              "    <tr style=\"text-align: right;\">\n",
              "      <th></th>\n",
              "      <th>KIND</th>\n",
              "      <th>SUM_CAUGHT</th>\n",
              "    </tr>\n",
              "  </thead>\n",
              "  <tbody>\n",
              "    <tr>\n",
              "      <th></th>\n",
              "      <td>Pikasu</td>\n",
              "      <td>17</td>\n",
              "    </tr>\n",
              "    <tr>\n",
              "      <th></th>\n",
              "      <td>Carpeter</td>\n",
              "      <td>23</td>\n",
              "    </tr>\n",
              "    <tr>\n",
              "      <th></th>\n",
              "      <td>Beedle</td>\n",
              "      <td>56</td>\n",
              "    </tr>\n",
              "    <tr>\n",
              "      <th></th>\n",
              "      <td>Poppo</td>\n",
              "      <td>26</td>\n",
              "    </tr>\n",
              "    <tr>\n",
              "      <th></th>\n",
              "      <td>Koratta</td>\n",
              "      <td>30</td>\n",
              "    </tr>\n",
              "    <tr>\n",
              "      <th></th>\n",
              "      <td>Onitsumi</td>\n",
              "      <td>34</td>\n",
              "    </tr>\n",
              "    <tr>\n",
              "      <th></th>\n",
              "      <td>Arbo</td>\n",
              "      <td>45</td>\n",
              "    </tr>\n",
              "    <tr>\n",
              "      <th></th>\n",
              "      <td>Konpang</td>\n",
              "      <td>19</td>\n",
              "    </tr>\n",
              "    <tr>\n",
              "      <th></th>\n",
              "      <td>Neauroma</td>\n",
              "      <td>9</td>\n",
              "    </tr>\n",
              "    <tr>\n",
              "      <th></th>\n",
              "      <td>Tamatama</td>\n",
              "      <td>26</td>\n",
              "    </tr>\n",
              "    <tr>\n",
              "      <th></th>\n",
              "      <td>Kokoon</td>\n",
              "      <td>16</td>\n",
              "    </tr>\n",
              "    <tr>\n",
              "      <th></th>\n",
              "      <td>Pigeon</td>\n",
              "      <td>43</td>\n",
              "    </tr>\n",
              "    <tr>\n",
              "      <th></th>\n",
              "      <td>Camel</td>\n",
              "      <td>29</td>\n",
              "    </tr>\n",
              "  </tbody>\n",
              "</table>\n",
              "</div>"
            ],
            "text/plain": [
              "      KIND  SUM_CAUGHT\n",
              "    Pikasu          17\n",
              "  Carpeter          23\n",
              "    Beedle          56\n",
              "     Poppo          26\n",
              "   Koratta          30\n",
              "  Onitsumi          34\n",
              "      Arbo          45\n",
              "   Konpang          19\n",
              "  Neauroma           9\n",
              "  Tamatama          26\n",
              "    Kokoon          16\n",
              "    Pigeon          43\n",
              "     Camel          29"
            ]
          },
          "execution_count": 157,
          "metadata": {},
          "output_type": "execute_result"
        }
      ],
      "source": [
        "with conn:\n",
        "    df = get_data(conn.execute(\"SELECT KIND, (SCHOOL+PLAYGROUND+SHOPPING_MALL) AS SUM_CAUGHT FROM FIND_POKEMON\"))\n",
        "\n",
        "print(\"Operation done successfully\")\n",
        "\n",
        "df"
      ]
    },
    {
      "cell_type": "markdown",
      "metadata": {
        "id": "8JdBpPW38pD6"
      },
      "source": [
        "### h. แสดงชนิดของ pokemon ที่เมื่อตรวจสอบแล้วพบว่าผลรวมชนิดของ pokemon จากตารางที่ 1 และ 2 ไม่ตรงกันจากนั้นให้ทำการลบ record ที่ไม่สอดคล้องกัน ออกจากตารางทั้งสอง -> READ, DELETE\n"
      ]
    },
    {
      "cell_type": "code",
      "execution_count": 167,
      "metadata": {
        "colab": {
          "base_uri": "https://localhost:8080/",
          "height": 474
        },
        "id": "DP78zN74DDm_",
        "outputId": "5bd7e0fa-9ab0-4e65-d730-b3ee617cd6f7"
      },
      "outputs": [
        {
          "name": "stdout",
          "output_type": "stream",
          "text": [
            "Operation done successfully\n"
          ]
        },
        {
          "data": {
            "text/html": [
              "<div>\n",
              "<style scoped>\n",
              "    .dataframe tbody tr th:only-of-type {\n",
              "        vertical-align: middle;\n",
              "    }\n",
              "\n",
              "    .dataframe tbody tr th {\n",
              "        vertical-align: top;\n",
              "    }\n",
              "\n",
              "    .dataframe thead th {\n",
              "        text-align: right;\n",
              "    }\n",
              "</style>\n",
              "<table border=\"1\" class=\"dataframe\">\n",
              "  <thead>\n",
              "    <tr style=\"text-align: right;\">\n",
              "      <th></th>\n",
              "      <th>KIND</th>\n",
              "      <th>TOTAL</th>\n",
              "    </tr>\n",
              "  </thead>\n",
              "  <tbody>\n",
              "    <tr>\n",
              "      <th></th>\n",
              "      <td>Pikasu</td>\n",
              "      <td>17</td>\n",
              "    </tr>\n",
              "    <tr>\n",
              "      <th></th>\n",
              "      <td>Carpeter</td>\n",
              "      <td>23</td>\n",
              "    </tr>\n",
              "    <tr>\n",
              "      <th></th>\n",
              "      <td>Beedle</td>\n",
              "      <td>56</td>\n",
              "    </tr>\n",
              "    <tr>\n",
              "      <th></th>\n",
              "      <td>Poppo</td>\n",
              "      <td>26</td>\n",
              "    </tr>\n",
              "    <tr>\n",
              "      <th></th>\n",
              "      <td>Koratta</td>\n",
              "      <td>28</td>\n",
              "    </tr>\n",
              "    <tr>\n",
              "      <th></th>\n",
              "      <td>Onitsumi</td>\n",
              "      <td>34</td>\n",
              "    </tr>\n",
              "    <tr>\n",
              "      <th></th>\n",
              "      <td>Arbo</td>\n",
              "      <td>45</td>\n",
              "    </tr>\n",
              "    <tr>\n",
              "      <th></th>\n",
              "      <td>Konpang</td>\n",
              "      <td>17</td>\n",
              "    </tr>\n",
              "    <tr>\n",
              "      <th></th>\n",
              "      <td>Neauroma</td>\n",
              "      <td>9</td>\n",
              "    </tr>\n",
              "    <tr>\n",
              "      <th></th>\n",
              "      <td>Tamatama</td>\n",
              "      <td>26</td>\n",
              "    </tr>\n",
              "    <tr>\n",
              "      <th></th>\n",
              "      <td>Kokoon</td>\n",
              "      <td>13</td>\n",
              "    </tr>\n",
              "    <tr>\n",
              "      <th></th>\n",
              "      <td>Pigeon</td>\n",
              "      <td>43</td>\n",
              "    </tr>\n",
              "    <tr>\n",
              "      <th></th>\n",
              "      <td>Camel</td>\n",
              "      <td>29</td>\n",
              "    </tr>\n",
              "  </tbody>\n",
              "</table>\n",
              "</div>"
            ],
            "text/plain": [
              "      KIND  TOTAL\n",
              "    Pikasu     17\n",
              "  Carpeter     23\n",
              "    Beedle     56\n",
              "     Poppo     26\n",
              "   Koratta     28\n",
              "  Onitsumi     34\n",
              "      Arbo     45\n",
              "   Konpang     17\n",
              "  Neauroma      9\n",
              "  Tamatama     26\n",
              "    Kokoon     13\n",
              "    Pigeon     43\n",
              "     Camel     29"
            ]
          },
          "execution_count": 167,
          "metadata": {},
          "output_type": "execute_result"
        }
      ],
      "source": [
        "with conn:\n",
        "    df = get_data(conn.execute(\"SELECT KIND, (CAUGHT_NO+FOUND_NO) AS TOTAL FROM CATCH_POKEMON\"))\n",
        "print(\"Operation done successfully\")\n",
        "df "
      ]
    },
    {
      "cell_type": "code",
      "execution_count": 166,
      "metadata": {
        "colab": {
          "base_uri": "https://localhost:8080/",
          "height": 474
        },
        "id": "dHBcTx8FDVxd",
        "outputId": "43aff6ae-c52c-4327-c9ab-0b997024b76b"
      },
      "outputs": [
        {
          "name": "stdout",
          "output_type": "stream",
          "text": [
            "Operation done successfully\n"
          ]
        },
        {
          "data": {
            "text/html": [
              "<div>\n",
              "<style scoped>\n",
              "    .dataframe tbody tr th:only-of-type {\n",
              "        vertical-align: middle;\n",
              "    }\n",
              "\n",
              "    .dataframe tbody tr th {\n",
              "        vertical-align: top;\n",
              "    }\n",
              "\n",
              "    .dataframe thead th {\n",
              "        text-align: right;\n",
              "    }\n",
              "</style>\n",
              "<table border=\"1\" class=\"dataframe\">\n",
              "  <thead>\n",
              "    <tr style=\"text-align: right;\">\n",
              "      <th></th>\n",
              "      <th>KIND</th>\n",
              "      <th>TOTAL</th>\n",
              "    </tr>\n",
              "  </thead>\n",
              "  <tbody>\n",
              "    <tr>\n",
              "      <th></th>\n",
              "      <td>Pikasu</td>\n",
              "      <td>17</td>\n",
              "    </tr>\n",
              "    <tr>\n",
              "      <th></th>\n",
              "      <td>Carpeter</td>\n",
              "      <td>23</td>\n",
              "    </tr>\n",
              "    <tr>\n",
              "      <th></th>\n",
              "      <td>Beedle</td>\n",
              "      <td>56</td>\n",
              "    </tr>\n",
              "    <tr>\n",
              "      <th></th>\n",
              "      <td>Poppo</td>\n",
              "      <td>26</td>\n",
              "    </tr>\n",
              "    <tr>\n",
              "      <th></th>\n",
              "      <td>Koratta</td>\n",
              "      <td>30</td>\n",
              "    </tr>\n",
              "    <tr>\n",
              "      <th></th>\n",
              "      <td>Onitsumi</td>\n",
              "      <td>34</td>\n",
              "    </tr>\n",
              "    <tr>\n",
              "      <th></th>\n",
              "      <td>Arbo</td>\n",
              "      <td>45</td>\n",
              "    </tr>\n",
              "    <tr>\n",
              "      <th></th>\n",
              "      <td>Konpang</td>\n",
              "      <td>19</td>\n",
              "    </tr>\n",
              "    <tr>\n",
              "      <th></th>\n",
              "      <td>Neauroma</td>\n",
              "      <td>9</td>\n",
              "    </tr>\n",
              "    <tr>\n",
              "      <th></th>\n",
              "      <td>Tamatama</td>\n",
              "      <td>26</td>\n",
              "    </tr>\n",
              "    <tr>\n",
              "      <th></th>\n",
              "      <td>Kokoon</td>\n",
              "      <td>16</td>\n",
              "    </tr>\n",
              "    <tr>\n",
              "      <th></th>\n",
              "      <td>Pigeon</td>\n",
              "      <td>43</td>\n",
              "    </tr>\n",
              "    <tr>\n",
              "      <th></th>\n",
              "      <td>Camel</td>\n",
              "      <td>29</td>\n",
              "    </tr>\n",
              "  </tbody>\n",
              "</table>\n",
              "</div>"
            ],
            "text/plain": [
              "      KIND  TOTAL\n",
              "    Pikasu     17\n",
              "  Carpeter     23\n",
              "    Beedle     56\n",
              "     Poppo     26\n",
              "   Koratta     30\n",
              "  Onitsumi     34\n",
              "      Arbo     45\n",
              "   Konpang     19\n",
              "  Neauroma      9\n",
              "  Tamatama     26\n",
              "    Kokoon     16\n",
              "    Pigeon     43\n",
              "     Camel     29"
            ]
          },
          "execution_count": 166,
          "metadata": {},
          "output_type": "execute_result"
        }
      ],
      "source": [
        "with conn:\n",
        "    df = get_data(conn.execute(\"SELECT KIND, (SCHOOL+PLAYGROUND+SHOPPING_MALL) AS TOTAL FROM FIND_POKEMON\"))\n",
        "print(\"Operation done successfully\")\n",
        "df"
      ]
    },
    {
      "cell_type": "code",
      "execution_count": 245,
      "metadata": {},
      "outputs": [
        {
          "name": "stdout",
          "output_type": "stream",
          "text": [
            "Operation done successfully\n"
          ]
        },
        {
          "data": {
            "text/html": [
              "<div>\n",
              "<style scoped>\n",
              "    .dataframe tbody tr th:only-of-type {\n",
              "        vertical-align: middle;\n",
              "    }\n",
              "\n",
              "    .dataframe tbody tr th {\n",
              "        vertical-align: top;\n",
              "    }\n",
              "\n",
              "    .dataframe thead th {\n",
              "        text-align: right;\n",
              "    }\n",
              "</style>\n",
              "<table border=\"1\" class=\"dataframe\">\n",
              "  <thead>\n",
              "    <tr style=\"text-align: right;\">\n",
              "      <th></th>\n",
              "      <th>KIND</th>\n",
              "      <th>SUM_T1</th>\n",
              "      <th>SUM_T2</th>\n",
              "    </tr>\n",
              "  </thead>\n",
              "  <tbody>\n",
              "    <tr>\n",
              "      <th></th>\n",
              "      <td>Koratta</td>\n",
              "      <td>28</td>\n",
              "      <td>30</td>\n",
              "    </tr>\n",
              "    <tr>\n",
              "      <th></th>\n",
              "      <td>Konpang</td>\n",
              "      <td>17</td>\n",
              "      <td>19</td>\n",
              "    </tr>\n",
              "    <tr>\n",
              "      <th></th>\n",
              "      <td>Kokoon</td>\n",
              "      <td>13</td>\n",
              "      <td>16</td>\n",
              "    </tr>\n",
              "  </tbody>\n",
              "</table>\n",
              "</div>"
            ],
            "text/plain": [
              "     KIND  SUM_T1  SUM_T2\n",
              "  Koratta      28      30\n",
              "  Konpang      17      19\n",
              "   Kokoon      13      16"
            ]
          },
          "execution_count": 245,
          "metadata": {},
          "output_type": "execute_result"
        }
      ],
      "source": [
        "with conn:\n",
        "    df = get_data(conn.execute(\"SELECT T2.KIND, (CAUGHT_NO + FOUND_NO) AS SUM_T1,(SCHOOL + PLAYGROUND + SHOPPING_MALL) AS SUM_T2  \\\n",
        "        FROM CATCH_POKEMON T1 \\\n",
        "        INNER JOIN FIND_POKEMON T2\\\n",
        "        ON T1.KIND = T2.KIND\\\n",
        "        WHERE SUM_T1 != SUM_T2\")\n",
        "    )\n",
        "print(\"Operation done successfully\")\n",
        "df"
      ]
    },
    {
      "cell_type": "code",
      "execution_count": 275,
      "metadata": {},
      "outputs": [
        {
          "name": "stdout",
          "output_type": "stream",
          "text": [
            "Operation done successfully\n"
          ]
        },
        {
          "data": {
            "text/html": [
              "<div>\n",
              "<style scoped>\n",
              "    .dataframe tbody tr th:only-of-type {\n",
              "        vertical-align: middle;\n",
              "    }\n",
              "\n",
              "    .dataframe tbody tr th {\n",
              "        vertical-align: top;\n",
              "    }\n",
              "\n",
              "    .dataframe thead th {\n",
              "        text-align: right;\n",
              "    }\n",
              "</style>\n",
              "<table border=\"1\" class=\"dataframe\">\n",
              "  <thead>\n",
              "    <tr style=\"text-align: right;\">\n",
              "      <th></th>\n",
              "      <th>ID</th>\n",
              "      <th>KIND</th>\n",
              "      <th>FOUND_NO</th>\n",
              "      <th>CAUGHT_NO</th>\n",
              "      <th>PERFORMANCE</th>\n",
              "      <th>SUM_POKEMON</th>\n",
              "    </tr>\n",
              "  </thead>\n",
              "  <tbody>\n",
              "    <tr>\n",
              "      <th></th>\n",
              "      <td>1</td>\n",
              "      <td>Pikasu</td>\n",
              "      <td>10</td>\n",
              "      <td>7</td>\n",
              "      <td>70.000000</td>\n",
              "      <td>17</td>\n",
              "    </tr>\n",
              "    <tr>\n",
              "      <th></th>\n",
              "      <td>2</td>\n",
              "      <td>Carpeter</td>\n",
              "      <td>15</td>\n",
              "      <td>8</td>\n",
              "      <td>53.333333</td>\n",
              "      <td>23</td>\n",
              "    </tr>\n",
              "    <tr>\n",
              "      <th></th>\n",
              "      <td>3</td>\n",
              "      <td>Beedle</td>\n",
              "      <td>32</td>\n",
              "      <td>24</td>\n",
              "      <td>75.000000</td>\n",
              "      <td>56</td>\n",
              "    </tr>\n",
              "    <tr>\n",
              "      <th></th>\n",
              "      <td>4</td>\n",
              "      <td>Poppo</td>\n",
              "      <td>17</td>\n",
              "      <td>9</td>\n",
              "      <td>52.941176</td>\n",
              "      <td>26</td>\n",
              "    </tr>\n",
              "    <tr>\n",
              "      <th></th>\n",
              "      <td>6</td>\n",
              "      <td>Onitsumi</td>\n",
              "      <td>20</td>\n",
              "      <td>14</td>\n",
              "      <td>70.000000</td>\n",
              "      <td>34</td>\n",
              "    </tr>\n",
              "    <tr>\n",
              "      <th></th>\n",
              "      <td>7</td>\n",
              "      <td>Arbo</td>\n",
              "      <td>28</td>\n",
              "      <td>17</td>\n",
              "      <td>60.714286</td>\n",
              "      <td>45</td>\n",
              "    </tr>\n",
              "    <tr>\n",
              "      <th></th>\n",
              "      <td>9</td>\n",
              "      <td>Neauroma</td>\n",
              "      <td>5</td>\n",
              "      <td>4</td>\n",
              "      <td>80.000000</td>\n",
              "      <td>9</td>\n",
              "    </tr>\n",
              "    <tr>\n",
              "      <th></th>\n",
              "      <td>10</td>\n",
              "      <td>Tamatama</td>\n",
              "      <td>18</td>\n",
              "      <td>8</td>\n",
              "      <td>44.444444</td>\n",
              "      <td>26</td>\n",
              "    </tr>\n",
              "    <tr>\n",
              "      <th></th>\n",
              "      <td>12</td>\n",
              "      <td>Pigeon</td>\n",
              "      <td>26</td>\n",
              "      <td>17</td>\n",
              "      <td>65.384615</td>\n",
              "      <td>43</td>\n",
              "    </tr>\n",
              "    <tr>\n",
              "      <th></th>\n",
              "      <td>13</td>\n",
              "      <td>Camel</td>\n",
              "      <td>17</td>\n",
              "      <td>12</td>\n",
              "      <td>70.588235</td>\n",
              "      <td>29</td>\n",
              "    </tr>\n",
              "  </tbody>\n",
              "</table>\n",
              "</div>"
            ],
            "text/plain": [
              "  ID      KIND  FOUND_NO  CAUGHT_NO  PERFORMANCE  SUM_POKEMON\n",
              "   1    Pikasu        10          7    70.000000           17\n",
              "   2  Carpeter        15          8    53.333333           23\n",
              "   3    Beedle        32         24    75.000000           56\n",
              "   4     Poppo        17          9    52.941176           26\n",
              "   6  Onitsumi        20         14    70.000000           34\n",
              "   7      Arbo        28         17    60.714286           45\n",
              "   9  Neauroma         5          4    80.000000            9\n",
              "  10  Tamatama        18          8    44.444444           26\n",
              "  12    Pigeon        26         17    65.384615           43\n",
              "  13     Camel        17         12    70.588235           29"
            ]
          },
          "execution_count": 275,
          "metadata": {},
          "output_type": "execute_result"
        }
      ],
      "source": [
        "with conn:\n",
        "    df = get_data(\n",
        "        conn.execute(\"\"\"\n",
        "        SELECT ID, KIND,FOUND_NO, CAUGHT_NO ,\n",
        "            (CAUGHT_NO * 100.0/FOUND_NO) PERFORMANCE,\n",
        "            (FOUND_NO + CAUGHT_NO) SUM_POKEMON\n",
        "        FROM (SELECT T2.ID , T2.KIND,T1.FOUND_NO, T1.CAUGHT_NO,\n",
        "                (T1.CAUGHT_NO + T1.FOUND_NO) AS SUM_T1,\n",
        "                (T2.SCHOOL + T2.PLAYGROUND + T2.SHOPPING_MALL) AS SUM_T2\n",
        "            FROM CATCH_POKEMON T1 \n",
        "            INNER JOIN FIND_POKEMON T2\n",
        "            ON T1.KIND = T2.KIND) SUB\n",
        "        WHERE SUM_T1 = SUM_T2\n",
        "        \"\"\")\n",
        "    )\n",
        "print(\"Operation done successfully\")\n",
        "df"
      ]
    },
    {
      "cell_type": "code",
      "execution_count": 279,
      "metadata": {},
      "outputs": [
        {
          "name": "stdout",
          "output_type": "stream",
          "text": [
            "Operation done successfully\n"
          ]
        },
        {
          "data": {
            "text/html": [
              "<div>\n",
              "<style scoped>\n",
              "    .dataframe tbody tr th:only-of-type {\n",
              "        vertical-align: middle;\n",
              "    }\n",
              "\n",
              "    .dataframe tbody tr th {\n",
              "        vertical-align: top;\n",
              "    }\n",
              "\n",
              "    .dataframe thead th {\n",
              "        text-align: right;\n",
              "    }\n",
              "</style>\n",
              "<table border=\"1\" class=\"dataframe\">\n",
              "  <thead>\n",
              "    <tr style=\"text-align: right;\">\n",
              "      <th></th>\n",
              "      <th>ID</th>\n",
              "      <th>KIND</th>\n",
              "      <th>SCHOOL</th>\n",
              "      <th>PLAYGROUND</th>\n",
              "      <th>SHOPPING_MALL</th>\n",
              "      <th>SUM_FIND</th>\n",
              "    </tr>\n",
              "  </thead>\n",
              "  <tbody>\n",
              "    <tr>\n",
              "      <th></th>\n",
              "      <td>1</td>\n",
              "      <td>Pikasu</td>\n",
              "      <td>5</td>\n",
              "      <td>7</td>\n",
              "      <td>5</td>\n",
              "      <td>17</td>\n",
              "    </tr>\n",
              "    <tr>\n",
              "      <th></th>\n",
              "      <td>2</td>\n",
              "      <td>Carpeter</td>\n",
              "      <td>8</td>\n",
              "      <td>5</td>\n",
              "      <td>10</td>\n",
              "      <td>23</td>\n",
              "    </tr>\n",
              "    <tr>\n",
              "      <th></th>\n",
              "      <td>3</td>\n",
              "      <td>Beedle</td>\n",
              "      <td>18</td>\n",
              "      <td>13</td>\n",
              "      <td>25</td>\n",
              "      <td>56</td>\n",
              "    </tr>\n",
              "    <tr>\n",
              "      <th></th>\n",
              "      <td>4</td>\n",
              "      <td>Poppo</td>\n",
              "      <td>10</td>\n",
              "      <td>7</td>\n",
              "      <td>9</td>\n",
              "      <td>26</td>\n",
              "    </tr>\n",
              "    <tr>\n",
              "      <th></th>\n",
              "      <td>6</td>\n",
              "      <td>Onitsumi</td>\n",
              "      <td>11</td>\n",
              "      <td>9</td>\n",
              "      <td>14</td>\n",
              "      <td>34</td>\n",
              "    </tr>\n",
              "    <tr>\n",
              "      <th></th>\n",
              "      <td>7</td>\n",
              "      <td>Arbo</td>\n",
              "      <td>15</td>\n",
              "      <td>22</td>\n",
              "      <td>8</td>\n",
              "      <td>45</td>\n",
              "    </tr>\n",
              "    <tr>\n",
              "      <th></th>\n",
              "      <td>9</td>\n",
              "      <td>Neauroma</td>\n",
              "      <td>3</td>\n",
              "      <td>2</td>\n",
              "      <td>4</td>\n",
              "      <td>9</td>\n",
              "    </tr>\n",
              "    <tr>\n",
              "      <th></th>\n",
              "      <td>10</td>\n",
              "      <td>Tamatama</td>\n",
              "      <td>6</td>\n",
              "      <td>10</td>\n",
              "      <td>10</td>\n",
              "      <td>26</td>\n",
              "    </tr>\n",
              "    <tr>\n",
              "      <th></th>\n",
              "      <td>12</td>\n",
              "      <td>Pigeon</td>\n",
              "      <td>16</td>\n",
              "      <td>15</td>\n",
              "      <td>12</td>\n",
              "      <td>43</td>\n",
              "    </tr>\n",
              "    <tr>\n",
              "      <th></th>\n",
              "      <td>13</td>\n",
              "      <td>Camel</td>\n",
              "      <td>8</td>\n",
              "      <td>11</td>\n",
              "      <td>10</td>\n",
              "      <td>29</td>\n",
              "    </tr>\n",
              "  </tbody>\n",
              "</table>\n",
              "</div>"
            ],
            "text/plain": [
              "  ID      KIND  SCHOOL  PLAYGROUND  SHOPPING_MALL  SUM_FIND\n",
              "   1    Pikasu       5           7              5        17\n",
              "   2  Carpeter       8           5             10        23\n",
              "   3    Beedle      18          13             25        56\n",
              "   4     Poppo      10           7              9        26\n",
              "   6  Onitsumi      11           9             14        34\n",
              "   7      Arbo      15          22              8        45\n",
              "   9  Neauroma       3           2              4         9\n",
              "  10  Tamatama       6          10             10        26\n",
              "  12    Pigeon      16          15             12        43\n",
              "  13     Camel       8          11             10        29"
            ]
          },
          "execution_count": 279,
          "metadata": {},
          "output_type": "execute_result"
        }
      ],
      "source": [
        "with conn:\n",
        "    df = get_data(\n",
        "        conn.execute(\"\"\"\n",
        "        SELECT ID, KIND,\n",
        "            SCHOOL, PLAYGROUND, SHOPPING_MALL,\n",
        "            (FOUND_NO + CAUGHT_NO) SUM_FIND\n",
        "        FROM (SELECT T2.ID , T2.KIND,T1.FOUND_NO, T1.CAUGHT_NO,\n",
        "                (T1.CAUGHT_NO + T1.FOUND_NO) AS SUM_T1,\n",
        "                (T2.SCHOOL + T2.PLAYGROUND + T2.SHOPPING_MALL) AS SUM_T2, SCHOOL,PLAYGROUND, SHOPPING_MALL\n",
        "            FROM CATCH_POKEMON T1 \n",
        "            INNER JOIN FIND_POKEMON T2\n",
        "            ON T1.KIND = T2.KIND) SUB\n",
        "        WHERE SUM_T1 = SUM_T2\n",
        "        \"\"\")\n",
        "    )\n",
        "print(\"Operation done successfully\")\n",
        "df"
      ]
    },
    {
      "cell_type": "markdown",
      "metadata": {
        "id": "I1eEnwc-9AK7"
      },
      "source": [
        "### *หลังจากทำการตัดข้อมูลที่ไม่สอดคล้อง* แล้วให้ดำเนินการต่อไปนี้\n"
      ]
    },
    {
      "cell_type": "markdown",
      "metadata": {
        "id": "gFBEFGJg9ANj"
      },
      "source": [
        "### i. คำนวณผลรวมใหม่ของจำนวน pokemon ที่พบได้ตามสถานที่ต่างๆ โดยสร้างตารางเก็บผลรวมขึ้นมาใหม่ชื่อว่า all_pokemon  (กำหนดให้ตารางมีข้อมูล primary key, ชื่อของชนิด pokemon และจำนวนผลรวม โดยนักศึกษากำหนดชื่อคอลัมน์เหล่านี้ได้เอง) -> CREATE\n"
      ]
    },
    {
      "cell_type": "code",
      "execution_count": 295,
      "metadata": {
        "id": "O084W-tz9OEg"
      },
      "outputs": [],
      "source": [
        "with conn:\n",
        "    conn.execute(\"\"\"\n",
        "    CREATE TABLE all_POKEMON\n",
        "    (ID INT KEY NOT NULL\n",
        "    KIND TEXT NOT NULL\n",
        "    SCHOOL INT NOT NULL\n",
        "    PLAYGROUND INT NOT NULL\n",
        "    SHOPPING_MALL INT NOT NULL\n",
        "    );\"\"\")"
      ]
    },
    {
      "cell_type": "code",
      "execution_count": 296,
      "metadata": {
        "id": "J3UQqAECHaEh"
      },
      "outputs": [],
      "source": [
        "with conn:\n",
        "    conn.execute(\"\"\"INSERT INTO all_POKEMON SELECT * FROM \n",
        "    (SELECT ID, KIND, SCHOOL, PLAYGROUND, SHOPPING_MALL\n",
        "        FROM (SELECT T2.ID , T2.KIND,T1.FOUND_NO, T1.CAUGHT_NO,\n",
        "                (T1.CAUGHT_NO + T1.FOUND_NO) AS SUM_T1,\n",
        "                (T2.SCHOOL + T2.PLAYGROUND + T2.SHOPPING_MALL) AS SUM_T2, SCHOOL,PLAYGROUND, SHOPPING_MALL\n",
        "            FROM CATCH_POKEMON T1 \n",
        "            INNER JOIN FIND_POKEMON T2\n",
        "            ON T1.KIND = T2.KIND) SUB WHERE SUM_T1 = SUM_T2)\"\"\")"
      ]
    },
    {
      "cell_type": "markdown",
      "metadata": {
        "id": "sTPRnjn79QEy"
      },
      "source": [
        "### j. จากข้อมูลในตารางที่ 2 แสดงชื่อชนิดของ pokemon ที่พบได้มากที่สุดแยกตามประเภทสถานที่ คือ playground pokemon ชนิดใดพบมากที่สุด, school พบ pokemon ชนิดใดมากที่สุด และ shopping mall พบชนิดใดมากที่สุด -> READ\n",
        "\n",
        "\n"
      ]
    },
    {
      "cell_type": "markdown",
      "metadata": {
        "id": "d50WSGL7IUq_"
      },
      "source": [
        "PLAYGROUND"
      ]
    },
    {
      "cell_type": "code",
      "execution_count": 319,
      "metadata": {},
      "outputs": [
        {
          "name": "stdout",
          "output_type": "stream",
          "text": [
            "Operation done successfully\n"
          ]
        },
        {
          "data": {
            "text/html": [
              "<div>\n",
              "<style scoped>\n",
              "    .dataframe tbody tr th:only-of-type {\n",
              "        vertical-align: middle;\n",
              "    }\n",
              "\n",
              "    .dataframe tbody tr th {\n",
              "        vertical-align: top;\n",
              "    }\n",
              "\n",
              "    .dataframe thead th {\n",
              "        text-align: right;\n",
              "    }\n",
              "</style>\n",
              "<table border=\"1\" class=\"dataframe\">\n",
              "  <thead>\n",
              "    <tr style=\"text-align: right;\">\n",
              "      <th></th>\n",
              "      <th>ID</th>\n",
              "      <th>KIND</th>\n",
              "      <th>SCHOOL</th>\n",
              "      <th>PLAYGROUND</th>\n",
              "      <th>SHOPPING_MALL</th>\n",
              "    </tr>\n",
              "  </thead>\n",
              "  <tbody>\n",
              "    <tr>\n",
              "      <th></th>\n",
              "      <td>7</td>\n",
              "      <td>Arbo</td>\n",
              "      <td>15</td>\n",
              "      <td>22</td>\n",
              "      <td>8</td>\n",
              "    </tr>\n",
              "  </tbody>\n",
              "</table>\n",
              "</div>"
            ],
            "text/plain": [
              "  ID  KIND  SCHOOL  PLAYGROUND  SHOPPING_MALL\n",
              "   7  Arbo      15          22              8"
            ]
          },
          "execution_count": 319,
          "metadata": {},
          "output_type": "execute_result"
        }
      ],
      "source": [
        "with conn:\n",
        "    df = get_data(conn.execute(\"\"\"\n",
        "    SELECT * FROM all_POKEMON WHERE PLAYGROUND = (SELECT max(PLAYGROUND) FROM all_POKEMON)\n",
        "    \"\"\"))\n",
        "print(\"Operation done successfully\")\n",
        "    \n",
        "df"
      ]
    },
    {
      "cell_type": "markdown",
      "metadata": {
        "id": "zaUkLJ7XIcCN"
      },
      "source": [
        "SCHOOL"
      ]
    },
    {
      "cell_type": "code",
      "execution_count": 320,
      "metadata": {
        "colab": {
          "base_uri": "https://localhost:8080/",
          "height": 98
        },
        "id": "EPsPcI-3IblV",
        "outputId": "13a7b0da-88e8-4eff-cf3c-fa52dacf26cf"
      },
      "outputs": [
        {
          "name": "stdout",
          "output_type": "stream",
          "text": [
            "Operation done successfully\n"
          ]
        },
        {
          "data": {
            "text/html": [
              "<div>\n",
              "<style scoped>\n",
              "    .dataframe tbody tr th:only-of-type {\n",
              "        vertical-align: middle;\n",
              "    }\n",
              "\n",
              "    .dataframe tbody tr th {\n",
              "        vertical-align: top;\n",
              "    }\n",
              "\n",
              "    .dataframe thead th {\n",
              "        text-align: right;\n",
              "    }\n",
              "</style>\n",
              "<table border=\"1\" class=\"dataframe\">\n",
              "  <thead>\n",
              "    <tr style=\"text-align: right;\">\n",
              "      <th></th>\n",
              "      <th>ID</th>\n",
              "      <th>KIND</th>\n",
              "      <th>SCHOOL</th>\n",
              "      <th>PLAYGROUND</th>\n",
              "      <th>SHOPPING_MALL</th>\n",
              "    </tr>\n",
              "  </thead>\n",
              "  <tbody>\n",
              "    <tr>\n",
              "      <th></th>\n",
              "      <td>3</td>\n",
              "      <td>Beedle</td>\n",
              "      <td>18</td>\n",
              "      <td>13</td>\n",
              "      <td>25</td>\n",
              "    </tr>\n",
              "  </tbody>\n",
              "</table>\n",
              "</div>"
            ],
            "text/plain": [
              "  ID    KIND  SCHOOL  PLAYGROUND  SHOPPING_MALL\n",
              "   3  Beedle      18          13             25"
            ]
          },
          "execution_count": 320,
          "metadata": {},
          "output_type": "execute_result"
        }
      ],
      "source": [
        "with conn:\n",
        "    df = get_data(conn.execute(\"\"\"\n",
        "    SELECT * FROM all_POKEMON WHERE SCHOOL = (SELECT max(SCHOOL) FROM all_POKEMON)\n",
        "    \"\"\"))\n",
        "print(\"Operation done successfully\")\n",
        "\n",
        "df"
      ]
    },
    {
      "cell_type": "markdown",
      "metadata": {
        "id": "V90kAkqqIglU"
      },
      "source": [
        "SHOPPING_MALL"
      ]
    },
    {
      "cell_type": "code",
      "execution_count": 321,
      "metadata": {
        "colab": {
          "base_uri": "https://localhost:8080/",
          "height": 98
        },
        "id": "1rP_qfxgIgs0",
        "outputId": "80073326-ce78-49c1-ee04-8a07ce514f52"
      },
      "outputs": [
        {
          "name": "stdout",
          "output_type": "stream",
          "text": [
            "Operation done successfully\n"
          ]
        },
        {
          "data": {
            "text/html": [
              "<div>\n",
              "<style scoped>\n",
              "    .dataframe tbody tr th:only-of-type {\n",
              "        vertical-align: middle;\n",
              "    }\n",
              "\n",
              "    .dataframe tbody tr th {\n",
              "        vertical-align: top;\n",
              "    }\n",
              "\n",
              "    .dataframe thead th {\n",
              "        text-align: right;\n",
              "    }\n",
              "</style>\n",
              "<table border=\"1\" class=\"dataframe\">\n",
              "  <thead>\n",
              "    <tr style=\"text-align: right;\">\n",
              "      <th></th>\n",
              "      <th>ID</th>\n",
              "      <th>KIND</th>\n",
              "      <th>SCHOOL</th>\n",
              "      <th>PLAYGROUND</th>\n",
              "      <th>SHOPPING_MALL</th>\n",
              "    </tr>\n",
              "  </thead>\n",
              "  <tbody>\n",
              "    <tr>\n",
              "      <th></th>\n",
              "      <td>3</td>\n",
              "      <td>Beedle</td>\n",
              "      <td>18</td>\n",
              "      <td>13</td>\n",
              "      <td>25</td>\n",
              "    </tr>\n",
              "  </tbody>\n",
              "</table>\n",
              "</div>"
            ],
            "text/plain": [
              "  ID    KIND  SCHOOL  PLAYGROUND  SHOPPING_MALL\n",
              "   3  Beedle      18          13             25"
            ]
          },
          "execution_count": 321,
          "metadata": {},
          "output_type": "execute_result"
        }
      ],
      "source": [
        "with conn:\n",
        "    df = get_data(conn.execute(\"\"\"\n",
        "    SELECT * FROM all_POKEMON WHERE SHOPPING_MALL = (SELECT max(SHOPPING_MALL) FROM all_POKEMON)\n",
        "    \"\"\"))\n",
        "print(\"Operation done successfully\")\n",
        "\n",
        "df"
      ]
    },
    {
      "cell_type": "markdown",
      "metadata": {
        "id": "JzQ4jHBj9SP5"
      },
      "source": [
        "### k. แสดงข้อมูลที่ระบุว่า pokemon แต่ละชนิดนั้นพบถูกพบในสถานที่ใดมากที่สุด เช่น Pikasu พบที่ playground มากที่สุด Carpenter พบที่ shopping mall มากที่สุด และชนิดที่เหลือแต่ละชนิดพบที่ใดมากที่สุด\n"
      ]
    },
    {
      "cell_type": "code",
      "execution_count": 322,
      "metadata": {
        "colab": {
          "base_uri": "https://localhost:8080/",
          "height": 380
        },
        "id": "TUNiEOds9iUO",
        "outputId": "98648edd-941d-4865-dc39-90c335aba789"
      },
      "outputs": [
        {
          "name": "stdout",
          "output_type": "stream",
          "text": [
            "Operation done successfully\n"
          ]
        },
        {
          "data": {
            "text/html": [
              "<div>\n",
              "<style scoped>\n",
              "    .dataframe tbody tr th:only-of-type {\n",
              "        vertical-align: middle;\n",
              "    }\n",
              "\n",
              "    .dataframe tbody tr th {\n",
              "        vertical-align: top;\n",
              "    }\n",
              "\n",
              "    .dataframe thead th {\n",
              "        text-align: right;\n",
              "    }\n",
              "</style>\n",
              "<table border=\"1\" class=\"dataframe\">\n",
              "  <thead>\n",
              "    <tr style=\"text-align: right;\">\n",
              "      <th></th>\n",
              "      <th>KIND</th>\n",
              "      <th>PLACE</th>\n",
              "    </tr>\n",
              "  </thead>\n",
              "  <tbody>\n",
              "    <tr>\n",
              "      <th></th>\n",
              "      <td>Pikasu</td>\n",
              "      <td>PLAYGROUND</td>\n",
              "    </tr>\n",
              "    <tr>\n",
              "      <th></th>\n",
              "      <td>Carpeter</td>\n",
              "      <td>SHOPPING_MALL</td>\n",
              "    </tr>\n",
              "    <tr>\n",
              "      <th></th>\n",
              "      <td>Beedle</td>\n",
              "      <td>SHOPPING_MALL</td>\n",
              "    </tr>\n",
              "    <tr>\n",
              "      <th></th>\n",
              "      <td>Poppo</td>\n",
              "      <td>SCHOOL</td>\n",
              "    </tr>\n",
              "    <tr>\n",
              "      <th></th>\n",
              "      <td>Onitsumi</td>\n",
              "      <td>SHOPPING_MALL</td>\n",
              "    </tr>\n",
              "    <tr>\n",
              "      <th></th>\n",
              "      <td>Arbo</td>\n",
              "      <td>PLAYGROUND</td>\n",
              "    </tr>\n",
              "    <tr>\n",
              "      <th></th>\n",
              "      <td>Neauroma</td>\n",
              "      <td>SHOPPING_MALL</td>\n",
              "    </tr>\n",
              "    <tr>\n",
              "      <th></th>\n",
              "      <td>Tamatama</td>\n",
              "      <td>SHOPPING_MALL</td>\n",
              "    </tr>\n",
              "    <tr>\n",
              "      <th></th>\n",
              "      <td>Pigeon</td>\n",
              "      <td>SCHOOL</td>\n",
              "    </tr>\n",
              "    <tr>\n",
              "      <th></th>\n",
              "      <td>Camel</td>\n",
              "      <td>PLAYGROUND</td>\n",
              "    </tr>\n",
              "  </tbody>\n",
              "</table>\n",
              "</div>"
            ],
            "text/plain": [
              "      KIND          PLACE\n",
              "    Pikasu     PLAYGROUND\n",
              "  Carpeter  SHOPPING_MALL\n",
              "    Beedle  SHOPPING_MALL\n",
              "     Poppo         SCHOOL\n",
              "  Onitsumi  SHOPPING_MALL\n",
              "      Arbo     PLAYGROUND\n",
              "  Neauroma  SHOPPING_MALL\n",
              "  Tamatama  SHOPPING_MALL\n",
              "    Pigeon         SCHOOL\n",
              "     Camel     PLAYGROUND"
            ]
          },
          "execution_count": 322,
          "metadata": {},
          "output_type": "execute_result"
        }
      ],
      "source": [
        "with conn:\n",
        "    df = get_data(conn.execute(\"\"\"\n",
        "    SELECT KIND,\n",
        "    CASE WHEN SCHOOL > PLAYGROUND AND SCHOOL > SHOPPING_MALL THEN 'SCHOOL'\n",
        "    WHEN PLAYGROUND > SCHOOL AND PLAYGROUND > SHOPPING_MALL THEN 'PLAYGROUND'\n",
        "    ELSE 'SHOPPING_MALL'\n",
        "    END AS PLACE\n",
        "    FROM all_POKEMON\n",
        "\n",
        "    ;\"\"\"))\n",
        "\n",
        "print(\"Operation done successfully\")\n",
        "df"
      ]
    },
    {
      "cell_type": "markdown",
      "metadata": {
        "id": "2yyST7VW9RRJ"
      },
      "source": [
        "### l. ให้ระบุว่า pokemon ชนิดที่พบและจับได้มากที่สุดคือชนิดใด และพบในสถานที่ใดมากที่สุด (นำข้อมูลการพบและจับได้จากตารางที่ 1 มาพิจารณาว่าชนิดใดจับได้มากที่สุด จากนั้นนำไปหาในตารางที่ 2 ว่าสถานที่ใดที่พบ pokemon ชนิดนี้มากที่สุดจาก 3 สถานที่) -> READ\n"
      ]
    },
    {
      "cell_type": "code",
      "execution_count": 324,
      "metadata": {
        "colab": {
          "base_uri": "https://localhost:8080/",
          "height": 98
        },
        "id": "lrVhPx5K9Ro4",
        "outputId": "fa174dbe-e428-43cc-c18c-0160be0284d3"
      },
      "outputs": [
        {
          "name": "stdout",
          "output_type": "stream",
          "text": [
            "Operation done successfully\n"
          ]
        },
        {
          "data": {
            "text/html": [
              "<div>\n",
              "<style scoped>\n",
              "    .dataframe tbody tr th:only-of-type {\n",
              "        vertical-align: middle;\n",
              "    }\n",
              "\n",
              "    .dataframe tbody tr th {\n",
              "        vertical-align: top;\n",
              "    }\n",
              "\n",
              "    .dataframe thead th {\n",
              "        text-align: right;\n",
              "    }\n",
              "</style>\n",
              "<table border=\"1\" class=\"dataframe\">\n",
              "  <thead>\n",
              "    <tr style=\"text-align: right;\">\n",
              "      <th></th>\n",
              "      <th>KIND</th>\n",
              "      <th>PLACE</th>\n",
              "    </tr>\n",
              "  </thead>\n",
              "  <tbody>\n",
              "    <tr>\n",
              "      <th></th>\n",
              "      <td>Beedle</td>\n",
              "      <td>SHOPPING_MALL</td>\n",
              "    </tr>\n",
              "  </tbody>\n",
              "</table>\n",
              "</div>"
            ],
            "text/plain": [
              "    KIND          PLACE\n",
              "  Beedle  SHOPPING_MALL"
            ]
          },
          "execution_count": 324,
          "metadata": {},
          "output_type": "execute_result"
        }
      ],
      "source": [
        "with conn:\n",
        "    df = get_data(conn.execute(\"\"\"    \n",
        "    SELECT AP.KIND,\n",
        "    CASE WHEN SCHOOL > PLAYGROUND AND SCHOOL > SHOPPING_MALL THEN 'SCHOOL'\n",
        "    WHEN PLAYGROUND > SCHOOL AND PLAYGROUND > SHOPPING_MALL THEN 'PLAYGROUND'\n",
        "    ELSE 'SHOPPING_MALL'\n",
        "    END AS PLACE\n",
        "    FROM all_POKEMON AP\n",
        "    INNER JOIN (SELECT KIND, MAX(FOUND_NO) AND MAX(CAUGHT_NO) FROM CATCH_POKEMON) CP\n",
        "    ON CP.KIND = AP.KIND\n",
        "    ;\"\"\"))\n"
      ]
    },
    {
      "cell_type": "markdown",
      "metadata": {
        "id": "ucAXSQW49Rx5"
      },
      "source": [
        "### m. ให้ระบุว่า pokemon ที่มี performance มากที่สุดคือชนิดใดและนำไปค้นหาในตารางที่ 2 ว่าพบในสถานที่ใดมากที่สุด\n"
      ]
    },
    {
      "cell_type": "code",
      "execution_count": 326,
      "metadata": {},
      "outputs": [
        {
          "name": "stdout",
          "output_type": "stream",
          "text": [
            "Operation done successfully\n"
          ]
        },
        {
          "data": {
            "text/html": [
              "<div>\n",
              "<style scoped>\n",
              "    .dataframe tbody tr th:only-of-type {\n",
              "        vertical-align: middle;\n",
              "    }\n",
              "\n",
              "    .dataframe tbody tr th {\n",
              "        vertical-align: top;\n",
              "    }\n",
              "\n",
              "    .dataframe thead th {\n",
              "        text-align: right;\n",
              "    }\n",
              "</style>\n",
              "<table border=\"1\" class=\"dataframe\">\n",
              "  <thead>\n",
              "    <tr style=\"text-align: right;\">\n",
              "      <th></th>\n",
              "      <th>KIND</th>\n",
              "      <th>PLACE</th>\n",
              "    </tr>\n",
              "  </thead>\n",
              "  <tbody>\n",
              "    <tr>\n",
              "      <th></th>\n",
              "      <td>Neauroma</td>\n",
              "      <td>SHOPPING_MALL</td>\n",
              "    </tr>\n",
              "  </tbody>\n",
              "</table>\n",
              "</div>"
            ],
            "text/plain": [
              "      KIND          PLACE\n",
              "  Neauroma  SHOPPING_MALL"
            ]
          },
          "execution_count": 326,
          "metadata": {},
          "output_type": "execute_result"
        }
      ],
      "source": [
        "with conn:\n",
        "    df = get_data(conn.execute(\"\"\"\n",
        "    SELECT AP.KIND,\n",
        "    CASE WHEN SCHOOL > PLAYGROUND AND SCHOOL > SHOPPING_MALL THEN 'SCHOOL'\n",
        "    WHEN PLAYGROUND > SCHOOL AND PLAYGROUND > SHOPPING_MALL THEN 'PLAYGROUND'\n",
        "    ELSE 'SHOPPING_MALL'\n",
        "    END AS PLACE\n",
        "    FROM all_POKEMON AP\n",
        "    INNER JOIN (SELECT ID, KIND,FOUND_NO, CAUGHT_NO ,\n",
        "            MAX(CAUGHT_NO * 100.0/FOUND_NO) PERFORMANCE,\n",
        "            (FOUND_NO + CAUGHT_NO) SUM_POKEMON\n",
        "        FROM (SELECT T2.ID , T2.KIND,T1.FOUND_NO, T1.CAUGHT_NO,\n",
        "                (T1.CAUGHT_NO + T1.FOUND_NO) AS SUM_T1,\n",
        "                (T2.SCHOOL + T2.PLAYGROUND + T2.SHOPPING_MALL) AS SUM_T2\n",
        "            FROM CATCH_POKEMON T1 \n",
        "            INNER JOIN FIND_POKEMON T2\n",
        "            ON T1.KIND = T2.KIND) SUB\n",
        "        WHERE SUM_T1 = SUM_T2) CP\n",
        "    ON CP.KIND = AP.KIND\n",
        "    ;\"\"\"))\n",
        "\n",
        "print(\"Operation done successfully\")\n",
        "df"
      ]
    },
    {
      "cell_type": "markdown",
      "metadata": {
        "id": "ze3It3tt9Sgh"
      },
      "source": [
        "### n. แสดงจำนวน pokemon ที่พบได้ในแต่ละสถานที่โดยเรียงลำดับตามชื่อตัวอักษรจากน้อยไปหามาก -> READ\n"
      ]
    },
    {
      "cell_type": "code",
      "execution_count": 328,
      "metadata": {
        "colab": {
          "base_uri": "https://localhost:8080/",
          "height": 380
        },
        "id": "fISBTKdo9So6",
        "outputId": "de307d9d-dc28-4901-f09b-c05167dbd8a6"
      },
      "outputs": [
        {
          "name": "stdout",
          "output_type": "stream",
          "text": [
            "Operation done successfully\n"
          ]
        },
        {
          "data": {
            "text/html": [
              "<div>\n",
              "<style scoped>\n",
              "    .dataframe tbody tr th:only-of-type {\n",
              "        vertical-align: middle;\n",
              "    }\n",
              "\n",
              "    .dataframe tbody tr th {\n",
              "        vertical-align: top;\n",
              "    }\n",
              "\n",
              "    .dataframe thead th {\n",
              "        text-align: right;\n",
              "    }\n",
              "</style>\n",
              "<table border=\"1\" class=\"dataframe\">\n",
              "  <thead>\n",
              "    <tr style=\"text-align: right;\">\n",
              "      <th></th>\n",
              "      <th>KIND</th>\n",
              "      <th>SCHOOL</th>\n",
              "      <th>PLAYGROUND</th>\n",
              "      <th>SHOPPING_MALL</th>\n",
              "    </tr>\n",
              "  </thead>\n",
              "  <tbody>\n",
              "    <tr>\n",
              "      <th></th>\n",
              "      <td>Arbo</td>\n",
              "      <td>15</td>\n",
              "      <td>22</td>\n",
              "      <td>8</td>\n",
              "    </tr>\n",
              "    <tr>\n",
              "      <th></th>\n",
              "      <td>Beedle</td>\n",
              "      <td>18</td>\n",
              "      <td>13</td>\n",
              "      <td>25</td>\n",
              "    </tr>\n",
              "    <tr>\n",
              "      <th></th>\n",
              "      <td>Camel</td>\n",
              "      <td>8</td>\n",
              "      <td>11</td>\n",
              "      <td>10</td>\n",
              "    </tr>\n",
              "    <tr>\n",
              "      <th></th>\n",
              "      <td>Carpeter</td>\n",
              "      <td>8</td>\n",
              "      <td>5</td>\n",
              "      <td>10</td>\n",
              "    </tr>\n",
              "    <tr>\n",
              "      <th></th>\n",
              "      <td>Neauroma</td>\n",
              "      <td>3</td>\n",
              "      <td>2</td>\n",
              "      <td>4</td>\n",
              "    </tr>\n",
              "    <tr>\n",
              "      <th></th>\n",
              "      <td>Onitsumi</td>\n",
              "      <td>11</td>\n",
              "      <td>9</td>\n",
              "      <td>14</td>\n",
              "    </tr>\n",
              "    <tr>\n",
              "      <th></th>\n",
              "      <td>Pigeon</td>\n",
              "      <td>16</td>\n",
              "      <td>15</td>\n",
              "      <td>12</td>\n",
              "    </tr>\n",
              "    <tr>\n",
              "      <th></th>\n",
              "      <td>Pikasu</td>\n",
              "      <td>5</td>\n",
              "      <td>7</td>\n",
              "      <td>5</td>\n",
              "    </tr>\n",
              "    <tr>\n",
              "      <th></th>\n",
              "      <td>Poppo</td>\n",
              "      <td>10</td>\n",
              "      <td>7</td>\n",
              "      <td>9</td>\n",
              "    </tr>\n",
              "    <tr>\n",
              "      <th></th>\n",
              "      <td>Tamatama</td>\n",
              "      <td>6</td>\n",
              "      <td>10</td>\n",
              "      <td>10</td>\n",
              "    </tr>\n",
              "  </tbody>\n",
              "</table>\n",
              "</div>"
            ],
            "text/plain": [
              "      KIND  SCHOOL  PLAYGROUND  SHOPPING_MALL\n",
              "      Arbo      15          22              8\n",
              "    Beedle      18          13             25\n",
              "     Camel       8          11             10\n",
              "  Carpeter       8           5             10\n",
              "  Neauroma       3           2              4\n",
              "  Onitsumi      11           9             14\n",
              "    Pigeon      16          15             12\n",
              "    Pikasu       5           7              5\n",
              "     Poppo      10           7              9\n",
              "  Tamatama       6          10             10"
            ]
          },
          "execution_count": 328,
          "metadata": {},
          "output_type": "execute_result"
        }
      ],
      "source": [
        "with conn:\n",
        "    df = get_data(conn.execute(\"\"\"\n",
        "    SELECT KIND,SCHOOL, PLAYGROUND, SHOPPING_MALL\n",
        "    FROM all_POKEMON\n",
        "    ORDER BY KIND ASC\n",
        "    ;\"\"\"))\n",
        "\n",
        "print(\"Operation done successfully\")\n",
        "df"
      ]
    },
    {
      "cell_type": "markdown",
      "metadata": {
        "id": "b2Af6hky9pDr"
      },
      "source": [
        "### o. แสดงค่าเฉลี่ยของจำนวน pokemon แต่ละชนิดที่จับได้ โดยเรียงลำดับตามค่าเฉลี่ยจากมากไปน้อย -> READ"
      ]
    },
    {
      "cell_type": "code",
      "execution_count": 339,
      "metadata": {},
      "outputs": [
        {
          "name": "stdout",
          "output_type": "stream",
          "text": [
            "Operation done successfully\n"
          ]
        },
        {
          "data": {
            "text/html": [
              "<div>\n",
              "<style scoped>\n",
              "    .dataframe tbody tr th:only-of-type {\n",
              "        vertical-align: middle;\n",
              "    }\n",
              "\n",
              "    .dataframe tbody tr th {\n",
              "        vertical-align: top;\n",
              "    }\n",
              "\n",
              "    .dataframe thead th {\n",
              "        text-align: right;\n",
              "    }\n",
              "</style>\n",
              "<table border=\"1\" class=\"dataframe\">\n",
              "  <thead>\n",
              "    <tr style=\"text-align: right;\">\n",
              "      <th></th>\n",
              "      <th>KIND</th>\n",
              "      <th>MEAN</th>\n",
              "    </tr>\n",
              "  </thead>\n",
              "  <tbody>\n",
              "    <tr>\n",
              "      <th></th>\n",
              "      <td>Beedle</td>\n",
              "      <td>18.666667</td>\n",
              "    </tr>\n",
              "    <tr>\n",
              "      <th></th>\n",
              "      <td>Arbo</td>\n",
              "      <td>15.000000</td>\n",
              "    </tr>\n",
              "    <tr>\n",
              "      <th></th>\n",
              "      <td>Pigeon</td>\n",
              "      <td>14.333333</td>\n",
              "    </tr>\n",
              "    <tr>\n",
              "      <th></th>\n",
              "      <td>Onitsumi</td>\n",
              "      <td>11.333333</td>\n",
              "    </tr>\n",
              "    <tr>\n",
              "      <th></th>\n",
              "      <td>Camel</td>\n",
              "      <td>9.666667</td>\n",
              "    </tr>\n",
              "    <tr>\n",
              "      <th></th>\n",
              "      <td>Poppo</td>\n",
              "      <td>8.666667</td>\n",
              "    </tr>\n",
              "    <tr>\n",
              "      <th></th>\n",
              "      <td>Tamatama</td>\n",
              "      <td>8.666667</td>\n",
              "    </tr>\n",
              "    <tr>\n",
              "      <th></th>\n",
              "      <td>Carpeter</td>\n",
              "      <td>7.666667</td>\n",
              "    </tr>\n",
              "    <tr>\n",
              "      <th></th>\n",
              "      <td>Pikasu</td>\n",
              "      <td>5.666667</td>\n",
              "    </tr>\n",
              "    <tr>\n",
              "      <th></th>\n",
              "      <td>Neauroma</td>\n",
              "      <td>3.000000</td>\n",
              "    </tr>\n",
              "  </tbody>\n",
              "</table>\n",
              "</div>"
            ],
            "text/plain": [
              "      KIND       MEAN\n",
              "    Beedle  18.666667\n",
              "      Arbo  15.000000\n",
              "    Pigeon  14.333333\n",
              "  Onitsumi  11.333333\n",
              "     Camel   9.666667\n",
              "     Poppo   8.666667\n",
              "  Tamatama   8.666667\n",
              "  Carpeter   7.666667\n",
              "    Pikasu   5.666667\n",
              "  Neauroma   3.000000"
            ]
          },
          "execution_count": 339,
          "metadata": {},
          "output_type": "execute_result"
        }
      ],
      "source": [
        "with conn:\n",
        "    df = get_data(conn.execute(\"\"\"\n",
        "    SELECT KIND, (SCHOOL + PLAYGROUND + SHOPPING_MALL)/3.0 MEAN\n",
        "    FROM all_POKEMON\n",
        "    ORDER BY MEAN DESC\n",
        "    ;\"\"\"))\n",
        "\n",
        "print(\"Operation done successfully\")\n",
        "df"
      ]
    }
  ],
  "metadata": {
    "colab": {
      "provenance": []
    },
    "kernelspec": {
      "display_name": "Python 3",
      "name": "python3"
    },
    "language_info": {
      "codemirror_mode": {
        "name": "ipython",
        "version": 3
      },
      "file_extension": ".py",
      "mimetype": "text/x-python",
      "name": "python",
      "nbconvert_exporter": "python",
      "pygments_lexer": "ipython3",
      "version": "3.12.4"
    }
  },
  "nbformat": 4,
  "nbformat_minor": 0
}
