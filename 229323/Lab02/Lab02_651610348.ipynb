{
  "cells": [
    {
      "cell_type": "markdown",
      "metadata": {
        "id": "CS_SpP4SNdB0"
      },
      "source": [
        "# ให้นักศึกษาทำการเขียนโปรแกรมคำสั่ง เพื่อให้เกิดผลลัพธ์ตามที่แสดงใน output โดยสามารถเขียนคำสั่งมากกว่า 1 คำสั่ง"
      ]
    },
    {
      "cell_type": "code",
      "execution_count": 1,
      "metadata": {
        "id": "wO1jASQlPxNA"
      },
      "outputs": [],
      "source": [
        "# Phutharesuan Wachirapisut\n",
        "# 651610348\n",
        "# Lab01_01\n",
        "# 229323 sec 002\n",
        "import numpy as np"
      ]
    },
    {
      "cell_type": "markdown",
      "metadata": {
        "id": "Omk8wLn2UrHd"
      },
      "source": [
        "## 1. สร้าง ndarray ชื่อ array_a จาก list ให้มีขนาด 2 มิติ\n",
        "\n"
      ]
    },
    {
      "cell_type": "code",
      "execution_count": 2,
      "metadata": {
        "colab": {
          "base_uri": "https://localhost:8080/"
        },
        "id": "9dI-dcBNUqAd",
        "outputId": "325699e4-905c-41a9-fcb0-7a7bc2ce6fb7"
      },
      "outputs": [
        {
          "name": "stdout",
          "output_type": "stream",
          "text": [
            "[[1 2 3]\n",
            " [4 5 6]]\n"
          ]
        }
      ],
      "source": [
        "list_a = list(range(1,7))\n",
        "array_a = np.array(list_a).reshape([2,3])\n",
        "print(array_a)"
      ]
    },
    {
      "cell_type": "markdown",
      "metadata": {
        "id": "sP8iBkkQXIJ3"
      },
      "source": [
        "## 2. สร้าง ndarray ชื่อ array_b โดยใช้ ฟังก์ชัน arange"
      ]
    },
    {
      "cell_type": "code",
      "execution_count": 3,
      "metadata": {
        "colab": {
          "base_uri": "https://localhost:8080/"
        },
        "id": "iAJn1zbxQ7Iw",
        "outputId": "a96b3c3a-025b-4546-811d-0c4431a1c1dd"
      },
      "outputs": [
        {
          "name": "stdout",
          "output_type": "stream",
          "text": [
            "[[ 2  4]\n",
            " [ 6  8]\n",
            " [10 12]]\n"
          ]
        }
      ],
      "source": [
        "array_b = np.arange(2,14,2).reshape([3,2])\n",
        "\n",
        "print(array_b)"
      ]
    },
    {
      "cell_type": "markdown",
      "metadata": {
        "id": "H-IIN3GLRdQc"
      },
      "source": [
        "## 3.ให้ทำการแสดงค่าจำนวนคอลัมน์ของ array_a และจำนวนแถวของ array_b"
      ]
    },
    {
      "cell_type": "code",
      "execution_count": 4,
      "metadata": {
        "colab": {
          "base_uri": "https://localhost:8080/"
        },
        "id": "IgGiawR4X-CG",
        "outputId": "b8c37b27-82c4-4376-b2c0-409955171efb"
      },
      "outputs": [
        {
          "name": "stdout",
          "output_type": "stream",
          "text": [
            "column of array_a : 3\n",
            "row of array_b : 3\n"
          ]
        }
      ],
      "source": [
        "cols = (array_a.shape)[1]\n",
        "rows = (array_b.shape)[0]\n",
        "\n",
        "print(\"column of array_a : {}\".format(cols))\n",
        "print(\"row of array_b : {}\".format(rows))"
      ]
    },
    {
      "cell_type": "markdown",
      "metadata": {
        "id": "fbqxXE-oP000"
      },
      "source": [
        "## 4. ทำการคูณเมทริกซ์ array_a และ เมทริกซ์ array_b แล้วเก็บผลลัพธ์ไว้ที่เมทริกซ์ array_c"
      ]
    },
    {
      "cell_type": "code",
      "execution_count": 7,
      "metadata": {
        "colab": {
          "base_uri": "https://localhost:8080/",
          "height": 71
        },
        "id": "fRDc-Sp2P1KD",
        "outputId": "0635c349-e5cb-4721-c9e2-27ec623c6d3f"
      },
      "outputs": [
        {
          "name": "stdout",
          "output_type": "stream",
          "text": [
            "[[ 44  56]\n",
            " [ 98 128]]\n"
          ]
        },
        {
          "data": {
            "application/vnd.google.colaboratory.intrinsic+json": {
              "type": "string"
            },
            "text/plain": [
              "'\\n[[ 44  56]\\n [ 98 128]]\\n '"
            ]
          },
          "execution_count": 7,
          "metadata": {},
          "output_type": "execute_result"
        }
      ],
      "source": [
        "array_c = np.dot(array_a,array_b)\n",
        "print(array_c)"
      ]
    },
    {
      "cell_type": "markdown",
      "metadata": {
        "id": "JF2eTGcvQiQB"
      },
      "source": [
        "## 5.หาค่า determinant ของเมริกซ์ array_c"
      ]
    },
    {
      "cell_type": "code",
      "execution_count": 8,
      "metadata": {
        "colab": {
          "base_uri": "https://localhost:8080/"
        },
        "id": "1kQjSsKKzHYR",
        "outputId": "bf642388-0158-44b1-8502-14362b7d9bf8"
      },
      "outputs": [
        {
          "name": "stdout",
          "output_type": "stream",
          "text": [
            "Determinant of matrix C :  143.99999999999937\n"
          ]
        }
      ],
      "source": [
        "det_c = np.linalg.det(array_c)\n",
        "print(\"Determinant of matrix C : \", det_c)"
      ]
    },
    {
      "cell_type": "markdown",
      "metadata": {
        "id": "q_ZalAQqzkiY"
      },
      "source": [
        "## 6.หาค่า inverse ของเมริกซ์ array_c"
      ]
    },
    {
      "cell_type": "code",
      "execution_count": 10,
      "metadata": {
        "colab": {
          "base_uri": "https://localhost:8080/"
        },
        "id": "0s2zYiyEzrGz",
        "outputId": "4c8a1f5e-8f19-40ad-8544-c1b6b656e716"
      },
      "outputs": [
        {
          "name": "stdout",
          "output_type": "stream",
          "text": [
            "Inverse matrix c :  [[ 0.88888889 -0.38888889]\n",
            " [-0.68055556  0.30555556]]\n"
          ]
        }
      ],
      "source": [
        "inv_c = np.linalg.inv(array_c)\n",
        "print(\"Inverse matrix c : \", inv_c)"
      ]
    },
    {
      "cell_type": "markdown",
      "metadata": {
        "id": "7JmuBw9l0WFO"
      },
      "source": [
        "## 7. แสดงค่าของข้อมูลแถวสุดท้ายของ array_a โดยใช้คำสั่งในการหาตำแหน่ง (index) ของแถวสุดท้าย **ห้ามใช้การคีย์ระบุหมายเลขของแถวสุดท้ายเอง**"
      ]
    },
    {
      "cell_type": "code",
      "execution_count": 35,
      "metadata": {
        "colab": {
          "base_uri": "https://localhost:8080/"
        },
        "id": "g4Xbq5YX0g3S",
        "outputId": "79d949bc-9d23-40cc-c840-122e76ba4d4e"
      },
      "outputs": [
        {
          "name": "stdout",
          "output_type": "stream",
          "text": [
            "[4 5 6]\n"
          ]
        }
      ],
      "source": [
        "print(array_a[1::cols].flatten())"
      ]
    },
    {
      "cell_type": "markdown",
      "metadata": {
        "id": "CnIoagkA3ZaN"
      },
      "source": [
        "## 8. แสดงค่า col สุดท้าย ของทุกแถวที่เป็นเลขคู่ของ array_b **ห้ามใช้การคีย์ระบุหมายเลขของคอลัมน์สุดท้าย**"
      ]
    },
    {
      "cell_type": "code",
      "execution_count": 42,
      "metadata": {
        "colab": {
          "base_uri": "https://localhost:8080/"
        },
        "id": "Kq4y_fjg4GWO",
        "outputId": "111cc84e-f6f4-4ba6-b29f-05565f972fc1"
      },
      "outputs": [
        {
          "name": "stdout",
          "output_type": "stream",
          "text": [
            "[ 4 12]\n"
          ]
        }
      ],
      "source": [
        "print(array_b[::2,1::2].flatten())"
      ]
    }
  ],
  "metadata": {
    "colab": {
      "provenance": []
    },
    "kernelspec": {
      "display_name": "Python 3",
      "name": "python3"
    },
    "language_info": {
      "name": "python"
    }
  },
  "nbformat": 4,
  "nbformat_minor": 0
}
