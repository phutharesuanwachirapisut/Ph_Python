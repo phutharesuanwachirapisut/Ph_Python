{
  "nbformat": 4,
  "nbformat_minor": 0,
  "metadata": {
    "colab": {
      "provenance": []
    },
    "kernelspec": {
      "name": "python3",
      "display_name": "Python 3"
    }
  },
  "cells": [
    {
      "cell_type": "markdown",
      "source": [
        "# **การดึงข้อมูลตลาดหุ้น ที่มีหุ้นหลายๆตัวพร้อมกัน และจัดทำ multi level index**"
      ],
      "metadata": {
        "id": "5KlO8JHGK55J"
      }
    },
    {
      "cell_type": "markdown",
      "source": [
        "เริ่มจากการ install yfinance"
      ],
      "metadata": {
        "id": "v3Z2K_4jLSOM"
      }
    },
    {
      "cell_type": "code",
      "source": [
        "#คำสั่งสำหรับการ install yfinance\n",
        "! pip install yfinance"
      ],
      "metadata": {
        "id": "v-WCfq5gKQgQ"
      },
      "execution_count": null,
      "outputs": []
    },
    {
      "cell_type": "markdown",
      "source": [
        "จากนั้น เข้าไปดู ticker ในเว็บไซต์ yahoofinance.com\n",
        "แล้วทำการ download ข้อมูลมาเก็บไว้เป็นไฟล์ .csv"
      ],
      "metadata": {
        "id": "Kn3UEo6eLkyC"
      }
    },
    {
      "cell_type": "code",
      "source": [
        "import yfinance as yf\n",
        "import datetime as dt # ไลบรารีที่เราจะใช้สำหรับงานที่เกี่ยวข้องกับ วันเวลา\n",
        "import pandas as pd # ไลบรารีที่เราจะใช้ทำงานเกี่ยวกับตาราง (Dataframe)\n",
        "import seaborn as sns\n",
        "%matplotlib inline\n",
        "%config InlineBackend.figure_format='retina' #กำหนดรูปกราฟเป็นความละเอียดสูง"
      ],
      "metadata": {
        "id": "ulliuYEziIBn"
      },
      "execution_count": null,
      "outputs": []
    },
    {
      "cell_type": "code",
      "source": [
        "print(f\"yahoo finance version = {yf.__version__}\")"
      ],
      "metadata": {
        "id": "epcW9ZmVYtQZ"
      },
      "execution_count": null,
      "outputs": []
    },
    {
      "cell_type": "markdown",
      "source": [
        "# ดึงข้อมูลหุ้นหลายๆตัวพร้อมกัน\n",
        "**การเรียกข้อมูลแบบ multilevel column names**"
      ],
      "metadata": {
        "id": "zA727DZI14mU"
      }
    },
    {
      "cell_type": "code",
      "source": [
        "stocks=['EA.BK', 'AOT.BK', 'SCB.BK'] #ดึงหุ้นไทยมากกว่า 1 ตัว\n",
        "#start = dt.datetime(2022, 5, 1)\n",
        "#end = dt.datetime(2023, 4, 30)\n",
        "df2 = yf.download(stocks, start=\"2022-05-01\", end=\"2023-04-30\")\n",
        "df2.head()"
      ],
      "metadata": {
        "id": "0ThmHgD9gelR"
      },
      "execution_count": null,
      "outputs": []
    },
    {
      "cell_type": "code",
      "source": [
        "df2.info()"
      ],
      "metadata": {
        "id": "yKwYdW7N1yX5"
      },
      "execution_count": null,
      "outputs": []
    },
    {
      "cell_type": "code",
      "source": [
        "df2.index"
      ],
      "metadata": {
        "id": "Spr9Hs6HdT5I"
      },
      "execution_count": null,
      "outputs": []
    },
    {
      "cell_type": "code",
      "source": [
        "#แก้ไข index เพื่อเปลี่ยน dtype ของ index เป็น datetime64[ns]\n",
        "df2.index = df2.index.tz_localize(None)"
      ],
      "metadata": {
        "id": "zxCJ1jcQJFGJ"
      },
      "execution_count": null,
      "outputs": []
    },
    {
      "cell_type": "code",
      "source": [
        "df2.index"
      ],
      "metadata": {
        "id": "LhgMHHd6ZIBi"
      },
      "execution_count": null,
      "outputs": []
    },
    {
      "cell_type": "code",
      "source": [
        "temp_data = pd.DataFrame(df2) #backup data df2"
      ],
      "metadata": {
        "id": "1f4oePy3q5gs"
      },
      "execution_count": null,
      "outputs": []
    },
    {
      "cell_type": "code",
      "source": [
        "temp_data.head(10)"
      ],
      "metadata": {
        "id": "a-zA9KWgrHww"
      },
      "execution_count": null,
      "outputs": []
    },
    {
      "cell_type": "code",
      "source": [
        "df2.info()"
      ],
      "metadata": {
        "id": "c2C5iT2SdLLH"
      },
      "execution_count": null,
      "outputs": []
    },
    {
      "cell_type": "markdown",
      "source": [
        "ดูข้อมูลค่า High ของทุกหุ้น"
      ],
      "metadata": {
        "id": "drRhUFm-3Guu"
      }
    },
    {
      "cell_type": "code",
      "source": [
        "df2['High'].head()"
      ],
      "metadata": {
        "id": "GL_sy_jQ259m"
      },
      "execution_count": null,
      "outputs": []
    },
    {
      "cell_type": "markdown",
      "source": [
        "ดูข้อมูลค่า High ของหุ้น 'EA'"
      ],
      "metadata": {
        "id": "xi2p3Glr3KwC"
      }
    },
    {
      "cell_type": "code",
      "source": [
        "df2['High']['EA.BK'].head()"
      ],
      "metadata": {
        "id": "GA7ISyff3Co6"
      },
      "execution_count": null,
      "outputs": []
    },
    {
      "cell_type": "markdown",
      "source": [
        "ดูข้อมูลตั้งแต่วันที่ต้องการ ทุกคอลัมน์"
      ],
      "metadata": {
        "id": "DW2A2-233wIo"
      }
    },
    {
      "cell_type": "code",
      "source": [
        "df2.loc['2022-08-13':]"
      ],
      "metadata": {
        "id": "OIdCU2Wi3fK6"
      },
      "execution_count": null,
      "outputs": []
    },
    {
      "cell_type": "code",
      "source": [
        "df2.loc['2022-08-15':]['Open']"
      ],
      "metadata": {
        "id": "gggY5AWR39j3"
      },
      "execution_count": null,
      "outputs": []
    },
    {
      "cell_type": "code",
      "source": [
        "df2.loc['2022-08-15':, ('Open', 'AOT.BK')]"
      ],
      "metadata": {
        "id": "mUWGLQp_4MuH"
      },
      "execution_count": null,
      "outputs": []
    },
    {
      "cell_type": "code",
      "source": [
        "df2.loc['2022-08-15':, ('Close', ['AOT.BK', 'SCB.BK'])]"
      ],
      "metadata": {
        "id": "VrTrjPbr4aFl"
      },
      "execution_count": null,
      "outputs": []
    },
    {
      "cell_type": "code",
      "source": [
        "df2.loc['2022-08-15':'2022-08-22', ('Close', ['AOT.BK', 'SCB.BK'])]"
      ],
      "metadata": {
        "id": "QCZC4vZO4qU_"
      },
      "execution_count": null,
      "outputs": []
    },
    {
      "cell_type": "code",
      "source": [
        "df2.loc['2022-08-15':'2022-08-22', (['Open', 'Close'], ['AOT.BK', 'SCB.BK'])]"
      ],
      "metadata": {
        "id": "tdfrIo4Y44Jh"
      },
      "execution_count": null,
      "outputs": []
    },
    {
      "cell_type": "code",
      "source": [
        "#บันทึกข้อมูลลงไฟล์\n",
        "df2.to_csv('mlevel_stock.csv')"
      ],
      "metadata": {
        "id": "5MCTDto85BcK"
      },
      "execution_count": null,
      "outputs": []
    },
    {
      "cell_type": "code",
      "source": [
        "df2.to_excel('mlevel_stock.xlsx')"
      ],
      "metadata": {
        "id": "_D9DkmEUJZkm"
      },
      "execution_count": null,
      "outputs": []
    },
    {
      "cell_type": "markdown",
      "source": [
        "# stack DataFrame"
      ],
      "metadata": {
        "id": "gp_jPNHf9Zrd"
      }
    },
    {
      "cell_type": "code",
      "source": [
        "df2.stack() #จัดข้อมูลเรียงแบบ stack เพื่อให้อ่านง่ายขึ้น กรณีข้อมูลเป็น multilevel"
      ],
      "metadata": {
        "id": "dz4vzYlR9MrF"
      },
      "execution_count": null,
      "outputs": []
    },
    {
      "cell_type": "code",
      "source": [
        "dstack = df2.stack().reset_index()\n",
        "dstack"
      ],
      "metadata": {
        "id": "rzEJHhf49paK"
      },
      "execution_count": null,
      "outputs": []
    },
    {
      "cell_type": "code",
      "source": [
        "dstack.sort_values(['Ticker','Date'])"
      ],
      "metadata": {
        "id": "2QE1_pmN-LhW"
      },
      "execution_count": null,
      "outputs": []
    },
    {
      "cell_type": "code",
      "source": [
        "dstack[dstack.Ticker=='SCB.BK']"
      ],
      "metadata": {
        "id": "Avwua51S-ahJ"
      },
      "execution_count": null,
      "outputs": []
    },
    {
      "cell_type": "code",
      "source": [
        "sns.lineplot(x='Date', y='Close', hue='Ticker',\n",
        "             style='Ticker',data=dstack); #ถ้าไม่ใส่เครื่องหมาย ; ด้านหลังจะเกิดอะไรขึ้น???"
      ],
      "metadata": {
        "id": "vSETaEbN-koV"
      },
      "execution_count": null,
      "outputs": []
    },
    {
      "cell_type": "code",
      "source": [
        "sns.lineplot(x='Date', y='Close', hue='Ticker',\n",
        "             style='Ticker',data=dstack)"
      ],
      "metadata": {
        "id": "sUPlOxhNgNab"
      },
      "execution_count": null,
      "outputs": []
    },
    {
      "cell_type": "markdown",
      "source": [
        "Relationship plot แสดงกราฟ"
      ],
      "metadata": {
        "id": "cP93Wx5-_68t"
      }
    },
    {
      "cell_type": "code",
      "source": [
        "sns.relplot(x='Date', y='Close', col='Ticker',\n",
        "           hue='Ticker', kind='line',\n",
        "           height=4, #ความสูงของกราฟ\n",
        "           facet_kws={'sharey': False},\n",
        "           #ปรับ scale ของ y-axis ตามช่วงข้อมูล โดยไม่ share ค่าแกน y ร่วมกัน\n",
        "           data=dstack);"
      ],
      "metadata": {
        "id": "jovO1Y22-8ki"
      },
      "execution_count": null,
      "outputs": []
    },
    {
      "cell_type": "markdown",
      "source": [
        "plot เฉพาะบางหุ้นที่ต้องการ"
      ],
      "metadata": {
        "id": "hH_W9g0cDVyf"
      }
    },
    {
      "cell_type": "code",
      "source": [
        "sns.lineplot(x='Date', y='Close',\n",
        "           hue='Ticker',\n",
        "           data=dstack[dstack.Ticker.str.match('EA.BK|AOT.BK')]);"
      ],
      "metadata": {
        "id": "45N6U74EB1CT"
      },
      "execution_count": null,
      "outputs": []
    },
    {
      "cell_type": "code",
      "source": [
        "dstack.to_csv('stack_port.csv', index = False)\n",
        "dstack.to_excel('stack_port.xlsx', index = False)"
      ],
      "metadata": {
        "id": "mKW7YBWzDmbx"
      },
      "execution_count": null,
      "outputs": []
    },
    {
      "cell_type": "markdown",
      "source": [
        "ดึงข้อมูล stooq"
      ],
      "metadata": {
        "id": "sb_ojekJNaKw"
      }
    },
    {
      "cell_type": "code",
      "source": [
        "import pandas_datareader.data as web\n",
        "\n",
        "df = web.get_data_stooq(['^DJI','^SET'])"
      ],
      "metadata": {
        "id": "Pu39Lipi7Dkq"
      },
      "execution_count": null,
      "outputs": []
    },
    {
      "cell_type": "code",
      "source": [
        "df.tail()"
      ],
      "metadata": {
        "id": "Y1Mi4c258Gxc"
      },
      "execution_count": null,
      "outputs": []
    },
    {
      "cell_type": "code",
      "source": [
        "df.columns"
      ],
      "metadata": {
        "id": "zcUNME238Ohz"
      },
      "execution_count": null,
      "outputs": []
    },
    {
      "cell_type": "code",
      "source": [
        "df.columns.get_level_values(0)"
      ],
      "metadata": {
        "id": "o6RL1U-I9DuW"
      },
      "execution_count": null,
      "outputs": []
    },
    {
      "cell_type": "code",
      "source": [
        "df.columns.get_level_values(1)"
      ],
      "metadata": {
        "id": "CZDEZIWu9LDV"
      },
      "execution_count": null,
      "outputs": []
    },
    {
      "cell_type": "code",
      "source": [
        "cols = df.columns.get_level_values(1)+ '_' + df.columns.get_level_values(0)\n",
        "cols"
      ],
      "metadata": {
        "id": "Dq2_PWaP9T4l"
      },
      "execution_count": null,
      "outputs": []
    },
    {
      "cell_type": "code",
      "source": [
        "cols = cols.str.replace('^','')\n",
        "cols"
      ],
      "metadata": {
        "id": "2OqZm3Cx9zUU"
      },
      "execution_count": null,
      "outputs": []
    },
    {
      "cell_type": "code",
      "source": [
        "df.columns"
      ],
      "metadata": {
        "id": "C7D6aDK_-omM"
      },
      "execution_count": null,
      "outputs": []
    },
    {
      "cell_type": "code",
      "source": [
        "df.columns = cols #flatten multi-level columns"
      ],
      "metadata": {
        "id": "jaYowKNF-ujF"
      },
      "execution_count": null,
      "outputs": []
    },
    {
      "cell_type": "code",
      "source": [
        "df.columns #เหลือ index level เดียว"
      ],
      "metadata": {
        "id": "TGTlGAHA-za-"
      },
      "execution_count": null,
      "outputs": []
    },
    {
      "cell_type": "code",
      "source": [
        "df.tail()"
      ],
      "metadata": {
        "id": "j99k_tKF-4DF"
      },
      "execution_count": null,
      "outputs": []
    },
    {
      "cell_type": "markdown",
      "source": [
        "เปลี่ยน multiindex ของหุ้นไทย 3 ตัวให้เป็น index เดียว"
      ],
      "metadata": {
        "id": "rVZIQL2ooNN0"
      }
    },
    {
      "cell_type": "code",
      "source": [
        "df2.columns"
      ],
      "metadata": {
        "id": "WKcLtKfxoZMK"
      },
      "execution_count": null,
      "outputs": []
    },
    {
      "cell_type": "code",
      "source": [
        "cols_2 = df2.columns.get_level_values(1)+ '_' + df2.columns.get_level_values(0)\n",
        "print(cols_2)"
      ],
      "metadata": {
        "id": "Id2v3yzRoeH8"
      },
      "execution_count": null,
      "outputs": []
    },
    {
      "cell_type": "code",
      "source": [
        "df2.columns = cols_2"
      ],
      "metadata": {
        "id": "7f2wZ7B0orYF"
      },
      "execution_count": null,
      "outputs": []
    },
    {
      "cell_type": "code",
      "source": [
        "df2.head()"
      ],
      "metadata": {
        "id": "5LvS-sfSow4h"
      },
      "execution_count": null,
      "outputs": []
    },
    {
      "cell_type": "code",
      "source": [
        "df2.columns"
      ],
      "metadata": {
        "id": "hArjrDBxpQFQ"
      },
      "execution_count": null,
      "outputs": []
    },
    {
      "cell_type": "markdown",
      "source": [
        "ปรับชื่อ คอลัมน์อีกรูปแบบหนึ่ง โดยใช้ ข้อมูล df2 ตัวตั้งต้น"
      ],
      "metadata": {
        "id": "ElzIPTMnqhVR"
      }
    },
    {
      "cell_type": "code",
      "source": [
        "#stocks=['EA.BK', 'AOT.BK', 'SCB.BK'] #ดึงหุ้นไทยมากกว่า 1 ตัว\n",
        "#df2 = yf.download(stocks, start=\"2022-05-01\", end=\"2023-04-30\")\n",
        "df2 = pd.DataFrame(temp_data)"
      ],
      "metadata": {
        "id": "oHeFS-kMbQRv"
      },
      "execution_count": null,
      "outputs": []
    },
    {
      "cell_type": "code",
      "source": [
        "df2.columns"
      ],
      "metadata": {
        "id": "FJo0Zph6bFrh"
      },
      "execution_count": null,
      "outputs": []
    },
    {
      "cell_type": "code",
      "source": [
        "cols_3 = df2.columns.get_level_values(0)+ '_' + df2.columns.get_level_values(1)\n",
        "print(cols_3)"
      ],
      "metadata": {
        "id": "8g4yqtRBgmlW"
      },
      "execution_count": null,
      "outputs": []
    },
    {
      "cell_type": "code",
      "source": [
        "temp_data.head()"
      ],
      "metadata": {
        "id": "Wjf14rHCb3qo"
      },
      "execution_count": null,
      "outputs": []
    },
    {
      "cell_type": "code",
      "source": [
        "df2.head()"
      ],
      "metadata": {
        "id": "11fwGpFllZIQ"
      },
      "execution_count": null,
      "outputs": []
    },
    {
      "cell_type": "code",
      "source": [
        "df2.columns = cols_3"
      ],
      "metadata": {
        "id": "qIq6leixlgOT"
      },
      "execution_count": null,
      "outputs": []
    },
    {
      "cell_type": "code",
      "source": [
        "df2.head()"
      ],
      "metadata": {
        "id": "UFd4cnGLlkRM"
      },
      "execution_count": null,
      "outputs": []
    },
    {
      "cell_type": "code",
      "source": [
        "df2.columns"
      ],
      "metadata": {
        "id": "NoPk7IXrl23Y"
      },
      "execution_count": null,
      "outputs": []
    },
    {
      "cell_type": "code",
      "source": [
        "temp_data.columns"
      ],
      "metadata": {
        "id": "C9TZmFKEcBO9"
      },
      "execution_count": null,
      "outputs": []
    }
  ]
}