{
  "nbformat": 4,
  "nbformat_minor": 0,
  "metadata": {
    "colab": {
      "provenance": []
    },
    "kernelspec": {
      "name": "python3",
      "display_name": "Python 3"
    }
  },
  "cells": [
    {
      "cell_type": "markdown",
      "metadata": {
        "id": "RsANai86oLGa"
      },
      "source": [
        "information  :   https://docs.opencv.org/4.x/dc/da5/tutorial_py_drawing_functions.html\n",
        "\n",
        "ref: https://www.youtube.com/watch?v=5BdCx_sa0PU"
      ]
    },
    {
      "cell_type": "code",
      "metadata": {
        "id": "nRTWxkD_WZfQ"
      },
      "source": [
        "import cv2\n",
        "print(cv2.__version__)"
      ],
      "execution_count": null,
      "outputs": []
    },
    {
      "cell_type": "markdown",
      "metadata": {
        "id": "xz3ABWdf4T26"
      },
      "source": [
        "**Download image files**\n",
        "\n",
        "นำภาพจาก github เพื่อมาทดสอบคำสั่งใน OpenCV"
      ]
    },
    {
      "cell_type": "code",
      "metadata": {
        "id": "9Q-m7zp54A3Y"
      },
      "source": [
        "!git clone https://github.com/deepanrajm/machine_learning.git"
      ],
      "execution_count": null,
      "outputs": []
    },
    {
      "cell_type": "markdown",
      "source": [
        "# **จัดเก็บไฟล์รูปภาพลงใน google drive**\n",
        "\n",
        "เก็บไฟล์จาก Folder images ทั้งหมด"
      ],
      "metadata": {
        "id": "PoVlA9ydLQ1I"
      }
    },
    {
      "cell_type": "code",
      "metadata": {
        "id": "TcWaVhZtH3mO"
      },
      "source": [
        "from google.colab import drive\n",
        "drive.mount('/content/drive')\n",
        "#drive.flush_and_unmount()"
      ],
      "execution_count": null,
      "outputs": []
    },
    {
      "cell_type": "code",
      "metadata": {
        "id": "HlL7LBnsIExZ"
      },
      "source": [
        "!ls -la #ตรวจสอบไฟล์ใน colab"
      ],
      "execution_count": null,
      "outputs": []
    },
    {
      "cell_type": "markdown",
      "metadata": {
        "id": "_KB_7UMRK5Fz"
      },
      "source": [
        "Copy image files from colab and save to google drive\n",
        "\n",
        "Don't forget to check your folder name\n",
        "\n",
        "if you want to move, use !mv command"
      ]
    },
    {
      "cell_type": "code",
      "metadata": {
        "id": "qKVHXqbrIscl"
      },
      "source": [
        "!cp -r '/content/machine_learning/OpenCv/images/' '/content/drive/MyDrive/229323 Data Manipulation/'"
      ],
      "execution_count": null,
      "outputs": []
    },
    {
      "cell_type": "markdown",
      "metadata": {
        "id": "yvutERDc22WB"
      },
      "source": [
        "# **Load Display and Save the image**"
      ]
    },
    {
      "cell_type": "markdown",
      "source": [
        "การเปิดภาพด้วย OpenCV จะอยู่ในโหมดสีแบบ BGR เสมอ (Blue Green Red)\n",
        "\n",
        "ดังนั้น เมื่อต้องการให้แสดง RGB ต้องเปลี่ยนจาก BGR2RGB ก่อน(ใช้เมื่อต้องการแสดงผลด้วย matplotlib)"
      ],
      "metadata": {
        "id": "TRbf9OUYVAkS"
      }
    },
    {
      "cell_type": "code",
      "metadata": {
        "id": "vEIY375s1jL9"
      },
      "source": [
        "# load the image and show some basic information on it\n",
        "#image = cv2.imread(\"machine_learning/OpenCv/images/bb.JPG\")\n",
        "image = cv2.imread(\"drive/MyDrive/229323 Data Manipulation/images/bb.JPG\")"
      ],
      "execution_count": null,
      "outputs": []
    },
    {
      "cell_type": "code",
      "source": [
        " # show the image using matplotlib\n",
        "import matplotlib.pyplot as plt\n",
        "\n",
        "print(\"No BGR2RGB\")\n",
        "plt.imshow(image)\n",
        "plt.show()\n",
        "\n",
        "image1 = cv2.cvtColor(image, cv2.COLOR_BGR2RGB)\n",
        "print(\"Use BGR2RGB\")\n",
        "plt.imshow(image1)\n",
        "plt.show()"
      ],
      "metadata": {
        "id": "V0RXpeI9lAXs"
      },
      "execution_count": null,
      "outputs": []
    },
    {
      "cell_type": "code",
      "source": [
        "# show the image using cv2_imshow\n",
        "from google.colab.patches import cv2_imshow #เฉพาะบน colab cv2.imshow()\n",
        "\n",
        "cv2_imshow(image)"
      ],
      "metadata": {
        "id": "L0sdZxXUUMq_"
      },
      "execution_count": null,
      "outputs": []
    },
    {
      "cell_type": "markdown",
      "metadata": {
        "id": "psqrJHk_L7uj"
      },
      "source": [
        "# **Write image file in colab drive**"
      ]
    },
    {
      "cell_type": "code",
      "metadata": {
        "id": "zGizO4sK2UOF"
      },
      "source": [
        "# save the image -- OpenCV handles converting file types automatically\n",
        "\n",
        "#save in colab\n",
        "cv2.imwrite(\"big_boss_1.jpg\", image)\n",
        "#save in google drive\n",
        "cv2.imwrite(\"drive/My Drive/229323 Data Manipulation/big_boss_2.JPG\",image)"
      ],
      "execution_count": null,
      "outputs": []
    },
    {
      "cell_type": "markdown",
      "metadata": {
        "id": "hNI1j8hU29IT"
      },
      "source": [
        "# **Drawing Functions**"
      ]
    },
    {
      "cell_type": "code",
      "metadata": {
        "id": "3-gMSPx32z4R"
      },
      "source": [
        "import numpy as np"
      ],
      "execution_count": null,
      "outputs": []
    },
    {
      "cell_type": "markdown",
      "metadata": {
        "id": "cGCj-q1Q4xDk"
      },
      "source": [
        "สร้างพื้นที่สำหรับเก็บภาพขนาด 500 rows และ 500 columns\n",
        "ลึก 3 แถว(แต่ละ pixel\n",
        "จะประกอบด้วยค่า RGB 3 ค่า)"
      ]
    },
    {
      "cell_type": "code",
      "metadata": {
        "id": "yvGidjuN3AXt"
      },
      "source": [
        "#0 0 0 แทนสีดำ\n",
        "#255 255 255 แทนสีขาว\n",
        "canvas = np.ones((500, 500, 3), dtype=\"uint8\")*255\n",
        "print(canvas)"
      ],
      "execution_count": null,
      "outputs": []
    },
    {
      "cell_type": "code",
      "metadata": {
        "id": "eUEjmWGDbx-D"
      },
      "source": [
        "black_canvas = np.ones((50, 150, 3), dtype=\"uint8\")*0\n",
        "#print(black_canvas)\n",
        "cv2_imshow(black_canvas)"
      ],
      "execution_count": null,
      "outputs": []
    },
    {
      "cell_type": "markdown",
      "metadata": {
        "id": "SxFnWIHa5oV2"
      },
      "source": [
        "เขียนเส้นสีดำนั่นคือ RGB = 0 0 0\n",
        "\n",
        "ลากจากจุด 0,0 ถึง 400,400\n",
        "\n",
        "หนา 3 pixels"
      ]
    },
    {
      "cell_type": "code",
      "metadata": {
        "id": "JUB9-RBZ3C9h"
      },
      "source": [
        "canvas = np.ones((300, 300, 3), dtype=\"uint8\")*155\n",
        "black = (0, 0, 0)\n",
        "cv2.line(canvas, (0, 0), (200, 200), black,3)\n",
        "cv2_imshow(canvas)"
      ],
      "execution_count": null,
      "outputs": []
    },
    {
      "cell_type": "code",
      "metadata": {
        "id": "0SJXnG143IW3"
      },
      "source": [
        "red =[0,0,255]\n",
        "cv2.rectangle(canvas, (150, 100), (100, 225), red, 2)\n",
        "cv2_imshow(canvas)"
      ],
      "execution_count": null,
      "outputs": []
    },
    {
      "cell_type": "code",
      "metadata": {
        "id": "NR31ZJqi3SZF"
      },
      "source": [
        "canvas = np.ones((300, 300, 3), dtype=\"uint8\")*155\n",
        "green = (0, 255, 0)\n",
        "cv2.rectangle(canvas, (100, 50), (125, 150), green, 2)\n",
        "cv2_imshow(canvas)"
      ],
      "execution_count": null,
      "outputs": []
    },
    {
      "cell_type": "markdown",
      "metadata": {
        "id": "aWJfHiL-7Gnr"
      },
      "source": [
        "**Clear canvas**"
      ]
    },
    {
      "cell_type": "code",
      "metadata": {
        "id": "WvMVJ61l3W9p"
      },
      "source": [
        "canvas = np.zeros((500, 500, 3), dtype=\"uint8\")"
      ],
      "execution_count": null,
      "outputs": []
    },
    {
      "cell_type": "code",
      "metadata": {
        "id": "7Oy5xXVn3cBs"
      },
      "source": [
        "for i in range(0, 25):   #ทดสอบการ run 2 ครั้งจะเห็นว่าสีแตกต่างกันเนื่องจากใช้การสุ่มเลือกสี\n",
        "\t# randomly generate a radius size between 5 and 200, generate a random\n",
        "\t# color, and then pick a random point on our canvas where the circle\n",
        "\t# will be drawn\n",
        "\tradius = np.random.randint(5, high=300)\n",
        "\tcolor = np.random.randint(0, high=256, size = (3,)).tolist()\n",
        "\tpt = np.random.randint(0, high=400, size = (2,))\n",
        "\n",
        "\t# draw our random circle\n",
        "\tcv2.circle(canvas, tuple(pt), radius, color, -1)\n",
        "\n",
        "# Show our masterpiece\n",
        "cv2_imshow(canvas)"
      ],
      "execution_count": null,
      "outputs": []
    },
    {
      "cell_type": "markdown",
      "metadata": {
        "id": "-Y0CY0ed4ycb"
      },
      "source": [
        "# **Write Text on image**"
      ]
    },
    {
      "cell_type": "code",
      "metadata": {
        "id": "czCMewtX3w9d"
      },
      "source": [
        "#image = cv2.imread(\"machine_learning/OpenCv/images/big_boss.JPG\")\n",
        "image = cv2.imread(\"drive/My Drive/229323 Data Manipulation/images/bb.JPG\")\n",
        "cv2.putText(image, 'Big Boss 2', (30, 30), cv2.FONT_HERSHEY_SIMPLEX, 0.8, (255, 0, 0), 2)\n",
        "cv2_imshow(image)"
      ],
      "execution_count": null,
      "outputs": []
    },
    {
      "cell_type": "markdown",
      "metadata": {
        "id": "cpxq1exF4v2q"
      },
      "source": [
        "# **Translate**"
      ]
    },
    {
      "cell_type": "code",
      "metadata": {
        "id": "WQks-khb4tv8"
      },
      "source": [
        "import imutils"
      ],
      "execution_count": null,
      "outputs": []
    },
    {
      "cell_type": "code",
      "metadata": {
        "id": "6d8JyaXx43i7"
      },
      "source": [
        "#image = cv2.imread(\"machine_learning/OpenCv/images/minion.jpg\")\n",
        "image = cv2.imread(\"drive/My Drive/229323 Data Manipulation/images/minion.jpg\")\n",
        "cv2_imshow(image)"
      ],
      "execution_count": null,
      "outputs": []
    },
    {
      "cell_type": "code",
      "metadata": {
        "id": "EsozQOVd5EWv"
      },
      "source": [
        "shifted = imutils.translate(image, 0, 50)\n",
        "cv2_imshow(shifted)"
      ],
      "execution_count": null,
      "outputs": []
    },
    {
      "cell_type": "markdown",
      "metadata": {
        "id": "zJAoQN9t5Ogg"
      },
      "source": [
        "# **Rotate Image**"
      ]
    },
    {
      "cell_type": "code",
      "metadata": {
        "id": "zbG0gjaF5OPd"
      },
      "source": [
        "rotated = imutils.rotate(image, 90)\n",
        "cv2_imshow(rotated)"
      ],
      "execution_count": null,
      "outputs": []
    },
    {
      "cell_type": "code",
      "source": [
        "rotated = imutils.rotate(image, -90)\n",
        "cv2_imshow(rotated)"
      ],
      "metadata": {
        "id": "gLO6P68-ZbbA"
      },
      "execution_count": null,
      "outputs": []
    },
    {
      "cell_type": "markdown",
      "metadata": {
        "id": "cktUadUm5d8S"
      },
      "source": [
        "# **Crop image**"
      ]
    },
    {
      "cell_type": "code",
      "metadata": {
        "id": "QZD4igqf5fuD"
      },
      "source": [
        "crop = image[10:300,10:300]\n",
        "cv2_imshow(crop)"
      ],
      "execution_count": null,
      "outputs": []
    },
    {
      "cell_type": "markdown",
      "metadata": {
        "id": "bZCC5b2f5j_4"
      },
      "source": [
        "# **Resize without aspect Ratio**"
      ]
    },
    {
      "cell_type": "code",
      "metadata": {
        "id": "ZgwvT_Yg5nBj"
      },
      "source": [
        "resized = cv2.resize(image, (500,500))\n",
        "cv2_imshow(resized)"
      ],
      "execution_count": null,
      "outputs": []
    },
    {
      "cell_type": "markdown",
      "metadata": {
        "id": "5pUSP4-h5rRz"
      },
      "source": [
        "# **Resize with aspect Ration**"
      ]
    },
    {
      "cell_type": "code",
      "metadata": {
        "id": "NisqiW6z5t8w"
      },
      "source": [
        "resized = imutils.resize(image, width=500)\n",
        "cv2_imshow(resized)"
      ],
      "execution_count": null,
      "outputs": []
    },
    {
      "cell_type": "markdown",
      "metadata": {
        "id": "Ju9rz19V524R"
      },
      "source": [
        "# **Flipping**"
      ]
    },
    {
      "cell_type": "code",
      "metadata": {
        "id": "KKX4d00Y55mo"
      },
      "source": [
        "flipped = cv2.flip(image, 1)\n",
        "cv2_imshow(flipped)"
      ],
      "execution_count": null,
      "outputs": []
    },
    {
      "cell_type": "code",
      "metadata": {
        "id": "bUzCRuXQ58XP"
      },
      "source": [
        "flipped = cv2.flip(image, 0)\n",
        "cv2_imshow(flipped)"
      ],
      "execution_count": null,
      "outputs": []
    },
    {
      "cell_type": "code",
      "metadata": {
        "id": "pPu2PQ2P6ABy"
      },
      "source": [
        "flipped = cv2.flip(image, -1)\n",
        "cv2_imshow( flipped)"
      ],
      "execution_count": null,
      "outputs": []
    },
    {
      "cell_type": "markdown",
      "metadata": {
        "id": "qNrDGqVm6ImP"
      },
      "source": [
        "# **Bitwise Operation**"
      ]
    },
    {
      "cell_type": "code",
      "metadata": {
        "id": "XbigQef-6Kpx"
      },
      "source": [
        "rectangle = np.zeros((300, 300), dtype = \"uint8\")\n",
        "cv2.rectangle(rectangle, (25, 25), (275, 275), 255, -1)\n",
        "cv2_imshow(rectangle)"
      ],
      "execution_count": null,
      "outputs": []
    },
    {
      "cell_type": "code",
      "metadata": {
        "id": "yT_guSxw6QHd"
      },
      "source": [
        "circle = np.zeros((300, 300), dtype = \"uint8\")\n",
        "cv2.circle(circle, (150, 150), 150, 255, -1)\n",
        "cv2_imshow(circle)"
      ],
      "execution_count": null,
      "outputs": []
    },
    {
      "cell_type": "code",
      "metadata": {
        "id": "Lm3lU0JA6T2I"
      },
      "source": [
        "bitwiseAnd = cv2.bitwise_and(rectangle, circle)\n",
        "cv2_imshow(bitwiseAnd)"
      ],
      "execution_count": null,
      "outputs": []
    },
    {
      "cell_type": "code",
      "metadata": {
        "id": "9QmOODO_6W9c"
      },
      "source": [
        "bitwiseOr = cv2.bitwise_or(rectangle, circle)\n",
        "cv2_imshow(bitwiseOr)"
      ],
      "execution_count": null,
      "outputs": []
    },
    {
      "cell_type": "code",
      "metadata": {
        "id": "RP1W97iy6Z_2"
      },
      "source": [
        "bitwiseXor = cv2.bitwise_xor(rectangle, circle)\n",
        "cv2_imshow(bitwiseXor)"
      ],
      "execution_count": null,
      "outputs": []
    },
    {
      "cell_type": "code",
      "metadata": {
        "id": "hAV1tJur6dS7"
      },
      "source": [
        "bitwiseNot = cv2.bitwise_not(circle)\n",
        "cv2_imshow(bitwiseNot)"
      ],
      "execution_count": null,
      "outputs": []
    },
    {
      "cell_type": "markdown",
      "metadata": {
        "id": "nWsPFuLC6h55"
      },
      "source": [
        "# **Masking**"
      ]
    },
    {
      "cell_type": "code",
      "metadata": {
        "id": "auGvtyF16j0y"
      },
      "source": [
        "mask = np.zeros(image.shape[:2], dtype=\"uint8\")\n",
        "cv2.rectangle(mask, (452, 243), (690, 590), 255, -1)\n",
        "cv2_imshow( mask)"
      ],
      "execution_count": null,
      "outputs": []
    },
    {
      "cell_type": "code",
      "metadata": {
        "id": "-zT58GQf6tpH"
      },
      "source": [
        "masked = cv2.bitwise_and(image, image, mask=mask)\n",
        "cv2_imshow(masked)"
      ],
      "execution_count": null,
      "outputs": []
    },
    {
      "cell_type": "code",
      "metadata": {
        "id": "8AHQW6YI6zfQ"
      },
      "source": [
        "mask = np.zeros(image.shape[:2], dtype=\"uint8\")\n",
        "cv2.circle(mask, (585, 98), 50, 255, -1)\n",
        "masked = cv2.bitwise_and(image, image, mask=mask)\n",
        "cv2_imshow(mask)\n",
        "cv2_imshow(masked)"
      ],
      "execution_count": null,
      "outputs": []
    },
    {
      "cell_type": "markdown",
      "metadata": {
        "id": "dcKqEWC07AWH"
      },
      "source": [
        "# **Smoothing and Blurring**"
      ]
    },
    {
      "cell_type": "markdown",
      "metadata": {
        "id": "UVSpqw687PGt"
      },
      "source": [
        "**Average Blurr**"
      ]
    },
    {
      "cell_type": "code",
      "metadata": {
        "id": "XrPuUFKR7CXr"
      },
      "source": [
        "blurred = cv2.blur(image, (15, 15))\n",
        "cv2_imshow(blurred)"
      ],
      "execution_count": null,
      "outputs": []
    },
    {
      "cell_type": "markdown",
      "metadata": {
        "id": "x8kD_i1u7RQi"
      },
      "source": [
        "**Gaussian Blur**"
      ]
    },
    {
      "cell_type": "code",
      "metadata": {
        "id": "9q69pszk7TFs"
      },
      "source": [
        "blurred = cv2.GaussianBlur(image, (15, 15), 0)\n",
        "cv2_imshow(blurred)"
      ],
      "execution_count": null,
      "outputs": []
    },
    {
      "cell_type": "markdown",
      "metadata": {
        "id": "IPX1tWf47Zs-"
      },
      "source": [
        "**Median Blur**"
      ]
    },
    {
      "cell_type": "code",
      "metadata": {
        "id": "uBgmydZk7a3A"
      },
      "source": [
        "blurred = cv2.medianBlur(image, 15)\n",
        "cv2_imshow(blurred)"
      ],
      "execution_count": null,
      "outputs": []
    },
    {
      "cell_type": "markdown",
      "metadata": {
        "id": "3PNsToXa7sGi"
      },
      "source": [
        "# **Thresholding**"
      ]
    },
    {
      "cell_type": "code",
      "metadata": {
        "id": "fylar-4f7w3d"
      },
      "source": [
        "#image = cv2.imread(\"machine_learning/OpenCv/images/opencv_logo.png\")\n",
        "image = cv2.imread(\"drive/My Drive/229323 Data Manipulation/images/opencv_logo.png\")\n",
        "cv2_imshow(image)"
      ],
      "execution_count": null,
      "outputs": []
    },
    {
      "cell_type": "code",
      "metadata": {
        "id": "hSKnIb2QgMJH"
      },
      "source": [
        "blurred = cv2.cvtColor(image, cv2.COLOR_BGR2GRAY)\n",
        "cv2_imshow(blurred)"
      ],
      "execution_count": null,
      "outputs": []
    },
    {
      "cell_type": "code",
      "metadata": {
        "id": "tEn8kIjS8DW3"
      },
      "source": [
        "# check; if a pixel value is greater than our threshold (in this\n",
        "# case, 200), we set it to be BLACK, otherwise it is WHITE.\n",
        "(T, threshInv) = cv2.threshold(blurred, 100, 255, cv2.THRESH_BINARY_INV)\n",
        "cv2_imshow(threshInv)"
      ],
      "execution_count": null,
      "outputs": []
    },
    {
      "cell_type": "code",
      "metadata": {
        "id": "jFds8bqv8HXo"
      },
      "source": [
        "(T, thresh) = cv2.threshold(blurred, 100, 255, cv2.THRESH_BINARY)\n",
        "cv2_imshow(thresh)"
      ],
      "execution_count": null,
      "outputs": []
    },
    {
      "cell_type": "code",
      "metadata": {
        "id": "wqXEa5lO8NTj"
      },
      "source": [
        "cv2_imshow(cv2.bitwise_and(image, image, mask=threshInv))"
      ],
      "execution_count": null,
      "outputs": []
    },
    {
      "cell_type": "markdown",
      "metadata": {
        "id": "Mo_qNGCL8d1T"
      },
      "source": [
        "**Otsu Thresholding**"
      ]
    },
    {
      "cell_type": "code",
      "metadata": {
        "id": "5vcZ2rsX8f7D"
      },
      "source": [
        "(T, threshInv) = cv2.threshold(blurred, 0, 255,cv2.THRESH_BINARY_INV | cv2.THRESH_OTSU)\n",
        "cv2_imshow(threshInv)"
      ],
      "execution_count": null,
      "outputs": []
    },
    {
      "cell_type": "code",
      "metadata": {
        "id": "bmdpA6vH8l6P"
      },
      "source": [
        "cv2_imshow(cv2.bitwise_and(image, image, mask=threshInv))"
      ],
      "execution_count": null,
      "outputs": []
    },
    {
      "cell_type": "markdown",
      "metadata": {
        "id": "0g_q10_P9sBG"
      },
      "source": [
        "# **License Plate Detection**"
      ]
    },
    {
      "cell_type": "code",
      "metadata": {
        "id": "q2rl9zil9u9S"
      },
      "source": [
        "#image = cv2.imread(\"machine_learning/OpenCv/images/1.jpg\")\n",
        "image = cv2.imread(\"drive/MyDrive/229323 Data Manipulation/images/1.jpg\")\n",
        "image = imutils.resize(image, width=500)\n",
        "gray = cv2.cvtColor(image, cv2.COLOR_BGR2GRAY)"
      ],
      "execution_count": null,
      "outputs": []
    },
    {
      "cell_type": "code",
      "metadata": {
        "id": "GgBFimFd95x-"
      },
      "source": [
        "cv2_imshow(image)"
      ],
      "execution_count": null,
      "outputs": []
    },
    {
      "cell_type": "code",
      "metadata": {
        "id": "z9hsqx4j98eg"
      },
      "source": [
        "(T, threshInv) = cv2.threshold(gray, 0, 255,cv2.THRESH_BINARY_INV | cv2.THRESH_OTSU)\n",
        "cv2_imshow(threshInv)"
      ],
      "execution_count": null,
      "outputs": []
    }
  ]
}