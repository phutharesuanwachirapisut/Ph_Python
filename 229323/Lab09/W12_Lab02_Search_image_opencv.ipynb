{
  "nbformat": 4,
  "nbformat_minor": 0,
  "metadata": {
    "colab": {
      "provenance": []
    },
    "kernelspec": {
      "name": "python3",
      "display_name": "Python 3"
    },
    "language_info": {
      "name": "python"
    }
  },
  "cells": [
    {
      "cell_type": "markdown",
      "source": [
        "# **OpenCV**\n",
        "\n",
        "ย่อมาจาก Open Source Computer Vision เป็นซอฟต์แวร์ที่ใช้สำหรับจัดการรูปภาพ\n",
        "\n",
        "OpenCV จะจัดการกับข้อมูลรูปภาพที่เป็นทั้งภาพนิ่งหรือภาพเคลื่อนไหว และรูปแบบข้อมูลที่ดำเนินการจะเป็นอาเรย์ที่เก็บค่าความสว่างของแต่ละ pixel ในภาพ ซึ่งอาเรย์ที่ใช้งานนี้จะเป็นอาเรย์ของ numpy\n",
        "\n",
        "ข้อมูลในรูปภาพจะเป็นตัวเลข 0 ถึง 255 โดยทั่วไปจะเป็นชนิด uint8 (unsigned integer 8 บิต)"
      ],
      "metadata": {
        "id": "DjorJizzxIQF"
      }
    },
    {
      "cell_type": "markdown",
      "metadata": {
        "id": "Xc1phmUXnPJa"
      },
      "source": [
        "information  :   https://docs.opencv.org/4.x/db/deb/tutorial_display_image.html\n",
        "https://docs.opencv.org/4.x/dc/da5/tutorial_py_drawing_functions.html"
      ]
    },
    {
      "cell_type": "code",
      "metadata": {
        "id": "chfJqnKl5Q4w"
      },
      "source": [
        "import cv2 #เรียกใช้โมดูล Opencv โดยจะใช้แทนในชื่อ CV2\n",
        "print(cv2.__version__) #check version of cv2"
      ],
      "execution_count": null,
      "outputs": []
    },
    {
      "cell_type": "code",
      "source": [
        "list_ = dir(cv2) #ฟังก์ชันและค่าตัวแปรต่างๆ ที่มีอยู่ใน OpenCV\n",
        "size = len(list_)\n",
        "for i in range(size):\n",
        "  print(list_[i])"
      ],
      "metadata": {
        "id": "bn05VRFyyo8V"
      },
      "execution_count": null,
      "outputs": []
    },
    {
      "cell_type": "code",
      "metadata": {
        "id": "59Gb5zyg7vBV"
      },
      "source": [
        "from google.colab import files\n",
        "uploaded = files.upload()"
      ],
      "execution_count": null,
      "outputs": []
    },
    {
      "cell_type": "markdown",
      "source": [
        "# **การอ่านข้อมูลไฟล์รูปภาพ**\n",
        "\n",
        "คำสั่ง imread() ใช้สำหรับการอ่านไฟล์รูปภาพ"
      ],
      "metadata": {
        "id": "TEe4_DrWI3cU"
      }
    },
    {
      "cell_type": "code",
      "metadata": {
        "id": "vjOsoV49GGbB"
      },
      "source": [
        "from google.colab.patches import cv2_imshow\n",
        "import numpy as np\n",
        "\n",
        "img = cv2.imread('watch.jpg',cv2.IMREAD_COLOR)\n",
        "cv2_imshow(img)\n",
        "px = img[50,50] #specific pixels ขนาด width x height\n",
        "#img[50,50] = [255,255,255]  #color BGR\n",
        "print(px)\n",
        "print(img[0,0])"
      ],
      "execution_count": null,
      "outputs": []
    },
    {
      "cell_type": "code",
      "metadata": {
        "id": "9pM4Y1nni1Yb"
      },
      "source": [
        "import matplotlib.pyplot as plt\n"
      ],
      "execution_count": null,
      "outputs": []
    },
    {
      "cell_type": "code",
      "metadata": {
        "id": "AH4Wovv_IUlR"
      },
      "source": [
        "plt.imshow(img, cmap = 'gray', interpolation = 'bicubic')\n",
        "plt.xticks([]),plt.yticks([])  #ไม่แสดงค่าบนแกน x และ y\n",
        "plt.plot([200,300,400],[100,200,300],'c', linewidth= 5)\n",
        "plt.show()"
      ],
      "execution_count": null,
      "outputs": []
    },
    {
      "cell_type": "code",
      "metadata": {
        "id": "VxrbggtXJh7x"
      },
      "source": [
        "px = img[100:150,100:150] #color for each px\n",
        "print(px)"
      ],
      "execution_count": null,
      "outputs": []
    },
    {
      "cell_type": "code",
      "metadata": {
        "id": "EDkLrc4K0qL1"
      },
      "source": [
        "img = cv2.imread('watch.jpg',cv2.IMREAD_GRAYSCALE)\n",
        "cv2_imshow(img)"
      ],
      "execution_count": null,
      "outputs": []
    },
    {
      "cell_type": "code",
      "source": [
        "img = cv2.imread('watch.jpg',cv2.IMREAD_COLOR)\n",
        "cv2_imshow(img)\n",
        "px1 = img[50:200,50:200] #specific pixels ขนาด width x height\n",
        "cv2_imshow(px1)"
      ],
      "metadata": {
        "id": "J-LTT3yhrueR"
      },
      "execution_count": null,
      "outputs": []
    },
    {
      "cell_type": "code",
      "metadata": {
        "id": "g_fIZtVwb0r9"
      },
      "source": [
        "import copy\n",
        "\n",
        "cv2_imshow(img)\n",
        "px2 = copy.deepcopy(img[50:200,50:200]) #specific pixels ขนาด width x height\n",
        "cv2_imshow(px2)"
      ],
      "execution_count": null,
      "outputs": []
    },
    {
      "cell_type": "markdown",
      "source": [
        "**เปลี่ยนพื้นที่บางส่วนในรูปภาพให้กลายเป็นกรอบสี่เหลี่ยมสีขาว**"
      ],
      "metadata": {
        "id": "2X6MXgjTnxur"
      }
    },
    {
      "cell_type": "code",
      "metadata": {
        "id": "JjtDfLq-J1e9"
      },
      "source": [
        "img[100:150, 100:150] = [255,255,255]"
      ],
      "execution_count": null,
      "outputs": []
    },
    {
      "cell_type": "code",
      "metadata": {
        "id": "hBnHDgvEjw__"
      },
      "source": [
        "cv2_imshow(img)\n",
        "print(\"picture copy\")\n",
        "cv2_imshow(px1)\n",
        "print(\"picture deep copy\")\n",
        "cv2_imshow(px2)"
      ],
      "execution_count": null,
      "outputs": []
    },
    {
      "cell_type": "markdown",
      "source": [
        "**ดูรายละเอียดของรูปภาพ**"
      ],
      "metadata": {
        "id": "FWNXOXHGn8Qf"
      }
    },
    {
      "cell_type": "code",
      "metadata": {
        "id": "tVdA9wN7J9Li"
      },
      "source": [
        "print(img.shape)\n",
        "print(img.size)\n",
        "print(img.dtype)"
      ],
      "execution_count": null,
      "outputs": []
    },
    {
      "cell_type": "code",
      "metadata": {
        "id": "baZr_0ahKG6a"
      },
      "source": [
        "watch_face = img[37:111, 107:194]\n",
        "img[0:74,0:87] = watch_face\n",
        "\n",
        "cv2_imshow(img)"
      ],
      "execution_count": null,
      "outputs": []
    },
    {
      "cell_type": "markdown",
      "metadata": {
        "id": "WUMmADvX64Sb"
      },
      "source": [
        "# ทำการค้นหารูปจาก img1 ภายใน img2\n",
        "นำเข้าข้อมูลรูป 2 รูปคือ opencv-feature-matching-template.jpg\n",
        "\n",
        "และ opencv-feature-matching-image.jpg"
      ]
    },
    {
      "cell_type": "code",
      "metadata": {
        "id": "xYIGLnwd6x3A"
      },
      "source": [
        "from google.colab import files\n",
        "from IPython.display import Image\n",
        "\n",
        "uploaded = files.upload()"
      ],
      "execution_count": null,
      "outputs": []
    },
    {
      "cell_type": "code",
      "source": [
        "from google.colab import files\n",
        "from IPython.display import Image\n",
        "\n",
        "uploaded = files.upload()"
      ],
      "metadata": {
        "id": "GoLX43RltNko"
      },
      "execution_count": null,
      "outputs": []
    },
    {
      "cell_type": "markdown",
      "metadata": {
        "id": "3GUHGeysJ58A"
      },
      "source": [
        "So far we've imported the modules we're going to use, and defined our two images, the template (img1) and the image we're going to search for the template in (img2)"
      ]
    },
    {
      "cell_type": "code",
      "metadata": {
        "id": "PzRsE8yxJzJ_"
      },
      "source": [
        "img1 = cv2.imread('opencv-feature-matching-template.jpg',0)\n",
        "img2 = cv2.imread('opencv-feature-matching-image.jpg',0)"
      ],
      "execution_count": null,
      "outputs": []
    },
    {
      "cell_type": "code",
      "metadata": {
        "id": "OnSjZPnaiDYx"
      },
      "source": [
        "cv2_imshow(img1)\n",
        "cv2_imshow(img2)"
      ],
      "execution_count": null,
      "outputs": []
    },
    {
      "cell_type": "markdown",
      "metadata": {
        "id": "Qh5xAh_WlHPu"
      },
      "source": [
        "# ORB (Oriented FAST and Rotated BRIEF)\n",
        "\n",
        "BRIEF (Binary Robust Independent Elementary Features)\n",
        "\n",
        "is a feature descriptor, it speeds up computation of descriptors."
      ]
    },
    {
      "cell_type": "code",
      "metadata": {
        "id": "JC0gbk6YJ2W_"
      },
      "source": [
        "orb = cv2.ORB_create()"
      ],
      "execution_count": null,
      "outputs": []
    },
    {
      "cell_type": "markdown",
      "metadata": {
        "id": "j20dDn6PKA8t"
      },
      "source": [
        "This is the detector we're going to use for the features."
      ]
    },
    {
      "cell_type": "code",
      "metadata": {
        "id": "XIfF6QjMKD1_"
      },
      "source": [
        "kp1, des1 = orb.detectAndCompute(img1,None)\n",
        "kp2, des2 = orb.detectAndCompute(img2,None)"
      ],
      "execution_count": null,
      "outputs": []
    },
    {
      "cell_type": "markdown",
      "metadata": {
        "id": "SxAdSbNlKVVw"
      },
      "source": [
        "# Brute Force Matching(BFMatcher)\n",
        "\n",
        "This is our BFMatcher object.\n",
        "\n",
        "**Norm Types:**\n",
        "\n",
        "> cv.NORM_L2 : For SIFT, SURF\n",
        "\n",
        "> cv.NORM_HAMMING : ORB, BRIEF, BRISK, etc.\n",
        "\n",
        "> cv.NORM_HAMMING2 : ORB if WTA_K is 3 or 4"
      ]
    },
    {
      "cell_type": "code",
      "metadata": {
        "id": "8i16dcBVKH_P"
      },
      "source": [
        "bf = cv2.BFMatcher(cv2.NORM_HAMMING, crossCheck=True)"
      ],
      "execution_count": null,
      "outputs": []
    },
    {
      "cell_type": "code",
      "metadata": {
        "id": "jXICESdyKPFk"
      },
      "source": [
        "matches = bf.match(des1,des2)\n",
        "matches = sorted(matches, key = lambda x:x.distance)"
      ],
      "execution_count": null,
      "outputs": []
    },
    {
      "cell_type": "markdown",
      "metadata": {
        "id": "R0bRBD-xKY34"
      },
      "source": [
        "Here we create matches of the descriptors, then we sort them based on their distances."
      ]
    },
    {
      "cell_type": "code",
      "metadata": {
        "id": "Wud95lw3KQn4"
      },
      "source": [
        "img3 = cv2.drawMatches(img1,kp1,img2,kp2,matches[:10],None, flags=2)\n",
        "plt.imshow(img3)\n",
        "plt.show()"
      ],
      "execution_count": null,
      "outputs": []
    }
  ]
}