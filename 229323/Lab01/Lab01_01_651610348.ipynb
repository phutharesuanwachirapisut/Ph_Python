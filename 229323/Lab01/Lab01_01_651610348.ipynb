{
  "cells": [
    {
      "cell_type": "code",
      "execution_count": 2,
      "metadata": {
        "colab": {
          "base_uri": "https://localhost:8080/"
        },
        "id": "fE_XyFgr1lDy",
        "outputId": "4b0f05da-ed11-48e7-e93a-8976978bf8d3"
      },
      "outputs": [
        {
          "ename": "ValueError",
          "evalue": "invalid literal for int() with base 10: ''",
          "output_type": "error",
          "traceback": [
            "\u001b[0;31m---------------------------------------------------------------------------\u001b[0m",
            "\u001b[0;31mValueError\u001b[0m                                Traceback (most recent call last)",
            "Cell \u001b[0;32mIn[2], line 8\u001b[0m\n\u001b[1;32m      1\u001b[0m \u001b[38;5;66;03m# Phutharesuan Wachirapisut\u001b[39;00m\n\u001b[1;32m      2\u001b[0m \u001b[38;5;66;03m# 651610348\u001b[39;00m\n\u001b[1;32m      3\u001b[0m \u001b[38;5;66;03m# Lab01_01\u001b[39;00m\n\u001b[1;32m      4\u001b[0m \u001b[38;5;66;03m# 229323 sec 002\u001b[39;00m\n\u001b[1;32m      6\u001b[0m \u001b[38;5;28;01mimport\u001b[39;00m \u001b[38;5;21;01mnumpy\u001b[39;00m \u001b[38;5;28;01mas\u001b[39;00m \u001b[38;5;21;01mnp\u001b[39;00m\n\u001b[0;32m----> 8\u001b[0m dimen \u001b[38;5;241m=\u001b[39m \u001b[38;5;28;43mint\u001b[39;49m\u001b[43m(\u001b[49m\u001b[38;5;28;43minput\u001b[39;49m\u001b[43m(\u001b[49m\u001b[38;5;124;43m\"\u001b[39;49m\u001b[38;5;124;43mEnter dimension of matrix: \u001b[39;49m\u001b[38;5;124;43m\"\u001b[39;49m\u001b[43m)\u001b[49m\u001b[43m)\u001b[49m\n\u001b[1;32m      9\u001b[0m data_a \u001b[38;5;241m=\u001b[39m np\u001b[38;5;241m.\u001b[39mrandom\u001b[38;5;241m.\u001b[39mrandint(\u001b[38;5;241m1\u001b[39m,\u001b[38;5;241m9\u001b[39m,size\u001b[38;5;241m=\u001b[39mdimen\u001b[38;5;241m*\u001b[39mdimen)\n\u001b[1;32m     10\u001b[0m arr_a \u001b[38;5;241m=\u001b[39m data_a\u001b[38;5;241m.\u001b[39mreshape(dimen,dimen) \u001b[38;5;66;03m# ทำให้เป็น array2D\u001b[39;00m\n",
            "\u001b[0;31mValueError\u001b[0m: invalid literal for int() with base 10: ''"
          ]
        }
      ],
      "source": [
        "# Phutharesuan Wachirapisut\n",
        "# 651610348\n",
        "# Lab01_01\n",
        "# 229323 sec 002\n",
        "\n",
        "import numpy as np\n",
        "\n",
        "dimen = int(input(\"Enter dimension of matrix: \"))\n",
        "data_a = np.random.randint(1,9,size=dimen*dimen)\n",
        "arr_a = data_a.reshape(dimen,dimen) # ทำให้เป็น array2D\n",
        "\n",
        "print(arr_a)\n",
        "print(type(arr_a))"
      ]
    },
    {
      "cell_type": "code",
      "execution_count": 2,
      "metadata": {
        "colab": {
          "base_uri": "https://localhost:8080/"
        },
        "id": "yAKQXdnrnEDg",
        "outputId": "980a74a2-a072-4c3e-f728-1a0db7aa55d7"
      },
      "outputs": [
        {
          "data": {
            "text/plain": [
              "array([28, 27, 25, 18, 24])"
            ]
          },
          "execution_count": 2,
          "metadata": {},
          "output_type": "execute_result"
        }
      ],
      "source": [
        "sum_row = arr_a.sum(axis=0);sum_row"
      ]
    },
    {
      "cell_type": "code",
      "execution_count": 3,
      "metadata": {
        "colab": {
          "base_uri": "https://localhost:8080/"
        },
        "id": "BocXu0M2K-Ph",
        "outputId": "37023ce2-2a08-4150-bb69-d143a0b8140a"
      },
      "outputs": [
        {
          "data": {
            "text/plain": [
              "array([25, 20, 18, 35, 24])"
            ]
          },
          "execution_count": 3,
          "metadata": {},
          "output_type": "execute_result"
        }
      ],
      "source": [
        "sum_col = arr_a.sum(axis=1);sum_col"
      ]
    },
    {
      "cell_type": "code",
      "execution_count": 4,
      "metadata": {
        "colab": {
          "base_uri": "https://localhost:8080/"
        },
        "id": "VwQiQoviLKFh",
        "outputId": "96c20df2-39da-438c-c46a-45b313485dd1"
      },
      "outputs": [
        {
          "data": {
            "text/plain": [
              "(np.int64(22), np.int64(22))"
            ]
          },
          "execution_count": 4,
          "metadata": {},
          "output_type": "execute_result"
        }
      ],
      "source": [
        "a_diagonal = 0\n",
        "b_diagonal = 0\n",
        "for item in range(len(arr_a)):\n",
        "  a_diagonal += arr_a[item][item]\n",
        "  b_diagonal += arr_a[item][len(arr_a)-item-1]\n",
        "  # print(arr_a[item][item])\n",
        "  # print(arr_a[item][len(arr_a)-item-1])\n",
        "\n",
        "sum_diagonal = a_diagonal, b_diagonal;sum_diagonal\n"
      ]
    },
    {
      "cell_type": "code",
      "execution_count": 5,
      "metadata": {
        "colab": {
          "base_uri": "https://localhost:8080/"
        },
        "id": "RXe9GNd2MGrv",
        "outputId": "eaea8e21-95a5-4600-e8cd-ac56b69e72f5"
      },
      "outputs": [
        {
          "data": {
            "text/plain": [
              "np.int64(122)"
            ]
          },
          "execution_count": 5,
          "metadata": {},
          "output_type": "execute_result"
        }
      ],
      "source": [
        "sum_total = arr_a.flatten().sum(axis=0);sum_total"
      ]
    },
    {
      "cell_type": "code",
      "execution_count": 6,
      "metadata": {
        "colab": {
          "base_uri": "https://localhost:8080/"
        },
        "id": "UAj_WVBMMJAo",
        "outputId": "2d8c80b9-462a-4f10-f09f-dfdc283a2b22"
      },
      "outputs": [
        {
          "data": {
            "text/plain": [
              "array([[10, 13,  8,  9, 13],\n",
              "       [13,  6, 11,  6, 11],\n",
              "       [ 8, 11,  6, 13,  5],\n",
              "       [ 9,  6, 13, 14, 11],\n",
              "       [13, 11,  5, 11,  8]])"
            ]
          },
          "execution_count": 6,
          "metadata": {},
          "output_type": "execute_result"
        }
      ],
      "source": [
        "result = arr_a + arr_a.transpose();result"
      ]
    }
  ],
  "metadata": {
    "colab": {
      "provenance": []
    },
    "kernelspec": {
      "display_name": "Python 3",
      "name": "python3"
    },
    "language_info": {
      "codemirror_mode": {
        "name": "ipython",
        "version": 3
      },
      "file_extension": ".py",
      "mimetype": "text/x-python",
      "name": "python",
      "nbconvert_exporter": "python",
      "pygments_lexer": "ipython3",
      "version": "3.12.4"
    }
  },
  "nbformat": 4,
  "nbformat_minor": 0
}
