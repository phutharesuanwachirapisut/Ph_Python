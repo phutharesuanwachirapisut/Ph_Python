{
  "cells": [
    {
      "cell_type": "code",
      "execution_count": 3,
      "metadata": {
        "colab": {
          "base_uri": "https://localhost:8080/"
        },
        "id": "EFhv5B7nnc6m",
        "outputId": "4473be7a-bb59-40e1-b4e2-ceae50de0100"
      },
      "outputs": [
        {
          "name": "stdout",
          "output_type": "stream",
          "text": [
            "nxinfvisuosovnneereieeiueefnsoeoornnrnrizsnisfnveiifoivrwoioenooswengohvsnotenierxeuuresvinusfineernnfetreseoenienfxufnozseiietwwnnoxvfhnuesovzrvxeeoifeoefvreoevoxfnuiutnvetereehongtiuuitfieenoetrxffveorneoetfreerhnvteezieiefvfvsoifvnsoeiteoosriewrefoinvtsiuroofeueeerrhrueeseetehurfivowieiiietfhofxoovzovfgissweesxfneitenrfnhginzerxvnne\n",
            "True\n"
          ]
        }
      ],
      "source": [
        "# Phutharesuan Wachirapisut\n",
        "# 651610348\n",
        "# Lab01_03\n",
        "# 229323 sec 002\n",
        "import numpy as np\n",
        "import string \n",
        "\n",
        "string_a = str(input(\"Enter string: \")).lower().strip()\n",
        "lowletters = list(string.ascii_lowercase)\n",
        "\n",
        "print(string_a)\n",
        "print(isinstance(string_a,str))"
      ]
    },
    {
      "cell_type": "code",
      "execution_count": 4,
      "metadata": {
        "id": "RETcDs0wr1e4"
      },
      "outputs": [
        {
          "data": {
            "text/plain": [
              "array([[0., 0., 0., 0., 0., 0., 0., 0., 0., 0.],\n",
              "       [0., 0., 0., 0., 0., 0., 0., 0., 0., 0.],\n",
              "       [0., 0., 0., 0., 0., 0., 0., 0., 0., 0.],\n",
              "       [0., 0., 0., 0., 0., 0., 0., 0., 0., 0.],\n",
              "       [1., 1., 0., 2., 0., 1., 0., 2., 1., 1.],\n",
              "       [0., 0., 0., 0., 1., 1., 0., 0., 0., 0.],\n",
              "       [0., 0., 0., 0., 0., 0., 0., 0., 1., 0.],\n",
              "       [0., 0., 0., 1., 0., 0., 0., 0., 1., 0.],\n",
              "       [0., 0., 0., 0., 0., 1., 1., 0., 1., 1.],\n",
              "       [0., 0., 0., 0., 0., 0., 0., 0., 0., 0.],\n",
              "       [0., 0., 0., 0., 0., 0., 0., 0., 0., 0.],\n",
              "       [0., 0., 0., 0., 0., 0., 0., 0., 0., 0.],\n",
              "       [0., 0., 0., 0., 0., 0., 0., 0., 0., 0.],\n",
              "       [0., 1., 0., 0., 0., 0., 0., 1., 0., 2.],\n",
              "       [1., 1., 1., 0., 1., 0., 0., 0., 0., 0.],\n",
              "       [0., 0., 0., 0., 0., 0., 0., 0., 0., 0.],\n",
              "       [0., 0., 0., 0., 0., 0., 0., 0., 0., 0.],\n",
              "       [1., 0., 0., 1., 1., 0., 0., 0., 0., 0.],\n",
              "       [0., 0., 0., 0., 0., 0., 1., 1., 0., 0.],\n",
              "       [0., 0., 1., 1., 0., 0., 0., 0., 1., 0.],\n",
              "       [0., 0., 0., 0., 1., 0., 0., 0., 0., 0.],\n",
              "       [0., 0., 0., 0., 0., 1., 0., 1., 0., 0.],\n",
              "       [0., 0., 1., 0., 0., 0., 0., 0., 0., 0.],\n",
              "       [0., 0., 0., 0., 0., 0., 1., 0., 0., 0.],\n",
              "       [0., 0., 0., 0., 0., 0., 0., 0., 0., 0.],\n",
              "       [1., 0., 0., 0., 0., 0., 0., 0., 0., 0.]], dtype=float32)"
            ]
          },
          "execution_count": 4,
          "metadata": {},
          "output_type": "execute_result"
        }
      ],
      "source": [
        "indstr_a = [] # index string_a\n",
        "for item in string_a:\n",
        "    indstr_a.append(lowletters.index(item))\n",
        "\n",
        "list_a = [\"zero\",'one','two','three','four','five','six','seven','eight','nine']\n",
        "\n",
        "matrix_a = np.zeros([26,10],dtype='float32')\n",
        "\n",
        "for column in range(10):\n",
        "    for j in list_a[column]:\n",
        "        matrix_a[lowletters.index(j),column] += 1\n",
        "\n",
        "matrix_a\n"
      ]
    },
    {
      "cell_type": "code",
      "execution_count": 5,
      "metadata": {},
      "outputs": [
        {
          "data": {
            "text/plain": [
              "array([[ 0.],\n",
              "       [ 0.],\n",
              "       [ 0.],\n",
              "       [ 0.],\n",
              "       [68.],\n",
              "       [27.],\n",
              "       [ 4.],\n",
              "       [ 8.],\n",
              "       [36.],\n",
              "       [ 0.],\n",
              "       [ 0.],\n",
              "       [ 0.],\n",
              "       [ 0.],\n",
              "       [38.],\n",
              "       [36.],\n",
              "       [ 0.],\n",
              "       [ 0.],\n",
              "       [25.],\n",
              "       [20.],\n",
              "       [15.],\n",
              "       [15.],\n",
              "       [22.],\n",
              "       [ 7.],\n",
              "       [10.],\n",
              "       [ 0.],\n",
              "       [ 6.]], dtype=float32)"
            ]
          },
          "execution_count": 5,
          "metadata": {},
          "output_type": "execute_result"
        }
      ],
      "source": [
        "matrix_b = np.zeros([26,1],dtype=\"float32\")\n",
        "    \n",
        "for j in indstr_a:\n",
        "    matrix_b[j, 0] += 1\n",
        "    \n",
        "matrix_b"
      ]
    },
    {
      "cell_type": "code",
      "execution_count": 6,
      "metadata": {},
      "outputs": [
        {
          "data": {
            "text/plain": [
              "(array([[ 6.],\n",
              "        [ 8.],\n",
              "        [ 7.],\n",
              "        [ 4.],\n",
              "        [15.],\n",
              "        [12.],\n",
              "        [10.],\n",
              "        [10.],\n",
              "        [ 4.],\n",
              "        [10.]], dtype=float32),\n",
              " array([3.3918253e-29], dtype=float32),\n",
              " np.int32(10),\n",
              " array([4.477262 , 2.632956 , 2.30554  , 1.9744008, 1.8483384, 1.5047852,\n",
              "        1.4069062, 1.0902799, 0.8106197, 0.5495108], dtype=float32))"
            ]
          },
          "execution_count": 6,
          "metadata": {},
          "output_type": "execute_result"
        }
      ],
      "source": [
        "result = np.linalg.lstsq(matrix_a, matrix_b) ;result"
      ]
    }
  ],
  "metadata": {
    "colab": {
      "provenance": []
    },
    "kernelspec": {
      "display_name": "Python 3",
      "name": "python3"
    },
    "language_info": {
      "codemirror_mode": {
        "name": "ipython",
        "version": 3
      },
      "file_extension": ".py",
      "mimetype": "text/x-python",
      "name": "python",
      "nbconvert_exporter": "python",
      "pygments_lexer": "ipython3",
      "version": "3.12.4"
    }
  },
  "nbformat": 4,
  "nbformat_minor": 0
}
