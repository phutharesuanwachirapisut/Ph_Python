{
  "cells": [
    {
      "cell_type": "code",
      "execution_count": 1,
      "metadata": {
        "colab": {
          "base_uri": "https://localhost:8080/"
        },
        "id": "Nw7wRkcwnCx_",
        "outputId": "37824c54-456d-4311-e916-e37f11ee21e7"
      },
      "outputs": [
        {
          "name": "stdout",
          "output_type": "stream",
          "text": [
            "Metrix A:\n",
            "[[5 6 1]\n",
            " [1 3 2]]\n",
            "Metrix B:\n",
            "[[1 5]\n",
            " [1 4]\n",
            " [3 8]]\n"
          ]
        }
      ],
      "source": [
        "# Phutharesuan Wachirapisut\n",
        "# 651610348\n",
        "# Lab01_02\n",
        "# 229323 sec 002\n",
        "\n",
        "import numpy as np\n",
        "\n",
        "dimen_a = int(input(\"Enter number of row of matrix A: \"))\n",
        "dimen_b = int(input(\"Enter number of column of matrix A: \"))\n",
        "data_a = np.random.randint(1,9,size=dimen_a*dimen_b)\n",
        "arr_a = data_a.reshape(dimen_a, dimen_b)\n",
        "\n",
        "dimen_m = int(input(\"Enter number of row of matrix B: \"))\n",
        "dimen_n = int(input(\"Enter number of column of matrix B: \"))\n",
        "data_b = np.random.randint(1,9,size=dimen_m*dimen_n)\n",
        "arr_b = data_b.reshape(dimen_m, dimen_n)\n",
        "\n",
        "print(\"Metrix A:\\n{}\".format(arr_a))\n",
        "print(\"Metrix B:\\n{}\".format(arr_b))"
      ]
    },
    {
      "cell_type": "code",
      "execution_count": 2,
      "metadata": {
        "colab": {
          "base_uri": "https://localhost:8080/"
        },
        "id": "O0O-fSaFWQ9z",
        "outputId": "cd9b991f-62c5-4905-d136-724e79dbe8ad"
      },
      "outputs": [
        {
          "name": "stdout",
          "output_type": "stream",
          "text": [
            "This calculation is wrong.\n"
          ]
        }
      ],
      "source": [
        "if (dimen_a,dimen_b) != (dimen_m,dimen_n):\n",
        "  print(\"This calculation is wrong.\")\n",
        "else:\n",
        "  add_metrix = arr_a + arr_b\n",
        "  print(\"ผลบวกเมทริกซ์:\\n{}\".format(add_metrix))"
      ]
    },
    {
      "cell_type": "code",
      "execution_count": 3,
      "metadata": {
        "colab": {
          "base_uri": "https://localhost:8080/"
        },
        "id": "aJvKaw8yXomm",
        "outputId": "e882bd70-525c-416d-e671-ff721ae83188"
      },
      "outputs": [
        {
          "name": "stdout",
          "output_type": "stream",
          "text": [
            "ผลคูณของเมตริกซ์:\n",
            "[[14 57]\n",
            " [10 33]]\n"
          ]
        }
      ],
      "source": [
        "\n",
        "if (dimen_a,dimen_b) != (dimen_n,dimen_m):\n",
        "  print(\"This calculation is wrong.\")\n",
        "else:\n",
        "  multi_metrix = np.ones([dimen_a,dimen_n],dtype='i')\n",
        "  for row in range(dimen_a):\n",
        "    for column in range(dimen_n):\n",
        "      a = 0\n",
        "      for i in range(0,dimen_a+1):\n",
        "        a += arr_a[row][i] * arr_b[i][column]\n",
        "        multi_metrix[row][column] = a\n",
        "\n",
        "  print(\"ผลคูณของเมตริกซ์:\\n{}\".format(multi_metrix))\n"
      ]
    },
    {
      "cell_type": "code",
      "execution_count": 4,
      "metadata": {
        "colab": {
          "base_uri": "https://localhost:8080/"
        },
        "id": "37Yx5u-5arcQ",
        "outputId": "17785241-1b0f-41f3-f807-7c429c704634"
      },
      "outputs": [
        {
          "name": "stdout",
          "output_type": "stream",
          "text": [
            "ผลคูณของเมตริกซ์กับจำนวนเต็ม:\n",
            "[[50 60 10]\n",
            " [10 30 20]]\n"
          ]
        }
      ],
      "source": [
        "k = int(input(\"Enter integer: \"))\n",
        "print(\"ผลคูณของเมตริกซ์กับจำนวนเต็ม:\\n{}\".format(k*arr_a))"
      ]
    }
  ],
  "metadata": {
    "colab": {
      "provenance": []
    },
    "kernelspec": {
      "display_name": "Python 3",
      "name": "python3"
    },
    "language_info": {
      "codemirror_mode": {
        "name": "ipython",
        "version": 3
      },
      "file_extension": ".py",
      "mimetype": "text/x-python",
      "name": "python",
      "nbconvert_exporter": "python",
      "pygments_lexer": "ipython3",
      "version": "3.12.4"
    }
  },
  "nbformat": 4,
  "nbformat_minor": 0
}
