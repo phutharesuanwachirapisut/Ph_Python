{
  "cells": [
    {
      "cell_type": "markdown",
      "metadata": {
        "id": "sscV-kXV1DbU"
      },
      "source": [
        "Write data to file :to_csv method\n",
        "ใช้สำหรับการนำข้อมูล DataFrame บันทึกลงในไฟล์"
      ]
    },
    {
      "cell_type": "code",
      "execution_count": 1,
      "metadata": {
        "id": "dkk72tYDRaUx"
      },
      "outputs": [],
      "source": [
        "import pandas as pd\n",
        "\n",
        "import os\n",
        "os.chdir(\"/Users/phutharesuanwachirapisut/Programming/Dataset\")"
      ]
    },
    {
      "cell_type": "markdown",
      "metadata": {
        "id": "AmdEhvRGS6DE"
      },
      "source": [
        "ให้ upload ไฟล์ ex4.csv เข้ามาก่อน จึงจะใช้คำสั่งถัดไปได้"
      ]
    },
    {
      "cell_type": "code",
      "execution_count": 2,
      "metadata": {
        "colab": {
          "base_uri": "https://localhost:8080/",
          "height": 143
        },
        "id": "Whqciz_Af6OL",
        "outputId": "3084e986-1889-4e86-87b3-71ab89554b1b"
      },
      "outputs": [
        {
          "data": {
            "text/html": [
              "<div>\n",
              "<style scoped>\n",
              "    .dataframe tbody tr th:only-of-type {\n",
              "        vertical-align: middle;\n",
              "    }\n",
              "\n",
              "    .dataframe tbody tr th {\n",
              "        vertical-align: top;\n",
              "    }\n",
              "\n",
              "    .dataframe thead th {\n",
              "        text-align: right;\n",
              "    }\n",
              "</style>\n",
              "<table border=\"1\" class=\"dataframe\">\n",
              "  <thead>\n",
              "    <tr style=\"text-align: right;\">\n",
              "      <th></th>\n",
              "      <th>something</th>\n",
              "      <th>a</th>\n",
              "      <th>b</th>\n",
              "      <th>c</th>\n",
              "      <th>d</th>\n",
              "      <th>message</th>\n",
              "    </tr>\n",
              "  </thead>\n",
              "  <tbody>\n",
              "    <tr>\n",
              "      <th>0</th>\n",
              "      <td>one</td>\n",
              "      <td>1</td>\n",
              "      <td>2</td>\n",
              "      <td>3.0</td>\n",
              "      <td>4</td>\n",
              "      <td>NaN</td>\n",
              "    </tr>\n",
              "    <tr>\n",
              "      <th>1</th>\n",
              "      <td>two</td>\n",
              "      <td>5</td>\n",
              "      <td>6</td>\n",
              "      <td>NaN</td>\n",
              "      <td>8</td>\n",
              "      <td>world</td>\n",
              "    </tr>\n",
              "    <tr>\n",
              "      <th>2</th>\n",
              "      <td>three</td>\n",
              "      <td>9</td>\n",
              "      <td>10</td>\n",
              "      <td>11.0</td>\n",
              "      <td>12</td>\n",
              "      <td>see you</td>\n",
              "    </tr>\n",
              "  </tbody>\n",
              "</table>\n",
              "</div>"
            ],
            "text/plain": [
              "  something  a   b     c   d  message\n",
              "0       one  1   2   3.0   4      NaN\n",
              "1       two  5   6   NaN   8    world\n",
              "2     three  9  10  11.0  12  see you"
            ]
          },
          "execution_count": 2,
          "metadata": {},
          "output_type": "execute_result"
        }
      ],
      "source": [
        "result=pd.read_csv('ex4.csv')\n",
        "result"
      ]
    },
    {
      "cell_type": "markdown",
      "metadata": {
        "id": "QSwECLLM1V15"
      },
      "source": [
        "อ่านไฟล์แล้วแสดงผลทางจอภาพ ใช้ sys.stdout ต้อง import sys"
      ]
    },
    {
      "cell_type": "code",
      "execution_count": 3,
      "metadata": {
        "colab": {
          "base_uri": "https://localhost:8080/"
        },
        "id": "xPxwqFdHgEIT",
        "outputId": "9e366def-5e73-4660-aefd-6e2aac4533e9"
      },
      "outputs": [
        {
          "name": "stdout",
          "output_type": "stream",
          "text": [
            "|something|a|b|c|d|message\n",
            "0|one|1|2|3.0|4|\n",
            "1|two|5|6||8|world\n",
            "2|three|9|10|11.0|12|see you\n"
          ]
        }
      ],
      "source": [
        "import sys\n",
        "result.to_csv(sys.stdout,sep='|')"
      ]
    },
    {
      "cell_type": "code",
      "execution_count": 4,
      "metadata": {
        "colab": {
          "base_uri": "https://localhost:8080/"
        },
        "id": "CKqwNL_UgKr-",
        "outputId": "cd11533b-594c-4ad9-db20-fe7ee53b0fae"
      },
      "outputs": [
        {
          "name": "stdout",
          "output_type": "stream",
          "text": [
            ",something,a,b,c,d,message\n",
            "0,one,1,2,3.0,4,\n",
            "1,two,5,6,,8,world\n",
            "2,three,9,10,11.0,12,see you\n"
          ]
        }
      ],
      "source": [
        "result.to_csv(sys.stdout)"
      ]
    },
    {
      "cell_type": "markdown",
      "metadata": {
        "id": "BiXW43z7gTGW"
      },
      "source": [
        "นำข้อมูลบันทึกลงไฟล์ภายใต้ attribute ต่างๆ"
      ]
    },
    {
      "cell_type": "code",
      "execution_count": 5,
      "metadata": {
        "id": "6At1Gw0qgaku"
      },
      "outputs": [],
      "source": [
        "import pandas as pd\n",
        "import numpy as np\n",
        "# from google.colab import files"
      ]
    },
    {
      "cell_type": "code",
      "execution_count": 6,
      "metadata": {
        "colab": {
          "base_uri": "https://localhost:8080/",
          "height": 73
        },
        "id": "k7QtrU5Sgqpe",
        "outputId": "6504d791-5768-4885-fec4-5a51ebc889fc"
      },
      "outputs": [],
      "source": [
        "# upload=files.upload()"
      ]
    },
    {
      "cell_type": "code",
      "execution_count": 7,
      "metadata": {
        "colab": {
          "base_uri": "https://localhost:8080/",
          "height": 143
        },
        "id": "GuhBQCG3gt1O",
        "outputId": "d47c11ba-99d9-4fea-b0f0-a16fd8a9629d"
      },
      "outputs": [
        {
          "data": {
            "text/html": [
              "<div>\n",
              "<style scoped>\n",
              "    .dataframe tbody tr th:only-of-type {\n",
              "        vertical-align: middle;\n",
              "    }\n",
              "\n",
              "    .dataframe tbody tr th {\n",
              "        vertical-align: top;\n",
              "    }\n",
              "\n",
              "    .dataframe thead th {\n",
              "        text-align: right;\n",
              "    }\n",
              "</style>\n",
              "<table border=\"1\" class=\"dataframe\">\n",
              "  <thead>\n",
              "    <tr style=\"text-align: right;\">\n",
              "      <th></th>\n",
              "      <th>something</th>\n",
              "      <th>a</th>\n",
              "      <th>b</th>\n",
              "      <th>c</th>\n",
              "      <th>d</th>\n",
              "      <th>message</th>\n",
              "    </tr>\n",
              "  </thead>\n",
              "  <tbody>\n",
              "    <tr>\n",
              "      <th>0</th>\n",
              "      <td>one</td>\n",
              "      <td>1</td>\n",
              "      <td>2</td>\n",
              "      <td>3.0</td>\n",
              "      <td>4</td>\n",
              "      <td>NaN</td>\n",
              "    </tr>\n",
              "    <tr>\n",
              "      <th>1</th>\n",
              "      <td>two</td>\n",
              "      <td>5</td>\n",
              "      <td>6</td>\n",
              "      <td>NaN</td>\n",
              "      <td>8</td>\n",
              "      <td>world</td>\n",
              "    </tr>\n",
              "    <tr>\n",
              "      <th>2</th>\n",
              "      <td>three</td>\n",
              "      <td>9</td>\n",
              "      <td>10</td>\n",
              "      <td>11.0</td>\n",
              "      <td>12</td>\n",
              "      <td>see you</td>\n",
              "    </tr>\n",
              "  </tbody>\n",
              "</table>\n",
              "</div>"
            ],
            "text/plain": [
              "  something  a   b     c   d  message\n",
              "0       one  1   2   3.0   4      NaN\n",
              "1       two  5   6   NaN   8    world\n",
              "2     three  9  10  11.0  12  see you"
            ]
          },
          "execution_count": 7,
          "metadata": {},
          "output_type": "execute_result"
        }
      ],
      "source": [
        "result=pd.read_csv('ex4.csv')\n",
        "result"
      ]
    },
    {
      "cell_type": "code",
      "execution_count": 8,
      "metadata": {
        "id": "pedDqM8GgzQu"
      },
      "outputs": [],
      "source": [
        "result.to_csv('out.i',index=False)"
      ]
    },
    {
      "cell_type": "code",
      "execution_count": 9,
      "metadata": {
        "colab": {
          "base_uri": "https://localhost:8080/",
          "height": 143
        },
        "id": "tBJeXb0Ig9Dt",
        "outputId": "01150ea4-d49b-4959-ec2e-e846b5bee8e2"
      },
      "outputs": [
        {
          "data": {
            "text/html": [
              "<div>\n",
              "<style scoped>\n",
              "    .dataframe tbody tr th:only-of-type {\n",
              "        vertical-align: middle;\n",
              "    }\n",
              "\n",
              "    .dataframe tbody tr th {\n",
              "        vertical-align: top;\n",
              "    }\n",
              "\n",
              "    .dataframe thead th {\n",
              "        text-align: right;\n",
              "    }\n",
              "</style>\n",
              "<table border=\"1\" class=\"dataframe\">\n",
              "  <thead>\n",
              "    <tr style=\"text-align: right;\">\n",
              "      <th></th>\n",
              "      <th>something</th>\n",
              "      <th>a</th>\n",
              "      <th>b</th>\n",
              "      <th>c</th>\n",
              "      <th>d</th>\n",
              "      <th>message</th>\n",
              "    </tr>\n",
              "  </thead>\n",
              "  <tbody>\n",
              "    <tr>\n",
              "      <th>0</th>\n",
              "      <td>one</td>\n",
              "      <td>1</td>\n",
              "      <td>2</td>\n",
              "      <td>3.0</td>\n",
              "      <td>4</td>\n",
              "      <td>NaN</td>\n",
              "    </tr>\n",
              "    <tr>\n",
              "      <th>1</th>\n",
              "      <td>two</td>\n",
              "      <td>5</td>\n",
              "      <td>6</td>\n",
              "      <td>NaN</td>\n",
              "      <td>8</td>\n",
              "      <td>world</td>\n",
              "    </tr>\n",
              "    <tr>\n",
              "      <th>2</th>\n",
              "      <td>three</td>\n",
              "      <td>9</td>\n",
              "      <td>10</td>\n",
              "      <td>11.0</td>\n",
              "      <td>12</td>\n",
              "      <td>see you</td>\n",
              "    </tr>\n",
              "  </tbody>\n",
              "</table>\n",
              "</div>"
            ],
            "text/plain": [
              "  something  a   b     c   d  message\n",
              "0       one  1   2   3.0   4      NaN\n",
              "1       two  5   6   NaN   8    world\n",
              "2     three  9  10  11.0  12  see you"
            ]
          },
          "execution_count": 9,
          "metadata": {},
          "output_type": "execute_result"
        }
      ],
      "source": [
        "pd.read_csv('out.csv')"
      ]
    },
    {
      "cell_type": "code",
      "execution_count": 10,
      "metadata": {
        "colab": {
          "base_uri": "https://localhost:8080/",
          "height": 143
        },
        "id": "TWx4ueyqhA7l",
        "outputId": "7df8a6ba-9407-49c5-f19f-bfb9c357cbd3"
      },
      "outputs": [
        {
          "data": {
            "text/html": [
              "<div>\n",
              "<style scoped>\n",
              "    .dataframe tbody tr th:only-of-type {\n",
              "        vertical-align: middle;\n",
              "    }\n",
              "\n",
              "    .dataframe tbody tr th {\n",
              "        vertical-align: top;\n",
              "    }\n",
              "\n",
              "    .dataframe thead th {\n",
              "        text-align: right;\n",
              "    }\n",
              "</style>\n",
              "<table border=\"1\" class=\"dataframe\">\n",
              "  <thead>\n",
              "    <tr style=\"text-align: right;\">\n",
              "      <th></th>\n",
              "      <th>Unnamed: 0</th>\n",
              "      <th>something</th>\n",
              "      <th>a</th>\n",
              "      <th>b</th>\n",
              "      <th>c</th>\n",
              "      <th>d</th>\n",
              "      <th>message</th>\n",
              "    </tr>\n",
              "  </thead>\n",
              "  <tbody>\n",
              "    <tr>\n",
              "      <th>0</th>\n",
              "      <td>0</td>\n",
              "      <td>one</td>\n",
              "      <td>1</td>\n",
              "      <td>2</td>\n",
              "      <td>3.0</td>\n",
              "      <td>4</td>\n",
              "      <td>NaN</td>\n",
              "    </tr>\n",
              "    <tr>\n",
              "      <th>1</th>\n",
              "      <td>1</td>\n",
              "      <td>two</td>\n",
              "      <td>5</td>\n",
              "      <td>6</td>\n",
              "      <td>NaN</td>\n",
              "      <td>8</td>\n",
              "      <td>world</td>\n",
              "    </tr>\n",
              "    <tr>\n",
              "      <th>2</th>\n",
              "      <td>2</td>\n",
              "      <td>three</td>\n",
              "      <td>9</td>\n",
              "      <td>10</td>\n",
              "      <td>11.0</td>\n",
              "      <td>12</td>\n",
              "      <td>see you</td>\n",
              "    </tr>\n",
              "  </tbody>\n",
              "</table>\n",
              "</div>"
            ],
            "text/plain": [
              "   Unnamed: 0 something  a   b     c   d  message\n",
              "0           0       one  1   2   3.0   4      NaN\n",
              "1           1       two  5   6   NaN   8    world\n",
              "2           2     three  9  10  11.0  12  see you"
            ]
          },
          "execution_count": 10,
          "metadata": {},
          "output_type": "execute_result"
        }
      ],
      "source": [
        "result.to_csv('out1.csv')\n",
        "pd.read_csv('out1.csv')"
      ]
    },
    {
      "cell_type": "markdown",
      "metadata": {
        "id": "E39a0UtB1mIR"
      },
      "source": [
        "นำข้อมูลบันทึกลงไฟล์ภายใต้ attribute ต่างๆ"
      ]
    },
    {
      "cell_type": "code",
      "execution_count": 11,
      "metadata": {
        "colab": {
          "base_uri": "https://localhost:8080/",
          "height": 143
        },
        "id": "63NVbfnIhalU",
        "outputId": "da8f8f96-950a-4607-ed4a-f5b947e3d1ab"
      },
      "outputs": [
        {
          "data": {
            "text/html": [
              "<div>\n",
              "<style scoped>\n",
              "    .dataframe tbody tr th:only-of-type {\n",
              "        vertical-align: middle;\n",
              "    }\n",
              "\n",
              "    .dataframe tbody tr th {\n",
              "        vertical-align: top;\n",
              "    }\n",
              "\n",
              "    .dataframe thead th {\n",
              "        text-align: right;\n",
              "    }\n",
              "</style>\n",
              "<table border=\"1\" class=\"dataframe\">\n",
              "  <thead>\n",
              "    <tr style=\"text-align: right;\">\n",
              "      <th></th>\n",
              "      <th>a</th>\n",
              "      <th>b</th>\n",
              "      <th>c</th>\n",
              "      <th>d</th>\n",
              "    </tr>\n",
              "  </thead>\n",
              "  <tbody>\n",
              "    <tr>\n",
              "      <th>0</th>\n",
              "      <td>1</td>\n",
              "      <td>2</td>\n",
              "      <td>3.0</td>\n",
              "      <td>4</td>\n",
              "    </tr>\n",
              "    <tr>\n",
              "      <th>1</th>\n",
              "      <td>5</td>\n",
              "      <td>6</td>\n",
              "      <td>NaN</td>\n",
              "      <td>8</td>\n",
              "    </tr>\n",
              "    <tr>\n",
              "      <th>2</th>\n",
              "      <td>9</td>\n",
              "      <td>10</td>\n",
              "      <td>11.0</td>\n",
              "      <td>12</td>\n",
              "    </tr>\n",
              "  </tbody>\n",
              "</table>\n",
              "</div>"
            ],
            "text/plain": [
              "   a   b     c   d\n",
              "0  1   2   3.0   4\n",
              "1  5   6   NaN   8\n",
              "2  9  10  11.0  12"
            ]
          },
          "execution_count": 11,
          "metadata": {},
          "output_type": "execute_result"
        }
      ],
      "source": [
        "result.to_csv('out2.csv',index=False,columns=['a','b','c','d'])\n",
        "pd.read_csv('out2.csv')"
      ]
    },
    {
      "cell_type": "code",
      "execution_count": 12,
      "metadata": {
        "colab": {
          "base_uri": "https://localhost:8080/"
        },
        "id": "Zttod0YMhpvJ",
        "outputId": "bfa687a0-1668-4f57-aeb1-be29b41aafbb"
      },
      "outputs": [
        {
          "name": "stdout",
          "output_type": "stream",
          "text": [
            "|something|a|b|c|d|message\n",
            "0|one|1|2|3.0|4|\n",
            "1|two|5|6||8|world\n",
            "2|three|9|10|11.0|12|see you\n"
          ]
        }
      ],
      "source": [
        "import sys\n",
        "result.to_csv(sys.stdout,sep='|')"
      ]
    },
    {
      "cell_type": "code",
      "execution_count": 13,
      "metadata": {
        "colab": {
          "base_uri": "https://localhost:8080/"
        },
        "id": "jF5QlxOJhqRD",
        "outputId": "77c128f7-1c61-464f-9762-de3df226b6f4"
      },
      "outputs": [
        {
          "name": "stdout",
          "output_type": "stream",
          "text": [
            "|something|a|b|c|d|message\n",
            "0|one|1|2|3.0|4|NULL\n",
            "1|two|5|6|NULL|8|world\n",
            "2|three|9|10|11.0|12|see you\n"
          ]
        }
      ],
      "source": [
        "result.to_csv(sys.stdout,sep='|',na_rep='NULL')"
      ]
    },
    {
      "cell_type": "code",
      "execution_count": 14,
      "metadata": {
        "colab": {
          "base_uri": "https://localhost:8080/",
          "height": 143
        },
        "id": "pEK47zJ3h_yj",
        "outputId": "0af4f424-452b-4351-a460-b49dcbddb30e"
      },
      "outputs": [
        {
          "data": {
            "text/html": [
              "<div>\n",
              "<style scoped>\n",
              "    .dataframe tbody tr th:only-of-type {\n",
              "        vertical-align: middle;\n",
              "    }\n",
              "\n",
              "    .dataframe tbody tr th {\n",
              "        vertical-align: top;\n",
              "    }\n",
              "\n",
              "    .dataframe thead th {\n",
              "        text-align: right;\n",
              "    }\n",
              "</style>\n",
              "<table border=\"1\" class=\"dataframe\">\n",
              "  <thead>\n",
              "    <tr style=\"text-align: right;\">\n",
              "      <th></th>\n",
              "      <th>something</th>\n",
              "      <th>a</th>\n",
              "      <th>b</th>\n",
              "      <th>c</th>\n",
              "      <th>d</th>\n",
              "      <th>message</th>\n",
              "    </tr>\n",
              "  </thead>\n",
              "  <tbody>\n",
              "    <tr>\n",
              "      <th>0</th>\n",
              "      <td>one</td>\n",
              "      <td>1</td>\n",
              "      <td>2</td>\n",
              "      <td>3.0</td>\n",
              "      <td>4</td>\n",
              "      <td>NaN</td>\n",
              "    </tr>\n",
              "    <tr>\n",
              "      <th>1</th>\n",
              "      <td>two</td>\n",
              "      <td>5</td>\n",
              "      <td>6</td>\n",
              "      <td>NaN</td>\n",
              "      <td>8</td>\n",
              "      <td>world</td>\n",
              "    </tr>\n",
              "    <tr>\n",
              "      <th>2</th>\n",
              "      <td>three</td>\n",
              "      <td>9</td>\n",
              "      <td>10</td>\n",
              "      <td>11.0</td>\n",
              "      <td>12</td>\n",
              "      <td>see you</td>\n",
              "    </tr>\n",
              "  </tbody>\n",
              "</table>\n",
              "</div>"
            ],
            "text/plain": [
              "  something  a   b     c   d  message\n",
              "0       one  1   2   3.0   4      NaN\n",
              "1       two  5   6   NaN   8    world\n",
              "2     three  9  10  11.0  12  see you"
            ]
          },
          "execution_count": 14,
          "metadata": {},
          "output_type": "execute_result"
        }
      ],
      "source": [
        "result.to_csv('out3.csv',na_rep='NULL',index=False)\n",
        "pd.read_csv('out3.csv')"
      ]
    },
    {
      "cell_type": "markdown",
      "metadata": {
        "id": "zuFU4kSj17XH"
      },
      "source": [
        "นำข้อมูลบันทึกลงไฟล์ภายใต้ attribute ต่างๆ"
      ]
    },
    {
      "cell_type": "code",
      "execution_count": 15,
      "metadata": {
        "colab": {
          "base_uri": "https://localhost:8080/"
        },
        "id": "vGGUZr8hiNBS",
        "outputId": "abbf113f-d637-4100-a99a-221df274b3bd"
      },
      "outputs": [
        {
          "name": "stdout",
          "output_type": "stream",
          "text": [
            "one,1,2,3.0,4,\n",
            "two,5,6,,8,world\n",
            "three,9,10,11.0,12,see you\n"
          ]
        }
      ],
      "source": [
        "result.to_csv(sys.stdout,index=False,header=False) #ไม่แสดง index และ header"
      ]
    },
    {
      "cell_type": "code",
      "execution_count": 16,
      "metadata": {
        "colab": {
          "base_uri": "https://localhost:8080/"
        },
        "id": "47IQUQUkiZgh",
        "outputId": "72205f5c-18ac-45fe-e6de-39583e746504"
      },
      "outputs": [
        {
          "name": "stdout",
          "output_type": "stream",
          "text": [
            "a,b,c\n",
            "1,2,3.0\n",
            "5,6,\n",
            "9,10,11.0\n"
          ]
        }
      ],
      "source": [
        "result.to_csv(sys.stdout,index=False,columns=['a','b','c']) #เลือกเฉพาะ columns , มีการแสดง index"
      ]
    },
    {
      "cell_type": "code",
      "execution_count": 17,
      "metadata": {
        "colab": {
          "base_uri": "https://localhost:8080/",
          "height": 143
        },
        "id": "SM6Xd7QYiiyR",
        "outputId": "53d5e0f3-b5ea-44a3-c50d-5797cd4f4c96"
      },
      "outputs": [
        {
          "data": {
            "text/html": [
              "<div>\n",
              "<style scoped>\n",
              "    .dataframe tbody tr th:only-of-type {\n",
              "        vertical-align: middle;\n",
              "    }\n",
              "\n",
              "    .dataframe tbody tr th {\n",
              "        vertical-align: top;\n",
              "    }\n",
              "\n",
              "    .dataframe thead th {\n",
              "        text-align: right;\n",
              "    }\n",
              "</style>\n",
              "<table border=\"1\" class=\"dataframe\">\n",
              "  <thead>\n",
              "    <tr style=\"text-align: right;\">\n",
              "      <th></th>\n",
              "      <th>0</th>\n",
              "      <th>1</th>\n",
              "      <th>2</th>\n",
              "      <th>3</th>\n",
              "      <th>4</th>\n",
              "      <th>5</th>\n",
              "    </tr>\n",
              "  </thead>\n",
              "  <tbody>\n",
              "    <tr>\n",
              "      <th>0</th>\n",
              "      <td>one</td>\n",
              "      <td>1</td>\n",
              "      <td>2</td>\n",
              "      <td>3.0</td>\n",
              "      <td>4</td>\n",
              "      <td>NaN</td>\n",
              "    </tr>\n",
              "    <tr>\n",
              "      <th>1</th>\n",
              "      <td>two</td>\n",
              "      <td>5</td>\n",
              "      <td>6</td>\n",
              "      <td>NaN</td>\n",
              "      <td>8</td>\n",
              "      <td>world</td>\n",
              "    </tr>\n",
              "    <tr>\n",
              "      <th>2</th>\n",
              "      <td>three</td>\n",
              "      <td>9</td>\n",
              "      <td>10</td>\n",
              "      <td>11.0</td>\n",
              "      <td>12</td>\n",
              "      <td>see you</td>\n",
              "    </tr>\n",
              "  </tbody>\n",
              "</table>\n",
              "</div>"
            ],
            "text/plain": [
              "       0  1   2     3   4        5\n",
              "0    one  1   2   3.0   4      NaN\n",
              "1    two  5   6   NaN   8    world\n",
              "2  three  9  10  11.0  12  see you"
            ]
          },
          "execution_count": 17,
          "metadata": {},
          "output_type": "execute_result"
        }
      ],
      "source": [
        "result.to_csv('out4.txt',index=False,header=False)\n",
        "data=pd.read_csv('out4.txt',header=None)\n",
        "data"
      ]
    },
    {
      "cell_type": "markdown",
      "metadata": {
        "id": "pEFq0T8ai99m"
      },
      "source": [
        "Working with Delimited Formats"
      ]
    },
    {
      "cell_type": "markdown",
      "metadata": {
        "id": "m8Q1HDEm2X_e"
      },
      "source": [
        "สำหรับไฟล์ที่ใช้ delimiter ที่เป็น single-character เราสามารถใช้ Python’s built-in csv module ต่างๆ เช่น\n",
        "csv.reader() ใช้เพื่อเปิดอ่านไฟล์"
      ]
    },
    {
      "cell_type": "code",
      "execution_count": 18,
      "metadata": {
        "colab": {
          "base_uri": "https://localhost:8080/"
        },
        "id": "6213s5HzivKg",
        "outputId": "967fed5a-386b-4153-8a35-b3cd372d15f4"
      },
      "outputs": [
        {
          "name": "stdout",
          "output_type": "stream",
          "text": [
            "['something', 'a', 'b', 'c', 'd', 'message']\n",
            "['one', '1', '2', '3', '4', 'NA']\n",
            "['two', '5', '6', '', '8', 'world']\n",
            "['three', '9', '10', '11', '12', 'see you']\n"
          ]
        }
      ],
      "source": [
        "import csv\n",
        "f=open('ex4.csv')\n",
        "reader=csv.reader(f)\n",
        "for line in reader:\n",
        "  print(line)"
      ]
    },
    {
      "cell_type": "markdown",
      "metadata": {
        "id": "5IwY_eC92dq2"
      },
      "source": [
        "ข้อมูลที่ได้จะอยู่ในรูปแบบของ tuple ที่มีการ remove quote characters ออกไปแล้ว โดยเราสามารถดึงทีละบรรทัดได้\n",
        "ซึ่ง 1 บรรทัดจะเก็บเป็น 1 tuple"
      ]
    },
    {
      "cell_type": "markdown",
      "metadata": {
        "id": "yitngM8ZjHvY"
      },
      "source": [
        "ขั้นตอนของการจัดการ wrangling data"
      ]
    },
    {
      "cell_type": "markdown",
      "metadata": {
        "id": "YoKC0v7C2mMQ"
      },
      "source": [
        "1) Read the file into a list of lines"
      ]
    },
    {
      "cell_type": "code",
      "execution_count": 19,
      "metadata": {
        "id": "8wbkntRWjL8I"
      },
      "outputs": [],
      "source": [
        "with open('ex4.csv') as f:\n",
        "  lines=list(csv.reader(f))"
      ]
    },
    {
      "cell_type": "markdown",
      "metadata": {
        "id": "F5bMjr092o2u"
      },
      "source": [
        "2) Split the lines into the header line and the data lines"
      ]
    },
    {
      "cell_type": "code",
      "execution_count": 20,
      "metadata": {
        "id": "sCWyPaC5jSZF"
      },
      "outputs": [],
      "source": [
        "header,values=lines[0],lines[1:]"
      ]
    },
    {
      "cell_type": "markdown",
      "metadata": {
        "id": "sJ9V7haV2vlN"
      },
      "source": [
        "กรณีที่เรียกค่าที่เก็บออกมาจะพบค่าที่ได้เป็นดังนี้"
      ]
    },
    {
      "cell_type": "code",
      "execution_count": 21,
      "metadata": {
        "colab": {
          "base_uri": "https://localhost:8080/"
        },
        "id": "keSMuHdQjXf_",
        "outputId": "59261c33-dc84-4b43-9efe-1a6fd9004c73"
      },
      "outputs": [
        {
          "data": {
            "text/plain": [
              "['something', 'a', 'b', 'c', 'd', 'message']"
            ]
          },
          "execution_count": 21,
          "metadata": {},
          "output_type": "execute_result"
        }
      ],
      "source": [
        "header"
      ]
    },
    {
      "cell_type": "code",
      "execution_count": 22,
      "metadata": {
        "colab": {
          "base_uri": "https://localhost:8080/"
        },
        "id": "X2Fwp7B5jZBn",
        "outputId": "ad1cb6ec-eb95-4494-fb4b-ea89671c144f"
      },
      "outputs": [
        {
          "data": {
            "text/plain": [
              "[['one', '1', '2', '3', '4', 'NA'],\n",
              " ['two', '5', '6', '', '8', 'world'],\n",
              " ['three', '9', '10', '11', '12', 'see you']]"
            ]
          },
          "execution_count": 22,
          "metadata": {},
          "output_type": "execute_result"
        }
      ],
      "source": [
        "values"
      ]
    },
    {
      "cell_type": "markdown",
      "metadata": {
        "id": "dMnYWKnt21zE"
      },
      "source": [
        "3) Then we can create a dictionary of data columns using a dictionary comprehension and the expression zip(*values), which transposes rows to columns."
      ]
    },
    {
      "cell_type": "code",
      "execution_count": 23,
      "metadata": {
        "colab": {
          "base_uri": "https://localhost:8080/"
        },
        "id": "iE4bLFaojhJn",
        "outputId": "d3789808-b145-4c03-a8fd-15d73c63ca2d"
      },
      "outputs": [
        {
          "data": {
            "text/plain": [
              "{'something': ('one', 'two', 'three'),\n",
              " 'a': ('1', '5', '9'),\n",
              " 'b': ('2', '6', '10'),\n",
              " 'c': ('3', '', '11'),\n",
              " 'd': ('4', '8', '12'),\n",
              " 'message': ('NA', 'world', 'see you')}"
            ]
          },
          "execution_count": 23,
          "metadata": {},
          "output_type": "execute_result"
        }
      ],
      "source": [
        "data_dict={h: v for h, v in zip(header,zip(*values))}\n",
        "data_dict"
      ]
    },
    {
      "cell_type": "markdown",
      "metadata": {
        "id": "Iz-HfGq-27ad"
      },
      "source": [
        "CSV files come in many different flavors. To define a new format with a different delimiter, string quoting convention, or line terminator, we define a simple subclass of csv.Dialect."
      ]
    },
    {
      "cell_type": "code",
      "execution_count": 24,
      "metadata": {
        "id": "Cj11wxuQjs0u"
      },
      "outputs": [],
      "source": [
        "import csv\n",
        "f=open('ex4.csv')\n",
        "class my_dialect(csv.Dialect):\n",
        "  lineterminator='\\n'\n",
        "  delimiter=';'\n",
        "  quotechar='\"'\n",
        "  quoting=csv.QUOTE_MINIMAL\n",
        "\n",
        "reader1=csv.reader(f,dialect=my_dialect)\n"
      ]
    },
    {
      "cell_type": "code",
      "execution_count": 25,
      "metadata": {},
      "outputs": [],
      "source": [
        "import csv\n",
        "f=open('ex4.csv')\n",
        "class my_dialect(csv.Dialect):\n",
        "  lineterminator='\\n'\n",
        "  delimiter=','\n",
        "  quotechar='\"'\n",
        "  quoting=csv.QUOTE_MINIMAL\n",
        "\n",
        "reader2=csv.reader(f,dialect=my_dialect)"
      ]
    },
    {
      "cell_type": "markdown",
      "metadata": {
        "id": "veS4v4x73Az8"
      },
      "source": [
        "เมื่อขอแสดงค่าข้อมูลที่อ่านได้ในแต่ละบรรทัด"
      ]
    },
    {
      "cell_type": "code",
      "execution_count": 26,
      "metadata": {
        "colab": {
          "base_uri": "https://localhost:8080/"
        },
        "id": "NUhwOQCskE2l",
        "outputId": "ef4c58e4-e4f3-40cd-c19f-1abd898254ab"
      },
      "outputs": [
        {
          "name": "stdout",
          "output_type": "stream",
          "text": [
            "['something,a,b,c,d,message']\n",
            "['one,1,2,3,4,NA']\n",
            "['two,5,6,,8,world']\n",
            "['three,9,10,11,12,see you']\n"
          ]
        }
      ],
      "source": [
        "for line in reader1:\n",
        "  print(line)\n"
      ]
    },
    {
      "cell_type": "code",
      "execution_count": 27,
      "metadata": {},
      "outputs": [
        {
          "name": "stdout",
          "output_type": "stream",
          "text": [
            "['something', 'a', 'b', 'c', 'd', 'message']\n",
            "['one', '1', '2', '3', '4', 'NA']\n",
            "['two', '5', '6', '', '8', 'world']\n",
            "['three', '9', '10', '11', '12', 'see you']\n"
          ]
        }
      ],
      "source": [
        "for line in reader2:\n",
        "  print(line)\n"
      ]
    },
    {
      "cell_type": "code",
      "execution_count": 28,
      "metadata": {
        "colab": {
          "base_uri": "https://localhost:8080/"
        },
        "id": "PpOq6qa7kHf-",
        "outputId": "0c0bd227-5088-4f15-c970-14a1cdb91518"
      },
      "outputs": [
        {
          "name": "stdout",
          "output_type": "stream",
          "text": [
            "['something', 'a', 'b', 'c', 'd', 'message']\n",
            "['one', '1', '2', '3', '4', 'NA']\n",
            "['two', '5', '6', '', '8', 'world']\n",
            "['three', '9', '10', '11', '12', 'see you']\n"
          ]
        }
      ],
      "source": [
        "import csv  #อ่านโดยไม่ใช้ csv.Dialect\n",
        "f=open('ex4.csv')\n",
        "reader=csv.reader(f)\n",
        "for line in reader:\n",
        "  print(line)"
      ]
    },
    {
      "cell_type": "markdown",
      "metadata": {
        "id": "etNKUaHEJCdo"
      },
      "source": [
        "We can also give individual CSV dialect parameters as keywords to csv.reader without having to define a subclass.\n",
        "เช่น reader = csv.reader(f,  delimiter='|')"
      ]
    },
    {
      "cell_type": "code",
      "execution_count": 29,
      "metadata": {
        "colab": {
          "base_uri": "https://localhost:8080/"
        },
        "id": "lk8sbtBw3Tud",
        "outputId": "c1761d37-8fdf-4772-8715-c96705b9999b"
      },
      "outputs": [
        {
          "name": "stdout",
          "output_type": "stream",
          "text": [
            "['something,a,b,c,d,message']\n",
            "['one,1,2,3,4,NA']\n",
            "['two,5,6,,8,world']\n",
            "['three,9,10,11,12,see you']\n"
          ]
        }
      ],
      "source": [
        "import csv\n",
        "f=open('ex4.csv')\n",
        "reader = csv.reader(f, delimiter='|')\n",
        "for line in reader:\n",
        "  print(line)"
      ]
    },
    {
      "cell_type": "markdown",
      "metadata": {
        "id": "ijTLYhX43acr"
      },
      "source": [
        "To write delimited files manually, you can use csv.writer. It accepts an open, writable file object and the same dialect and format options as csv.reader."
      ]
    },
    {
      "cell_type": "code",
      "execution_count": 30,
      "metadata": {
        "id": "yhM63iDjkR_U"
      },
      "outputs": [],
      "source": [
        "with open('mydata.csv','w') as f:\n",
        "  writer=csv.writer(f,dialect=my_dialect)\n",
        "  writer.writerow(('one','two','three'))\n",
        "  writer.writerow(('1','2','3'))\n",
        "  writer.writerow(('4','5','6'))\n",
        "  writer.writerow(('7','8','9'))"
      ]
    },
    {
      "cell_type": "code",
      "execution_count": 31,
      "metadata": {
        "colab": {
          "base_uri": "https://localhost:8080/"
        },
        "id": "b-odctKckss0",
        "outputId": "9f39aabd-3c9c-48d9-e4e4-d0b477a964a7"
      },
      "outputs": [
        {
          "name": "stdout",
          "output_type": "stream",
          "text": [
            "['one', 'two', 'three']\n",
            "['1', '2', '3']\n",
            "['4', '5', '6']\n",
            "['7', '8', '9']\n"
          ]
        }
      ],
      "source": [
        "f1=open('mydata.csv')\n",
        "reader=csv.reader(f1)\n",
        "for line in reader:\n",
        "  print(line)"
      ]
    },
    {
      "cell_type": "markdown",
      "metadata": {
        "id": "IyVWKG-23e0y"
      },
      "source": [
        "JSON Data"
      ]
    },
    {
      "cell_type": "markdown",
      "metadata": {
        "id": "yHaMYs4YL-5N"
      },
      "source": [
        "Key ของ dict ใน JSON จะเป็น string เสมอ(มีเครื่องหมาย \"\")"
      ]
    },
    {
      "cell_type": "code",
      "execution_count": 32,
      "metadata": {
        "id": "i-RoupEwk6yT"
      },
      "outputs": [],
      "source": [
        "obj=\"\"\"\n",
        "{\"name\":\"Wes\",\n",
        "\"places_lived\":[\"United States\",\"Spain\",\"Germany\"],\n",
        "\"pet\":null,\n",
        "\"siblings\": [{\"name\":\"Scott\",\"age\":30,\"pets\":[\"Zeus\",\"Zuko\"]},\n",
        "{\"name\":\"Katie\",\"age\":38,\n",
        "\"pets\":[\"Sixes\",\"Stache\",\"Cisco\"]}]\n",
        "}\n",
        "\"\"\""
      ]
    },
    {
      "cell_type": "code",
      "execution_count": 33,
      "metadata": {
        "colab": {
          "base_uri": "https://localhost:8080/",
          "height": 72
        },
        "id": "7D3W3rCcKXw-",
        "outputId": "c994aa2d-b6d5-497d-ab01-60692f2d0f6b"
      },
      "outputs": [
        {
          "data": {
            "text/plain": [
              "'\\n{\"name\":\"Wes\",\\n\"places_lived\":[\"United States\",\"Spain\",\"Germany\"],\\n\"pet\":null,\\n\"siblings\": [{\"name\":\"Scott\",\"age\":30,\"pets\":[\"Zeus\",\"Zuko\"]},\\n{\"name\":\"Katie\",\"age\":38,\\n\"pets\":[\"Sixes\",\"Stache\",\"Cisco\"]}]\\n}\\n'"
            ]
          },
          "execution_count": 33,
          "metadata": {},
          "output_type": "execute_result"
        }
      ],
      "source": [
        "obj"
      ]
    },
    {
      "cell_type": "code",
      "execution_count": 34,
      "metadata": {
        "colab": {
          "base_uri": "https://localhost:8080/"
        },
        "id": "BJSFqv71nCym",
        "outputId": "7468c75c-dedf-480a-95ad-816a958b131e"
      },
      "outputs": [
        {
          "data": {
            "text/plain": [
              "{'name': 'Wes',\n",
              " 'places_lived': ['United States', 'Spain', 'Germany'],\n",
              " 'pet': None,\n",
              " 'siblings': [{'name': 'Scott', 'age': 30, 'pets': ['Zeus', 'Zuko']},\n",
              "  {'name': 'Katie', 'age': 38, 'pets': ['Sixes', 'Stache', 'Cisco']}]}"
            ]
          },
          "execution_count": 34,
          "metadata": {},
          "output_type": "execute_result"
        }
      ],
      "source": [
        "import json\n",
        "result=json.loads(obj)\n",
        "result"
      ]
    },
    {
      "cell_type": "markdown",
      "metadata": {
        "id": "g0RmSBIn4v5X"
      },
      "source": [
        "json.dumps converts a Python object back to JSON."
      ]
    },
    {
      "cell_type": "code",
      "execution_count": 35,
      "metadata": {
        "colab": {
          "base_uri": "https://localhost:8080/",
          "height": 72
        },
        "id": "ATjLFN3AnP0W",
        "outputId": "db4a45db-5a75-4fbd-eb6d-7e1206a7ad67"
      },
      "outputs": [
        {
          "data": {
            "text/plain": [
              "'{\"name\": \"Wes\", \"places_lived\": [\"United States\", \"Spain\", \"Germany\"], \"pet\": null, \"siblings\": [{\"name\": \"Scott\", \"age\": 30, \"pets\": [\"Zeus\", \"Zuko\"]}, {\"name\": \"Katie\", \"age\": 38, \"pets\": [\"Sixes\", \"Stache\", \"Cisco\"]}]}'"
            ]
          },
          "execution_count": 35,
          "metadata": {},
          "output_type": "execute_result"
        }
      ],
      "source": [
        "asjson=json.dumps(result)\n",
        "asjson"
      ]
    },
    {
      "cell_type": "code",
      "execution_count": 36,
      "metadata": {
        "colab": {
          "base_uri": "https://localhost:8080/",
          "height": 125
        },
        "id": "jH6q5FJcnU3d",
        "outputId": "b8108b26-a5e1-4182-914c-9a3edba0d438"
      },
      "outputs": [
        {
          "data": {
            "text/html": [
              "<div>\n",
              "<style scoped>\n",
              "    .dataframe tbody tr th:only-of-type {\n",
              "        vertical-align: middle;\n",
              "    }\n",
              "\n",
              "    .dataframe tbody tr th {\n",
              "        vertical-align: top;\n",
              "    }\n",
              "\n",
              "    .dataframe thead th {\n",
              "        text-align: right;\n",
              "    }\n",
              "</style>\n",
              "<table border=\"1\" class=\"dataframe\">\n",
              "  <thead>\n",
              "    <tr style=\"text-align: right;\">\n",
              "      <th></th>\n",
              "      <th>name</th>\n",
              "      <th>age</th>\n",
              "    </tr>\n",
              "  </thead>\n",
              "  <tbody>\n",
              "    <tr>\n",
              "      <th>0</th>\n",
              "      <td>Scott</td>\n",
              "      <td>30</td>\n",
              "    </tr>\n",
              "    <tr>\n",
              "      <th>1</th>\n",
              "      <td>Katie</td>\n",
              "      <td>38</td>\n",
              "    </tr>\n",
              "  </tbody>\n",
              "</table>\n",
              "</div>"
            ],
            "text/plain": [
              "    name  age\n",
              "0  Scott   30\n",
              "1  Katie   38"
            ]
          },
          "execution_count": 36,
          "metadata": {},
          "output_type": "execute_result"
        }
      ],
      "source": [
        "siblings=pd.DataFrame(result['siblings'],columns=['name','age'])\n",
        "siblings"
      ]
    },
    {
      "cell_type": "code",
      "execution_count": 37,
      "metadata": {
        "colab": {
          "base_uri": "https://localhost:8080/",
          "height": 125
        },
        "id": "3PZE8IJ6news",
        "outputId": "dea9cba8-7ab8-413e-fcd4-24dd7d15b006"
      },
      "outputs": [
        {
          "data": {
            "text/html": [
              "<div>\n",
              "<style scoped>\n",
              "    .dataframe tbody tr th:only-of-type {\n",
              "        vertical-align: middle;\n",
              "    }\n",
              "\n",
              "    .dataframe tbody tr th {\n",
              "        vertical-align: top;\n",
              "    }\n",
              "\n",
              "    .dataframe thead th {\n",
              "        text-align: right;\n",
              "    }\n",
              "</style>\n",
              "<table border=\"1\" class=\"dataframe\">\n",
              "  <thead>\n",
              "    <tr style=\"text-align: right;\">\n",
              "      <th></th>\n",
              "      <th>name</th>\n",
              "      <th>pets</th>\n",
              "    </tr>\n",
              "  </thead>\n",
              "  <tbody>\n",
              "    <tr>\n",
              "      <th>0</th>\n",
              "      <td>Scott</td>\n",
              "      <td>[Zeus, Zuko]</td>\n",
              "    </tr>\n",
              "    <tr>\n",
              "      <th>1</th>\n",
              "      <td>Katie</td>\n",
              "      <td>[Sixes, Stache, Cisco]</td>\n",
              "    </tr>\n",
              "  </tbody>\n",
              "</table>\n",
              "</div>"
            ],
            "text/plain": [
              "    name                    pets\n",
              "0  Scott            [Zeus, Zuko]\n",
              "1  Katie  [Sixes, Stache, Cisco]"
            ]
          },
          "execution_count": 37,
          "metadata": {},
          "output_type": "execute_result"
        }
      ],
      "source": [
        "siblings1=pd.DataFrame(result['siblings'],columns=['name','pets'])\n",
        "siblings1"
      ]
    },
    {
      "cell_type": "markdown",
      "metadata": {
        "id": "LC1V07FKLlIJ"
      },
      "source": [
        "\n",
        "JSON Data"
      ]
    },
    {
      "cell_type": "code",
      "execution_count": 38,
      "metadata": {
        "colab": {
          "base_uri": "https://localhost:8080/"
        },
        "id": "mE3BEY-5nlwk",
        "outputId": "d5df4501-2914-4110-b0ed-a09f61e76cd9"
      },
      "outputs": [
        {
          "name": "stdout",
          "output_type": "stream",
          "text": [
            "[{\"1\": 2.3, \"a\": [\"b\", \"c\"]}, null, false, true]\n"
          ]
        }
      ],
      "source": [
        "ab=[{1:2.3,'a':('b','c')},None,False,True]\n",
        "print(json.dumps(ab))"
      ]
    },
    {
      "cell_type": "markdown",
      "metadata": {
        "id": "2tZxl_Y3NKgq"
      },
      "source": [
        "หากใส่ object ที่นอกเหนือจากข้างต้นจะไม่สามารถแปลงได้"
      ]
    },
    {
      "cell_type": "code",
      "execution_count": 39,
      "metadata": {
        "colab": {
          "base_uri": "https://localhost:8080/",
          "height": 298
        },
        "id": "klRq7NijnwtU",
        "outputId": "65b7f81a-dcf2-4bde-cb3d-05c6fb0416d8"
      },
      "outputs": [
        {
          "name": "stdout",
          "output_type": "stream",
          "text": [
            "[1, 2]\n"
          ]
        }
      ],
      "source": [
        "def set_default(obj):\n",
        "    if isinstance(obj, set):\n",
        "        return list(obj)\n",
        "    raise TypeError\n",
        "print(json.dumps({2,1}, default=set_default))"
      ]
    },
    {
      "cell_type": "markdown",
      "metadata": {
        "id": "GJC-d9I5NdDy"
      },
      "source": [
        "แต่ถ้าข้อมูลนั้นไม่มีในขอบเขตที่ JSON รับได้สามารถแก้ไขได้โดยใช้ตัวเลือก default เพื่อระบุว่าข้อมูลนั้นเป็น list, str หรืออะไรบางอย่างที่ให้สามารถแปลงเป็น JSON ได้ เช่น"
      ]
    },
    {
      "cell_type": "code",
      "execution_count": 40,
      "metadata": {
        "colab": {
          "base_uri": "https://localhost:8080/"
        },
        "id": "CIMHRe-on1tK",
        "outputId": "ad9d65df-3ebc-4ad4-eebd-054f589b56b3"
      },
      "outputs": [
        {
          "name": "stdout",
          "output_type": "stream",
          "text": [
            "[[1, 2]]\n"
          ]
        }
      ],
      "source": [
        "print(json.dumps([{2,1}],default=list))"
      ]
    },
    {
      "cell_type": "code",
      "execution_count": 41,
      "metadata": {
        "colab": {
          "base_uri": "https://localhost:8080/"
        },
        "id": "JTp_PY1Vn_ps",
        "outputId": "ed429b40-ce0a-4c07-a56c-94357ca51e11"
      },
      "outputs": [
        {
          "name": "stdout",
          "output_type": "stream",
          "text": [
            "[[1, 2], 2]\n",
            "[\"{1, 2}\", 2]\n",
            "[3, 2]\n",
            "[\"1@2\", 2]\n"
          ]
        }
      ],
      "source": [
        "print(json.dumps([{1,2},2],default=list))\n",
        "print(json.dumps([{1,2},2],default=str))\n",
        "print(json.dumps([{1,2},2],default=sum))\n",
        "print(json.dumps([{1,2},2],default=lambda x: '@'.join([str(s) for s in x])))"
      ]
    },
    {
      "cell_type": "code",
      "execution_count": 42,
      "metadata": {
        "colab": {
          "base_uri": "https://localhost:8080/",
          "height": 73
        },
        "id": "uteoL11RoTey",
        "outputId": "21b05f8d-07dd-4448-9eef-700942760e98"
      },
      "outputs": [],
      "source": [
        "import pandas as pd\n",
        "import numpy as np\n",
        "import io\n",
        "\n",
        "# from google.colab import files\n",
        "# uploaded=files.upload()"
      ]
    },
    {
      "cell_type": "code",
      "execution_count": 43,
      "metadata": {
        "colab": {
          "base_uri": "https://localhost:8080/",
          "height": 143
        },
        "id": "RPO2jB8YoePb",
        "outputId": "f8af0ca8-de88-4aed-f10d-053f30c1ff35"
      },
      "outputs": [
        {
          "data": {
            "text/html": [
              "<div>\n",
              "<style scoped>\n",
              "    .dataframe tbody tr th:only-of-type {\n",
              "        vertical-align: middle;\n",
              "    }\n",
              "\n",
              "    .dataframe tbody tr th {\n",
              "        vertical-align: top;\n",
              "    }\n",
              "\n",
              "    .dataframe thead th {\n",
              "        text-align: right;\n",
              "    }\n",
              "</style>\n",
              "<table border=\"1\" class=\"dataframe\">\n",
              "  <thead>\n",
              "    <tr style=\"text-align: right;\">\n",
              "      <th></th>\n",
              "      <th>a</th>\n",
              "      <th>b</th>\n",
              "      <th>c</th>\n",
              "    </tr>\n",
              "  </thead>\n",
              "  <tbody>\n",
              "    <tr>\n",
              "      <th>0</th>\n",
              "      <td>1</td>\n",
              "      <td>2</td>\n",
              "      <td>3</td>\n",
              "    </tr>\n",
              "    <tr>\n",
              "      <th>1</th>\n",
              "      <td>4</td>\n",
              "      <td>5</td>\n",
              "      <td>6</td>\n",
              "    </tr>\n",
              "    <tr>\n",
              "      <th>2</th>\n",
              "      <td>7</td>\n",
              "      <td>8</td>\n",
              "      <td>9</td>\n",
              "    </tr>\n",
              "  </tbody>\n",
              "</table>\n",
              "</div>"
            ],
            "text/plain": [
              "   a  b  c\n",
              "0  1  2  3\n",
              "1  4  5  6\n",
              "2  7  8  9"
            ]
          },
          "execution_count": 43,
          "metadata": {},
          "output_type": "execute_result"
        }
      ],
      "source": [
        "data=pd.read_json('example.json')\n",
        "data"
      ]
    },
    {
      "cell_type": "code",
      "execution_count": 44,
      "metadata": {
        "colab": {
          "base_uri": "https://localhost:8080/"
        },
        "id": "Idec2FYNojPC",
        "outputId": "e1ff8e7f-2763-4051-e230-9d18fedeaaa7"
      },
      "outputs": [
        {
          "name": "stdout",
          "output_type": "stream",
          "text": [
            "{\"a\":{\"0\":1,\"1\":4,\"2\":7},\"b\":{\"0\":2,\"1\":5,\"2\":8},\"c\":{\"0\":3,\"1\":6,\"2\":9}}\n"
          ]
        }
      ],
      "source": [
        "print(data.to_json())"
      ]
    },
    {
      "cell_type": "code",
      "execution_count": 45,
      "metadata": {
        "colab": {
          "base_uri": "https://localhost:8080/"
        },
        "id": "nIL8nZM8olTa",
        "outputId": "2ff7fe52-7db4-4e4a-deb2-a72b55aa2a43"
      },
      "outputs": [
        {
          "name": "stdout",
          "output_type": "stream",
          "text": [
            "[{\"a\":1,\"b\":2,\"c\":3},{\"a\":4,\"b\":5,\"c\":6},{\"a\":7,\"b\":8,\"c\":9}]\n"
          ]
        }
      ],
      "source": [
        "print(data.to_json(orient='records'))"
      ]
    },
    {
      "cell_type": "code",
      "execution_count": null,
      "metadata": {},
      "outputs": [],
      "source": []
    }
  ],
  "metadata": {
    "colab": {
      "provenance": []
    },
    "kernelspec": {
      "display_name": "Python 3",
      "name": "python3"
    },
    "language_info": {
      "codemirror_mode": {
        "name": "ipython",
        "version": 3
      },
      "file_extension": ".py",
      "mimetype": "text/x-python",
      "name": "python",
      "nbconvert_exporter": "python",
      "pygments_lexer": "ipython3",
      "version": "3.12.4"
    }
  },
  "nbformat": 4,
  "nbformat_minor": 0
}
