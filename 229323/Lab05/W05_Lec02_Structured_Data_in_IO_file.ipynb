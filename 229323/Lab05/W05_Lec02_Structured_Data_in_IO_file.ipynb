{
  "cells": [
    {
      "cell_type": "markdown",
      "metadata": {
        "id": "ODXyJNs-rRuA"
      },
      "source": [
        "Upload file on google colab"
      ]
    },
    {
      "cell_type": "code",
      "execution_count": 2,
      "metadata": {
        "colab": {
          "base_uri": "https://localhost:8080/",
          "height": 73
        },
        "id": "Eu_aNuR7rUAQ",
        "outputId": "b7fa73a7-6922-4ee3-cfc7-6c36983c652c"
      },
      "outputs": [],
      "source": [
        "# from google.colab import files\n",
        "# Uploaded=files.upload()\n",
        "import os\n",
        "os.chdir(\"/Users/phutharesuanwachirapisut/Programming/Dataset\")"
      ]
    },
    {
      "cell_type": "markdown",
      "metadata": {
        "id": "DBDN_ngLr-Ku"
      },
      "source": [
        "read() function"
      ]
    },
    {
      "cell_type": "code",
      "execution_count": 3,
      "metadata": {
        "colab": {
          "base_uri": "https://localhost:8080/"
        },
        "id": "Av_Nx2Swroqw",
        "outputId": "85e44b26-3f58-416b-ed0b-f4a1bdfb3b71"
      },
      "outputs": [
        {
          "name": "stdout",
          "output_type": "stream",
          "text": [
            "หมายเลข,สายพันธุ์,ชนิด,ส่วนสูง,น้ำหนัก\n",
            "252,คิโมริ,พืช,0.5,5.0\n",
            "255,อาชาโม,ไฟ,0.4,2.5\n",
            "258,มิซึโงโรว,น้ำ,0.4,7.6\n"
          ]
        }
      ],
      "source": [
        "file=open(\"pokemon.txt\",\"r\") # file = 'pokemon.txt' mode = \"r\"\n",
        "print(file.read())\n"
      ]
    },
    {
      "cell_type": "code",
      "execution_count": 4,
      "metadata": {
        "colab": {
          "base_uri": "https://localhost:8080/"
        },
        "id": "Won8hmz4sDMu",
        "outputId": "5c4dc2d5-ffba-4a2b-d693-bfd07991afb0"
      },
      "outputs": [
        {
          "name": "stdout",
          "output_type": "stream",
          "text": [
            "ห\n"
          ]
        }
      ],
      "source": [
        "file=open(\"pokemon.txt\",\"r\")\n",
        "print(file.read(1))\n"
      ]
    },
    {
      "cell_type": "markdown",
      "metadata": {
        "id": "ObaxjVQ8kFz5"
      },
      "source": [
        "พิมพ์ทีละบรรทัดโดยใช้ for"
      ]
    },
    {
      "cell_type": "code",
      "execution_count": 5,
      "metadata": {
        "colab": {
          "base_uri": "https://localhost:8080/"
        },
        "id": "UsehRh10sGTu",
        "outputId": "2fe46510-ea9c-4870-854b-406ab69e12a5"
      },
      "outputs": [
        {
          "name": "stdout",
          "output_type": "stream",
          "text": [
            "หมายเลข,สายพันธุ์,ชนิด,ส่วนสูง,น้ำหนัก\n",
            "\n",
            "252,คิโมริ,พืช,0.5,5.0\n",
            "\n",
            "255,อาชาโม,ไฟ,0.4,2.5\n",
            "\n",
            "258,มิซึโงโรว,น้ำ,0.4,7.6\n"
          ]
        }
      ],
      "source": [
        "file=open(\"pokemon.txt\",\"r\")\n",
        "for each in file:\n",
        "\tprint(each)\n"
      ]
    },
    {
      "cell_type": "markdown",
      "metadata": {
        "id": "ZbCv0_WEsLse"
      },
      "source": [
        "readline()  - อ่านข้อมูลทีละบรรทัด  "
      ]
    },
    {
      "cell_type": "code",
      "execution_count": 6,
      "metadata": {
        "colab": {
          "base_uri": "https://localhost:8080/",
          "height": 73
        },
        "id": "N7hXVsBLsMhY",
        "outputId": "b9706b42-6c95-4cb1-9f44-f6c9034b824d"
      },
      "outputs": [],
      "source": [
        "# from google.colab import files\n",
        "# Uploaded=files.upload()"
      ]
    },
    {
      "cell_type": "code",
      "execution_count": 7,
      "metadata": {
        "colab": {
          "base_uri": "https://localhost:8080/"
        },
        "id": "aoZnWB9gsp-M",
        "outputId": "594d6fb9-9943-43cc-9ea9-7e51b2775e06"
      },
      "outputs": [
        {
          "name": "stdout",
          "output_type": "stream",
          "text": [
            "name: Kally\n",
            "surname: Brown\n",
            "year: 2020\n",
            "color: blue\n",
            "theme: sky\n"
          ]
        }
      ],
      "source": [
        "file=open('info.txt','r')\n",
        "while True:\n",
        "\ts=file.readline() # อ่านทีละแถวแล้วเก็บไว้ที่ s\n",
        "\tif s=='': #check file end\n",
        "\t  break\n",
        "\t#spliting line to key and value\n",
        "\td = s.rstrip().split('=')\n",
        "\tprint(d[0]+ ': '+d[1])\n",
        "\n",
        "\n",
        "file.close()\n"
      ]
    },
    {
      "cell_type": "markdown",
      "metadata": {
        "id": "GL9F_hYYkVu2"
      },
      "source": [
        "write() function"
      ]
    },
    {
      "cell_type": "code",
      "execution_count": 8,
      "metadata": {
        "id": "9L_jnOEMkYiG"
      },
      "outputs": [],
      "source": [
        "file=open(\"datanew.txt\",\"w\")\n",
        "file.write(\"หมายเลข,สายพันธุ์,ชนิด,ส่วนสูง,น้ำหนัก\\n\")\n",
        "file.write(\"252,คิโมริ,พืช,0.5,5.0\\n\")\n",
        "file.write(\"255,อาชาโม,ไฟ,0.4,2.5\\n\")\n",
        "file.write(\"258,มิซึโงโรว,น้ำ,0.4,7.6\")\n",
        "file.close()\n"
      ]
    },
    {
      "cell_type": "code",
      "execution_count": 9,
      "metadata": {
        "colab": {
          "base_uri": "https://localhost:8080/"
        },
        "id": "DQ-enS01kryN",
        "outputId": "dcff1e72-2840-442b-8525-baf258aeaed7"
      },
      "outputs": [
        {
          "name": "stdout",
          "output_type": "stream",
          "text": [
            "หมายเลข,สายพันธุ์,ชนิด,ส่วนสูง,น้ำหนัก\n",
            "252,คิโมริ,พืช,0.5,5.0\n",
            "255,อาชาโม,ไฟ,0.4,2.5\n",
            "258,มิซึโงโรว,น้ำ,0.4,7.6\n"
          ]
        }
      ],
      "source": [
        "file=open(\"datanew.txt\",\"r\")\n",
        "print(file.read())\n"
      ]
    },
    {
      "cell_type": "markdown",
      "metadata": {
        "id": "i6r4O-Vvk7vE"
      },
      "source": [
        "Example : Writing to Files by function"
      ]
    },
    {
      "cell_type": "code",
      "execution_count": 10,
      "metadata": {
        "colab": {
          "base_uri": "https://localhost:8080/"
        },
        "id": "2sx2GRk-k2qE",
        "outputId": "01959d15-c7c7-405c-8432-81af15b5edf7"
      },
      "outputs": [
        {
          "data": {
            "text/plain": [
              "True"
            ]
          },
          "execution_count": 10,
          "metadata": {},
          "output_type": "execute_result"
        }
      ],
      "source": [
        "def writeFile(filename,contents,mode=\"wt\"):\n",
        "\tfout=None\n",
        "\ttry:\n",
        "\t\tfout=open(filename,mode,encoding='utf-8') # mode คือการเปิดเพื่ออะไร ถ้า mode = \"r\" -> read, mode = \"w\" -> สร้างไฟล์ใหม่ หรือเขียนทับเมื่อมีชื่อไฟล์อยู่แล้ว\n",
        "\t\tfout.write(contents)\n",
        "\tfinally:\n",
        "\t\tif(fout is not None): # เปิดไฟล์ไม่สำเร็จ\n",
        "\t\t\tfout.close()\n",
        "\treturn True\n",
        "\n",
        "writeFile(\"fileout.txt\" ,\t\t      # filename\n",
        "\t\t  \"252,คิโมริ,plant,0.5,5.0\" )\t# content\n",
        "\t\t  \t\n"
      ]
    },
    {
      "cell_type": "code",
      "execution_count": 11,
      "metadata": {
        "id": "tQvsPkmembXh"
      },
      "outputs": [],
      "source": [
        "def writeFile(filename,contents,mode=\"wt\"):\n",
        "\twith open(filename,mode) as fout:\n",
        "\t\tfout.write(contents)\n",
        "writeFile(\"fileout1.txt\",\"252,คิโมริ,plant,0.5,5.0\")\n"
      ]
    },
    {
      "cell_type": "markdown",
      "metadata": {
        "id": "Br7Kedsbmg0H"
      },
      "source": [
        "Example : Reading to Files by function"
      ]
    },
    {
      "cell_type": "code",
      "execution_count": 12,
      "metadata": {
        "colab": {
          "base_uri": "https://localhost:8080/"
        },
        "id": "UczdtTXkmjZI",
        "outputId": "2320e0dc-1d36-4900-8600-d33a7e0622b9"
      },
      "outputs": [
        {
          "name": "stdout",
          "output_type": "stream",
          "text": [
            "252,คิโมริ,plant,0.5,5.0\n",
            "----------------------------\n",
            "252,คิโมริ,plant,0.5,5.0\n"
          ]
        }
      ],
      "source": [
        "def readFile(filename, mode='r'):\n",
        "\tfin=contents=None\n",
        "\ttry:\n",
        "\t\tfin=open(filename,mode,encoding='utf-8')\n",
        "\t\tcontents=fin.read()\n",
        "\texcept:\n",
        "\t\tprint(\"The file does not exist!\")\n",
        "\tfinally:\n",
        "\t\tif(fin is not None):\n",
        "\t\t\tfin.close()\n",
        "\treturn contents\n",
        "\n",
        "data=readFile(\"fileout.txt\")\n",
        "print(data)\n",
        "print(\"----------------------------\")\n",
        "print(readFile(\"fileout.txt\"))\n"
      ]
    },
    {
      "cell_type": "markdown",
      "metadata": {
        "id": "eVbNIw9imrUv"
      },
      "source": [
        "Example : Reading to Files by function"
      ]
    },
    {
      "cell_type": "code",
      "execution_count": 13,
      "metadata": {
        "colab": {
          "base_uri": "https://localhost:8080/"
        },
        "id": "C9fOCjm3mtuf",
        "outputId": "6d21f596-ae59-4f82-be90-ed0ca8ba9c09"
      },
      "outputs": [
        {
          "name": "stdout",
          "output_type": "stream",
          "text": [
            "252,คิโมริ,plant,0.5,5.0\n"
          ]
        }
      ],
      "source": [
        "def readFile(filename, mode='r'):\n",
        "\tfin=contents=None\n",
        "\ttry:\n",
        "\t\twith open(filename,mode,encoding='utf-8') as fin:\n",
        "\t\t\tcontents=fin.read()\n",
        "\texcept:\n",
        "\t\t\tprint(\"The file does not exist!\")\n",
        "\tfinally:\n",
        "\t\t\tif(fin is not None):\n",
        "\t\t\t\tfin.close()\n",
        "\treturn contents\n",
        "print(readFile(\"fileout.txt\"))\n"
      ]
    },
    {
      "cell_type": "markdown",
      "metadata": {
        "id": "38vPiR3bmw1X"
      },
      "source": [
        "Reading from URL"
      ]
    },
    {
      "cell_type": "code",
      "execution_count": 14,
      "metadata": {
        "colab": {
          "base_uri": "https://localhost:8080/"
        },
        "id": "Tm0MCjd6myTn",
        "outputId": "0bdf802a-9001-46a9-a9be-34088de39bed"
      },
      "outputs": [
        {
          "name": "stdout",
          "output_type": "stream",
          "text": [
            "<html><head><title>www.pythons.org</title></head><body><h1>www.pythons.org</h1><p>Coming soon.</p></body></html>\n"
          ]
        }
      ],
      "source": [
        "import urllib.request\n",
        "def readWebPage(urlStr):\n",
        "\tassert(urlStr.startswith(\"http://\"))\n",
        "\tfilehandler = contents = None\n",
        "\ttry:\n",
        "\t\tfilehandler=urllib.request.urlopen(urlStr) # open url \n",
        "\t\tcontents=filehandler.read() # read\n",
        "\t\tcontents=contents.decode('utf-8') # encript\n",
        "\tfinally:\n",
        "\t\tif(filehandler is not None): # ถ้าเปิดไฟล์สำเร็จ\n",
        "\t\t\tfilehandler.close()\n",
        "\treturn contents\n",
        "print(readWebPage(\"http://www.pythons.org\")[:200])\n"
      ]
    },
    {
      "cell_type": "markdown",
      "metadata": {
        "id": "NwYH5IG9m0qf"
      },
      "source": [
        "Reading from URL[2]"
      ]
    },
    {
      "cell_type": "code",
      "execution_count": 15,
      "metadata": {
        "colab": {
          "base_uri": "https://localhost:8080/"
        },
        "id": "XFtDUc0hm28e",
        "outputId": "f2a229dd-aa3f-4a62-8bfd-9d8b62558bc1"
      },
      "outputs": [
        {
          "name": "stdout",
          "output_type": "stream",
          "text": [
            "b'<html><head><title>www.pythons.org</title></head><body><h1>www.pythons.org</h1><p>Coming soon.</p></body></html>'\n"
          ]
        }
      ],
      "source": [
        "import urllib.request\n",
        "import contextlib\n",
        "\n",
        "def readWebPage(url):\n",
        "\tassert(url.startswith(\"http://\"))\n",
        "\twith contextlib.closing(urllib.request.urlopen(url)) as fin:\n",
        "\t\treturn fin.read()\n",
        "print(readWebPage(\"http://www.pythons.org\")[:200])\n"
      ]
    },
    {
      "cell_type": "markdown",
      "metadata": {
        "id": "AS_Qudrjm4uG"
      },
      "source": [
        "Writer()"
      ]
    },
    {
      "cell_type": "code",
      "execution_count": 16,
      "metadata": {
        "id": "0nhfalSWm6H-"
      },
      "outputs": [],
      "source": [
        "import csv\n",
        "persons=[('Ann',1,13),('Bill',4,30), ('Tome',2,15), ('Jim',4,23)]\n",
        "csvfile=open('person.csv','w',newline='')\n",
        "obj=csv.writer(csvfile)\n",
        "for person in persons:\n",
        "\tobj.writerow(person)\n",
        "csvfile.close()\n"
      ]
    },
    {
      "cell_type": "markdown",
      "metadata": {
        "id": "Tqw_tZNqm7vu"
      },
      "source": [
        "Reader()\n",
        "\n"
      ]
    },
    {
      "cell_type": "code",
      "execution_count": 17,
      "metadata": {
        "colab": {
          "base_uri": "https://localhost:8080/"
        },
        "id": "svaYcyaoMoKu",
        "outputId": "2769fd63-eaae-4c0c-b914-e2d4f3602db2"
      },
      "outputs": [
        {
          "name": "stdout",
          "output_type": "stream",
          "text": [
            "['Ann', '1', '13']\n",
            "['Bill', '4', '30']\n",
            "['Tome', '2', '15']\n",
            "['Jim', '4', '23']\n"
          ]
        }
      ],
      "source": [
        "csvfile=open('person.csv', 'r',newline='')\n",
        "obj=csv.reader(csvfile)\n",
        "for line in obj:\n",
        "\tprint(line)"
      ]
    },
    {
      "cell_type": "code",
      "execution_count": 24,
      "metadata": {},
      "outputs": [
        {
          "data": {
            "text/html": [
              "<div>\n",
              "<style scoped>\n",
              "    .dataframe tbody tr th:only-of-type {\n",
              "        vertical-align: middle;\n",
              "    }\n",
              "\n",
              "    .dataframe tbody tr th {\n",
              "        vertical-align: top;\n",
              "    }\n",
              "\n",
              "    .dataframe thead th {\n",
              "        text-align: right;\n",
              "    }\n",
              "</style>\n",
              "<table border=\"1\" class=\"dataframe\">\n",
              "  <thead>\n",
              "    <tr style=\"text-align: right;\">\n",
              "      <th></th>\n",
              "      <th>1</th>\n",
              "      <th>13</th>\n",
              "    </tr>\n",
              "    <tr>\n",
              "      <th>Ann</th>\n",
              "      <th></th>\n",
              "      <th></th>\n",
              "    </tr>\n",
              "  </thead>\n",
              "  <tbody>\n",
              "    <tr>\n",
              "      <th>Bill</th>\n",
              "      <td>4</td>\n",
              "      <td>30</td>\n",
              "    </tr>\n",
              "    <tr>\n",
              "      <th>Tome</th>\n",
              "      <td>2</td>\n",
              "      <td>15</td>\n",
              "    </tr>\n",
              "    <tr>\n",
              "      <th>Jim</th>\n",
              "      <td>4</td>\n",
              "      <td>23</td>\n",
              "    </tr>\n",
              "  </tbody>\n",
              "</table>\n",
              "</div>"
            ],
            "text/plain": [
              "      1  13\n",
              "Ann        \n",
              "Bill  4  30\n",
              "Tome  2  15\n",
              "Jim   4  23"
            ]
          },
          "execution_count": 24,
          "metadata": {},
          "output_type": "execute_result"
        }
      ],
      "source": [
        "import pandas as pd\n",
        "pd.read_csv(\"person.csv\",index_col=\"Ann\")"
      ]
    },
    {
      "cell_type": "code",
      "execution_count": null,
      "metadata": {},
      "outputs": [],
      "source": []
    }
  ],
  "metadata": {
    "colab": {
      "provenance": []
    },
    "kernelspec": {
      "display_name": "Python 3",
      "name": "python3"
    },
    "language_info": {
      "codemirror_mode": {
        "name": "ipython",
        "version": 3
      },
      "file_extension": ".py",
      "mimetype": "text/x-python",
      "name": "python",
      "nbconvert_exporter": "python",
      "pygments_lexer": "ipython3",
      "version": "3.12.4"
    }
  },
  "nbformat": 4,
  "nbformat_minor": 0
}
