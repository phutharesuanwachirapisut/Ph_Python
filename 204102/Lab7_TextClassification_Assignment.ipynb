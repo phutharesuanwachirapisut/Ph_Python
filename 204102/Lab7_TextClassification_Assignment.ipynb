{
  "cells": [
    {
      "cell_type": "markdown",
      "metadata": {
        "id": "Bx8Q19d7BYyx"
      },
      "source": [
        "## การทำ Text classification\n",
        "\n",
        "\n",
        "\n"
      ]
    },
    {
      "cell_type": "markdown",
      "source": [
        "ติดตั้ง Libraries สำหรับจัดการข้อมูลประเภทข้อความภาษาอังกฤษ"
      ],
      "metadata": {
        "id": "GQWGlVzxQ00d"
      }
    },
    {
      "cell_type": "code",
      "source": [
        "import nltk\n",
        "nltk.download('stopwords')\n",
        "nltk.download('punkt')\n",
        "from nltk import  word_tokenize\n",
        "from nltk.corpus import stopwords\n",
        "import spacy\n",
        "import string\n",
        "import re\n"
      ],
      "metadata": {
        "id": "K91X0m2uCilI",
        "colab": {
          "base_uri": "https://localhost:8080/"
        },
        "outputId": "6fe56ed9-b5f2-4687-dd97-22f8daa6e5ff"
      },
      "execution_count": 9,
      "outputs": [
        {
          "output_type": "stream",
          "name": "stderr",
          "text": [
            "[nltk_data] Downloading package stopwords to /root/nltk_data...\n",
            "[nltk_data]   Package stopwords is already up-to-date!\n",
            "[nltk_data] Downloading package punkt to /root/nltk_data...\n",
            "[nltk_data]   Package punkt is already up-to-date!\n"
          ]
        }
      ]
    },
    {
      "cell_type": "markdown",
      "source": [
        "ทำการเชื่อม Google Drive"
      ],
      "metadata": {
        "id": "EnWik8b7Sz0G"
      }
    },
    {
      "cell_type": "code",
      "source": [
        "from google.colab import drive\n",
        "\n",
        "drive.mount('/content/gdrive')"
      ],
      "metadata": {
        "id": "iBdEOrBLStx3",
        "colab": {
          "base_uri": "https://localhost:8080/"
        },
        "outputId": "0e70f648-3983-4cb5-9ce4-8accd2492010"
      },
      "execution_count": 10,
      "outputs": [
        {
          "output_type": "stream",
          "name": "stdout",
          "text": [
            "Drive already mounted at /content/gdrive; to attempt to forcibly remount, call drive.mount(\"/content/gdrive\", force_remount=True).\n"
          ]
        }
      ]
    },
    {
      "cell_type": "markdown",
      "source": [
        "ระบุ Folder ใน Drive ที่ต้องการใช้"
      ],
      "metadata": {
        "id": "YSfUW4UlEMn4"
      }
    },
    {
      "cell_type": "code",
      "source": [
        "import os\n",
        "os.chdir(\"/content/gdrive/My Drive/Colab Notebooks\")"
      ],
      "metadata": {
        "id": "v934qbfOEOHp"
      },
      "execution_count": 11,
      "outputs": []
    },
    {
      "cell_type": "markdown",
      "source": [
        "อ่านข้อมูลจากไฟล์"
      ],
      "metadata": {
        "id": "DzBiBg8VEP5h"
      }
    },
    {
      "cell_type": "code",
      "source": [
        "import pandas as pd\n",
        "\n",
        "data = pd.read_csv(\"...................\",encoding='latin-1')\n",
        "print(.....)"
      ],
      "metadata": {
        "id": "U0_QiYTkEUCe",
        "colab": {
          "base_uri": "https://localhost:8080/"
        },
        "outputId": "6bd10b0f-444f-454b-ba36-0b4b342438cd"
      },
      "execution_count": 19,
      "outputs": [
        {
          "output_type": "stream",
          "name": "stdout",
          "text": [
            "                                               Content      Topic\n",
            "0    Thermochemistry was challenging, but I enjoyed...  Chemistry\n",
            "1    Learning about gravitational forces was intere...    Physics\n",
            "2    Wave-particle duality was a bit confusing, but...    Physics\n",
            "3    Learning about gravitational forces was intere...    Physics\n",
            "4    The lecture on nuclear physics was fascinating...    Physics\n",
            "..                                                 ...        ...\n",
            "295  I loved learning about Newton's laws, especial...    Physics\n",
            "296  Chemical bonding was hard, but once I got the ...  Chemistry\n",
            "297  Stoichiometry was tough at first, but with pra...  Chemistry\n",
            "298  The explanation of quantum mechanics was reall...    Physics\n",
            "299  Electromagnetism was hard at first, but the vi...    Physics\n",
            "\n",
            "[300 rows x 2 columns]\n"
          ]
        }
      ]
    },
    {
      "cell_type": "markdown",
      "source": [
        "# Data Preprocessing  สร้างเป็นฟังก์ชันเพื่อเรียกใช้ซ้ำ"
      ],
      "metadata": {
        "id": "3h5Vz-bEVppo"
      }
    },
    {
      "cell_type": "code",
      "source": [
        "def data_preprocessing(cleaned_data):\n",
        "    # กำจัด URL\n",
        "    cleaned_data = \" \".join(re.sub(r\"https?://[A-Za-z0-9./]+\", '', w ) for w in cleaned_data.split())\n",
        "\n",
        "    # แปลงข้อมูลเป็นตัวพิมพ์เล็ก ... lower case\n",
        "    cleaned_data = \" \".join(w.lower() for w in cleaned_data.split())\n",
        "\n",
        "    # Lemmatization ด้วย Spacy\n",
        "    nlp = spacy.load(\"en_core_web_sm\")\n",
        "    cleaned_data =  \" \".join([w.lemma_ for w in nlp(cleaned_data) if w.lemma_ != \"-PRON-\"])\n",
        "\n",
        "    # กำจัด stop words\n",
        "    stop = stopwords.words('english')\n",
        "    cleaned_data = \" \".join(w for w in word_tokenize(cleaned_data) if w not in stop)\n",
        "\n",
        "    # ตัดเครื่องหมายวรรคตอน ... remove punctuation\n",
        "    cleaned_data =  \" \".join([w for w in cleaned_data.split() if w not in list(string.punctuation)])\n",
        "\n",
        "    # กำจัดตัวเลข\n",
        "    cleaned_data = \" \".join(re.sub(r\"[0-9.]+%\", '', w ) for w in cleaned_data.split())\n",
        "\n",
        "    # กำจัดข้อความหลัง ' เครื่องหมาย aposophi\n",
        "    cleaned_data = \" \".join(re.sub(r\"(')[A-Za-z]+\", '', w ) for w in cleaned_data.split())\n",
        "\n",
        "    return cleaned_data"
      ],
      "metadata": {
        "id": "Aw256l6Gv95T"
      },
      "execution_count": 20,
      "outputs": []
    },
    {
      "cell_type": "markdown",
      "source": [
        "เรียกใช้งานฟังก์ชัน data_preprocessing"
      ],
      "metadata": {
        "id": "HOx6ShWZwXDL"
      }
    },
    {
      "cell_type": "code",
      "source": [
        ".................... = data['Content'].apply(data_preprocessing)\n",
        "# แสดงผลข้อมูลหลังจาก Data Preprocessing\n",
        "print(data)"
      ],
      "metadata": {
        "id": "y1CYS3c4wZB7",
        "colab": {
          "base_uri": "https://localhost:8080/"
        },
        "outputId": "95d9bdb7-4286-422f-8eba-2b1fe4818d42"
      },
      "execution_count": 21,
      "outputs": [
        {
          "output_type": "stream",
          "name": "stdout",
          "text": [
            "                                               Content      Topic\n",
            "0    thermochemistry challenge I enjoy energy conce...  Chemistry\n",
            "1    learn gravitational force interesting especial...    Physics\n",
            "2    wave particle duality bit confusing start make...    Physics\n",
            "3    learn gravitational force interesting especial...    Physics\n",
            "4    lecture nuclear physics fascinating I wish tim...    Physics\n",
            "..                                                 ...        ...\n",
            "295  I love learn newton  law especially apply ever...    Physics\n",
            "296        chemical bonding hard I get hang make sense  Chemistry\n",
            "297  stoichiometry tough first practice become much...  Chemistry\n",
            "298  explanation quantum mechanic really challenge ...    Physics\n",
            "299    electromagnetism hard first visual aid help lot    Physics\n",
            "\n",
            "[300 rows x 2 columns]\n"
          ]
        }
      ]
    },
    {
      "cell_type": "markdown",
      "source": [
        "# สร้าง TF-IDF vectors"
      ],
      "metadata": {
        "id": "l3FIFZ9YCsMY"
      }
    },
    {
      "cell_type": "code",
      "source": [
        "from sklearn import preprocessing\n",
        "from sklearn.feature_extraction.text import CountVectorizer,TfidfVectorizer\n",
        "encoder = preprocessing.LabelEncoder()\n",
        "y = encoder.fit_transform(data['.....'])\n",
        "\n",
        "tfidf_vect = TfidfVectorizer(max_features=5000)\n",
        "tfidf_vect.fit(data['......'])\n",
        "x_tfidf = tfidf_vect.transform(data['......'])\n",
        "print(x_tfidf[0:5] )\n"
      ],
      "metadata": {
        "id": "NH_bLKmgCsYR",
        "colab": {
          "base_uri": "https://localhost:8080/"
        },
        "outputId": "4cf7c4ad-64b0-4c63-852b-b8357e573ef3"
      },
      "execution_count": 23,
      "outputs": [
        {
          "output_type": "stream",
          "name": "stdout",
          "text": [
            "  (0, 137)\t0.45149947112581157\n",
            "  (0, 49)\t0.30167565897793336\n",
            "  (0, 47)\t0.45149947112581157\n",
            "  (0, 32)\t0.45149947112581157\n",
            "  (0, 30)\t0.39640161591299483\n",
            "  (0, 21)\t0.3745694039842729\n",
            "  (1, 129)\t0.40596157812398387\n",
            "  (1, 122)\t0.40596157812398387\n",
            "  (1, 85)\t0.23006669018098255\n",
            "  (1, 81)\t0.3281878546529126\n",
            "  (1, 71)\t0.40596157812398387\n",
            "  (1, 66)\t0.40596157812398387\n",
            "  (1, 56)\t0.3344430668508549\n",
            "  (1, 53)\t0.2613248428894952\n",
            "  (2, 150)\t0.3503599310144611\n",
            "  (2, 130)\t0.3503599310144611\n",
            "  (2, 125)\t0.3048070180760691\n",
            "  (2, 106)\t0.3503599310144611\n",
            "  (2, 92)\t0.2221009646526352\n",
            "  (2, 39)\t0.3503599310144611\n",
            "  (2, 36)\t0.2942767314912226\n",
            "  (2, 31)\t0.3503599310144611\n",
            "  (2, 25)\t0.2942767314912226\n",
            "  (2, 15)\t0.26609368187790555\n",
            "  (3, 129)\t0.40596157812398387\n",
            "  (3, 122)\t0.40596157812398387\n",
            "  (3, 85)\t0.23006669018098255\n",
            "  (3, 81)\t0.3281878546529126\n",
            "  (3, 71)\t0.40596157812398387\n",
            "  (3, 66)\t0.40596157812398387\n",
            "  (3, 56)\t0.3344430668508549\n",
            "  (3, 53)\t0.2613248428894952\n",
            "  (4, 151)\t0.40104249665289354\n",
            "  (4, 141)\t0.40104249665289354\n",
            "  (4, 112)\t0.3339322413871893\n",
            "  (4, 109)\t0.40104249665289354\n",
            "  (4, 100)\t0.40104249665289354\n",
            "  (4, 86)\t0.3501063564659912\n",
            "  (4, 61)\t0.3501063564659912\n"
          ]
        }
      ]
    },
    {
      "cell_type": "markdown",
      "source": [
        "สร้าง Training และ Testing set"
      ],
      "metadata": {
        "id": "7OlmBpeHIcZH"
      }
    },
    {
      "cell_type": "code",
      "source": [
        "# Split the data into train and validation\n",
        "from sklearn import model_selection\n",
        "X_train, X_test, y_train, y_test = model_selection.train_test_split(x_tfidf, y)\n"
      ],
      "metadata": {
        "id": "ydPsWmCsHcej"
      },
      "execution_count": 24,
      "outputs": []
    },
    {
      "cell_type": "code",
      "source": [
        "from sklearn.metrics import accuracy_score\n",
        "import matplotlib.pyplot as plt\n",
        "# Model building and evaluation\n",
        "from sklearn.naive_bayes import MultinomialNB\n",
        "from sklearn.svm import SVC\n",
        "from sklearn.linear_model import LogisticRegression\n",
        "from sklearn.ensemble import RandomForestClassifier\n",
        "models = []\n",
        "models.append(('NB', MultinomialNB()))\n",
        "models.append(('Log-reg', LogisticRegression()))\n",
        "models.append(('SVC', SVC()))\n",
        "models.append(('RandomForest', RandomForestClassifier()))\n",
        "\n",
        "\n",
        "# evaluate each model in turn\n",
        "results = []\n",
        "names = []\n",
        "scoring = 'accuracy'\n",
        "for name, clf in models:\n",
        "  model = clf\n",
        "  model.fit(X_train,y_train)\n",
        "  Predited_class = model.predict(X_test)\n",
        "  accuracy=accuracy_score(y_test, Predited_class)\n",
        "  results.append(accuracy)\n",
        "  names.append(name)\n",
        "  msg = \"%s: %f \" % (name, accuracy)\n",
        "  print(msg)\n",
        "# boxplot algorithm comparison\n",
        "fig = plt.figure()\n",
        "fig.suptitle('Algorithm Comparison')\n",
        "ax = fig.add_subplot(111)\n",
        "plt.bar(names,results)\n",
        "\n",
        "plt.show()"
      ],
      "metadata": {
        "id": "OmlqGEKvIBdK",
        "colab": {
          "base_uri": "https://localhost:8080/",
          "height": 547
        },
        "outputId": "433979fc-2c68-4507-bd78-208afba9adde"
      },
      "execution_count": 25,
      "outputs": [
        {
          "output_type": "stream",
          "name": "stdout",
          "text": [
            "NB: 0.960000 \n",
            "Log-reg: 1.000000 \n",
            "SVC: 1.000000 \n",
            "RandomForest: 1.000000 \n"
          ]
        },
        {
          "output_type": "display_data",
          "data": {
            "text/plain": [
              "<Figure size 640x480 with 1 Axes>"
            ],
            "image/png": "[encoded data removed]"
          },
          "metadata": {}
        }
      ]
    },
    {
      "cell_type": "markdown",
      "source": [
        "# Apply the best model"
      ],
      "metadata": {
        "id": "EswV0TgGeZ9C"
      }
    },
    {
      "cell_type": "code",
      "source": [
        "model = MultinomialNB()\n",
        "model.fit(X_train,y_train)"
      ],
      "metadata": {
        "id": "8mrt50jZbSB8"
      },
      "execution_count": null,
      "outputs": []
    },
    {
      "cell_type": "markdown",
      "source": [
        "Appication form for data classifcaion"
      ],
      "metadata": {
        "id": "rxOLZu8CdUHZ"
      }
    },
    {
      "cell_type": "code",
      "source": [
        "#@title Enter Content\n",
        "Content = \"I  do not like it\" #@param {type:\"string\"}\n",
        "# use the classifier to predict the sentiment of given text\n",
        "Content = data_preprocessing(Content)\n",
        "xtest_tfidf = tfidf_vect.transform([Content])\n",
        "result = model.predict(xtest_tfidf)\n",
        "\n",
        "result = encoder.inverse_transform(result)\n",
        "if ...................\n",
        "      print(\"....................\")\n",
        "elif ..................... :\n",
        "      print(\"....................\")\n",
        "\n"
      ],
      "metadata": {
        "id": "yt4381h3bbla"
      },
      "execution_count": null,
      "outputs": []
    }
  ],
  "metadata": {
    "kernelspec": {
      "display_name": "Python 3",
      "language": "python",
      "name": "python3"
    },
    "language_info": {
      "codemirror_mode": {
        "name": "ipython",
        "version": 3
      },
      "file_extension": ".py",
      "mimetype": "text/x-python",
      "name": "python",
      "nbconvert_exporter": "python",
      "pygments_lexer": "ipython3",
      "version": "3.8.3"
    },
    "colab": {
      "provenance": []
    }
  },
  "nbformat": 4,
  "nbformat_minor": 0
}